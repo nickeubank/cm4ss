{
 "cells": [
  {
   "cell_type": "markdown",
   "id": "d412f858",
   "metadata": {},
   "source": [
    "# Merging & Appending\n",
    "\n",
    "This tutorial explains how to combine datasets by merging or appending them. Merging means transferring *columns* from one dataset to another, while appending means transferring *rows* from one dataset to another. These are two important tasks since datasets only very rarely come with all the information we need. \n"
   ]
  },
  {
   "cell_type": "markdown",
   "id": "c58578c5",
   "metadata": {},
   "source": [
    "## Merging\n",
    "\n",
    "\n",
    "Say you're interested in how economic development affects democracy\n",
    "across countries, but all you have are two separate datasets on these\n",
    "two factors. What you need to do is to combine the two.  When you're\n",
    "done with this, you also need information on what world region each\n",
    "country is located in. These tasks can be accomplished with one-to-one\n",
    "merging and one-to-many merging."
   ]
  },
  {
   "cell_type": "markdown",
   "id": "2f6821e4",
   "metadata": {},
   "source": [
    "One-to-one merging\n",
    "--------------------\n",
    "\n",
    "To illustrate, say you had two datasets that look like this: "
   ]
  },
  {
   "cell_type": "code",
   "execution_count": null,
   "id": "87eb1884",
   "metadata": {},
   "outputs": [],
   "source": [
    "# Generate toy dataset 1: \n",
    "demo <- data.frame(\n",
    "    country = c(\"USA\", \"Albania\", \"Turkey\", \"China\", \"Sudan\"),\n",
    "    democracy_score = c(19, 16, 16, 5, 10)\n",
    "    )\n",
    "demo\n",
    "\n",
    "# Generate toy dataset 2: \n",
    "econ <- data.frame(\n",
    "    country = c(\"China\", \"Albania\", \"Turkey\", \"USA\", \"Sudan\"),\n",
    "    gdp_pc = c(12000, 10000, 9000, 20000, 500)\n",
    "    )\n",
    "econ"
   ]
  },
  {
   "cell_type": "markdown",
   "id": "39f6abb9",
   "metadata": {
    "lines_to_next_cell": 0
   },
   "source": [
    "We can merge these datasets using R's `merge()` command, where `by` specifies\n",
    "the variable the two datasets has in common (usually called an \"ID\" variable):"
   ]
  },
  {
   "cell_type": "code",
   "execution_count": null,
   "id": "a07e54a7",
   "metadata": {},
   "outputs": [],
   "source": [
    "df <- merge(demo, econ, by = \"country\")\n",
    "df"
   ]
  },
  {
   "cell_type": "markdown",
   "id": "9bb79514",
   "metadata": {},
   "source": [
    "You can merge on more than one variable. Say you had two datasets that look \n",
    "like this:"
   ]
  },
  {
   "cell_type": "code",
   "execution_count": null,
   "id": "1ec3981a",
   "metadata": {},
   "outputs": [],
   "source": [
    "# Generate toy dataset 1: \n",
    "demo <- data.frame(\n",
    "    expand.grid(country = c(\"USA\", \"China\", \"Sudan\"), year = 1994:1996),\n",
    "    democracy_score = round(runif(9, 0, 20), 0)\n",
    "    )\n",
    "demo\n",
    "\n",
    "# Generate toy dataset 2: \n",
    "econ <- data.frame(\n",
    "    expand.grid(year = 1994:1996, country = c(\"USA\", \"China\", \"Sudan\")),\n",
    "    gdp_pc = round(runif(9, 1000, 20000), 0)\n",
    "    )\n",
    "econ\n",
    "\n",
    "merge(demo, econ, by = c(\"country\", \"year\"))"
   ]
  },
  {
   "cell_type": "markdown",
   "id": "dbba6abf",
   "metadata": {},
   "source": [
    "Here, we're merging on both country and year. \n",
    "\n",
    "If one of the data frames has missing observations, only observations \n",
    "the two data frames have in common will be kept when merging, unless\n",
    "you specify `all.x`, `all.y`, or `all`: "
   ]
  },
  {
   "cell_type": "code",
   "execution_count": null,
   "id": "4d2346f8",
   "metadata": {
    "lines_to_next_cell": 2
   },
   "outputs": [],
   "source": [
    "econ <- econ[-c(5, 9), ] #delete obs. 5 & 9 for illustrative purposes\n",
    "econ\n",
    "dim(demo) #different number of observations (rows) than 'econ'\n",
    "dim(econ) #different number of observations (rows) than 'demo'          \n",
    "\n",
    "merge(demo, econ, by = c(\"country\", \"year\")) #keep only matching observations \n",
    "merge(demo, econ, by = c(\"country\", \"year\"), all.x = TRUE) #keep all observations in 'demo'"
   ]
  },
  {
   "cell_type": "markdown",
   "id": "f9b26a5e",
   "metadata": {},
   "source": [
    "One-to-many merging\n",
    "------------------------\n",
    "\n",
    "In the previous examples the ID variables we used for merging uniquely \n",
    "identified observations in each data frame. This is called one-to-one\n",
    "merging. \n",
    "\n",
    "Sometimes we need to do things slightly differently, using one-to-many merging. \n",
    "Say, for example, we have the following two data frames: "
   ]
  },
  {
   "cell_type": "code",
   "execution_count": null,
   "id": "396a78e4",
   "metadata": {},
   "outputs": [],
   "source": [
    "demo <- data.frame(\n",
    "    expand.grid(country = c(\"USA\", \"China\", \"Sudan\"), year = 1994:1996),\n",
    "    democracy_score = round(runif(9, 0, 20), 0)\n",
    "    )\n",
    "demo\n",
    "\n",
    "region <- data.frame(\n",
    "    country = c(\"USA\", \"China\", \"Sudan\"), \n",
    "    region = c(\"America\", \"Asia\", \"Africa\")\n",
    "    )\n",
    "region"
   ]
  },
  {
   "cell_type": "markdown",
   "id": "634c68b3",
   "metadata": {},
   "source": [
    "A one-to-many merge of these data frames would look like this: "
   ]
  },
  {
   "cell_type": "code",
   "execution_count": null,
   "id": "a28d549f",
   "metadata": {
    "lines_to_next_cell": 2
   },
   "outputs": [],
   "source": [
    "merge(demo, region, by = \"country\")"
   ]
  },
  {
   "cell_type": "markdown",
   "id": "c90afbd0",
   "metadata": {},
   "source": [
    "## Appending\n",
    "\n",
    "\n",
    "Appending means matching datasets vertically. We can do this in R using \n",
    "`rbind()`. The two dataframes you're appending must have identical \n",
    "variable names. Here's an example: "
   ]
  },
  {
   "cell_type": "code",
   "execution_count": 1,
   "id": "1c094927",
   "metadata": {
    "lines_to_next_cell": 0
   },
   "outputs": [
    {
     "data": {
      "text/html": [
       "<table class=\"dataframe\">\n",
       "<caption>A data.frame: 22 × 2</caption>\n",
       "<thead>\n",
       "\t<tr><th></th><th scope=col>year</th><th scope=col>country</th></tr>\n",
       "\t<tr><th></th><th scope=col>&lt;int&gt;</th><th scope=col>&lt;chr&gt;</th></tr>\n",
       "</thead>\n",
       "<tbody>\n",
       "\t<tr><th scope=row>1</th><td>1990</td><td>country1</td></tr>\n",
       "\t<tr><th scope=row>2</th><td>1991</td><td>country1</td></tr>\n",
       "\t<tr><th scope=row>3</th><td>1992</td><td>country1</td></tr>\n",
       "\t<tr><th scope=row>4</th><td>1993</td><td>country1</td></tr>\n",
       "\t<tr><th scope=row>5</th><td>1994</td><td>country1</td></tr>\n",
       "\t<tr><th scope=row>6</th><td>1995</td><td>country1</td></tr>\n",
       "\t<tr><th scope=row>13</th><td>1996</td><td>country1</td></tr>\n",
       "\t<tr><th scope=row>14</th><td>1997</td><td>country1</td></tr>\n",
       "\t<tr><th scope=row>15</th><td>1998</td><td>country1</td></tr>\n",
       "\t<tr><th scope=row>16</th><td>1999</td><td>country1</td></tr>\n",
       "\t<tr><th scope=row>17</th><td>2000</td><td>country1</td></tr>\n",
       "\t<tr><th scope=row>7</th><td>1990</td><td>country2</td></tr>\n",
       "\t<tr><th scope=row>8</th><td>1991</td><td>country2</td></tr>\n",
       "\t<tr><th scope=row>9</th><td>1992</td><td>country2</td></tr>\n",
       "\t<tr><th scope=row>10</th><td>1993</td><td>country2</td></tr>\n",
       "\t<tr><th scope=row>11</th><td>1994</td><td>country2</td></tr>\n",
       "\t<tr><th scope=row>12</th><td>1995</td><td>country2</td></tr>\n",
       "\t<tr><th scope=row>18</th><td>1996</td><td>country2</td></tr>\n",
       "\t<tr><th scope=row>19</th><td>1997</td><td>country2</td></tr>\n",
       "\t<tr><th scope=row>20</th><td>1998</td><td>country2</td></tr>\n",
       "\t<tr><th scope=row>21</th><td>1999</td><td>country2</td></tr>\n",
       "\t<tr><th scope=row>22</th><td>2000</td><td>country2</td></tr>\n",
       "</tbody>\n",
       "</table>\n"
      ],
      "text/latex": [
       "A data.frame: 22 × 2\n",
       "\\begin{tabular}{r|ll}\n",
       "  & year & country\\\\\n",
       "  & <int> & <chr>\\\\\n",
       "\\hline\n",
       "\t1 & 1990 & country1\\\\\n",
       "\t2 & 1991 & country1\\\\\n",
       "\t3 & 1992 & country1\\\\\n",
       "\t4 & 1993 & country1\\\\\n",
       "\t5 & 1994 & country1\\\\\n",
       "\t6 & 1995 & country1\\\\\n",
       "\t13 & 1996 & country1\\\\\n",
       "\t14 & 1997 & country1\\\\\n",
       "\t15 & 1998 & country1\\\\\n",
       "\t16 & 1999 & country1\\\\\n",
       "\t17 & 2000 & country1\\\\\n",
       "\t7 & 1990 & country2\\\\\n",
       "\t8 & 1991 & country2\\\\\n",
       "\t9 & 1992 & country2\\\\\n",
       "\t10 & 1993 & country2\\\\\n",
       "\t11 & 1994 & country2\\\\\n",
       "\t12 & 1995 & country2\\\\\n",
       "\t18 & 1996 & country2\\\\\n",
       "\t19 & 1997 & country2\\\\\n",
       "\t20 & 1998 & country2\\\\\n",
       "\t21 & 1999 & country2\\\\\n",
       "\t22 & 2000 & country2\\\\\n",
       "\\end{tabular}\n"
      ],
      "text/markdown": [
       "\n",
       "A data.frame: 22 × 2\n",
       "\n",
       "| <!--/--> | year &lt;int&gt; | country &lt;chr&gt; |\n",
       "|---|---|---|\n",
       "| 1 | 1990 | country1 |\n",
       "| 2 | 1991 | country1 |\n",
       "| 3 | 1992 | country1 |\n",
       "| 4 | 1993 | country1 |\n",
       "| 5 | 1994 | country1 |\n",
       "| 6 | 1995 | country1 |\n",
       "| 13 | 1996 | country1 |\n",
       "| 14 | 1997 | country1 |\n",
       "| 15 | 1998 | country1 |\n",
       "| 16 | 1999 | country1 |\n",
       "| 17 | 2000 | country1 |\n",
       "| 7 | 1990 | country2 |\n",
       "| 8 | 1991 | country2 |\n",
       "| 9 | 1992 | country2 |\n",
       "| 10 | 1993 | country2 |\n",
       "| 11 | 1994 | country2 |\n",
       "| 12 | 1995 | country2 |\n",
       "| 18 | 1996 | country2 |\n",
       "| 19 | 1997 | country2 |\n",
       "| 20 | 1998 | country2 |\n",
       "| 21 | 1999 | country2 |\n",
       "| 22 | 2000 | country2 |\n",
       "\n"
      ],
      "text/plain": [
       "   year country \n",
       "1  1990 country1\n",
       "2  1991 country1\n",
       "3  1992 country1\n",
       "4  1993 country1\n",
       "5  1994 country1\n",
       "6  1995 country1\n",
       "13 1996 country1\n",
       "14 1997 country1\n",
       "15 1998 country1\n",
       "16 1999 country1\n",
       "17 2000 country1\n",
       "7  1990 country2\n",
       "8  1991 country2\n",
       "9  1992 country2\n",
       "10 1993 country2\n",
       "11 1994 country2\n",
       "12 1995 country2\n",
       "18 1996 country2\n",
       "19 1997 country2\n",
       "20 1998 country2\n",
       "21 1999 country2\n",
       "22 2000 country2"
      ]
     },
     "metadata": {},
     "output_type": "display_data"
    }
   ],
   "source": [
    "df1 <- data.frame(\n",
    "    year = rep(1990:1995, 2),\n",
    "    country = c(rep(\"country1\", 6), rep(\"country2\", 6))\n",
    "    )\n",
    "df2 <- data.frame(\n",
    "    year = rep(1996:2000, 2),\n",
    "    country = c(rep(\"country1\", 5), rep(\"country2\", 5))\n",
    "    )\n",
    "\n",
    "df <- rbind(df1, df2) #append\n",
    "\n",
    "df[order(df$country, df$year),]"
   ]
  },
  {
   "cell_type": "markdown",
   "id": "6db6b9de",
   "metadata": {},
   "source": []
  },
  {
   "cell_type": "markdown",
   "id": "b4c31a56",
   "metadata": {},
   "source": [
    "## Exercises \n",
    "\n",
    "\n",
    "**Warm-up:** Merge the three data frames defined below. Your final data\n",
    "frame should have 9 rows and 5 columns. Hint: merge only two data\n",
    "frames at a time."
   ]
  },
  {
   "cell_type": "code",
   "execution_count": null,
   "id": "d920eb60",
   "metadata": {
    "lines_to_next_cell": 2
   },
   "outputs": [],
   "source": [
    "df1 <- data.frame(\n",
    "    name = c(\"Mary\", \"Thor\", \"Sven\", \"Jane\", \"Ake\", \"Stephan\",\n",
    "             \"Bjorn\", \"Oden\", \"Dennis\"),\n",
    "    treatment_gr = c(rep(c(1, 2, 3), each = 3)),\n",
    "    weight_p1 = round(runif(9, 100, 200), 0)\n",
    "    )\n",
    "df2 <- data.frame(\n",
    "    name = c(\"Sven\", \"Jane\", \"Ake\", \"Mary\", \"Thor\", \"Stephan\", \n",
    "             \"Oden\", \"Bjorn\"),\n",
    "    weight_p2 = round(runif(8, 100, 200), 0)\n",
    "    )                           \n",
    "df3 <- data.frame(\n",
    "    treatment_gr = c(1, 2, 3),\n",
    "    type = c(\"dog-lovers\", \"cat-lovers\", \"all-lovers\")\n",
    "    )\n"
   ]
  },
  {
   "cell_type": "markdown",
   "id": "1e01eba6",
   "metadata": {},
   "source": [
    "**More extensive:** A prominent economic theory predicts that higher\n",
    "income inequality should be associated with more redistribution from\n",
    "the rich to the poor (Meltzer and Richard 1981). Let's create a\n",
    "dataset that will allow us to test this prediction using\n",
    "U.S. state-level data.\n",
    "\n",
    "1. Download data on inequality and tax collection (links below). Take\n",
    "a moment to familiarize yourself with the codebooks. Then read each\n",
    "dataset into R.\n",
    "* [Dataset](../data/Frank_All_v97.csv) with six measures of inequality\n",
    "(originally from [Mark W. Frank](http://www.shsu.edu/eco_mwf/inequality.html)). \n",
    "* [Tax data](http://www.census.gov/govs/statetax/historical_data.html) that\n",
    "can be used to measure fiscal capacity/redistribution. Use \n",
    "the \"State Government Tax Collections\" link. \n"
   ]
  },
  {
   "cell_type": "markdown",
   "id": "3038c551",
   "metadata": {},
   "source": [
    "2. Keep only the Year, State, Name, Total Taxes, and Total Income\n",
    "Taxes variables in the tax dataset, and rename these if\n",
    "necessary. Keep all the variables in the inequality dataset. Subset\n",
    "both datasets to be in the year range 1960-2012. \n",
    "\n",
    "3. Merge the two datasets. Take a moment to think about how to do\n",
    "this. Your final dataset should have 2650 rows and 12 variables. (Keep\n",
    "only data on the 50 states; 50 states x 53 years = 2650 observations.)\n",
    "Hint: You may find [this dataset with state identifiers](../data/State_FIPS.csv) \n",
    "helpful. \n",
    "\n",
    "4. The Total Tax and Total Income Tax variables from the tax dataset have\n",
    "commas in them, and are therefore not numeric. Remove the commas and \n",
    "convert the variables to numeric. Hint: `gsub()`. \n",
    "\n",
    "\n",
    "\n",
    "\n",
    "\n"
   ]
  }
 ],
 "metadata": {
  "jupytext": {
   "cell_metadata_filter": "-all",
   "main_language": "R",
   "notebook_metadata_filter": "-all"
  },
  "kernelspec": {
   "display_name": "R",
   "language": "R",
   "name": "ir"
  },
  "language_info": {
   "codemirror_mode": "r",
   "file_extension": ".r",
   "mimetype": "text/x-r-source",
   "name": "R",
   "pygments_lexer": "r",
   "version": "4.1.0"
  }
 },
 "nbformat": 4,
 "nbformat_minor": 5
}
