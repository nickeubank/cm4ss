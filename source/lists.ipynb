{
    "cells": [
        {
            "cell_type": "markdown",
            "source": [
                "# Lists\n",
                "\n",
                "**PRELIMINARY SITE DRAFT. MUCH WORK TO BE DONE!**\n",
                "\n",
                "They should know about them..."
            ],
            "metadata": {}
        }
    ],
    "metadata": {
        "orig_nbformat": 4,
        "language_info": {
            "name": "r"
        }
    },
    "nbformat": 4,
    "nbformat_minor": 2
}