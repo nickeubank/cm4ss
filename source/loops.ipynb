{
 "cells": [
  {
   "cell_type": "markdown",
   "source": [
    "# Loops\n",
    "\n",
    "Until this point, the scripts we've been writing are quite straightforward: each line of code runs in sequence, one after another. Moreover, everything we want R to do, we have to write out by hand.\n",
    "\n",
    "In this lesson, we'll learn about loops -- a programming structure ideal for getting R to do LOTS of work with very little code. \n",
    "\n",
    "The basic idea of a loop is that in situations where you want R to do lots of very similar things, we can decompose our code into (a) generic code we want to run over and over, and (b) an input to that code that changes each time we repeat the generic code.\n",
    "\n",
    "Let's start with a simple example -- suppose I wanted to thank my TAs and everyone in class for a great bootcamp.I *could* type it out with:"
   ],
   "metadata": {}
  },
  {
   "cell_type": "markdown",
   "source": [
    "```r\n",
    "print(\"Happy Birthday Yi!\")\n",
    "print(\"Happy Birthday Zoe!\")\n",
    "print(\"Happy Birthday Ishani!\")\n",
    "print(\"Happy Birthday Kelly!\")\n",
    "...\n",
    "```\n",
    "etc. But that'd take FOREVER! Moreover, it's easy to see that most of what I'm typing out is exactly the same on every line. If only there were some way to leverage that information...\n",
    "\n",
    "Enter the loop!\n",
    "\n",
    "## The For-Loop\n",
    "\n",
    "The most basic loop is called a for-loop, and it loops over a collection of items, doing the loop once per item in the collection. \n",
    "\n",
    "In this case, our collection would be a vector with the names of all the students in the class. I won't make you look at the full list, though, so here's a little toy vector:"
   ],
   "metadata": {}
  },
  {
   "cell_type": "code",
   "execution_count": 1,
   "source": [
    "names <- c(\"Yi\", \"Zoe\", \"Ishani\", \"Kelly\")"
   ],
   "outputs": [],
   "metadata": {}
  },
  {
   "cell_type": "markdown",
   "source": [
    "Then we need to write out a for-loop, which looks like this:\n",
    "\n",
    "```r\n",
    "for(i in names) {\n",
    "    [code to repeat here]\n",
    "}\n",
    "```\n",
    "\n",
    "The way this loop works is that it iterates over the names in `names`, and each time it reaches a new name, it sets `i` to equal that name, then runs the code in the middle. For example, I could print all the names like this:"
   ],
   "metadata": {}
  },
  {
   "cell_type": "code",
   "execution_count": 2,
   "source": [
    "for (i in names) {\n",
    "    print(i)\n",
    "}"
   ],
   "outputs": [
    {
     "output_type": "stream",
     "name": "stdout",
     "text": [
      "[1] \"Yi\"\n",
      "[1] \"Zoe\"\n",
      "[1] \"Ishani\"\n",
      "[1] \"Kelly\"\n"
     ]
    }
   ],
   "metadata": {}
  },
  {
   "cell_type": "markdown",
   "source": [
    "But of course, we usually don't just want to print `i`, we want to use it. So let's try and thank everyone in the class with a loop. \n",
    "\n",
    "Before we write code inside our loop, though, we'll start by testing our code *outside* the loop to make it easier to troubleshoot, setting `i <- names[1]` by hand at the top to practice:"
   ],
   "metadata": {}
  },
  {
   "cell_type": "code",
   "execution_count": 3,
   "source": [
    "# Set `i` to first entry in `names`\n",
    "# When we put this inside the loop,\n",
    "# this will be done automatically by the loop\n",
    "i <- names[1]\n",
    "\n",
    "# Now write the code you want to put in your loop.\n",
    "message <- paste0(\"Thank you \", i, \" for a great class! \")\n",
    "print(message)"
   ],
   "outputs": [
    {
     "output_type": "stream",
     "name": "stdout",
     "text": [
      "[1] \"Thank you Yi for a great class! \"\n"
     ]
    }
   ],
   "metadata": {}
  },
  {
   "cell_type": "markdown",
   "source": [
    "If you haven't seen `paste0()` before, it's a function that takes characters and concatenates them (sticks them together). (There's also a function called `paste()` that does the same thing but also adds a space between entries). \n",
    "\n",
    "OK, so now that we've got working code to put in the middle, we can move it into our loop:"
   ],
   "metadata": {}
  },
  {
   "cell_type": "code",
   "execution_count": 4,
   "source": [
    "for (i in names) {\n",
    "    message <- paste0(\"Thank you \", i,\n",
    "                      \" for a great class! \")\n",
    "    print(message)\n",
    "}\n",
    "\n",
    "print(\"OK, bye now!\")"
   ],
   "outputs": [
    {
     "output_type": "stream",
     "name": "stdout",
     "text": [
      "[1] \"Thank you Yi for a great class! \"\n",
      "[1] \"Thank you Zoe for a great class! \"\n",
      "[1] \"Thank you Ishani for a great class! \"\n",
      "[1] \"Thank you Kelly for a great class! \"\n",
      "[1] \"OK, bye now!\"\n"
     ]
    }
   ],
   "metadata": {}
  },
  {
   "cell_type": "markdown",
   "source": [
    "A few things to note about this:\n",
    "\n",
    "- When developing the code to go into our loop, we started by assigning one of our names to `i`. In the real loop, we don't do that because it's done automatically at the top of the loop. \n",
    "- Remember how `print()` always seemed pointless, since you could always just type the name of a variable to see its value? Well that trick doesn't work in loops, which is why we need a tool like `print()`. \n",
    "- I also added a print statement at the end of my code -- as you can see, when the loop has iterated over all the values in `names`, R just moves on and runs the next command it sees. "
   ],
   "metadata": {}
  },
  {
   "cell_type": "markdown",
   "source": [
    "OK, let's take a moment to diagram what's happening here just to make sure everything is clear. For length, though, we'll shorten our name vector to just have Yi and Zoe. \n",
    "\n",
    "![loop1](images/loop1.png)\n",
    "\n",
    "![loop2](images/loop2.png)\n",
    "\n",
    "![loop3](images/loop3.png)\n",
    "\n",
    "![loop4](images/loop4.png)\n",
    "\n",
    "![loop5](images/loop5.png)\n",
    "\n",
    "![loop6](images/loop6.png)\n",
    "\n",
    "![loop7](images/loop7.png)"
   ],
   "metadata": {}
  },
  {
   "cell_type": "markdown",
   "source": [
    "## Building a Loop\n",
    "\n",
    "As noted above, the way to write a loop usually isn't just to write a loop -- troubleshooting code inside a loop is much harder than troubleshooting code that isn't in the loop because you can't run your code one line at a time if it is inside the loop. So when you're writing a loop, I recommend following the following steps:\n",
    "\n",
    "1. Write the first line of your loop. This will help you visualize what you're looping over and what your looping variable (e.g. `i` in the example above) will be. \n",
    "2. Write the code that you want to put inside your loop on its own. So that it runs the same way it will eventually run inside the loop, define your looping variable (`i`) to be equal to the first entry in the vector you're looping over (e.g. `i <- names[1]`). In that way the code you're writing will have access to the same variable that it will have later.\n",
    "3. Move the code you have written separately into the loop (without that initial assignment `i <- names[1]`, obviously). \n",
    "4. If you have problems, put `print()` statements inside your loop to give you information about what's going on."
   ],
   "metadata": {}
  },
  {
   "cell_type": "markdown",
   "source": [
    "## Other For-Loop Idioms\n",
    "\n",
    "There are couple common patterns with for loops to be aware of. Above, we saw how we can loop over vector of predefined values, but another common idiom to be aware of is looping over a vector created with the `1:N` operator (or the `seq()`) operator. For example, if I have a for loop that I want to run 5 times, I could write:"
   ],
   "metadata": {}
  },
  {
   "cell_type": "code",
   "execution_count": 5,
   "source": [
    "for (i in 1:5) {\n",
    "    print(i)\n",
    "}"
   ],
   "outputs": [
    {
     "output_type": "stream",
     "name": "stdout",
     "text": [
      "[1] 1\n",
      "[1] 2\n",
      "[1] 3\n",
      "[1] 4\n",
      "[1] 5\n"
     ]
    }
   ],
   "metadata": {}
  },
  {
   "cell_type": "markdown",
   "source": [
    "## If / Else\n",
    "\n",
    "Another useful tool for loops is `if` / `else`. \n",
    "\n",
    "With `if`, you create a block of code that will only execute if a given condition is true. For example:"
   ],
   "metadata": {}
  },
  {
   "cell_type": "code",
   "execution_count": 6,
   "source": [
    "a <- 5\n",
    "\n",
    "if (a < 10) {\n",
    "    print(a)\n",
    "}"
   ],
   "outputs": [
    {
     "output_type": "stream",
     "name": "stdout",
     "text": [
      "[1] 5\n"
     ]
    }
   ],
   "metadata": {}
  },
  {
   "cell_type": "code",
   "execution_count": 7,
   "source": [
    "a <- 5\n",
    "\n",
    "if (a > 10) {\n",
    "    print(a)\n",
    "}"
   ],
   "outputs": [],
   "metadata": {}
  },
  {
   "cell_type": "markdown",
   "source": [
    "If you *just* use `if`, then the code between the squiggly brackets you write will run if the condition is true, and otherwise the code will move on. But sometimes you want different code to run if the test is false. For that we use an `else` block, written:"
   ],
   "metadata": {}
  },
  {
   "cell_type": "code",
   "execution_count": 8,
   "source": [
    "a <- 5\n",
    "\n",
    "if (a > 10){\n",
    "    print(\"a is greater than 10!\")\n",
    "} else {\n",
    "    print(\"a is less than 10!\")\n",
    "}"
   ],
   "outputs": [
    {
     "output_type": "stream",
     "name": "stdout",
     "text": [
      "[1] \"a is less than 10!\"\n"
     ]
    }
   ],
   "metadata": {}
  },
  {
   "cell_type": "code",
   "execution_count": 9,
   "source": [
    "a <- 20\n",
    "\n",
    "if (a > 10){\n",
    "    print(\"a is greater than 10!\")\n",
    "} else {\n",
    "    print(\"a is less than 10!\")\n",
    "}"
   ],
   "outputs": [
    {
     "output_type": "stream",
     "name": "stdout",
     "text": [
      "[1] \"a is greater than 10!\"\n"
     ]
    }
   ],
   "metadata": {}
  },
  {
   "cell_type": "markdown",
   "source": [
    "How is this helpful in loops? Suppose you want to loop over a bunch of file names and do different things depending on whether the file name starts with `data`, or `code`:"
   ],
   "metadata": {}
  },
  {
   "cell_type": "code",
   "execution_count": 10,
   "source": [
    "files <- c(\"data12.txt\", \"code38978.R\", \"data_2021_08_01.dta\",\n",
    "           \"data_123.csv\", \"code13.R\")\n",
    "for (f in files){\n",
    "\n",
    "    # substr gets a portion of a character,\n",
    "    # starting at the second argument and\n",
    "    # ending at the third. So this will \n",
    "    # get either \"code\" or \"data\"\n",
    "    prefix <- substr(f, 1, 4)\n",
    "\n",
    "    if (prefix == \"data\"){\n",
    "        print(paste0(f, \" is data. So I'd do a data thing here.\"))\n",
    "    } else {\n",
    "        print(paste0(f, \" is code. So I'd do a code thinghere .\"))\n",
    "    }\n",
    "}"
   ],
   "outputs": [
    {
     "output_type": "stream",
     "name": "stdout",
     "text": [
      "[1] \"data12.txt is data. So I'd do a data thing here.\"\n",
      "[1] \"code38978.R is code. So I'd do a code thinghere .\"\n",
      "[1] \"data_2021_08_01.dta is data. So I'd do a data thing here.\"\n",
      "[1] \"data_123.csv is data. So I'd do a data thing here.\"\n",
      "[1] \"code13.R is code. So I'd do a code thinghere .\"\n"
     ]
    }
   ],
   "metadata": {}
  },
  {
   "cell_type": "markdown",
   "source": [
    "## While Loops\n",
    "\n",
    "There's one other kind of loop used in advanced programming I'll mention here, though you probably won't use it for some time: a `while` loop. A `while` loop just keeps iterating until some condition is met. They're useful for things like simulations or numerical optimizers where you want it to keep running till some condition (like convergence) is met. For example, if we wanted to know what $$\\Sigma_{n=1}^{\\infty} \\frac{1}{2^n}$$ equaled, we could just keep guessing and checking, or we could ask R to keep adding on new terms until the total stopping moving much. "
   ],
   "metadata": {}
  },
  {
   "cell_type": "code",
   "execution_count": 11,
   "source": [
    "# Our sum:\n",
    "sum <- 0\n",
    "\n",
    "# Our index n\n",
    "n <- 1\n",
    "\n",
    "# How we measure change. Start with big number. \n",
    "change <- 1\n",
    "\n",
    "while (change > 0.00000001) {\n",
    "    old_sum <- sum\n",
    "    sum <- sum + 1 / (2^n)\n",
    "    change <- abs(sum - old_sum)\n",
    "    n <- n + 1\n",
    "}\n",
    "print(paste0(\"A sum of \", sum, \" was reached after \", n, \" iterations\"))"
   ],
   "outputs": [
    {
     "output_type": "stream",
     "name": "stdout",
     "text": [
      "[1] \"A sum of 0.999999992549419 was reached after 28 iterations\"\n"
     ]
    }
   ],
   "metadata": {}
  },
  {
   "cell_type": "markdown",
   "source": [
    "So we can clearly see we're headed to 1.\n",
    "\n",
    "**WARNING:** Be careful with while loops as they may never stop!\n",
    "\n",
    "A problem with while loops is that if you write them wrong, the condition at the top may never be met, and so they'll just keep running till you force-shutdown your R session. "
   ],
   "metadata": {}
  },
  {
   "cell_type": "markdown",
   "source": [
    "## Loops and the Tidyverse\n",
    "\n",
    "As you may recall from our discussion of dplyr and the tidyverse, most functions in the tidyverse use a form of nonstandard evaluation within their functions -- namely, text appearing within a function is not interpreted as the name of a variable, but as explicit data.\n",
    "\n",
    "This becomes important when writing loops because in loops, we need to use variables!\n",
    "\n",
    "To get around this, there are some hacks to make tidyverse work with loops. For example, we can wrap our text in `.data[[]]` if that text refers to a column name to ensure it's interpreted as a variable and not a literal value. For example:"
   ],
   "metadata": {}
  },
  {
   "cell_type": "code",
   "execution_count": 12,
   "source": [
    "library(dplyr)\n",
    "country <- rep(c(\"USA\", \"China\", \"Sudan\"), 3)\n",
    "year <- c(1994, 1994, 1994, 1995, 1995, 1995, 1996, 1996, 1996)\n",
    "gdp_pc_2008 <- round(runif(9, 1000, 20000))\n",
    "gdp_pc_2010 <- round(runif(9, 1000, 20000))\n",
    "gdp_pc_2012 <- round(runif(9, 1000, 20000))\n",
    "\n",
    "countries <- data.frame(country, year, gdp_pc_2008, gdp_pc_2010, gdp_pc_2012)\n",
    "countries"
   ],
   "outputs": [
    {
     "output_type": "stream",
     "name": "stderr",
     "text": [
      "\n",
      "Attaching package: 'dplyr'\n",
      "\n",
      "\n",
      "The following objects are masked from 'package:stats':\n",
      "\n",
      "    filter, lag\n",
      "\n",
      "\n",
      "The following objects are masked from 'package:base':\n",
      "\n",
      "    intersect, setdiff, setequal, union\n",
      "\n",
      "\n"
     ]
    },
    {
     "output_type": "display_data",
     "data": {
      "text/plain": [
       "  country year gdp_pc_2008 gdp_pc_2010 gdp_pc_2012\n",
       "1 USA     1994 18142       18778        3246      \n",
       "2 China   1994  8573        3339       11562      \n",
       "3 Sudan   1994  5199       19910       11370      \n",
       "4 USA     1995 18628       17827       11375      \n",
       "5 China   1995  8039       13211       14396      \n",
       "6 Sudan   1995 16518       12017       12923      \n",
       "7 USA     1996  2137       10247       15444      \n",
       "8 China   1996 12667        4412        3713      \n",
       "9 Sudan   1996 18298        8967        7706      "
      ],
      "text/markdown": [
       "\n",
       "A data.frame: 9 × 5\n",
       "\n",
       "| country &lt;chr&gt; | year &lt;dbl&gt; | gdp_pc_2008 &lt;dbl&gt; | gdp_pc_2010 &lt;dbl&gt; | gdp_pc_2012 &lt;dbl&gt; |\n",
       "|---|---|---|---|---|\n",
       "| USA   | 1994 | 18142 | 18778 |  3246 |\n",
       "| China | 1994 |  8573 |  3339 | 11562 |\n",
       "| Sudan | 1994 |  5199 | 19910 | 11370 |\n",
       "| USA   | 1995 | 18628 | 17827 | 11375 |\n",
       "| China | 1995 |  8039 | 13211 | 14396 |\n",
       "| Sudan | 1995 | 16518 | 12017 | 12923 |\n",
       "| USA   | 1996 |  2137 | 10247 | 15444 |\n",
       "| China | 1996 | 12667 |  4412 |  3713 |\n",
       "| Sudan | 1996 | 18298 |  8967 |  7706 |\n",
       "\n"
      ],
      "text/latex": [
       "A data.frame: 9 × 5\n",
       "\\begin{tabular}{lllll}\n",
       " country & year & gdp\\_pc\\_2008 & gdp\\_pc\\_2010 & gdp\\_pc\\_2012\\\\\n",
       " <chr> & <dbl> & <dbl> & <dbl> & <dbl>\\\\\n",
       "\\hline\n",
       "\t USA   & 1994 & 18142 & 18778 &  3246\\\\\n",
       "\t China & 1994 &  8573 &  3339 & 11562\\\\\n",
       "\t Sudan & 1994 &  5199 & 19910 & 11370\\\\\n",
       "\t USA   & 1995 & 18628 & 17827 & 11375\\\\\n",
       "\t China & 1995 &  8039 & 13211 & 14396\\\\\n",
       "\t Sudan & 1995 & 16518 & 12017 & 12923\\\\\n",
       "\t USA   & 1996 &  2137 & 10247 & 15444\\\\\n",
       "\t China & 1996 & 12667 &  4412 &  3713\\\\\n",
       "\t Sudan & 1996 & 18298 &  8967 &  7706\\\\\n",
       "\\end{tabular}\n"
      ],
      "text/html": [
       "<table class=\"dataframe\">\n",
       "<caption>A data.frame: 9 × 5</caption>\n",
       "<thead>\n",
       "\t<tr><th scope=col>country</th><th scope=col>year</th><th scope=col>gdp_pc_2008</th><th scope=col>gdp_pc_2010</th><th scope=col>gdp_pc_2012</th></tr>\n",
       "\t<tr><th scope=col>&lt;chr&gt;</th><th scope=col>&lt;dbl&gt;</th><th scope=col>&lt;dbl&gt;</th><th scope=col>&lt;dbl&gt;</th><th scope=col>&lt;dbl&gt;</th></tr>\n",
       "</thead>\n",
       "<tbody>\n",
       "\t<tr><td>USA  </td><td>1994</td><td>18142</td><td>18778</td><td> 3246</td></tr>\n",
       "\t<tr><td>China</td><td>1994</td><td> 8573</td><td> 3339</td><td>11562</td></tr>\n",
       "\t<tr><td>Sudan</td><td>1994</td><td> 5199</td><td>19910</td><td>11370</td></tr>\n",
       "\t<tr><td>USA  </td><td>1995</td><td>18628</td><td>17827</td><td>11375</td></tr>\n",
       "\t<tr><td>China</td><td>1995</td><td> 8039</td><td>13211</td><td>14396</td></tr>\n",
       "\t<tr><td>Sudan</td><td>1995</td><td>16518</td><td>12017</td><td>12923</td></tr>\n",
       "\t<tr><td>USA  </td><td>1996</td><td> 2137</td><td>10247</td><td>15444</td></tr>\n",
       "\t<tr><td>China</td><td>1996</td><td>12667</td><td> 4412</td><td> 3713</td></tr>\n",
       "\t<tr><td>Sudan</td><td>1996</td><td>18298</td><td> 8967</td><td> 7706</td></tr>\n",
       "</tbody>\n",
       "</table>\n"
      ]
     },
     "metadata": {}
    }
   ],
   "metadata": {}
  },
  {
   "cell_type": "code",
   "execution_count": 13,
   "source": [
    "# Convert all gdp_pc quantities to 1,000s of dollars\n",
    "\n",
    "countries <- data.frame(country, year, gdp_pc_2008, gdp_pc_2010, gdp_pc_2012)\n",
    "\n",
    "for (c in c(\"gdp_pc_2008\", \"gdp_pc_2010\", \"gdp_pc_2012\")) {\n",
    "    countries[c] <- select(countries, .data[[c]]) / 1000\n",
    "}\n",
    "countries"
   ],
   "outputs": [
    {
     "output_type": "display_data",
     "data": {
      "text/plain": [
       "  country year gdp_pc_2008 gdp_pc_2010 gdp_pc_2012\n",
       "1 USA     1994 18.142      18.778       3.246     \n",
       "2 China   1994  8.573       3.339      11.562     \n",
       "3 Sudan   1994  5.199      19.910      11.370     \n",
       "4 USA     1995 18.628      17.827      11.375     \n",
       "5 China   1995  8.039      13.211      14.396     \n",
       "6 Sudan   1995 16.518      12.017      12.923     \n",
       "7 USA     1996  2.137      10.247      15.444     \n",
       "8 China   1996 12.667       4.412       3.713     \n",
       "9 Sudan   1996 18.298       8.967       7.706     "
      ],
      "text/markdown": [
       "\n",
       "A data.frame: 9 × 5\n",
       "\n",
       "| country &lt;chr&gt; | year &lt;dbl&gt; | gdp_pc_2008 &lt;dbl&gt; | gdp_pc_2010 &lt;dbl&gt; | gdp_pc_2012 &lt;dbl&gt; |\n",
       "|---|---|---|---|---|\n",
       "| USA   | 1994 | 18.142 | 18.778 |  3.246 |\n",
       "| China | 1994 |  8.573 |  3.339 | 11.562 |\n",
       "| Sudan | 1994 |  5.199 | 19.910 | 11.370 |\n",
       "| USA   | 1995 | 18.628 | 17.827 | 11.375 |\n",
       "| China | 1995 |  8.039 | 13.211 | 14.396 |\n",
       "| Sudan | 1995 | 16.518 | 12.017 | 12.923 |\n",
       "| USA   | 1996 |  2.137 | 10.247 | 15.444 |\n",
       "| China | 1996 | 12.667 |  4.412 |  3.713 |\n",
       "| Sudan | 1996 | 18.298 |  8.967 |  7.706 |\n",
       "\n"
      ],
      "text/latex": [
       "A data.frame: 9 × 5\n",
       "\\begin{tabular}{lllll}\n",
       " country & year & gdp\\_pc\\_2008 & gdp\\_pc\\_2010 & gdp\\_pc\\_2012\\\\\n",
       " <chr> & <dbl> & <dbl> & <dbl> & <dbl>\\\\\n",
       "\\hline\n",
       "\t USA   & 1994 & 18.142 & 18.778 &  3.246\\\\\n",
       "\t China & 1994 &  8.573 &  3.339 & 11.562\\\\\n",
       "\t Sudan & 1994 &  5.199 & 19.910 & 11.370\\\\\n",
       "\t USA   & 1995 & 18.628 & 17.827 & 11.375\\\\\n",
       "\t China & 1995 &  8.039 & 13.211 & 14.396\\\\\n",
       "\t Sudan & 1995 & 16.518 & 12.017 & 12.923\\\\\n",
       "\t USA   & 1996 &  2.137 & 10.247 & 15.444\\\\\n",
       "\t China & 1996 & 12.667 &  4.412 &  3.713\\\\\n",
       "\t Sudan & 1996 & 18.298 &  8.967 &  7.706\\\\\n",
       "\\end{tabular}\n"
      ],
      "text/html": [
       "<table class=\"dataframe\">\n",
       "<caption>A data.frame: 9 × 5</caption>\n",
       "<thead>\n",
       "\t<tr><th scope=col>country</th><th scope=col>year</th><th scope=col>gdp_pc_2008</th><th scope=col>gdp_pc_2010</th><th scope=col>gdp_pc_2012</th></tr>\n",
       "\t<tr><th scope=col>&lt;chr&gt;</th><th scope=col>&lt;dbl&gt;</th><th scope=col>&lt;dbl&gt;</th><th scope=col>&lt;dbl&gt;</th><th scope=col>&lt;dbl&gt;</th></tr>\n",
       "</thead>\n",
       "<tbody>\n",
       "\t<tr><td>USA  </td><td>1994</td><td>18.142</td><td>18.778</td><td> 3.246</td></tr>\n",
       "\t<tr><td>China</td><td>1994</td><td> 8.573</td><td> 3.339</td><td>11.562</td></tr>\n",
       "\t<tr><td>Sudan</td><td>1994</td><td> 5.199</td><td>19.910</td><td>11.370</td></tr>\n",
       "\t<tr><td>USA  </td><td>1995</td><td>18.628</td><td>17.827</td><td>11.375</td></tr>\n",
       "\t<tr><td>China</td><td>1995</td><td> 8.039</td><td>13.211</td><td>14.396</td></tr>\n",
       "\t<tr><td>Sudan</td><td>1995</td><td>16.518</td><td>12.017</td><td>12.923</td></tr>\n",
       "\t<tr><td>USA  </td><td>1996</td><td> 2.137</td><td>10.247</td><td>15.444</td></tr>\n",
       "\t<tr><td>China</td><td>1996</td><td>12.667</td><td> 4.412</td><td> 3.713</td></tr>\n",
       "\t<tr><td>Sudan</td><td>1996</td><td>18.298</td><td> 8.967</td><td> 7.706</td></tr>\n",
       "</tbody>\n",
       "</table>\n"
      ]
     },
     "metadata": {}
    }
   ],
   "metadata": {}
  },
  {
   "cell_type": "markdown",
   "source": [
    "Of course, that trick doesn't solve all problems from looping over things in the tidyverse... For example, if wanted to do this with `mutate` I couldn't use `.data[[c]]` for the name of the new column:\n",
    "\n",
    "```r\n",
    "for (c in c(\"gdp_pc_2008\", \"gdp_pc_2010\", \"gdp_pc_2012\")) {\n",
    "    countries = mutate(countries, .data[[c]] = ) .data[[c]]/ 1000\n",
    "}\n",
    "\n",
    "> ERROR: Error in parse(text = x, srcfile = src): <text>:2:46: unexpected '='\n",
    "> 1: for (c in c(\"gdp_pc_2008\", \"gdp_pc_2010\", \"gdp_pc_2012\")) {\n",
    "> 2: countries = mutate(countries, .data[[c]] =\n",
    "> ^\n",
    "> Error in parse(text = x, srcfile = src): <text>:2:46: unexpected '='\n",
    "> 1: for (c in c(\"gdp_pc_2008\", \"gdp_pc_2010\", \"gdp_pc_2012\")) {\n",
    "> 2:     countries = mutate(countries, .data[[c]] =\n",
    ">                                                 ^\n",
    "> Traceback:\n",
    "```"
   ],
   "metadata": {}
  },
  {
   "cell_type": "markdown",
   "source": [
    "And this is one of the reasons that it's good not to become *over-reliant* on tidyverse libraries -- for basic scripting they can be very convenient, but it's important to be comfortable with traditional tools like array indexing when things break down.\n",
    "\n",
    "BTW: obviously the looping example above is contrived. The much more concise way to do what the loop above does is:"
   ],
   "metadata": {}
  },
  {
   "cell_type": "code",
   "execution_count": 14,
   "source": [
    "columns <- c(\"gdp_pc_2008\", \"gdp_pc_2010\", \"gdp_pc_2012\")\n",
    "countries[columns] <- countries[columns] / 1000"
   ],
   "outputs": [],
   "metadata": {}
  },
  {
   "cell_type": "markdown",
   "source": [
    "But we *will* do some less-contrived looping over tidyverse functions in our exercises, so I wanted a simple example here. "
   ],
   "metadata": {}
  },
  {
   "cell_type": "markdown",
   "source": [
    "## Don't Loop Over Big Vectors / Data \n",
    "\n",
    "Finally, a super super important note about loops:"
   ],
   "metadata": {}
  },
  {
   "cell_type": "markdown",
   "source": [
    "\n",
    "**CAUTION:** Do not loop over your dataset rows\n",
    "\n",
    "Loops are powerful, but one thing you almost never want to do is loop over the rows of your dataset. The reason is that looping is **much** slower than doing an operation using vector math (a practice called \"vectorization\"). "
   ],
   "metadata": {}
  },
  {
   "cell_type": "markdown",
   "source": [
    "To illustrate, suppose I want to add up two vectors, each with 10,000,000 entries, and time the operation:"
   ],
   "metadata": {}
  },
  {
   "cell_type": "code",
   "execution_count": 15,
   "source": [
    "# Two random variables:\n",
    "v1 <- rnorm(10000000)\n",
    "v2 <- rnorm(10000000)\n",
    "\n",
    "# add up with vector math:\n",
    "\n",
    "# Record the current time\n",
    "start <- proc.time()\n",
    "\n",
    "# Multiply entries in two vectors\n",
    "v1 <- v1 / v2 + 20\n",
    "\n",
    "# Record current time\n",
    "stop <- proc.time()\n",
    "\n",
    "# Measure how much time elapsed\n",
    "run_time_vector_addition <- stop - start\n",
    "run_time_vector_addition"
   ],
   "outputs": [
    {
     "output_type": "display_data",
     "data": {
      "text/plain": [
       "   user  system elapsed \n",
       "  0.073   0.019   0.094 "
      ]
     },
     "metadata": {}
    }
   ],
   "metadata": {}
  },
  {
   "cell_type": "markdown",
   "source": [
    "Note I have to put them in a function to do it because of how "
   ],
   "metadata": {}
  },
  {
   "cell_type": "code",
   "execution_count": 16,
   "source": [
    "# Now add them up in a loop.\n",
    "\n",
    "# Record the current time\n",
    "start <- proc.time()\n",
    "\n",
    "# Multiplying entries in a loop\n",
    "for (i in 1:10000000) {\n",
    "    v1[i] <- v1[i] / v2[i] + 20\n",
    "}\n",
    "\n",
    "# Record current time\n",
    "stop <- proc.time()\n",
    "\n",
    "# Measure how much time elapsed\n",
    "run_time_loop_addition <- stop - start\n",
    "run_time_loop_addition"
   ],
   "outputs": [
    {
     "output_type": "display_data",
     "data": {
      "text/plain": [
       "   user  system elapsed \n",
       "  0.655   0.010   0.670 "
      ]
     },
     "metadata": {}
    }
   ],
   "metadata": {}
  },
  {
   "cell_type": "code",
   "execution_count": 17,
   "source": [
    "# Looped took about this many time longer:\n",
    "\n",
    "round(run_time_loop_addition[1] / run_time_vector_addition[1], 2)\n"
   ],
   "outputs": [
    {
     "output_type": "display_data",
     "data": {
      "text/plain": [
       "user.self \n",
       "     8.97 "
      ],
      "text/markdown": [
       "**user.self:** 8.97"
      ],
      "text/latex": [
       "\\textbf{user.self:} 8.97"
      ],
      "text/html": [
       "<strong>user.self:</strong> 8.97"
      ]
     },
     "metadata": {}
    }
   ],
   "metadata": {}
  },
  {
   "cell_type": "markdown",
   "source": [
    "So... yeah, >7x slower (the ratio varies over runs depending on things like how many other processes are running on your computer, so the code output may not quite match that text). Don't do it.\n",
    "\n",
    "Of course, in this example, the actual manipulations we're doing are small enough that in absolute terms both operations are fast enough that it wouldn't really matter which one you choose, but as you get into more complicated data manipulations, this kind of 10x speed difference (and often the differences are much much larger, on the order of 100x or more) can be the difference between your code running in a couple of seconds and versus a couple of hours (or the difference between running in a couple minutes and taking a couple days).\n",
    "\n",
    "(If you want to know why, I have an explanation for the [same phenomenon in Python here](https://www.practicaldatascience.org/html/performance_understanding.html). The examples have Python code, but the principles are the same.)\n",
    "\n",
    "So what should you do instead? You always want to write *vectorized code*, meaning code that operates on vectors as a whole rather than on the entries of a vector one at a time."
   ],
   "metadata": {}
  },
  {
   "cell_type": "markdown",
   "source": [
    "## Exercises for Now\n",
    "\n",
    "\n",
    "1. Use a for loop to take the square root of each value in the following \n",
    "vector: `vec1 <- c(4, 9, 81, 100, 1000, 10^6)`. Save the results to a new \n",
    "vector called `vec2`. \n",
    "\n",
    "2. Monte Carlo Simulation (ambitious exercise): Imagine that the values in the vector `pop` below represent vote shares for a presidential candidate across the 3,144 counties in the United States. If we were to take a sample of 50 counties and estimate mean support for the presidential candidate, would we, on average, estimate the vote share across all counties accurately? \n",
    " \n",
    "```R\n",
    "# Draw vector of length 3144 with random vectors\n",
    "# containing values uniformally distributed between\n",
    "# 0 and 1. \n",
    "pop <- runif(n = 3144, min = 0, max = 1)\n",
    "```\n",
    "\n",
    "\n",
    "(Don't worry about the fact that we really should be weighing counties by their population size to estimate overall\n",
    "support.) \n",
    "\n",
    "Draw 10,000 samples of 50 counties from `pop` and estimate mean support for each sample, saving each mean estimate into a vector called `smpl_means`. How does the mean of the sample means compare to the population mean? Do we, on average, do a good job of estimating the population mean? "
   ],
   "metadata": {
    "lines_to_next_cell": 0
   }
  },
  {
   "cell_type": "markdown",
   "source": [
    "## Exercises for Class\n",
    "\n",
    "[Here are some exercises](exercises/exercise_loops.ipynb) we'll be doing in our synchronous class. If you are enrolled in our synchronous sessions, **please do not** do these before class! If you're reading these materials on your own or are enrolled in our asynchronous class, feel free to take a look now."
   ],
   "metadata": {}
  }
 ],
 "metadata": {
  "jupytext": {
   "cell_metadata_filter": "echo,-all",
   "main_language": "R",
   "notebook_metadata_filter": "-all"
  },
  "language_info": {
   "name": "R",
   "codemirror_mode": "r",
   "pygments_lexer": "r",
   "mimetype": "text/x-r-source",
   "file_extension": ".r",
   "version": "4.1.0"
  },
  "kernelspec": {
   "name": "ir",
   "display_name": "R",
   "language": "R"
  }
 },
 "nbformat": 4,
 "nbformat_minor": 5
}