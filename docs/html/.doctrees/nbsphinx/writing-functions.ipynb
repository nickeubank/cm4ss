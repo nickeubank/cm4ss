{
 "cells": [
  {
   "cell_type": "markdown",
   "id": "7220bfc6",
   "metadata": {},
   "source": [
    "# Writing Functions\n",
    "\n",
    "This tutorial explains how you can write your own functions in R. Why do this? Functions are useful when you want to execute a task over and over again, resulting in less verbose and more easily interpretable code. After explaining the basics of writing functions, this tutorial covers two data science applications for writing functions.\n"
   ]
  },
  {
   "cell_type": "markdown",
   "id": "adc25fe5",
   "metadata": {},
   "source": [
    "## Motivation\n",
    "\n",
    "\n",
    "To illustrate the value of functions, let's start by a thought experiment:\n",
    "say R didn't provide a function for finding the median of a numeric vector.\n",
    "(Of course this is not true --- R has a built-in function called `median()`\n",
    "for this purpose.) In this annoying scenario, it would still be possible\n",
    "to find the median using a few lines of code. "
   ]
  },
  {
   "cell_type": "code",
   "execution_count": 1,
   "id": "21d7f20d",
   "metadata": {},
   "outputs": [
    {
     "data": {
      "text/html": [
       "1"
      ],
      "text/latex": [
       "1"
      ],
      "text/markdown": [
       "1"
      ],
      "text/plain": [
       "[1] 1"
      ]
     },
     "metadata": {},
     "output_type": "display_data"
    },
    {
     "data": {
      "text/html": [
       "5"
      ],
      "text/latex": [
       "5"
      ],
      "text/markdown": [
       "5"
      ],
      "text/plain": [
       "[1] 5"
      ]
     },
     "metadata": {},
     "output_type": "display_data"
    }
   ],
   "source": [
    "# Create a numeric vector \n",
    "v <- c(2, 5, 8, 0, 10)\n",
    "\n",
    "# Find the number of elements in v  \n",
    "n <- length(v)\n",
    "\n",
    "# Is n odd?\n",
    "n %% 2  #use mod to find remainder after dividing by 2; if remainder is 1 --> odd\n",
    " \n",
    "# Cool, it's odd so let's find the mid-value after sorting v\n",
    "v_sort <- sort(v)\n",
    "v_sort[n / 2 + 1] #this is the median"
   ]
  },
  {
   "cell_type": "markdown",
   "id": "8eeab6e9",
   "metadata": {},
   "source": [
    "Ok, we found the median, but what a nightmare! Imagine if we had to go\n",
    "through these steps every time we wanted to find the median.  Plus,\n",
    "the code above isn't general enough to account for scenarios in which\n",
    "the numeric vector has an even number of elements. In scenarios like\n",
    "this, it's therefore extremely useful to write a function. Here's one\n",
    "way of doing so for finding the median: "
   ]
  },
  {
   "cell_type": "code",
   "execution_count": 2,
   "id": "0a2111db",
   "metadata": {},
   "outputs": [],
   "source": [
    "median2 <- function(vec) {\n",
    "    n <- length(vec)\n",
    "    odd <- n %% 2 == 1\n",
    "    vec_sort <- sort(vec)\n",
    "\n",
    "    if(odd) {\n",
    "        result <- vec_sort[n / 2 + 1]\n",
    "    } else {\n",
    "        result <- (vec_sort[n / 2] + vec_sort[n / 2 + 1]) / 2\n",
    "    }\n",
    "\n",
    "    return(result)\n",
    "}"
   ]
  },
  {
   "cell_type": "markdown",
   "id": "4faf26e1",
   "metadata": {},
   "source": [
    "Let's test if it works on two vectors, one with an odd number\n",
    "of elements and the other with an even number:"
   ]
  },
  {
   "cell_type": "code",
   "execution_count": 3,
   "id": "dead32cd",
   "metadata": {},
   "outputs": [
    {
     "data": {
      "text/html": [
       "5"
      ],
      "text/latex": [
       "5"
      ],
      "text/markdown": [
       "5"
      ],
      "text/plain": [
       "[1] 5"
      ]
     },
     "metadata": {},
     "output_type": "display_data"
    },
    {
     "data": {
      "text/html": [
       "6.5"
      ],
      "text/latex": [
       "6.5"
      ],
      "text/markdown": [
       "6.5"
      ],
      "text/plain": [
       "[1] 6.5"
      ]
     },
     "metadata": {},
     "output_type": "display_data"
    }
   ],
   "source": [
    "v1 <- c(2, 5, 8, 0, 10)\n",
    "median2(v1)\n",
    "\n",
    "v2 <- c(2, 5, 8, 0, 10, 12)\n",
    "median2(v2)"
   ]
  },
  {
   "cell_type": "markdown",
   "id": "e91e57ef",
   "metadata": {},
   "source": [
    "This motivating example shows that writing functions can save us many\n",
    "lines of code and avoid mistakes that inevitably will happen if you\n",
    "rely too heavily on copying and pasting code."
   ]
  },
  {
   "cell_type": "markdown",
   "id": "8e1f2954",
   "metadata": {},
   "source": [
    "## Building blocks\n",
    "\n",
    "\n",
    "Remind yourself of a basic mathematical principle: a function takes\n",
    "some input, transforms it, and outputs the transformation. For example,\n",
    "the function *f(x) = 2x* takes a vector *x* and transforms each element\n",
    "to twice its original value. Functions in R (and other languages) do\n",
    "the same thing. For example:"
   ]
  },
  {
   "cell_type": "code",
   "execution_count": 4,
   "id": "b5f7baa7",
   "metadata": {},
   "outputs": [
    {
     "data": {
      "text/html": [
       "<style>\n",
       ".list-inline {list-style: none; margin:0; padding: 0}\n",
       ".list-inline>li {display: inline-block}\n",
       ".list-inline>li:not(:last-child)::after {content: \"\\00b7\"; padding: 0 .5ex}\n",
       "</style>\n",
       "<ol class=list-inline><li>6</li><li>10</li><li>14</li></ol>\n"
      ],
      "text/latex": [
       "\\begin{enumerate*}\n",
       "\\item 6\n",
       "\\item 10\n",
       "\\item 14\n",
       "\\end{enumerate*}\n"
      ],
      "text/markdown": [
       "1. 6\n",
       "2. 10\n",
       "3. 14\n",
       "\n",
       "\n"
      ],
      "text/plain": [
       "[1]  6 10 14"
      ]
     },
     "metadata": {},
     "output_type": "display_data"
    }
   ],
   "source": [
    "doubleval <- function(x) 2 * x #write a function that doubles x\n",
    "doubleval(c(3, 5, 7)) #test the function on a vector"
   ]
  },
  {
   "cell_type": "markdown",
   "id": "511ae92b",
   "metadata": {},
   "source": [
    "Here are other, equivalent, ways of writing this function: "
   ]
  },
  {
   "cell_type": "code",
   "execution_count": 5,
   "id": "a1d8e792",
   "metadata": {},
   "outputs": [],
   "source": [
    "doubleval <- function(x) return(2 * x)\n",
    "doubleval <- function(x) {\n",
    "    tranformation <- 2 * x\n",
    "    transformation\n",
    "}\n",
    "doubleval <- function(x) {\n",
    "    tranformation <- 2 * x\n",
    "    return(transformation)\n",
    "}"
   ]
  },
  {
   "cell_type": "markdown",
   "id": "d8f52178",
   "metadata": {},
   "source": [
    "Observe the following:\n",
    "\n",
    "1. Functions include some input or, more technically, one or many\n",
    "*parameters*. The function `doubleval` has one parameter called `x`;\n",
    "`median2` also has one parameter (`vec`). The name of parameters are\n",
    "arbitrary: you can call them whatever you want as long as you\n",
    "reference the same name within the function. Note that functions often\n",
    "have more than one parameter.\n",
    "\n",
    "2. Functions include a line that specifies the output of the\n",
    "function. For clarity, it is useful to use the `return()` statement\n",
    "for indicating what the function is outputting, although this is\n",
    "not necessary. \n",
    "\n",
    "3. If a function includes several operations, those operations should\n",
    "be written on separate lines and be surrounded by curly brackets\n",
    "(`{}`).  Very simple functions can be written on one line, omitting\n",
    "the curly brackets.\n",
    "\n",
    "4. Objects created within functions do not exist in the\n",
    "global variable space. For example, `vec_sort` in the function\n",
    "`median2` (and other objects created within the function) cannot be\n",
    "accessed outside the function. This relates to an important feature of\n",
    "programming called [scope](http://www.wikiwand.com/en/Scope_(computer_science)). "
   ]
  },
  {
   "cell_type": "markdown",
   "id": "5dcdb2c0",
   "metadata": {},
   "source": [
    "## Applications\n",
    "\n",
    "\n",
    "Functions can be used in a wide variety of scenarios. Here are two applications, \n",
    "which I go over in detail below:\n",
    "\n",
    "1. A function that reads and manipulates a .csv file. Use it with\n",
    "`lapply()` or in a `for` loop to iterate over several files with a\n",
    "similar structure. Then combine the resulting data frames into one\n",
    "data frame.\n",
    "\n",
    "2. A function that carries out a regression or graphing analysis on a\n",
    "select number of variables or on a subset of the data."
   ]
  },
  {
   "cell_type": "markdown",
   "id": "3307f21a",
   "metadata": {},
   "source": [
    "Reading several files\n",
    "---------------------\n",
    "\n",
    "Begin by downloading a [.zip file with service request data from NYC](../data/nyc-311-sample.zip).\n",
    "The zip file contains six files for years 2004-2009, each with 10,000 observations. The data are\n",
    "originally from [NYC's Open Data portal](https://nycopendata.socrata.com/data?cat=social%20services),\n",
    "which hosts datasets with millions of service requests filed by residents through\n",
    "the city's 311 program. For the purpose of this example, I have taken a random sample\n",
    "of 10,000 for each year.\n",
    "\n",
    "Here's what the 2004 file looks like (the other years have the same structure)."
   ]
  },
  {
   "cell_type": "code",
   "execution_count": 6,
   "id": "8e6c33a3",
   "metadata": {},
   "outputs": [
    {
     "ename": "ERROR",
     "evalue": "Error in parse(text = x, srcfile = src): attempt to use zero-length variable name\n",
     "output_type": "error",
     "traceback": [
      "Error in parse(text = x, srcfile = src): attempt to use zero-length variable name\nTraceback:\n"
     ]
    }
   ],
   "source": [
    "\n",
    "```{r, eval=FALSE}\n",
    "# Read the 311 data for 2004 (after setting the working directory)\n",
    "nyc04 <- read.csv(\"nyc-311-2004-sample.csv\")\n",
    "head(nyc04)"
   ]
  },
  {
   "cell_type": "code",
   "execution_count": null,
   "id": "ddaa7222",
   "metadata": {
    "tags": [
     "remove_input"
    ]
   },
   "outputs": [],
   "source": [
    "nyc04 <- read.csv(\"../data/nyc-311-sample/nyc-311-2004-sample.csv\")\n",
    "head(nyc04)"
   ]
  },
  {
   "cell_type": "markdown",
   "id": "d32b8f2d",
   "metadata": {},
   "source": [
    "The variables in the data are as follows: \n",
    "\n",
    "* `Unique.Key`: An id number unique to each request.\n",
    "* `Created.Date`: The date the request was filed in the 311 system.\n",
    "* `Closed.Date`: The date the request was resolved by city workers (`NA`\n",
    "implies that it was never resolved).\n",
    "* `Complaint.Type`: The subject of the complaint.\n",
    "* `Location`: Coordinates that give the location of the service issue."
   ]
  },
  {
   "cell_type": "markdown",
   "id": "08cc7026",
   "metadata": {},
   "source": [
    "Our goal with the function is to read the file and clean it. In particular,\n",
    "we want to convert the `Created.Date` and `Closed.Date` variables so that\n",
    "R recognizes them as dates. From these variables, we can then calculate\n",
    "measures of *government responsiveness*: (1) how many days it took city\n",
    "workers to resolve a request, and (2) whether or not a request was resolved\n",
    "within a week. "
   ]
  },
  {
   "cell_type": "code",
   "execution_count": null,
   "id": "9deb82e1",
   "metadata": {},
   "outputs": [],
   "source": [
    "# Load required packages\n",
    "require(dplyr) \n",
    "require(lubridate) #to work with dates\n",
    "\n",
    "# Create a function that reads and cleans a service request file.\n",
    "# The input is the name of a service request file and the\n",
    "# output is a data frame with cleaned variables.  \n",
    "clean_dta <- function(file_name) {\n",
    "\n",
    "    # Read the file and save it to an object called 'dta'\n",
    "    dta <- read.csv(file_name)\n",
    "\n",
    "    # Clean the dates in the dta file and generate responsiveness measures\n",
    "    dta <- dta %>%\n",
    "        mutate(opened = mdy(substring(Created.Date, 1, 10)),\n",
    "               closed = mdy(substring(Closed.Date, 1, 10)),\n",
    "               resptime = as.numeric(difftime(closed, opened, units = \"days\")),\n",
    "               resptime = ifelse(resptime >=0, resptime, NA),\n",
    "               solvedin7 = ifelse(resptime <= 7, 1, 0))\n",
    "\n",
    "    # Return the cleaned data \n",
    "    return(dta)\n",
    "}\n"
   ]
  },
  {
   "cell_type": "markdown",
   "id": "7f41e873",
   "metadata": {},
   "source": [
    "Let's test the function on the 2004 data:"
   ]
  },
  {
   "cell_type": "code",
   "execution_count": null,
   "id": "c712463f",
   "metadata": {
    "eval": false
   },
   "outputs": [],
   "source": [
    "# Execute function on the 2004 data \n",
    "nyc04 <- clean_dta(\"nyc-311-2004-sample.csv\")\n",
    "head(nyc04)"
   ]
  },
  {
   "cell_type": "code",
   "execution_count": null,
   "id": "3ac09ba9",
   "metadata": {
    "tags": [
     "remove_input"
    ]
   },
   "outputs": [],
   "source": [
    "nyc04 <- clean_dta(\"../data/nyc-311-sample/nyc-311-2004-sample.csv\")\n",
    "head(nyc04)"
   ]
  },
  {
   "cell_type": "markdown",
   "id": "e85d0475",
   "metadata": {},
   "source": [
    "The cleaned dataset has four new variables:\n",
    "\n",
    "* `opened`: The date the request was filed in date format. \n",
    "* `closed`: The date the request was resolved in date format. \n",
    "* `resptime`: The number of days it took to resolve the request (`closed` - `opened`).\n",
    "* `solvedin7`: A dummy variable equal to 1 if the request was solved within a week\n",
    "  and 0 otherwise. \n",
    "\n",
    "We can now use this function on all the six files using \n",
    "`lapply()`, saving each cleaned data frame into a\n",
    "list. (Read more about `lapply()`\n",
    "[here](http://www.r-bloggers.com/using-apply-sapply-lapply-in-r/). Of course,\n",
    "you can also use a [for loop](../for-loops).)\n"
   ]
  },
  {
   "cell_type": "code",
   "execution_count": null,
   "id": "4fb6978f",
   "metadata": {},
   "outputs": [],
   "source": [
    "# First create a vector with the names of the files we want to read\n",
    "file_names <- paste0(\"nyc-311-\", 2004:2009, \"-sample.csv\")\n",
    "file_names"
   ]
  },
  {
   "cell_type": "code",
   "execution_count": null,
   "id": "b57f5de5",
   "metadata": {
    "tags": [
     "remove_input"
    ]
   },
   "outputs": [],
   "source": [
    "file_names <- paste0(\"../data/nyc-311-sample/nyc-311-\", 2004:2009, \"-sample.csv\")"
   ]
  },
  {
   "cell_type": "code",
   "execution_count": null,
   "id": "d1a052f2",
   "metadata": {},
   "outputs": [],
   "source": [
    "# Now use the vector of file names and the 'clean_dta' function in lapply()\n",
    "nyc_all <- lapply(file_names, clean_dta)"
   ]
  },
  {
   "cell_type": "markdown",
   "id": "98922981",
   "metadata": {},
   "source": [
    "The list `nyc_all` now has six elements, consisting of cleaned data for each\n",
    "of the years in 2004-2009. For example, here's the first and second elements\n",
    "with the 2004 and 2005 data: "
   ]
  },
  {
   "cell_type": "code",
   "execution_count": null,
   "id": "3459c3b1",
   "metadata": {},
   "outputs": [],
   "source": [
    "head(nyc_all[[1]]) #cleaned data for 2004\n",
    "head(nyc_all[[2]]) #cleaned data for 2005 "
   ]
  },
  {
   "cell_type": "markdown",
   "id": "7dbce218",
   "metadata": {},
   "source": [
    "Here's the same task using a `for` loop instead. (In reality, you'd either use\n",
    "`lapply()` or a `for` loop, not both --- this is just for illustrative purposes. As\n",
    "you'll see, `lapply()` is more compact and elegant in this case, but a `for` loop\n",
    "is probably more intuitive.) "
   ]
  },
  {
   "cell_type": "code",
   "execution_count": null,
   "id": "93d466b5",
   "metadata": {},
   "outputs": [],
   "source": [
    "nyc_all <- list()\n",
    "for(i in 1:length(file_names)) {\n",
    "    nyc_all[[i]] <- clean_dta(file_names[i])\n",
    "}\n",
    "head(nyc_all[[1]]) #take a look at the 2004 data"
   ]
  },
  {
   "cell_type": "markdown",
   "id": "b993bcab",
   "metadata": {},
   "source": [
    "Finally, let's [append](../merging-appending) the data frames stored in\n",
    "the `nyc_all` list into one data frame. This is easy using\n",
    "`do.call()` and `rbind()`. "
   ]
  },
  {
   "cell_type": "code",
   "execution_count": null,
   "id": "26e4bf43",
   "metadata": {
    "lines_to_next_cell": 2
   },
   "outputs": [],
   "source": [
    "# List of data frames --> one data frame\n",
    "nyc_all <- do.call(rbind, nyc_all)\n",
    "class(nyc_all) #nyc_all is now a data frame\n",
    "dim(nyc_all) #nyc_all now has 60,000 observations \n",
    "summary(nyc_all$opened) #opened contains all years in 2004-2009"
   ]
  },
  {
   "cell_type": "markdown",
   "id": "551e163a",
   "metadata": {},
   "source": [
    "Complex analyses \n",
    "---------------------\n",
    "\n",
    "Functions can also be used when you have to carry out a bunch of\n",
    "analyses in a flexible way. Let's use the `nyc_all` dataset that we\n",
    "just created above to test the hypothesis that it takes city workers\n",
    "in NYC a longer time to resolve requests that are filed during the winter\n",
    "(December-February), presumably because of tougher weather conditions.\n",
    "\n",
    "First let's add a dummy variable equal to 1 if a request was filed\n",
    "during December-February."
   ]
  },
  {
   "cell_type": "code",
   "execution_count": null,
   "id": "e6b0c7fe",
   "metadata": {},
   "outputs": [],
   "source": [
    "nyc_all <- nyc_all %>% mutate(winter = ifelse(month(opened) %in% c(1, 2, 12), 1, 0))\n",
    "head(select(nyc_all, opened, winter)) #'winter' equals 1 if request opened in Dec-Feb"
   ]
  },
  {
   "cell_type": "markdown",
   "id": "46760167",
   "metadata": {},
   "source": [
    "Now let's write a function that allows us to test our hypothesis in a\n",
    "few different ways. The function has four parameters:\n",
    "\n",
    "* `dta`: the data frame to use in the analyses (probably `nyc_all`).\n",
    "* `model`: a regression model, specified in a `formula()` call\n",
    "* `method`: the method by which to carry out the analysis (either \"OLS\" or \"logit\").\n",
    "\n",
    "The output of the will be a regression table (either OLS or logit). \n"
   ]
  },
  {
   "cell_type": "code",
   "execution_count": null,
   "id": "cefef0a4",
   "metadata": {},
   "outputs": [],
   "source": [
    "nyc_analysis <- function(dta, model, method) {\n",
    "\n",
    "    if (method == \"OLS\") {\n",
    "        m <- lm(model, data = dta)\n",
    "    } else if (method == \"logit\") {\n",
    "        m <- glm(model, data = dta, family = binomial)\n",
    "    }\n",
    "\n",
    "    return(summary(m))\n",
    "    \n",
    "}\n",
    "\n",
    "# Run OLS and logit models\n",
    "nyc_analysis(nyc_all, formula(resptime ~ winter), \"OLS\")\n",
    "nyc_analysis(nyc_all, formula(solvedin7 ~ winter), \"logit\")"
   ]
  },
  {
   "cell_type": "markdown",
   "id": "1e239ffe",
   "metadata": {},
   "source": [
    "It actually appears that, on average, it takes city workers less time\n",
    "--- about 5 days less --- to respond to service requests during the winter\n",
    "(OLS model), which is corroborated by the logit model, which shows a\n",
    "higher likelihood of requests being resolved within a week during the\n",
    "winter.\n",
    "\n",
    "Say we settle for the OLS model and want to graph the OLS coefficient\n",
    "for each year in the data (to look at over-time changes). We can then\n",
    "write a function that gets the OLS coefficient on `winter` for a desired\n",
    "year as well as lower and upper 95% confidence bounds on this\n",
    "estimate. \n"
   ]
  },
  {
   "cell_type": "code",
   "execution_count": null,
   "id": "55016c13",
   "metadata": {
    "lines_to_next_cell": 2
   },
   "outputs": [],
   "source": [
    "nyc_ols <- function(dta, model, year) {\n",
    "\n",
    "    # Filter the data to the desired year\n",
    "    sub <- dta %>% filter(year(opened) == year)\n",
    "\n",
    "    # Run OLS model\n",
    "    m <- lm(model, data = sub)\n",
    "\n",
    "    # Get the coefficient estimate, standard error, and confidence bounds\n",
    "    coef <- coef(m)[2]\n",
    "    se <- sqrt(diag(vcov(m)))[2]\n",
    "    lb <- coef - se * 1.96\n",
    "    ub <- coef + se * 1.96\n",
    "    \n",
    "    # Create a data frame with this information (as well as the year)\n",
    "    # The data frame will have only one row\n",
    "    result <- data.frame(year, coef, se, lb, ub, row.names = NULL)\n",
    "\n",
    "    return(result) \n",
    "    \n",
    "}\n",
    "\n",
    "# Test that the function works for 2004\n",
    "nyc_ols(nyc_all, formula(resptime ~ winter), 2004)\n",
    "\n",
    "# Confirm using regular approach\n",
    "# Coefficient and SE should be the same as above\n",
    "summary(lm(resptime ~ winter, data = nyc_all, subset = year(opened) == 2004))"
   ]
  },
  {
   "cell_type": "markdown",
   "id": "457e8bd9",
   "metadata": {},
   "source": [
    "Now that we can run this model for a given year, we can iterate over\n",
    "all the years in the dataset, again using `lapply()` (which creates a\n",
    "list of data frames). We then create one data frame from this list and\n",
    "graph the results.\n"
   ]
  },
  {
   "cell_type": "code",
   "execution_count": null,
   "id": "3d6332de",
   "metadata": {},
   "outputs": [],
   "source": [
    "f <- formula(resptime ~ winter)\n",
    "nyc_results <- lapply(2004:2009, nyc_ols, dta = nyc_all, model = f)\n",
    "nyc_results <- do.call(rbind, nyc_results) #list --> data.frame\n",
    "nyc_results\n",
    "\n",
    "# Graph the results\n",
    "require(ggplot2)\n",
    "\n",
    "ggplot(nyc_results, aes(x = year, y = coef)) +\n",
    "    geom_point() +\n",
    "    geom_errorbar(aes(ymin = lb, ymax = ub), width = 0) +\n",
    "    geom_hline() +\n",
    "    theme_bw() +\n",
    "    ylab(\"response time during winter compared to summer (days)\") + \n",
    "    ggtitle(\"Response time during winter compared to summer (in days)\")"
   ]
  },
  {
   "cell_type": "markdown",
   "id": "fd2d194b",
   "metadata": {},
   "source": [
    "Note that negative values indicate how many fewer days, on average, it\n",
    "takes city workers to resolve requests during the winter as compared\n",
    "to the summer. If this analysis is correct, it seems like it takes the\n",
    "city less time to respond to service requests during the winter as\n",
    "compared to the summer (between 2 and 9 days less) for all years\n",
    "except 2004.\n",
    "\n",
    "We can also run the analyses with controls. Most importantly, maybe a\n",
    "different type of complaint is filed during the winter than during other\n",
    "periods of the year. We can adjust for such potential confounding by\n",
    "introducing complaint type as a covariate in the analysis:\n"
   ]
  },
  {
   "cell_type": "code",
   "execution_count": null,
   "id": "99b9a927",
   "metadata": {},
   "outputs": [],
   "source": [
    "f <- formula(resptime ~ winter + factor(Complaint.Type))\n",
    "nyc_results <- lapply(2004:2009, nyc_ols, dta = nyc_all, model = f)\n",
    "nyc_results <- do.call(rbind, nyc_results) #list --> data.frame\n",
    "nyc_results\n",
    "\n",
    "# Graph the results\n",
    "require(ggplot2)\n",
    "\n",
    "ggplot(nyc_results, aes(x = year, y = coef)) +\n",
    "    geom_point() +\n",
    "    geom_errorbar(aes(ymin = lb, ymax = ub), width = 0) +\n",
    "    geom_hline() +\n",
    "    theme_bw() +\n",
    "    ylab(\"response time during winter compared to summer (days)\") +  \n",
    "    ggtitle(\"Response time, winter v. summer (controlling for complaint type)\")"
   ]
  },
  {
   "cell_type": "markdown",
   "id": "ecaf4fd8",
   "metadata": {},
   "source": [
    "Now it indeed seems like it takes *longer* to resolve service\n",
    "requests during the winter (at least between 2004 and 2006). "
   ]
  },
  {
   "cell_type": "markdown",
   "id": "e6b3c061",
   "metadata": {},
   "source": [
    "To summarize, in the applications above, a function was created to\n",
    "allow for easy and flexible completion of a task. Not creating a\n",
    "function for these tasks would work, though it would also result in\n",
    "more verbose code (e.g., copying and pasting, changing only some\n",
    "aspects of the code).  Functions minimize potential mistakes that may\n",
    "result from such manual iteration of code. They are also useful for\n",
    "carrying out a range of analyses and graphing the results, as the last\n",
    "application makes clear. "
   ]
  },
  {
   "cell_type": "markdown",
   "id": "72badb95",
   "metadata": {},
   "source": [
    "Exercises \n",
    "\n",
    "\n",
    "1. Write a function called `second_largest` that finds the second\n",
    "largest value in a vector of numeric values. That is, the input should\n",
    "be a numeric vector and the output should be the second largest value\n",
    "in the vector. You can assume that the input vector has at least two\n",
    "values. Test your function on the following two vectors: \n",
    "\n",
    "* `v1 <- 1:10`\n",
    "* `v2 <- c(15, 1000, 2, 3, 8)`\n",
    "\n",
    "2. Modify the `second_largest` function so that it accounts for two\n",
    "special cases: (1) when the user inputs a numeric vector with only\n",
    "one value, the function should return the message \"Invalid input: at\n",
    "least two values required\"; (2) when the user inputs a vector that is\n",
    "**not** numeric, the function should return the message \"Invalid input:\n",
    "only numeric vectors accepted\". Test your new function on the following\n",
    "vectors:\n",
    "\n",
    "* `v1 <- 1:10`\n",
    "* `v2 <- 2`\n",
    "* `v3 <- c(\"banana\", \"apple\", \"orange\")`\n",
    "* `v4 <- as.factor(1:10)`\n",
    "\n",
    "3. Using the `nyc_all` data frame created above (it should have 60,000\n",
    "observations and have observations from 2004 to 2009), write a\n",
    "function called `no_obs` that finds the number of observations for a\n",
    "given complaint type in a given year. The function should have three\n",
    "parameters: `dta` (the data frame of interest), `type` (the complaint\n",
    "type category as a string), and `year` (the year the request was\n",
    "opened).  The output of the function should be a data frame with one\n",
    "row with the name of the complaint type, the year, and a value with\n",
    "the number of observations. The function should be indifferent to\n",
    "whether the complaint type is in upper or lower case or capitalized\n",
    "(e.g., \"HEATING\", \"Heating\", and \"heating\" should be counted as one\n",
    "complaint type). You can assume the input data frame (`dta`) always\n",
    "has a variable called `Complaint.Type`. Test your function by ensuring\n",
    "that the results for the complaint types \"Sewer\", \"sewer\", and\n",
    "\"heating\" for various years look as follows: "
   ]
  },
  {
   "cell_type": "code",
   "execution_count": 1,
   "id": "d57f9078",
   "metadata": {
    "tags": [
     "remove_input"
    ]
   },
   "outputs": [],
   "source": [
    "no_obs <- function(dta, type, year) {\n",
    "\n",
    "    type <- tolower(type)\n",
    "    dta$Complaint.Type <- tolower(dta$Complaint.Type)\n",
    "\n",
    "    sub <- dta %>% filter(Complaint.Type == type, year(opened) == year)\n",
    "\n",
    "    return(data.frame(complaint.type = type, year, n = nrow(sub)))\n",
    "\n",
    "}"
   ]
  },
  {
   "cell_type": "markdown",
   "id": "7406faf4",
   "metadata": {
    "lines_to_next_cell": 0
   },
   "source": [
    "<div class=\"indent\">"
   ]
  },
  {
   "cell_type": "code",
   "execution_count": null,
   "id": "8e467102",
   "metadata": {
    "lines_to_next_cell": 0
   },
   "outputs": [],
   "source": [
    "no_obs(dta = nyc_all, type = \"Sewer\", year = 2004)\n",
    "no_obs(dta = nyc_all, type = \"sewer\", year = 2004)\n",
    "no_obs(dta = nyc_all, type = \"heating\", year = 2004)\n",
    "no_obs(dta = nyc_all, type = \"heating\", year = 2009)"
   ]
  },
  {
   "cell_type": "markdown",
   "id": "f0085f1f",
   "metadata": {},
   "source": [
    "</div>\n",
    "\n",
    "\n"
   ]
  }
 ],
 "metadata": {
  "jupytext": {
   "cell_metadata_filter": "tags,eval,-all",
   "main_language": "R",
   "notebook_metadata_filter": "-all"
  },
  "kernelspec": {
   "display_name": "R",
   "language": "R",
   "name": "ir"
  },
  "language_info": {
   "codemirror_mode": "r",
   "file_extension": ".r",
   "mimetype": "text/x-r-source",
   "name": "R",
   "pygments_lexer": "r",
   "version": "4.1.0"
  }
 },
 "nbformat": 4,
 "nbformat_minor": 5
}
