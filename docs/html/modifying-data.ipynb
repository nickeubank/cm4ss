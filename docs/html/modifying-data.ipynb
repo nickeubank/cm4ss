{
 "cells": [
  {
   "cell_type": "markdown",
   "id": "6a529cde",
   "metadata": {},
   "source": [
    "# Modifying Data\n",
    "\n",
    "Being able to quickly modify datasets is critical. This involves, among other things --  subsetting, sorting, extracting unique observations, renaming variables, dropping variables, and creating new variables.  To accomplish each of these tasks, we'll use a set of\n",
    " relatively new functions introduced in the **dplyr** package developed\n",
    " by [Hadley Wickham](http://had.co.nz/).  A nice introduction to this\n",
    " package is [here](https://cran.rstudio.com/web/packages/dplyr/vignettes/introduction.html).\n",
    " I'll try to give more of a beginner's introduction below.\n"
   ]
  },
  {
   "cell_type": "markdown",
   "id": "cb67984d",
   "metadata": {},
   "source": [
    "<tbody>\n",
    "<tr>\n",
    "<td>Subsetting</td>\n",
    "<td>`filter()`</td>\n",
    "</tr>\n",
    "<tr>\n",
    "<td>Sorting</td>\n",
    "<td>`arrange()`</td>\n",
    "</tr>\n",
    "<tr>\n",
    "<td>Dropping variables</td>\n",
    "<td>`select()`</td>\n",
    "</tr>\n",
    "<tr>\n",
    "<td>Renaming variables</td>\n",
    "<td>`rename()`</td>\n",
    "</tr>\n",
    "<tr>\n",
    "<td>Extracting unique values</td>\n",
    "<td>`distinct()`</td>\n",
    "</tr>\n",
    "<tr>\n",
    "<td>Creating new variables</td>\n",
    "<td>`mutate()`</td>\n",
    "</tr>\n",
    "<tr>\n",
    "<td>Collapsing data&#42;</td>\n",
    "<td>`group_by()` and `summarize()` \n",
    "</tr>\n",
    "</tbody>\n"
   ]
  },
  {
   "cell_type": "markdown",
   "id": "41bc8dca",
   "metadata": {},
   "source": [
    "</table>"
   ]
  },
  {
   "cell_type": "markdown",
   "id": "2ebf8d41",
   "metadata": {},
   "source": [
    "All of these tasks can also be accomplished using R's base\n",
    "functions, but this usually requires more involved code.  An\n",
    "additional advantage of using dplyr functions is that they can be\n",
    "combined in an elegant way using [chaining](#chaining).\n",
    "\n",
    "To demonstrate these functions, we'll rely on a small\n",
    "data frame called `countries` that you can create as follows: "
   ]
  },
  {
   "cell_type": "code",
   "execution_count": 1,
   "id": "d096fb15",
   "metadata": {},
   "outputs": [
    {
     "data": {
      "text/html": [
       "<table class=\"dataframe\">\n",
       "<caption>A data.frame: 9 × 3</caption>\n",
       "<thead>\n",
       "\t<tr><th scope=col>country</th><th scope=col>year</th><th scope=col>gdp_pc</th></tr>\n",
       "\t<tr><th scope=col>&lt;chr&gt;</th><th scope=col>&lt;int&gt;</th><th scope=col>&lt;dbl&gt;</th></tr>\n",
       "</thead>\n",
       "<tbody>\n",
       "\t<tr><td>USA  </td><td>1994</td><td> 3673</td></tr>\n",
       "\t<tr><td>China</td><td>1994</td><td> 7019</td></tr>\n",
       "\t<tr><td>Sudan</td><td>1994</td><td>18047</td></tr>\n",
       "\t<tr><td>USA  </td><td>1995</td><td> 8248</td></tr>\n",
       "\t<tr><td>China</td><td>1995</td><td>17913</td></tr>\n",
       "\t<tr><td>Sudan</td><td>1995</td><td> 9540</td></tr>\n",
       "\t<tr><td>USA  </td><td>1996</td><td>13443</td></tr>\n",
       "\t<tr><td>China</td><td>1996</td><td>17617</td></tr>\n",
       "\t<tr><td>Sudan</td><td>1996</td><td> 6457</td></tr>\n",
       "</tbody>\n",
       "</table>\n"
      ],
      "text/latex": [
       "A data.frame: 9 × 3\n",
       "\\begin{tabular}{lll}\n",
       " country & year & gdp\\_pc\\\\\n",
       " <chr> & <int> & <dbl>\\\\\n",
       "\\hline\n",
       "\t USA   & 1994 &  3673\\\\\n",
       "\t China & 1994 &  7019\\\\\n",
       "\t Sudan & 1994 & 18047\\\\\n",
       "\t USA   & 1995 &  8248\\\\\n",
       "\t China & 1995 & 17913\\\\\n",
       "\t Sudan & 1995 &  9540\\\\\n",
       "\t USA   & 1996 & 13443\\\\\n",
       "\t China & 1996 & 17617\\\\\n",
       "\t Sudan & 1996 &  6457\\\\\n",
       "\\end{tabular}\n"
      ],
      "text/markdown": [
       "\n",
       "A data.frame: 9 × 3\n",
       "\n",
       "| country &lt;chr&gt; | year &lt;int&gt; | gdp_pc &lt;dbl&gt; |\n",
       "|---|---|---|\n",
       "| USA   | 1994 |  3673 |\n",
       "| China | 1994 |  7019 |\n",
       "| Sudan | 1994 | 18047 |\n",
       "| USA   | 1995 |  8248 |\n",
       "| China | 1995 | 17913 |\n",
       "| Sudan | 1995 |  9540 |\n",
       "| USA   | 1996 | 13443 |\n",
       "| China | 1996 | 17617 |\n",
       "| Sudan | 1996 |  6457 |\n",
       "\n"
      ],
      "text/plain": [
       "  country year gdp_pc\n",
       "1 USA     1994  3673 \n",
       "2 China   1994  7019 \n",
       "3 Sudan   1994 18047 \n",
       "4 USA     1995  8248 \n",
       "5 China   1995 17913 \n",
       "6 Sudan   1995  9540 \n",
       "7 USA     1996 13443 \n",
       "8 China   1996 17617 \n",
       "9 Sudan   1996  6457 "
      ]
     },
     "metadata": {},
     "output_type": "display_data"
    }
   ],
   "source": [
    "countries <- data.frame(\n",
    "    expand.grid(country = c(\"USA\", \"China\", \"Sudan\"), year = 1994:1996),\n",
    "    gdp_pc = round(runif(9, 1000, 20000), 0)\n",
    "    )\n",
    "countries$country <- as.character(countries$country) #factor --> character\n",
    "countries"
   ]
  },
  {
   "cell_type": "markdown",
   "id": "102a03da",
   "metadata": {},
   "source": [
    "We'll also make use of `world-small.csv`, which you can download\n",
    "[here](data/world-small.csv).\n",
    "\n",
    "Before we begin, let's also load two packages we'll need. (Of course,\n",
    "they need to be installed first --- remind yourself\n",
    "[here](../introduction/#packages).)"
   ]
  },
  {
   "cell_type": "code",
   "execution_count": 2,
   "id": "afba55d0",
   "metadata": {},
   "outputs": [
    {
     "name": "stderr",
     "output_type": "stream",
     "text": [
      "Loading required package: plyr\n",
      "\n",
      "Warning message in library(package, lib.loc = lib.loc, character.only = TRUE, logical.return = TRUE, :\n",
      "\"there is no package called 'plyr'\"\n",
      "Loading required package: dplyr\n",
      "\n",
      "\n",
      "Attaching package: 'dplyr'\n",
      "\n",
      "\n",
      "The following objects are masked from 'package:stats':\n",
      "\n",
      "    filter, lag\n",
      "\n",
      "\n",
      "The following objects are masked from 'package:base':\n",
      "\n",
      "    intersect, setdiff, setequal, union\n",
      "\n",
      "\n"
     ]
    }
   ],
   "source": [
    "require(plyr) \n",
    "require(dplyr) "
   ]
  },
  {
   "cell_type": "markdown",
   "id": "a051a50f",
   "metadata": {},
   "source": [
    "\n",
    "## Subsetting\n",
    "\n",
    "The best way to subset a dataset is by using a logical statement. The\n",
    "idea is that we want to keep only some *rows* in a dataset that meet\n",
    "some logical condition.\n",
    "\n",
    "Say we wanted to subset the `countries` dataset to (1) a certain\n",
    "country, (2) a certain year, (3) a certain country *and* year, or (4)\n",
    "a certain GDP range. Here's how we can do this using `filter()`."
   ]
  },
  {
   "cell_type": "code",
   "execution_count": 3,
   "id": "e2283fc0",
   "metadata": {},
   "outputs": [
    {
     "data": {
      "text/html": [
       "<table class=\"dataframe\">\n",
       "<caption>A data.frame: 3 × 3</caption>\n",
       "<thead>\n",
       "\t<tr><th scope=col>country</th><th scope=col>year</th><th scope=col>gdp_pc</th></tr>\n",
       "\t<tr><th scope=col>&lt;chr&gt;</th><th scope=col>&lt;int&gt;</th><th scope=col>&lt;dbl&gt;</th></tr>\n",
       "</thead>\n",
       "<tbody>\n",
       "\t<tr><td>China</td><td>1994</td><td> 7019</td></tr>\n",
       "\t<tr><td>China</td><td>1995</td><td>17913</td></tr>\n",
       "\t<tr><td>China</td><td>1996</td><td>17617</td></tr>\n",
       "</tbody>\n",
       "</table>\n"
      ],
      "text/latex": [
       "A data.frame: 3 × 3\n",
       "\\begin{tabular}{lll}\n",
       " country & year & gdp\\_pc\\\\\n",
       " <chr> & <int> & <dbl>\\\\\n",
       "\\hline\n",
       "\t China & 1994 &  7019\\\\\n",
       "\t China & 1995 & 17913\\\\\n",
       "\t China & 1996 & 17617\\\\\n",
       "\\end{tabular}\n"
      ],
      "text/markdown": [
       "\n",
       "A data.frame: 3 × 3\n",
       "\n",
       "| country &lt;chr&gt; | year &lt;int&gt; | gdp_pc &lt;dbl&gt; |\n",
       "|---|---|---|\n",
       "| China | 1994 |  7019 |\n",
       "| China | 1995 | 17913 |\n",
       "| China | 1996 | 17617 |\n",
       "\n"
      ],
      "text/plain": [
       "  country year gdp_pc\n",
       "1 China   1994  7019 \n",
       "2 China   1995 17913 \n",
       "3 China   1996 17617 "
      ]
     },
     "metadata": {},
     "output_type": "display_data"
    },
    {
     "data": {
      "text/html": [
       "<table class=\"dataframe\">\n",
       "<caption>A data.frame: 3 × 3</caption>\n",
       "<thead>\n",
       "\t<tr><th scope=col>country</th><th scope=col>year</th><th scope=col>gdp_pc</th></tr>\n",
       "\t<tr><th scope=col>&lt;chr&gt;</th><th scope=col>&lt;int&gt;</th><th scope=col>&lt;dbl&gt;</th></tr>\n",
       "</thead>\n",
       "<tbody>\n",
       "\t<tr><td>USA  </td><td>1996</td><td>13443</td></tr>\n",
       "\t<tr><td>China</td><td>1996</td><td>17617</td></tr>\n",
       "\t<tr><td>Sudan</td><td>1996</td><td> 6457</td></tr>\n",
       "</tbody>\n",
       "</table>\n"
      ],
      "text/latex": [
       "A data.frame: 3 × 3\n",
       "\\begin{tabular}{lll}\n",
       " country & year & gdp\\_pc\\\\\n",
       " <chr> & <int> & <dbl>\\\\\n",
       "\\hline\n",
       "\t USA   & 1996 & 13443\\\\\n",
       "\t China & 1996 & 17617\\\\\n",
       "\t Sudan & 1996 &  6457\\\\\n",
       "\\end{tabular}\n"
      ],
      "text/markdown": [
       "\n",
       "A data.frame: 3 × 3\n",
       "\n",
       "| country &lt;chr&gt; | year &lt;int&gt; | gdp_pc &lt;dbl&gt; |\n",
       "|---|---|---|\n",
       "| USA   | 1996 | 13443 |\n",
       "| China | 1996 | 17617 |\n",
       "| Sudan | 1996 |  6457 |\n",
       "\n"
      ],
      "text/plain": [
       "  country year gdp_pc\n",
       "1 USA     1996 13443 \n",
       "2 China   1996 17617 \n",
       "3 Sudan   1996  6457 "
      ]
     },
     "metadata": {},
     "output_type": "display_data"
    },
    {
     "data": {
      "text/html": [
       "<table class=\"dataframe\">\n",
       "<caption>A data.frame: 1 × 3</caption>\n",
       "<thead>\n",
       "\t<tr><th scope=col>country</th><th scope=col>year</th><th scope=col>gdp_pc</th></tr>\n",
       "\t<tr><th scope=col>&lt;chr&gt;</th><th scope=col>&lt;int&gt;</th><th scope=col>&lt;dbl&gt;</th></tr>\n",
       "</thead>\n",
       "<tbody>\n",
       "\t<tr><td>USA</td><td>1995</td><td>8248</td></tr>\n",
       "</tbody>\n",
       "</table>\n"
      ],
      "text/latex": [
       "A data.frame: 1 × 3\n",
       "\\begin{tabular}{lll}\n",
       " country & year & gdp\\_pc\\\\\n",
       " <chr> & <int> & <dbl>\\\\\n",
       "\\hline\n",
       "\t USA & 1995 & 8248\\\\\n",
       "\\end{tabular}\n"
      ],
      "text/markdown": [
       "\n",
       "A data.frame: 1 × 3\n",
       "\n",
       "| country &lt;chr&gt; | year &lt;int&gt; | gdp_pc &lt;dbl&gt; |\n",
       "|---|---|---|\n",
       "| USA | 1995 | 8248 |\n",
       "\n"
      ],
      "text/plain": [
       "  country year gdp_pc\n",
       "1 USA     1995 8248  "
      ]
     },
     "metadata": {},
     "output_type": "display_data"
    },
    {
     "data": {
      "text/html": [
       "<table class=\"dataframe\">\n",
       "<caption>A data.frame: 5 × 3</caption>\n",
       "<thead>\n",
       "\t<tr><th scope=col>country</th><th scope=col>year</th><th scope=col>gdp_pc</th></tr>\n",
       "\t<tr><th scope=col>&lt;chr&gt;</th><th scope=col>&lt;int&gt;</th><th scope=col>&lt;dbl&gt;</th></tr>\n",
       "</thead>\n",
       "<tbody>\n",
       "\t<tr><td>China</td><td>1994</td><td> 7019</td></tr>\n",
       "\t<tr><td>USA  </td><td>1995</td><td> 8248</td></tr>\n",
       "\t<tr><td>Sudan</td><td>1995</td><td> 9540</td></tr>\n",
       "\t<tr><td>USA  </td><td>1996</td><td>13443</td></tr>\n",
       "\t<tr><td>Sudan</td><td>1996</td><td> 6457</td></tr>\n",
       "</tbody>\n",
       "</table>\n"
      ],
      "text/latex": [
       "A data.frame: 5 × 3\n",
       "\\begin{tabular}{lll}\n",
       " country & year & gdp\\_pc\\\\\n",
       " <chr> & <int> & <dbl>\\\\\n",
       "\\hline\n",
       "\t China & 1994 &  7019\\\\\n",
       "\t USA   & 1995 &  8248\\\\\n",
       "\t Sudan & 1995 &  9540\\\\\n",
       "\t USA   & 1996 & 13443\\\\\n",
       "\t Sudan & 1996 &  6457\\\\\n",
       "\\end{tabular}\n"
      ],
      "text/markdown": [
       "\n",
       "A data.frame: 5 × 3\n",
       "\n",
       "| country &lt;chr&gt; | year &lt;int&gt; | gdp_pc &lt;dbl&gt; |\n",
       "|---|---|---|\n",
       "| China | 1994 |  7019 |\n",
       "| USA   | 1995 |  8248 |\n",
       "| Sudan | 1995 |  9540 |\n",
       "| USA   | 1996 | 13443 |\n",
       "| Sudan | 1996 |  6457 |\n",
       "\n"
      ],
      "text/plain": [
       "  country year gdp_pc\n",
       "1 China   1994  7019 \n",
       "2 USA     1995  8248 \n",
       "3 Sudan   1995  9540 \n",
       "4 USA     1996 13443 \n",
       "5 Sudan   1996  6457 "
      ]
     },
     "metadata": {},
     "output_type": "display_data"
    }
   ],
   "source": [
    "filter(countries, country == \"China\")\n",
    "filter(countries, year == 1996)\n",
    "filter(countries, country == \"USA\" & year == 1995)\n",
    "filter(countries, gdp_pc > 5000 & gdp_pc < 14000)"
   ]
  },
  {
   "cell_type": "markdown",
   "id": "c827d635",
   "metadata": {},
   "source": [
    "As should be obvious, the first argument in the `filter()` function\n",
    "specifies the dataset on which to carry out the operation. The second\n",
    "argument specifies the logical operation used to filter the data.\n",
    "\n",
    "In fact, **the first argument in all dplyr functions is a dataset**.\n",
    "Using dplyr we can move this first argument outside the function and\n",
    "use the special operator `%>%` to chain statements. The benefits of\n",
    "this will become more obvious in the section on chaining. The code\n",
    "below accomplishes the same thing as that above using `%>%` and moving\n",
    "the data frame outside the `filter()` function."
   ]
  },
  {
   "cell_type": "code",
   "execution_count": 4,
   "id": "17759b9f",
   "metadata": {},
   "outputs": [
    {
     "data": {
      "text/html": [
       "<table class=\"dataframe\">\n",
       "<caption>A data.frame: 3 × 3</caption>\n",
       "<thead>\n",
       "\t<tr><th scope=col>country</th><th scope=col>year</th><th scope=col>gdp_pc</th></tr>\n",
       "\t<tr><th scope=col>&lt;chr&gt;</th><th scope=col>&lt;int&gt;</th><th scope=col>&lt;dbl&gt;</th></tr>\n",
       "</thead>\n",
       "<tbody>\n",
       "\t<tr><td>China</td><td>1994</td><td> 7019</td></tr>\n",
       "\t<tr><td>China</td><td>1995</td><td>17913</td></tr>\n",
       "\t<tr><td>China</td><td>1996</td><td>17617</td></tr>\n",
       "</tbody>\n",
       "</table>\n"
      ],
      "text/latex": [
       "A data.frame: 3 × 3\n",
       "\\begin{tabular}{lll}\n",
       " country & year & gdp\\_pc\\\\\n",
       " <chr> & <int> & <dbl>\\\\\n",
       "\\hline\n",
       "\t China & 1994 &  7019\\\\\n",
       "\t China & 1995 & 17913\\\\\n",
       "\t China & 1996 & 17617\\\\\n",
       "\\end{tabular}\n"
      ],
      "text/markdown": [
       "\n",
       "A data.frame: 3 × 3\n",
       "\n",
       "| country &lt;chr&gt; | year &lt;int&gt; | gdp_pc &lt;dbl&gt; |\n",
       "|---|---|---|\n",
       "| China | 1994 |  7019 |\n",
       "| China | 1995 | 17913 |\n",
       "| China | 1996 | 17617 |\n",
       "\n"
      ],
      "text/plain": [
       "  country year gdp_pc\n",
       "1 China   1994  7019 \n",
       "2 China   1995 17913 \n",
       "3 China   1996 17617 "
      ]
     },
     "metadata": {},
     "output_type": "display_data"
    },
    {
     "data": {
      "text/html": [
       "<table class=\"dataframe\">\n",
       "<caption>A data.frame: 3 × 3</caption>\n",
       "<thead>\n",
       "\t<tr><th scope=col>country</th><th scope=col>year</th><th scope=col>gdp_pc</th></tr>\n",
       "\t<tr><th scope=col>&lt;chr&gt;</th><th scope=col>&lt;int&gt;</th><th scope=col>&lt;dbl&gt;</th></tr>\n",
       "</thead>\n",
       "<tbody>\n",
       "\t<tr><td>USA  </td><td>1996</td><td>13443</td></tr>\n",
       "\t<tr><td>China</td><td>1996</td><td>17617</td></tr>\n",
       "\t<tr><td>Sudan</td><td>1996</td><td> 6457</td></tr>\n",
       "</tbody>\n",
       "</table>\n"
      ],
      "text/latex": [
       "A data.frame: 3 × 3\n",
       "\\begin{tabular}{lll}\n",
       " country & year & gdp\\_pc\\\\\n",
       " <chr> & <int> & <dbl>\\\\\n",
       "\\hline\n",
       "\t USA   & 1996 & 13443\\\\\n",
       "\t China & 1996 & 17617\\\\\n",
       "\t Sudan & 1996 &  6457\\\\\n",
       "\\end{tabular}\n"
      ],
      "text/markdown": [
       "\n",
       "A data.frame: 3 × 3\n",
       "\n",
       "| country &lt;chr&gt; | year &lt;int&gt; | gdp_pc &lt;dbl&gt; |\n",
       "|---|---|---|\n",
       "| USA   | 1996 | 13443 |\n",
       "| China | 1996 | 17617 |\n",
       "| Sudan | 1996 |  6457 |\n",
       "\n"
      ],
      "text/plain": [
       "  country year gdp_pc\n",
       "1 USA     1996 13443 \n",
       "2 China   1996 17617 \n",
       "3 Sudan   1996  6457 "
      ]
     },
     "metadata": {},
     "output_type": "display_data"
    },
    {
     "data": {
      "text/html": [
       "<table class=\"dataframe\">\n",
       "<caption>A data.frame: 1 × 3</caption>\n",
       "<thead>\n",
       "\t<tr><th scope=col>country</th><th scope=col>year</th><th scope=col>gdp_pc</th></tr>\n",
       "\t<tr><th scope=col>&lt;chr&gt;</th><th scope=col>&lt;int&gt;</th><th scope=col>&lt;dbl&gt;</th></tr>\n",
       "</thead>\n",
       "<tbody>\n",
       "\t<tr><td>USA</td><td>1995</td><td>8248</td></tr>\n",
       "</tbody>\n",
       "</table>\n"
      ],
      "text/latex": [
       "A data.frame: 1 × 3\n",
       "\\begin{tabular}{lll}\n",
       " country & year & gdp\\_pc\\\\\n",
       " <chr> & <int> & <dbl>\\\\\n",
       "\\hline\n",
       "\t USA & 1995 & 8248\\\\\n",
       "\\end{tabular}\n"
      ],
      "text/markdown": [
       "\n",
       "A data.frame: 1 × 3\n",
       "\n",
       "| country &lt;chr&gt; | year &lt;int&gt; | gdp_pc &lt;dbl&gt; |\n",
       "|---|---|---|\n",
       "| USA | 1995 | 8248 |\n",
       "\n"
      ],
      "text/plain": [
       "  country year gdp_pc\n",
       "1 USA     1995 8248  "
      ]
     },
     "metadata": {},
     "output_type": "display_data"
    },
    {
     "data": {
      "text/html": [
       "<table class=\"dataframe\">\n",
       "<caption>A data.frame: 5 × 3</caption>\n",
       "<thead>\n",
       "\t<tr><th scope=col>country</th><th scope=col>year</th><th scope=col>gdp_pc</th></tr>\n",
       "\t<tr><th scope=col>&lt;chr&gt;</th><th scope=col>&lt;int&gt;</th><th scope=col>&lt;dbl&gt;</th></tr>\n",
       "</thead>\n",
       "<tbody>\n",
       "\t<tr><td>China</td><td>1994</td><td> 7019</td></tr>\n",
       "\t<tr><td>USA  </td><td>1995</td><td> 8248</td></tr>\n",
       "\t<tr><td>Sudan</td><td>1995</td><td> 9540</td></tr>\n",
       "\t<tr><td>USA  </td><td>1996</td><td>13443</td></tr>\n",
       "\t<tr><td>Sudan</td><td>1996</td><td> 6457</td></tr>\n",
       "</tbody>\n",
       "</table>\n"
      ],
      "text/latex": [
       "A data.frame: 5 × 3\n",
       "\\begin{tabular}{lll}\n",
       " country & year & gdp\\_pc\\\\\n",
       " <chr> & <int> & <dbl>\\\\\n",
       "\\hline\n",
       "\t China & 1994 &  7019\\\\\n",
       "\t USA   & 1995 &  8248\\\\\n",
       "\t Sudan & 1995 &  9540\\\\\n",
       "\t USA   & 1996 & 13443\\\\\n",
       "\t Sudan & 1996 &  6457\\\\\n",
       "\\end{tabular}\n"
      ],
      "text/markdown": [
       "\n",
       "A data.frame: 5 × 3\n",
       "\n",
       "| country &lt;chr&gt; | year &lt;int&gt; | gdp_pc &lt;dbl&gt; |\n",
       "|---|---|---|\n",
       "| China | 1994 |  7019 |\n",
       "| USA   | 1995 |  8248 |\n",
       "| Sudan | 1995 |  9540 |\n",
       "| USA   | 1996 | 13443 |\n",
       "| Sudan | 1996 |  6457 |\n",
       "\n"
      ],
      "text/plain": [
       "  country year gdp_pc\n",
       "1 China   1994  7019 \n",
       "2 USA     1995  8248 \n",
       "3 Sudan   1995  9540 \n",
       "4 USA     1996 13443 \n",
       "5 Sudan   1996  6457 "
      ]
     },
     "metadata": {},
     "output_type": "display_data"
    }
   ],
   "source": [
    "countries %>% filter(country == \"China\") \n",
    "countries %>% filter(year == 1996)\n",
    "countries %>% filter(country == \"USA\" & year == 1995)\n",
    "countries %>% filter(gdp_pc > 5000 & gdp_pc < 14000)"
   ]
  },
  {
   "cell_type": "markdown",
   "id": "5fbb8c7c",
   "metadata": {},
   "source": [
    "One last note that applies throughout most of this tutorial: I'm not\n",
    "saving the subsets to any object here. You would normally want to do\n",
    "this. (I'm not doing it here so that you can see the output of the\n",
    "function without extra lines of code.) Just to be clear, if you wanted\n",
    "to take a subset and save the result into an object you'd use the\n",
    "assignment operator as usual."
   ]
  },
  {
   "cell_type": "code",
   "execution_count": 5,
   "id": "3e2d1744",
   "metadata": {
    "lines_to_next_cell": 2
   },
   "outputs": [
    {
     "data": {
      "text/html": [
       "<table class=\"dataframe\">\n",
       "<caption>A data.frame: 3 × 3</caption>\n",
       "<thead>\n",
       "\t<tr><th scope=col>country</th><th scope=col>year</th><th scope=col>gdp_pc</th></tr>\n",
       "\t<tr><th scope=col>&lt;chr&gt;</th><th scope=col>&lt;int&gt;</th><th scope=col>&lt;dbl&gt;</th></tr>\n",
       "</thead>\n",
       "<tbody>\n",
       "\t<tr><td>China</td><td>1994</td><td> 7019</td></tr>\n",
       "\t<tr><td>China</td><td>1995</td><td>17913</td></tr>\n",
       "\t<tr><td>China</td><td>1996</td><td>17617</td></tr>\n",
       "</tbody>\n",
       "</table>\n"
      ],
      "text/latex": [
       "A data.frame: 3 × 3\n",
       "\\begin{tabular}{lll}\n",
       " country & year & gdp\\_pc\\\\\n",
       " <chr> & <int> & <dbl>\\\\\n",
       "\\hline\n",
       "\t China & 1994 &  7019\\\\\n",
       "\t China & 1995 & 17913\\\\\n",
       "\t China & 1996 & 17617\\\\\n",
       "\\end{tabular}\n"
      ],
      "text/markdown": [
       "\n",
       "A data.frame: 3 × 3\n",
       "\n",
       "| country &lt;chr&gt; | year &lt;int&gt; | gdp_pc &lt;dbl&gt; |\n",
       "|---|---|---|\n",
       "| China | 1994 |  7019 |\n",
       "| China | 1995 | 17913 |\n",
       "| China | 1996 | 17617 |\n",
       "\n"
      ],
      "text/plain": [
       "  country year gdp_pc\n",
       "1 China   1994  7019 \n",
       "2 China   1995 17913 \n",
       "3 China   1996 17617 "
      ]
     },
     "metadata": {},
     "output_type": "display_data"
    }
   ],
   "source": [
    "china <- countries %>% filter(country == \"China\")\n",
    "china"
   ]
  },
  {
   "cell_type": "markdown",
   "id": "a601a8df",
   "metadata": {},
   "source": [
    "## Sorting\n",
    "\n",
    "\n",
    "Use `arrange()` to sort a dataset. Here are a few examples. (I'll use\n",
    "the chaining operator `%>%` from now on --- if you're confused about\n",
    "this remember that you can just bring the data frame `countries`\n",
    "inside the function.)"
   ]
  },
  {
   "cell_type": "code",
   "execution_count": 6,
   "id": "760d91af",
   "metadata": {},
   "outputs": [
    {
     "data": {
      "text/html": [
       "<table class=\"dataframe\">\n",
       "<caption>A data.frame: 9 × 3</caption>\n",
       "<thead>\n",
       "\t<tr><th scope=col>country</th><th scope=col>year</th><th scope=col>gdp_pc</th></tr>\n",
       "\t<tr><th scope=col>&lt;chr&gt;</th><th scope=col>&lt;int&gt;</th><th scope=col>&lt;dbl&gt;</th></tr>\n",
       "</thead>\n",
       "<tbody>\n",
       "\t<tr><td>China</td><td>1994</td><td> 7019</td></tr>\n",
       "\t<tr><td>China</td><td>1995</td><td>17913</td></tr>\n",
       "\t<tr><td>China</td><td>1996</td><td>17617</td></tr>\n",
       "\t<tr><td>Sudan</td><td>1994</td><td>18047</td></tr>\n",
       "\t<tr><td>Sudan</td><td>1995</td><td> 9540</td></tr>\n",
       "\t<tr><td>Sudan</td><td>1996</td><td> 6457</td></tr>\n",
       "\t<tr><td>USA  </td><td>1994</td><td> 3673</td></tr>\n",
       "\t<tr><td>USA  </td><td>1995</td><td> 8248</td></tr>\n",
       "\t<tr><td>USA  </td><td>1996</td><td>13443</td></tr>\n",
       "</tbody>\n",
       "</table>\n"
      ],
      "text/latex": [
       "A data.frame: 9 × 3\n",
       "\\begin{tabular}{lll}\n",
       " country & year & gdp\\_pc\\\\\n",
       " <chr> & <int> & <dbl>\\\\\n",
       "\\hline\n",
       "\t China & 1994 &  7019\\\\\n",
       "\t China & 1995 & 17913\\\\\n",
       "\t China & 1996 & 17617\\\\\n",
       "\t Sudan & 1994 & 18047\\\\\n",
       "\t Sudan & 1995 &  9540\\\\\n",
       "\t Sudan & 1996 &  6457\\\\\n",
       "\t USA   & 1994 &  3673\\\\\n",
       "\t USA   & 1995 &  8248\\\\\n",
       "\t USA   & 1996 & 13443\\\\\n",
       "\\end{tabular}\n"
      ],
      "text/markdown": [
       "\n",
       "A data.frame: 9 × 3\n",
       "\n",
       "| country &lt;chr&gt; | year &lt;int&gt; | gdp_pc &lt;dbl&gt; |\n",
       "|---|---|---|\n",
       "| China | 1994 |  7019 |\n",
       "| China | 1995 | 17913 |\n",
       "| China | 1996 | 17617 |\n",
       "| Sudan | 1994 | 18047 |\n",
       "| Sudan | 1995 |  9540 |\n",
       "| Sudan | 1996 |  6457 |\n",
       "| USA   | 1994 |  3673 |\n",
       "| USA   | 1995 |  8248 |\n",
       "| USA   | 1996 | 13443 |\n",
       "\n"
      ],
      "text/plain": [
       "  country year gdp_pc\n",
       "1 China   1994  7019 \n",
       "2 China   1995 17913 \n",
       "3 China   1996 17617 \n",
       "4 Sudan   1994 18047 \n",
       "5 Sudan   1995  9540 \n",
       "6 Sudan   1996  6457 \n",
       "7 USA     1994  3673 \n",
       "8 USA     1995  8248 \n",
       "9 USA     1996 13443 "
      ]
     },
     "metadata": {},
     "output_type": "display_data"
    },
    {
     "data": {
      "text/html": [
       "<table class=\"dataframe\">\n",
       "<caption>A data.frame: 9 × 3</caption>\n",
       "<thead>\n",
       "\t<tr><th scope=col>country</th><th scope=col>year</th><th scope=col>gdp_pc</th></tr>\n",
       "\t<tr><th scope=col>&lt;chr&gt;</th><th scope=col>&lt;int&gt;</th><th scope=col>&lt;dbl&gt;</th></tr>\n",
       "</thead>\n",
       "<tbody>\n",
       "\t<tr><td>USA  </td><td>1994</td><td> 3673</td></tr>\n",
       "\t<tr><td>Sudan</td><td>1996</td><td> 6457</td></tr>\n",
       "\t<tr><td>China</td><td>1994</td><td> 7019</td></tr>\n",
       "\t<tr><td>USA  </td><td>1995</td><td> 8248</td></tr>\n",
       "\t<tr><td>Sudan</td><td>1995</td><td> 9540</td></tr>\n",
       "\t<tr><td>USA  </td><td>1996</td><td>13443</td></tr>\n",
       "\t<tr><td>China</td><td>1996</td><td>17617</td></tr>\n",
       "\t<tr><td>China</td><td>1995</td><td>17913</td></tr>\n",
       "\t<tr><td>Sudan</td><td>1994</td><td>18047</td></tr>\n",
       "</tbody>\n",
       "</table>\n"
      ],
      "text/latex": [
       "A data.frame: 9 × 3\n",
       "\\begin{tabular}{lll}\n",
       " country & year & gdp\\_pc\\\\\n",
       " <chr> & <int> & <dbl>\\\\\n",
       "\\hline\n",
       "\t USA   & 1994 &  3673\\\\\n",
       "\t Sudan & 1996 &  6457\\\\\n",
       "\t China & 1994 &  7019\\\\\n",
       "\t USA   & 1995 &  8248\\\\\n",
       "\t Sudan & 1995 &  9540\\\\\n",
       "\t USA   & 1996 & 13443\\\\\n",
       "\t China & 1996 & 17617\\\\\n",
       "\t China & 1995 & 17913\\\\\n",
       "\t Sudan & 1994 & 18047\\\\\n",
       "\\end{tabular}\n"
      ],
      "text/markdown": [
       "\n",
       "A data.frame: 9 × 3\n",
       "\n",
       "| country &lt;chr&gt; | year &lt;int&gt; | gdp_pc &lt;dbl&gt; |\n",
       "|---|---|---|\n",
       "| USA   | 1994 |  3673 |\n",
       "| Sudan | 1996 |  6457 |\n",
       "| China | 1994 |  7019 |\n",
       "| USA   | 1995 |  8248 |\n",
       "| Sudan | 1995 |  9540 |\n",
       "| USA   | 1996 | 13443 |\n",
       "| China | 1996 | 17617 |\n",
       "| China | 1995 | 17913 |\n",
       "| Sudan | 1994 | 18047 |\n",
       "\n"
      ],
      "text/plain": [
       "  country year gdp_pc\n",
       "1 USA     1994  3673 \n",
       "2 Sudan   1996  6457 \n",
       "3 China   1994  7019 \n",
       "4 USA     1995  8248 \n",
       "5 Sudan   1995  9540 \n",
       "6 USA     1996 13443 \n",
       "7 China   1996 17617 \n",
       "8 China   1995 17913 \n",
       "9 Sudan   1994 18047 "
      ]
     },
     "metadata": {},
     "output_type": "display_data"
    },
    {
     "data": {
      "text/html": [
       "<table class=\"dataframe\">\n",
       "<caption>A data.frame: 9 × 3</caption>\n",
       "<thead>\n",
       "\t<tr><th scope=col>country</th><th scope=col>year</th><th scope=col>gdp_pc</th></tr>\n",
       "\t<tr><th scope=col>&lt;chr&gt;</th><th scope=col>&lt;int&gt;</th><th scope=col>&lt;dbl&gt;</th></tr>\n",
       "</thead>\n",
       "<tbody>\n",
       "\t<tr><td>Sudan</td><td>1994</td><td>18047</td></tr>\n",
       "\t<tr><td>China</td><td>1995</td><td>17913</td></tr>\n",
       "\t<tr><td>China</td><td>1996</td><td>17617</td></tr>\n",
       "\t<tr><td>USA  </td><td>1996</td><td>13443</td></tr>\n",
       "\t<tr><td>Sudan</td><td>1995</td><td> 9540</td></tr>\n",
       "\t<tr><td>USA  </td><td>1995</td><td> 8248</td></tr>\n",
       "\t<tr><td>China</td><td>1994</td><td> 7019</td></tr>\n",
       "\t<tr><td>Sudan</td><td>1996</td><td> 6457</td></tr>\n",
       "\t<tr><td>USA  </td><td>1994</td><td> 3673</td></tr>\n",
       "</tbody>\n",
       "</table>\n"
      ],
      "text/latex": [
       "A data.frame: 9 × 3\n",
       "\\begin{tabular}{lll}\n",
       " country & year & gdp\\_pc\\\\\n",
       " <chr> & <int> & <dbl>\\\\\n",
       "\\hline\n",
       "\t Sudan & 1994 & 18047\\\\\n",
       "\t China & 1995 & 17913\\\\\n",
       "\t China & 1996 & 17617\\\\\n",
       "\t USA   & 1996 & 13443\\\\\n",
       "\t Sudan & 1995 &  9540\\\\\n",
       "\t USA   & 1995 &  8248\\\\\n",
       "\t China & 1994 &  7019\\\\\n",
       "\t Sudan & 1996 &  6457\\\\\n",
       "\t USA   & 1994 &  3673\\\\\n",
       "\\end{tabular}\n"
      ],
      "text/markdown": [
       "\n",
       "A data.frame: 9 × 3\n",
       "\n",
       "| country &lt;chr&gt; | year &lt;int&gt; | gdp_pc &lt;dbl&gt; |\n",
       "|---|---|---|\n",
       "| Sudan | 1994 | 18047 |\n",
       "| China | 1995 | 17913 |\n",
       "| China | 1996 | 17617 |\n",
       "| USA   | 1996 | 13443 |\n",
       "| Sudan | 1995 |  9540 |\n",
       "| USA   | 1995 |  8248 |\n",
       "| China | 1994 |  7019 |\n",
       "| Sudan | 1996 |  6457 |\n",
       "| USA   | 1994 |  3673 |\n",
       "\n"
      ],
      "text/plain": [
       "  country year gdp_pc\n",
       "1 Sudan   1994 18047 \n",
       "2 China   1995 17913 \n",
       "3 China   1996 17617 \n",
       "4 USA     1996 13443 \n",
       "5 Sudan   1995  9540 \n",
       "6 USA     1995  8248 \n",
       "7 China   1994  7019 \n",
       "8 Sudan   1996  6457 \n",
       "9 USA     1994  3673 "
      ]
     },
     "metadata": {},
     "output_type": "display_data"
    },
    {
     "data": {
      "text/html": [
       "<table class=\"dataframe\">\n",
       "<caption>A data.frame: 9 × 3</caption>\n",
       "<thead>\n",
       "\t<tr><th scope=col>country</th><th scope=col>year</th><th scope=col>gdp_pc</th></tr>\n",
       "\t<tr><th scope=col>&lt;chr&gt;</th><th scope=col>&lt;int&gt;</th><th scope=col>&lt;dbl&gt;</th></tr>\n",
       "</thead>\n",
       "<tbody>\n",
       "\t<tr><td>China</td><td>1994</td><td> 7019</td></tr>\n",
       "\t<tr><td>China</td><td>1996</td><td>17617</td></tr>\n",
       "\t<tr><td>China</td><td>1995</td><td>17913</td></tr>\n",
       "\t<tr><td>Sudan</td><td>1996</td><td> 6457</td></tr>\n",
       "\t<tr><td>Sudan</td><td>1995</td><td> 9540</td></tr>\n",
       "\t<tr><td>Sudan</td><td>1994</td><td>18047</td></tr>\n",
       "\t<tr><td>USA  </td><td>1994</td><td> 3673</td></tr>\n",
       "\t<tr><td>USA  </td><td>1995</td><td> 8248</td></tr>\n",
       "\t<tr><td>USA  </td><td>1996</td><td>13443</td></tr>\n",
       "</tbody>\n",
       "</table>\n"
      ],
      "text/latex": [
       "A data.frame: 9 × 3\n",
       "\\begin{tabular}{lll}\n",
       " country & year & gdp\\_pc\\\\\n",
       " <chr> & <int> & <dbl>\\\\\n",
       "\\hline\n",
       "\t China & 1994 &  7019\\\\\n",
       "\t China & 1996 & 17617\\\\\n",
       "\t China & 1995 & 17913\\\\\n",
       "\t Sudan & 1996 &  6457\\\\\n",
       "\t Sudan & 1995 &  9540\\\\\n",
       "\t Sudan & 1994 & 18047\\\\\n",
       "\t USA   & 1994 &  3673\\\\\n",
       "\t USA   & 1995 &  8248\\\\\n",
       "\t USA   & 1996 & 13443\\\\\n",
       "\\end{tabular}\n"
      ],
      "text/markdown": [
       "\n",
       "A data.frame: 9 × 3\n",
       "\n",
       "| country &lt;chr&gt; | year &lt;int&gt; | gdp_pc &lt;dbl&gt; |\n",
       "|---|---|---|\n",
       "| China | 1994 |  7019 |\n",
       "| China | 1996 | 17617 |\n",
       "| China | 1995 | 17913 |\n",
       "| Sudan | 1996 |  6457 |\n",
       "| Sudan | 1995 |  9540 |\n",
       "| Sudan | 1994 | 18047 |\n",
       "| USA   | 1994 |  3673 |\n",
       "| USA   | 1995 |  8248 |\n",
       "| USA   | 1996 | 13443 |\n",
       "\n"
      ],
      "text/plain": [
       "  country year gdp_pc\n",
       "1 China   1994  7019 \n",
       "2 China   1996 17617 \n",
       "3 China   1995 17913 \n",
       "4 Sudan   1996  6457 \n",
       "5 Sudan   1995  9540 \n",
       "6 Sudan   1994 18047 \n",
       "7 USA     1994  3673 \n",
       "8 USA     1995  8248 \n",
       "9 USA     1996 13443 "
      ]
     },
     "metadata": {},
     "output_type": "display_data"
    }
   ],
   "source": [
    "# Sort by country names \n",
    "countries %>% arrange(country) \n",
    "\n",
    "# Sort by GDP (ascending is default) \n",
    "countries %>% arrange(gdp_pc)\n",
    "\n",
    "# Sort by GDP (descending)\n",
    "countries %>% arrange(desc(gdp_pc))\n",
    "\n",
    "# Sort by country name, then GDP\n",
    "countries %>% arrange(country, gdp_pc)"
   ]
  },
  {
   "cell_type": "markdown",
   "id": "4120e8f2",
   "metadata": {},
   "source": [
    "## Dropping\n",
    "\n",
    "\n",
    "To only keep some variables in a data frame use `select()`:"
   ]
  },
  {
   "cell_type": "code",
   "execution_count": 7,
   "id": "ce6cb44b",
   "metadata": {},
   "outputs": [
    {
     "data": {
      "text/html": [
       "<table class=\"dataframe\">\n",
       "<caption>A data.frame: 9 × 2</caption>\n",
       "<thead>\n",
       "\t<tr><th scope=col>country</th><th scope=col>gdp_pc</th></tr>\n",
       "\t<tr><th scope=col>&lt;chr&gt;</th><th scope=col>&lt;dbl&gt;</th></tr>\n",
       "</thead>\n",
       "<tbody>\n",
       "\t<tr><td>USA  </td><td> 3673</td></tr>\n",
       "\t<tr><td>China</td><td> 7019</td></tr>\n",
       "\t<tr><td>Sudan</td><td>18047</td></tr>\n",
       "\t<tr><td>USA  </td><td> 8248</td></tr>\n",
       "\t<tr><td>China</td><td>17913</td></tr>\n",
       "\t<tr><td>Sudan</td><td> 9540</td></tr>\n",
       "\t<tr><td>USA  </td><td>13443</td></tr>\n",
       "\t<tr><td>China</td><td>17617</td></tr>\n",
       "\t<tr><td>Sudan</td><td> 6457</td></tr>\n",
       "</tbody>\n",
       "</table>\n"
      ],
      "text/latex": [
       "A data.frame: 9 × 2\n",
       "\\begin{tabular}{ll}\n",
       " country & gdp\\_pc\\\\\n",
       " <chr> & <dbl>\\\\\n",
       "\\hline\n",
       "\t USA   &  3673\\\\\n",
       "\t China &  7019\\\\\n",
       "\t Sudan & 18047\\\\\n",
       "\t USA   &  8248\\\\\n",
       "\t China & 17913\\\\\n",
       "\t Sudan &  9540\\\\\n",
       "\t USA   & 13443\\\\\n",
       "\t China & 17617\\\\\n",
       "\t Sudan &  6457\\\\\n",
       "\\end{tabular}\n"
      ],
      "text/markdown": [
       "\n",
       "A data.frame: 9 × 2\n",
       "\n",
       "| country &lt;chr&gt; | gdp_pc &lt;dbl&gt; |\n",
       "|---|---|\n",
       "| USA   |  3673 |\n",
       "| China |  7019 |\n",
       "| Sudan | 18047 |\n",
       "| USA   |  8248 |\n",
       "| China | 17913 |\n",
       "| Sudan |  9540 |\n",
       "| USA   | 13443 |\n",
       "| China | 17617 |\n",
       "| Sudan |  6457 |\n",
       "\n"
      ],
      "text/plain": [
       "  country gdp_pc\n",
       "1 USA      3673 \n",
       "2 China    7019 \n",
       "3 Sudan   18047 \n",
       "4 USA      8248 \n",
       "5 China   17913 \n",
       "6 Sudan    9540 \n",
       "7 USA     13443 \n",
       "8 China   17617 \n",
       "9 Sudan    6457 "
      ]
     },
     "metadata": {},
     "output_type": "display_data"
    },
    {
     "data": {
      "text/html": [
       "<table class=\"dataframe\">\n",
       "<caption>A data.frame: 9 × 2</caption>\n",
       "<thead>\n",
       "\t<tr><th scope=col>country</th><th scope=col>gdp_pc</th></tr>\n",
       "\t<tr><th scope=col>&lt;chr&gt;</th><th scope=col>&lt;dbl&gt;</th></tr>\n",
       "</thead>\n",
       "<tbody>\n",
       "\t<tr><td>USA  </td><td> 3673</td></tr>\n",
       "\t<tr><td>China</td><td> 7019</td></tr>\n",
       "\t<tr><td>Sudan</td><td>18047</td></tr>\n",
       "\t<tr><td>USA  </td><td> 8248</td></tr>\n",
       "\t<tr><td>China</td><td>17913</td></tr>\n",
       "\t<tr><td>Sudan</td><td> 9540</td></tr>\n",
       "\t<tr><td>USA  </td><td>13443</td></tr>\n",
       "\t<tr><td>China</td><td>17617</td></tr>\n",
       "\t<tr><td>Sudan</td><td> 6457</td></tr>\n",
       "</tbody>\n",
       "</table>\n"
      ],
      "text/latex": [
       "A data.frame: 9 × 2\n",
       "\\begin{tabular}{ll}\n",
       " country & gdp\\_pc\\\\\n",
       " <chr> & <dbl>\\\\\n",
       "\\hline\n",
       "\t USA   &  3673\\\\\n",
       "\t China &  7019\\\\\n",
       "\t Sudan & 18047\\\\\n",
       "\t USA   &  8248\\\\\n",
       "\t China & 17913\\\\\n",
       "\t Sudan &  9540\\\\\n",
       "\t USA   & 13443\\\\\n",
       "\t China & 17617\\\\\n",
       "\t Sudan &  6457\\\\\n",
       "\\end{tabular}\n"
      ],
      "text/markdown": [
       "\n",
       "A data.frame: 9 × 2\n",
       "\n",
       "| country &lt;chr&gt; | gdp_pc &lt;dbl&gt; |\n",
       "|---|---|\n",
       "| USA   |  3673 |\n",
       "| China |  7019 |\n",
       "| Sudan | 18047 |\n",
       "| USA   |  8248 |\n",
       "| China | 17913 |\n",
       "| Sudan |  9540 |\n",
       "| USA   | 13443 |\n",
       "| China | 17617 |\n",
       "| Sudan |  6457 |\n",
       "\n"
      ],
      "text/plain": [
       "  country gdp_pc\n",
       "1 USA      3673 \n",
       "2 China    7019 \n",
       "3 Sudan   18047 \n",
       "4 USA      8248 \n",
       "5 China   17913 \n",
       "6 Sudan    9540 \n",
       "7 USA     13443 \n",
       "8 China   17617 \n",
       "9 Sudan    6457 "
      ]
     },
     "metadata": {},
     "output_type": "display_data"
    },
    {
     "data": {
      "text/html": [
       "<table class=\"dataframe\">\n",
       "<caption>A data.frame: 9 × 2</caption>\n",
       "<thead>\n",
       "\t<tr><th scope=col>country_name</th><th scope=col>gdp_pc</th></tr>\n",
       "\t<tr><th scope=col>&lt;chr&gt;</th><th scope=col>&lt;dbl&gt;</th></tr>\n",
       "</thead>\n",
       "<tbody>\n",
       "\t<tr><td>USA  </td><td> 3673</td></tr>\n",
       "\t<tr><td>China</td><td> 7019</td></tr>\n",
       "\t<tr><td>Sudan</td><td>18047</td></tr>\n",
       "\t<tr><td>USA  </td><td> 8248</td></tr>\n",
       "\t<tr><td>China</td><td>17913</td></tr>\n",
       "\t<tr><td>Sudan</td><td> 9540</td></tr>\n",
       "\t<tr><td>USA  </td><td>13443</td></tr>\n",
       "\t<tr><td>China</td><td>17617</td></tr>\n",
       "\t<tr><td>Sudan</td><td> 6457</td></tr>\n",
       "</tbody>\n",
       "</table>\n"
      ],
      "text/latex": [
       "A data.frame: 9 × 2\n",
       "\\begin{tabular}{ll}\n",
       " country\\_name & gdp\\_pc\\\\\n",
       " <chr> & <dbl>\\\\\n",
       "\\hline\n",
       "\t USA   &  3673\\\\\n",
       "\t China &  7019\\\\\n",
       "\t Sudan & 18047\\\\\n",
       "\t USA   &  8248\\\\\n",
       "\t China & 17913\\\\\n",
       "\t Sudan &  9540\\\\\n",
       "\t USA   & 13443\\\\\n",
       "\t China & 17617\\\\\n",
       "\t Sudan &  6457\\\\\n",
       "\\end{tabular}\n"
      ],
      "text/markdown": [
       "\n",
       "A data.frame: 9 × 2\n",
       "\n",
       "| country_name &lt;chr&gt; | gdp_pc &lt;dbl&gt; |\n",
       "|---|---|\n",
       "| USA   |  3673 |\n",
       "| China |  7019 |\n",
       "| Sudan | 18047 |\n",
       "| USA   |  8248 |\n",
       "| China | 17913 |\n",
       "| Sudan |  9540 |\n",
       "| USA   | 13443 |\n",
       "| China | 17617 |\n",
       "| Sudan |  6457 |\n",
       "\n"
      ],
      "text/plain": [
       "  country_name gdp_pc\n",
       "1 USA           3673 \n",
       "2 China         7019 \n",
       "3 Sudan        18047 \n",
       "4 USA           8248 \n",
       "5 China        17913 \n",
       "6 Sudan         9540 \n",
       "7 USA          13443 \n",
       "8 China        17617 \n",
       "9 Sudan         6457 "
      ]
     },
     "metadata": {},
     "output_type": "display_data"
    }
   ],
   "source": [
    "# Keep country and GDP\n",
    "countries %>% select(country, gdp_pc)\n",
    "\n",
    "# Same thing using '-', implying you want to delete a variable\n",
    "countries %>% select(-year)\n",
    "\n",
    "# Selecting and renaming in one\n",
    "countries %>% select(country_name = country, gdp_pc)"
   ]
  },
  {
   "cell_type": "markdown",
   "id": "3c3c5b6a",
   "metadata": {},
   "source": [
    "## Renaming\n",
    "\n",
    "\n",
    "As illustrated in the last line of code above you can rename variables\n",
    "using `select()`. But this can also be done using `rename()`:"
   ]
  },
  {
   "cell_type": "code",
   "execution_count": 8,
   "id": "cf208f39",
   "metadata": {},
   "outputs": [
    {
     "data": {
      "text/html": [
       "<table class=\"dataframe\">\n",
       "<caption>A data.frame: 9 × 3</caption>\n",
       "<thead>\n",
       "\t<tr><th scope=col>country</th><th scope=col>year</th><th scope=col>GDP.PC</th></tr>\n",
       "\t<tr><th scope=col>&lt;chr&gt;</th><th scope=col>&lt;int&gt;</th><th scope=col>&lt;dbl&gt;</th></tr>\n",
       "</thead>\n",
       "<tbody>\n",
       "\t<tr><td>USA  </td><td>1994</td><td> 3673</td></tr>\n",
       "\t<tr><td>China</td><td>1994</td><td> 7019</td></tr>\n",
       "\t<tr><td>Sudan</td><td>1994</td><td>18047</td></tr>\n",
       "\t<tr><td>USA  </td><td>1995</td><td> 8248</td></tr>\n",
       "\t<tr><td>China</td><td>1995</td><td>17913</td></tr>\n",
       "\t<tr><td>Sudan</td><td>1995</td><td> 9540</td></tr>\n",
       "\t<tr><td>USA  </td><td>1996</td><td>13443</td></tr>\n",
       "\t<tr><td>China</td><td>1996</td><td>17617</td></tr>\n",
       "\t<tr><td>Sudan</td><td>1996</td><td> 6457</td></tr>\n",
       "</tbody>\n",
       "</table>\n"
      ],
      "text/latex": [
       "A data.frame: 9 × 3\n",
       "\\begin{tabular}{lll}\n",
       " country & year & GDP.PC\\\\\n",
       " <chr> & <int> & <dbl>\\\\\n",
       "\\hline\n",
       "\t USA   & 1994 &  3673\\\\\n",
       "\t China & 1994 &  7019\\\\\n",
       "\t Sudan & 1994 & 18047\\\\\n",
       "\t USA   & 1995 &  8248\\\\\n",
       "\t China & 1995 & 17913\\\\\n",
       "\t Sudan & 1995 &  9540\\\\\n",
       "\t USA   & 1996 & 13443\\\\\n",
       "\t China & 1996 & 17617\\\\\n",
       "\t Sudan & 1996 &  6457\\\\\n",
       "\\end{tabular}\n"
      ],
      "text/markdown": [
       "\n",
       "A data.frame: 9 × 3\n",
       "\n",
       "| country &lt;chr&gt; | year &lt;int&gt; | GDP.PC &lt;dbl&gt; |\n",
       "|---|---|---|\n",
       "| USA   | 1994 |  3673 |\n",
       "| China | 1994 |  7019 |\n",
       "| Sudan | 1994 | 18047 |\n",
       "| USA   | 1995 |  8248 |\n",
       "| China | 1995 | 17913 |\n",
       "| Sudan | 1995 |  9540 |\n",
       "| USA   | 1996 | 13443 |\n",
       "| China | 1996 | 17617 |\n",
       "| Sudan | 1996 |  6457 |\n",
       "\n"
      ],
      "text/plain": [
       "  country year GDP.PC\n",
       "1 USA     1994  3673 \n",
       "2 China   1994  7019 \n",
       "3 Sudan   1994 18047 \n",
       "4 USA     1995  8248 \n",
       "5 China   1995 17913 \n",
       "6 Sudan   1995  9540 \n",
       "7 USA     1996 13443 \n",
       "8 China   1996 17617 \n",
       "9 Sudan   1996  6457 "
      ]
     },
     "metadata": {},
     "output_type": "display_data"
    }
   ],
   "source": [
    "# Rename GDP per capita\n",
    "countries %>% rename(GDP.PC = gdp_pc)"
   ]
  },
  {
   "cell_type": "markdown",
   "id": "59dec96e",
   "metadata": {},
   "source": [
    "## Unique values\n",
    "\n",
    "\n",
    "Removing duplicate observations can be useful, but be careful: entire\n",
    "rows will be deleted. Use `distinct()`:"
   ]
  },
  {
   "cell_type": "code",
   "execution_count": 9,
   "id": "d6d3c504",
   "metadata": {},
   "outputs": [
    {
     "data": {
      "text/html": [
       "<table class=\"dataframe\">\n",
       "<caption>A data.frame: 3 × 1</caption>\n",
       "<thead>\n",
       "\t<tr><th scope=col>country</th></tr>\n",
       "\t<tr><th scope=col>&lt;chr&gt;</th></tr>\n",
       "</thead>\n",
       "<tbody>\n",
       "\t<tr><td>USA  </td></tr>\n",
       "\t<tr><td>China</td></tr>\n",
       "\t<tr><td>Sudan</td></tr>\n",
       "</tbody>\n",
       "</table>\n"
      ],
      "text/latex": [
       "A data.frame: 3 × 1\n",
       "\\begin{tabular}{l}\n",
       " country\\\\\n",
       " <chr>\\\\\n",
       "\\hline\n",
       "\t USA  \\\\\n",
       "\t China\\\\\n",
       "\t Sudan\\\\\n",
       "\\end{tabular}\n"
      ],
      "text/markdown": [
       "\n",
       "A data.frame: 3 × 1\n",
       "\n",
       "| country &lt;chr&gt; |\n",
       "|---|\n",
       "| USA   |\n",
       "| China |\n",
       "| Sudan |\n",
       "\n"
      ],
      "text/plain": [
       "  country\n",
       "1 USA    \n",
       "2 China  \n",
       "3 Sudan  "
      ]
     },
     "metadata": {},
     "output_type": "display_data"
    }
   ],
   "source": [
    "countries %>% distinct(country)"
   ]
  },
  {
   "cell_type": "markdown",
   "id": "9bd3f1e7",
   "metadata": {},
   "source": [
    "Note that the function keeps the first non-duplicate. This is more\n",
    "useful when you suspect that duplicate values of the following kind\n",
    "have slipped into the dataset:"
   ]
  },
  {
   "cell_type": "code",
   "execution_count": 10,
   "id": "5ca1284f",
   "metadata": {},
   "outputs": [
    {
     "data": {
      "text/html": [
       "<table class=\"dataframe\">\n",
       "<caption>A data.frame: 10 × 3</caption>\n",
       "<thead>\n",
       "\t<tr><th scope=col>country</th><th scope=col>year</th><th scope=col>gdp_pc</th></tr>\n",
       "\t<tr><th scope=col>&lt;chr&gt;</th><th scope=col>&lt;dbl&gt;</th><th scope=col>&lt;dbl&gt;</th></tr>\n",
       "</thead>\n",
       "<tbody>\n",
       "\t<tr><td>USA  </td><td>1994</td><td>10000</td></tr>\n",
       "\t<tr><td>USA  </td><td>1994</td><td> 3673</td></tr>\n",
       "\t<tr><td>China</td><td>1994</td><td> 7019</td></tr>\n",
       "\t<tr><td>Sudan</td><td>1994</td><td>18047</td></tr>\n",
       "\t<tr><td>USA  </td><td>1995</td><td> 8248</td></tr>\n",
       "\t<tr><td>China</td><td>1995</td><td>17913</td></tr>\n",
       "\t<tr><td>Sudan</td><td>1995</td><td> 9540</td></tr>\n",
       "\t<tr><td>USA  </td><td>1996</td><td>13443</td></tr>\n",
       "\t<tr><td>China</td><td>1996</td><td>17617</td></tr>\n",
       "\t<tr><td>Sudan</td><td>1996</td><td> 6457</td></tr>\n",
       "</tbody>\n",
       "</table>\n"
      ],
      "text/latex": [
       "A data.frame: 10 × 3\n",
       "\\begin{tabular}{lll}\n",
       " country & year & gdp\\_pc\\\\\n",
       " <chr> & <dbl> & <dbl>\\\\\n",
       "\\hline\n",
       "\t USA   & 1994 & 10000\\\\\n",
       "\t USA   & 1994 &  3673\\\\\n",
       "\t China & 1994 &  7019\\\\\n",
       "\t Sudan & 1994 & 18047\\\\\n",
       "\t USA   & 1995 &  8248\\\\\n",
       "\t China & 1995 & 17913\\\\\n",
       "\t Sudan & 1995 &  9540\\\\\n",
       "\t USA   & 1996 & 13443\\\\\n",
       "\t China & 1996 & 17617\\\\\n",
       "\t Sudan & 1996 &  6457\\\\\n",
       "\\end{tabular}\n"
      ],
      "text/markdown": [
       "\n",
       "A data.frame: 10 × 3\n",
       "\n",
       "| country &lt;chr&gt; | year &lt;dbl&gt; | gdp_pc &lt;dbl&gt; |\n",
       "|---|---|---|\n",
       "| USA   | 1994 | 10000 |\n",
       "| USA   | 1994 |  3673 |\n",
       "| China | 1994 |  7019 |\n",
       "| Sudan | 1994 | 18047 |\n",
       "| USA   | 1995 |  8248 |\n",
       "| China | 1995 | 17913 |\n",
       "| Sudan | 1995 |  9540 |\n",
       "| USA   | 1996 | 13443 |\n",
       "| China | 1996 | 17617 |\n",
       "| Sudan | 1996 |  6457 |\n",
       "\n"
      ],
      "text/plain": [
       "   country year gdp_pc\n",
       "1  USA     1994 10000 \n",
       "2  USA     1994  3673 \n",
       "3  China   1994  7019 \n",
       "4  Sudan   1994 18047 \n",
       "5  USA     1995  8248 \n",
       "6  China   1995 17913 \n",
       "7  Sudan   1995  9540 \n",
       "8  USA     1996 13443 \n",
       "9  China   1996 17617 \n",
       "10 Sudan   1996  6457 "
      ]
     },
     "metadata": {},
     "output_type": "display_data"
    }
   ],
   "source": [
    "countries2 <- rbind(\n",
    "    data.frame(country = \"USA\", year = 1994, gdp_pc = 10000),\n",
    "    countries\n",
    "    )\n",
    "countries2 "
   ]
  },
  {
   "cell_type": "markdown",
   "id": "263d3878",
   "metadata": {},
   "source": [
    "Note that we all of a sudden have two USA 1994 observations. Delete\n",
    "one of them using `distinct()`."
   ]
  },
  {
   "cell_type": "code",
   "execution_count": 11,
   "id": "5ba703be",
   "metadata": {},
   "outputs": [
    {
     "data": {
      "text/html": [
       "<table class=\"dataframe\">\n",
       "<caption>A data.frame: 9 × 2</caption>\n",
       "<thead>\n",
       "\t<tr><th scope=col>country</th><th scope=col>year</th></tr>\n",
       "\t<tr><th scope=col>&lt;chr&gt;</th><th scope=col>&lt;dbl&gt;</th></tr>\n",
       "</thead>\n",
       "<tbody>\n",
       "\t<tr><td>USA  </td><td>1994</td></tr>\n",
       "\t<tr><td>China</td><td>1994</td></tr>\n",
       "\t<tr><td>Sudan</td><td>1994</td></tr>\n",
       "\t<tr><td>USA  </td><td>1995</td></tr>\n",
       "\t<tr><td>China</td><td>1995</td></tr>\n",
       "\t<tr><td>Sudan</td><td>1995</td></tr>\n",
       "\t<tr><td>USA  </td><td>1996</td></tr>\n",
       "\t<tr><td>China</td><td>1996</td></tr>\n",
       "\t<tr><td>Sudan</td><td>1996</td></tr>\n",
       "</tbody>\n",
       "</table>\n"
      ],
      "text/latex": [
       "A data.frame: 9 × 2\n",
       "\\begin{tabular}{ll}\n",
       " country & year\\\\\n",
       " <chr> & <dbl>\\\\\n",
       "\\hline\n",
       "\t USA   & 1994\\\\\n",
       "\t China & 1994\\\\\n",
       "\t Sudan & 1994\\\\\n",
       "\t USA   & 1995\\\\\n",
       "\t China & 1995\\\\\n",
       "\t Sudan & 1995\\\\\n",
       "\t USA   & 1996\\\\\n",
       "\t China & 1996\\\\\n",
       "\t Sudan & 1996\\\\\n",
       "\\end{tabular}\n"
      ],
      "text/markdown": [
       "\n",
       "A data.frame: 9 × 2\n",
       "\n",
       "| country &lt;chr&gt; | year &lt;dbl&gt; |\n",
       "|---|---|\n",
       "| USA   | 1994 |\n",
       "| China | 1994 |\n",
       "| Sudan | 1994 |\n",
       "| USA   | 1995 |\n",
       "| China | 1995 |\n",
       "| Sudan | 1995 |\n",
       "| USA   | 1996 |\n",
       "| China | 1996 |\n",
       "| Sudan | 1996 |\n",
       "\n"
      ],
      "text/plain": [
       "  country year\n",
       "1 USA     1994\n",
       "2 China   1994\n",
       "3 Sudan   1994\n",
       "4 USA     1995\n",
       "5 China   1995\n",
       "6 Sudan   1995\n",
       "7 USA     1996\n",
       "8 China   1996\n",
       "9 Sudan   1996"
      ]
     },
     "metadata": {},
     "output_type": "display_data"
    }
   ],
   "source": [
    "countries2 %>% distinct(country, year)"
   ]
  },
  {
   "cell_type": "markdown",
   "id": "114dd715",
   "metadata": {},
   "source": [
    "## New variables \n",
    "\n",
    "\n",
    "Use `mutate()` to create new variables or to modify existing\n",
    "variables. Here are a few examples."
   ]
  },
  {
   "cell_type": "code",
   "execution_count": 12,
   "id": "74ffa63d",
   "metadata": {},
   "outputs": [
    {
     "data": {
      "text/html": [
       "<table class=\"dataframe\">\n",
       "<caption>A data.frame: 9 × 4</caption>\n",
       "<thead>\n",
       "\t<tr><th scope=col>country</th><th scope=col>year</th><th scope=col>gdp_pc</th><th scope=col>gdppc_1k</th></tr>\n",
       "\t<tr><th scope=col>&lt;chr&gt;</th><th scope=col>&lt;int&gt;</th><th scope=col>&lt;dbl&gt;</th><th scope=col>&lt;dbl&gt;</th></tr>\n",
       "</thead>\n",
       "<tbody>\n",
       "\t<tr><td>USA  </td><td>1994</td><td> 3673</td><td> 3.673</td></tr>\n",
       "\t<tr><td>China</td><td>1994</td><td> 7019</td><td> 7.019</td></tr>\n",
       "\t<tr><td>Sudan</td><td>1994</td><td>18047</td><td>18.047</td></tr>\n",
       "\t<tr><td>USA  </td><td>1995</td><td> 8248</td><td> 8.248</td></tr>\n",
       "\t<tr><td>China</td><td>1995</td><td>17913</td><td>17.913</td></tr>\n",
       "\t<tr><td>Sudan</td><td>1995</td><td> 9540</td><td> 9.540</td></tr>\n",
       "\t<tr><td>USA  </td><td>1996</td><td>13443</td><td>13.443</td></tr>\n",
       "\t<tr><td>China</td><td>1996</td><td>17617</td><td>17.617</td></tr>\n",
       "\t<tr><td>Sudan</td><td>1996</td><td> 6457</td><td> 6.457</td></tr>\n",
       "</tbody>\n",
       "</table>\n"
      ],
      "text/latex": [
       "A data.frame: 9 × 4\n",
       "\\begin{tabular}{llll}\n",
       " country & year & gdp\\_pc & gdppc\\_1k\\\\\n",
       " <chr> & <int> & <dbl> & <dbl>\\\\\n",
       "\\hline\n",
       "\t USA   & 1994 &  3673 &  3.673\\\\\n",
       "\t China & 1994 &  7019 &  7.019\\\\\n",
       "\t Sudan & 1994 & 18047 & 18.047\\\\\n",
       "\t USA   & 1995 &  8248 &  8.248\\\\\n",
       "\t China & 1995 & 17913 & 17.913\\\\\n",
       "\t Sudan & 1995 &  9540 &  9.540\\\\\n",
       "\t USA   & 1996 & 13443 & 13.443\\\\\n",
       "\t China & 1996 & 17617 & 17.617\\\\\n",
       "\t Sudan & 1996 &  6457 &  6.457\\\\\n",
       "\\end{tabular}\n"
      ],
      "text/markdown": [
       "\n",
       "A data.frame: 9 × 4\n",
       "\n",
       "| country &lt;chr&gt; | year &lt;int&gt; | gdp_pc &lt;dbl&gt; | gdppc_1k &lt;dbl&gt; |\n",
       "|---|---|---|---|\n",
       "| USA   | 1994 |  3673 |  3.673 |\n",
       "| China | 1994 |  7019 |  7.019 |\n",
       "| Sudan | 1994 | 18047 | 18.047 |\n",
       "| USA   | 1995 |  8248 |  8.248 |\n",
       "| China | 1995 | 17913 | 17.913 |\n",
       "| Sudan | 1995 |  9540 |  9.540 |\n",
       "| USA   | 1996 | 13443 | 13.443 |\n",
       "| China | 1996 | 17617 | 17.617 |\n",
       "| Sudan | 1996 |  6457 |  6.457 |\n",
       "\n"
      ],
      "text/plain": [
       "  country year gdp_pc gdppc_1k\n",
       "1 USA     1994  3673   3.673  \n",
       "2 China   1994  7019   7.019  \n",
       "3 Sudan   1994 18047  18.047  \n",
       "4 USA     1995  8248   8.248  \n",
       "5 China   1995 17913  17.913  \n",
       "6 Sudan   1995  9540   9.540  \n",
       "7 USA     1996 13443  13.443  \n",
       "8 China   1996 17617  17.617  \n",
       "9 Sudan   1996  6457   6.457  "
      ]
     },
     "metadata": {},
     "output_type": "display_data"
    },
    {
     "data": {
      "text/html": [
       "<table class=\"dataframe\">\n",
       "<caption>A data.frame: 9 × 4</caption>\n",
       "<thead>\n",
       "\t<tr><th scope=col>country</th><th scope=col>year</th><th scope=col>gdp_pc</th><th scope=col>country_lc</th></tr>\n",
       "\t<tr><th scope=col>&lt;chr&gt;</th><th scope=col>&lt;int&gt;</th><th scope=col>&lt;dbl&gt;</th><th scope=col>&lt;chr&gt;</th></tr>\n",
       "</thead>\n",
       "<tbody>\n",
       "\t<tr><td>USA  </td><td>1994</td><td> 3673</td><td>usa  </td></tr>\n",
       "\t<tr><td>China</td><td>1994</td><td> 7019</td><td>china</td></tr>\n",
       "\t<tr><td>Sudan</td><td>1994</td><td>18047</td><td>sudan</td></tr>\n",
       "\t<tr><td>USA  </td><td>1995</td><td> 8248</td><td>usa  </td></tr>\n",
       "\t<tr><td>China</td><td>1995</td><td>17913</td><td>china</td></tr>\n",
       "\t<tr><td>Sudan</td><td>1995</td><td> 9540</td><td>sudan</td></tr>\n",
       "\t<tr><td>USA  </td><td>1996</td><td>13443</td><td>usa  </td></tr>\n",
       "\t<tr><td>China</td><td>1996</td><td>17617</td><td>china</td></tr>\n",
       "\t<tr><td>Sudan</td><td>1996</td><td> 6457</td><td>sudan</td></tr>\n",
       "</tbody>\n",
       "</table>\n"
      ],
      "text/latex": [
       "A data.frame: 9 × 4\n",
       "\\begin{tabular}{llll}\n",
       " country & year & gdp\\_pc & country\\_lc\\\\\n",
       " <chr> & <int> & <dbl> & <chr>\\\\\n",
       "\\hline\n",
       "\t USA   & 1994 &  3673 & usa  \\\\\n",
       "\t China & 1994 &  7019 & china\\\\\n",
       "\t Sudan & 1994 & 18047 & sudan\\\\\n",
       "\t USA   & 1995 &  8248 & usa  \\\\\n",
       "\t China & 1995 & 17913 & china\\\\\n",
       "\t Sudan & 1995 &  9540 & sudan\\\\\n",
       "\t USA   & 1996 & 13443 & usa  \\\\\n",
       "\t China & 1996 & 17617 & china\\\\\n",
       "\t Sudan & 1996 &  6457 & sudan\\\\\n",
       "\\end{tabular}\n"
      ],
      "text/markdown": [
       "\n",
       "A data.frame: 9 × 4\n",
       "\n",
       "| country &lt;chr&gt; | year &lt;int&gt; | gdp_pc &lt;dbl&gt; | country_lc &lt;chr&gt; |\n",
       "|---|---|---|---|\n",
       "| USA   | 1994 |  3673 | usa   |\n",
       "| China | 1994 |  7019 | china |\n",
       "| Sudan | 1994 | 18047 | sudan |\n",
       "| USA   | 1995 |  8248 | usa   |\n",
       "| China | 1995 | 17913 | china |\n",
       "| Sudan | 1995 |  9540 | sudan |\n",
       "| USA   | 1996 | 13443 | usa   |\n",
       "| China | 1996 | 17617 | china |\n",
       "| Sudan | 1996 |  6457 | sudan |\n",
       "\n"
      ],
      "text/plain": [
       "  country year gdp_pc country_lc\n",
       "1 USA     1994  3673  usa       \n",
       "2 China   1994  7019  china     \n",
       "3 Sudan   1994 18047  sudan     \n",
       "4 USA     1995  8248  usa       \n",
       "5 China   1995 17913  china     \n",
       "6 Sudan   1995  9540  sudan     \n",
       "7 USA     1996 13443  usa       \n",
       "8 China   1996 17617  china     \n",
       "9 Sudan   1996  6457  sudan     "
      ]
     },
     "metadata": {},
     "output_type": "display_data"
    },
    {
     "data": {
      "text/html": [
       "<table class=\"dataframe\">\n",
       "<caption>A data.frame: 9 × 5</caption>\n",
       "<thead>\n",
       "\t<tr><th scope=col>country</th><th scope=col>year</th><th scope=col>gdp_pc</th><th scope=col>gdppc_1k</th><th scope=col>country_lc</th></tr>\n",
       "\t<tr><th scope=col>&lt;chr&gt;</th><th scope=col>&lt;int&gt;</th><th scope=col>&lt;dbl&gt;</th><th scope=col>&lt;dbl&gt;</th><th scope=col>&lt;chr&gt;</th></tr>\n",
       "</thead>\n",
       "<tbody>\n",
       "\t<tr><td>USA  </td><td>1994</td><td> 3673</td><td> 3.673</td><td>usa  </td></tr>\n",
       "\t<tr><td>China</td><td>1994</td><td> 7019</td><td> 7.019</td><td>china</td></tr>\n",
       "\t<tr><td>Sudan</td><td>1994</td><td>18047</td><td>18.047</td><td>sudan</td></tr>\n",
       "\t<tr><td>USA  </td><td>1995</td><td> 8248</td><td> 8.248</td><td>usa  </td></tr>\n",
       "\t<tr><td>China</td><td>1995</td><td>17913</td><td>17.913</td><td>china</td></tr>\n",
       "\t<tr><td>Sudan</td><td>1995</td><td> 9540</td><td> 9.540</td><td>sudan</td></tr>\n",
       "\t<tr><td>USA  </td><td>1996</td><td>13443</td><td>13.443</td><td>usa  </td></tr>\n",
       "\t<tr><td>China</td><td>1996</td><td>17617</td><td>17.617</td><td>china</td></tr>\n",
       "\t<tr><td>Sudan</td><td>1996</td><td> 6457</td><td> 6.457</td><td>sudan</td></tr>\n",
       "</tbody>\n",
       "</table>\n"
      ],
      "text/latex": [
       "A data.frame: 9 × 5\n",
       "\\begin{tabular}{lllll}\n",
       " country & year & gdp\\_pc & gdppc\\_1k & country\\_lc\\\\\n",
       " <chr> & <int> & <dbl> & <dbl> & <chr>\\\\\n",
       "\\hline\n",
       "\t USA   & 1994 &  3673 &  3.673 & usa  \\\\\n",
       "\t China & 1994 &  7019 &  7.019 & china\\\\\n",
       "\t Sudan & 1994 & 18047 & 18.047 & sudan\\\\\n",
       "\t USA   & 1995 &  8248 &  8.248 & usa  \\\\\n",
       "\t China & 1995 & 17913 & 17.913 & china\\\\\n",
       "\t Sudan & 1995 &  9540 &  9.540 & sudan\\\\\n",
       "\t USA   & 1996 & 13443 & 13.443 & usa  \\\\\n",
       "\t China & 1996 & 17617 & 17.617 & china\\\\\n",
       "\t Sudan & 1996 &  6457 &  6.457 & sudan\\\\\n",
       "\\end{tabular}\n"
      ],
      "text/markdown": [
       "\n",
       "A data.frame: 9 × 5\n",
       "\n",
       "| country &lt;chr&gt; | year &lt;int&gt; | gdp_pc &lt;dbl&gt; | gdppc_1k &lt;dbl&gt; | country_lc &lt;chr&gt; |\n",
       "|---|---|---|---|---|\n",
       "| USA   | 1994 |  3673 |  3.673 | usa   |\n",
       "| China | 1994 |  7019 |  7.019 | china |\n",
       "| Sudan | 1994 | 18047 | 18.047 | sudan |\n",
       "| USA   | 1995 |  8248 |  8.248 | usa   |\n",
       "| China | 1995 | 17913 | 17.913 | china |\n",
       "| Sudan | 1995 |  9540 |  9.540 | sudan |\n",
       "| USA   | 1996 | 13443 | 13.443 | usa   |\n",
       "| China | 1996 | 17617 | 17.617 | china |\n",
       "| Sudan | 1996 |  6457 |  6.457 | sudan |\n",
       "\n"
      ],
      "text/plain": [
       "  country year gdp_pc gdppc_1k country_lc\n",
       "1 USA     1994  3673   3.673   usa       \n",
       "2 China   1994  7019   7.019   china     \n",
       "3 Sudan   1994 18047  18.047   sudan     \n",
       "4 USA     1995  8248   8.248   usa       \n",
       "5 China   1995 17913  17.913   china     \n",
       "6 Sudan   1995  9540   9.540   sudan     \n",
       "7 USA     1996 13443  13.443   usa       \n",
       "8 China   1996 17617  17.617   china     \n",
       "9 Sudan   1996  6457   6.457   sudan     "
      ]
     },
     "metadata": {},
     "output_type": "display_data"
    }
   ],
   "source": [
    "# Create a new variable that has GDP per capita in 1000s\n",
    "countries %>% mutate(gdppc_1k = gdp_pc / 1000)\n",
    "\n",
    "# Create a new variable with lower-case country names\n",
    "countries %>% mutate(country_lc = tolower(country))\n",
    "\n",
    "# Both in one statement\n",
    "countries %>% mutate(gdppc_1k = gdp_pc / 1000,\n",
    "                     country_lc = tolower(country))\n",
    "    "
   ]
  },
  {
   "cell_type": "markdown",
   "id": "c139ac76",
   "metadata": {},
   "source": [
    "A lot of times it makes more sense to just overwrite an\n",
    "existing variable rather than adding a variable."
   ]
  },
  {
   "cell_type": "code",
   "execution_count": 13,
   "id": "0e819064",
   "metadata": {},
   "outputs": [
    {
     "data": {
      "text/html": [
       "<table class=\"dataframe\">\n",
       "<caption>A data.frame: 9 × 3</caption>\n",
       "<thead>\n",
       "\t<tr><th scope=col>country</th><th scope=col>year</th><th scope=col>gdp_pc</th></tr>\n",
       "\t<tr><th scope=col>&lt;chr&gt;</th><th scope=col>&lt;int&gt;</th><th scope=col>&lt;dbl&gt;</th></tr>\n",
       "</thead>\n",
       "<tbody>\n",
       "\t<tr><td>usa  </td><td>1994</td><td> 3673</td></tr>\n",
       "\t<tr><td>china</td><td>1994</td><td> 7019</td></tr>\n",
       "\t<tr><td>sudan</td><td>1994</td><td>18047</td></tr>\n",
       "\t<tr><td>usa  </td><td>1995</td><td> 8248</td></tr>\n",
       "\t<tr><td>china</td><td>1995</td><td>17913</td></tr>\n",
       "\t<tr><td>sudan</td><td>1995</td><td> 9540</td></tr>\n",
       "\t<tr><td>usa  </td><td>1996</td><td>13443</td></tr>\n",
       "\t<tr><td>china</td><td>1996</td><td>17617</td></tr>\n",
       "\t<tr><td>sudan</td><td>1996</td><td> 6457</td></tr>\n",
       "</tbody>\n",
       "</table>\n"
      ],
      "text/latex": [
       "A data.frame: 9 × 3\n",
       "\\begin{tabular}{lll}\n",
       " country & year & gdp\\_pc\\\\\n",
       " <chr> & <int> & <dbl>\\\\\n",
       "\\hline\n",
       "\t usa   & 1994 &  3673\\\\\n",
       "\t china & 1994 &  7019\\\\\n",
       "\t sudan & 1994 & 18047\\\\\n",
       "\t usa   & 1995 &  8248\\\\\n",
       "\t china & 1995 & 17913\\\\\n",
       "\t sudan & 1995 &  9540\\\\\n",
       "\t usa   & 1996 & 13443\\\\\n",
       "\t china & 1996 & 17617\\\\\n",
       "\t sudan & 1996 &  6457\\\\\n",
       "\\end{tabular}\n"
      ],
      "text/markdown": [
       "\n",
       "A data.frame: 9 × 3\n",
       "\n",
       "| country &lt;chr&gt; | year &lt;int&gt; | gdp_pc &lt;dbl&gt; |\n",
       "|---|---|---|\n",
       "| usa   | 1994 |  3673 |\n",
       "| china | 1994 |  7019 |\n",
       "| sudan | 1994 | 18047 |\n",
       "| usa   | 1995 |  8248 |\n",
       "| china | 1995 | 17913 |\n",
       "| sudan | 1995 |  9540 |\n",
       "| usa   | 1996 | 13443 |\n",
       "| china | 1996 | 17617 |\n",
       "| sudan | 1996 |  6457 |\n",
       "\n"
      ],
      "text/plain": [
       "  country year gdp_pc\n",
       "1 usa     1994  3673 \n",
       "2 china   1994  7019 \n",
       "3 sudan   1994 18047 \n",
       "4 usa     1995  8248 \n",
       "5 china   1995 17913 \n",
       "6 sudan   1995  9540 \n",
       "7 usa     1996 13443 \n",
       "8 china   1996 17617 \n",
       "9 sudan   1996  6457 "
      ]
     },
     "metadata": {},
     "output_type": "display_data"
    }
   ],
   "source": [
    "countries %>% mutate(country = tolower(country))"
   ]
  },
  {
   "cell_type": "markdown",
   "id": "f7c825c2",
   "metadata": {},
   "source": [
    "`mutate()` can be combined with two other useful functions: `ifelse()`\n",
    "and `revalue()`. "
   ]
  },
  {
   "cell_type": "markdown",
   "id": "b7ff5519",
   "metadata": {},
   "source": [
    "<span class=\"fw\"> ifelse() </span>\n",
    "------------------------------\n",
    "\n",
    "`ifelse()` is a logical function that is useful for modifying\n",
    "variables in datasets (or individual vectors). Here's an illustration\n",
    "of how it works:"
   ]
  },
  {
   "cell_type": "code",
   "execution_count": 14,
   "id": "6483c679",
   "metadata": {},
   "outputs": [
    {
     "data": {
      "text/html": [
       "<style>\n",
       ".list-inline {list-style: none; margin:0; padding: 0}\n",
       ".list-inline>li {display: inline-block}\n",
       ".list-inline>li:not(:last-child)::after {content: \"\\00b7\"; padding: 0 .5ex}\n",
       "</style>\n",
       "<ol class=list-inline><li>0.1</li><li>0.2</li><li>0.3</li><li>0.4</li><li>0.5</li><li>60</li><li>70</li><li>80</li><li>90</li><li>100</li></ol>\n"
      ],
      "text/latex": [
       "\\begin{enumerate*}\n",
       "\\item 0.1\n",
       "\\item 0.2\n",
       "\\item 0.3\n",
       "\\item 0.4\n",
       "\\item 0.5\n",
       "\\item 60\n",
       "\\item 70\n",
       "\\item 80\n",
       "\\item 90\n",
       "\\item 100\n",
       "\\end{enumerate*}\n"
      ],
      "text/markdown": [
       "1. 0.1\n",
       "2. 0.2\n",
       "3. 0.3\n",
       "4. 0.4\n",
       "5. 0.5\n",
       "6. 60\n",
       "7. 70\n",
       "8. 80\n",
       "9. 90\n",
       "10. 100\n",
       "\n",
       "\n"
      ],
      "text/plain": [
       " [1]   0.1   0.2   0.3   0.4   0.5  60.0  70.0  80.0  90.0 100.0"
      ]
     },
     "metadata": {},
     "output_type": "display_data"
    }
   ],
   "source": [
    "numbers <- 1:10\n",
    "ifelse(numbers > 5, numbers * 10, numbers / 10)"
   ]
  },
  {
   "cell_type": "markdown",
   "id": "092cd523",
   "metadata": {},
   "source": [
    "The function takes three arguments: (1) a logical test, (2) what to do\n",
    "if the test is true, and (3) what to do if the test is false. Thus, in\n",
    "the code above numbers greater than 5 are multiplied by 10 and numbers\n",
    "less than or equal to 5 are divided by 10.\n",
    "\n",
    "We can apply this to variables in data frames. Let's use the `world-small.csv`\n",
    "dataset to illustrate (download [here](data/world-small.csv)). \n"
   ]
  },
  {
   "cell_type": "code",
   "execution_count": 15,
   "id": "2c32ed55",
   "metadata": {
    "tags": [
     "remove_input"
    ]
   },
   "outputs": [],
   "source": [
    "world <- read.csv(\"data/world-small.csv\")"
   ]
  },
  {
   "cell_type": "code",
   "execution_count": null,
   "id": "2c7b3f94",
   "metadata": {},
   "outputs": [],
   "source": [
    "head(world)\n",
    "\n",
    "# Create a new variable equal to \"democracy\" if a country has\n",
    "# a polity score >= 15 and \"autocracy\" otherwise \n",
    "world <- world %>% mutate(democracy = ifelse(polityIV >= 15, \"democracy\", \"autocracy\"))\n",
    "head(world)\n",
    "\n",
    "# Or represent this information as a dummy variable instead \n",
    "world <- world %>% mutate(democracy = ifelse(polityIV >= 15, 1, 0))\n",
    "head(world)"
   ]
  },
  {
   "cell_type": "markdown",
   "id": "ebd2ecbd",
   "metadata": {},
   "source": [
    "We first created a new variable called `democracy` equal to\n",
    "\"democracy\" if a country has a Polity IV score of at least 15 and\n",
    "\"autocracy\" otherwise.  We then overwrote this variable with a \"dummy\n",
    "variable\" representing the same information using zeroes and ones. \n",
    "\n",
    "<div class=\"general-note\">\n",
    "\n",
    "<strong> General note about dummy variables: </strong> Dummy variables\n",
    "--- sometimes called \"indicator variables\" or \"binary variables\" ---\n",
    "are extremely useful for representing binary information. Their\n",
    "usefulness in part stems from their applicability in regression models\n",
    "and in part from how they can be used to summarize information. For\n",
    "example, taking the mean of the dummy variable `democracy` above ---\n",
    "that is, `mean(world$democracy)` --- gives us the proportion of\n",
    "countries that we classified as \"democracy\".\n",
    "\n",
    "</div>\n"
   ]
  },
  {
   "cell_type": "markdown",
   "id": "86ea3fcf",
   "metadata": {},
   "source": [
    "<span class=\"fw\"> revalue() </span>\n",
    "------------------------------\n",
    "\n",
    "We often want to recode the categories of a variable. \n",
    "For example, take a look at the `region` variable in `world`:"
   ]
  },
  {
   "cell_type": "code",
   "execution_count": null,
   "id": "6fa58cd4",
   "metadata": {},
   "outputs": [],
   "source": [
    "table(world$region)"
   ]
  },
  {
   "cell_type": "markdown",
   "id": "e612c2b6",
   "metadata": {},
   "source": [
    "Currently this variable has eight categories. Say we wanted to\n",
    "simplify it a little bit by combining the three regions in Europe. We\n",
    "also want to rename the two regions in America. This can be accomplished\n",
    "with `revalue()` from the **plyr** package. "
   ]
  },
  {
   "cell_type": "code",
   "execution_count": null,
   "id": "16468d03",
   "metadata": {},
   "outputs": [],
   "source": [
    "world$region <- revalue(world$region, c(\n",
    "    \"C&E Europe\" = \"Europe\",\n",
    "    \"Scandinavia\" = \"Europe\",\n",
    "    \"W. Europe\" = \"Europe\",\n",
    "    \"N. America\" = \"North America\",\n",
    "    \"S. America\" = \"South America\"))\n",
    "table(world$region)"
   ]
  },
  {
   "cell_type": "markdown",
   "id": "16be649a",
   "metadata": {},
   "source": [
    "This can also be accomplished with `ifelse()`, but we would have to\n",
    "nest several `ifelse()` statements. For this reason I prefer `revalue()`. \n",
    "\n"
   ]
  },
  {
   "cell_type": "markdown",
   "id": "bdb4285c",
   "metadata": {},
   "source": [
    "A note on factor variables \n",
    "------------------------------\n",
    "\n",
    "The `read.csv()` function automatically converts variables that\n",
    "contain strings to the class \"factor\". Note, for example, that both\n",
    "the `country` and `region` variables in the `world` dataset are\n",
    "represented as factors. "
   ]
  },
  {
   "cell_type": "code",
   "execution_count": null,
   "id": "2fc6b5ce",
   "metadata": {},
   "outputs": [],
   "source": [
    "class(world$country)\n",
    "class(world$region)"
   ]
  },
  {
   "cell_type": "markdown",
   "id": "71ffb029",
   "metadata": {},
   "source": [
    "These variables are useful in regression models in R. For example,\n",
    "including `region` in an OLS model (using command `lm()`) would\n",
    "automatically represent all regions as dummy variables except one\n",
    "left as the reference category. If that's not making sense to you\n",
    "at this stage, don't worry at all.\n",
    "\n",
    "But factor variables can also cause issues if you're not careful.  In\n",
    "particular, factor variables are sometimes displayed to the user as a\n",
    "certain set of numbers, yet are stored internally as an entirely\n",
    "different set of numbers. For example, say the `gdppcap08` variable in\n",
    "`world` had been read as a factor. (Fortunately, in reality it was\n",
    "read correctly as numeric, but this sometimes isn't the case.) \n"
   ]
  },
  {
   "cell_type": "code",
   "execution_count": null,
   "id": "da8f2f78",
   "metadata": {},
   "outputs": [],
   "source": [
    "# Recode gdp per capita to factor\n",
    "# NOTE: Only for illustrative purposes! \n",
    "world <- world %>% mutate(gdppcap08 = as.factor(gdppcap08))\n",
    "head(world)\n",
    "class(world$gdppcap08)"
   ]
  },
  {
   "cell_type": "markdown",
   "id": "e2593869",
   "metadata": {},
   "source": [
    "Ok, the GDP variable is now a factor variable. Note, though, that it\n",
    "looks just like a numeric variable. You might therefore be tempted to\n",
    "try to do things like `mean(world$gdppcap08)`, yet this would return\n",
    "`NA` instead of an actual value as before. You might also be tempted to\n",
    "recode the GDP variable from factor to numeric using the following code:"
   ]
  },
  {
   "cell_type": "code",
   "execution_count": null,
   "id": "36cdf7b7",
   "metadata": {},
   "outputs": [],
   "source": [
    "head(world %>% mutate(gdppcap08 = as.numeric(gdppcap08)))"
   ]
  },
  {
   "cell_type": "markdown",
   "id": "db8fe6d8",
   "metadata": {},
   "source": [
    "Something has gone seriously wrong --- look at the values of\n",
    "`gdppcap08`. **Here's the learning lesson: to convert a factor\n",
    "variable to numeric, you have to recode it to character first.** Use\n",
    "`as.numeric(as.character(variable))`, where `variable` is the factor\n",
    "variable to convert. "
   ]
  },
  {
   "cell_type": "code",
   "execution_count": null,
   "id": "14ab778f",
   "metadata": {
    "lines_to_next_cell": 2
   },
   "outputs": [],
   "source": [
    "world <- world %>% mutate(gdppcap08 = as.numeric(as.character(gdppcap08)))\n",
    "head(world)\n",
    "class(world$gdppcap08)"
   ]
  },
  {
   "cell_type": "markdown",
   "id": "8d9c2840",
   "metadata": {},
   "source": [
    "## Chaining\n",
    "\n",
    "\n",
    "What if you wanted to apply *multiple* functions to one data frame?\n",
    "This is where chaining is elegant and facilitates debugging.\n",
    "\n",
    "More specifically, say we wanted to use `countries` to create a new\n",
    "data frame called `countries_new`, which should have observations from\n",
    "years 1995 and 1996 (dropping 1994), should be sorted by country name\n",
    "(in lower case), and should have a new variable equal to GDP per\n",
    "capita in 1000s.\n",
    "\n",
    "Here's how we could do this *without* chaining: "
   ]
  },
  {
   "cell_type": "code",
   "execution_count": null,
   "id": "056ed300",
   "metadata": {},
   "outputs": [],
   "source": [
    "countries_new <- filter(countries, year != 1994) #drop year 1994\n",
    "countries_new <- arrange(countries_new, country) #sort by country names\n",
    "countries_new <- mutate(countries_new, country = tolower(country), #convert name to lower-case\n",
    "                                       gdppc_1k = gdp_pc / 1000) #create GDP pc in 1000s\n",
    "countries_new"
   ]
  },
  {
   "cell_type": "markdown",
   "id": "b3141fb7",
   "metadata": {},
   "source": [
    "Here's the same thing using chaining: "
   ]
  },
  {
   "cell_type": "code",
   "execution_count": null,
   "id": "d9d0dfdf",
   "metadata": {},
   "outputs": [],
   "source": [
    "countries_new <- countries %>%\n",
    "    filter(year != 1994) %>%\n",
    "    arrange(country) %>%\n",
    "    mutate(country = tolower(country), gdppc_1k = gdp_pc / 1000)\n",
    "countries_new"
   ]
  },
  {
   "cell_type": "markdown",
   "id": "7d34e464",
   "metadata": {},
   "source": [
    "I find code that makes use of chaining more readable. Chaining always\n",
    "begins with specifying the data frame we want to operate on (e.g.,\n",
    "`countries`).  Every subsequent statement will operate on this data\n",
    "frame, starting with the function that comes right after the data\n",
    "frame and working its way down.  In our case, the first thing we'll do\n",
    "to `countries` is to subset it. We'll then sort it by country name. Lastly,\n",
    "we'll overwrite the country name to be lower-case and create a new\n",
    "variable representing GDP per capita in 1000s.\n"
   ]
  },
  {
   "cell_type": "markdown",
   "id": "e3b2f966",
   "metadata": {},
   "source": [
    "## Exercises \n",
    "\n",
    "\n",
    "1. Read the `world-small.csv` dataset into R and store it in an object called `world`.\n",
    "\n",
    "2. Subset `world` to European countries. Save this subset as a new data frame called `europe`.\n",
    "\n",
    "3. Add two variables to `europe`: \n",
    "    a. A variable that recodes `polityIV` from 0-20 to -10-10. \n",
    "    b. A variable that categorizes a country as \"rich\" or \"poor\" based on some \n",
    "cutoff of `gdppcap08` you think is reasonable. \n",
    "\n",
    "4. Drop the `region` variable in `europe` (keep the rest). \n",
    "\n",
    "5. Sort `europe` based on Polity IV. \n",
    "\n",
    "6. Repeat Exercises 2-5 using chaining. \n",
    "\n",
    "7. What was the world's mean GDP per capita in 2008? Polity IV score?\n",
    "\n",
    "8. What was Africa's mean GDP per capita and Polity IV score?\n",
    "\n",
    "9. What was the poorest country in the world in 2008? Richest? \n",
    "\n",
    "10. How many countries in Europe are \"rich\" according to your coding? \n",
    "How many are poor? What percentage have Polity IV scores of at least 18?\n",
    "\n"
   ]
  }
 ],
 "metadata": {
  "jupytext": {
   "cell_metadata_filter": "tags,eval,-all",
   "main_language": "R",
   "notebook_metadata_filter": "-all"
  },
  "kernelspec": {
   "display_name": "R",
   "language": "R",
   "name": "ir"
  },
  "language_info": {
   "codemirror_mode": "r",
   "file_extension": ".r",
   "mimetype": "text/x-r-source",
   "name": "R",
   "pygments_lexer": "r",
   "version": "4.1.0"
  }
 },
 "nbformat": 4,
 "nbformat_minor": 5
}
