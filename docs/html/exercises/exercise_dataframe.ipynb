{
 "cells": [
  {
   "cell_type": "markdown",
   "metadata": {},
   "source": [
    "# Dataframe Exercises\n",
    "\n",
    "\n",
    "0. Download the world-small.csv dataset [from here](../data/world-small.csv).\n",
    "\n",
    "\n",
    "1. Read the `world-small.csv` data into R and store it in an object called `world`. (Set your working directory using code first.) \n",
    "\n",
    "2. (Conceptual) What is the unit of analysis in the dataset? In other words, what does each row represent?\n",
    "\n",
    "3. How many observations does `world` have? How many variables? Use an R command to find out.\n",
    "\n",
    "4. Use brackets and a logical statement to inspect all the values for Nigeria and United States. That is, your code should return two entire rows of the dataset. \n",
    "\n",
    "5. Use R to return China's Polity IV score. As in question 4, use a logical statement and brackets, but don't return the entire row. Rather, return a single value with the Polity IV score.\n",
    "\n",
    "6. What is the lowest GDP per capita in the dataset? (Use R to return only the value.)\n",
    "\n",
    "7. What country has the lowest GDP per capita? (Your code should return the country name and be general enough so that if the observations in the dataset --- or their order --- change, your code should still return the country with the lowest GDP per capita.)\n"
   ]
  }
 ],
 "metadata": {
  "language_info": {
   "name": "r"
  }
 },
 "nbformat": 4,
 "nbformat_minor": 2
}
