{
 "cells": [
  {
   "cell_type": "markdown",
   "source": [
    "# DataFrame Basics\n",
    "\n",
    "In our previous lessons, we've talked about how vectors are often used to store lots of different observations of a given measurement (e.g. the answers of different survey respondents to a given question), and how matrices can be used to collect lots of different measurements in columns (e.g. each column can be answers to different questions). \n",
    "\n",
    "But matrices have one major limitation when it comes to social science workflows, which is that all the entries in a matrix have to be of the same type. In reality, however, we often have datasets with lots of *different* data types. For example, we might have numeric data on age and income, but character data for people's names, preferred political candidate, etc. Or we might have data on power plants across the US that includes numeric data on capacity, age, and pollution alongside character data on the power plant's fuel and the company that owns the plant. \n",
    "\n",
    "To deal with this kind of *heterogeneous tabular data*, we turn to the `data.frame`. \n",
    "\n",
    "Dataframes are basically just a collection of vectors, where each vector corresponds to a different column, and each column has a single type. Since they're two-dimensional data structures like matrices, we can actually subset them in the same way as matrices, but they are more flexible in terms of the types of data they can store. \n",
    "\n",
    "In this reading, we'll discussing how to create dataframes, how to get information about your dataframe as a whole, how to subset the rows of your dataframe, how to subset the columns of your dataframe, and finally how to edit your dataframe. \n",
    "\n",
    "There will be a **lot** of syntax in this reading, but the goal of the reading is **not** to have you memorize all the syntax, but rather to understand the *logic* of how dataframes work. To help with that, I've provided a recap section at the end of the reading with examples of all the commands we cover in one place. So as you read, try and focus on the logic of how dataframes work, not the exact syntax. "
   ],
   "metadata": {}
  },
  {
   "cell_type": "markdown",
   "source": [
    "## Creating Dataframes\n",
    "\n",
    "Let's start by learning how to create a dataset in R. This turns\n",
    "out to be very simple --- just combine vectors using the `data.frame()`\n",
    "command. \n"
   ],
   "metadata": {}
  },
  {
   "cell_type": "code",
   "execution_count": 1,
   "source": [
    "# Create three vectors \n",
    "name <- c(\"al\", \"bea\", \"carol\")\n",
    "age <- c(6, 7, 4)\n",
    "hair <- c(\"brown\", \"green\", \"blond\")\n",
    "\n",
    "# Create data frame \n",
    "children <- data.frame(name, age, hair)\n",
    "children\n"
   ],
   "outputs": [
    {
     "output_type": "display_data",
     "data": {
      "text/plain": [
       "  name  age hair \n",
       "1 al    6   brown\n",
       "2 bea   7   green\n",
       "3 carol 4   blond"
      ],
      "text/markdown": [
       "\n",
       "A data.frame: 3 × 3\n",
       "\n",
       "| name &lt;chr&gt; | age &lt;dbl&gt; | hair &lt;chr&gt; |\n",
       "|---|---|---|\n",
       "| al    | 6 | brown |\n",
       "| bea   | 7 | green |\n",
       "| carol | 4 | blond |\n",
       "\n"
      ],
      "text/latex": [
       "A data.frame: 3 × 3\n",
       "\\begin{tabular}{lll}\n",
       " name & age & hair\\\\\n",
       " <chr> & <dbl> & <chr>\\\\\n",
       "\\hline\n",
       "\t al    & 6 & brown\\\\\n",
       "\t bea   & 7 & green\\\\\n",
       "\t carol & 4 & blond\\\\\n",
       "\\end{tabular}\n"
      ],
      "text/html": [
       "<table class=\"dataframe\">\n",
       "<caption>A data.frame: 3 × 3</caption>\n",
       "<thead>\n",
       "\t<tr><th scope=col>name</th><th scope=col>age</th><th scope=col>hair</th></tr>\n",
       "\t<tr><th scope=col>&lt;chr&gt;</th><th scope=col>&lt;dbl&gt;</th><th scope=col>&lt;chr&gt;</th></tr>\n",
       "</thead>\n",
       "<tbody>\n",
       "\t<tr><td>al   </td><td>6</td><td>brown</td></tr>\n",
       "\t<tr><td>bea  </td><td>7</td><td>green</td></tr>\n",
       "\t<tr><td>carol</td><td>4</td><td>blond</td></tr>\n",
       "</tbody>\n",
       "</table>\n"
      ]
     },
     "metadata": {}
    }
   ],
   "metadata": {}
  },
  {
   "cell_type": "markdown",
   "source": [
    "Or we can create our data frame by inserting our vectors as keyword arguments:"
   ],
   "metadata": {}
  },
  {
   "cell_type": "code",
   "execution_count": 2,
   "source": [
    "# Create data frame \n",
    "children <- data.frame(\n",
    "    name = c(\"al\", \"bea\", \"carol\"),\n",
    "    age = c(6, 7, 4),\n",
    "    hair = c(\"brown\", \"green\", \"blond\")\n",
    ")\n",
    "children"
   ],
   "outputs": [
    {
     "output_type": "display_data",
     "data": {
      "text/plain": [
       "  name  age hair \n",
       "1 al    6   brown\n",
       "2 bea   7   green\n",
       "3 carol 4   blond"
      ],
      "text/markdown": [
       "\n",
       "A data.frame: 3 × 3\n",
       "\n",
       "| name &lt;chr&gt; | age &lt;dbl&gt; | hair &lt;chr&gt; |\n",
       "|---|---|---|\n",
       "| al    | 6 | brown |\n",
       "| bea   | 7 | green |\n",
       "| carol | 4 | blond |\n",
       "\n"
      ],
      "text/latex": [
       "A data.frame: 3 × 3\n",
       "\\begin{tabular}{lll}\n",
       " name & age & hair\\\\\n",
       " <chr> & <dbl> & <chr>\\\\\n",
       "\\hline\n",
       "\t al    & 6 & brown\\\\\n",
       "\t bea   & 7 & green\\\\\n",
       "\t carol & 4 & blond\\\\\n",
       "\\end{tabular}\n"
      ],
      "text/html": [
       "<table class=\"dataframe\">\n",
       "<caption>A data.frame: 3 × 3</caption>\n",
       "<thead>\n",
       "\t<tr><th scope=col>name</th><th scope=col>age</th><th scope=col>hair</th></tr>\n",
       "\t<tr><th scope=col>&lt;chr&gt;</th><th scope=col>&lt;dbl&gt;</th><th scope=col>&lt;chr&gt;</th></tr>\n",
       "</thead>\n",
       "<tbody>\n",
       "\t<tr><td>al   </td><td>6</td><td>brown</td></tr>\n",
       "\t<tr><td>bea  </td><td>7</td><td>green</td></tr>\n",
       "\t<tr><td>carol</td><td>4</td><td>blond</td></tr>\n",
       "</tbody>\n",
       "</table>\n"
      ]
     },
     "metadata": {}
    }
   ],
   "metadata": {}
  },
  {
   "cell_type": "markdown",
   "source": [
    "Note that unlike matrices and vectors -- which *can* have names -- dataframe columns **always** have names, and you'll usually see columns accessed by name for reasons we'll discuss below:"
   ],
   "metadata": {}
  },
  {
   "cell_type": "code",
   "execution_count": 3,
   "source": [
    "children[, \"hair\"]"
   ],
   "outputs": [
    {
     "output_type": "display_data",
     "data": {
      "text/plain": [
       "[1] \"brown\" \"green\" \"blond\""
      ],
      "text/markdown": [
       "1. 'brown'\n",
       "2. 'green'\n",
       "3. 'blond'\n",
       "\n",
       "\n"
      ],
      "text/latex": [
       "\\begin{enumerate*}\n",
       "\\item 'brown'\n",
       "\\item 'green'\n",
       "\\item 'blond'\n",
       "\\end{enumerate*}\n"
      ],
      "text/html": [
       "<style>\n",
       ".list-inline {list-style: none; margin:0; padding: 0}\n",
       ".list-inline>li {display: inline-block}\n",
       ".list-inline>li:not(:last-child)::after {content: \"\\00b7\"; padding: 0 .5ex}\n",
       "</style>\n",
       "<ol class=list-inline><li>'brown'</li><li>'green'</li><li>'blond'</li></ol>\n"
      ]
     },
     "metadata": {}
    }
   ],
   "metadata": {}
  },
  {
   "cell_type": "markdown",
   "source": [
    "And as we discussed before, the columns of a dataframe are just our old friends, the vector!"
   ],
   "metadata": {}
  },
  {
   "cell_type": "code",
   "execution_count": 4,
   "source": [
    "class(children[, \"hair\"])"
   ],
   "outputs": [
    {
     "output_type": "display_data",
     "data": {
      "text/plain": [
       "[1] \"character\""
      ],
      "text/markdown": [
       "'character'"
      ],
      "text/latex": [
       "'character'"
      ],
      "text/html": [
       "'character'"
      ]
     },
     "metadata": {}
    }
   ],
   "metadata": {}
  },
  {
   "cell_type": "markdown",
   "source": [
    "## Getting to Know Your Dataframe\n",
    "\n",
    "To better understand the proper structure of datasets, let's create a second data frame that has a more realistic data structure:"
   ],
   "metadata": {}
  },
  {
   "cell_type": "code",
   "execution_count": 5,
   "source": [
    "country <- rep(c(\"USA\", \"China\", \"Sudan\"), 3)\n",
    "year <- c(1994, 1994, 1994, 1995, 1995, 1995, 1996, 1996, 1996)\n",
    "gdp_pc <- round(runif(9, 1000, 20000))\n",
    "\n",
    "countries <- data.frame(country, year, gdp_pc)\n",
    "countries"
   ],
   "outputs": [
    {
     "output_type": "display_data",
     "data": {
      "text/plain": [
       "  country year gdp_pc\n",
       "1 USA     1994  2929 \n",
       "2 China   1994 10576 \n",
       "3 Sudan   1994  7123 \n",
       "4 USA     1995  7665 \n",
       "5 China   1995 15991 \n",
       "6 Sudan   1995  4092 \n",
       "7 USA     1996  2127 \n",
       "8 China   1996  5831 \n",
       "9 Sudan   1996 13325 "
      ],
      "text/markdown": [
       "\n",
       "A data.frame: 9 × 3\n",
       "\n",
       "| country &lt;chr&gt; | year &lt;dbl&gt; | gdp_pc &lt;dbl&gt; |\n",
       "|---|---|---|\n",
       "| USA   | 1994 |  2929 |\n",
       "| China | 1994 | 10576 |\n",
       "| Sudan | 1994 |  7123 |\n",
       "| USA   | 1995 |  7665 |\n",
       "| China | 1995 | 15991 |\n",
       "| Sudan | 1995 |  4092 |\n",
       "| USA   | 1996 |  2127 |\n",
       "| China | 1996 |  5831 |\n",
       "| Sudan | 1996 | 13325 |\n",
       "\n"
      ],
      "text/latex": [
       "A data.frame: 9 × 3\n",
       "\\begin{tabular}{lll}\n",
       " country & year & gdp\\_pc\\\\\n",
       " <chr> & <dbl> & <dbl>\\\\\n",
       "\\hline\n",
       "\t USA   & 1994 &  2929\\\\\n",
       "\t China & 1994 & 10576\\\\\n",
       "\t Sudan & 1994 &  7123\\\\\n",
       "\t USA   & 1995 &  7665\\\\\n",
       "\t China & 1995 & 15991\\\\\n",
       "\t Sudan & 1995 &  4092\\\\\n",
       "\t USA   & 1996 &  2127\\\\\n",
       "\t China & 1996 &  5831\\\\\n",
       "\t Sudan & 1996 & 13325\\\\\n",
       "\\end{tabular}\n"
      ],
      "text/html": [
       "<table class=\"dataframe\">\n",
       "<caption>A data.frame: 9 × 3</caption>\n",
       "<thead>\n",
       "\t<tr><th scope=col>country</th><th scope=col>year</th><th scope=col>gdp_pc</th></tr>\n",
       "\t<tr><th scope=col>&lt;chr&gt;</th><th scope=col>&lt;dbl&gt;</th><th scope=col>&lt;dbl&gt;</th></tr>\n",
       "</thead>\n",
       "<tbody>\n",
       "\t<tr><td>USA  </td><td>1994</td><td> 2929</td></tr>\n",
       "\t<tr><td>China</td><td>1994</td><td>10576</td></tr>\n",
       "\t<tr><td>Sudan</td><td>1994</td><td> 7123</td></tr>\n",
       "\t<tr><td>USA  </td><td>1995</td><td> 7665</td></tr>\n",
       "\t<tr><td>China</td><td>1995</td><td>15991</td></tr>\n",
       "\t<tr><td>Sudan</td><td>1995</td><td> 4092</td></tr>\n",
       "\t<tr><td>USA  </td><td>1996</td><td> 2127</td></tr>\n",
       "\t<tr><td>China</td><td>1996</td><td> 5831</td></tr>\n",
       "\t<tr><td>Sudan</td><td>1996</td><td>13325</td></tr>\n",
       "</tbody>\n",
       "</table>\n"
      ]
     },
     "metadata": {}
    }
   ],
   "metadata": {}
  },
  {
   "cell_type": "markdown",
   "source": [
    "Where we can pretend that `gdp_pc` is a measure of a country's GDP per capita in a given year. \n",
    " \n",
    "(A quick aside: `rep()`, as you may recall, creates a vector that repeats the first input the number of times specified by the second input. `runif()` creates, in this case, 9 random values uniformly distributed between 1000 and 20000.)\n"
   ],
   "metadata": {}
  },
  {
   "cell_type": "markdown",
   "source": [
    "Now let's explore some common functions for getting to know your dataframe!\n",
    "\n",
    "The first is `dim()`, which gives the dimensions of a data frame. The number of rows are listed first, columns second."
   ],
   "metadata": {}
  },
  {
   "cell_type": "code",
   "execution_count": 6,
   "source": [
    "dim(countries)"
   ],
   "outputs": [
    {
     "output_type": "display_data",
     "data": {
      "text/plain": [
       "[1] 9 3"
      ],
      "text/markdown": [
       "1. 9\n",
       "2. 3\n",
       "\n",
       "\n"
      ],
      "text/latex": [
       "\\begin{enumerate*}\n",
       "\\item 9\n",
       "\\item 3\n",
       "\\end{enumerate*}\n"
      ],
      "text/html": [
       "<style>\n",
       ".list-inline {list-style: none; margin:0; padding: 0}\n",
       ".list-inline>li {display: inline-block}\n",
       ".list-inline>li:not(:last-child)::after {content: \"\\00b7\"; padding: 0 .5ex}\n",
       "</style>\n",
       "<ol class=list-inline><li>9</li><li>3</li></ol>\n"
      ]
     },
     "metadata": {}
    }
   ],
   "metadata": {}
  },
  {
   "cell_type": "markdown",
   "source": [
    "Use `nrow()` and `ncol()` to to get the number of rows or columns separately."
   ],
   "metadata": {}
  },
  {
   "cell_type": "code",
   "execution_count": 7,
   "source": [
    "nrow(countries)\n",
    "ncol(countries)"
   ],
   "outputs": [
    {
     "output_type": "display_data",
     "data": {
      "text/plain": [
       "[1] 9"
      ],
      "text/markdown": [
       "9"
      ],
      "text/latex": [
       "9"
      ],
      "text/html": [
       "9"
      ]
     },
     "metadata": {}
    },
    {
     "output_type": "display_data",
     "data": {
      "text/plain": [
       "[1] 3"
      ],
      "text/markdown": [
       "3"
      ],
      "text/latex": [
       "3"
      ],
      "text/html": [
       "3"
      ]
     },
     "metadata": {}
    }
   ],
   "metadata": {}
  },
  {
   "cell_type": "markdown",
   "source": [
    "\n",
    "Use `head()` and `tail()` to look at the first and last few rows of a dataset, respectively. Obviously this is more useful when we have datasets with hundreds or thousands of observations you can't just look at. :) "
   ],
   "metadata": {}
  },
  {
   "cell_type": "code",
   "execution_count": 8,
   "source": [
    "head(countries)"
   ],
   "outputs": [
    {
     "output_type": "display_data",
     "data": {
      "text/plain": [
       "  country year gdp_pc\n",
       "1 USA     1994  2929 \n",
       "2 China   1994 10576 \n",
       "3 Sudan   1994  7123 \n",
       "4 USA     1995  7665 \n",
       "5 China   1995 15991 \n",
       "6 Sudan   1995  4092 "
      ],
      "text/markdown": [
       "\n",
       "A data.frame: 6 × 3\n",
       "\n",
       "| <!--/--> | country &lt;chr&gt; | year &lt;dbl&gt; | gdp_pc &lt;dbl&gt; |\n",
       "|---|---|---|---|\n",
       "| 1 | USA   | 1994 |  2929 |\n",
       "| 2 | China | 1994 | 10576 |\n",
       "| 3 | Sudan | 1994 |  7123 |\n",
       "| 4 | USA   | 1995 |  7665 |\n",
       "| 5 | China | 1995 | 15991 |\n",
       "| 6 | Sudan | 1995 |  4092 |\n",
       "\n"
      ],
      "text/latex": [
       "A data.frame: 6 × 3\n",
       "\\begin{tabular}{r|lll}\n",
       "  & country & year & gdp\\_pc\\\\\n",
       "  & <chr> & <dbl> & <dbl>\\\\\n",
       "\\hline\n",
       "\t1 & USA   & 1994 &  2929\\\\\n",
       "\t2 & China & 1994 & 10576\\\\\n",
       "\t3 & Sudan & 1994 &  7123\\\\\n",
       "\t4 & USA   & 1995 &  7665\\\\\n",
       "\t5 & China & 1995 & 15991\\\\\n",
       "\t6 & Sudan & 1995 &  4092\\\\\n",
       "\\end{tabular}\n"
      ],
      "text/html": [
       "<table class=\"dataframe\">\n",
       "<caption>A data.frame: 6 × 3</caption>\n",
       "<thead>\n",
       "\t<tr><th></th><th scope=col>country</th><th scope=col>year</th><th scope=col>gdp_pc</th></tr>\n",
       "\t<tr><th></th><th scope=col>&lt;chr&gt;</th><th scope=col>&lt;dbl&gt;</th><th scope=col>&lt;dbl&gt;</th></tr>\n",
       "</thead>\n",
       "<tbody>\n",
       "\t<tr><th scope=row>1</th><td>USA  </td><td>1994</td><td> 2929</td></tr>\n",
       "\t<tr><th scope=row>2</th><td>China</td><td>1994</td><td>10576</td></tr>\n",
       "\t<tr><th scope=row>3</th><td>Sudan</td><td>1994</td><td> 7123</td></tr>\n",
       "\t<tr><th scope=row>4</th><td>USA  </td><td>1995</td><td> 7665</td></tr>\n",
       "\t<tr><th scope=row>5</th><td>China</td><td>1995</td><td>15991</td></tr>\n",
       "\t<tr><th scope=row>6</th><td>Sudan</td><td>1995</td><td> 4092</td></tr>\n",
       "</tbody>\n",
       "</table>\n"
      ]
     },
     "metadata": {}
    }
   ],
   "metadata": {}
  },
  {
   "cell_type": "code",
   "execution_count": 9,
   "source": [
    "tail(countries)"
   ],
   "outputs": [
    {
     "output_type": "display_data",
     "data": {
      "text/plain": [
       "  country year gdp_pc\n",
       "4 USA     1995  7665 \n",
       "5 China   1995 15991 \n",
       "6 Sudan   1995  4092 \n",
       "7 USA     1996  2127 \n",
       "8 China   1996  5831 \n",
       "9 Sudan   1996 13325 "
      ],
      "text/markdown": [
       "\n",
       "A data.frame: 6 × 3\n",
       "\n",
       "| <!--/--> | country &lt;chr&gt; | year &lt;dbl&gt; | gdp_pc &lt;dbl&gt; |\n",
       "|---|---|---|---|\n",
       "| 4 | USA   | 1995 |  7665 |\n",
       "| 5 | China | 1995 | 15991 |\n",
       "| 6 | Sudan | 1995 |  4092 |\n",
       "| 7 | USA   | 1996 |  2127 |\n",
       "| 8 | China | 1996 |  5831 |\n",
       "| 9 | Sudan | 1996 | 13325 |\n",
       "\n"
      ],
      "text/latex": [
       "A data.frame: 6 × 3\n",
       "\\begin{tabular}{r|lll}\n",
       "  & country & year & gdp\\_pc\\\\\n",
       "  & <chr> & <dbl> & <dbl>\\\\\n",
       "\\hline\n",
       "\t4 & USA   & 1995 &  7665\\\\\n",
       "\t5 & China & 1995 & 15991\\\\\n",
       "\t6 & Sudan & 1995 &  4092\\\\\n",
       "\t7 & USA   & 1996 &  2127\\\\\n",
       "\t8 & China & 1996 &  5831\\\\\n",
       "\t9 & Sudan & 1996 & 13325\\\\\n",
       "\\end{tabular}\n"
      ],
      "text/html": [
       "<table class=\"dataframe\">\n",
       "<caption>A data.frame: 6 × 3</caption>\n",
       "<thead>\n",
       "\t<tr><th></th><th scope=col>country</th><th scope=col>year</th><th scope=col>gdp_pc</th></tr>\n",
       "\t<tr><th></th><th scope=col>&lt;chr&gt;</th><th scope=col>&lt;dbl&gt;</th><th scope=col>&lt;dbl&gt;</th></tr>\n",
       "</thead>\n",
       "<tbody>\n",
       "\t<tr><th scope=row>4</th><td>USA  </td><td>1995</td><td> 7665</td></tr>\n",
       "\t<tr><th scope=row>5</th><td>China</td><td>1995</td><td>15991</td></tr>\n",
       "\t<tr><th scope=row>6</th><td>Sudan</td><td>1995</td><td> 4092</td></tr>\n",
       "\t<tr><th scope=row>7</th><td>USA  </td><td>1996</td><td> 2127</td></tr>\n",
       "\t<tr><th scope=row>8</th><td>China</td><td>1996</td><td> 5831</td></tr>\n",
       "\t<tr><th scope=row>9</th><td>Sudan</td><td>1996</td><td>13325</td></tr>\n",
       "</tbody>\n",
       "</table>\n"
      ]
     },
     "metadata": {}
    }
   ],
   "metadata": {}
  },
  {
   "cell_type": "markdown",
   "source": [
    "Other useful commands to get to know variables better include `summary()`,\n",
    "`table()`, and `prop.table()`. "
   ],
   "metadata": {}
  },
  {
   "cell_type": "code",
   "execution_count": 10,
   "source": [
    "# Get some summary information about each variable\n",
    "summary(countries)"
   ],
   "outputs": [
    {
     "output_type": "display_data",
     "data": {
      "text/plain": [
       "   country               year          gdp_pc     \n",
       " Length:9           Min.   :1994   Min.   : 2127  \n",
       " Class :character   1st Qu.:1994   1st Qu.: 4092  \n",
       " Mode  :character   Median :1995   Median : 7123  \n",
       "                    Mean   :1995   Mean   : 7740  \n",
       "                    3rd Qu.:1996   3rd Qu.:10576  \n",
       "                    Max.   :1996   Max.   :15991  "
      ]
     },
     "metadata": {}
    }
   ],
   "metadata": {}
  },
  {
   "cell_type": "markdown",
   "source": [
    "## Subsetting Dataframes\n",
    "\n",
    "Subsetting dataframes follows the same logic we saw with matrices: we use square brackets, and the first entry in the square brackets subsets rows, and the second entry subsets columns. \n",
    "\n",
    "For example, we could easily get the second row and the second and third columns of our dataframe like this:"
   ],
   "metadata": {}
  },
  {
   "cell_type": "code",
   "execution_count": 11,
   "source": [
    "# Subset by index\n",
    "countries[2, c(2, 3)]"
   ],
   "outputs": [
    {
     "output_type": "display_data",
     "data": {
      "text/plain": [
       "  year gdp_pc\n",
       "2 1994 10576 "
      ],
      "text/markdown": [
       "\n",
       "A data.frame: 1 × 2\n",
       "\n",
       "| <!--/--> | year &lt;dbl&gt; | gdp_pc &lt;dbl&gt; |\n",
       "|---|---|---|\n",
       "| 2 | 1994 | 10576 |\n",
       "\n"
      ],
      "text/latex": [
       "A data.frame: 1 × 2\n",
       "\\begin{tabular}{r|ll}\n",
       "  & year & gdp\\_pc\\\\\n",
       "  & <dbl> & <dbl>\\\\\n",
       "\\hline\n",
       "\t2 & 1994 & 10576\\\\\n",
       "\\end{tabular}\n"
      ],
      "text/html": [
       "<table class=\"dataframe\">\n",
       "<caption>A data.frame: 1 × 2</caption>\n",
       "<thead>\n",
       "\t<tr><th></th><th scope=col>year</th><th scope=col>gdp_pc</th></tr>\n",
       "\t<tr><th></th><th scope=col>&lt;dbl&gt;</th><th scope=col>&lt;dbl&gt;</th></tr>\n",
       "</thead>\n",
       "<tbody>\n",
       "\t<tr><th scope=row>2</th><td>1994</td><td>10576</td></tr>\n",
       "</tbody>\n",
       "</table>\n"
      ]
     },
     "metadata": {}
    }
   ],
   "metadata": {}
  },
  {
   "cell_type": "markdown",
   "source": [
    "In general, though, we won't usually subset by index when working with dataframes. That's because datasets have a tendency to change over time -- your coauthors may give you an updated version of the data you're working with, or you change the way you sort the data early in your code. Instead, we'll mostly subset rows using logicals, and subset columns by name, like this:"
   ],
   "metadata": {}
  },
  {
   "cell_type": "code",
   "execution_count": 13,
   "source": [
    "countries[countries[, \"gdp_pc\"] < 10000, \"year\"]"
   ],
   "outputs": [
    {
     "output_type": "display_data",
     "data": {
      "text/plain": [
       "[1] 1994 1994 1995 1995 1996 1996"
      ],
      "text/markdown": [
       "1. 1994\n",
       "2. 1994\n",
       "3. 1995\n",
       "4. 1995\n",
       "5. 1996\n",
       "6. 1996\n",
       "\n",
       "\n"
      ],
      "text/latex": [
       "\\begin{enumerate*}\n",
       "\\item 1994\n",
       "\\item 1994\n",
       "\\item 1995\n",
       "\\item 1995\n",
       "\\item 1996\n",
       "\\item 1996\n",
       "\\end{enumerate*}\n"
      ],
      "text/html": [
       "<style>\n",
       ".list-inline {list-style: none; margin:0; padding: 0}\n",
       ".list-inline>li {display: inline-block}\n",
       ".list-inline>li:not(:last-child)::after {content: \"\\00b7\"; padding: 0 .5ex}\n",
       "</style>\n",
       "<ol class=list-inline><li>1994</li><li>1994</li><li>1995</li><li>1995</li><li>1996</li><li>1996</li></ol>\n"
      ]
     },
     "metadata": {}
    }
   ],
   "metadata": {
    "lines_to_next_cell": 0
   }
  },
  {
   "cell_type": "markdown",
   "source": [
    "## Columns Operations\n",
    "\n",
    "Columns in most datasets correspond to variables, so you will often want to do things like take the average of a single column (e.g. the average of a single variable), or edit the values in a column. \n",
    "\n",
    "In fact, accessing a single column is so common with dataframes that there are two exactly-identical ways to get a single column -- the one we're used to, and a new shorthand:"
   ],
   "metadata": {}
  },
  {
   "cell_type": "code",
   "execution_count": 14,
   "source": [
    "# What we're used to from matrices\n",
    "countries[, \"gdp_pc\"]"
   ],
   "outputs": [
    {
     "output_type": "display_data",
     "data": {
      "text/plain": [
       "[1]  2929 10576  7123  7665 15991  4092  2127  5831 13325"
      ],
      "text/markdown": [
       "1. 2929\n",
       "2. 10576\n",
       "3. 7123\n",
       "4. 7665\n",
       "5. 15991\n",
       "6. 4092\n",
       "7. 2127\n",
       "8. 5831\n",
       "9. 13325\n",
       "\n",
       "\n"
      ],
      "text/latex": [
       "\\begin{enumerate*}\n",
       "\\item 2929\n",
       "\\item 10576\n",
       "\\item 7123\n",
       "\\item 7665\n",
       "\\item 15991\n",
       "\\item 4092\n",
       "\\item 2127\n",
       "\\item 5831\n",
       "\\item 13325\n",
       "\\end{enumerate*}\n"
      ],
      "text/html": [
       "<style>\n",
       ".list-inline {list-style: none; margin:0; padding: 0}\n",
       ".list-inline>li {display: inline-block}\n",
       ".list-inline>li:not(:last-child)::after {content: \"\\00b7\"; padding: 0 .5ex}\n",
       "</style>\n",
       "<ol class=list-inline><li>2929</li><li>10576</li><li>7123</li><li>7665</li><li>15991</li><li>4092</li><li>2127</li><li>5831</li><li>13325</li></ol>\n"
      ]
     },
     "metadata": {}
    }
   ],
   "metadata": {}
  },
  {
   "cell_type": "code",
   "execution_count": 15,
   "source": [
    "# The shortcut for a single dataframe column\n",
    "countries$gdp_pc"
   ],
   "outputs": [
    {
     "output_type": "display_data",
     "data": {
      "text/plain": [
       "[1]  2929 10576  7123  7665 15991  4092  2127  5831 13325"
      ],
      "text/markdown": [
       "1. 2929\n",
       "2. 10576\n",
       "3. 7123\n",
       "4. 7665\n",
       "5. 15991\n",
       "6. 4092\n",
       "7. 2127\n",
       "8. 5831\n",
       "9. 13325\n",
       "\n",
       "\n"
      ],
      "text/latex": [
       "\\begin{enumerate*}\n",
       "\\item 2929\n",
       "\\item 10576\n",
       "\\item 7123\n",
       "\\item 7665\n",
       "\\item 15991\n",
       "\\item 4092\n",
       "\\item 2127\n",
       "\\item 5831\n",
       "\\item 13325\n",
       "\\end{enumerate*}\n"
      ],
      "text/html": [
       "<style>\n",
       ".list-inline {list-style: none; margin:0; padding: 0}\n",
       ".list-inline>li {display: inline-block}\n",
       ".list-inline>li:not(:last-child)::after {content: \"\\00b7\"; padding: 0 .5ex}\n",
       "</style>\n",
       "<ol class=list-inline><li>2929</li><li>10576</li><li>7123</li><li>7665</li><li>15991</li><li>4092</li><li>2127</li><li>5831</li><li>13325</li></ol>\n"
      ]
     },
     "metadata": {}
    }
   ],
   "metadata": {}
  },
  {
   "cell_type": "markdown",
   "source": [
    "These are exactly equivalent for single columns! But note that you can't always use this trick -- for example, it doesn't work for trying to get several columns from a dataframe. Most of the time, though, its a very convenient shorthand for single-column manipulations. "
   ],
   "metadata": {}
  },
  {
   "cell_type": "markdown",
   "source": [
    "### Subsetting Columns\n",
    "\n",
    "Subsetting columns can be done in a couple ways. The easiest is to just list the columns one wishes to keep:"
   ],
   "metadata": {}
  },
  {
   "cell_type": "code",
   "execution_count": 18,
   "source": [
    "countries[, c(\"gdp_pc\", \"year\")]"
   ],
   "outputs": [
    {
     "output_type": "display_data",
     "data": {
      "text/plain": [
       "  gdp_pc    year\n",
       "1  3047.332 1994\n",
       "2 11003.270 1994\n",
       "3  7410.769 1994\n",
       "4  7974.666 1995\n",
       "5 16637.036 1995\n",
       "6  4257.317 1995\n",
       "7  2212.931 1996\n",
       "8  6066.572 1996\n",
       "9 13863.330 1996"
      ],
      "text/markdown": [
       "\n",
       "A data.frame: 9 × 2\n",
       "\n",
       "| gdp_pc &lt;dbl&gt; | year &lt;dbl&gt; |\n",
       "|---|---|\n",
       "|  3047.332 | 1994 |\n",
       "| 11003.270 | 1994 |\n",
       "|  7410.769 | 1994 |\n",
       "|  7974.666 | 1995 |\n",
       "| 16637.036 | 1995 |\n",
       "|  4257.317 | 1995 |\n",
       "|  2212.931 | 1996 |\n",
       "|  6066.572 | 1996 |\n",
       "| 13863.330 | 1996 |\n",
       "\n"
      ],
      "text/latex": [
       "A data.frame: 9 × 2\n",
       "\\begin{tabular}{ll}\n",
       " gdp\\_pc & year\\\\\n",
       " <dbl> & <dbl>\\\\\n",
       "\\hline\n",
       "\t  3047.332 & 1994\\\\\n",
       "\t 11003.270 & 1994\\\\\n",
       "\t  7410.769 & 1994\\\\\n",
       "\t  7974.666 & 1995\\\\\n",
       "\t 16637.036 & 1995\\\\\n",
       "\t  4257.317 & 1995\\\\\n",
       "\t  2212.931 & 1996\\\\\n",
       "\t  6066.572 & 1996\\\\\n",
       "\t 13863.330 & 1996\\\\\n",
       "\\end{tabular}\n"
      ],
      "text/html": [
       "<table class=\"dataframe\">\n",
       "<caption>A data.frame: 9 × 2</caption>\n",
       "<thead>\n",
       "\t<tr><th scope=col>gdp_pc</th><th scope=col>year</th></tr>\n",
       "\t<tr><th scope=col>&lt;dbl&gt;</th><th scope=col>&lt;dbl&gt;</th></tr>\n",
       "</thead>\n",
       "<tbody>\n",
       "\t<tr><td> 3047.332</td><td>1994</td></tr>\n",
       "\t<tr><td>11003.270</td><td>1994</td></tr>\n",
       "\t<tr><td> 7410.769</td><td>1994</td></tr>\n",
       "\t<tr><td> 7974.666</td><td>1995</td></tr>\n",
       "\t<tr><td>16637.036</td><td>1995</td></tr>\n",
       "\t<tr><td> 4257.317</td><td>1995</td></tr>\n",
       "\t<tr><td> 2212.931</td><td>1996</td></tr>\n",
       "\t<tr><td> 6066.572</td><td>1996</td></tr>\n",
       "\t<tr><td>13863.330</td><td>1996</td></tr>\n",
       "</tbody>\n",
       "</table>\n"
      ]
     },
     "metadata": {}
    }
   ],
   "metadata": {}
  },
  {
   "cell_type": "markdown",
   "source": [
    "But in big dataframes, we sometimes have lots of columns, and don't want to list all the columns *except* the one we want to drop. For that there are two solutions. The first is like this:"
   ],
   "metadata": {}
  },
  {
   "cell_type": "code",
   "execution_count": 20,
   "source": [
    "# Drop columns gdp_pc and year\n",
    "countries[, !(names(countries) %in% c(\"gdp_pc\", \"year\"))]\n"
   ],
   "outputs": [
    {
     "output_type": "display_data",
     "data": {
      "text/plain": [
       "[1] \"USA\"   \"China\" \"Sudan\" \"USA\"   \"China\" \"Sudan\" \"USA\"   \"China\" \"Sudan\""
      ],
      "text/markdown": [
       "1. 'USA'\n",
       "2. 'China'\n",
       "3. 'Sudan'\n",
       "4. 'USA'\n",
       "5. 'China'\n",
       "6. 'Sudan'\n",
       "7. 'USA'\n",
       "8. 'China'\n",
       "9. 'Sudan'\n",
       "\n",
       "\n"
      ],
      "text/latex": [
       "\\begin{enumerate*}\n",
       "\\item 'USA'\n",
       "\\item 'China'\n",
       "\\item 'Sudan'\n",
       "\\item 'USA'\n",
       "\\item 'China'\n",
       "\\item 'Sudan'\n",
       "\\item 'USA'\n",
       "\\item 'China'\n",
       "\\item 'Sudan'\n",
       "\\end{enumerate*}\n"
      ],
      "text/html": [
       "<style>\n",
       ".list-inline {list-style: none; margin:0; padding: 0}\n",
       ".list-inline>li {display: inline-block}\n",
       ".list-inline>li:not(:last-child)::after {content: \"\\00b7\"; padding: 0 .5ex}\n",
       "</style>\n",
       "<ol class=list-inline><li>'USA'</li><li>'China'</li><li>'Sudan'</li><li>'USA'</li><li>'China'</li><li>'Sudan'</li><li>'USA'</li><li>'China'</li><li>'Sudan'</li></ol>\n"
      ]
     },
     "metadata": {}
    }
   ],
   "metadata": {}
  },
  {
   "cell_type": "markdown",
   "source": [
    "This is a little weird looking, so it's worth breaking down. \n",
    "\n",
    "First, `names(countries)` returns all the column names of `countries`. "
   ],
   "metadata": {}
  },
  {
   "cell_type": "code",
   "execution_count": 21,
   "source": [
    "names(countries)"
   ],
   "outputs": [
    {
     "output_type": "display_data",
     "data": {
      "text/plain": [
       "[1] \"country\" \"year\"    \"gdp_pc\" "
      ],
      "text/markdown": [
       "1. 'country'\n",
       "2. 'year'\n",
       "3. 'gdp_pc'\n",
       "\n",
       "\n"
      ],
      "text/latex": [
       "\\begin{enumerate*}\n",
       "\\item 'country'\n",
       "\\item 'year'\n",
       "\\item 'gdp\\_pc'\n",
       "\\end{enumerate*}\n"
      ],
      "text/html": [
       "<style>\n",
       ".list-inline {list-style: none; margin:0; padding: 0}\n",
       ".list-inline>li {display: inline-block}\n",
       ".list-inline>li:not(:last-child)::after {content: \"\\00b7\"; padding: 0 .5ex}\n",
       "</style>\n",
       "<ol class=list-inline><li>'country'</li><li>'year'</li><li>'gdp_pc'</li></ol>\n"
      ]
     },
     "metadata": {}
    }
   ],
   "metadata": {}
  },
  {
   "cell_type": "markdown",
   "source": [
    "Then `names(countries) %in% c(\"gdp_pc\", \"year\")` returns a logical vector the length of the column names of `countries` that's `TRUE` if the name is in the list, and `FALSE` otherwise:"
   ],
   "metadata": {}
  },
  {
   "cell_type": "code",
   "execution_count": 22,
   "source": [
    "names(countries) %in% c(\"gdp_pc\", \"year\")"
   ],
   "outputs": [
    {
     "output_type": "display_data",
     "data": {
      "text/plain": [
       "[1] FALSE  TRUE  TRUE"
      ],
      "text/markdown": [
       "1. FALSE\n",
       "2. TRUE\n",
       "3. TRUE\n",
       "\n",
       "\n"
      ],
      "text/latex": [
       "\\begin{enumerate*}\n",
       "\\item FALSE\n",
       "\\item TRUE\n",
       "\\item TRUE\n",
       "\\end{enumerate*}\n"
      ],
      "text/html": [
       "<style>\n",
       ".list-inline {list-style: none; margin:0; padding: 0}\n",
       ".list-inline>li {display: inline-block}\n",
       ".list-inline>li:not(:last-child)::after {content: \"\\00b7\"; padding: 0 .5ex}\n",
       "</style>\n",
       "<ol class=list-inline><li>FALSE</li><li>TRUE</li><li>TRUE</li></ol>\n"
      ]
     },
     "metadata": {}
    }
   ],
   "metadata": {}
  },
  {
   "cell_type": "markdown",
   "source": [
    "Then finally the `!` before that expression is the logical `NOT`, meaning that it makes all `TRUE` values into `FALSE` and vice-versa. So in the end `!(names(countries) %in% c(\"gdp_pc\", \"year\"))` returns a logical vector that is `TRUE` for all values *not* in the list, and `FALSE` for those in the list. That is then interpreted as a logical subsetting vector, and all columns not in the list are kept, and those not in the list are dropped. \n",
    "\n",
    "I know, it's kinda a lot... but it is a good example of how you can compose simple building blocks to do complicated things in R!\n",
    "\n",
    "Finally, if you're dropping a single columns, you can also assign the value of `NULL` to the column:"
   ],
   "metadata": {}
  },
  {
   "cell_type": "code",
   "execution_count": 24,
   "source": [
    "countries$gdp_pc <- NULL\n",
    "countries"
   ],
   "outputs": [
    {
     "output_type": "display_data",
     "data": {
      "text/plain": [
       "  country year\n",
       "1 USA     1994\n",
       "2 China   1994\n",
       "3 Sudan   1994\n",
       "4 USA     1995\n",
       "5 China   1995\n",
       "6 Sudan   1995\n",
       "7 USA     1996\n",
       "8 China   1996\n",
       "9 Sudan   1996"
      ],
      "text/markdown": [
       "\n",
       "A data.frame: 9 × 2\n",
       "\n",
       "| country &lt;chr&gt; | year &lt;dbl&gt; |\n",
       "|---|---|\n",
       "| USA   | 1994 |\n",
       "| China | 1994 |\n",
       "| Sudan | 1994 |\n",
       "| USA   | 1995 |\n",
       "| China | 1995 |\n",
       "| Sudan | 1995 |\n",
       "| USA   | 1996 |\n",
       "| China | 1996 |\n",
       "| Sudan | 1996 |\n",
       "\n"
      ],
      "text/latex": [
       "A data.frame: 9 × 2\n",
       "\\begin{tabular}{ll}\n",
       " country & year\\\\\n",
       " <chr> & <dbl>\\\\\n",
       "\\hline\n",
       "\t USA   & 1994\\\\\n",
       "\t China & 1994\\\\\n",
       "\t Sudan & 1994\\\\\n",
       "\t USA   & 1995\\\\\n",
       "\t China & 1995\\\\\n",
       "\t Sudan & 1995\\\\\n",
       "\t USA   & 1996\\\\\n",
       "\t China & 1996\\\\\n",
       "\t Sudan & 1996\\\\\n",
       "\\end{tabular}\n"
      ],
      "text/html": [
       "<table class=\"dataframe\">\n",
       "<caption>A data.frame: 9 × 2</caption>\n",
       "<thead>\n",
       "\t<tr><th scope=col>country</th><th scope=col>year</th></tr>\n",
       "\t<tr><th scope=col>&lt;chr&gt;</th><th scope=col>&lt;dbl&gt;</th></tr>\n",
       "</thead>\n",
       "<tbody>\n",
       "\t<tr><td>USA  </td><td>1994</td></tr>\n",
       "\t<tr><td>China</td><td>1994</td></tr>\n",
       "\t<tr><td>Sudan</td><td>1994</td></tr>\n",
       "\t<tr><td>USA  </td><td>1995</td></tr>\n",
       "\t<tr><td>China</td><td>1995</td></tr>\n",
       "\t<tr><td>Sudan</td><td>1995</td></tr>\n",
       "\t<tr><td>USA  </td><td>1996</td></tr>\n",
       "\t<tr><td>China</td><td>1996</td></tr>\n",
       "\t<tr><td>Sudan</td><td>1996</td></tr>\n",
       "</tbody>\n",
       "</table>\n"
      ]
     },
     "metadata": {}
    }
   ],
   "metadata": {}
  },
  {
   "cell_type": "markdown",
   "source": [
    "Which... well, just works! :)"
   ],
   "metadata": {}
  },
  {
   "cell_type": "markdown",
   "source": [
    "### Modifying Columns\n",
    "\n",
    "As with matrices, we can use subsetting to make modifications to columns. For example, suppose, as with our matrix version, we wanted to multiple GDP per capita by 1.02 to adjust for inflation. We could either do:"
   ],
   "metadata": {}
  },
  {
   "cell_type": "code",
   "execution_count": 25,
   "source": [
    "# re-create with original gdp_pc \n",
    "countries <- data.frame(country, year, gdp_pc)\n",
    "countries"
   ],
   "outputs": [
    {
     "output_type": "display_data",
     "data": {
      "text/plain": [
       "  country year gdp_pc\n",
       "1 USA     1994  2929 \n",
       "2 China   1994 10576 \n",
       "3 Sudan   1994  7123 \n",
       "4 USA     1995  7665 \n",
       "5 China   1995 15991 \n",
       "6 Sudan   1995  4092 \n",
       "7 USA     1996  2127 \n",
       "8 China   1996  5831 \n",
       "9 Sudan   1996 13325 "
      ],
      "text/markdown": [
       "\n",
       "A data.frame: 9 × 3\n",
       "\n",
       "| country &lt;chr&gt; | year &lt;dbl&gt; | gdp_pc &lt;dbl&gt; |\n",
       "|---|---|---|\n",
       "| USA   | 1994 |  2929 |\n",
       "| China | 1994 | 10576 |\n",
       "| Sudan | 1994 |  7123 |\n",
       "| USA   | 1995 |  7665 |\n",
       "| China | 1995 | 15991 |\n",
       "| Sudan | 1995 |  4092 |\n",
       "| USA   | 1996 |  2127 |\n",
       "| China | 1996 |  5831 |\n",
       "| Sudan | 1996 | 13325 |\n",
       "\n"
      ],
      "text/latex": [
       "A data.frame: 9 × 3\n",
       "\\begin{tabular}{lll}\n",
       " country & year & gdp\\_pc\\\\\n",
       " <chr> & <dbl> & <dbl>\\\\\n",
       "\\hline\n",
       "\t USA   & 1994 &  2929\\\\\n",
       "\t China & 1994 & 10576\\\\\n",
       "\t Sudan & 1994 &  7123\\\\\n",
       "\t USA   & 1995 &  7665\\\\\n",
       "\t China & 1995 & 15991\\\\\n",
       "\t Sudan & 1995 &  4092\\\\\n",
       "\t USA   & 1996 &  2127\\\\\n",
       "\t China & 1996 &  5831\\\\\n",
       "\t Sudan & 1996 & 13325\\\\\n",
       "\\end{tabular}\n"
      ],
      "text/html": [
       "<table class=\"dataframe\">\n",
       "<caption>A data.frame: 9 × 3</caption>\n",
       "<thead>\n",
       "\t<tr><th scope=col>country</th><th scope=col>year</th><th scope=col>gdp_pc</th></tr>\n",
       "\t<tr><th scope=col>&lt;chr&gt;</th><th scope=col>&lt;dbl&gt;</th><th scope=col>&lt;dbl&gt;</th></tr>\n",
       "</thead>\n",
       "<tbody>\n",
       "\t<tr><td>USA  </td><td>1994</td><td> 2929</td></tr>\n",
       "\t<tr><td>China</td><td>1994</td><td>10576</td></tr>\n",
       "\t<tr><td>Sudan</td><td>1994</td><td> 7123</td></tr>\n",
       "\t<tr><td>USA  </td><td>1995</td><td> 7665</td></tr>\n",
       "\t<tr><td>China</td><td>1995</td><td>15991</td></tr>\n",
       "\t<tr><td>Sudan</td><td>1995</td><td> 4092</td></tr>\n",
       "\t<tr><td>USA  </td><td>1996</td><td> 2127</td></tr>\n",
       "\t<tr><td>China</td><td>1996</td><td> 5831</td></tr>\n",
       "\t<tr><td>Sudan</td><td>1996</td><td>13325</td></tr>\n",
       "</tbody>\n",
       "</table>\n"
      ]
     },
     "metadata": {}
    }
   ],
   "metadata": {}
  },
  {
   "cell_type": "code",
   "execution_count": 26,
   "source": [
    "countries[, \"gdp_pc\"] <- countries[,\"gdp_pc\"] * 1.02"
   ],
   "outputs": [],
   "metadata": {}
  },
  {
   "cell_type": "markdown",
   "source": [
    "Or"
   ],
   "metadata": {}
  },
  {
   "cell_type": "code",
   "execution_count": 17,
   "source": [
    "countries$gdp_pc <- countries$gdp_pc * 1.02"
   ],
   "outputs": [],
   "metadata": {}
  },
  {
   "cell_type": "markdown",
   "source": [
    "### Creating New Columns \n",
    "\n",
    "If we wanted to keep both the original `gdp_pc` column and add a *new* column with the inflation adjusted values, we can do so just by using a *new* column name when we assign our values back into the dataframe:"
   ],
   "metadata": {}
  },
  {
   "cell_type": "code",
   "execution_count": 27,
   "source": [
    "# re-create with original gdp_pc \n",
    "countries <- data.frame(country, year, gdp_pc)"
   ],
   "outputs": [],
   "metadata": {}
  },
  {
   "cell_type": "code",
   "execution_count": 28,
   "source": [
    "# Add new column\n",
    "countries$adjusted_gdp_pc <- countries$gdp_pc * 1.02\n",
    "countries"
   ],
   "outputs": [
    {
     "output_type": "display_data",
     "data": {
      "text/plain": [
       "  country year gdp_pc adjusted_gdp_pc\n",
       "1 USA     1994  2929   2987.58       \n",
       "2 China   1994 10576  10787.52       \n",
       "3 Sudan   1994  7123   7265.46       \n",
       "4 USA     1995  7665   7818.30       \n",
       "5 China   1995 15991  16310.82       \n",
       "6 Sudan   1995  4092   4173.84       \n",
       "7 USA     1996  2127   2169.54       \n",
       "8 China   1996  5831   5947.62       \n",
       "9 Sudan   1996 13325  13591.50       "
      ],
      "text/markdown": [
       "\n",
       "A data.frame: 9 × 4\n",
       "\n",
       "| country &lt;chr&gt; | year &lt;dbl&gt; | gdp_pc &lt;dbl&gt; | adjusted_gdp_pc &lt;dbl&gt; |\n",
       "|---|---|---|---|\n",
       "| USA   | 1994 |  2929 |  2987.58 |\n",
       "| China | 1994 | 10576 | 10787.52 |\n",
       "| Sudan | 1994 |  7123 |  7265.46 |\n",
       "| USA   | 1995 |  7665 |  7818.30 |\n",
       "| China | 1995 | 15991 | 16310.82 |\n",
       "| Sudan | 1995 |  4092 |  4173.84 |\n",
       "| USA   | 1996 |  2127 |  2169.54 |\n",
       "| China | 1996 |  5831 |  5947.62 |\n",
       "| Sudan | 1996 | 13325 | 13591.50 |\n",
       "\n"
      ],
      "text/latex": [
       "A data.frame: 9 × 4\n",
       "\\begin{tabular}{llll}\n",
       " country & year & gdp\\_pc & adjusted\\_gdp\\_pc\\\\\n",
       " <chr> & <dbl> & <dbl> & <dbl>\\\\\n",
       "\\hline\n",
       "\t USA   & 1994 &  2929 &  2987.58\\\\\n",
       "\t China & 1994 & 10576 & 10787.52\\\\\n",
       "\t Sudan & 1994 &  7123 &  7265.46\\\\\n",
       "\t USA   & 1995 &  7665 &  7818.30\\\\\n",
       "\t China & 1995 & 15991 & 16310.82\\\\\n",
       "\t Sudan & 1995 &  4092 &  4173.84\\\\\n",
       "\t USA   & 1996 &  2127 &  2169.54\\\\\n",
       "\t China & 1996 &  5831 &  5947.62\\\\\n",
       "\t Sudan & 1996 & 13325 & 13591.50\\\\\n",
       "\\end{tabular}\n"
      ],
      "text/html": [
       "<table class=\"dataframe\">\n",
       "<caption>A data.frame: 9 × 4</caption>\n",
       "<thead>\n",
       "\t<tr><th scope=col>country</th><th scope=col>year</th><th scope=col>gdp_pc</th><th scope=col>adjusted_gdp_pc</th></tr>\n",
       "\t<tr><th scope=col>&lt;chr&gt;</th><th scope=col>&lt;dbl&gt;</th><th scope=col>&lt;dbl&gt;</th><th scope=col>&lt;dbl&gt;</th></tr>\n",
       "</thead>\n",
       "<tbody>\n",
       "\t<tr><td>USA  </td><td>1994</td><td> 2929</td><td> 2987.58</td></tr>\n",
       "\t<tr><td>China</td><td>1994</td><td>10576</td><td>10787.52</td></tr>\n",
       "\t<tr><td>Sudan</td><td>1994</td><td> 7123</td><td> 7265.46</td></tr>\n",
       "\t<tr><td>USA  </td><td>1995</td><td> 7665</td><td> 7818.30</td></tr>\n",
       "\t<tr><td>China</td><td>1995</td><td>15991</td><td>16310.82</td></tr>\n",
       "\t<tr><td>Sudan</td><td>1995</td><td> 4092</td><td> 4173.84</td></tr>\n",
       "\t<tr><td>USA  </td><td>1996</td><td> 2127</td><td> 2169.54</td></tr>\n",
       "\t<tr><td>China</td><td>1996</td><td> 5831</td><td> 5947.62</td></tr>\n",
       "\t<tr><td>Sudan</td><td>1996</td><td>13325</td><td>13591.50</td></tr>\n",
       "</tbody>\n",
       "</table>\n"
      ]
     },
     "metadata": {}
    }
   ],
   "metadata": {}
  },
  {
   "cell_type": "markdown",
   "source": [
    "### Analyzing Columns \n",
    "\n",
    "Finally, as long as we're talking about columns, it's worth emphasizing that once you pull a column out of your dataframe, you can analyze it like any other vector (since it is just a vector!). For example: "
   ],
   "metadata": {}
  },
  {
   "cell_type": "code",
   "execution_count": 29,
   "source": [
    "mean(countries$gdp_pc)"
   ],
   "outputs": [
    {
     "output_type": "display_data",
     "data": {
      "text/plain": [
       "[1] 7739.889"
      ],
      "text/markdown": [
       "7739.88888888889"
      ],
      "text/latex": [
       "7739.88888888889"
      ],
      "text/html": [
       "7739.88888888889"
      ]
     },
     "metadata": {}
    }
   ],
   "metadata": {}
  },
  {
   "cell_type": "markdown",
   "source": [
    "But two summary functions are worth noting here: `table()`, to get the number of observations that have a given value in a vector, and the combination `prop.table(table())`, to get the share of observations with a given value in a vector:"
   ],
   "metadata": {}
  },
  {
   "cell_type": "code",
   "execution_count": 32,
   "source": [
    "# Number of observations by country \n",
    "table(countries$country)"
   ],
   "outputs": [
    {
     "output_type": "display_data",
     "data": {
      "text/plain": [
       "\n",
       "China Sudan   USA \n",
       "    3     3     3 "
      ]
     },
     "metadata": {}
    }
   ],
   "metadata": {}
  },
  {
   "cell_type": "code",
   "execution_count": 33,
   "source": [
    "# Proportion of observations by country \n",
    "prop.table(table(countries$country))"
   ],
   "outputs": [
    {
     "output_type": "display_data",
     "data": {
      "text/plain": [
       "\n",
       "    China     Sudan       USA \n",
       "0.3333333 0.3333333 0.3333333 "
      ]
     },
     "metadata": {}
    }
   ],
   "metadata": {}
  },
  {
   "cell_type": "markdown",
   "source": [
    "## Row Operations\n",
    "\n",
    "In most datasets you work with, each row will correspond to a single observation in your data. Given that, we often manipulate rows as a way of manipulating the sample in our analyses. \n",
    "\n",
    "### Subsetting\n",
    "\n",
    "As we discussed before, you usually don't want to explicitly subset by index with rows in case at some point in the future your data gets sorted differently (so observations end up with different row numbers), or the data you're working with gets updated or corrected.\n",
    "\n",
    "Subsetting with logicals, thankfully, works just the way it did for matrices, except that we can access column names with the `$` notation:"
   ],
   "metadata": {}
  },
  {
   "cell_type": "code",
   "execution_count": 34,
   "source": [
    "countries[countries$year == 1995 & countries$country == \"USA\", ]"
   ],
   "outputs": [
    {
     "output_type": "display_data",
     "data": {
      "text/plain": [
       "  country year gdp_pc adjusted_gdp_pc\n",
       "4 USA     1995 7665   7818.3         "
      ],
      "text/markdown": [
       "\n",
       "A data.frame: 1 × 4\n",
       "\n",
       "| <!--/--> | country &lt;chr&gt; | year &lt;dbl&gt; | gdp_pc &lt;dbl&gt; | adjusted_gdp_pc &lt;dbl&gt; |\n",
       "|---|---|---|---|---|\n",
       "| 4 | USA | 1995 | 7665 | 7818.3 |\n",
       "\n"
      ],
      "text/latex": [
       "A data.frame: 1 × 4\n",
       "\\begin{tabular}{r|llll}\n",
       "  & country & year & gdp\\_pc & adjusted\\_gdp\\_pc\\\\\n",
       "  & <chr> & <dbl> & <dbl> & <dbl>\\\\\n",
       "\\hline\n",
       "\t4 & USA & 1995 & 7665 & 7818.3\\\\\n",
       "\\end{tabular}\n"
      ],
      "text/html": [
       "<table class=\"dataframe\">\n",
       "<caption>A data.frame: 1 × 4</caption>\n",
       "<thead>\n",
       "\t<tr><th></th><th scope=col>country</th><th scope=col>year</th><th scope=col>gdp_pc</th><th scope=col>adjusted_gdp_pc</th></tr>\n",
       "\t<tr><th></th><th scope=col>&lt;chr&gt;</th><th scope=col>&lt;dbl&gt;</th><th scope=col>&lt;dbl&gt;</th><th scope=col>&lt;dbl&gt;</th></tr>\n",
       "</thead>\n",
       "<tbody>\n",
       "\t<tr><th scope=row>4</th><td>USA</td><td>1995</td><td>7665</td><td>7818.3</td></tr>\n",
       "</tbody>\n",
       "</table>\n"
      ]
     },
     "metadata": {}
    }
   ],
   "metadata": {
    "lines_to_next_cell": 0
   }
  },
  {
   "cell_type": "markdown",
   "source": [
    "### Sorting Dataframes\n",
    "\n",
    "Often, we'll want to sort the rows of our dataframe by the values in one of our columns. To do so, we use the `order` command:"
   ],
   "metadata": {}
  },
  {
   "cell_type": "code",
   "execution_count": 39,
   "source": [
    "# Sort by GDP\n",
    "countries[order(countries$adjusted_gdp_pc),]"
   ],
   "outputs": [
    {
     "output_type": "display_data",
     "data": {
      "text/plain": [
       "  country year gdp_pc adjusted_gdp_pc\n",
       "7 USA     1996  2127   2169.54       \n",
       "1 USA     1994  2929   2987.58       \n",
       "6 Sudan   1995  4092   4173.84       \n",
       "8 China   1996  5831   5947.62       \n",
       "3 Sudan   1994  7123   7265.46       \n",
       "4 USA     1995  7665   7818.30       \n",
       "2 China   1994 10576  10787.52       \n",
       "9 Sudan   1996 13325  13591.50       \n",
       "5 China   1995 15991  16310.82       "
      ],
      "text/markdown": [
       "\n",
       "A data.frame: 9 × 4\n",
       "\n",
       "| <!--/--> | country &lt;chr&gt; | year &lt;dbl&gt; | gdp_pc &lt;dbl&gt; | adjusted_gdp_pc &lt;dbl&gt; |\n",
       "|---|---|---|---|---|\n",
       "| 7 | USA   | 1996 |  2127 |  2169.54 |\n",
       "| 1 | USA   | 1994 |  2929 |  2987.58 |\n",
       "| 6 | Sudan | 1995 |  4092 |  4173.84 |\n",
       "| 8 | China | 1996 |  5831 |  5947.62 |\n",
       "| 3 | Sudan | 1994 |  7123 |  7265.46 |\n",
       "| 4 | USA   | 1995 |  7665 |  7818.30 |\n",
       "| 2 | China | 1994 | 10576 | 10787.52 |\n",
       "| 9 | Sudan | 1996 | 13325 | 13591.50 |\n",
       "| 5 | China | 1995 | 15991 | 16310.82 |\n",
       "\n"
      ],
      "text/latex": [
       "A data.frame: 9 × 4\n",
       "\\begin{tabular}{r|llll}\n",
       "  & country & year & gdp\\_pc & adjusted\\_gdp\\_pc\\\\\n",
       "  & <chr> & <dbl> & <dbl> & <dbl>\\\\\n",
       "\\hline\n",
       "\t7 & USA   & 1996 &  2127 &  2169.54\\\\\n",
       "\t1 & USA   & 1994 &  2929 &  2987.58\\\\\n",
       "\t6 & Sudan & 1995 &  4092 &  4173.84\\\\\n",
       "\t8 & China & 1996 &  5831 &  5947.62\\\\\n",
       "\t3 & Sudan & 1994 &  7123 &  7265.46\\\\\n",
       "\t4 & USA   & 1995 &  7665 &  7818.30\\\\\n",
       "\t2 & China & 1994 & 10576 & 10787.52\\\\\n",
       "\t9 & Sudan & 1996 & 13325 & 13591.50\\\\\n",
       "\t5 & China & 1995 & 15991 & 16310.82\\\\\n",
       "\\end{tabular}\n"
      ],
      "text/html": [
       "<table class=\"dataframe\">\n",
       "<caption>A data.frame: 9 × 4</caption>\n",
       "<thead>\n",
       "\t<tr><th></th><th scope=col>country</th><th scope=col>year</th><th scope=col>gdp_pc</th><th scope=col>adjusted_gdp_pc</th></tr>\n",
       "\t<tr><th></th><th scope=col>&lt;chr&gt;</th><th scope=col>&lt;dbl&gt;</th><th scope=col>&lt;dbl&gt;</th><th scope=col>&lt;dbl&gt;</th></tr>\n",
       "</thead>\n",
       "<tbody>\n",
       "\t<tr><th scope=row>7</th><td>USA  </td><td>1996</td><td> 2127</td><td> 2169.54</td></tr>\n",
       "\t<tr><th scope=row>1</th><td>USA  </td><td>1994</td><td> 2929</td><td> 2987.58</td></tr>\n",
       "\t<tr><th scope=row>6</th><td>Sudan</td><td>1995</td><td> 4092</td><td> 4173.84</td></tr>\n",
       "\t<tr><th scope=row>8</th><td>China</td><td>1996</td><td> 5831</td><td> 5947.62</td></tr>\n",
       "\t<tr><th scope=row>3</th><td>Sudan</td><td>1994</td><td> 7123</td><td> 7265.46</td></tr>\n",
       "\t<tr><th scope=row>4</th><td>USA  </td><td>1995</td><td> 7665</td><td> 7818.30</td></tr>\n",
       "\t<tr><th scope=row>2</th><td>China</td><td>1994</td><td>10576</td><td>10787.52</td></tr>\n",
       "\t<tr><th scope=row>9</th><td>Sudan</td><td>1996</td><td>13325</td><td>13591.50</td></tr>\n",
       "\t<tr><th scope=row>5</th><td>China</td><td>1995</td><td>15991</td><td>16310.82</td></tr>\n",
       "</tbody>\n",
       "</table>\n"
      ]
     },
     "metadata": {}
    }
   ],
   "metadata": {}
  },
  {
   "cell_type": "markdown",
   "source": [
    "What's happening? `order()` returns a vector with the indices of the rows of the dataset in sorted order:"
   ],
   "metadata": {}
  },
  {
   "cell_type": "code",
   "execution_count": 40,
   "source": [
    "order(countries$adjusted_gdp_pc)"
   ],
   "outputs": [
    {
     "output_type": "display_data",
     "data": {
      "text/plain": [
       "[1] 7 1 6 8 3 4 2 9 5"
      ],
      "text/markdown": [
       "1. 7\n",
       "2. 1\n",
       "3. 6\n",
       "4. 8\n",
       "5. 3\n",
       "6. 4\n",
       "7. 2\n",
       "8. 9\n",
       "9. 5\n",
       "\n",
       "\n"
      ],
      "text/latex": [
       "\\begin{enumerate*}\n",
       "\\item 7\n",
       "\\item 1\n",
       "\\item 6\n",
       "\\item 8\n",
       "\\item 3\n",
       "\\item 4\n",
       "\\item 2\n",
       "\\item 9\n",
       "\\item 5\n",
       "\\end{enumerate*}\n"
      ],
      "text/html": [
       "<style>\n",
       ".list-inline {list-style: none; margin:0; padding: 0}\n",
       ".list-inline>li {display: inline-block}\n",
       ".list-inline>li:not(:last-child)::after {content: \"\\00b7\"; padding: 0 .5ex}\n",
       "</style>\n",
       "<ol class=list-inline><li>7</li><li>1</li><li>6</li><li>8</li><li>3</li><li>4</li><li>2</li><li>9</li><li>5</li></ol>\n"
      ]
     },
     "metadata": {}
    }
   ],
   "metadata": {}
  },
  {
   "cell_type": "markdown",
   "source": [
    "And then, because it's a vector of indices being passed in the first position of our square brackets, we get all the rows of `countries` \"subset\" by index (though obviously it's not really a subset, since all row indices appear in the vector -- just a re-ordering)!"
   ],
   "metadata": {}
  },
  {
   "cell_type": "markdown",
   "source": [
    "We can also sort by multiple columns:"
   ],
   "metadata": {}
  },
  {
   "cell_type": "code",
   "execution_count": null,
   "source": [
    "countries[order(countries$year, countries$country),]"
   ],
   "outputs": [
    {
     "output_type": "display_data",
     "data": {
      "text/plain": [
       "  country year adjusted_gdp_pc\n",
       "2 China   1994 16022.16       \n",
       "3 Sudan   1994 15073.56       \n",
       "1 USA     1994 19145.40       \n",
       "5 China   1995 11920.74       \n",
       "6 Sudan   1995 15743.70       \n",
       "4 USA     1995  6523.92       \n",
       "8 China   1996  3611.82       \n",
       "9 Sudan   1996  4270.74       \n",
       "7 USA     1996  6803.40       "
      ],
      "text/markdown": [
       "\n",
       "A data.frame: 9 × 3\n",
       "\n",
       "| <!--/--> | country &lt;chr&gt; | year &lt;dbl&gt; | adjusted_gdp_pc &lt;dbl&gt; |\n",
       "|---|---|---|---|\n",
       "| 2 | China | 1994 | 16022.16 |\n",
       "| 3 | Sudan | 1994 | 15073.56 |\n",
       "| 1 | USA   | 1994 | 19145.40 |\n",
       "| 5 | China | 1995 | 11920.74 |\n",
       "| 6 | Sudan | 1995 | 15743.70 |\n",
       "| 4 | USA   | 1995 |  6523.92 |\n",
       "| 8 | China | 1996 |  3611.82 |\n",
       "| 9 | Sudan | 1996 |  4270.74 |\n",
       "| 7 | USA   | 1996 |  6803.40 |\n",
       "\n"
      ],
      "text/latex": [
       "A data.frame: 9 × 3\n",
       "\\begin{tabular}{r|lll}\n",
       "  & country & year & adjusted\\_gdp\\_pc\\\\\n",
       "  & <chr> & <dbl> & <dbl>\\\\\n",
       "\\hline\n",
       "\t2 & China & 1994 & 16022.16\\\\\n",
       "\t3 & Sudan & 1994 & 15073.56\\\\\n",
       "\t1 & USA   & 1994 & 19145.40\\\\\n",
       "\t5 & China & 1995 & 11920.74\\\\\n",
       "\t6 & Sudan & 1995 & 15743.70\\\\\n",
       "\t4 & USA   & 1995 &  6523.92\\\\\n",
       "\t8 & China & 1996 &  3611.82\\\\\n",
       "\t9 & Sudan & 1996 &  4270.74\\\\\n",
       "\t7 & USA   & 1996 &  6803.40\\\\\n",
       "\\end{tabular}\n"
      ],
      "text/html": [
       "<table class=\"dataframe\">\n",
       "<caption>A data.frame: 9 × 3</caption>\n",
       "<thead>\n",
       "\t<tr><th></th><th scope=col>country</th><th scope=col>year</th><th scope=col>adjusted_gdp_pc</th></tr>\n",
       "\t<tr><th></th><th scope=col>&lt;chr&gt;</th><th scope=col>&lt;dbl&gt;</th><th scope=col>&lt;dbl&gt;</th></tr>\n",
       "</thead>\n",
       "<tbody>\n",
       "\t<tr><th scope=row>2</th><td>China</td><td>1994</td><td>16022.16</td></tr>\n",
       "\t<tr><th scope=row>3</th><td>Sudan</td><td>1994</td><td>15073.56</td></tr>\n",
       "\t<tr><th scope=row>1</th><td>USA  </td><td>1994</td><td>19145.40</td></tr>\n",
       "\t<tr><th scope=row>5</th><td>China</td><td>1995</td><td>11920.74</td></tr>\n",
       "\t<tr><th scope=row>6</th><td>Sudan</td><td>1995</td><td>15743.70</td></tr>\n",
       "\t<tr><th scope=row>4</th><td>USA  </td><td>1995</td><td> 6523.92</td></tr>\n",
       "\t<tr><th scope=row>8</th><td>China</td><td>1996</td><td> 3611.82</td></tr>\n",
       "\t<tr><th scope=row>9</th><td>Sudan</td><td>1996</td><td> 4270.74</td></tr>\n",
       "\t<tr><th scope=row>7</th><td>USA  </td><td>1996</td><td> 6803.40</td></tr>\n",
       "</tbody>\n",
       "</table>\n"
      ]
     },
     "metadata": {}
    }
   ],
   "metadata": {}
  },
  {
   "cell_type": "markdown",
   "source": [
    "And we can use `-` to sort any variable in descending order rather than ascending order:"
   ],
   "metadata": {}
  },
  {
   "cell_type": "code",
   "execution_count": 41,
   "source": [
    "countries[order(-countries$adjusted_gdp_pc), ]"
   ],
   "outputs": [
    {
     "output_type": "display_data",
     "data": {
      "text/plain": [
       "  country year gdp_pc adjusted_gdp_pc\n",
       "5 China   1995 15991  16310.82       \n",
       "9 Sudan   1996 13325  13591.50       \n",
       "2 China   1994 10576  10787.52       \n",
       "4 USA     1995  7665   7818.30       \n",
       "3 Sudan   1994  7123   7265.46       \n",
       "8 China   1996  5831   5947.62       \n",
       "6 Sudan   1995  4092   4173.84       \n",
       "1 USA     1994  2929   2987.58       \n",
       "7 USA     1996  2127   2169.54       "
      ],
      "text/markdown": [
       "\n",
       "A data.frame: 9 × 4\n",
       "\n",
       "| <!--/--> | country &lt;chr&gt; | year &lt;dbl&gt; | gdp_pc &lt;dbl&gt; | adjusted_gdp_pc &lt;dbl&gt; |\n",
       "|---|---|---|---|---|\n",
       "| 5 | China | 1995 | 15991 | 16310.82 |\n",
       "| 9 | Sudan | 1996 | 13325 | 13591.50 |\n",
       "| 2 | China | 1994 | 10576 | 10787.52 |\n",
       "| 4 | USA   | 1995 |  7665 |  7818.30 |\n",
       "| 3 | Sudan | 1994 |  7123 |  7265.46 |\n",
       "| 8 | China | 1996 |  5831 |  5947.62 |\n",
       "| 6 | Sudan | 1995 |  4092 |  4173.84 |\n",
       "| 1 | USA   | 1994 |  2929 |  2987.58 |\n",
       "| 7 | USA   | 1996 |  2127 |  2169.54 |\n",
       "\n"
      ],
      "text/latex": [
       "A data.frame: 9 × 4\n",
       "\\begin{tabular}{r|llll}\n",
       "  & country & year & gdp\\_pc & adjusted\\_gdp\\_pc\\\\\n",
       "  & <chr> & <dbl> & <dbl> & <dbl>\\\\\n",
       "\\hline\n",
       "\t5 & China & 1995 & 15991 & 16310.82\\\\\n",
       "\t9 & Sudan & 1996 & 13325 & 13591.50\\\\\n",
       "\t2 & China & 1994 & 10576 & 10787.52\\\\\n",
       "\t4 & USA   & 1995 &  7665 &  7818.30\\\\\n",
       "\t3 & Sudan & 1994 &  7123 &  7265.46\\\\\n",
       "\t8 & China & 1996 &  5831 &  5947.62\\\\\n",
       "\t6 & Sudan & 1995 &  4092 &  4173.84\\\\\n",
       "\t1 & USA   & 1994 &  2929 &  2987.58\\\\\n",
       "\t7 & USA   & 1996 &  2127 &  2169.54\\\\\n",
       "\\end{tabular}\n"
      ],
      "text/html": [
       "<table class=\"dataframe\">\n",
       "<caption>A data.frame: 9 × 4</caption>\n",
       "<thead>\n",
       "\t<tr><th></th><th scope=col>country</th><th scope=col>year</th><th scope=col>gdp_pc</th><th scope=col>adjusted_gdp_pc</th></tr>\n",
       "\t<tr><th></th><th scope=col>&lt;chr&gt;</th><th scope=col>&lt;dbl&gt;</th><th scope=col>&lt;dbl&gt;</th><th scope=col>&lt;dbl&gt;</th></tr>\n",
       "</thead>\n",
       "<tbody>\n",
       "\t<tr><th scope=row>5</th><td>China</td><td>1995</td><td>15991</td><td>16310.82</td></tr>\n",
       "\t<tr><th scope=row>9</th><td>Sudan</td><td>1996</td><td>13325</td><td>13591.50</td></tr>\n",
       "\t<tr><th scope=row>2</th><td>China</td><td>1994</td><td>10576</td><td>10787.52</td></tr>\n",
       "\t<tr><th scope=row>4</th><td>USA  </td><td>1995</td><td> 7665</td><td> 7818.30</td></tr>\n",
       "\t<tr><th scope=row>3</th><td>Sudan</td><td>1994</td><td> 7123</td><td> 7265.46</td></tr>\n",
       "\t<tr><th scope=row>8</th><td>China</td><td>1996</td><td> 5831</td><td> 5947.62</td></tr>\n",
       "\t<tr><th scope=row>6</th><td>Sudan</td><td>1995</td><td> 4092</td><td> 4173.84</td></tr>\n",
       "\t<tr><th scope=row>1</th><td>USA  </td><td>1994</td><td> 2929</td><td> 2987.58</td></tr>\n",
       "\t<tr><th scope=row>7</th><td>USA  </td><td>1996</td><td> 2127</td><td> 2169.54</td></tr>\n",
       "</tbody>\n",
       "</table>\n"
      ]
     },
     "metadata": {}
    }
   ],
   "metadata": {}
  },
  {
   "cell_type": "markdown",
   "source": [
    "## Recap\n",
    "\n",
    "Phew. OK, I know this reading covered *a lot*, so here's a quick recap and a summary table for reference. \n",
    "\n",
    "- Dataframes really are just like matrices. The main difference is that each column can be a different type, and dataframes always have column names.\n",
    "- We subset single dataframe columns using `$`, but that's just a shorthand for the syntax we learned before (`df[, \"colname\"]`).\n",
    "- The columns of a dataframe are just vectors.\n",
    "- We usually subset dataframes with logicals (for rows) or by name (columns) for safety. \n",
    "\n",
    "And now a reference table, written with a toy dataset called `df` with columns `col1`, `col2`, and `col3` in mind: "
   ],
   "metadata": {}
  },
  {
   "cell_type": "markdown",
   "source": [
    "**Looking at your dataframe:**\n",
    "\n",
    "- Number of rows: `nrow(df)`\n",
    "- Number of columns: `ncol(df)`\n",
    "- First six rows: `head(df)`\n",
    "- Last six rows: `tail(df)`\n",
    "- Quick summary of all data: `summary(df)`\n",
    "\n",
    "**Row Operations**\n",
    "\n",
    "- Subset rows by logical: `df[df$col1 < 42, ]` or `df[df[, col1] < 42, ]`\n",
    "- Random sample of N rows: `df[sample(nrow(df), N), ]`\n",
    "- Sort rows (ascending, one column): `df[order(df$col1), ]`\n",
    "- Sort rows (descending, one column): `df[order(-df$col1), ]`\n",
    "- Sort rows (multiple columns): `df[order(df$col1, df$col2), ]`\n",
    "\n",
    "**Column Operations**\n",
    "\n",
    "- Subset one column by name: `df$col1` or `df[, \"col1\"]`\n",
    "- Subset multiple columns by name: `df[ , c(\"col1\", \"col2\")]`\n",
    "- Drop one column: `df$col1 <- NULL`\n",
    "- Drop set of columns: `df[ , !(names(df) %in% c(\"col1\", \"col2\"))]`\n",
    "- Editing a single column: `df$col1 <- df$col1 * 42` or `df[, \"col1\"] <- df[, \"col1\"] * 42`\n",
    "- Create new column: `df$newcol <- df$col1 * 42` or `df[, \"newcol\"] <- df[, \"col1\"] * 42`\n",
    "\n",
    "**Learn About a Column:**\n",
    "\n",
    "- Tabulate number of observations of each value: `table(df$col1)`\n",
    "- Share of observations of each value: `prop.table(table(df$col1))`\n",
    "- Quick summary of one column: `summary(df$col1)`\n"
   ],
   "metadata": {}
  }
 ],
 "metadata": {
  "jupytext": {
   "cell_metadata_filter": "tags,eval,-all",
   "main_language": "R",
   "notebook_metadata_filter": "-all"
  },
  "language_info": {
   "name": "R",
   "codemirror_mode": "r",
   "pygments_lexer": "r",
   "mimetype": "text/x-r-source",
   "file_extension": ".r",
   "version": "4.1.0"
  },
  "kernelspec": {
   "name": "ir",
   "display_name": "R",
   "language": "R"
  }
 },
 "nbformat": 4,
 "nbformat_minor": 5
}