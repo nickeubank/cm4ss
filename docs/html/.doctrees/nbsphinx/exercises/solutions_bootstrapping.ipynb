{
 "cells": [
  {
   "cell_type": "markdown",
   "metadata": {},
   "source": [
    "# Bootstrapping Exercise\n",
    "\n",
    "In this exercise, we will bring together a range of different tools and skills we've learned — including vector, matrix, and data.frame manipulation, loops, and functions — for a single purpose: calculating bootstrapped standard errors. \n",
    "\n",
    "To review, to create a bootstrapped estimate of a coefficient and it's standard error, we need to:\n",
    "\n",
    "- **Re-sampled our data with replacement:** we take our *actual* 1,000 observations and create a new \"re-sampled\" dataset by picking one random observation to put in our \"new\" data at a time, 1,000 times, but allowing for the same observation to get picked as many times as chance allows. For example, Respondent 1 might not end up in the \"new\" dataset, while Respondent 2 might end up 4 times. This gives us a new dataset that looks a lot like what we would have gotten if we'd actually gone back to our population of interest and collected 1,000 entirely new survey responses.\n",
    "- **Run the regression:** we regress income on gender with this new, re-sampled dataset. This will give us a new estimate of the partial correlation between gender and income ($\\beta$) that should be similar to but distinct from the estimate we got with our original dataset (since some observations didn't make it into this new dataset and some have been repeated).\n",
    "- **Record the new value of $\\beta$:** Just, you know, write it down or store it somewhere.\n",
    "\n",
    "But don't worry, we aren't going just jump straight to trying to do all that at once. It is **never** a good idea when attempting something complicated (like bootstrapping) to try and \"just write it out.\" \n",
    "\n",
    "Rather, the way we will approach this is by building up a script little by little from running a simple regression to taking on the task of doing a full bootstrap."
   ]
  },
  {
   "cell_type": "markdown",
   "metadata": {},
   "source": [
    "## Resume Experiment Analysis\n",
    "\n",
    "How much harder is it to get a job in the United States if you are Black than if you are White? Or, expressed differently, what is the *effect* of race on the difficulty of getting a job in the US?\n",
    "\n",
    "In this exercise, we will be analyzing data from a real world experiment designed to help answer this question. Namely, we will be analyzing data from a randomized experiment in which 4,870 ficticious resumes were sent out to employers in response to job adverts in Boston and Chicago in 2001. The resumes differ in various attributes including the names of the applicants, and different resumes were randomly allocated to job openings. \n",
    "\n",
    "The \"experiment\" part of the experiment is that resumes were randomly assigned Black- or White-sounding names, and then watched to see whether employers called the \"applicants\" with Black-sounding names at the same rate as the applicants with the White-sounding names.\n",
    "\n",
    "(Which names constituted \"Black-sounding names\" and \"White-sounding names\" was determined by analyzing names on Massachusetts birth certificates to determine which names were most associated with Black and White children, and then surveys were used to validate that the names were perceived as being associated with individuals of one racial category or the other). \n",
    "\n",
    "You can get access to original article [here](https://www.aeaweb.org/articles?id=10.1257/0002828042002561). \n",
    "\n",
    "*Note to Duke students:* if you are on the Duke campus network, you'll be able to access almost any academic journal articles directly; if you are off campus and want access, you can just go to the [Duke Library](https://library.duke.edu/) website and search for the article title. Once you find it, you'll be asked to log in, after which you'll have full access to the article. You will also find this pattern holds true at nearly any major University in the US.\n"
   ]
  },
  {
   "cell_type": "markdown",
   "metadata": {},
   "source": [
    "## Step 1: Data Prep"
   ]
  },
  {
   "cell_type": "markdown",
   "metadata": {},
   "source": [
    "\n",
    "### Exercise 1\n",
    "\n",
    "Download the data set `resume_experiment.dta` from [github here](https://github.com/nickeubank/MIDS_Data/tree/master/resume_experiment), or by doing to `www.github.com/nickeubank/MIDS_Data` and opening the `resume_experiment` folder.\n",
    "\n",
    "Then **IN A NEW `.R` FILE** use `read_dta` from the `haven` library to load the data.\n"
   ]
  },
  {
   "cell_type": "code",
   "execution_count": 1,
   "metadata": {
    "vscode": {
     "languageId": "r"
    }
   },
   "outputs": [
    {
     "name": "stderr",
     "output_type": "stream",
     "text": [
      "\u001b[33m!\u001b[39m \u001b[34m\u001b[34mcurl\u001b[34m\u001b[39m package not installed, falling back to using `url()`\n",
      "\n"
     ]
    }
   ],
   "source": [
    "library(haven)\n",
    "resumes <- read_dta(paste0(\n",
    "    \"https://github.com/nickeubank/MIDS_Data/raw/\",\n",
    "    \"master/resume_experiment/resume_experiment.dta?download=\"\n",
    "))\n"
   ]
  },
  {
   "cell_type": "code",
   "execution_count": 2,
   "metadata": {
    "vscode": {
     "languageId": "r"
    }
   },
   "outputs": [
    {
     "data": {
      "text/html": [
       "<table class=\"dataframe\">\n",
       "<caption>A tibble: 6 x 7</caption>\n",
       "<thead>\n",
       "\t<tr><th scope=col>education</th><th scope=col>ofjobs</th><th scope=col>yearsexp</th><th scope=col>computerskills</th><th scope=col>call</th><th scope=col>female</th><th scope=col>black</th></tr>\n",
       "\t<tr><th scope=col>&lt;dbl&gt;</th><th scope=col>&lt;dbl&gt;</th><th scope=col>&lt;dbl&gt;</th><th scope=col>&lt;dbl&gt;</th><th scope=col>&lt;dbl&gt;</th><th scope=col>&lt;dbl&gt;</th><th scope=col>&lt;dbl&gt;</th></tr>\n",
       "</thead>\n",
       "<tbody>\n",
       "\t<tr><td>4</td><td>2</td><td> 6</td><td>1</td><td>0</td><td>1</td><td>0</td></tr>\n",
       "\t<tr><td>3</td><td>3</td><td> 6</td><td>1</td><td>0</td><td>1</td><td>0</td></tr>\n",
       "\t<tr><td>4</td><td>1</td><td> 6</td><td>1</td><td>0</td><td>1</td><td>1</td></tr>\n",
       "\t<tr><td>3</td><td>4</td><td> 6</td><td>1</td><td>0</td><td>1</td><td>1</td></tr>\n",
       "\t<tr><td>3</td><td>3</td><td>22</td><td>1</td><td>0</td><td>1</td><td>0</td></tr>\n",
       "\t<tr><td>4</td><td>2</td><td> 6</td><td>0</td><td>0</td><td>0</td><td>0</td></tr>\n",
       "</tbody>\n",
       "</table>\n"
      ],
      "text/latex": [
       "A tibble: 6 x 7\n",
       "\\begin{tabular}{lllllll}\n",
       " education & ofjobs & yearsexp & computerskills & call & female & black\\\\\n",
       " <dbl> & <dbl> & <dbl> & <dbl> & <dbl> & <dbl> & <dbl>\\\\\n",
       "\\hline\n",
       "\t 4 & 2 &  6 & 1 & 0 & 1 & 0\\\\\n",
       "\t 3 & 3 &  6 & 1 & 0 & 1 & 0\\\\\n",
       "\t 4 & 1 &  6 & 1 & 0 & 1 & 1\\\\\n",
       "\t 3 & 4 &  6 & 1 & 0 & 1 & 1\\\\\n",
       "\t 3 & 3 & 22 & 1 & 0 & 1 & 0\\\\\n",
       "\t 4 & 2 &  6 & 0 & 0 & 0 & 0\\\\\n",
       "\\end{tabular}\n"
      ],
      "text/markdown": [
       "\n",
       "A tibble: 6 x 7\n",
       "\n",
       "| education &lt;dbl&gt; | ofjobs &lt;dbl&gt; | yearsexp &lt;dbl&gt; | computerskills &lt;dbl&gt; | call &lt;dbl&gt; | female &lt;dbl&gt; | black &lt;dbl&gt; |\n",
       "|---|---|---|---|---|---|---|\n",
       "| 4 | 2 |  6 | 1 | 0 | 1 | 0 |\n",
       "| 3 | 3 |  6 | 1 | 0 | 1 | 0 |\n",
       "| 4 | 1 |  6 | 1 | 0 | 1 | 1 |\n",
       "| 3 | 4 |  6 | 1 | 0 | 1 | 1 |\n",
       "| 3 | 3 | 22 | 1 | 0 | 1 | 0 |\n",
       "| 4 | 2 |  6 | 0 | 0 | 0 | 0 |\n",
       "\n"
      ],
      "text/plain": [
       "  education ofjobs yearsexp computerskills call female black\n",
       "1 4         2       6       1              0    1      0    \n",
       "2 3         3       6       1              0    1      0    \n",
       "3 4         1       6       1              0    1      1    \n",
       "4 3         4       6       1              0    1      1    \n",
       "5 3         3      22       1              0    1      0    \n",
       "6 4         2       6       0              0    0      0    "
      ]
     },
     "metadata": {},
     "output_type": "display_data"
    }
   ],
   "source": [
    "head(resumes)\n"
   ]
  },
  {
   "cell_type": "markdown",
   "metadata": {},
   "source": [
    "\n",
    "### Exercise 2\n",
    "\n",
    "`black` is the treatment variable in the data set (whether the resume has a Black-sounding name). `call` is the dependent variable of interest (did the employer call the fictitious applicant for an interview)\n",
    "\n",
    "In addition, the data include a number of variables to describe the other features in each fictitious resume, including applicants education level (`education`), years of experience (`yearsexp`), gender (`female`), computer skills (`computerskills`), and number of previous jobs (`ofjobs`). Each resume has a random selection of these attributes, so on average the Black-named fictitious applicant resumes have the same qualifications as the White-named applicant resumes. \n"
   ]
  },
  {
   "cell_type": "markdown",
   "metadata": {},
   "source": [
    "\n",
    "For this analysis, we will focus our attention on less educated job applicants. In this dataset, `education` is a categorical variable coded as follows:\n",
    "\n",
    "- 0: Education not reported\n",
    "- 1: High school dropout\n",
    "- 2: High school graduate\n",
    "- 3: Some college\n",
    "- 4: College graduate or higher\n",
    "\n",
    "Please subset your data to only include applications that did *not* report any college education."
   ]
  },
  {
   "cell_type": "code",
   "execution_count": 3,
   "metadata": {
    "vscode": {
     "languageId": "r"
    }
   },
   "outputs": [],
   "source": [
    "resumes <- resumes[resumes$education < 3, ]\n"
   ]
  },
  {
   "cell_type": "markdown",
   "metadata": {},
   "source": [
    "### Exercise 3\n",
    "\n",
    "Now that we have the dataset we are interested in analyzing, let's begin by running a normal linear regression. If you aren't familiar with R, this can be accomplished with the `lm()` function (\"lm\" for \"linear model\"). To regress whether an applicant got a call back on whether their resume had a Black-sounding name, whether they were female, and the number of past jobs listed, you would run code that looks something like:\n",
    "\n",
    "```r\n",
    "lm(\"call ~ black + female + ofjobs\", resumes)\n",
    "```\n",
    "\n",
    "where you may replace `resumes` with whatever you've been calling your dataframe.\n",
    "\n",
    "What is the coefficient on having a Black sounding name, and what is the associated standard error?\n",
    "\n",
    "(You may have to call `summary()` on the result of `lm()` to see the standard error. I recommend assigning the result of `lm()` to a new variable, then calling `summary()` on that new variable)."
   ]
  },
  {
   "cell_type": "code",
   "execution_count": 4,
   "metadata": {
    "vscode": {
     "languageId": "r"
    }
   },
   "outputs": [
    {
     "data": {
      "text/plain": [
       "\n",
       "Call:\n",
       "lm(formula = \"call ~ black + female + ofjobs\", data = resumes)\n",
       "\n",
       "Residuals:\n",
       "     Min       1Q   Median       3Q      Max \n",
       "-0.21571 -0.11002 -0.07333 -0.05114  0.96770 \n",
       "\n",
       "Coefficients:\n",
       "            Estimate Std. Error t value Pr(>|t|)  \n",
       "(Intercept)  0.01881    0.05165   0.364   0.7159  \n",
       "black       -0.01884    0.02942  -0.641   0.5223  \n",
       "female      -0.04104    0.03222  -1.274   0.2036  \n",
       "ofjobs       0.03668    0.01481   2.477   0.0137 *\n",
       "---\n",
       "Signif. codes:  0 '***' 0.001 '**' 0.01 '*' 0.05 '.' 0.1 ' ' 1\n",
       "\n",
       "Residual standard error: 0.279 on 356 degrees of freedom\n",
       "Multiple R-squared:  0.0216,\tAdjusted R-squared:  0.01335 \n",
       "F-statistic: 2.619 on 3 and 356 DF,  p-value: 0.05071\n"
      ]
     },
     "metadata": {},
     "output_type": "display_data"
    }
   ],
   "source": [
    "summary(lm(\"call ~ black + female + ofjobs\", resumes))\n"
   ]
  },
  {
   "cell_type": "markdown",
   "metadata": {},
   "source": [
    "## Step 2: Do A Single Bootstrap\n",
    "\n",
    "Because the idea of bootstrapping is to do something *over and over and over*, your mind is hopefully thinking \"I'm gonna use a loop!\" And you'd be right! But before we do that, let's try and write a little bit of code that does what we want to do over and over *once*. "
   ]
  },
  {
   "cell_type": "markdown",
   "metadata": {},
   "source": [
    "### Exercise 4\n",
    "\n",
    "The first step in bootstrapping is to re-sample our data with replacement. Use the `sample()` function to create a *new* data.frame that contains a random sample (with replacement) of the rows from the original data. \n",
    "\n",
    "You will probably need to check the documentation of `sample()`.\n",
    "\n",
    "*Hint:* Remember if you wanted to get rows 1, 1, 3, and 9 from an existing dataframe as the first four rows of a new dataframe, you could do it with `resumes[c(1, 1, 3, 9), ]`. You might want to think about how to build on that example using the output of `sample()`."
   ]
  },
  {
   "cell_type": "code",
   "execution_count": 5,
   "metadata": {
    "vscode": {
     "languageId": "r"
    }
   },
   "outputs": [],
   "source": [
    "bootstrapped_sample <- resumes[sample(1:nrow(resumes), replace = TRUE), ]\n"
   ]
  },
  {
   "cell_type": "markdown",
   "metadata": {},
   "source": [
    "### Exercise 5\n",
    "\n",
    "Verify that your new dataset has the same number of observations as your original dataset! (Always good to check your work)."
   ]
  },
  {
   "cell_type": "code",
   "execution_count": 6,
   "metadata": {
    "vscode": {
     "languageId": "r"
    }
   },
   "outputs": [],
   "source": [
    "stopifnot(nrow(bootstrapped_sample) == nrow(resumes))\n"
   ]
  },
  {
   "cell_type": "markdown",
   "metadata": {},
   "source": [
    "### Exercise 6\n",
    "\n",
    "Now re-run the regression you ran above using this bootstrapped sample. You should get a coefficient on `black` that is similar but distinct from the one you got before."
   ]
  },
  {
   "cell_type": "code",
   "execution_count": 7,
   "metadata": {
    "vscode": {
     "languageId": "r"
    }
   },
   "outputs": [
    {
     "data": {
      "text/plain": [
       "\n",
       "Call:\n",
       "lm(formula = \"call ~ black + female + ofjobs\", data = bootstrapped_sample)\n",
       "\n",
       "Residuals:\n",
       "     Min       1Q   Median       3Q      Max \n",
       "-0.12252 -0.08132 -0.07161 -0.05174  0.95482 \n",
       "\n",
       "Coefficients:\n",
       "             Estimate Std. Error t value Pr(>|t|)\n",
       "(Intercept)  0.010781   0.049639   0.217    0.828\n",
       "black       -0.006796   0.027423  -0.248    0.804\n",
       "female      -0.005830   0.029870  -0.195    0.845\n",
       "ofjobs       0.023514   0.014349   1.639    0.102\n",
       "\n",
       "Residual standard error: 0.2593 on 356 degrees of freedom\n",
       "Multiple R-squared:  0.007644,\tAdjusted R-squared:  -0.0007185 \n",
       "F-statistic: 0.9141 on 3 and 356 DF,  p-value: 0.4342\n"
      ]
     },
     "metadata": {},
     "output_type": "display_data"
    }
   ],
   "source": [
    "bootstrapped_model <- lm(\"call ~ black + female + ofjobs\", bootstrapped_sample)\n",
    "summary(bootstrapped_model)\n"
   ]
  },
  {
   "cell_type": "markdown",
   "metadata": {},
   "source": [
    "### Exercise 7\n",
    "\n",
    "Now the slightly tricky part. Because we're going to do this over and over, we need to find a way to \"save\" the coefficient on `black`, which means we need to figure out how to get just the coefficient on `black` out of the object we got back from `lm()`. \n",
    "\n",
    "Objects, like what you get back from `lm()` are kind of like lists, and you can see their contents with the `str()` command. So to see what's in the result of `lm()`, you can do something like:\n",
    "\n",
    "```r\n",
    "my_model <- str(lm(\"call ~ black + female + ofjobs\", resumes))\n",
    "str(my_model)\n",
    "```\n",
    "\n",
    "That output should tell you that `my_model` is basically just a list, and you can get entries out of a list with the `$` operator. So in this case, you can get the coefficients from a regression with `my_model$coeffients`.\n",
    "\n",
    "I will leave it to you to figure out how to get out JUST the coefficient on `black`."
   ]
  },
  {
   "cell_type": "code",
   "execution_count": 8,
   "metadata": {
    "vscode": {
     "languageId": "r"
    }
   },
   "outputs": [
    {
     "data": {
      "text/html": [
       "<style>\n",
       ".dl-inline {width: auto; margin:0; padding: 0}\n",
       ".dl-inline>dt, .dl-inline>dd {float: none; width: auto; display: inline-block}\n",
       ".dl-inline>dt::after {content: \":\\0020\"; padding-right: .5ex}\n",
       ".dl-inline>dt:not(:first-of-type) {padding-left: .5ex}\n",
       "</style><dl class=dl-inline><dt>(Intercept)</dt><dd>0.0107811909410132</dd><dt>black</dt><dd>-0.00679596949187841</dd><dt>female</dt><dd>-0.00583020737407646</dd><dt>ofjobs</dt><dd>0.0235136853067431</dd></dl>\n"
      ],
      "text/latex": [
       "\\begin{description*}\n",
       "\\item[(Intercept)] 0.0107811909410132\n",
       "\\item[black] -0.00679596949187841\n",
       "\\item[female] -0.00583020737407646\n",
       "\\item[ofjobs] 0.0235136853067431\n",
       "\\end{description*}\n"
      ],
      "text/markdown": [
       "(Intercept)\n",
       ":   0.0107811909410132black\n",
       ":   -0.00679596949187841female\n",
       ":   -0.00583020737407646ofjobs\n",
       ":   0.0235136853067431\n",
       "\n"
      ],
      "text/plain": [
       " (Intercept)        black       female       ofjobs \n",
       " 0.010781191 -0.006795969 -0.005830207  0.023513685 "
      ]
     },
     "metadata": {},
     "output_type": "display_data"
    }
   ],
   "source": [
    "coefs <- bootstrapped_model$coefficients\n",
    "coefs\n"
   ]
  },
  {
   "cell_type": "code",
   "execution_count": 9,
   "metadata": {
    "vscode": {
     "languageId": "r"
    }
   },
   "outputs": [
    {
     "data": {
      "text/html": [
       "<strong>black:</strong> -0.00679596949187841"
      ],
      "text/latex": [
       "\\textbf{black:} -0.00679596949187841"
      ],
      "text/markdown": [
       "**black:** -0.00679596949187841"
      ],
      "text/plain": [
       "       black \n",
       "-0.006795969 "
      ]
     },
     "metadata": {},
     "output_type": "display_data"
    }
   ],
   "source": [
    "coefs[2]\n"
   ]
  },
  {
   "cell_type": "markdown",
   "metadata": {},
   "source": [
    "### Exercise 8\n",
    "\n",
    "Now, if you've been doing all this one step at a time, you may have a bit of a mess in your .R file, so this is a good time to clean things up and leave some comments. At the top, you should have a block that reads in this data and subsets it for less educated applicants.\n",
    "\n",
    "Then you should have a section with the first regression you ran.\n",
    "\n",
    "Finally, you should have a section where you are building your bootstrap. It starts by re-sampling your data, running your regression using the new data, and extracting the coefficient on `black`. \n",
    "\n",
    "Take a minute to add some comments and clean up your file to reflect this organization."
   ]
  },
  {
   "cell_type": "markdown",
   "metadata": {},
   "source": [
    "## Step 3: Build the Loop\n",
    "\n",
    "Now it's time to build a loop! Initially, let's just write a loop that will run 5 times (it's easy to make that more later, but we don't want it to take a long time running while we're trouble shooting!) \n",
    "\n",
    "### Exercise 9\n",
    "\n",
    "First, write a loop that will run 5 times, increasing the value of a variable `i` each time. Don't put any of our bootstrap code in there yet — just add a `print(i)` statement so you can see that it's running five times and incrementing `i`."
   ]
  },
  {
   "cell_type": "markdown",
   "metadata": {},
   "source": [
    "### Exercise 10\n",
    "\n",
    "Now put the bootstrap code inside the loop. Now when you run this code, you should see five regressions being run, each a little different. You can add a print statement if needed (e.g., `print(bootstrapped_black_coef)`) to ensure you can see what's happening."
   ]
  },
  {
   "cell_type": "markdown",
   "metadata": {},
   "source": [
    "### Exercise 11\n",
    "\n",
    "To make the bootstrap work, we'll need to store the value of our coefficient each time the loop runs. So *above* the loop, create a vector that's 5 entries long (e.g., `bootstrap_coefficients <- zeros(5)`).\n",
    "\n",
    "Then, each time the loop goes around, store the value of the coefficient on `black` in the vector. Put the first estimate in the first spot, the second in the second, etc. \n",
    "\n",
    "Hint: you'll want to use that `i` variable we created above.\n",
    "\n",
    "When you're done, the vector you created (I called it `bootstrap_coefficients` above) should have no entries that are the `0`s that were there when it was created, and instead all five entries should contain different estimates of the coefficient on `black`."
   ]
  },
  {
   "cell_type": "markdown",
   "metadata": {},
   "source": [
    "## Step 4: Scale It Up\n",
    "\n",
    "OK, we have it working, let's go big!\n",
    "\n",
    "### Exercise 12\n",
    "\n",
    "We're going to do our bootstrap 500 times, so make the vector in which you are storing coefficients bigger (`zeros(500)`) and set your loop to run 500 times. Then let 'er rip!"
   ]
  },
  {
   "cell_type": "markdown",
   "metadata": {},
   "source": [
    "### Exercise 13\n",
    "\n",
    "Great! Now let's get that final estimate we wanted. Using `mean()` and `sd()`, get the mean and standard deviation of your vector of coefficient estimates. How do they compare to the original estimate and standard error you got straight from the `lm()` command?"
   ]
  },
  {
   "cell_type": "markdown",
   "metadata": {},
   "source": [
    "## (Extra Credit) Step 5: Generalize It\n",
    "\n",
    "Want more practice? Here are three things to do:\n",
    "\n",
    "### Extra Credit 1: Generalize The Coefficient Storage\n",
    "\n",
    "Rather than just storing the coefficient on `black`, store *all* the coefficients on each pass. Hint: to do this, you won't be able to store the results in a vector any more...\n",
    "\n",
    "### Extra Credit 2: Put It In A Function\n",
    "\n",
    "Take the code that runs your regression and extracts the coefficients and put it in a stand-alone function. This is a little gratuitous — it's not that complicated a piece of code — but it's fun practice for writing functions!\n",
    "\n",
    "### Extra Credit 3: Generalize The Function\n",
    "\n",
    "Take that function and parameterize it so that users can specify a list of coefficients to save.\n",
    "\n",
    "### Extra Credit 4: Generalize It Even More\n",
    "\n",
    "Pull this all together by wrapping all this up in a bootstrap regression function that takes:\n",
    "\n",
    "- a regression specification (as a string), \n",
    "- a dataset, \n",
    "- a number of iterations, and \n",
    "- a list of coefficients to retain\n",
    "\n",
    "And returns the point estimate and standard errors for those coefficients!\n"
   ]
  }
 ],
 "metadata": {
  "kernelspec": {
   "display_name": "R",
   "language": "R",
   "name": "ir"
  },
  "language_info": {
   "codemirror_mode": "r",
   "file_extension": ".r",
   "mimetype": "text/x-r-source",
   "name": "R",
   "pygments_lexer": "r",
   "version": "4.3.1"
  }
 },
 "nbformat": 4,
 "nbformat_minor": 2
}
