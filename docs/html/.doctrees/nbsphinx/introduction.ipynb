{
 "cells": [
  {
   "cell_type": "markdown",
   "metadata": {},
   "source": [
    "# Introduction\n",
    "\n",
    "In this first in a number of tutorials, we'll cover the very basics of R. If you've programmed before you can skip much of this. But regardless of your background, we hope you'll find this and subsequent tutorials useful for learning R's many tools for graphing, statistical analysis, and data collection and management --- or what we collectively might call \"data science.\" \n"
   ]
  },
  {
   "cell_type": "markdown",
   "metadata": {},
   "source": [
    "## Installing R\n",
    "\n",
    "First, download R *free* [here](https://cloud.r-project.org/)!\n",
    "\n",
    "After you've downloaded R itself, you will probably want to also download a program called [RStudio](https://www.rstudio.com/) (installation instructions [here](https://www.rstudio.com/products/rstudio/download/); note that you need to already have R to use RStudio). RStudio is a little \"helper\" program that makes it a little easier to write code for R (it is what is referred to as an \"integrated development environment\" (IDE)). There are also a lot of other IDEs, but RStudio is the easiest and one of the most popular. \n",
    "\n",
    "For an installation tutorial and introduction to R functionality, please [go watch this video](https://www.youtube.com/watch?v=ulIv0NiVTs4)."
   ]
  },
  {
   "cell_type": "markdown",
   "metadata": {},
   "source": [
    "## Code Examples On This Site\n",
    "\n",
    "On this website, you'll find that code examples don't look quite like they do when you're typing in R yourself. Instead, you'll see code appear in grey blocks with a number on the left side. Below these blocks, you will see the output R has returned after running that code. For example, here's that same `\"Hello!\"` line in the style used on this site:"
   ]
  },
  {
   "cell_type": "code",
   "execution_count": 1,
   "metadata": {},
   "outputs": [
    {
     "data": {
      "text/html": [
       "'Hello!'"
      ],
      "text/latex": [
       "'Hello!'"
      ],
      "text/markdown": [
       "'Hello!'"
      ],
      "text/plain": [
       "[1] \"Hello!\""
      ]
     },
     "metadata": {},
     "output_type": "display_data"
    }
   ],
   "source": [
    "\"Hello!\""
   ]
  },
  {
   "cell_type": "markdown",
   "metadata": {},
   "source": [
    "In addition, some code will include \"comments\". Comments are notes placed in someone's code to explain what's going on to other programmers. Comments always start with a `#` in R, which tells R that the text that follows is not something it should try and execute. Comments will always appear in italics and in yellow. "
   ]
  },
  {
   "cell_type": "code",
   "execution_count": 2,
   "metadata": {},
   "outputs": [
    {
     "data": {
      "text/html": [
       "5"
      ],
      "text/latex": [
       "5"
      ],
      "text/markdown": [
       "5"
      ],
      "text/plain": [
       "[1] 5"
      ]
     },
     "metadata": {},
     "output_type": "display_data"
    }
   ],
   "source": [
    "# This is a comment. In the next line, I'll add 2 and 3.\n",
    "2 + 3"
   ]
  },
  {
   "cell_type": "markdown",
   "metadata": {},
   "source": [
    "## Basic Math in R\n",
    "\n",
    "Now that we've learned how to pass commands to R, we can start asking R to do things for us. For example, R can do all the normal math operations you are familiar with:"
   ]
  },
  {
   "cell_type": "code",
   "execution_count": 3,
   "metadata": {},
   "outputs": [
    {
     "data": {
      "text/html": [
       "4"
      ],
      "text/latex": [
       "4"
      ],
      "text/markdown": [
       "4"
      ],
      "text/plain": [
       "[1] 4"
      ]
     },
     "metadata": {},
     "output_type": "display_data"
    }
   ],
   "source": [
    "# Addition\n",
    "2 + 2"
   ]
  },
  {
   "cell_type": "code",
   "execution_count": 4,
   "metadata": {},
   "outputs": [
    {
     "data": {
      "text/html": [
       "6"
      ],
      "text/latex": [
       "6"
      ],
      "text/markdown": [
       "6"
      ],
      "text/plain": [
       "[1] 6"
      ]
     },
     "metadata": {},
     "output_type": "display_data"
    }
   ],
   "source": [
    "# Multiplication\n",
    "2 * 3"
   ]
  },
  {
   "cell_type": "code",
   "execution_count": 5,
   "metadata": {},
   "outputs": [
    {
     "data": {
      "text/html": [
       "2"
      ],
      "text/latex": [
       "2"
      ],
      "text/markdown": [
       "2"
      ],
      "text/plain": [
       "[1] 2"
      ]
     },
     "metadata": {},
     "output_type": "display_data"
    }
   ],
   "source": [
    "# Division\n",
    "4 / 2"
   ]
  },
  {
   "cell_type": "code",
   "execution_count": 6,
   "metadata": {},
   "outputs": [
    {
     "data": {
      "text/html": [
       "8"
      ],
      "text/latex": [
       "8"
      ],
      "text/markdown": [
       "8"
      ],
      "text/plain": [
       "[1] 8"
      ]
     },
     "metadata": {},
     "output_type": "display_data"
    }
   ],
   "source": [
    "# And even exponentiation (e.g. 2 raised to the third power)\n",
    "2 ^ 3"
   ]
  },
  {
   "cell_type": "code",
   "execution_count": 1,
   "metadata": {},
   "outputs": [
    {
     "data": {
      "text/html": [
       "TRUE"
      ],
      "text/latex": [
       "TRUE"
      ],
      "text/markdown": [
       "TRUE"
      ],
      "text/plain": [
       "[1] TRUE"
      ]
     },
     "metadata": {},
     "output_type": "display_data"
    }
   ],
   "source": [
    "# R can also do logical comparisons\n",
    "5 < 7"
   ]
  },
  {
   "cell_type": "code",
   "execution_count": 2,
   "metadata": {},
   "outputs": [
    {
     "data": {
      "text/html": [
       "FALSE"
      ],
      "text/latex": [
       "FALSE"
      ],
      "text/markdown": [
       "FALSE"
      ],
      "text/plain": [
       "[1] FALSE"
      ]
     },
     "metadata": {},
     "output_type": "display_data"
    }
   ],
   "source": [
    "3 >= 5"
   ]
  },
  {
   "cell_type": "markdown",
   "metadata": {},
   "source": [
    "## Variables\n",
    "\n",
    "Congratulations! You now know how to do math in R!\n",
    "\n",
    "If we want to do more than use R as a calculator, though, we need to be able to not only do math problems, but also store the results of our calculations so we can reuse them in the future, or combine the results of lots of different calculations. In the examples above, R did the math we asked it to do, and printed out the results, but it didn't keep a copy of those results anywhere.\n",
    "\n",
    "In order to store the *value* of our calculations, we need to *assign them to a variable*. OK, but what does that actually mean?\n",
    "\n",
    "If you’d done any programming before, you probably have an implicit notion of a variable and assignment, but in this course we’d like to provide you with an explicit metaphor we’ll keep coming back to: **a variable is a box that holds a value**. So when we assign the value of 5 to the variable `a`, we’re really saying \"put 5 in the box `a`.\"\n",
    "\n",
    "\n"
   ]
  },
  {
   "cell_type": "markdown",
   "metadata": {},
   "source": [
    "[TO DO: FILL IN WITH PICTURES OF BOXES WILL VALUES CORRESPONDING TO EACH STEP IN CODE]\n",
    "\n",
    "```r\n",
    "a = 42\n",
    "b = 47\n",
    "c = b - a\n",
    "a = 2\n",
    "```\n",
    "\n"
   ]
  },
  {
   "cell_type": "markdown",
   "metadata": {},
   "source": [
    "Note there's something a little weird about the order in which things happen here: when we assign something to a variable by writing `variable_name = [some expression]`, **R evaluates the expression on the right first, then assigns the results of that expression to the variable on the left hand side.**\n"
   ]
  },
  {
   "cell_type": "markdown",
   "metadata": {},
   "source": [
    "<div class=\"alert alert-info\">\n",
    "    \n",
    "<b>NOTE:</b> There are actually <b>two</b> ways to assign a value to a variable name in R. They work exactly the same, so you can use whichever you want. The first is with a single equal sign (`=`), and the other is with the two symbols that make an arrow (`<-`). So the following two commands are exactly the same:\n",
    "\n",
    "</div>"
   ]
  },
  {
   "cell_type": "code",
   "execution_count": 14,
   "metadata": {},
   "outputs": [],
   "source": [
    "x = 72\n",
    "x <- 72"
   ]
  },
  {
   "cell_type": "markdown",
   "metadata": {},
   "source": [
    "### Variable Exercises\n",
    "\n",
    "OK, this is a great time to pause and try a few exercises for yourself. \n",
    "\n",
    "Let's suppose that you have a dinosaur zoo. In your zoo, you have two [T-Rexes](https://upload.wikimedia.org/wikipedia/commons/thumb/6/64/Tyrannosaurus_Rex_Dinosaurierland_Ruegen_2009.jpg/240px-Tyrannosaurus_Rex_Dinosaurierland_Ruegen_2009.jpg), three [Unaysaurus](http://images.dinosaurpictures.org/unaysaurusJB_57a6.jpg), and five [Spinosaurus](https://upload.wikimedia.org/wikipedia/commons/thumb/f/f4/Spinosaurus_-_Museu_Blau_-_2016_-_01.jpg/1024px-Spinosaurus_-_Museu_Blau_-_2016_-_01.jpg)\n",
    "\n",
    "1. Create variables for the number of each dino you have called `my_trexes`, `my_unas`, and `my_spinos`. \n",
    "2. Now use those variables to calculate how many total dinosaurs you have.\n",
    "3. Oh no! One of your t-rexes got out and ate an Unaysaurus. Decrease the value of `my_unas` by one. \n",
    "4. Double oh no! Your T-Rexes were male and female, and they just had a baby! Increase you number T-Rexes by one!\n",
    "5. Sadly, one of your Spinosauruses died of old age. :( Decreases your count of Spinosauruses by one. \n",
    "6. How many dinos do you have now? You've probably lost count of all these changes, but thankfully they're all stored in variables, so you can just add them all up!"
   ]
  },
  {
   "cell_type": "markdown",
   "metadata": {},
   "source": [
    "Answers to exercises can be found [here](answers.ipynb#Answers-for-Variables-Tutorial), but only go to that page if you get REALLY stuck! The best way to learn to program is to try things out and see what works, so don't deny yourself the learning opportunity that process provides but looking at answers too quickly!"
   ]
  }
 ],
 "metadata": {
  "kernelspec": {
   "display_name": "R",
   "language": "R",
   "name": "ir"
  },
  "language_info": {
   "codemirror_mode": "r",
   "file_extension": ".r",
   "mimetype": "text/x-r-source",
   "name": "R",
   "pygments_lexer": "r",
   "version": "4.1.0"
  }
 },
 "nbformat": 4,
 "nbformat_minor": 2
}
