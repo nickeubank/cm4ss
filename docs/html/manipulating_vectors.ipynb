{
 "cells": [
  {
   "cell_type": "markdown",
   "id": "aeb9b987",
   "metadata": {},
   "source": [
    "# Manipulating Vectors"
   ]
  },
  {
   "cell_type": "markdown",
   "id": "2f14d9a0",
   "metadata": {},
   "source": [
    "In our last reading, we learned what vectors were, and how to do operations on entire vectors. But often times we want to work with *subsets* of a vector. Indeed, extracting a subset of elements from a vector is an extremely important task, not least because it generalizes nicely to datasets (which are at the heart of data science). This process --- whether applied to a vector or a dataset --- is often referred to as \"taking a subset,\" \"subsetting,\" \"querying,\" or \"filtering\". If there is one skill you need to master as quickly as possible, it's this.\n",
    "\n",
    "Subsetting can be accomplished in three ways: \n",
    "\n",
    "- By index\n",
    "- By logical vectors (remember I said logicals would be important? :))\n",
    "- By name"
   ]
  },
  {
   "cell_type": "markdown",
   "id": "bae06ea9",
   "metadata": {},
   "source": [
    "## What is Subsetting?\n",
    "\n",
    "As you've probably already realized, vectors don't just contain a jumble of data -- they also have a concept of \"order\". When I create a vector with `c(42, 47, -1)`, I have in mind that 42 is the first entry, 47 is the second, and -1 is the third. And we can use that concept of order to subset vectors by passing the index (order number) of an entry we want to our vector in square brackets. For example, consider the following vector:"
   ]
  },
  {
   "cell_type": "code",
   "execution_count": 1,
   "id": "dda3f3b5",
   "metadata": {
    "vscode": {
     "languageId": "r"
    }
   },
   "outputs": [
    {
     "data": {
      "text/html": [
       "<style>\n",
       ".list-inline {list-style: none; margin:0; padding: 0}\n",
       ".list-inline>li {display: inline-block}\n",
       ".list-inline>li:not(:last-child)::after {content: \"\\00b7\"; padding: 0 .5ex}\n",
       "</style>\n",
       "<ol class=list-inline><li>42</li><li>47</li><li>-1</li></ol>\n"
      ],
      "text/latex": [
       "\\begin{enumerate*}\n",
       "\\item 42\n",
       "\\item 47\n",
       "\\item -1\n",
       "\\end{enumerate*}\n"
      ],
      "text/markdown": [
       "1. 42\n",
       "2. 47\n",
       "3. -1\n",
       "\n",
       "\n"
      ],
      "text/plain": [
       "[1] 42 47 -1"
      ]
     },
     "metadata": {},
     "output_type": "display_data"
    }
   ],
   "source": [
    "a <- c(42, 47, -1)\n",
    "a\n"
   ]
  },
  {
   "cell_type": "markdown",
   "id": "04ee5310",
   "metadata": {},
   "source": [
    "If I wanted to pull out the second entry in that vector, I could do so with *array indexing* using square brackets (`[]`):"
   ]
  },
  {
   "cell_type": "code",
   "execution_count": 2,
   "id": "1c0db463",
   "metadata": {
    "vscode": {
     "languageId": "r"
    }
   },
   "outputs": [
    {
     "data": {
      "text/html": [
       "47"
      ],
      "text/latex": [
       "47"
      ],
      "text/markdown": [
       "47"
      ],
      "text/plain": [
       "[1] 47"
      ]
     },
     "metadata": {},
     "output_type": "display_data"
    }
   ],
   "source": [
    "a[2]\n"
   ]
  },
  {
   "cell_type": "markdown",
   "id": "f0d7048e",
   "metadata": {},
   "source": [
    "And of course, if I wanted to assign that second entry to a new variable, I could!"
   ]
  },
  {
   "cell_type": "code",
   "execution_count": 3,
   "id": "1b655510",
   "metadata": {
    "vscode": {
     "languageId": "r"
    }
   },
   "outputs": [
    {
     "data": {
      "text/html": [
       "47"
      ],
      "text/latex": [
       "47"
      ],
      "text/markdown": [
       "47"
      ],
      "text/plain": [
       "[1] 47"
      ]
     },
     "metadata": {},
     "output_type": "display_data"
    }
   ],
   "source": [
    "new <- a[2]\n",
    "new\n"
   ]
  },
  {
   "cell_type": "markdown",
   "id": "d06edce9",
   "metadata": {},
   "source": [
    "But what, exactly, is happening when I subset? Let's return to the idea that a variable is just a box holding some data, and walk-through the following block of code:"
   ]
  },
  {
   "cell_type": "markdown",
   "id": "8673e06c",
   "metadata": {},
   "source": [
    "```r\n",
    "a <- c(42, 47, -1)\n",
    "new <- a[2]\n",
    "```"
   ]
  },
  {
   "cell_type": "markdown",
   "id": "7f9087f9",
   "metadata": {},
   "source": [
    "In the first line of code, we create a new vector with three entries and assign it to the variable `a`. Just as in our previous reading, we can think of the variable `a` as a box that is holding this new vector.\n",
    "\n",
    "![vector_subsetting1](images/vector_subsetting1.png)\n",
    "\n",
    "In the second line, the first thing that happens is R evaluates the expression on the right side of the assignment operator: `a[2]`. The use of `a` and square brackets indicates to R that we're not trying to access a portion of the data stored in the box labelled `a`. In particular, by putting a `2` between the square brackets, we're telling R we want the second item in the box `a`: `47`. \n",
    "\n",
    "![vector_subsetting2](images/vector_subsetting2.png)\n",
    "\n",
    "Then when we assign that value -- 47 -- to `new`, we create a new variable, and insert our data into that box:\n",
    "\n",
    "![vector_subsetting3](images/vector_subsetting3.png)"
   ]
  },
  {
   "cell_type": "markdown",
   "id": "c0b3d13e",
   "metadata": {},
   "source": [
    "This `variable[]` notation is something we'll use a *lot* in R, and it will always mean the same thing: we're trying to access some data in the data stored in the box `variable`."
   ]
  },
  {
   "cell_type": "markdown",
   "id": "2c101726",
   "metadata": {},
   "source": [
    "## Subsetting By Index\n",
    "\n"
   ]
  },
  {
   "cell_type": "markdown",
   "id": "0e34be72",
   "metadata": {},
   "source": [
    "What we just did is an example of subsetting by index, where we just specify the location (index) of the data we want:"
   ]
  },
  {
   "cell_type": "code",
   "execution_count": 4,
   "id": "771606b5",
   "metadata": {
    "vscode": {
     "languageId": "r"
    }
   },
   "outputs": [
    {
     "data": {
      "text/html": [
       "47"
      ],
      "text/latex": [
       "47"
      ],
      "text/markdown": [
       "47"
      ],
      "text/plain": [
       "[1] 47"
      ]
     },
     "metadata": {},
     "output_type": "display_data"
    }
   ],
   "source": [
    "a <- c(42, 47, -1)\n",
    "a[2]\n"
   ]
  },
  {
   "cell_type": "markdown",
   "id": "3fbb61bd",
   "metadata": {},
   "source": [
    "But of course, because everything in R is a vector, if I can pass a single index, then I can pass any other numeric vector of indices, either directly:"
   ]
  },
  {
   "cell_type": "code",
   "execution_count": 5,
   "id": "8404cb32",
   "metadata": {
    "vscode": {
     "languageId": "r"
    }
   },
   "outputs": [
    {
     "data": {
      "text/html": [
       "<style>\n",
       ".list-inline {list-style: none; margin:0; padding: 0}\n",
       ".list-inline>li {display: inline-block}\n",
       ".list-inline>li:not(:last-child)::after {content: \"\\00b7\"; padding: 0 .5ex}\n",
       "</style>\n",
       "<ol class=list-inline><li>42</li><li>-1</li></ol>\n"
      ],
      "text/latex": [
       "\\begin{enumerate*}\n",
       "\\item 42\n",
       "\\item -1\n",
       "\\end{enumerate*}\n"
      ],
      "text/markdown": [
       "1. 42\n",
       "2. -1\n",
       "\n",
       "\n"
      ],
      "text/plain": [
       "[1] 42 -1"
      ]
     },
     "metadata": {},
     "output_type": "display_data"
    }
   ],
   "source": [
    "a[c(1, 3)]\n"
   ]
  },
  {
   "cell_type": "markdown",
   "id": "5117fd17",
   "metadata": {},
   "source": [
    "Or as a variable:"
   ]
  },
  {
   "cell_type": "code",
   "execution_count": 6,
   "id": "6aa8c628",
   "metadata": {
    "vscode": {
     "languageId": "r"
    }
   },
   "outputs": [
    {
     "data": {
      "text/html": [
       "<style>\n",
       ".list-inline {list-style: none; margin:0; padding: 0}\n",
       ".list-inline>li {display: inline-block}\n",
       ".list-inline>li:not(:last-child)::after {content: \"\\00b7\"; padding: 0 .5ex}\n",
       "</style>\n",
       "<ol class=list-inline><li>42</li><li>-1</li></ol>\n"
      ],
      "text/latex": [
       "\\begin{enumerate*}\n",
       "\\item 42\n",
       "\\item -1\n",
       "\\end{enumerate*}\n"
      ],
      "text/markdown": [
       "1. 42\n",
       "2. -1\n",
       "\n",
       "\n"
      ],
      "text/plain": [
       "[1] 42 -1"
      ]
     },
     "metadata": {},
     "output_type": "display_data"
    }
   ],
   "source": [
    "subset <- c(1, 3)\n",
    "a[subset]\n"
   ]
  },
  {
   "cell_type": "markdown",
   "id": "6ea1119f",
   "metadata": {},
   "source": [
    "Also, you don't have to subset entries in order! If you pass indices out of order, you'll get a vector with a new order!"
   ]
  },
  {
   "cell_type": "code",
   "execution_count": 7,
   "id": "f7c957a3",
   "metadata": {
    "vscode": {
     "languageId": "r"
    }
   },
   "outputs": [
    {
     "data": {
      "text/html": [
       "<style>\n",
       ".list-inline {list-style: none; margin:0; padding: 0}\n",
       ".list-inline>li {display: inline-block}\n",
       ".list-inline>li:not(:last-child)::after {content: \"\\00b7\"; padding: 0 .5ex}\n",
       "</style>\n",
       "<ol class=list-inline><li>-1</li><li>42</li></ol>\n"
      ],
      "text/latex": [
       "\\begin{enumerate*}\n",
       "\\item -1\n",
       "\\item 42\n",
       "\\end{enumerate*}\n"
      ],
      "text/markdown": [
       "1. -1\n",
       "2. 42\n",
       "\n",
       "\n"
      ],
      "text/plain": [
       "[1] -1 42"
      ]
     },
     "metadata": {},
     "output_type": "display_data"
    }
   ],
   "source": [
    "a[c(3, 1)]\n"
   ]
  },
  {
   "cell_type": "markdown",
   "id": "611ae963",
   "metadata": {},
   "source": [
    "Again, this is all working the same was as our example with just one entry -- R interprets the square brackets as a request for some data in the box `a`, and if we pass multiple indices, it just grabs multiple items from that box. "
   ]
  },
  {
   "cell_type": "markdown",
   "id": "f7359662",
   "metadata": {},
   "source": [
    "## Subsetting with Logicals"
   ]
  },
  {
   "cell_type": "markdown",
   "id": "359c49e5",
   "metadata": {},
   "source": [
    "Subsetting with logicals is a little hard to explain, so instead let's jump right into an example. \n",
    "\n",
    "Suppose we have a character vector with only two elements (\"apple\" and \"banana\"). Subsetting it to \"apple\" could be done by passing a logical vector as follows:"
   ]
  },
  {
   "cell_type": "code",
   "execution_count": 8,
   "id": "655de204",
   "metadata": {
    "vscode": {
     "languageId": "r"
    }
   },
   "outputs": [
    {
     "data": {
      "text/html": [
       "'apple'"
      ],
      "text/latex": [
       "'apple'"
      ],
      "text/markdown": [
       "'apple'"
      ],
      "text/plain": [
       "[1] \"apple\""
      ]
     },
     "metadata": {},
     "output_type": "display_data"
    }
   ],
   "source": [
    "fruits <- c(\"apple\", \"banana\")\n",
    "fruits[c(TRUE, FALSE)]\n"
   ]
  },
  {
   "cell_type": "markdown",
   "id": "6f078053",
   "metadata": {},
   "source": [
    "Within these brackets is a vector with the same number of logical elements as there are elements in the vector you want to subset. Elements across the two vectors are matched by order: elements that match with `TRUE` are kept while elements that match with `FALSE` are dropped.\n",
    "\n",
    "Visualized with the same tools we used before, we can draw out what's happening in this block of code:"
   ]
  },
  {
   "cell_type": "code",
   "execution_count": 9,
   "id": "180b8e6e",
   "metadata": {
    "vscode": {
     "languageId": "r"
    }
   },
   "outputs": [
    {
     "data": {
      "text/html": [
       "<style>\n",
       ".list-inline {list-style: none; margin:0; padding: 0}\n",
       ".list-inline>li {display: inline-block}\n",
       ".list-inline>li:not(:last-child)::after {content: \"\\00b7\"; padding: 0 .5ex}\n",
       "</style>\n",
       "<ol class=list-inline><li>42</li><li>-1</li></ol>\n"
      ],
      "text/latex": [
       "\\begin{enumerate*}\n",
       "\\item 42\n",
       "\\item -1\n",
       "\\end{enumerate*}\n"
      ],
      "text/markdown": [
       "1. 42\n",
       "2. -1\n",
       "\n",
       "\n"
      ],
      "text/plain": [
       "[1] 42 -1"
      ]
     },
     "metadata": {},
     "output_type": "display_data"
    }
   ],
   "source": [
    "a <- c(42, 47, -1)\n",
    "my_subset <- c(TRUE, FALSE, TRUE)\n",
    "b <- a[my_subset]\n",
    "b\n"
   ]
  },
  {
   "cell_type": "markdown",
   "id": "a266e649",
   "metadata": {},
   "source": [
    "First we create `a`:\n",
    "\n",
    "![logical_subset_1](images/logical_subset_1.png)\n",
    "\n",
    "Then we create `my_subset`:\n",
    "\n",
    "![logical_subset_2](images/logical_subset_2.png)\n",
    "\n",
    "Then the magic: R lines up the entries in the data in the box labelled `a` and the data in the box labelled `my_subset`, and keeps any entries from `a` that line up with values of `my_subset` that are `TRUE`. \n",
    "\n",
    "Then it assigns the values in `a` that line up with `TRUE`s in `my_subset` to a new variable `b`:\n",
    "\n",
    "![logical_subset_3](images/logical_subset_3.png)"
   ]
  },
  {
   "cell_type": "markdown",
   "id": "7b018d86",
   "metadata": {},
   "source": [
    "### Logical Operations"
   ]
  },
  {
   "cell_type": "markdown",
   "id": "31d90e27",
   "metadata": {},
   "source": [
    "\n",
    "\n",
    "This process is extremely useful when combined with a *logical operation* to combine multiple conditions. For example, you can use:\n",
    "\n",
    "- the logical \"and\" (written `&` in R) to say \"only be true if both conditions are true\", \n",
    "- the logical \"or\" (written `|`) to say \"be true if at least one of these conditions is true\", \n",
    "- the logical \"equals\" (written `==`) to say \"be true if values are equal\",\n",
    "- the logical \"not equals (written `!=`) to say \"be true if values are not equal\", or\n",
    "- the logical \"not\" (written `!`) to say \"make everything the opposite of what it is now\".\n",
    "\n",
    "For example, using a logical operation we can filter a large vector of oranges, apples and bananas:"
   ]
  },
  {
   "cell_type": "code",
   "execution_count": 10,
   "id": "84e1841e",
   "metadata": {
    "vscode": {
     "languageId": "r"
    }
   },
   "outputs": [
    {
     "data": {
      "text/html": [
       "<style>\n",
       ".list-inline {list-style: none; margin:0; padding: 0}\n",
       ".list-inline>li {display: inline-block}\n",
       ".list-inline>li:not(:last-child)::after {content: \"\\00b7\"; padding: 0 .5ex}\n",
       "</style>\n",
       "<ol class=list-inline><li>'orange'</li><li>'apple'</li><li>'banana'</li><li>'orange'</li><li>'apple'</li><li>'banana'</li><li>'orange'</li><li>'apple'</li><li>'banana'</li><li>'orange'</li><li>'apple'</li><li>'banana'</li><li>'orange'</li><li>'apple'</li><li>'banana'</li><li>'orange'</li><li>'apple'</li><li>'banana'</li><li>'orange'</li><li>'apple'</li><li>'banana'</li><li>'orange'</li><li>'apple'</li><li>'banana'</li><li>'orange'</li><li>'apple'</li><li>'banana'</li><li>'orange'</li><li>'apple'</li><li>'banana'</li></ol>\n"
      ],
      "text/latex": [
       "\\begin{enumerate*}\n",
       "\\item 'orange'\n",
       "\\item 'apple'\n",
       "\\item 'banana'\n",
       "\\item 'orange'\n",
       "\\item 'apple'\n",
       "\\item 'banana'\n",
       "\\item 'orange'\n",
       "\\item 'apple'\n",
       "\\item 'banana'\n",
       "\\item 'orange'\n",
       "\\item 'apple'\n",
       "\\item 'banana'\n",
       "\\item 'orange'\n",
       "\\item 'apple'\n",
       "\\item 'banana'\n",
       "\\item 'orange'\n",
       "\\item 'apple'\n",
       "\\item 'banana'\n",
       "\\item 'orange'\n",
       "\\item 'apple'\n",
       "\\item 'banana'\n",
       "\\item 'orange'\n",
       "\\item 'apple'\n",
       "\\item 'banana'\n",
       "\\item 'orange'\n",
       "\\item 'apple'\n",
       "\\item 'banana'\n",
       "\\item 'orange'\n",
       "\\item 'apple'\n",
       "\\item 'banana'\n",
       "\\end{enumerate*}\n"
      ],
      "text/markdown": [
       "1. 'orange'\n",
       "2. 'apple'\n",
       "3. 'banana'\n",
       "4. 'orange'\n",
       "5. 'apple'\n",
       "6. 'banana'\n",
       "7. 'orange'\n",
       "8. 'apple'\n",
       "9. 'banana'\n",
       "10. 'orange'\n",
       "11. 'apple'\n",
       "12. 'banana'\n",
       "13. 'orange'\n",
       "14. 'apple'\n",
       "15. 'banana'\n",
       "16. 'orange'\n",
       "17. 'apple'\n",
       "18. 'banana'\n",
       "19. 'orange'\n",
       "20. 'apple'\n",
       "21. 'banana'\n",
       "22. 'orange'\n",
       "23. 'apple'\n",
       "24. 'banana'\n",
       "25. 'orange'\n",
       "26. 'apple'\n",
       "27. 'banana'\n",
       "28. 'orange'\n",
       "29. 'apple'\n",
       "30. 'banana'\n",
       "\n",
       "\n"
      ],
      "text/plain": [
       " [1] \"orange\" \"apple\"  \"banana\" \"orange\" \"apple\"  \"banana\" \"orange\" \"apple\" \n",
       " [9] \"banana\" \"orange\" \"apple\"  \"banana\" \"orange\" \"apple\"  \"banana\" \"orange\"\n",
       "[17] \"apple\"  \"banana\" \"orange\" \"apple\"  \"banana\" \"orange\" \"apple\"  \"banana\"\n",
       "[25] \"orange\" \"apple\"  \"banana\" \"orange\" \"apple\"  \"banana\""
      ]
     },
     "metadata": {},
     "output_type": "display_data"
    }
   ],
   "source": [
    "# Create a vector with 30 fruits\n",
    "fruits <- rep(c(\"orange\", \"apple\", \"banana\"), 10)\n",
    "fruits\n"
   ]
  },
  {
   "cell_type": "code",
   "execution_count": 11,
   "id": "57f7916e",
   "metadata": {
    "vscode": {
     "languageId": "r"
    }
   },
   "outputs": [
    {
     "data": {
      "text/html": [
       "<style>\n",
       ".list-inline {list-style: none; margin:0; padding: 0}\n",
       ".list-inline>li {display: inline-block}\n",
       ".list-inline>li:not(:last-child)::after {content: \"\\00b7\"; padding: 0 .5ex}\n",
       "</style>\n",
       "<ol class=list-inline><li>'orange'</li><li>'apple'</li><li>'orange'</li><li>'apple'</li><li>'orange'</li><li>'apple'</li><li>'orange'</li><li>'apple'</li><li>'orange'</li><li>'apple'</li><li>'orange'</li><li>'apple'</li><li>'orange'</li><li>'apple'</li><li>'orange'</li><li>'apple'</li><li>'orange'</li><li>'apple'</li><li>'orange'</li><li>'apple'</li></ol>\n"
      ],
      "text/latex": [
       "\\begin{enumerate*}\n",
       "\\item 'orange'\n",
       "\\item 'apple'\n",
       "\\item 'orange'\n",
       "\\item 'apple'\n",
       "\\item 'orange'\n",
       "\\item 'apple'\n",
       "\\item 'orange'\n",
       "\\item 'apple'\n",
       "\\item 'orange'\n",
       "\\item 'apple'\n",
       "\\item 'orange'\n",
       "\\item 'apple'\n",
       "\\item 'orange'\n",
       "\\item 'apple'\n",
       "\\item 'orange'\n",
       "\\item 'apple'\n",
       "\\item 'orange'\n",
       "\\item 'apple'\n",
       "\\item 'orange'\n",
       "\\item 'apple'\n",
       "\\end{enumerate*}\n"
      ],
      "text/markdown": [
       "1. 'orange'\n",
       "2. 'apple'\n",
       "3. 'orange'\n",
       "4. 'apple'\n",
       "5. 'orange'\n",
       "6. 'apple'\n",
       "7. 'orange'\n",
       "8. 'apple'\n",
       "9. 'orange'\n",
       "10. 'apple'\n",
       "11. 'orange'\n",
       "12. 'apple'\n",
       "13. 'orange'\n",
       "14. 'apple'\n",
       "15. 'orange'\n",
       "16. 'apple'\n",
       "17. 'orange'\n",
       "18. 'apple'\n",
       "19. 'orange'\n",
       "20. 'apple'\n",
       "\n",
       "\n"
      ],
      "text/plain": [
       " [1] \"orange\" \"apple\"  \"orange\" \"apple\"  \"orange\" \"apple\"  \"orange\" \"apple\" \n",
       " [9] \"orange\" \"apple\"  \"orange\" \"apple\"  \"orange\" \"apple\"  \"orange\" \"apple\" \n",
       "[17] \"orange\" \"apple\"  \"orange\" \"apple\" "
      ]
     },
     "metadata": {},
     "output_type": "display_data"
    }
   ],
   "source": [
    "# Create a logical vector for dropping bananas\n",
    "\n",
    "orange_or_apple <- fruits == \"orange\" | fruits == \"apple\" # TRUE if orange OR apple\n",
    "not_banana <- fruits != \"banana\" # TRUE if not equal\n",
    "not_banana2 <- !(fruits == \"banana\") # Also TRUE if not equal\n",
    "\n",
    "# Carry out the subset\n",
    "fruits[orange_or_apple]\n"
   ]
  },
  {
   "cell_type": "code",
   "execution_count": 12,
   "id": "cb9fec23",
   "metadata": {
    "vscode": {
     "languageId": "r"
    }
   },
   "outputs": [
    {
     "data": {
      "text/html": [
       "<style>\n",
       ".list-inline {list-style: none; margin:0; padding: 0}\n",
       ".list-inline>li {display: inline-block}\n",
       ".list-inline>li:not(:last-child)::after {content: \"\\00b7\"; padding: 0 .5ex}\n",
       "</style>\n",
       "<ol class=list-inline><li>'orange'</li><li>'apple'</li><li>'orange'</li><li>'apple'</li><li>'orange'</li><li>'apple'</li><li>'orange'</li><li>'apple'</li><li>'orange'</li><li>'apple'</li><li>'orange'</li><li>'apple'</li><li>'orange'</li><li>'apple'</li><li>'orange'</li><li>'apple'</li><li>'orange'</li><li>'apple'</li><li>'orange'</li><li>'apple'</li></ol>\n"
      ],
      "text/latex": [
       "\\begin{enumerate*}\n",
       "\\item 'orange'\n",
       "\\item 'apple'\n",
       "\\item 'orange'\n",
       "\\item 'apple'\n",
       "\\item 'orange'\n",
       "\\item 'apple'\n",
       "\\item 'orange'\n",
       "\\item 'apple'\n",
       "\\item 'orange'\n",
       "\\item 'apple'\n",
       "\\item 'orange'\n",
       "\\item 'apple'\n",
       "\\item 'orange'\n",
       "\\item 'apple'\n",
       "\\item 'orange'\n",
       "\\item 'apple'\n",
       "\\item 'orange'\n",
       "\\item 'apple'\n",
       "\\item 'orange'\n",
       "\\item 'apple'\n",
       "\\end{enumerate*}\n"
      ],
      "text/markdown": [
       "1. 'orange'\n",
       "2. 'apple'\n",
       "3. 'orange'\n",
       "4. 'apple'\n",
       "5. 'orange'\n",
       "6. 'apple'\n",
       "7. 'orange'\n",
       "8. 'apple'\n",
       "9. 'orange'\n",
       "10. 'apple'\n",
       "11. 'orange'\n",
       "12. 'apple'\n",
       "13. 'orange'\n",
       "14. 'apple'\n",
       "15. 'orange'\n",
       "16. 'apple'\n",
       "17. 'orange'\n",
       "18. 'apple'\n",
       "19. 'orange'\n",
       "20. 'apple'\n",
       "\n",
       "\n"
      ],
      "text/plain": [
       " [1] \"orange\" \"apple\"  \"orange\" \"apple\"  \"orange\" \"apple\"  \"orange\" \"apple\" \n",
       " [9] \"orange\" \"apple\"  \"orange\" \"apple\"  \"orange\" \"apple\"  \"orange\" \"apple\" \n",
       "[17] \"orange\" \"apple\"  \"orange\" \"apple\" "
      ]
     },
     "metadata": {},
     "output_type": "display_data"
    }
   ],
   "source": [
    "fruits[not_banana]\n"
   ]
  },
  {
   "cell_type": "code",
   "execution_count": 13,
   "id": "80cf8f8f",
   "metadata": {
    "vscode": {
     "languageId": "r"
    }
   },
   "outputs": [
    {
     "data": {
      "text/html": [
       "<style>\n",
       ".list-inline {list-style: none; margin:0; padding: 0}\n",
       ".list-inline>li {display: inline-block}\n",
       ".list-inline>li:not(:last-child)::after {content: \"\\00b7\"; padding: 0 .5ex}\n",
       "</style>\n",
       "<ol class=list-inline><li>'orange'</li><li>'apple'</li><li>'orange'</li><li>'apple'</li><li>'orange'</li><li>'apple'</li><li>'orange'</li><li>'apple'</li><li>'orange'</li><li>'apple'</li><li>'orange'</li><li>'apple'</li><li>'orange'</li><li>'apple'</li><li>'orange'</li><li>'apple'</li><li>'orange'</li><li>'apple'</li><li>'orange'</li><li>'apple'</li></ol>\n"
      ],
      "text/latex": [
       "\\begin{enumerate*}\n",
       "\\item 'orange'\n",
       "\\item 'apple'\n",
       "\\item 'orange'\n",
       "\\item 'apple'\n",
       "\\item 'orange'\n",
       "\\item 'apple'\n",
       "\\item 'orange'\n",
       "\\item 'apple'\n",
       "\\item 'orange'\n",
       "\\item 'apple'\n",
       "\\item 'orange'\n",
       "\\item 'apple'\n",
       "\\item 'orange'\n",
       "\\item 'apple'\n",
       "\\item 'orange'\n",
       "\\item 'apple'\n",
       "\\item 'orange'\n",
       "\\item 'apple'\n",
       "\\item 'orange'\n",
       "\\item 'apple'\n",
       "\\end{enumerate*}\n"
      ],
      "text/markdown": [
       "1. 'orange'\n",
       "2. 'apple'\n",
       "3. 'orange'\n",
       "4. 'apple'\n",
       "5. 'orange'\n",
       "6. 'apple'\n",
       "7. 'orange'\n",
       "8. 'apple'\n",
       "9. 'orange'\n",
       "10. 'apple'\n",
       "11. 'orange'\n",
       "12. 'apple'\n",
       "13. 'orange'\n",
       "14. 'apple'\n",
       "15. 'orange'\n",
       "16. 'apple'\n",
       "17. 'orange'\n",
       "18. 'apple'\n",
       "19. 'orange'\n",
       "20. 'apple'\n",
       "\n",
       "\n"
      ],
      "text/plain": [
       " [1] \"orange\" \"apple\"  \"orange\" \"apple\"  \"orange\" \"apple\"  \"orange\" \"apple\" \n",
       " [9] \"orange\" \"apple\"  \"orange\" \"apple\"  \"orange\" \"apple\"  \"orange\" \"apple\" \n",
       "[17] \"orange\" \"apple\"  \"orange\" \"apple\" "
      ]
     },
     "metadata": {},
     "output_type": "display_data"
    }
   ],
   "source": [
    "fruits[not_banana2]\n"
   ]
  },
  {
   "cell_type": "markdown",
   "id": "8a0517b8",
   "metadata": {},
   "source": [
    "We applied the same logic as above: We have a vector (`fruits`) that\n",
    "we want to subset. We do so using a logical vector (`orange_or_apple`, `not_banana`, and `orange_or_apple2`), where elements that match with `TRUE` are kept. The only difference here is that we create the logical vector with a logical operation. The logical operators (e.g., `!=`, `|`) used here are discussed in the link above."
   ]
  },
  {
   "cell_type": "markdown",
   "id": "1dad7ca7",
   "metadata": {},
   "source": [
    "In addition, we can also use the `%in%` operator as follows:"
   ]
  },
  {
   "cell_type": "code",
   "execution_count": 14,
   "id": "60110a97",
   "metadata": {
    "vscode": {
     "languageId": "r"
    }
   },
   "outputs": [
    {
     "data": {
      "text/html": [
       "<style>\n",
       ".list-inline {list-style: none; margin:0; padding: 0}\n",
       ".list-inline>li {display: inline-block}\n",
       ".list-inline>li:not(:last-child)::after {content: \"\\00b7\"; padding: 0 .5ex}\n",
       "</style>\n",
       "<ol class=list-inline><li>'orange'</li><li>'apple'</li><li>'orange'</li><li>'apple'</li><li>'orange'</li><li>'apple'</li><li>'orange'</li><li>'apple'</li><li>'orange'</li><li>'apple'</li><li>'orange'</li><li>'apple'</li><li>'orange'</li><li>'apple'</li><li>'orange'</li><li>'apple'</li><li>'orange'</li><li>'apple'</li><li>'orange'</li><li>'apple'</li></ol>\n"
      ],
      "text/latex": [
       "\\begin{enumerate*}\n",
       "\\item 'orange'\n",
       "\\item 'apple'\n",
       "\\item 'orange'\n",
       "\\item 'apple'\n",
       "\\item 'orange'\n",
       "\\item 'apple'\n",
       "\\item 'orange'\n",
       "\\item 'apple'\n",
       "\\item 'orange'\n",
       "\\item 'apple'\n",
       "\\item 'orange'\n",
       "\\item 'apple'\n",
       "\\item 'orange'\n",
       "\\item 'apple'\n",
       "\\item 'orange'\n",
       "\\item 'apple'\n",
       "\\item 'orange'\n",
       "\\item 'apple'\n",
       "\\item 'orange'\n",
       "\\item 'apple'\n",
       "\\end{enumerate*}\n"
      ],
      "text/markdown": [
       "1. 'orange'\n",
       "2. 'apple'\n",
       "3. 'orange'\n",
       "4. 'apple'\n",
       "5. 'orange'\n",
       "6. 'apple'\n",
       "7. 'orange'\n",
       "8. 'apple'\n",
       "9. 'orange'\n",
       "10. 'apple'\n",
       "11. 'orange'\n",
       "12. 'apple'\n",
       "13. 'orange'\n",
       "14. 'apple'\n",
       "15. 'orange'\n",
       "16. 'apple'\n",
       "17. 'orange'\n",
       "18. 'apple'\n",
       "19. 'orange'\n",
       "20. 'apple'\n",
       "\n",
       "\n"
      ],
      "text/plain": [
       " [1] \"orange\" \"apple\"  \"orange\" \"apple\"  \"orange\" \"apple\"  \"orange\" \"apple\" \n",
       " [9] \"orange\" \"apple\"  \"orange\" \"apple\"  \"orange\" \"apple\"  \"orange\" \"apple\" \n",
       "[17] \"orange\" \"apple\"  \"orange\" \"apple\" "
      ]
     },
     "metadata": {},
     "output_type": "display_data"
    }
   ],
   "source": [
    "orange_or_apple2 <- fruits %in% c(\"orange\", \"apple\")\n",
    "fruits[orange_or_apple2]\n"
   ]
  },
  {
   "cell_type": "markdown",
   "id": "0758d720",
   "metadata": {},
   "source": [
    "\n",
    "<div class=\"general-note\">\n",
    "\n",
    "<strong> General note about `%in%`: </strong> This operator is\n",
    "extremely useful as an alternative for repeated \"or\" (`|`) statements. For example, say you have a vector with 10 types of fruits and you want to keep elements that are equal to \"orange\", \"apple\", \"mango\",\n",
    "\"mandarin\", or \"kiwi\". You could accomplish this by creating a logical vector like so: `lv <- fruits == \"orange\" | fruits == \"apple\" | fruits == \"mango\" | fruits == \"mandarin\" | fruits == \"kiwi\"`.  \n",
    "\n",
    "<br> What a nighmarishly long statement compared to the `%in%` option that accomplishes the exact same thing: `lv <- fruits %in% c(\"orange\", \"apple\", \"mango\", \"mandarin\", \"kiwi\")`.\n",
    "\n",
    "</div>"
   ]
  },
  {
   "cell_type": "markdown",
   "id": "ff22787e",
   "metadata": {},
   "source": [
    "\n",
    "Of course, subsetting using logicals can also be done on numeric vectors.\n",
    "\n",
    "Here are a few examples:"
   ]
  },
  {
   "cell_type": "code",
   "execution_count": 15,
   "id": "cf378d07",
   "metadata": {
    "vscode": {
     "languageId": "r"
    }
   },
   "outputs": [
    {
     "data": {
      "text/html": [
       "<style>\n",
       ".list-inline {list-style: none; margin:0; padding: 0}\n",
       ".list-inline>li {display: inline-block}\n",
       ".list-inline>li:not(:last-child)::after {content: \"\\00b7\"; padding: 0 .5ex}\n",
       "</style>\n",
       "<ol class=list-inline><li>0</li><li>10</li><li>20</li><li>30</li><li>40</li><li>50</li><li>60</li><li>70</li><li>80</li><li>90</li><li>100</li></ol>\n"
      ],
      "text/latex": [
       "\\begin{enumerate*}\n",
       "\\item 0\n",
       "\\item 10\n",
       "\\item 20\n",
       "\\item 30\n",
       "\\item 40\n",
       "\\item 50\n",
       "\\item 60\n",
       "\\item 70\n",
       "\\item 80\n",
       "\\item 90\n",
       "\\item 100\n",
       "\\end{enumerate*}\n"
      ],
      "text/markdown": [
       "1. 0\n",
       "2. 10\n",
       "3. 20\n",
       "4. 30\n",
       "5. 40\n",
       "6. 50\n",
       "7. 60\n",
       "8. 70\n",
       "9. 80\n",
       "10. 90\n",
       "11. 100\n",
       "\n",
       "\n"
      ],
      "text/plain": [
       " [1]   0  10  20  30  40  50  60  70  80  90 100"
      ]
     },
     "metadata": {},
     "output_type": "display_data"
    }
   ],
   "source": [
    "# Create a numeric vector\n",
    "numbers <- seq(0, 100, by = 10)\n",
    "numbers\n"
   ]
  },
  {
   "cell_type": "code",
   "execution_count": 16,
   "id": "6c572d8b",
   "metadata": {
    "vscode": {
     "languageId": "r"
    }
   },
   "outputs": [
    {
     "data": {
      "text/html": [
       "<style>\n",
       ".list-inline {list-style: none; margin:0; padding: 0}\n",
       ".list-inline>li {display: inline-block}\n",
       ".list-inline>li:not(:last-child)::after {content: \"\\00b7\"; padding: 0 .5ex}\n",
       "</style>\n",
       "<ol class=list-inline><li>0</li><li>10</li><li>20</li><li>40</li><li>50</li></ol>\n"
      ],
      "text/latex": [
       "\\begin{enumerate*}\n",
       "\\item 0\n",
       "\\item 10\n",
       "\\item 20\n",
       "\\item 40\n",
       "\\item 50\n",
       "\\end{enumerate*}\n"
      ],
      "text/markdown": [
       "1. 0\n",
       "2. 10\n",
       "3. 20\n",
       "4. 40\n",
       "5. 50\n",
       "\n",
       "\n"
      ],
      "text/plain": [
       "[1]  0 10 20 40 50"
      ]
     },
     "metadata": {},
     "output_type": "display_data"
    }
   ],
   "source": [
    "# Illustrate three different filters\n",
    "numbers[numbers <= 50 & numbers != 30]\n"
   ]
  },
  {
   "cell_type": "code",
   "execution_count": 17,
   "id": "9dabb90d",
   "metadata": {
    "vscode": {
     "languageId": "r"
    }
   },
   "outputs": [
    {
     "data": {
      "text/html": [
       "<style>\n",
       ".list-inline {list-style: none; margin:0; padding: 0}\n",
       ".list-inline>li {display: inline-block}\n",
       ".list-inline>li:not(:last-child)::after {content: \"\\00b7\"; padding: 0 .5ex}\n",
       "</style>\n",
       "<ol class=list-inline><li>0</li><li>100</li></ol>\n"
      ],
      "text/latex": [
       "\\begin{enumerate*}\n",
       "\\item 0\n",
       "\\item 100\n",
       "\\end{enumerate*}\n"
      ],
      "text/markdown": [
       "1. 0\n",
       "2. 100\n",
       "\n",
       "\n"
      ],
      "text/plain": [
       "[1]   0 100"
      ]
     },
     "metadata": {},
     "output_type": "display_data"
    }
   ],
   "source": [
    "numbers[numbers == 0 | numbers == 100]\n"
   ]
  },
  {
   "cell_type": "code",
   "execution_count": 18,
   "id": "df6d2a79",
   "metadata": {
    "vscode": {
     "languageId": "r"
    }
   },
   "outputs": [
    {
     "data": {
      "text/html": [],
      "text/latex": [],
      "text/markdown": [],
      "text/plain": [
       "numeric(0)"
      ]
     },
     "metadata": {},
     "output_type": "display_data"
    }
   ],
   "source": [
    "numbers[numbers > 100] # returns an empty vector\n"
   ]
  },
  {
   "cell_type": "markdown",
   "id": "f50ea871",
   "metadata": {},
   "source": [
    "## Subsetting by Name\n",
    "\n",
    "In R, it's also possible to assign names to entries in a vector, then use those names to subset entries. To illustrate, let me tell you about the zoo I wished I owned. It's a small zoo, but a happy one, and here was our imagined attendance last week:\n",
    "\n",
    "| Day of Week | Attendees  |\n",
    "|-------------|------------|\n",
    "| Monday      | 132 people |\n",
    "| Tuesday     | 94 people  |\n",
    "| Wednesday   | 112 people |\n",
    "| Thursday    | 84 people  |\n",
    "| Friday      | 254 people |\n",
    "| Saturday    | 322 people |\n",
    "| Sunday      | 472 people |\n",
    "\n",
    "I can now represent this as a vector by putting attendance in the vector, and then labeling entries by the day of the week:"
   ]
  },
  {
   "cell_type": "code",
   "execution_count": 19,
   "id": "4987f878",
   "metadata": {
    "vscode": {
     "languageId": "r"
    }
   },
   "outputs": [
    {
     "data": {
      "text/html": [
       "<style>\n",
       ".list-inline {list-style: none; margin:0; padding: 0}\n",
       ".list-inline>li {display: inline-block}\n",
       ".list-inline>li:not(:last-child)::after {content: \"\\00b7\"; padding: 0 .5ex}\n",
       "</style>\n",
       "<ol class=list-inline><li>132</li><li>94</li><li>112</li><li>84</li><li>254</li><li>322</li><li>472</li></ol>\n"
      ],
      "text/latex": [
       "\\begin{enumerate*}\n",
       "\\item 132\n",
       "\\item 94\n",
       "\\item 112\n",
       "\\item 84\n",
       "\\item 254\n",
       "\\item 322\n",
       "\\item 472\n",
       "\\end{enumerate*}\n"
      ],
      "text/markdown": [
       "1. 132\n",
       "2. 94\n",
       "3. 112\n",
       "4. 84\n",
       "5. 254\n",
       "6. 322\n",
       "7. 472\n",
       "\n",
       "\n"
      ],
      "text/plain": [
       "[1] 132  94 112  84 254 322 472"
      ]
     },
     "metadata": {},
     "output_type": "display_data"
    }
   ],
   "source": [
    "attendance <- c(132, 94, 112, 84, 254, 322, 472)\n",
    "attendance\n"
   ]
  },
  {
   "cell_type": "code",
   "execution_count": 20,
   "id": "7937bcbc",
   "metadata": {
    "vscode": {
     "languageId": "r"
    }
   },
   "outputs": [
    {
     "data": {
      "text/html": [
       "<style>\n",
       ".dl-inline {width: auto; margin:0; padding: 0}\n",
       ".dl-inline>dt, .dl-inline>dd {float: none; width: auto; display: inline-block}\n",
       ".dl-inline>dt::after {content: \":\\0020\"; padding-right: .5ex}\n",
       ".dl-inline>dt:not(:first-of-type) {padding-left: .5ex}\n",
       "</style><dl class=dl-inline><dt>Monday</dt><dd>132</dd><dt>Tuesday</dt><dd>94</dd><dt>Wednesday</dt><dd>112</dd><dt>Thursday</dt><dd>84</dd><dt>Friday</dt><dd>254</dd><dt>Saturday</dt><dd>322</dd><dt>Sunday</dt><dd>472</dd></dl>\n"
      ],
      "text/latex": [
       "\\begin{description*}\n",
       "\\item[Monday] 132\n",
       "\\item[Tuesday] 94\n",
       "\\item[Wednesday] 112\n",
       "\\item[Thursday] 84\n",
       "\\item[Friday] 254\n",
       "\\item[Saturday] 322\n",
       "\\item[Sunday] 472\n",
       "\\end{description*}\n"
      ],
      "text/markdown": [
       "Monday\n",
       ":   132Tuesday\n",
       ":   94Wednesday\n",
       ":   112Thursday\n",
       ":   84Friday\n",
       ":   254Saturday\n",
       ":   322Sunday\n",
       ":   472\n",
       "\n"
      ],
      "text/plain": [
       "   Monday   Tuesday Wednesday  Thursday    Friday  Saturday    Sunday \n",
       "      132        94       112        84       254       322       472 "
      ]
     },
     "metadata": {},
     "output_type": "display_data"
    }
   ],
   "source": [
    "names(attendance) <- c(\n",
    "    \"Monday\", \"Tuesday\",\n",
    "    \"Wednesday\", \"Thursday\", \"Friday\",\n",
    "    \"Saturday\", \"Sunday\"\n",
    ")\n",
    "attendance\n"
   ]
  },
  {
   "cell_type": "markdown",
   "id": "33bf26bf",
   "metadata": {},
   "source": [
    "Now if I wanted to just get attendance from the weekend I could subset with a vector of names:"
   ]
  },
  {
   "cell_type": "code",
   "execution_count": 21,
   "id": "0d158af0",
   "metadata": {
    "vscode": {
     "languageId": "r"
    }
   },
   "outputs": [
    {
     "data": {
      "text/html": [
       "<style>\n",
       ".dl-inline {width: auto; margin:0; padding: 0}\n",
       ".dl-inline>dt, .dl-inline>dd {float: none; width: auto; display: inline-block}\n",
       ".dl-inline>dt::after {content: \":\\0020\"; padding-right: .5ex}\n",
       ".dl-inline>dt:not(:first-of-type) {padding-left: .5ex}\n",
       "</style><dl class=dl-inline><dt>Saturday</dt><dd>322</dd><dt>Sunday</dt><dd>472</dd></dl>\n"
      ],
      "text/latex": [
       "\\begin{description*}\n",
       "\\item[Saturday] 322\n",
       "\\item[Sunday] 472\n",
       "\\end{description*}\n"
      ],
      "text/markdown": [
       "Saturday\n",
       ":   322Sunday\n",
       ":   472\n",
       "\n"
      ],
      "text/plain": [
       "Saturday   Sunday \n",
       "     322      472 "
      ]
     },
     "metadata": {},
     "output_type": "display_data"
    }
   ],
   "source": [
    "attendance[c(\"Saturday\", \"Sunday\")]\n"
   ]
  },
  {
   "cell_type": "markdown",
   "id": "9fd43f62",
   "metadata": {},
   "source": [
    "## Using Subsetting to Modifying Vectors\n",
    "\n",
    "The subsetting logic from above isn't just for extracting subsets of vectors to analyze -- it's also useful for modifying vectors. The idea here is that instead of keeping elements that meet a logical condition or occur at a specific index, we can change them. For example, what if we had mis-entered grandpa's age above? We can fix it using indexing, a logical statement, or naming. "
   ]
  },
  {
   "cell_type": "code",
   "execution_count": 22,
   "id": "21790fb2",
   "metadata": {
    "vscode": {
     "languageId": "r"
    }
   },
   "outputs": [
    {
     "data": {
      "text/html": [
       "<style>\n",
       ".list-inline {list-style: none; margin:0; padding: 0}\n",
       ".list-inline>li {display: inline-block}\n",
       ".list-inline>li:not(:last-child)::after {content: \"\\00b7\"; padding: 0 .5ex}\n",
       "</style>\n",
       "<ol class=list-inline><li>50</li><li>45</li><li>82</li></ol>\n"
      ],
      "text/latex": [
       "\\begin{enumerate*}\n",
       "\\item 50\n",
       "\\item 45\n",
       "\\item 82\n",
       "\\end{enumerate*}\n"
      ],
      "text/markdown": [
       "1. 50\n",
       "2. 45\n",
       "3. 82\n",
       "\n",
       "\n"
      ],
      "text/plain": [
       "[1] 50 45 82"
      ]
     },
     "metadata": {},
     "output_type": "display_data"
    }
   ],
   "source": [
    "# Recreate vector with age values\n",
    "age <- c(50, 55, 80)\n",
    "\n",
    "# Three ways of changing grandpa's age\n",
    "# Note: you'd only need to use one of these\n",
    "age[age == 80] <- 82 # using a logical statement\n",
    "age[2] <- 45 # using indexing\n",
    "age\n"
   ]
  },
  {
   "cell_type": "markdown",
   "id": "7bd41879",
   "metadata": {},
   "source": [
    "A logical statement is most efficient when we need to change a lot\n",
    "of elements."
   ]
  },
  {
   "cell_type": "code",
   "execution_count": 23,
   "id": "ba43abc6",
   "metadata": {
    "vscode": {
     "languageId": "r"
    }
   },
   "outputs": [
    {
     "data": {
      "text/html": [
       "<style>\n",
       ".list-inline {list-style: none; margin:0; padding: 0}\n",
       ".list-inline>li {display: inline-block}\n",
       ".list-inline>li:not(:last-child)::after {content: \"\\00b7\"; padding: 0 .5ex}\n",
       "</style>\n",
       "<ol class=list-inline><li>'orange'</li><li>'apple'</li><li>'bamama'</li><li>'orange'</li><li>'apple'</li><li>'bamama'</li><li>'orange'</li><li>'apple'</li><li>'bamama'</li><li>'orange'</li><li>'apple'</li><li>'bamama'</li><li>'orange'</li><li>'apple'</li><li>'bamama'</li></ol>\n"
      ],
      "text/latex": [
       "\\begin{enumerate*}\n",
       "\\item 'orange'\n",
       "\\item 'apple'\n",
       "\\item 'bamama'\n",
       "\\item 'orange'\n",
       "\\item 'apple'\n",
       "\\item 'bamama'\n",
       "\\item 'orange'\n",
       "\\item 'apple'\n",
       "\\item 'bamama'\n",
       "\\item 'orange'\n",
       "\\item 'apple'\n",
       "\\item 'bamama'\n",
       "\\item 'orange'\n",
       "\\item 'apple'\n",
       "\\item 'bamama'\n",
       "\\end{enumerate*}\n"
      ],
      "text/markdown": [
       "1. 'orange'\n",
       "2. 'apple'\n",
       "3. 'bamama'\n",
       "4. 'orange'\n",
       "5. 'apple'\n",
       "6. 'bamama'\n",
       "7. 'orange'\n",
       "8. 'apple'\n",
       "9. 'bamama'\n",
       "10. 'orange'\n",
       "11. 'apple'\n",
       "12. 'bamama'\n",
       "13. 'orange'\n",
       "14. 'apple'\n",
       "15. 'bamama'\n",
       "\n",
       "\n"
      ],
      "text/plain": [
       " [1] \"orange\" \"apple\"  \"bamama\" \"orange\" \"apple\"  \"bamama\" \"orange\" \"apple\" \n",
       " [9] \"bamama\" \"orange\" \"apple\"  \"bamama\" \"orange\" \"apple\"  \"bamama\""
      ]
     },
     "metadata": {},
     "output_type": "display_data"
    }
   ],
   "source": [
    "fruits <- rep(c(\"orange\", \"apple\", \"bamama\"), 5)\n",
    "fruits # bamamas anyone?\n"
   ]
  },
  {
   "cell_type": "code",
   "execution_count": 24,
   "id": "e9adc1d1",
   "metadata": {
    "vscode": {
     "languageId": "r"
    }
   },
   "outputs": [
    {
     "data": {
      "text/html": [
       "<style>\n",
       ".list-inline {list-style: none; margin:0; padding: 0}\n",
       ".list-inline>li {display: inline-block}\n",
       ".list-inline>li:not(:last-child)::after {content: \"\\00b7\"; padding: 0 .5ex}\n",
       "</style>\n",
       "<ol class=list-inline><li>'orange'</li><li>'apple'</li><li>'banana'</li><li>'orange'</li><li>'apple'</li><li>'banana'</li><li>'orange'</li><li>'apple'</li><li>'banana'</li><li>'orange'</li><li>'apple'</li><li>'banana'</li><li>'orange'</li><li>'apple'</li><li>'banana'</li></ol>\n"
      ],
      "text/latex": [
       "\\begin{enumerate*}\n",
       "\\item 'orange'\n",
       "\\item 'apple'\n",
       "\\item 'banana'\n",
       "\\item 'orange'\n",
       "\\item 'apple'\n",
       "\\item 'banana'\n",
       "\\item 'orange'\n",
       "\\item 'apple'\n",
       "\\item 'banana'\n",
       "\\item 'orange'\n",
       "\\item 'apple'\n",
       "\\item 'banana'\n",
       "\\item 'orange'\n",
       "\\item 'apple'\n",
       "\\item 'banana'\n",
       "\\end{enumerate*}\n"
      ],
      "text/markdown": [
       "1. 'orange'\n",
       "2. 'apple'\n",
       "3. 'banana'\n",
       "4. 'orange'\n",
       "5. 'apple'\n",
       "6. 'banana'\n",
       "7. 'orange'\n",
       "8. 'apple'\n",
       "9. 'banana'\n",
       "10. 'orange'\n",
       "11. 'apple'\n",
       "12. 'banana'\n",
       "13. 'orange'\n",
       "14. 'apple'\n",
       "15. 'banana'\n",
       "\n",
       "\n"
      ],
      "text/plain": [
       " [1] \"orange\" \"apple\"  \"banana\" \"orange\" \"apple\"  \"banana\" \"orange\" \"apple\" \n",
       " [9] \"banana\" \"orange\" \"apple\"  \"banana\" \"orange\" \"apple\"  \"banana\""
      ]
     },
     "metadata": {},
     "output_type": "display_data"
    }
   ],
   "source": [
    "# Let's fix the misspelled element\n",
    "fruits[fruits == \"bamama\"] <- \"banana\"\n",
    "fruits\n"
   ]
  },
  {
   "cell_type": "markdown",
   "id": "06c3e879",
   "metadata": {},
   "source": [
    "### Conditionally Modifying a Subset\n",
    "\n",
    "The final way that one can use subsets to modify a vector is in a situation where the modification you want to make depends on the value of an observation. \n",
    "\n",
    "For example, suppose you have the following salary data:\n"
   ]
  },
  {
   "cell_type": "code",
   "execution_count": 25,
   "id": "a9e4ec6f",
   "metadata": {
    "vscode": {
     "languageId": "r"
    }
   },
   "outputs": [
    {
     "data": {
      "text/html": [
       "<style>\n",
       ".list-inline {list-style: none; margin:0; padding: 0}\n",
       ".list-inline>li {display: inline-block}\n",
       ".list-inline>li:not(:last-child)::after {content: \"\\00b7\"; padding: 0 .5ex}\n",
       "</style>\n",
       "<ol class=list-inline><li>105000</li><li>50000</li><li>55000</li><li>80000</li><li>70000</li></ol>\n"
      ],
      "text/latex": [
       "\\begin{enumerate*}\n",
       "\\item 105000\n",
       "\\item 50000\n",
       "\\item 55000\n",
       "\\item 80000\n",
       "\\item 70000\n",
       "\\end{enumerate*}\n"
      ],
      "text/markdown": [
       "1. 105000\n",
       "2. 50000\n",
       "3. 55000\n",
       "4. 80000\n",
       "5. 70000\n",
       "\n",
       "\n"
      ],
      "text/plain": [
       "[1] 105000  50000  55000  80000  70000"
      ]
     },
     "metadata": {},
     "output_type": "display_data"
    }
   ],
   "source": [
    "salaries <- c(105000, 50000, 55000, 80000, 70000)\n",
    "salaries\n"
   ]
  },
  {
   "cell_type": "markdown",
   "id": "8dae5bf7",
   "metadata": {},
   "source": [
    "Now you want to give everyone with an income below \\$75,000 a \\$10,000 tax refund. You can't just do `salaries + 10000`, because that would apply to all salaries. \n",
    "\n",
    "One way to address this would be to do it in a couple steps. Create a vector of refund:"
   ]
  },
  {
   "cell_type": "code",
   "execution_count": 26,
   "id": "b4381c64",
   "metadata": {
    "vscode": {
     "languageId": "r"
    }
   },
   "outputs": [
    {
     "data": {
      "text/html": [
       "<style>\n",
       ".list-inline {list-style: none; margin:0; padding: 0}\n",
       ".list-inline>li {display: inline-block}\n",
       ".list-inline>li:not(:last-child)::after {content: \"\\00b7\"; padding: 0 .5ex}\n",
       "</style>\n",
       "<ol class=list-inline><li>0</li><li>10000</li><li>10000</li><li>0</li><li>10000</li></ol>\n"
      ],
      "text/latex": [
       "\\begin{enumerate*}\n",
       "\\item 0\n",
       "\\item 10000\n",
       "\\item 10000\n",
       "\\item 0\n",
       "\\item 10000\n",
       "\\end{enumerate*}\n"
      ],
      "text/markdown": [
       "1. 0\n",
       "2. 10000\n",
       "3. 10000\n",
       "4. 0\n",
       "5. 10000\n",
       "\n",
       "\n"
      ],
      "text/plain": [
       "[1]     0 10000 10000     0 10000"
      ]
     },
     "metadata": {},
     "output_type": "display_data"
    }
   ],
   "source": [
    "refund <- replicate(length(salaries), 0)\n",
    "refund[salaries < 75000] <- 10000\n",
    "refund\n"
   ]
  },
  {
   "cell_type": "code",
   "execution_count": 27,
   "id": "c42b0afe",
   "metadata": {
    "vscode": {
     "languageId": "r"
    }
   },
   "outputs": [
    {
     "data": {
      "text/html": [
       "<style>\n",
       ".list-inline {list-style: none; margin:0; padding: 0}\n",
       ".list-inline>li {display: inline-block}\n",
       ".list-inline>li:not(:last-child)::after {content: \"\\00b7\"; padding: 0 .5ex}\n",
       "</style>\n",
       "<ol class=list-inline><li>105000</li><li>60000</li><li>65000</li><li>80000</li><li>80000</li></ol>\n"
      ],
      "text/latex": [
       "\\begin{enumerate*}\n",
       "\\item 105000\n",
       "\\item 60000\n",
       "\\item 65000\n",
       "\\item 80000\n",
       "\\item 80000\n",
       "\\end{enumerate*}\n"
      ],
      "text/markdown": [
       "1. 105000\n",
       "2. 60000\n",
       "3. 65000\n",
       "4. 80000\n",
       "5. 80000\n",
       "\n",
       "\n"
      ],
      "text/plain": [
       "[1] 105000  60000  65000  80000  80000"
      ]
     },
     "metadata": {},
     "output_type": "display_data"
    }
   ],
   "source": [
    "salaries + refund\n"
   ]
  },
  {
   "cell_type": "markdown",
   "id": "b072ab28",
   "metadata": {},
   "source": [
    "But you can also apply this more directly by subsetting on either side of the assignment operator:"
   ]
  },
  {
   "cell_type": "code",
   "execution_count": 28,
   "id": "9609fc68",
   "metadata": {
    "vscode": {
     "languageId": "r"
    }
   },
   "outputs": [],
   "source": [
    "salaries[salaries < 75000] <- salaries[salaries < 75000] + 10000\n"
   ]
  },
  {
   "cell_type": "markdown",
   "id": "6e25c92c",
   "metadata": {
    "vscode": {
     "languageId": "r"
    }
   },
   "source": [
    "This can seem very unintuitive at first — the expression on the right hand side of the assignment operator (`salaries[salaries < 75000] + 10000`) is creating a vector that only has three entries. But `salaries` has five entries, so where will those three values be assigned?\n",
    "\n",
    "The answer is that the subsetting on the left-hand-side of the assignment operator (`[salaries < 75000]`) tells R which entries of `salaries` are \"open\" to assignment of new values, as shown in the figure below (sorry about the underscores in the numbers — the figure is originally from Python code, which allows underscores in numbers.)"
   ]
  },
  {
   "cell_type": "markdown",
   "id": "1e40b1e8",
   "metadata": {
    "vscode": {
     "languageId": "r"
    }
   },
   "source": [
    "![double subsetting](images/2.2.35_modifying_subsets_2.png)\n"
   ]
  },
  {
   "cell_type": "markdown",
   "id": "11fc1cad",
   "metadata": {},
   "source": [
    "## Recap\n",
    "\n",
    "- Vectors can be subset by index, with a logical, or by name\n",
    "- Subsetting with logicals allows you to extract subsets based on the values of vector elements. \n",
    "- Assigning values to subsets modifies subsets of vectors. "
   ]
  },
  {
   "cell_type": "markdown",
   "id": "93e517b3",
   "metadata": {},
   "source": [
    "## Exercises for Now\n",
    "\n",
    "Want to practice these skills? Head on over to [this site](exercises/exercise_vectors_now.ipynb) to find some exercises you can do right now!"
   ]
  },
  {
   "cell_type": "markdown",
   "id": "b76ff672",
   "metadata": {},
   "source": [
    "## Exercises for Class\n",
    "\n",
    "[Here are some exercises](exercises/exercise_vectors.ipynb) we'll be doing in class. **Please do not** do these before class! If you're reading these materials on your own or are catching up, feel free to take a look now."
   ]
  }
 ],
 "metadata": {
  "jupytext": {
   "cell_metadata_filter": "-all",
   "main_language": "R",
   "notebook_metadata_filter": "-all"
  },
  "kernelspec": {
   "display_name": "R",
   "language": "R",
   "name": "ir"
  },
  "language_info": {
   "codemirror_mode": "r",
   "file_extension": ".r",
   "mimetype": "text/x-r-source",
   "name": "R",
   "pygments_lexer": "r",
   "version": "4.3.1"
  }
 },
 "nbformat": 4,
 "nbformat_minor": 5
}
