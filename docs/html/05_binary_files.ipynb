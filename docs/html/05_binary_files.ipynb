{
 "cells": [
  {
   "cell_type": "markdown",
   "metadata": {},
   "source": [
    "# Ways To Store and Read Data: Binary Files\n",
    "\n",
    "In our last reading we talked about plaintext files: files that store data in a human-readable format. In this reading, we will talk about the second type of file you are likely to come across in your career—binary files."
   ]
  },
  {
   "cell_type": "markdown",
   "metadata": {},
   "source": [
    "Binary files differ from plaintext files in that the way that the 1s and 0s in the file are meant to be interpreted is not dictated by common text encodings—like ASCII or Unicode—where for example the number 1 is always represented by `00110001`, 2 by `00110010`, 3 by `001100011`, etc.\n",
    "\n",
    "Instead, binary data files can only be interpreted by software specifically written to interpret the formatted binary file you're working with, like Microsoft Excel. As a result, if you try and open them in a normal text editor—which will try and interpret the 1s and 0s as Unicode, you'll see jibberish. \n",
    "\n",
    "To illustrate, let's save a version of our small world dataset to a binary `.dta` format, then try and open it in our VS Code text editor:\n"
   ]
  },
  {
   "cell_type": "code",
   "execution_count": 1,
   "metadata": {
    "vscode": {
     "languageId": "r"
    }
   },
   "outputs": [
    {
     "data": {
      "text/html": [
       "<table class=\"dataframe\">\n",
       "<caption>A data.frame: 6 x 4</caption>\n",
       "<thead>\n",
       "\t<tr><th scope=col>country</th><th scope=col>region</th><th scope=col>gdppcap08</th><th scope=col>polityIV</th></tr>\n",
       "\t<tr><th scope=col>&lt;chr&gt;</th><th scope=col>&lt;chr&gt;</th><th scope=col>&lt;int&gt;</th><th scope=col>&lt;int&gt;</th></tr>\n",
       "</thead>\n",
       "<tbody>\n",
       "\t<tr><td>Brazil    </td><td>S. America</td><td>10296</td><td>18</td></tr>\n",
       "\t<tr><td>Germany   </td><td>W. Europe </td><td>35613</td><td>20</td></tr>\n",
       "\t<tr><td>Mexico    </td><td>N. America</td><td>14495</td><td>18</td></tr>\n",
       "\t<tr><td>Mozambique</td><td>Africa    </td><td>  855</td><td>16</td></tr>\n",
       "\t<tr><td><span style=white-space:pre-wrap>Russia    </span></td><td>C&amp;E Europe</td><td>16139</td><td>17</td></tr>\n",
       "\t<tr><td><span style=white-space:pre-wrap>Ukraine   </span></td><td>C&amp;E Europe</td><td> 7271</td><td>16</td></tr>\n",
       "</tbody>\n",
       "</table>\n"
      ],
      "text/latex": [
       "A data.frame: 6 x 4\n",
       "\\begin{tabular}{llll}\n",
       " country & region & gdppcap08 & polityIV\\\\\n",
       " <chr> & <chr> & <int> & <int>\\\\\n",
       "\\hline\n",
       "\t Brazil     & S. America & 10296 & 18\\\\\n",
       "\t Germany    & W. Europe  & 35613 & 20\\\\\n",
       "\t Mexico     & N. America & 14495 & 18\\\\\n",
       "\t Mozambique & Africa     &   855 & 16\\\\\n",
       "\t Russia     & C\\&E Europe & 16139 & 17\\\\\n",
       "\t Ukraine    & C\\&E Europe &  7271 & 16\\\\\n",
       "\\end{tabular}\n"
      ],
      "text/markdown": [
       "\n",
       "A data.frame: 6 x 4\n",
       "\n",
       "| country &lt;chr&gt; | region &lt;chr&gt; | gdppcap08 &lt;int&gt; | polityIV &lt;int&gt; |\n",
       "|---|---|---|---|\n",
       "| Brazil     | S. America | 10296 | 18 |\n",
       "| Germany    | W. Europe  | 35613 | 20 |\n",
       "| Mexico     | N. America | 14495 | 18 |\n",
       "| Mozambique | Africa     |   855 | 16 |\n",
       "| Russia     | C&amp;E Europe | 16139 | 17 |\n",
       "| Ukraine    | C&amp;E Europe |  7271 | 16 |\n",
       "\n"
      ],
      "text/plain": [
       "  country    region     gdppcap08 polityIV\n",
       "1 Brazil     S. America 10296     18      \n",
       "2 Germany    W. Europe  35613     20      \n",
       "3 Mexico     N. America 14495     18      \n",
       "4 Mozambique Africa       855     16      \n",
       "5 Russia     C&E Europe 16139     17      \n",
       "6 Ukraine    C&E Europe  7271     16      "
      ]
     },
     "metadata": {},
     "output_type": "display_data"
    }
   ],
   "source": [
    "# Load our CSV\n",
    "world <- read.csv(\"data/world-very-small.csv\")\n",
    "world"
   ]
  },
  {
   "cell_type": "code",
   "execution_count": 2,
   "metadata": {
    "vscode": {
     "languageId": "r"
    }
   },
   "outputs": [],
   "source": [
    "# Save to stata format\n",
    "library(haven)\n",
    "write_dta(world, \"data/world-very-small.dta\")"
   ]
  },
  {
   "cell_type": "markdown",
   "metadata": {},
   "source": [
    "Now if I try and open that `.dta` file, the first thing that will happen as I will see is this warning:\n",
    "\n",
    "![binary world warning](images/world_v_small_warning.png)\n",
    "\n",
    "And if I ask it to open the file anyway, all I see is this:\n",
    "\n",
    "![binary world in binary](images/world_v_small_in_binary.png)\n",
    "\n",
    "But that's not because the file is *corrupt* (broken/mis-copied)—indeed, if I asked R to open that file with the proper function, we get back our usual table:"
   ]
  },
  {
   "cell_type": "code",
   "execution_count": 3,
   "metadata": {
    "vscode": {
     "languageId": "r"
    }
   },
   "outputs": [
    {
     "data": {
      "text/html": [
       "<table class=\"dataframe\">\n",
       "<caption>A tibble: 6 x 4</caption>\n",
       "<thead>\n",
       "\t<tr><th scope=col>country</th><th scope=col>region</th><th scope=col>gdppcap08</th><th scope=col>polityIV</th></tr>\n",
       "\t<tr><th scope=col>&lt;chr&gt;</th><th scope=col>&lt;chr&gt;</th><th scope=col>&lt;dbl&gt;</th><th scope=col>&lt;dbl&gt;</th></tr>\n",
       "</thead>\n",
       "<tbody>\n",
       "\t<tr><td>Brazil    </td><td>S. America</td><td>10296</td><td>18</td></tr>\n",
       "\t<tr><td>Germany   </td><td>W. Europe </td><td>35613</td><td>20</td></tr>\n",
       "\t<tr><td>Mexico    </td><td>N. America</td><td>14495</td><td>18</td></tr>\n",
       "\t<tr><td>Mozambique</td><td>Africa    </td><td>  855</td><td>16</td></tr>\n",
       "\t<tr><td><span style=white-space:pre-wrap>Russia    </span></td><td>C&amp;E Europe</td><td>16139</td><td>17</td></tr>\n",
       "\t<tr><td><span style=white-space:pre-wrap>Ukraine   </span></td><td>C&amp;E Europe</td><td> 7271</td><td>16</td></tr>\n",
       "</tbody>\n",
       "</table>\n"
      ],
      "text/latex": [
       "A tibble: 6 x 4\n",
       "\\begin{tabular}{llll}\n",
       " country & region & gdppcap08 & polityIV\\\\\n",
       " <chr> & <chr> & <dbl> & <dbl>\\\\\n",
       "\\hline\n",
       "\t Brazil     & S. America & 10296 & 18\\\\\n",
       "\t Germany    & W. Europe  & 35613 & 20\\\\\n",
       "\t Mexico     & N. America & 14495 & 18\\\\\n",
       "\t Mozambique & Africa     &   855 & 16\\\\\n",
       "\t Russia     & C\\&E Europe & 16139 & 17\\\\\n",
       "\t Ukraine    & C\\&E Europe &  7271 & 16\\\\\n",
       "\\end{tabular}\n"
      ],
      "text/markdown": [
       "\n",
       "A tibble: 6 x 4\n",
       "\n",
       "| country &lt;chr&gt; | region &lt;chr&gt; | gdppcap08 &lt;dbl&gt; | polityIV &lt;dbl&gt; |\n",
       "|---|---|---|---|\n",
       "| Brazil     | S. America | 10296 | 18 |\n",
       "| Germany    | W. Europe  | 35613 | 20 |\n",
       "| Mexico     | N. America | 14495 | 18 |\n",
       "| Mozambique | Africa     |   855 | 16 |\n",
       "| Russia     | C&amp;E Europe | 16139 | 17 |\n",
       "| Ukraine    | C&amp;E Europe |  7271 | 16 |\n",
       "\n"
      ],
      "text/plain": [
       "  country    region     gdppcap08 polityIV\n",
       "1 Brazil     S. America 10296     18      \n",
       "2 Germany    W. Europe  35613     20      \n",
       "3 Mexico     N. America 14495     18      \n",
       "4 Mozambique Africa       855     16      \n",
       "5 Russia     C&E Europe 16139     17      \n",
       "6 Ukraine    C&E Europe  7271     16      "
      ]
     },
     "metadata": {},
     "output_type": "display_data"
    },
    {
     "ename": "",
     "evalue": "",
     "output_type": "error",
     "traceback": [
      "\u001b[1;31mThe Kernel crashed while executing code in the the current cell or a previous cell. Please review the code in the cell(s) to identify a possible cause of the failure. Click <a href='https://aka.ms/vscodeJupyterKernelCrash'>here</a> for more info. View Jupyter <a href='command:jupyter.viewOutput'>log</a> for further details."
     ]
    }
   ],
   "source": [
    "world_reloaded <- read_dta(\"data/world-very-small.dta\")\n",
    "world_reloaded"
   ]
  },
  {
   "cell_type": "markdown",
   "metadata": {},
   "source": [
    "It's just because binary data is encoded very differently! "
   ]
  },
  {
   "cell_type": "markdown",
   "metadata": {},
   "source": [
    "## Common Binary Formats\n",
    "\n",
    "Many binary formats were created by a proprietary, closed source program like Microsoft Excel or Stata, but there are also a range of open-source binary file standards. Here is a list (though definitely not an exhaustive one!) of binary formats you may encounter as a data scientist, along with how to read and write data of these types in pandas. As we mentioned in the previous reading, don't try to memorize these—you can always google them later—just read them over in an effort to get a sense of what the landscape of binary file formats looks like.\n",
    "\n",
    "**Formats Created By Proprietary Software:**\n",
    "\n",
    "- `.xls`, `.xlsx`: Excel spreadsheets. Excel can open and save `.csv` files, but by default it stores data in `.xlsx` formats that can also store formatting information, functions, etc. \n",
    "    - Read with with `readxl` package (`install.packages(\"readxl\")` to install) and the `read_excel` and write. Use the `writexl` package with `write_xlsx` functions.\n",
    "- `.dta`: Binary data files created by the program [Stata](https://en.wikipedia.org/wiki/Stata). \n",
    "    - Most people read stata data using the `haven` package and the `read_dta` function, and write with `write_dta` from the same package.\n",
    "- `.sav`: Binary data files created by the program [SPSS](https://en.wikipedia.org/wiki/SPSS). \n",
    "    - Read with `haven` and `read_sas`.\n",
    "\n",
    "**Open Standards:**\n",
    "\n",
    "- [RData/RDS](http://www.sthda.com/english/wiki/saving-data-into-r-data-format-rds-and-rdata): the standard way to store R objects (dataframes, lists, etc.) to disk. Use `saveRDS()` and `readRDS()`.\n"
   ]
  },
  {
   "cell_type": "markdown",
   "metadata": {},
   "source": [
    "## A Note on Databases\n",
    "\n",
    "Databases—like MySQL, Postgres, MongoDB, etc.—*are* a potential source of data, but they aren't (usually) individual files; rather, databases are programs that collectively manage a collection of datasets in one place, and manage access to those datasets. \n",
    "\n",
    "Python and pandas do have LOTS of tools for interacting with databases, and if that interests you, you can read about the pandas SQL database utilities [here](https://pandas.pydata.org/docs/user_guide/io.html#sql-queries). But databases are a discipline unto themselves, so we won't try and get into them in any depth here!"
   ]
  },
  {
   "cell_type": "markdown",
   "metadata": {},
   "source": [
    "## So What File Format Should I Use?\n",
    "\n",
    "All this raises the obvious question: what format should YOU use when saving your own data?\n",
    "\n",
    "Every commonly used file type has its place, so really the answer will always depend on what tradeoffs your willing to accept. But here's some of the pros and cons of using plaintext versus binary files:\n",
    "\n",
    "**Plaintext:**\n",
    "\n",
    "*Pros:*\n",
    "\n",
    "- Near universal compatibility.\n",
    "\n",
    "That's kind of the only thing, actually, but it's not a small thing by any means!\n",
    "\n",
    "*Cons:*\n",
    "\n",
    "- Can be much larger when working with large datasets (though many programs can read zipped or compressed CSVs, which helps a lot).\n",
    "- Don't store data type information, so if you want to store data in unusual formats (like 32 bit floats instead of 64 bit floats), that information may be lost.\n",
    "- Slower to read and write. \n",
    "\n",
    "**Binary Formats:**\n",
    "\n",
    "*Pros:*\n",
    "\n",
    "- Faster to read and write.\n",
    "- Some (e.g., parquet or HDF5) offer built in compression and error checking.\n",
    "- Data types are stored.\n",
    "\n",
    "*Cons:*\n",
    "\n",
    "- To open them, you have to have the right version of the right software. \n",
    "\n",
    "**So In Conclusion:**\n",
    "\n",
    "Personally, I use binary formats for all my own projects because I appreciate the speed and compression, and I appreciate the fact that all my data types are preserved. But if I were disseminating anything widely, I'd probably use a plaintext format."
   ]
  }
 ],
 "metadata": {
  "kernelspec": {
   "display_name": "R",
   "language": "R",
   "name": "ir"
  },
  "language_info": {
   "codemirror_mode": "r",
   "file_extension": ".r",
   "mimetype": "text/x-r-source",
   "name": "R",
   "pygments_lexer": "r",
   "version": "4.3.1"
  },
  "vscode": {
   "interpreter": {
    "hash": "3e0a5228cb9726a24d36227c69ed0d3aac98cecda769d1c9adb080711d57f90d"
   }
  }
 },
 "nbformat": 4,
 "nbformat_minor": 2
}
