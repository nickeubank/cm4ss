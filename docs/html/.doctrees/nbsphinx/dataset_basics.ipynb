{
 "cells": [
  {
   "cell_type": "markdown",
   "id": "c3f27fea",
   "metadata": {},
   "source": [
    "# DataFrame Basics\n",
    "\n",
    "In our previous lessons, we've talked about how vectors are often used to store lots of different observations of a given measurement (e.g. the answers of different survey respondents to a given question), and how matrices can be used to collect lots of different measurements in columns (e.g. each column can be answers to different questions). \n",
    "\n",
    "But matrices have one major limitation when it comes to social science workflows, which is that all the entries in a matrix have to be of the same type. In reality, however, we often have datasets with lots of *different* data types. For example, we might have numeric data on age and income, but character data for people's names, preferred political candidate, etc. Or we might have data on power plants across the US that includes numeric data on capacity, age, and pollution alongside character data on the power plant's fuel and the company that owns the plant. \n",
    "\n",
    "To deal with this kind of *heterogeneous tabular data*, we turn to the `data.frame`. \n",
    "\n",
    "Dataframes are basically just a collection of vectors, where each vector corresponds to a different column, and each column has a single type. Since they're two-dimensional data structures like matrices, we can actually subset them in the same way as matrices, but they are more flexible in terms of the types of data they can store. "
   ]
  },
  {
   "cell_type": "markdown",
   "id": "5c2ecd8a",
   "metadata": {},
   "source": [
    "## Creating Dataframes\n",
    "\n",
    "Let's start by learning how to create a dataset in R. This turns\n",
    "out to be very simple --- just combine vectors using the `data.frame()`\n",
    "command. \n"
   ]
  },
  {
   "cell_type": "code",
   "execution_count": 3,
   "id": "c32f7fd0",
   "metadata": {},
   "outputs": [
    {
     "data": {
      "text/html": [
       "<table class=\"dataframe\">\n",
       "<caption>A data.frame: 3 × 3</caption>\n",
       "<thead>\n",
       "\t<tr><th scope=col>name</th><th scope=col>age</th><th scope=col>hair</th></tr>\n",
       "\t<tr><th scope=col>&lt;chr&gt;</th><th scope=col>&lt;dbl&gt;</th><th scope=col>&lt;chr&gt;</th></tr>\n",
       "</thead>\n",
       "<tbody>\n",
       "\t<tr><td>al   </td><td>6</td><td>brown</td></tr>\n",
       "\t<tr><td>bea  </td><td>7</td><td>green</td></tr>\n",
       "\t<tr><td>carol</td><td>4</td><td>blond</td></tr>\n",
       "</tbody>\n",
       "</table>\n"
      ],
      "text/latex": [
       "A data.frame: 3 × 3\n",
       "\\begin{tabular}{lll}\n",
       " name & age & hair\\\\\n",
       " <chr> & <dbl> & <chr>\\\\\n",
       "\\hline\n",
       "\t al    & 6 & brown\\\\\n",
       "\t bea   & 7 & green\\\\\n",
       "\t carol & 4 & blond\\\\\n",
       "\\end{tabular}\n"
      ],
      "text/markdown": [
       "\n",
       "A data.frame: 3 × 3\n",
       "\n",
       "| name &lt;chr&gt; | age &lt;dbl&gt; | hair &lt;chr&gt; |\n",
       "|---|---|---|\n",
       "| al    | 6 | brown |\n",
       "| bea   | 7 | green |\n",
       "| carol | 4 | blond |\n",
       "\n"
      ],
      "text/plain": [
       "  name  age hair \n",
       "1 al    6   brown\n",
       "2 bea   7   green\n",
       "3 carol 4   blond"
      ]
     },
     "metadata": {},
     "output_type": "display_data"
    }
   ],
   "source": [
    "# Create three vectors \n",
    "name <- c(\"al\", \"bea\", \"carol\")\n",
    "age <- c(6, 7, 4)\n",
    "hair <- c(\"brown\", \"green\", \"blond\")\n",
    "\n",
    "# Create data frame \n",
    "children <- data.frame(name, age, hair)\n",
    "children\n"
   ]
  },
  {
   "cell_type": "markdown",
   "id": "1c58e0bb",
   "metadata": {},
   "source": [
    "Or we can create our data frame by inserting our vectors as keyword arguments:"
   ]
  },
  {
   "cell_type": "code",
   "execution_count": 4,
   "id": "89cc781a",
   "metadata": {},
   "outputs": [
    {
     "data": {
      "text/html": [
       "<table class=\"dataframe\">\n",
       "<caption>A data.frame: 3 × 3</caption>\n",
       "<thead>\n",
       "\t<tr><th scope=col>name</th><th scope=col>age</th><th scope=col>hair</th></tr>\n",
       "\t<tr><th scope=col>&lt;chr&gt;</th><th scope=col>&lt;dbl&gt;</th><th scope=col>&lt;chr&gt;</th></tr>\n",
       "</thead>\n",
       "<tbody>\n",
       "\t<tr><td>al   </td><td>6</td><td>brown</td></tr>\n",
       "\t<tr><td>bea  </td><td>7</td><td>green</td></tr>\n",
       "\t<tr><td>carol</td><td>4</td><td>blond</td></tr>\n",
       "</tbody>\n",
       "</table>\n"
      ],
      "text/latex": [
       "A data.frame: 3 × 3\n",
       "\\begin{tabular}{lll}\n",
       " name & age & hair\\\\\n",
       " <chr> & <dbl> & <chr>\\\\\n",
       "\\hline\n",
       "\t al    & 6 & brown\\\\\n",
       "\t bea   & 7 & green\\\\\n",
       "\t carol & 4 & blond\\\\\n",
       "\\end{tabular}\n"
      ],
      "text/markdown": [
       "\n",
       "A data.frame: 3 × 3\n",
       "\n",
       "| name &lt;chr&gt; | age &lt;dbl&gt; | hair &lt;chr&gt; |\n",
       "|---|---|---|\n",
       "| al    | 6 | brown |\n",
       "| bea   | 7 | green |\n",
       "| carol | 4 | blond |\n",
       "\n"
      ],
      "text/plain": [
       "  name  age hair \n",
       "1 al    6   brown\n",
       "2 bea   7   green\n",
       "3 carol 4   blond"
      ]
     },
     "metadata": {},
     "output_type": "display_data"
    }
   ],
   "source": [
    "# Create data frame \n",
    "children <- data.frame(\n",
    "    name = c(\"al\", \"bea\", \"carol\"),\n",
    "    age = c(6, 7, 4),\n",
    "    hair = c(\"brown\", \"green\", \"blond\")\n",
    ")\n",
    "children"
   ]
  },
  {
   "cell_type": "markdown",
   "id": "3c2b80c4",
   "metadata": {},
   "source": [
    "Note that unlike matrices and vectors -- which *can* have names -- dataframe columns **always** have names, and you'll usually see them accessed by name:"
   ]
  },
  {
   "cell_type": "code",
   "execution_count": 5,
   "id": "3aac3ae8",
   "metadata": {},
   "outputs": [
    {
     "data": {
      "text/html": [
       "'character'"
      ],
      "text/latex": [
       "'character'"
      ],
      "text/markdown": [
       "'character'"
      ],
      "text/plain": [
       "[1] \"character\""
      ]
     },
     "metadata": {},
     "output_type": "display_data"
    }
   ],
   "source": [
    "class(children[, \"hair\"])"
   ]
  },
  {
   "cell_type": "markdown",
   "id": "9bccfcf1",
   "metadata": {},
   "source": [
    "## Accessing Columns\n",
    "\n",
    "While you can access the features of a dataframe using the exact same syntax as you would with matrices, dataframes also allow you to access a single column using `[name of dataframe]$[name of column]`. For example:"
   ]
  },
  {
   "cell_type": "code",
   "execution_count": 6,
   "id": "d2f0f300",
   "metadata": {},
   "outputs": [
    {
     "data": {
      "text/html": [
       "<style>\n",
       ".list-inline {list-style: none; margin:0; padding: 0}\n",
       ".list-inline>li {display: inline-block}\n",
       ".list-inline>li:not(:last-child)::after {content: \"\\00b7\"; padding: 0 .5ex}\n",
       "</style>\n",
       "<ol class=list-inline><li>'brown'</li><li>'green'</li><li>'blond'</li></ol>\n"
      ],
      "text/latex": [
       "\\begin{enumerate*}\n",
       "\\item 'brown'\n",
       "\\item 'green'\n",
       "\\item 'blond'\n",
       "\\end{enumerate*}\n"
      ],
      "text/markdown": [
       "1. 'brown'\n",
       "2. 'green'\n",
       "3. 'blond'\n",
       "\n",
       "\n"
      ],
      "text/plain": [
       "[1] \"brown\" \"green\" \"blond\""
      ]
     },
     "metadata": {},
     "output_type": "display_data"
    }
   ],
   "source": [
    "children$hair"
   ]
  },
  {
   "cell_type": "markdown",
   "id": "c3be852d",
   "metadata": {},
   "source": [
    "## Basic Dataset Commands\n",
    "\n",
    "To better understand the proper structure of datasets, let's create a second data frame that has a more realistic data structure:"
   ]
  },
  {
   "cell_type": "code",
   "execution_count": 7,
   "id": "3081bd46",
   "metadata": {},
   "outputs": [
    {
     "data": {
      "text/html": [
       "<table class=\"dataframe\">\n",
       "<caption>A data.frame: 9 × 3</caption>\n",
       "<thead>\n",
       "\t<tr><th scope=col>country</th><th scope=col>year</th><th scope=col>gdp_pc</th></tr>\n",
       "\t<tr><th scope=col>&lt;chr&gt;</th><th scope=col>&lt;dbl&gt;</th><th scope=col>&lt;dbl&gt;</th></tr>\n",
       "</thead>\n",
       "<tbody>\n",
       "\t<tr><td>USA  </td><td>1994</td><td> 9196</td></tr>\n",
       "\t<tr><td>China</td><td>1994</td><td>19360</td></tr>\n",
       "\t<tr><td>Sudan</td><td>1994</td><td> 9985</td></tr>\n",
       "\t<tr><td>USA  </td><td>1995</td><td> 1722</td></tr>\n",
       "\t<tr><td>China</td><td>1995</td><td> 2201</td></tr>\n",
       "\t<tr><td>Sudan</td><td>1995</td><td> 2256</td></tr>\n",
       "\t<tr><td>USA  </td><td>1996</td><td> 6119</td></tr>\n",
       "\t<tr><td>China</td><td>1996</td><td>13931</td></tr>\n",
       "\t<tr><td>Sudan</td><td>1996</td><td>15336</td></tr>\n",
       "</tbody>\n",
       "</table>\n"
      ],
      "text/latex": [
       "A data.frame: 9 × 3\n",
       "\\begin{tabular}{lll}\n",
       " country & year & gdp\\_pc\\\\\n",
       " <chr> & <dbl> & <dbl>\\\\\n",
       "\\hline\n",
       "\t USA   & 1994 &  9196\\\\\n",
       "\t China & 1994 & 19360\\\\\n",
       "\t Sudan & 1994 &  9985\\\\\n",
       "\t USA   & 1995 &  1722\\\\\n",
       "\t China & 1995 &  2201\\\\\n",
       "\t Sudan & 1995 &  2256\\\\\n",
       "\t USA   & 1996 &  6119\\\\\n",
       "\t China & 1996 & 13931\\\\\n",
       "\t Sudan & 1996 & 15336\\\\\n",
       "\\end{tabular}\n"
      ],
      "text/markdown": [
       "\n",
       "A data.frame: 9 × 3\n",
       "\n",
       "| country &lt;chr&gt; | year &lt;dbl&gt; | gdp_pc &lt;dbl&gt; |\n",
       "|---|---|---|\n",
       "| USA   | 1994 |  9196 |\n",
       "| China | 1994 | 19360 |\n",
       "| Sudan | 1994 |  9985 |\n",
       "| USA   | 1995 |  1722 |\n",
       "| China | 1995 |  2201 |\n",
       "| Sudan | 1995 |  2256 |\n",
       "| USA   | 1996 |  6119 |\n",
       "| China | 1996 | 13931 |\n",
       "| Sudan | 1996 | 15336 |\n",
       "\n"
      ],
      "text/plain": [
       "  country year gdp_pc\n",
       "1 USA     1994  9196 \n",
       "2 China   1994 19360 \n",
       "3 Sudan   1994  9985 \n",
       "4 USA     1995  1722 \n",
       "5 China   1995  2201 \n",
       "6 Sudan   1995  2256 \n",
       "7 USA     1996  6119 \n",
       "8 China   1996 13931 \n",
       "9 Sudan   1996 15336 "
      ]
     },
     "metadata": {},
     "output_type": "display_data"
    }
   ],
   "source": [
    "country <- rep(c(\"USA\", \"China\", \"Sudan\"), 3)\n",
    "year <- c(1994, 1994, 1994, 1995, 1995, 1995, 1996, 1996, 1996)\n",
    "gdp_pc <- round(runif(9, 1000, 20000))\n",
    "\n",
    "countries <- data.frame(country, year, gdp_pc)\n",
    "countries"
   ]
  },
  {
   "cell_type": "markdown",
   "id": "38697ac0",
   "metadata": {},
   "source": [
    "Where we can pretend that `gdp_pc` is a measure of a country's GDP per capita in a given year. \n",
    " \n",
    "(A quick aside: `rep()`, as you may recall, creates a vector that repeats the first input the number of times specified by the second input. `runif()` creates, in this case, 9 random values uniformly distributed between 1000 and 20000.)\n"
   ]
  },
  {
   "cell_type": "markdown",
   "id": "8d8c2cfa",
   "metadata": {},
   "source": [
    "Now let's explore some common functions for getting to know your dataframe!\n",
    "\n",
    "The first is `dim()`, which gives the dimensions of a data frame. The number of rows are listed first, columns second."
   ]
  },
  {
   "cell_type": "code",
   "execution_count": 8,
   "id": "60a0a895",
   "metadata": {},
   "outputs": [
    {
     "data": {
      "text/html": [
       "<style>\n",
       ".list-inline {list-style: none; margin:0; padding: 0}\n",
       ".list-inline>li {display: inline-block}\n",
       ".list-inline>li:not(:last-child)::after {content: \"\\00b7\"; padding: 0 .5ex}\n",
       "</style>\n",
       "<ol class=list-inline><li>9</li><li>3</li></ol>\n"
      ],
      "text/latex": [
       "\\begin{enumerate*}\n",
       "\\item 9\n",
       "\\item 3\n",
       "\\end{enumerate*}\n"
      ],
      "text/markdown": [
       "1. 9\n",
       "2. 3\n",
       "\n",
       "\n"
      ],
      "text/plain": [
       "[1] 9 3"
      ]
     },
     "metadata": {},
     "output_type": "display_data"
    }
   ],
   "source": [
    "dim(countries)"
   ]
  },
  {
   "cell_type": "markdown",
   "id": "a119f4ee",
   "metadata": {},
   "source": [
    "Use `nrow()` and `ncol()` to to get the number of rows or columns separately."
   ]
  },
  {
   "cell_type": "code",
   "execution_count": 9,
   "id": "1a7bf8d2",
   "metadata": {},
   "outputs": [
    {
     "data": {
      "text/html": [
       "9"
      ],
      "text/latex": [
       "9"
      ],
      "text/markdown": [
       "9"
      ],
      "text/plain": [
       "[1] 9"
      ]
     },
     "metadata": {},
     "output_type": "display_data"
    },
    {
     "data": {
      "text/html": [
       "3"
      ],
      "text/latex": [
       "3"
      ],
      "text/markdown": [
       "3"
      ],
      "text/plain": [
       "[1] 3"
      ]
     },
     "metadata": {},
     "output_type": "display_data"
    }
   ],
   "source": [
    "nrow(countries)\n",
    "ncol(countries)"
   ]
  },
  {
   "cell_type": "markdown",
   "id": "dc790d96",
   "metadata": {},
   "source": [
    "Snapshots\n",
    "-------------\n",
    "\n",
    "Use `head()` and `tail()` to look at the first and last few rows of a dataset, respectively. Obviously this is more useful when we have datasets with hundreds or thousands of observations you can't just look at. :) "
   ]
  },
  {
   "cell_type": "code",
   "execution_count": 10,
   "id": "301484d1",
   "metadata": {},
   "outputs": [
    {
     "data": {
      "text/html": [
       "<table class=\"dataframe\">\n",
       "<caption>A data.frame: 6 × 3</caption>\n",
       "<thead>\n",
       "\t<tr><th></th><th scope=col>country</th><th scope=col>year</th><th scope=col>gdp_pc</th></tr>\n",
       "\t<tr><th></th><th scope=col>&lt;chr&gt;</th><th scope=col>&lt;dbl&gt;</th><th scope=col>&lt;dbl&gt;</th></tr>\n",
       "</thead>\n",
       "<tbody>\n",
       "\t<tr><th scope=row>1</th><td>USA  </td><td>1994</td><td> 9196</td></tr>\n",
       "\t<tr><th scope=row>2</th><td>China</td><td>1994</td><td>19360</td></tr>\n",
       "\t<tr><th scope=row>3</th><td>Sudan</td><td>1994</td><td> 9985</td></tr>\n",
       "\t<tr><th scope=row>4</th><td>USA  </td><td>1995</td><td> 1722</td></tr>\n",
       "\t<tr><th scope=row>5</th><td>China</td><td>1995</td><td> 2201</td></tr>\n",
       "\t<tr><th scope=row>6</th><td>Sudan</td><td>1995</td><td> 2256</td></tr>\n",
       "</tbody>\n",
       "</table>\n"
      ],
      "text/latex": [
       "A data.frame: 6 × 3\n",
       "\\begin{tabular}{r|lll}\n",
       "  & country & year & gdp\\_pc\\\\\n",
       "  & <chr> & <dbl> & <dbl>\\\\\n",
       "\\hline\n",
       "\t1 & USA   & 1994 &  9196\\\\\n",
       "\t2 & China & 1994 & 19360\\\\\n",
       "\t3 & Sudan & 1994 &  9985\\\\\n",
       "\t4 & USA   & 1995 &  1722\\\\\n",
       "\t5 & China & 1995 &  2201\\\\\n",
       "\t6 & Sudan & 1995 &  2256\\\\\n",
       "\\end{tabular}\n"
      ],
      "text/markdown": [
       "\n",
       "A data.frame: 6 × 3\n",
       "\n",
       "| <!--/--> | country &lt;chr&gt; | year &lt;dbl&gt; | gdp_pc &lt;dbl&gt; |\n",
       "|---|---|---|---|\n",
       "| 1 | USA   | 1994 |  9196 |\n",
       "| 2 | China | 1994 | 19360 |\n",
       "| 3 | Sudan | 1994 |  9985 |\n",
       "| 4 | USA   | 1995 |  1722 |\n",
       "| 5 | China | 1995 |  2201 |\n",
       "| 6 | Sudan | 1995 |  2256 |\n",
       "\n"
      ],
      "text/plain": [
       "  country year gdp_pc\n",
       "1 USA     1994  9196 \n",
       "2 China   1994 19360 \n",
       "3 Sudan   1994  9985 \n",
       "4 USA     1995  1722 \n",
       "5 China   1995  2201 \n",
       "6 Sudan   1995  2256 "
      ]
     },
     "metadata": {},
     "output_type": "display_data"
    }
   ],
   "source": [
    "head(countries)"
   ]
  },
  {
   "cell_type": "code",
   "execution_count": 11,
   "id": "29b7715b",
   "metadata": {},
   "outputs": [
    {
     "data": {
      "text/html": [
       "<table class=\"dataframe\">\n",
       "<caption>A data.frame: 6 × 3</caption>\n",
       "<thead>\n",
       "\t<tr><th></th><th scope=col>country</th><th scope=col>year</th><th scope=col>gdp_pc</th></tr>\n",
       "\t<tr><th></th><th scope=col>&lt;chr&gt;</th><th scope=col>&lt;dbl&gt;</th><th scope=col>&lt;dbl&gt;</th></tr>\n",
       "</thead>\n",
       "<tbody>\n",
       "\t<tr><th scope=row>4</th><td>USA  </td><td>1995</td><td> 1722</td></tr>\n",
       "\t<tr><th scope=row>5</th><td>China</td><td>1995</td><td> 2201</td></tr>\n",
       "\t<tr><th scope=row>6</th><td>Sudan</td><td>1995</td><td> 2256</td></tr>\n",
       "\t<tr><th scope=row>7</th><td>USA  </td><td>1996</td><td> 6119</td></tr>\n",
       "\t<tr><th scope=row>8</th><td>China</td><td>1996</td><td>13931</td></tr>\n",
       "\t<tr><th scope=row>9</th><td>Sudan</td><td>1996</td><td>15336</td></tr>\n",
       "</tbody>\n",
       "</table>\n"
      ],
      "text/latex": [
       "A data.frame: 6 × 3\n",
       "\\begin{tabular}{r|lll}\n",
       "  & country & year & gdp\\_pc\\\\\n",
       "  & <chr> & <dbl> & <dbl>\\\\\n",
       "\\hline\n",
       "\t4 & USA   & 1995 &  1722\\\\\n",
       "\t5 & China & 1995 &  2201\\\\\n",
       "\t6 & Sudan & 1995 &  2256\\\\\n",
       "\t7 & USA   & 1996 &  6119\\\\\n",
       "\t8 & China & 1996 & 13931\\\\\n",
       "\t9 & Sudan & 1996 & 15336\\\\\n",
       "\\end{tabular}\n"
      ],
      "text/markdown": [
       "\n",
       "A data.frame: 6 × 3\n",
       "\n",
       "| <!--/--> | country &lt;chr&gt; | year &lt;dbl&gt; | gdp_pc &lt;dbl&gt; |\n",
       "|---|---|---|---|\n",
       "| 4 | USA   | 1995 |  1722 |\n",
       "| 5 | China | 1995 |  2201 |\n",
       "| 6 | Sudan | 1995 |  2256 |\n",
       "| 7 | USA   | 1996 |  6119 |\n",
       "| 8 | China | 1996 | 13931 |\n",
       "| 9 | Sudan | 1996 | 15336 |\n",
       "\n"
      ],
      "text/plain": [
       "  country year gdp_pc\n",
       "4 USA     1995  1722 \n",
       "5 China   1995  2201 \n",
       "6 Sudan   1995  2256 \n",
       "7 USA     1996  6119 \n",
       "8 China   1996 13931 \n",
       "9 Sudan   1996 15336 "
      ]
     },
     "metadata": {},
     "output_type": "display_data"
    }
   ],
   "source": [
    "tail(countries)"
   ]
  },
  {
   "cell_type": "markdown",
   "id": "bd349d9b",
   "metadata": {},
   "source": [
    "Other useful commands to get to know variables better include `summary()`,\n",
    "`table()`, and `prop.table()`. "
   ]
  },
  {
   "cell_type": "code",
   "execution_count": 12,
   "id": "bcbdd3af",
   "metadata": {},
   "outputs": [
    {
     "data": {
      "text/plain": [
       "   country               year          gdp_pc     \n",
       " Length:9           Min.   :1994   Min.   : 1722  \n",
       " Class :character   1st Qu.:1994   1st Qu.: 2256  \n",
       " Mode  :character   Median :1995   Median : 9196  \n",
       "                    Mean   :1995   Mean   : 8901  \n",
       "                    3rd Qu.:1996   3rd Qu.:13931  \n",
       "                    Max.   :1996   Max.   :19360  "
      ]
     },
     "metadata": {},
     "output_type": "display_data"
    }
   ],
   "source": [
    "# Get some summary information about each variable\n",
    "summary(countries)"
   ]
  },
  {
   "cell_type": "code",
   "execution_count": 13,
   "id": "484d096a",
   "metadata": {},
   "outputs": [
    {
     "data": {
      "text/plain": [
       "\n",
       "China Sudan   USA \n",
       "    3     3     3 "
      ]
     },
     "metadata": {},
     "output_type": "display_data"
    }
   ],
   "source": [
    "# Number of observations by country \n",
    "table(countries$country)"
   ]
  },
  {
   "cell_type": "code",
   "execution_count": 14,
   "id": "b19b2aff",
   "metadata": {},
   "outputs": [
    {
     "data": {
      "text/plain": [
       "\n",
       "    China     Sudan       USA \n",
       "0.3333333 0.3333333 0.3333333 "
      ]
     },
     "metadata": {},
     "output_type": "display_data"
    }
   ],
   "source": [
    "# Proportion of observations by country \n",
    "prop.table(table(countries$country))"
   ]
  },
  {
   "cell_type": "markdown",
   "id": "16d8a0dd",
   "metadata": {},
   "source": [
    "## Subsetting\n",
    "\n",
    "Subsetting dataframes works almost exactly like subsetting matrices:"
   ]
  },
  {
   "cell_type": "code",
   "execution_count": 15,
   "id": "34ef056a",
   "metadata": {},
   "outputs": [
    {
     "data": {
      "text/html": [
       "<table class=\"dataframe\">\n",
       "<caption>A data.frame: 1 × 2</caption>\n",
       "<thead>\n",
       "\t<tr><th></th><th scope=col>year</th><th scope=col>gdp_pc</th></tr>\n",
       "\t<tr><th></th><th scope=col>&lt;dbl&gt;</th><th scope=col>&lt;dbl&gt;</th></tr>\n",
       "</thead>\n",
       "<tbody>\n",
       "\t<tr><th scope=row>2</th><td>1994</td><td>19360</td></tr>\n",
       "</tbody>\n",
       "</table>\n"
      ],
      "text/latex": [
       "A data.frame: 1 × 2\n",
       "\\begin{tabular}{r|ll}\n",
       "  & year & gdp\\_pc\\\\\n",
       "  & <dbl> & <dbl>\\\\\n",
       "\\hline\n",
       "\t2 & 1994 & 19360\\\\\n",
       "\\end{tabular}\n"
      ],
      "text/markdown": [
       "\n",
       "A data.frame: 1 × 2\n",
       "\n",
       "| <!--/--> | year &lt;dbl&gt; | gdp_pc &lt;dbl&gt; |\n",
       "|---|---|---|\n",
       "| 2 | 1994 | 19360 |\n",
       "\n"
      ],
      "text/plain": [
       "  year gdp_pc\n",
       "2 1994 19360 "
      ]
     },
     "metadata": {},
     "output_type": "display_data"
    }
   ],
   "source": [
    "# Subset by index\n",
    "countries[2, c(2, 3)]"
   ]
  },
  {
   "cell_type": "code",
   "execution_count": 16,
   "id": "98b3ee1d",
   "metadata": {},
   "outputs": [
    {
     "data": {
      "text/html": [
       "<table class=\"dataframe\">\n",
       "<caption>A data.frame: 1 × 3</caption>\n",
       "<thead>\n",
       "\t<tr><th></th><th scope=col>country</th><th scope=col>year</th><th scope=col>gdp_pc</th></tr>\n",
       "\t<tr><th></th><th scope=col>&lt;chr&gt;</th><th scope=col>&lt;dbl&gt;</th><th scope=col>&lt;dbl&gt;</th></tr>\n",
       "</thead>\n",
       "<tbody>\n",
       "\t<tr><th scope=row>5</th><td>China</td><td>1995</td><td>2201</td></tr>\n",
       "</tbody>\n",
       "</table>\n"
      ],
      "text/latex": [
       "A data.frame: 1 × 3\n",
       "\\begin{tabular}{r|lll}\n",
       "  & country & year & gdp\\_pc\\\\\n",
       "  & <chr> & <dbl> & <dbl>\\\\\n",
       "\\hline\n",
       "\t5 & China & 1995 & 2201\\\\\n",
       "\\end{tabular}\n"
      ],
      "text/markdown": [
       "\n",
       "A data.frame: 1 × 3\n",
       "\n",
       "| <!--/--> | country &lt;chr&gt; | year &lt;dbl&gt; | gdp_pc &lt;dbl&gt; |\n",
       "|---|---|---|---|\n",
       "| 5 | China | 1995 | 2201 |\n",
       "\n"
      ],
      "text/plain": [
       "  country year gdp_pc\n",
       "5 China   1995 2201  "
      ]
     },
     "metadata": {},
     "output_type": "display_data"
    }
   ],
   "source": [
    "# Access entire row 5\n",
    "countries[5, ]\n"
   ]
  },
  {
   "cell_type": "markdown",
   "id": "ef4ffe96",
   "metadata": {},
   "source": [
    "In general, though, accessing columns by index tends to be dangerous. That's because if you ever modify the data you're working with in the code above where you use an index, it might cause a column to move into a different position. \n",
    "\n",
    "For this reason, it's usually better to access columns using column names. "
   ]
  },
  {
   "cell_type": "code",
   "execution_count": 17,
   "id": "3679f704",
   "metadata": {
    "lines_to_next_cell": 0
   },
   "outputs": [
    {
     "data": {
      "text/html": [
       "<style>\n",
       ".list-inline {list-style: none; margin:0; padding: 0}\n",
       ".list-inline>li {display: inline-block}\n",
       ".list-inline>li:not(:last-child)::after {content: \"\\00b7\"; padding: 0 .5ex}\n",
       "</style>\n",
       "<ol class=list-inline><li>1994</li><li>1994</li><li>1994</li><li>1995</li><li>1995</li><li>1995</li><li>1996</li><li>1996</li><li>1996</li></ol>\n"
      ],
      "text/latex": [
       "\\begin{enumerate*}\n",
       "\\item 1994\n",
       "\\item 1994\n",
       "\\item 1994\n",
       "\\item 1995\n",
       "\\item 1995\n",
       "\\item 1995\n",
       "\\item 1996\n",
       "\\item 1996\n",
       "\\item 1996\n",
       "\\end{enumerate*}\n"
      ],
      "text/markdown": [
       "1. 1994\n",
       "2. 1994\n",
       "3. 1994\n",
       "4. 1995\n",
       "5. 1995\n",
       "6. 1995\n",
       "7. 1996\n",
       "8. 1996\n",
       "9. 1996\n",
       "\n",
       "\n"
      ],
      "text/plain": [
       "[1] 1994 1994 1994 1995 1995 1995 1996 1996 1996"
      ]
     },
     "metadata": {},
     "output_type": "display_data"
    },
    {
     "data": {
      "text/html": [
       "<style>\n",
       ".list-inline {list-style: none; margin:0; padding: 0}\n",
       ".list-inline>li {display: inline-block}\n",
       ".list-inline>li:not(:last-child)::after {content: \"\\00b7\"; padding: 0 .5ex}\n",
       "</style>\n",
       "<ol class=list-inline><li>1994</li><li>1994</li><li>1994</li><li>1995</li><li>1995</li><li>1995</li><li>1996</li><li>1996</li><li>1996</li></ol>\n"
      ],
      "text/latex": [
       "\\begin{enumerate*}\n",
       "\\item 1994\n",
       "\\item 1994\n",
       "\\item 1994\n",
       "\\item 1995\n",
       "\\item 1995\n",
       "\\item 1995\n",
       "\\item 1996\n",
       "\\item 1996\n",
       "\\item 1996\n",
       "\\end{enumerate*}\n"
      ],
      "text/markdown": [
       "1. 1994\n",
       "2. 1994\n",
       "3. 1994\n",
       "4. 1995\n",
       "5. 1995\n",
       "6. 1995\n",
       "7. 1996\n",
       "8. 1996\n",
       "9. 1996\n",
       "\n",
       "\n"
      ],
      "text/plain": [
       "[1] 1994 1994 1994 1995 1995 1995 1996 1996 1996"
      ]
     },
     "metadata": {},
     "output_type": "display_data"
    }
   ],
   "source": [
    "# Access a column using column/variable name (two equivalent approaches)\n",
    "countries$year\n",
    "countries[, \"year\"]"
   ]
  },
  {
   "cell_type": "markdown",
   "id": "d2b9c91d",
   "metadata": {},
   "source": [
    "**NOTE:** Normally you'd save these results!\n",
    "\n",
    "The only reason I'm not saving these subsets is so you can see the output of without extra lines of code.\n",
    "\n",
    "Normally, you'd wan to save your subsets -- by assigning them to a new variable -- so you can continue to analyze or manipulate them."
   ]
  },
  {
   "cell_type": "markdown",
   "id": "b175c239",
   "metadata": {},
   "source": [
    "Similarly, to access rows, it's best to use a logical statement rather than row numbers (in case at some point you change the way your data is sorted):"
   ]
  },
  {
   "cell_type": "code",
   "execution_count": 18,
   "id": "07a62514",
   "metadata": {
    "lines_to_next_cell": 0
   },
   "outputs": [
    {
     "data": {
      "text/html": [
       "<table class=\"dataframe\">\n",
       "<caption>A data.frame: 1 × 3</caption>\n",
       "<thead>\n",
       "\t<tr><th></th><th scope=col>country</th><th scope=col>year</th><th scope=col>gdp_pc</th></tr>\n",
       "\t<tr><th></th><th scope=col>&lt;chr&gt;</th><th scope=col>&lt;dbl&gt;</th><th scope=col>&lt;dbl&gt;</th></tr>\n",
       "</thead>\n",
       "<tbody>\n",
       "\t<tr><th scope=row>4</th><td>USA</td><td>1995</td><td>1722</td></tr>\n",
       "</tbody>\n",
       "</table>\n"
      ],
      "text/latex": [
       "A data.frame: 1 × 3\n",
       "\\begin{tabular}{r|lll}\n",
       "  & country & year & gdp\\_pc\\\\\n",
       "  & <chr> & <dbl> & <dbl>\\\\\n",
       "\\hline\n",
       "\t4 & USA & 1995 & 1722\\\\\n",
       "\\end{tabular}\n"
      ],
      "text/markdown": [
       "\n",
       "A data.frame: 1 × 3\n",
       "\n",
       "| <!--/--> | country &lt;chr&gt; | year &lt;dbl&gt; | gdp_pc &lt;dbl&gt; |\n",
       "|---|---|---|---|\n",
       "| 4 | USA | 1995 | 1722 |\n",
       "\n"
      ],
      "text/plain": [
       "  country year gdp_pc\n",
       "4 USA     1995 1722  "
      ]
     },
     "metadata": {},
     "output_type": "display_data"
    }
   ],
   "source": [
    "countries[countries$year == 1995 & countries$country == \"USA\", ]"
   ]
  },
  {
   "cell_type": "markdown",
   "id": "50843020",
   "metadata": {},
   "source": [
    "## Modifying DataFrames\n",
    "\n",
    "As with matrices, we can use subsetting to make modifications to our dataframes. For example, suppose, as with our matrix version, we wanted to multiple GDP per capita by 1.02 to adjust for inflation. We could either do:"
   ]
  },
  {
   "cell_type": "code",
   "execution_count": 19,
   "id": "52329937",
   "metadata": {},
   "outputs": [],
   "source": [
    "countries[, \"gdp_pc\"] <- countries[,\"gdp_pc\"] * 1.02"
   ]
  },
  {
   "cell_type": "markdown",
   "id": "af0d7f08",
   "metadata": {},
   "source": [
    "Or"
   ]
  },
  {
   "cell_type": "code",
   "execution_count": 20,
   "id": "200f94b2",
   "metadata": {},
   "outputs": [],
   "source": [
    "countries$gdp_pc <- countries$gdp_pc * 1.02"
   ]
  },
  {
   "cell_type": "markdown",
   "id": "98d451c4",
   "metadata": {},
   "source": [
    "Or, if we wanted to keep both the original `gdp_pc` column and add a *new* column with the inflation adjusted values, we can do so just by using a new column name when we assign our values back into the dataframe:"
   ]
  },
  {
   "cell_type": "code",
   "execution_count": 21,
   "id": "4e1ec0fd",
   "metadata": {},
   "outputs": [
    {
     "data": {
      "text/html": [
       "<table class=\"dataframe\">\n",
       "<caption>A data.frame: 9 × 3</caption>\n",
       "<thead>\n",
       "\t<tr><th scope=col>country</th><th scope=col>year</th><th scope=col>gdp_pc</th></tr>\n",
       "\t<tr><th scope=col>&lt;chr&gt;</th><th scope=col>&lt;dbl&gt;</th><th scope=col>&lt;dbl&gt;</th></tr>\n",
       "</thead>\n",
       "<tbody>\n",
       "\t<tr><td>USA  </td><td>1994</td><td> 9196</td></tr>\n",
       "\t<tr><td>China</td><td>1994</td><td>19360</td></tr>\n",
       "\t<tr><td>Sudan</td><td>1994</td><td> 9985</td></tr>\n",
       "\t<tr><td>USA  </td><td>1995</td><td> 1722</td></tr>\n",
       "\t<tr><td>China</td><td>1995</td><td> 2201</td></tr>\n",
       "\t<tr><td>Sudan</td><td>1995</td><td> 2256</td></tr>\n",
       "\t<tr><td>USA  </td><td>1996</td><td> 6119</td></tr>\n",
       "\t<tr><td>China</td><td>1996</td><td>13931</td></tr>\n",
       "\t<tr><td>Sudan</td><td>1996</td><td>15336</td></tr>\n",
       "</tbody>\n",
       "</table>\n"
      ],
      "text/latex": [
       "A data.frame: 9 × 3\n",
       "\\begin{tabular}{lll}\n",
       " country & year & gdp\\_pc\\\\\n",
       " <chr> & <dbl> & <dbl>\\\\\n",
       "\\hline\n",
       "\t USA   & 1994 &  9196\\\\\n",
       "\t China & 1994 & 19360\\\\\n",
       "\t Sudan & 1994 &  9985\\\\\n",
       "\t USA   & 1995 &  1722\\\\\n",
       "\t China & 1995 &  2201\\\\\n",
       "\t Sudan & 1995 &  2256\\\\\n",
       "\t USA   & 1996 &  6119\\\\\n",
       "\t China & 1996 & 13931\\\\\n",
       "\t Sudan & 1996 & 15336\\\\\n",
       "\\end{tabular}\n"
      ],
      "text/markdown": [
       "\n",
       "A data.frame: 9 × 3\n",
       "\n",
       "| country &lt;chr&gt; | year &lt;dbl&gt; | gdp_pc &lt;dbl&gt; |\n",
       "|---|---|---|\n",
       "| USA   | 1994 |  9196 |\n",
       "| China | 1994 | 19360 |\n",
       "| Sudan | 1994 |  9985 |\n",
       "| USA   | 1995 |  1722 |\n",
       "| China | 1995 |  2201 |\n",
       "| Sudan | 1995 |  2256 |\n",
       "| USA   | 1996 |  6119 |\n",
       "| China | 1996 | 13931 |\n",
       "| Sudan | 1996 | 15336 |\n",
       "\n"
      ],
      "text/plain": [
       "  country year gdp_pc\n",
       "1 USA     1994  9196 \n",
       "2 China   1994 19360 \n",
       "3 Sudan   1994  9985 \n",
       "4 USA     1995  1722 \n",
       "5 China   1995  2201 \n",
       "6 Sudan   1995  2256 \n",
       "7 USA     1996  6119 \n",
       "8 China   1996 13931 \n",
       "9 Sudan   1996 15336 "
      ]
     },
     "metadata": {},
     "output_type": "display_data"
    }
   ],
   "source": [
    "# re-create with original gdp_pc \n",
    "countries <- data.frame(country, year, gdp_pc)\n",
    "countries"
   ]
  },
  {
   "cell_type": "code",
   "execution_count": 22,
   "id": "1a8c2067",
   "metadata": {},
   "outputs": [
    {
     "data": {
      "text/html": [
       "<table class=\"dataframe\">\n",
       "<caption>A data.frame: 9 × 4</caption>\n",
       "<thead>\n",
       "\t<tr><th scope=col>country</th><th scope=col>year</th><th scope=col>gdp_pc</th><th scope=col>adjusted_gdp_pc</th></tr>\n",
       "\t<tr><th scope=col>&lt;chr&gt;</th><th scope=col>&lt;dbl&gt;</th><th scope=col>&lt;dbl&gt;</th><th scope=col>&lt;dbl&gt;</th></tr>\n",
       "</thead>\n",
       "<tbody>\n",
       "\t<tr><td>USA  </td><td>1994</td><td> 9196</td><td> 9379.92</td></tr>\n",
       "\t<tr><td>China</td><td>1994</td><td>19360</td><td>19747.20</td></tr>\n",
       "\t<tr><td>Sudan</td><td>1994</td><td> 9985</td><td>10184.70</td></tr>\n",
       "\t<tr><td>USA  </td><td>1995</td><td> 1722</td><td> 1756.44</td></tr>\n",
       "\t<tr><td>China</td><td>1995</td><td> 2201</td><td> 2245.02</td></tr>\n",
       "\t<tr><td>Sudan</td><td>1995</td><td> 2256</td><td> 2301.12</td></tr>\n",
       "\t<tr><td>USA  </td><td>1996</td><td> 6119</td><td> 6241.38</td></tr>\n",
       "\t<tr><td>China</td><td>1996</td><td>13931</td><td>14209.62</td></tr>\n",
       "\t<tr><td>Sudan</td><td>1996</td><td>15336</td><td>15642.72</td></tr>\n",
       "</tbody>\n",
       "</table>\n"
      ],
      "text/latex": [
       "A data.frame: 9 × 4\n",
       "\\begin{tabular}{llll}\n",
       " country & year & gdp\\_pc & adjusted\\_gdp\\_pc\\\\\n",
       " <chr> & <dbl> & <dbl> & <dbl>\\\\\n",
       "\\hline\n",
       "\t USA   & 1994 &  9196 &  9379.92\\\\\n",
       "\t China & 1994 & 19360 & 19747.20\\\\\n",
       "\t Sudan & 1994 &  9985 & 10184.70\\\\\n",
       "\t USA   & 1995 &  1722 &  1756.44\\\\\n",
       "\t China & 1995 &  2201 &  2245.02\\\\\n",
       "\t Sudan & 1995 &  2256 &  2301.12\\\\\n",
       "\t USA   & 1996 &  6119 &  6241.38\\\\\n",
       "\t China & 1996 & 13931 & 14209.62\\\\\n",
       "\t Sudan & 1996 & 15336 & 15642.72\\\\\n",
       "\\end{tabular}\n"
      ],
      "text/markdown": [
       "\n",
       "A data.frame: 9 × 4\n",
       "\n",
       "| country &lt;chr&gt; | year &lt;dbl&gt; | gdp_pc &lt;dbl&gt; | adjusted_gdp_pc &lt;dbl&gt; |\n",
       "|---|---|---|---|\n",
       "| USA   | 1994 |  9196 |  9379.92 |\n",
       "| China | 1994 | 19360 | 19747.20 |\n",
       "| Sudan | 1994 |  9985 | 10184.70 |\n",
       "| USA   | 1995 |  1722 |  1756.44 |\n",
       "| China | 1995 |  2201 |  2245.02 |\n",
       "| Sudan | 1995 |  2256 |  2301.12 |\n",
       "| USA   | 1996 |  6119 |  6241.38 |\n",
       "| China | 1996 | 13931 | 14209.62 |\n",
       "| Sudan | 1996 | 15336 | 15642.72 |\n",
       "\n"
      ],
      "text/plain": [
       "  country year gdp_pc adjusted_gdp_pc\n",
       "1 USA     1994  9196   9379.92       \n",
       "2 China   1994 19360  19747.20       \n",
       "3 Sudan   1994  9985  10184.70       \n",
       "4 USA     1995  1722   1756.44       \n",
       "5 China   1995  2201   2245.02       \n",
       "6 Sudan   1995  2256   2301.12       \n",
       "7 USA     1996  6119   6241.38       \n",
       "8 China   1996 13931  14209.62       \n",
       "9 Sudan   1996 15336  15642.72       "
      ]
     },
     "metadata": {},
     "output_type": "display_data"
    }
   ],
   "source": [
    "# Add new column\n",
    "countries$adjusted_gdp_pc <- countries$gdp_pc * 1.02\n",
    "countries"
   ]
  },
  {
   "cell_type": "markdown",
   "id": "87c5d30e",
   "metadata": {},
   "source": [
    "And if we then wanted to *drop* the old column later, we could do so in one of two ways: we can subset for the other columns by name:"
   ]
  },
  {
   "cell_type": "code",
   "execution_count": 23,
   "id": "18811005",
   "metadata": {},
   "outputs": [
    {
     "data": {
      "text/html": [
       "<table class=\"dataframe\">\n",
       "<caption>A data.frame: 9 × 3</caption>\n",
       "<thead>\n",
       "\t<tr><th scope=col>country</th><th scope=col>year</th><th scope=col>adjusted_gdp_pc</th></tr>\n",
       "\t<tr><th scope=col>&lt;chr&gt;</th><th scope=col>&lt;dbl&gt;</th><th scope=col>&lt;dbl&gt;</th></tr>\n",
       "</thead>\n",
       "<tbody>\n",
       "\t<tr><td>USA  </td><td>1994</td><td> 9379.92</td></tr>\n",
       "\t<tr><td>China</td><td>1994</td><td>19747.20</td></tr>\n",
       "\t<tr><td>Sudan</td><td>1994</td><td>10184.70</td></tr>\n",
       "\t<tr><td>USA  </td><td>1995</td><td> 1756.44</td></tr>\n",
       "\t<tr><td>China</td><td>1995</td><td> 2245.02</td></tr>\n",
       "\t<tr><td>Sudan</td><td>1995</td><td> 2301.12</td></tr>\n",
       "\t<tr><td>USA  </td><td>1996</td><td> 6241.38</td></tr>\n",
       "\t<tr><td>China</td><td>1996</td><td>14209.62</td></tr>\n",
       "\t<tr><td>Sudan</td><td>1996</td><td>15642.72</td></tr>\n",
       "</tbody>\n",
       "</table>\n"
      ],
      "text/latex": [
       "A data.frame: 9 × 3\n",
       "\\begin{tabular}{lll}\n",
       " country & year & adjusted\\_gdp\\_pc\\\\\n",
       " <chr> & <dbl> & <dbl>\\\\\n",
       "\\hline\n",
       "\t USA   & 1994 &  9379.92\\\\\n",
       "\t China & 1994 & 19747.20\\\\\n",
       "\t Sudan & 1994 & 10184.70\\\\\n",
       "\t USA   & 1995 &  1756.44\\\\\n",
       "\t China & 1995 &  2245.02\\\\\n",
       "\t Sudan & 1995 &  2301.12\\\\\n",
       "\t USA   & 1996 &  6241.38\\\\\n",
       "\t China & 1996 & 14209.62\\\\\n",
       "\t Sudan & 1996 & 15642.72\\\\\n",
       "\\end{tabular}\n"
      ],
      "text/markdown": [
       "\n",
       "A data.frame: 9 × 3\n",
       "\n",
       "| country &lt;chr&gt; | year &lt;dbl&gt; | adjusted_gdp_pc &lt;dbl&gt; |\n",
       "|---|---|---|\n",
       "| USA   | 1994 |  9379.92 |\n",
       "| China | 1994 | 19747.20 |\n",
       "| Sudan | 1994 | 10184.70 |\n",
       "| USA   | 1995 |  1756.44 |\n",
       "| China | 1995 |  2245.02 |\n",
       "| Sudan | 1995 |  2301.12 |\n",
       "| USA   | 1996 |  6241.38 |\n",
       "| China | 1996 | 14209.62 |\n",
       "| Sudan | 1996 | 15642.72 |\n",
       "\n"
      ],
      "text/plain": [
       "  country year adjusted_gdp_pc\n",
       "1 USA     1994  9379.92       \n",
       "2 China   1994 19747.20       \n",
       "3 Sudan   1994 10184.70       \n",
       "4 USA     1995  1756.44       \n",
       "5 China   1995  2245.02       \n",
       "6 Sudan   1995  2301.12       \n",
       "7 USA     1996  6241.38       \n",
       "8 China   1996 14209.62       \n",
       "9 Sudan   1996 15642.72       "
      ]
     },
     "metadata": {},
     "output_type": "display_data"
    }
   ],
   "source": [
    "countries[, c(\"country\", \"year\", \"adjusted_gdp_pc\")]"
   ]
  },
  {
   "cell_type": "markdown",
   "id": "1a780b4a",
   "metadata": {},
   "source": [
    "Or we can use this trick:"
   ]
  },
  {
   "cell_type": "code",
   "execution_count": 24,
   "id": "1566714f",
   "metadata": {},
   "outputs": [
    {
     "data": {
      "text/html": [
       "<table class=\"dataframe\">\n",
       "<caption>A data.frame: 9 × 3</caption>\n",
       "<thead>\n",
       "\t<tr><th scope=col>country</th><th scope=col>year</th><th scope=col>adjusted_gdp_pc</th></tr>\n",
       "\t<tr><th scope=col>&lt;chr&gt;</th><th scope=col>&lt;dbl&gt;</th><th scope=col>&lt;dbl&gt;</th></tr>\n",
       "</thead>\n",
       "<tbody>\n",
       "\t<tr><td>USA  </td><td>1994</td><td> 9379.92</td></tr>\n",
       "\t<tr><td>China</td><td>1994</td><td>19747.20</td></tr>\n",
       "\t<tr><td>Sudan</td><td>1994</td><td>10184.70</td></tr>\n",
       "\t<tr><td>USA  </td><td>1995</td><td> 1756.44</td></tr>\n",
       "\t<tr><td>China</td><td>1995</td><td> 2245.02</td></tr>\n",
       "\t<tr><td>Sudan</td><td>1995</td><td> 2301.12</td></tr>\n",
       "\t<tr><td>USA  </td><td>1996</td><td> 6241.38</td></tr>\n",
       "\t<tr><td>China</td><td>1996</td><td>14209.62</td></tr>\n",
       "\t<tr><td>Sudan</td><td>1996</td><td>15642.72</td></tr>\n",
       "</tbody>\n",
       "</table>\n"
      ],
      "text/latex": [
       "A data.frame: 9 × 3\n",
       "\\begin{tabular}{lll}\n",
       " country & year & adjusted\\_gdp\\_pc\\\\\n",
       " <chr> & <dbl> & <dbl>\\\\\n",
       "\\hline\n",
       "\t USA   & 1994 &  9379.92\\\\\n",
       "\t China & 1994 & 19747.20\\\\\n",
       "\t Sudan & 1994 & 10184.70\\\\\n",
       "\t USA   & 1995 &  1756.44\\\\\n",
       "\t China & 1995 &  2245.02\\\\\n",
       "\t Sudan & 1995 &  2301.12\\\\\n",
       "\t USA   & 1996 &  6241.38\\\\\n",
       "\t China & 1996 & 14209.62\\\\\n",
       "\t Sudan & 1996 & 15642.72\\\\\n",
       "\\end{tabular}\n"
      ],
      "text/markdown": [
       "\n",
       "A data.frame: 9 × 3\n",
       "\n",
       "| country &lt;chr&gt; | year &lt;dbl&gt; | adjusted_gdp_pc &lt;dbl&gt; |\n",
       "|---|---|---|\n",
       "| USA   | 1994 |  9379.92 |\n",
       "| China | 1994 | 19747.20 |\n",
       "| Sudan | 1994 | 10184.70 |\n",
       "| USA   | 1995 |  1756.44 |\n",
       "| China | 1995 |  2245.02 |\n",
       "| Sudan | 1995 |  2301.12 |\n",
       "| USA   | 1996 |  6241.38 |\n",
       "| China | 1996 | 14209.62 |\n",
       "| Sudan | 1996 | 15642.72 |\n",
       "\n"
      ],
      "text/plain": [
       "  country year adjusted_gdp_pc\n",
       "1 USA     1994  9379.92       \n",
       "2 China   1994 19747.20       \n",
       "3 Sudan   1994 10184.70       \n",
       "4 USA     1995  1756.44       \n",
       "5 China   1995  2245.02       \n",
       "6 Sudan   1995  2301.12       \n",
       "7 USA     1996  6241.38       \n",
       "8 China   1996 14209.62       \n",
       "9 Sudan   1996 15642.72       "
      ]
     },
     "metadata": {},
     "output_type": "display_data"
    }
   ],
   "source": [
    "countries$gdp_pc <- NULL \n",
    "countries"
   ]
  },
  {
   "cell_type": "markdown",
   "id": "3942f757",
   "metadata": {},
   "source": [
    "## Sorting Data\n",
    "\n",
    "We can also easily sort dataframes with the `order` command:"
   ]
  },
  {
   "cell_type": "code",
   "execution_count": 27,
   "id": "48d4e7a5",
   "metadata": {},
   "outputs": [
    {
     "data": {
      "text/html": [
       "<table class=\"dataframe\">\n",
       "<caption>A data.frame: 9 × 3</caption>\n",
       "<thead>\n",
       "\t<tr><th></th><th scope=col>country</th><th scope=col>year</th><th scope=col>adjusted_gdp_pc</th></tr>\n",
       "\t<tr><th></th><th scope=col>&lt;chr&gt;</th><th scope=col>&lt;dbl&gt;</th><th scope=col>&lt;dbl&gt;</th></tr>\n",
       "</thead>\n",
       "<tbody>\n",
       "\t<tr><th scope=row>4</th><td>USA  </td><td>1995</td><td> 1756.44</td></tr>\n",
       "\t<tr><th scope=row>5</th><td>China</td><td>1995</td><td> 2245.02</td></tr>\n",
       "\t<tr><th scope=row>6</th><td>Sudan</td><td>1995</td><td> 2301.12</td></tr>\n",
       "\t<tr><th scope=row>7</th><td>USA  </td><td>1996</td><td> 6241.38</td></tr>\n",
       "\t<tr><th scope=row>1</th><td>USA  </td><td>1994</td><td> 9379.92</td></tr>\n",
       "\t<tr><th scope=row>3</th><td>Sudan</td><td>1994</td><td>10184.70</td></tr>\n",
       "\t<tr><th scope=row>8</th><td>China</td><td>1996</td><td>14209.62</td></tr>\n",
       "\t<tr><th scope=row>9</th><td>Sudan</td><td>1996</td><td>15642.72</td></tr>\n",
       "\t<tr><th scope=row>2</th><td>China</td><td>1994</td><td>19747.20</td></tr>\n",
       "</tbody>\n",
       "</table>\n"
      ],
      "text/latex": [
       "A data.frame: 9 × 3\n",
       "\\begin{tabular}{r|lll}\n",
       "  & country & year & adjusted\\_gdp\\_pc\\\\\n",
       "  & <chr> & <dbl> & <dbl>\\\\\n",
       "\\hline\n",
       "\t4 & USA   & 1995 &  1756.44\\\\\n",
       "\t5 & China & 1995 &  2245.02\\\\\n",
       "\t6 & Sudan & 1995 &  2301.12\\\\\n",
       "\t7 & USA   & 1996 &  6241.38\\\\\n",
       "\t1 & USA   & 1994 &  9379.92\\\\\n",
       "\t3 & Sudan & 1994 & 10184.70\\\\\n",
       "\t8 & China & 1996 & 14209.62\\\\\n",
       "\t9 & Sudan & 1996 & 15642.72\\\\\n",
       "\t2 & China & 1994 & 19747.20\\\\\n",
       "\\end{tabular}\n"
      ],
      "text/markdown": [
       "\n",
       "A data.frame: 9 × 3\n",
       "\n",
       "| <!--/--> | country &lt;chr&gt; | year &lt;dbl&gt; | adjusted_gdp_pc &lt;dbl&gt; |\n",
       "|---|---|---|---|\n",
       "| 4 | USA   | 1995 |  1756.44 |\n",
       "| 5 | China | 1995 |  2245.02 |\n",
       "| 6 | Sudan | 1995 |  2301.12 |\n",
       "| 7 | USA   | 1996 |  6241.38 |\n",
       "| 1 | USA   | 1994 |  9379.92 |\n",
       "| 3 | Sudan | 1994 | 10184.70 |\n",
       "| 8 | China | 1996 | 14209.62 |\n",
       "| 9 | Sudan | 1996 | 15642.72 |\n",
       "| 2 | China | 1994 | 19747.20 |\n",
       "\n"
      ],
      "text/plain": [
       "  country year adjusted_gdp_pc\n",
       "4 USA     1995  1756.44       \n",
       "5 China   1995  2245.02       \n",
       "6 Sudan   1995  2301.12       \n",
       "7 USA     1996  6241.38       \n",
       "1 USA     1994  9379.92       \n",
       "3 Sudan   1994 10184.70       \n",
       "8 China   1996 14209.62       \n",
       "9 Sudan   1996 15642.72       \n",
       "2 China   1994 19747.20       "
      ]
     },
     "metadata": {},
     "output_type": "display_data"
    }
   ],
   "source": [
    "# Sort by GDP\n",
    "\n",
    "countries[order(countries$adjusted_gdp_pc),]"
   ]
  },
  {
   "cell_type": "markdown",
   "id": "10ba0e37",
   "metadata": {},
   "source": [
    "Or sort by year, then country name: "
   ]
  },
  {
   "cell_type": "code",
   "execution_count": 28,
   "id": "c1d8d03a",
   "metadata": {},
   "outputs": [
    {
     "data": {
      "text/html": [
       "<table class=\"dataframe\">\n",
       "<caption>A data.frame: 9 × 3</caption>\n",
       "<thead>\n",
       "\t<tr><th></th><th scope=col>country</th><th scope=col>year</th><th scope=col>adjusted_gdp_pc</th></tr>\n",
       "\t<tr><th></th><th scope=col>&lt;chr&gt;</th><th scope=col>&lt;dbl&gt;</th><th scope=col>&lt;dbl&gt;</th></tr>\n",
       "</thead>\n",
       "<tbody>\n",
       "\t<tr><th scope=row>2</th><td>China</td><td>1994</td><td>19747.20</td></tr>\n",
       "\t<tr><th scope=row>3</th><td>Sudan</td><td>1994</td><td>10184.70</td></tr>\n",
       "\t<tr><th scope=row>1</th><td>USA  </td><td>1994</td><td> 9379.92</td></tr>\n",
       "\t<tr><th scope=row>5</th><td>China</td><td>1995</td><td> 2245.02</td></tr>\n",
       "\t<tr><th scope=row>6</th><td>Sudan</td><td>1995</td><td> 2301.12</td></tr>\n",
       "\t<tr><th scope=row>4</th><td>USA  </td><td>1995</td><td> 1756.44</td></tr>\n",
       "\t<tr><th scope=row>8</th><td>China</td><td>1996</td><td>14209.62</td></tr>\n",
       "\t<tr><th scope=row>9</th><td>Sudan</td><td>1996</td><td>15642.72</td></tr>\n",
       "\t<tr><th scope=row>7</th><td>USA  </td><td>1996</td><td> 6241.38</td></tr>\n",
       "</tbody>\n",
       "</table>\n"
      ],
      "text/latex": [
       "A data.frame: 9 × 3\n",
       "\\begin{tabular}{r|lll}\n",
       "  & country & year & adjusted\\_gdp\\_pc\\\\\n",
       "  & <chr> & <dbl> & <dbl>\\\\\n",
       "\\hline\n",
       "\t2 & China & 1994 & 19747.20\\\\\n",
       "\t3 & Sudan & 1994 & 10184.70\\\\\n",
       "\t1 & USA   & 1994 &  9379.92\\\\\n",
       "\t5 & China & 1995 &  2245.02\\\\\n",
       "\t6 & Sudan & 1995 &  2301.12\\\\\n",
       "\t4 & USA   & 1995 &  1756.44\\\\\n",
       "\t8 & China & 1996 & 14209.62\\\\\n",
       "\t9 & Sudan & 1996 & 15642.72\\\\\n",
       "\t7 & USA   & 1996 &  6241.38\\\\\n",
       "\\end{tabular}\n"
      ],
      "text/markdown": [
       "\n",
       "A data.frame: 9 × 3\n",
       "\n",
       "| <!--/--> | country &lt;chr&gt; | year &lt;dbl&gt; | adjusted_gdp_pc &lt;dbl&gt; |\n",
       "|---|---|---|---|\n",
       "| 2 | China | 1994 | 19747.20 |\n",
       "| 3 | Sudan | 1994 | 10184.70 |\n",
       "| 1 | USA   | 1994 |  9379.92 |\n",
       "| 5 | China | 1995 |  2245.02 |\n",
       "| 6 | Sudan | 1995 |  2301.12 |\n",
       "| 4 | USA   | 1995 |  1756.44 |\n",
       "| 8 | China | 1996 | 14209.62 |\n",
       "| 9 | Sudan | 1996 | 15642.72 |\n",
       "| 7 | USA   | 1996 |  6241.38 |\n",
       "\n"
      ],
      "text/plain": [
       "  country year adjusted_gdp_pc\n",
       "2 China   1994 19747.20       \n",
       "3 Sudan   1994 10184.70       \n",
       "1 USA     1994  9379.92       \n",
       "5 China   1995  2245.02       \n",
       "6 Sudan   1995  2301.12       \n",
       "4 USA     1995  1756.44       \n",
       "8 China   1996 14209.62       \n",
       "9 Sudan   1996 15642.72       \n",
       "7 USA     1996  6241.38       "
      ]
     },
     "metadata": {},
     "output_type": "display_data"
    }
   ],
   "source": [
    "countries[order(countries$year, countries$country),]"
   ]
  },
  {
   "cell_type": "code",
   "execution_count": 29,
   "id": "35471768",
   "metadata": {},
   "outputs": [
    {
     "data": {
      "text/html": [
       "<table class=\"dataframe\">\n",
       "<caption>A data.frame: 9 × 3</caption>\n",
       "<thead>\n",
       "\t<tr><th></th><th scope=col>country</th><th scope=col>year</th><th scope=col>adjusted_gdp_pc</th></tr>\n",
       "\t<tr><th></th><th scope=col>&lt;chr&gt;</th><th scope=col>&lt;dbl&gt;</th><th scope=col>&lt;dbl&gt;</th></tr>\n",
       "</thead>\n",
       "<tbody>\n",
       "\t<tr><th scope=row>2</th><td>China</td><td>1994</td><td>19747.20</td></tr>\n",
       "\t<tr><th scope=row>9</th><td>Sudan</td><td>1996</td><td>15642.72</td></tr>\n",
       "\t<tr><th scope=row>8</th><td>China</td><td>1996</td><td>14209.62</td></tr>\n",
       "\t<tr><th scope=row>3</th><td>Sudan</td><td>1994</td><td>10184.70</td></tr>\n",
       "\t<tr><th scope=row>1</th><td>USA  </td><td>1994</td><td> 9379.92</td></tr>\n",
       "\t<tr><th scope=row>7</th><td>USA  </td><td>1996</td><td> 6241.38</td></tr>\n",
       "\t<tr><th scope=row>6</th><td>Sudan</td><td>1995</td><td> 2301.12</td></tr>\n",
       "\t<tr><th scope=row>5</th><td>China</td><td>1995</td><td> 2245.02</td></tr>\n",
       "\t<tr><th scope=row>4</th><td>USA  </td><td>1995</td><td> 1756.44</td></tr>\n",
       "</tbody>\n",
       "</table>\n"
      ],
      "text/latex": [
       "A data.frame: 9 × 3\n",
       "\\begin{tabular}{r|lll}\n",
       "  & country & year & adjusted\\_gdp\\_pc\\\\\n",
       "  & <chr> & <dbl> & <dbl>\\\\\n",
       "\\hline\n",
       "\t2 & China & 1994 & 19747.20\\\\\n",
       "\t9 & Sudan & 1996 & 15642.72\\\\\n",
       "\t8 & China & 1996 & 14209.62\\\\\n",
       "\t3 & Sudan & 1994 & 10184.70\\\\\n",
       "\t1 & USA   & 1994 &  9379.92\\\\\n",
       "\t7 & USA   & 1996 &  6241.38\\\\\n",
       "\t6 & Sudan & 1995 &  2301.12\\\\\n",
       "\t5 & China & 1995 &  2245.02\\\\\n",
       "\t4 & USA   & 1995 &  1756.44\\\\\n",
       "\\end{tabular}\n"
      ],
      "text/markdown": [
       "\n",
       "A data.frame: 9 × 3\n",
       "\n",
       "| <!--/--> | country &lt;chr&gt; | year &lt;dbl&gt; | adjusted_gdp_pc &lt;dbl&gt; |\n",
       "|---|---|---|---|\n",
       "| 2 | China | 1994 | 19747.20 |\n",
       "| 9 | Sudan | 1996 | 15642.72 |\n",
       "| 8 | China | 1996 | 14209.62 |\n",
       "| 3 | Sudan | 1994 | 10184.70 |\n",
       "| 1 | USA   | 1994 |  9379.92 |\n",
       "| 7 | USA   | 1996 |  6241.38 |\n",
       "| 6 | Sudan | 1995 |  2301.12 |\n",
       "| 5 | China | 1995 |  2245.02 |\n",
       "| 4 | USA   | 1995 |  1756.44 |\n",
       "\n"
      ],
      "text/plain": [
       "  country year adjusted_gdp_pc\n",
       "2 China   1994 19747.20       \n",
       "9 Sudan   1996 15642.72       \n",
       "8 China   1996 14209.62       \n",
       "3 Sudan   1994 10184.70       \n",
       "1 USA     1994  9379.92       \n",
       "7 USA     1996  6241.38       \n",
       "6 Sudan   1995  2301.12       \n",
       "5 China   1995  2245.02       \n",
       "4 USA     1995  1756.44       "
      ]
     },
     "metadata": {},
     "output_type": "display_data"
    }
   ],
   "source": [
    "# And you can use - to sort any variable in descending order\n",
    "# rather than ascending:\n",
    "\n",
    "countries[order(-countries$adjusted_gdp_pc),]"
   ]
  }
 ],
 "metadata": {
  "jupytext": {
   "cell_metadata_filter": "tags,eval,-all",
   "main_language": "R",
   "notebook_metadata_filter": "-all"
  },
  "kernelspec": {
   "display_name": "R",
   "language": "R",
   "name": "ir"
  },
  "language_info": {
   "codemirror_mode": "r",
   "file_extension": ".r",
   "mimetype": "text/x-r-source",
   "name": "R",
   "pygments_lexer": "r",
   "version": "4.1.0"
  }
 },
 "nbformat": 4,
 "nbformat_minor": 5
}
