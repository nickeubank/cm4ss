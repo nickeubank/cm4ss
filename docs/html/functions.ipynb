{
 "cells": [
  {
   "cell_type": "markdown",
   "id": "66e84c86",
   "metadata": {},
   "source": [
    "# Functions\n",
    "\n",
    "Up to this point in our course, we've mostly *used* functions without really thinking about how they work. And to some degree, that's by design -- as discussed in our earlier reading, you don't actually need to know what's going on inside the function. You only need to know the arguments you need to pass to it to get back the thing that you want. In that sense, function is kind of like a toaster: you put bread in, you get toast back; how the toaster is turning the bread into toast isn't really something you need to worry about.\n",
    "\n",
    "But in your career, you will often find it useful to write your own functions, and to do that we have to understand a little more about how functions work.\n",
    "\n",
    "Why do we care about writing functions? Functions are useful when you want to execute a task over and over again, resulting in less verbose and more easily interpretable code. And as we learned in our [defensive programming reading](defensive_programming.ipynb), that will not only save you time, but it will also make it less likely that you will end up with errors in your code!\n",
    "\n",
    "**But wait... isn't that what you told me loops were for?**\n",
    "\n",
    "Yes! Both loops and functions are, broadly speaking, for the same purpose: helping write more succinct code when you're doing something similar over and over. The big difference is that with a loop you only really get one variable the changes with each pass, whereas with the function, you can generalize behavior a lot more. In addition, as you'll see, functions are a little more flexible and reusable than loops."
   ]
  },
  {
   "cell_type": "markdown",
   "id": "1954adfe",
   "metadata": {},
   "source": [
    "## Defining a Function\n",
    "\n",
    "To illustrate how function works, let's begin with a very simple function that takes a number, adds one to that number, then doubles it. It is admittedly a bit of a contrived example, but it has just enough complexity to be interesting.\n",
    "\n",
    "We would write this function as follows:"
   ]
  },
  {
   "cell_type": "code",
   "execution_count": 6,
   "id": "b5d4e881",
   "metadata": {},
   "outputs": [],
   "source": [
    "add_1_and_double <- function(input_number) {\n",
    "    plus_1 <- input_number + 1\n",
    "    doubled <- plus_1 * 2\n",
    "    return(doubled)\n",
    "}"
   ]
  },
  {
   "cell_type": "code",
   "execution_count": 7,
   "id": "d1483c2f",
   "metadata": {},
   "outputs": [
    {
     "data": {
      "text/html": [
       "17"
      ],
      "text/latex": [
       "17"
      ],
      "text/markdown": [
       "17"
      ],
      "text/plain": [
       "[1] 17"
      ]
     },
     "metadata": {},
     "output_type": "display_data"
    }
   ],
   "source": [
    "x <- 5\n",
    "y <- add_1_and_double(x)\n",
    "y"
   ]
  },
  {
   "cell_type": "markdown",
   "id": "32ddf50a",
   "metadata": {},
   "source": [
    "Let's walk through this line by line to understand what's going on. \n",
    "\n",
    "The first thing we see -- the name to which the function is being assigned -- will become the function name. \n",
    "\n",
    "Text between the parentheses after `function` (here, `input_number`) are the arguments the function will accept. We are writing this function to only accept one argument, so we've only put one thing between the parentheses. This is called the function signature.\n",
    "\n",
    "Then between the curly brackets is the actual function -- the argument passed to the function is referred to by whatever you called the argument in the function signature (here, `input_number`). So here within the function we had one to the input, double that value.\n",
    "\n",
    "Finally, we passed that doubled value to the `return()` function, which means that we want the value assigned to `doubled` to be what the function returns."
   ]
  },
  {
   "cell_type": "markdown",
   "id": "d995b217",
   "metadata": {},
   "source": [
    "## What Happens When a Function is Called\n",
    "\n",
    "Now that we've seen how to write a function, let's pause for a moment to work through exactly what happens when that function is called. For example, above we ran the code `above_1_and_double(x)` and got back 12. How did that happen? Well...\n",
    "\n",
    "We begin with a simple assignment of `5` to `x`:"
   ]
  },
  {
   "cell_type": "markdown",
   "id": "11d56e62",
   "metadata": {},
   "source": [
    "![function1](images/function1.png)"
   ]
  },
  {
   "cell_type": "markdown",
   "id": "07928088",
   "metadata": {},
   "source": [
    "After which, we pass `x` to our function `add_1_and_double()`. When that happens, a new \"stack frame\" is created by R to execute that function, and the value passed to the function -- `5` -- is assigned to a variable with the name it was given in the function signature.\n",
    "\n",
    "![function2](images/function2.png)"
   ]
  },
  {
   "cell_type": "markdown",
   "id": "2f38afa2",
   "metadata": {},
   "source": [
    "The function then begins to execute. When `input_number` is added to `1`, a new variable -- `plus_1` -- is created within the function frame. \n",
    "\n",
    "![function3](images/function3.png)\n"
   ]
  },
  {
   "cell_type": "markdown",
   "id": "7f35fb4d",
   "metadata": {},
   "source": [
    "Then `plus_1` is doubled, and that value is assigned to `doubled`:\n",
    "\n",
    "![function4](images/function4.png)"
   ]
  },
  {
   "cell_type": "markdown",
   "id": "805566c6",
   "metadata": {},
   "source": [
    "But then things get interesting, as we arrive at the `return` statement: \n",
    "\n",
    "![function5](images/function5.png)\n",
    "\n",
    "The return statement tells R that the function is done. When R encounters a return statement, it does two things: it (a) returns the value given to `return()`, and (b) it ends the function and deletes the function's frame:\n",
    "\n",
    "![function6](images/function6.png)\n",
    "\n",
    "Notice that all the variables that had been defined within the frame `add_1_and_double` (`input_number`, `plus_1`, and `doubled`) are gone -- when a function ends, none of the variables defined within the function live on. All that's left is that the function's memory lives on through its return value, which is now stored in `y`."
   ]
  },
  {
   "cell_type": "markdown",
   "id": "affdd14a",
   "metadata": {},
   "source": [
    "## Function Arguments\n",
    "\n",
    "In the example above, our function accepted a single argument, but of course we've seen functions can accept more than one argument! To accept more than one argument, just recommended the function signature in the first line:"
   ]
  },
  {
   "cell_type": "code",
   "execution_count": 1,
   "id": "a0e5b484",
   "metadata": {},
   "outputs": [
    {
     "data": {
      "text/html": [
       "3"
      ],
      "text/latex": [
       "3"
      ],
      "text/markdown": [
       "3"
      ],
      "text/plain": [
       "[1] 3"
      ]
     },
     "metadata": {},
     "output_type": "display_data"
    }
   ],
   "source": [
    "add_two_numbers <- function(number1, number2) {\n",
    "    sum <- number1 + number2\n",
    "    return(sum)\n",
    "}\n",
    "add_two_numbers(1, 2)"
   ]
  },
  {
   "cell_type": "markdown",
   "id": "238e0516",
   "metadata": {},
   "source": [
    "You can also set default values for arguments by writing `my_argument=\"default value\"` in the function signature. If an argument has a default value, it becomes an optional keyword argument that users *may* specify, but don't have to:"
   ]
  },
  {
   "cell_type": "code",
   "execution_count": 2,
   "id": "263929aa",
   "metadata": {},
   "outputs": [
    {
     "data": {
      "text/html": [
       "3"
      ],
      "text/latex": [
       "3"
      ],
      "text/markdown": [
       "3"
      ],
      "text/plain": [
       "[1] 3"
      ]
     },
     "metadata": {},
     "output_type": "display_data"
    }
   ],
   "source": [
    "add_two_numbers <- function(number1, number2, return_as_character=FALSE) {\n",
    "    sum <- number1 + number2\n",
    "\n",
    "    # If return_as_character is TRUE, then sum will be returned as a character\n",
    "    if (return_as_character == TRUE) {\n",
    "        sum <- as.character(sum)\n",
    "    }\n",
    "\n",
    "    return(sum)\n",
    "}\n",
    "add_two_numbers(1, 2)"
   ]
  },
  {
   "cell_type": "code",
   "execution_count": 4,
   "id": "b19b2b19",
   "metadata": {},
   "outputs": [
    {
     "data": {
      "text/html": [
       "'3'"
      ],
      "text/latex": [
       "'3'"
      ],
      "text/markdown": [
       "'3'"
      ],
      "text/plain": [
       "[1] \"3\""
      ]
     },
     "metadata": {},
     "output_type": "display_data"
    }
   ],
   "source": [
    "add_two_numbers(1, 2, return_as_character = TRUE)"
   ]
  },
  {
   "cell_type": "markdown",
   "id": "d2cfefd0",
   "metadata": {},
   "source": [
    "## Using Functions\n",
    "\n",
    "Functions are nice tools both for creating generalizable code, and also just for organizing your work. Because a function is a bundle of code that does one thing, putting parts of your work in functions can be helpful in defining the goal of that chunk of code. \n",
    "\n",
    "To illustrate one use of a function, we'll write a function that reads and manipulates a .csv file. We can then put this in a for loop to iterate over several files with a similar structure and combine the resulting data frames into one data frame.\n",
    "\n",
    "As you'll see, one *could* cram all the code we're gonna write directly into the for-loop at the end, but by breaking out part of it into a function, the problem is more easily broken into smaller parts. \n",
    "\n",
    "**Note** in what follows, I use a couple tricks for working with data on dates. If you don't follow it, don't worry about it -- it's not critical to understand those couple lines!"
   ]
  },
  {
   "cell_type": "markdown",
   "id": "b54d6bb3",
   "metadata": {},
   "source": [
    "### Reading several files\n",
    "\n",
    "\n",
    "Begin by downloading a [.zip file with service request data from NYC](https://github.com/nickeubank/computational_methods_boot_camp/blob/main/source/data/nyc-311-sample.zip). The zip file contains six files for years 2004-2009, each with 10,000 observations. The data are originally from [NYC's Open Data portal](https://nycopendata.socrata.com/data?cat=social%20services), which hosts datasets with millions of service requests filed by residents through the city's 311 program. For the purpose of this example, I have taken a random sample of 10,000 for each year.\n",
    "\n",
    "Here's what the 2004 file looks like (the other years have the same structure)."
   ]
  },
  {
   "cell_type": "code",
   "execution_count": 35,
   "id": "a65b3ace",
   "metadata": {
    "tags": [
     "remove_input"
    ]
   },
   "outputs": [
    {
     "data": {
      "text/html": [
       "<table class=\"dataframe\">\n",
       "<caption>A data.frame: 6 × 5</caption>\n",
       "<thead>\n",
       "\t<tr><th></th><th scope=col>Unique.Key</th><th scope=col>Created.Date</th><th scope=col>Closed.Date</th><th scope=col>Complaint.Type</th><th scope=col>Location</th></tr>\n",
       "\t<tr><th></th><th scope=col>&lt;int&gt;</th><th scope=col>&lt;chr&gt;</th><th scope=col>&lt;chr&gt;</th><th scope=col>&lt;chr&gt;</th><th scope=col>&lt;chr&gt;</th></tr>\n",
       "</thead>\n",
       "<tbody>\n",
       "\t<tr><th scope=row>1</th><td>4735434</td><td>01/23/2004 12:00 AM</td><td>02/02/2004 12:00 AM</td><td>Boilers                      </td><td>(40.71511134258793, -73.98998982667266) </td></tr>\n",
       "\t<tr><th scope=row>2</th><td>7547062</td><td>06/04/2004 12:00 AM</td><td>06/09/2004 12:00 AM</td><td>HEATING                      </td><td>(40.871781348425515, -73.88238262118011)</td></tr>\n",
       "\t<tr><th scope=row>3</th><td>5050661</td><td>08/04/2004 12:00 AM</td><td>08/06/2004 12:00 AM</td><td>General Construction/Plumbing</td><td>(40.59418801428136, -73.80082145383885) </td></tr>\n",
       "\t<tr><th scope=row>4</th><td>7281795</td><td>11/26/2004 12:00 AM</td><td>12/10/2004 12:00 AM</td><td>PLUMBING                     </td><td>(40.85911979460089, -73.90605127158484) </td></tr>\n",
       "\t<tr><th scope=row>5</th><td>1443894</td><td>08/22/2004 12:00 AM</td><td>08/22/2004 12:00 AM</td><td>Noise - Street/Sidewalk      </td><td>(40.54800892371052, -74.17041676351323) </td></tr>\n",
       "\t<tr><th scope=row>6</th><td>3244577</td><td>12/02/2004 12:00 AM</td><td>12/15/2004 12:00 AM</td><td>Noise                        </td><td>                                        </td></tr>\n",
       "</tbody>\n",
       "</table>\n"
      ],
      "text/latex": [
       "A data.frame: 6 × 5\n",
       "\\begin{tabular}{r|lllll}\n",
       "  & Unique.Key & Created.Date & Closed.Date & Complaint.Type & Location\\\\\n",
       "  & <int> & <chr> & <chr> & <chr> & <chr>\\\\\n",
       "\\hline\n",
       "\t1 & 4735434 & 01/23/2004 12:00 AM & 02/02/2004 12:00 AM & Boilers                       & (40.71511134258793, -73.98998982667266) \\\\\n",
       "\t2 & 7547062 & 06/04/2004 12:00 AM & 06/09/2004 12:00 AM & HEATING                       & (40.871781348425515, -73.88238262118011)\\\\\n",
       "\t3 & 5050661 & 08/04/2004 12:00 AM & 08/06/2004 12:00 AM & General Construction/Plumbing & (40.59418801428136, -73.80082145383885) \\\\\n",
       "\t4 & 7281795 & 11/26/2004 12:00 AM & 12/10/2004 12:00 AM & PLUMBING                      & (40.85911979460089, -73.90605127158484) \\\\\n",
       "\t5 & 1443894 & 08/22/2004 12:00 AM & 08/22/2004 12:00 AM & Noise - Street/Sidewalk       & (40.54800892371052, -74.17041676351323) \\\\\n",
       "\t6 & 3244577 & 12/02/2004 12:00 AM & 12/15/2004 12:00 AM & Noise                         &                                         \\\\\n",
       "\\end{tabular}\n"
      ],
      "text/markdown": [
       "\n",
       "A data.frame: 6 × 5\n",
       "\n",
       "| <!--/--> | Unique.Key &lt;int&gt; | Created.Date &lt;chr&gt; | Closed.Date &lt;chr&gt; | Complaint.Type &lt;chr&gt; | Location &lt;chr&gt; |\n",
       "|---|---|---|---|---|---|\n",
       "| 1 | 4735434 | 01/23/2004 12:00 AM | 02/02/2004 12:00 AM | Boilers                       | (40.71511134258793, -73.98998982667266)  |\n",
       "| 2 | 7547062 | 06/04/2004 12:00 AM | 06/09/2004 12:00 AM | HEATING                       | (40.871781348425515, -73.88238262118011) |\n",
       "| 3 | 5050661 | 08/04/2004 12:00 AM | 08/06/2004 12:00 AM | General Construction/Plumbing | (40.59418801428136, -73.80082145383885)  |\n",
       "| 4 | 7281795 | 11/26/2004 12:00 AM | 12/10/2004 12:00 AM | PLUMBING                      | (40.85911979460089, -73.90605127158484)  |\n",
       "| 5 | 1443894 | 08/22/2004 12:00 AM | 08/22/2004 12:00 AM | Noise - Street/Sidewalk       | (40.54800892371052, -74.17041676351323)  |\n",
       "| 6 | 3244577 | 12/02/2004 12:00 AM | 12/15/2004 12:00 AM | Noise                         | <!----> |\n",
       "\n"
      ],
      "text/plain": [
       "  Unique.Key Created.Date        Closed.Date        \n",
       "1 4735434    01/23/2004 12:00 AM 02/02/2004 12:00 AM\n",
       "2 7547062    06/04/2004 12:00 AM 06/09/2004 12:00 AM\n",
       "3 5050661    08/04/2004 12:00 AM 08/06/2004 12:00 AM\n",
       "4 7281795    11/26/2004 12:00 AM 12/10/2004 12:00 AM\n",
       "5 1443894    08/22/2004 12:00 AM 08/22/2004 12:00 AM\n",
       "6 3244577    12/02/2004 12:00 AM 12/15/2004 12:00 AM\n",
       "  Complaint.Type                Location                                \n",
       "1 Boilers                       (40.71511134258793, -73.98998982667266) \n",
       "2 HEATING                       (40.871781348425515, -73.88238262118011)\n",
       "3 General Construction/Plumbing (40.59418801428136, -73.80082145383885) \n",
       "4 PLUMBING                      (40.85911979460089, -73.90605127158484) \n",
       "5 Noise - Street/Sidewalk       (40.54800892371052, -74.17041676351323) \n",
       "6 Noise                                                                 "
      ]
     },
     "metadata": {},
     "output_type": "display_data"
    }
   ],
   "source": [
    "url2004 <- \"https://raw.githubusercontent.com/nickeubank/computational_methods_boot_camp/main/source/data/nyc-311-sample/nyc-311-2004-sample.csv\"\n",
    "nyc04 <- read.csv(url2004)\n",
    "head(nyc04)"
   ]
  },
  {
   "cell_type": "markdown",
   "id": "7b022ec5",
   "metadata": {},
   "source": [
    "The variables in the data are as follows: \n",
    "\n",
    "* `Unique.Key`: An id number unique to each request.\n",
    "* `Created.Date`: The date the request was filed in the 311 system.\n",
    "* `Closed.Date`: The date the request was resolved by city workers (`NA`\n",
    "implies that it was never resolved).\n",
    "* `Complaint.Type`: The subject of the complaint.\n",
    "* `Location`: Coordinates that give the location of the service issue."
   ]
  },
  {
   "cell_type": "markdown",
   "id": "27d98e11",
   "metadata": {},
   "source": [
    "Our goal with the function is to read the file and clean it. In particular,\n",
    "we want to convert the `Created.Date` and `Closed.Date` variables so that\n",
    "R recognizes them as dates. From these variables, we can then calculate\n",
    "measures of *government responsiveness*: (1) how many days it took city\n",
    "workers to resolve a request, and (2) whether or not a request was resolved\n",
    "within a week. "
   ]
  },
  {
   "cell_type": "code",
   "execution_count": 37,
   "id": "10406876",
   "metadata": {},
   "outputs": [],
   "source": [
    " library(lubridate) #to work with dates\n"
   ]
  },
  {
   "cell_type": "code",
   "execution_count": 16,
   "id": "a985ffc8",
   "metadata": {},
   "outputs": [],
   "source": [
    "# Load required packages\n",
    "\n",
    "# Create a function that reads and cleans a service request file.\n",
    "# The input is the name of a service request file and the\n",
    "# output is a data frame with cleaned variables.\n",
    "clean_dta <- function(file_name) {\n",
    "\n",
    "    # Read the file and save it to an object called 'dta'\n",
    "    dta <- read.csv(file_name)\n",
    "\n",
    "    # Clean the dates in the dta file and generate responsiveness measures\n",
    "    # mdy(substring(dta$Created.Date, 1, 10)) pulls just the month-day-year\n",
    "    # from our columns with dates, then `mdy` tells R to read it as a date \n",
    "    # in month-day-year format.\n",
    "\n",
    "    dta$opened <- mdy(substring(dta$Created.Date, 1, 10))\n",
    "    dta$closed <- mdy(substring(dta$Closed.Date, 1, 10))\n",
    "\n",
    "    # Number of days between an issue opens and is resolved. \n",
    "    dta$resptime <- as.numeric(difftime(dta$closed, dta$opened, units = \"days\"))\n",
    "\n",
    "    # Create indicator of whether solved within 7 days. \n",
    "    # responses in less than 0 is bad data.\n",
    "    dta[dta$resptime < 0 | is.na(dta$resptime), \"resptime\"] <- NA\n",
    "    dta$solvedin7 <- as.numeric(dta$resptime <= 7)\n",
    "\n",
    "    # Return the cleaned data\n",
    "    return(dta)\n",
    "}"
   ]
  },
  {
   "cell_type": "markdown",
   "id": "4c1f106e",
   "metadata": {},
   "source": [
    "Let's test the function on the 2004 data:"
   ]
  },
  {
   "cell_type": "code",
   "execution_count": 17,
   "id": "6c9f8d6f",
   "metadata": {
    "eval": false
   },
   "outputs": [
    {
     "data": {
      "text/html": [
       "<table class=\"dataframe\">\n",
       "<caption>A data.frame: 6 × 9</caption>\n",
       "<thead>\n",
       "\t<tr><th></th><th scope=col>Unique.Key</th><th scope=col>Created.Date</th><th scope=col>Closed.Date</th><th scope=col>Complaint.Type</th><th scope=col>Location</th><th scope=col>opened</th><th scope=col>closed</th><th scope=col>resptime</th><th scope=col>solvedin7</th></tr>\n",
       "\t<tr><th></th><th scope=col>&lt;int&gt;</th><th scope=col>&lt;chr&gt;</th><th scope=col>&lt;chr&gt;</th><th scope=col>&lt;chr&gt;</th><th scope=col>&lt;chr&gt;</th><th scope=col>&lt;date&gt;</th><th scope=col>&lt;date&gt;</th><th scope=col>&lt;dbl&gt;</th><th scope=col>&lt;dbl&gt;</th></tr>\n",
       "</thead>\n",
       "<tbody>\n",
       "\t<tr><th scope=row>1</th><td>4735434</td><td>01/23/2004 12:00 AM</td><td>02/02/2004 12:00 AM</td><td>Boilers                      </td><td>(40.71511134258793, -73.98998982667266) </td><td>2004-01-23</td><td>2004-02-02</td><td>10</td><td>0</td></tr>\n",
       "\t<tr><th scope=row>2</th><td>7547062</td><td>06/04/2004 12:00 AM</td><td>06/09/2004 12:00 AM</td><td>HEATING                      </td><td>(40.871781348425515, -73.88238262118011)</td><td>2004-06-04</td><td>2004-06-09</td><td> 5</td><td>1</td></tr>\n",
       "\t<tr><th scope=row>3</th><td>5050661</td><td>08/04/2004 12:00 AM</td><td>08/06/2004 12:00 AM</td><td>General Construction/Plumbing</td><td>(40.59418801428136, -73.80082145383885) </td><td>2004-08-04</td><td>2004-08-06</td><td> 2</td><td>1</td></tr>\n",
       "\t<tr><th scope=row>4</th><td>7281795</td><td>11/26/2004 12:00 AM</td><td>12/10/2004 12:00 AM</td><td>PLUMBING                     </td><td>(40.85911979460089, -73.90605127158484) </td><td>2004-11-26</td><td>2004-12-10</td><td>14</td><td>0</td></tr>\n",
       "\t<tr><th scope=row>5</th><td>1443894</td><td>08/22/2004 12:00 AM</td><td>08/22/2004 12:00 AM</td><td>Noise - Street/Sidewalk      </td><td>(40.54800892371052, -74.17041676351323) </td><td>2004-08-22</td><td>2004-08-22</td><td> 0</td><td>1</td></tr>\n",
       "\t<tr><th scope=row>6</th><td>3244577</td><td>12/02/2004 12:00 AM</td><td>12/15/2004 12:00 AM</td><td>Noise                        </td><td>                                        </td><td>2004-12-02</td><td>2004-12-15</td><td>13</td><td>0</td></tr>\n",
       "</tbody>\n",
       "</table>\n"
      ],
      "text/latex": [
       "A data.frame: 6 × 9\n",
       "\\begin{tabular}{r|lllllllll}\n",
       "  & Unique.Key & Created.Date & Closed.Date & Complaint.Type & Location & opened & closed & resptime & solvedin7\\\\\n",
       "  & <int> & <chr> & <chr> & <chr> & <chr> & <date> & <date> & <dbl> & <dbl>\\\\\n",
       "\\hline\n",
       "\t1 & 4735434 & 01/23/2004 12:00 AM & 02/02/2004 12:00 AM & Boilers                       & (40.71511134258793, -73.98998982667266)  & 2004-01-23 & 2004-02-02 & 10 & 0\\\\\n",
       "\t2 & 7547062 & 06/04/2004 12:00 AM & 06/09/2004 12:00 AM & HEATING                       & (40.871781348425515, -73.88238262118011) & 2004-06-04 & 2004-06-09 &  5 & 1\\\\\n",
       "\t3 & 5050661 & 08/04/2004 12:00 AM & 08/06/2004 12:00 AM & General Construction/Plumbing & (40.59418801428136, -73.80082145383885)  & 2004-08-04 & 2004-08-06 &  2 & 1\\\\\n",
       "\t4 & 7281795 & 11/26/2004 12:00 AM & 12/10/2004 12:00 AM & PLUMBING                      & (40.85911979460089, -73.90605127158484)  & 2004-11-26 & 2004-12-10 & 14 & 0\\\\\n",
       "\t5 & 1443894 & 08/22/2004 12:00 AM & 08/22/2004 12:00 AM & Noise - Street/Sidewalk       & (40.54800892371052, -74.17041676351323)  & 2004-08-22 & 2004-08-22 &  0 & 1\\\\\n",
       "\t6 & 3244577 & 12/02/2004 12:00 AM & 12/15/2004 12:00 AM & Noise                         &                                          & 2004-12-02 & 2004-12-15 & 13 & 0\\\\\n",
       "\\end{tabular}\n"
      ],
      "text/markdown": [
       "\n",
       "A data.frame: 6 × 9\n",
       "\n",
       "| <!--/--> | Unique.Key &lt;int&gt; | Created.Date &lt;chr&gt; | Closed.Date &lt;chr&gt; | Complaint.Type &lt;chr&gt; | Location &lt;chr&gt; | opened &lt;date&gt; | closed &lt;date&gt; | resptime &lt;dbl&gt; | solvedin7 &lt;dbl&gt; |\n",
       "|---|---|---|---|---|---|---|---|---|---|\n",
       "| 1 | 4735434 | 01/23/2004 12:00 AM | 02/02/2004 12:00 AM | Boilers                       | (40.71511134258793, -73.98998982667266)  | 2004-01-23 | 2004-02-02 | 10 | 0 |\n",
       "| 2 | 7547062 | 06/04/2004 12:00 AM | 06/09/2004 12:00 AM | HEATING                       | (40.871781348425515, -73.88238262118011) | 2004-06-04 | 2004-06-09 |  5 | 1 |\n",
       "| 3 | 5050661 | 08/04/2004 12:00 AM | 08/06/2004 12:00 AM | General Construction/Plumbing | (40.59418801428136, -73.80082145383885)  | 2004-08-04 | 2004-08-06 |  2 | 1 |\n",
       "| 4 | 7281795 | 11/26/2004 12:00 AM | 12/10/2004 12:00 AM | PLUMBING                      | (40.85911979460089, -73.90605127158484)  | 2004-11-26 | 2004-12-10 | 14 | 0 |\n",
       "| 5 | 1443894 | 08/22/2004 12:00 AM | 08/22/2004 12:00 AM | Noise - Street/Sidewalk       | (40.54800892371052, -74.17041676351323)  | 2004-08-22 | 2004-08-22 |  0 | 1 |\n",
       "| 6 | 3244577 | 12/02/2004 12:00 AM | 12/15/2004 12:00 AM | Noise                         | <!----> | 2004-12-02 | 2004-12-15 | 13 | 0 |\n",
       "\n"
      ],
      "text/plain": [
       "  Unique.Key Created.Date        Closed.Date        \n",
       "1 4735434    01/23/2004 12:00 AM 02/02/2004 12:00 AM\n",
       "2 7547062    06/04/2004 12:00 AM 06/09/2004 12:00 AM\n",
       "3 5050661    08/04/2004 12:00 AM 08/06/2004 12:00 AM\n",
       "4 7281795    11/26/2004 12:00 AM 12/10/2004 12:00 AM\n",
       "5 1443894    08/22/2004 12:00 AM 08/22/2004 12:00 AM\n",
       "6 3244577    12/02/2004 12:00 AM 12/15/2004 12:00 AM\n",
       "  Complaint.Type                Location                                \n",
       "1 Boilers                       (40.71511134258793, -73.98998982667266) \n",
       "2 HEATING                       (40.871781348425515, -73.88238262118011)\n",
       "3 General Construction/Plumbing (40.59418801428136, -73.80082145383885) \n",
       "4 PLUMBING                      (40.85911979460089, -73.90605127158484) \n",
       "5 Noise - Street/Sidewalk       (40.54800892371052, -74.17041676351323) \n",
       "6 Noise                                                                 \n",
       "  opened     closed     resptime solvedin7\n",
       "1 2004-01-23 2004-02-02 10       0        \n",
       "2 2004-06-04 2004-06-09  5       1        \n",
       "3 2004-08-04 2004-08-06  2       1        \n",
       "4 2004-11-26 2004-12-10 14       0        \n",
       "5 2004-08-22 2004-08-22  0       1        \n",
       "6 2004-12-02 2004-12-15 13       0        "
      ]
     },
     "metadata": {},
     "output_type": "display_data"
    }
   ],
   "source": [
    "# Execute function on the 2004 data\n",
    "nyc04 <- clean_dta(url2004)\n",
    "head(nyc04)"
   ]
  },
  {
   "cell_type": "markdown",
   "id": "062cfb73",
   "metadata": {},
   "source": [
    "The cleaned dataset has four new variables:\n",
    "\n",
    "* `opened`: The date the request was filed in date format. \n",
    "* `closed`: The date the request was resolved in date format. \n",
    "* `resptime`: The number of days it took to resolve the request (`closed` - `opened`).\n",
    "* `solvedin7`: A dummy variable equal to 1 if the request was solved within a week\n",
    "  and 0 otherwise. \n",
    "\n",
    "We can now use this function on all the six files using a for loop, or something called lapply() (Read more about `lapply()`\n",
    "[here](http://www.r-bloggers.com/using-apply-sapply-lapply-in-r/))."
   ]
  },
  {
   "cell_type": "code",
   "execution_count": 18,
   "id": "a74814ee",
   "metadata": {},
   "outputs": [
    {
     "data": {
      "text/html": [
       "<style>\n",
       ".list-inline {list-style: none; margin:0; padding: 0}\n",
       ".list-inline>li {display: inline-block}\n",
       ".list-inline>li:not(:last-child)::after {content: \"\\00b7\"; padding: 0 .5ex}\n",
       "</style>\n",
       "<ol class=list-inline><li>'https://raw.githubusercontent.com/nickeubank/computational_methods_boot_camp/main/source/data/nyc-311-sample/nyc-311-2004-sample.csv'</li><li>'https://raw.githubusercontent.com/nickeubank/computational_methods_boot_camp/main/source/data/nyc-311-sample/nyc-311-2005-sample.csv'</li><li>'https://raw.githubusercontent.com/nickeubank/computational_methods_boot_camp/main/source/data/nyc-311-sample/nyc-311-2006-sample.csv'</li><li>'https://raw.githubusercontent.com/nickeubank/computational_methods_boot_camp/main/source/data/nyc-311-sample/nyc-311-2007-sample.csv'</li><li>'https://raw.githubusercontent.com/nickeubank/computational_methods_boot_camp/main/source/data/nyc-311-sample/nyc-311-2008-sample.csv'</li><li>'https://raw.githubusercontent.com/nickeubank/computational_methods_boot_camp/main/source/data/nyc-311-sample/nyc-311-2009-sample.csv'</li></ol>\n"
      ],
      "text/latex": [
       "\\begin{enumerate*}\n",
       "\\item 'https://raw.githubusercontent.com/nickeubank/computational\\_methods\\_boot\\_camp/main/source/data/nyc-311-sample/nyc-311-2004-sample.csv'\n",
       "\\item 'https://raw.githubusercontent.com/nickeubank/computational\\_methods\\_boot\\_camp/main/source/data/nyc-311-sample/nyc-311-2005-sample.csv'\n",
       "\\item 'https://raw.githubusercontent.com/nickeubank/computational\\_methods\\_boot\\_camp/main/source/data/nyc-311-sample/nyc-311-2006-sample.csv'\n",
       "\\item 'https://raw.githubusercontent.com/nickeubank/computational\\_methods\\_boot\\_camp/main/source/data/nyc-311-sample/nyc-311-2007-sample.csv'\n",
       "\\item 'https://raw.githubusercontent.com/nickeubank/computational\\_methods\\_boot\\_camp/main/source/data/nyc-311-sample/nyc-311-2008-sample.csv'\n",
       "\\item 'https://raw.githubusercontent.com/nickeubank/computational\\_methods\\_boot\\_camp/main/source/data/nyc-311-sample/nyc-311-2009-sample.csv'\n",
       "\\end{enumerate*}\n"
      ],
      "text/markdown": [
       "1. 'https://raw.githubusercontent.com/nickeubank/computational_methods_boot_camp/main/source/data/nyc-311-sample/nyc-311-2004-sample.csv'\n",
       "2. 'https://raw.githubusercontent.com/nickeubank/computational_methods_boot_camp/main/source/data/nyc-311-sample/nyc-311-2005-sample.csv'\n",
       "3. 'https://raw.githubusercontent.com/nickeubank/computational_methods_boot_camp/main/source/data/nyc-311-sample/nyc-311-2006-sample.csv'\n",
       "4. 'https://raw.githubusercontent.com/nickeubank/computational_methods_boot_camp/main/source/data/nyc-311-sample/nyc-311-2007-sample.csv'\n",
       "5. 'https://raw.githubusercontent.com/nickeubank/computational_methods_boot_camp/main/source/data/nyc-311-sample/nyc-311-2008-sample.csv'\n",
       "6. 'https://raw.githubusercontent.com/nickeubank/computational_methods_boot_camp/main/source/data/nyc-311-sample/nyc-311-2009-sample.csv'\n",
       "\n",
       "\n"
      ],
      "text/plain": [
       "[1] \"https://raw.githubusercontent.com/nickeubank/computational_methods_boot_camp/main/source/data/nyc-311-sample/nyc-311-2004-sample.csv\"\n",
       "[2] \"https://raw.githubusercontent.com/nickeubank/computational_methods_boot_camp/main/source/data/nyc-311-sample/nyc-311-2005-sample.csv\"\n",
       "[3] \"https://raw.githubusercontent.com/nickeubank/computational_methods_boot_camp/main/source/data/nyc-311-sample/nyc-311-2006-sample.csv\"\n",
       "[4] \"https://raw.githubusercontent.com/nickeubank/computational_methods_boot_camp/main/source/data/nyc-311-sample/nyc-311-2007-sample.csv\"\n",
       "[5] \"https://raw.githubusercontent.com/nickeubank/computational_methods_boot_camp/main/source/data/nyc-311-sample/nyc-311-2008-sample.csv\"\n",
       "[6] \"https://raw.githubusercontent.com/nickeubank/computational_methods_boot_camp/main/source/data/nyc-311-sample/nyc-311-2009-sample.csv\""
      ]
     },
     "metadata": {},
     "output_type": "display_data"
    }
   ],
   "source": [
    "# First create a vector with the names of the files we want to read\n",
    "\n",
    "file_names <- paste0(url_stem, 2004:2009, url_suffix)\n",
    "file_names"
   ]
  },
  {
   "cell_type": "code",
   "execution_count": 25,
   "id": "7eda9493",
   "metadata": {},
   "outputs": [],
   "source": [
    "# loop over and collect in a list!\n",
    "\n",
    "url_stem = \"https://raw.githubusercontent.com/nickeubank/computational_methods_boot_camp/main/source/data/nyc-311-sample/nyc-311-\"\n",
    "url_suffix = \"-sample.csv\"\n",
    "\n",
    "# Get first one so we can append others to the bottom\n",
    "nyc_all <- clean_dta(paste0(url_stem, 2004, url_suffix))\n",
    "\n",
    "for (year in 2005:2009) {\n",
    "    url <- paste0(url_stem, year, url_suffix)\n",
    "    new_data <- clean_dta(url)\n",
    "    nyc_all <- rbind(nyc_all, new_data)\n",
    "}"
   ]
  },
  {
   "cell_type": "code",
   "execution_count": 26,
   "id": "a2e61ce0",
   "metadata": {},
   "outputs": [
    {
     "data": {
      "text/html": [
       "<table class=\"dataframe\">\n",
       "<caption>A data.frame: 10 × 9</caption>\n",
       "<thead>\n",
       "\t<tr><th></th><th scope=col>Unique.Key</th><th scope=col>Created.Date</th><th scope=col>Closed.Date</th><th scope=col>Complaint.Type</th><th scope=col>Location</th><th scope=col>opened</th><th scope=col>closed</th><th scope=col>resptime</th><th scope=col>solvedin7</th></tr>\n",
       "\t<tr><th></th><th scope=col>&lt;int&gt;</th><th scope=col>&lt;chr&gt;</th><th scope=col>&lt;chr&gt;</th><th scope=col>&lt;chr&gt;</th><th scope=col>&lt;chr&gt;</th><th scope=col>&lt;date&gt;</th><th scope=col>&lt;date&gt;</th><th scope=col>&lt;dbl&gt;</th><th scope=col>&lt;dbl&gt;</th></tr>\n",
       "</thead>\n",
       "<tbody>\n",
       "\t<tr><th scope=row>53321</th><td>13901265</td><td>05/07/2009 12:00:00 AM</td><td>05/07/2009 12:00:00 AM</td><td>Derelict Vehicle       </td><td>(40.617799993451946, -73.93627682089715)</td><td>2009-05-07</td><td>2009-05-07</td><td> 0</td><td>1</td></tr>\n",
       "\t<tr><th scope=row>57449</th><td>15438339</td><td>12/06/2009 12:00:00 AM</td><td>01/04/2010 12:00:00 AM</td><td>ELECTRIC               </td><td>(40.80005453928576, -73.94058468907889) </td><td>2009-12-06</td><td>2010-01-04</td><td>29</td><td>0</td></tr>\n",
       "\t<tr><th scope=row>21611</th><td> 6773413</td><td>10/17/2006 12:00 AM   </td><td>10/18/2006 12:00 AM   </td><td>HEATING                </td><td>(40.61383002382055, -73.95104077615885) </td><td>2006-10-17</td><td>2006-10-18</td><td> 1</td><td>1</td></tr>\n",
       "\t<tr><th scope=row>26441</th><td> 8528938</td><td>12/10/2006 12:00 AM   </td><td>12/18/2006 12:00 AM   </td><td>HEATING                </td><td>(40.82384059281061, -73.89186881921808) </td><td>2006-12-10</td><td>2006-12-18</td><td> 8</td><td>0</td></tr>\n",
       "\t<tr><th scope=row>24293</th><td> 3637086</td><td>01/27/2006 12:00 AM   </td><td>01/27/2006 12:00 AM   </td><td>Street Condition       </td><td>(40.82105078782504, -73.8822663446518)  </td><td>2006-01-27</td><td>2006-01-27</td><td> 0</td><td>1</td></tr>\n",
       "\t<tr><th scope=row>28327</th><td>  366213</td><td>07/31/2006 12:00 AM   </td><td>07/31/2006 12:00 AM   </td><td>Derelict Vehicle       </td><td>(40.61916174589555, -73.93688427328587) </td><td>2006-07-31</td><td>2006-07-31</td><td> 0</td><td>1</td></tr>\n",
       "\t<tr><th scope=row>58533</th><td>15528269</td><td>12/17/2009 12:00:00 AM</td><td>12/23/2009 12:00:00 AM</td><td>HEATING                </td><td>(40.68596848970488, -73.93964069232293) </td><td>2009-12-17</td><td>2009-12-23</td><td> 6</td><td>1</td></tr>\n",
       "\t<tr><th scope=row>5238</th><td> 1455730</td><td>09/14/2004 12:00 AM   </td><td>09/14/2004 12:00 AM   </td><td>Noise - Street/Sidewalk</td><td>(40.822455126458685, -73.87869412517016)</td><td>2004-09-14</td><td>2004-09-14</td><td> 0</td><td>1</td></tr>\n",
       "\t<tr><th scope=row>32209</th><td> 9006249</td><td>08/01/2007 12:00:00 AM</td><td>08/06/2007 12:00:00 AM</td><td>APPLIANCE              </td><td>(40.64359535901695, -74.07741192402966) </td><td>2007-08-01</td><td>2007-08-06</td><td> 5</td><td>1</td></tr>\n",
       "\t<tr><th scope=row>1481</th><td>  511930</td><td>12/12/2004 12:00 AM   </td><td>12/14/2004 12:00 AM   </td><td>Street Light Condition </td><td>                                        </td><td>2004-12-12</td><td>2004-12-14</td><td> 2</td><td>1</td></tr>\n",
       "</tbody>\n",
       "</table>\n"
      ],
      "text/latex": [
       "A data.frame: 10 × 9\n",
       "\\begin{tabular}{r|lllllllll}\n",
       "  & Unique.Key & Created.Date & Closed.Date & Complaint.Type & Location & opened & closed & resptime & solvedin7\\\\\n",
       "  & <int> & <chr> & <chr> & <chr> & <chr> & <date> & <date> & <dbl> & <dbl>\\\\\n",
       "\\hline\n",
       "\t53321 & 13901265 & 05/07/2009 12:00:00 AM & 05/07/2009 12:00:00 AM & Derelict Vehicle        & (40.617799993451946, -73.93627682089715) & 2009-05-07 & 2009-05-07 &  0 & 1\\\\\n",
       "\t57449 & 15438339 & 12/06/2009 12:00:00 AM & 01/04/2010 12:00:00 AM & ELECTRIC                & (40.80005453928576, -73.94058468907889)  & 2009-12-06 & 2010-01-04 & 29 & 0\\\\\n",
       "\t21611 &  6773413 & 10/17/2006 12:00 AM    & 10/18/2006 12:00 AM    & HEATING                 & (40.61383002382055, -73.95104077615885)  & 2006-10-17 & 2006-10-18 &  1 & 1\\\\\n",
       "\t26441 &  8528938 & 12/10/2006 12:00 AM    & 12/18/2006 12:00 AM    & HEATING                 & (40.82384059281061, -73.89186881921808)  & 2006-12-10 & 2006-12-18 &  8 & 0\\\\\n",
       "\t24293 &  3637086 & 01/27/2006 12:00 AM    & 01/27/2006 12:00 AM    & Street Condition        & (40.82105078782504, -73.8822663446518)   & 2006-01-27 & 2006-01-27 &  0 & 1\\\\\n",
       "\t28327 &   366213 & 07/31/2006 12:00 AM    & 07/31/2006 12:00 AM    & Derelict Vehicle        & (40.61916174589555, -73.93688427328587)  & 2006-07-31 & 2006-07-31 &  0 & 1\\\\\n",
       "\t58533 & 15528269 & 12/17/2009 12:00:00 AM & 12/23/2009 12:00:00 AM & HEATING                 & (40.68596848970488, -73.93964069232293)  & 2009-12-17 & 2009-12-23 &  6 & 1\\\\\n",
       "\t5238 &  1455730 & 09/14/2004 12:00 AM    & 09/14/2004 12:00 AM    & Noise - Street/Sidewalk & (40.822455126458685, -73.87869412517016) & 2004-09-14 & 2004-09-14 &  0 & 1\\\\\n",
       "\t32209 &  9006249 & 08/01/2007 12:00:00 AM & 08/06/2007 12:00:00 AM & APPLIANCE               & (40.64359535901695, -74.07741192402966)  & 2007-08-01 & 2007-08-06 &  5 & 1\\\\\n",
       "\t1481 &   511930 & 12/12/2004 12:00 AM    & 12/14/2004 12:00 AM    & Street Light Condition  &                                          & 2004-12-12 & 2004-12-14 &  2 & 1\\\\\n",
       "\\end{tabular}\n"
      ],
      "text/markdown": [
       "\n",
       "A data.frame: 10 × 9\n",
       "\n",
       "| <!--/--> | Unique.Key &lt;int&gt; | Created.Date &lt;chr&gt; | Closed.Date &lt;chr&gt; | Complaint.Type &lt;chr&gt; | Location &lt;chr&gt; | opened &lt;date&gt; | closed &lt;date&gt; | resptime &lt;dbl&gt; | solvedin7 &lt;dbl&gt; |\n",
       "|---|---|---|---|---|---|---|---|---|---|\n",
       "| 53321 | 13901265 | 05/07/2009 12:00:00 AM | 05/07/2009 12:00:00 AM | Derelict Vehicle        | (40.617799993451946, -73.93627682089715) | 2009-05-07 | 2009-05-07 |  0 | 1 |\n",
       "| 57449 | 15438339 | 12/06/2009 12:00:00 AM | 01/04/2010 12:00:00 AM | ELECTRIC                | (40.80005453928576, -73.94058468907889)  | 2009-12-06 | 2010-01-04 | 29 | 0 |\n",
       "| 21611 |  6773413 | 10/17/2006 12:00 AM    | 10/18/2006 12:00 AM    | HEATING                 | (40.61383002382055, -73.95104077615885)  | 2006-10-17 | 2006-10-18 |  1 | 1 |\n",
       "| 26441 |  8528938 | 12/10/2006 12:00 AM    | 12/18/2006 12:00 AM    | HEATING                 | (40.82384059281061, -73.89186881921808)  | 2006-12-10 | 2006-12-18 |  8 | 0 |\n",
       "| 24293 |  3637086 | 01/27/2006 12:00 AM    | 01/27/2006 12:00 AM    | Street Condition        | (40.82105078782504, -73.8822663446518)   | 2006-01-27 | 2006-01-27 |  0 | 1 |\n",
       "| 28327 |   366213 | 07/31/2006 12:00 AM    | 07/31/2006 12:00 AM    | Derelict Vehicle        | (40.61916174589555, -73.93688427328587)  | 2006-07-31 | 2006-07-31 |  0 | 1 |\n",
       "| 58533 | 15528269 | 12/17/2009 12:00:00 AM | 12/23/2009 12:00:00 AM | HEATING                 | (40.68596848970488, -73.93964069232293)  | 2009-12-17 | 2009-12-23 |  6 | 1 |\n",
       "| 5238 |  1455730 | 09/14/2004 12:00 AM    | 09/14/2004 12:00 AM    | Noise - Street/Sidewalk | (40.822455126458685, -73.87869412517016) | 2004-09-14 | 2004-09-14 |  0 | 1 |\n",
       "| 32209 |  9006249 | 08/01/2007 12:00:00 AM | 08/06/2007 12:00:00 AM | APPLIANCE               | (40.64359535901695, -74.07741192402966)  | 2007-08-01 | 2007-08-06 |  5 | 1 |\n",
       "| 1481 |   511930 | 12/12/2004 12:00 AM    | 12/14/2004 12:00 AM    | Street Light Condition  | <!----> | 2004-12-12 | 2004-12-14 |  2 | 1 |\n",
       "\n"
      ],
      "text/plain": [
       "      Unique.Key Created.Date           Closed.Date           \n",
       "53321 13901265   05/07/2009 12:00:00 AM 05/07/2009 12:00:00 AM\n",
       "57449 15438339   12/06/2009 12:00:00 AM 01/04/2010 12:00:00 AM\n",
       "21611  6773413   10/17/2006 12:00 AM    10/18/2006 12:00 AM   \n",
       "26441  8528938   12/10/2006 12:00 AM    12/18/2006 12:00 AM   \n",
       "24293  3637086   01/27/2006 12:00 AM    01/27/2006 12:00 AM   \n",
       "28327   366213   07/31/2006 12:00 AM    07/31/2006 12:00 AM   \n",
       "58533 15528269   12/17/2009 12:00:00 AM 12/23/2009 12:00:00 AM\n",
       "5238   1455730   09/14/2004 12:00 AM    09/14/2004 12:00 AM   \n",
       "32209  9006249   08/01/2007 12:00:00 AM 08/06/2007 12:00:00 AM\n",
       "1481    511930   12/12/2004 12:00 AM    12/14/2004 12:00 AM   \n",
       "      Complaint.Type          Location                                \n",
       "53321 Derelict Vehicle        (40.617799993451946, -73.93627682089715)\n",
       "57449 ELECTRIC                (40.80005453928576, -73.94058468907889) \n",
       "21611 HEATING                 (40.61383002382055, -73.95104077615885) \n",
       "26441 HEATING                 (40.82384059281061, -73.89186881921808) \n",
       "24293 Street Condition        (40.82105078782504, -73.8822663446518)  \n",
       "28327 Derelict Vehicle        (40.61916174589555, -73.93688427328587) \n",
       "58533 HEATING                 (40.68596848970488, -73.93964069232293) \n",
       "5238  Noise - Street/Sidewalk (40.822455126458685, -73.87869412517016)\n",
       "32209 APPLIANCE               (40.64359535901695, -74.07741192402966) \n",
       "1481  Street Light Condition                                          \n",
       "      opened     closed     resptime solvedin7\n",
       "53321 2009-05-07 2009-05-07  0       1        \n",
       "57449 2009-12-06 2010-01-04 29       0        \n",
       "21611 2006-10-17 2006-10-18  1       1        \n",
       "26441 2006-12-10 2006-12-18  8       0        \n",
       "24293 2006-01-27 2006-01-27  0       1        \n",
       "28327 2006-07-31 2006-07-31  0       1        \n",
       "58533 2009-12-17 2009-12-23  6       1        \n",
       "5238  2004-09-14 2004-09-14  0       1        \n",
       "32209 2007-08-01 2007-08-06  5       1        \n",
       "1481  2004-12-12 2004-12-14  2       1        "
      ]
     },
     "metadata": {},
     "output_type": "display_data"
    }
   ],
   "source": [
    "# 10 random rows\n",
    "nyc_all[sample(nrow(nyc), 10), ]\n"
   ]
  },
  {
   "cell_type": "markdown",
   "id": "1817f6a3",
   "metadata": {},
   "source": [
    "## A Note About Scope\n",
    "\n",
    "There's a concept in programming called \"scope\", which refers to what variables are visible at a given moment of execution. If you write a function to only need to work with (a) the arguments given to the function, and (b) the variables that you define within the function, you don't need to worry about scope. And indeed, there's a whole philosophy of programming -- called *functional programming* -- that says that's the only way you should write a function. \n",
    "\n",
    "In general, I would recommend sticking to this approach. However, I would not be doing my duty as an instructor if I did not mention that functions can see variables that exist outside of themselves. For example, in our `add_1_and_double()` example above, if we'd added the line `doubled <- doubled + x` right above our return statement, the function would have been able to \"see\" that there was a variable `x` in the world outside the function, and that it had been assigned the value `5` and increment `doubled` by 5. But... That's a very dangerous method of programming, because if you write a function that way, the behavior of the function now depends on the values assigned to variables outside the function. So `add_1_and_double(5)` would return one thing if you had earlier defined `x <- 2` and something different if you defined `x <- 7`. So... don't do it? I just want to warn you that code written like that will run, but it's something you won't want to use unless you really know what you're doing."
   ]
  },
  {
   "cell_type": "markdown",
   "id": "d00640c3",
   "metadata": {},
   "source": [
    "</div>\n",
    "\n",
    "\n"
   ]
  }
 ],
 "metadata": {
  "jupytext": {
   "cell_metadata_filter": "tags,eval,-all",
   "main_language": "R",
   "notebook_metadata_filter": "-all"
  },
  "kernelspec": {
   "display_name": "R",
   "language": "R",
   "name": "ir"
  },
  "language_info": {
   "codemirror_mode": "r",
   "file_extension": ".r",
   "mimetype": "text/x-r-source",
   "name": "R",
   "pygments_lexer": "r",
   "version": "4.1.0"
  }
 },
 "nbformat": 4,
 "nbformat_minor": 5
}
