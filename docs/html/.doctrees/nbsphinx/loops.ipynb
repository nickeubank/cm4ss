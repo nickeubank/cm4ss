{
 "cells": [
  {
   "cell_type": "markdown",
   "id": "3f5a7014",
   "metadata": {},
   "source": [
    "# Loops\n",
    "\n",
    "Until this point, the scripts we've been writing are quite straightforward: each line of code runs in sequence, one after another. Moreover, everything we want R to do, we have to write out by hand.\n",
    "\n",
    "In this lesson, we'll learn about loops -- a programming structure ideal for getting R to do LOTS of work with very little code. \n",
    "\n",
    "The basic idea of a loop is that in situations where you want R to do lots of very similar things, we can decompose our code into (a) generic code we want to run over and over, and (b) an input to that code that changes each time we repeat the generic code.\n",
    "\n",
    "Let's start with a simple example -- suppose I wanted to thank my TAs and everyone in class for a great bootcamp.I *could* type it out with:"
   ]
  },
  {
   "cell_type": "markdown",
   "id": "5fb81055",
   "metadata": {},
   "source": [
    "```r\n",
    "print(\"Happy Birthday Yi!\")\n",
    "print(\"Happy Birthday Zoe!\")\n",
    "print(\"Happy Birthday Ishani!\")\n",
    "print(\"Happy Birthday Kelly!\")\n",
    "...\n",
    "```\n",
    "etc. But that'd take FOREVER! Moreover, it's easy to see that most of what I'm typing out is exactly the same on every line. If only there were some way to leverage that information...\n",
    "\n",
    "Enter the loop!\n",
    "\n",
    "## The For-Loop\n",
    "\n",
    "The most basic loop is called a for-loop, and it loops over a collection of items, doing the loop once per item in the collection. \n",
    "\n",
    "In this case, our collection would be a vector with the names of all the students in the class. I won't make you look at the full list, though, so here's a little toy vector:"
   ]
  },
  {
   "cell_type": "code",
   "execution_count": 40,
   "id": "d52315e6",
   "metadata": {},
   "outputs": [],
   "source": [
    "names <- c(\"Yi\", \"Zoe\", \"Ishani\", \"Kelly\")"
   ]
  },
  {
   "cell_type": "markdown",
   "id": "c790a16a",
   "metadata": {},
   "source": [
    "Then we need to write out a for-loop, which looks like this:\n",
    "\n",
    "```r\n",
    "for(i in names) {\n",
    "    [code to repeat here]\n",
    "}\n",
    "```\n",
    "\n",
    "The way this loop works is that it iterates over the names in `names`, and each time it reaches a new name, it sets `i` to equal that name, then runs the code in the middle. For example, I could print all the names like this:"
   ]
  },
  {
   "cell_type": "code",
   "execution_count": 43,
   "id": "8cea9cbd",
   "metadata": {},
   "outputs": [
    {
     "name": "stdout",
     "output_type": "stream",
     "text": [
      "[1] \"Yi\"\n",
      "[1] \"Zoe\"\n",
      "[1] \"Ishani\"\n",
      "[1] \"Kelly\"\n"
     ]
    }
   ],
   "source": [
    "for (i in names) {\n",
    "    print(i)\n",
    "}"
   ]
  },
  {
   "cell_type": "markdown",
   "id": "1b3d5065",
   "metadata": {},
   "source": [
    "But of course, we usually don't just want to print `i`, we want to use it. So let's try and thank everyone in the class with a loop. \n",
    "\n",
    "We will start by writing out the code we eventually want in the loop, setting `i <- \"Yi\"` by hand to practice:"
   ]
  },
  {
   "cell_type": "code",
   "execution_count": 44,
   "id": "65a4ae2c",
   "metadata": {},
   "outputs": [
    {
     "name": "stdout",
     "output_type": "stream",
     "text": [
      "[1] \"Thank you Yi for a great class! \"\n"
     ]
    }
   ],
   "source": [
    "i <- \"Yi\"\n",
    "message <- paste0(\"Thank you \", i, \" for a great class! \")\n",
    "print(message)"
   ]
  },
  {
   "cell_type": "markdown",
   "id": "12cdfaa9",
   "metadata": {},
   "source": [
    "If you haven't seen `paste0()` before, it's a function that takes characters and concatenates them (sticks them together). (There's also a function called `paste()` that does the same thing but also adds a space between entries). \n",
    "\n",
    "OK, so now that we've got working code to put in the middle, we can move it into our loop:"
   ]
  },
  {
   "cell_type": "code",
   "execution_count": 48,
   "id": "606c02b7",
   "metadata": {},
   "outputs": [
    {
     "name": "stdout",
     "output_type": "stream",
     "text": [
      "[1] \"Thank you Yi for a great class! \"\n",
      "[1] \"Thank you Zoe for a great class! \"\n",
      "[1] \"Thank you Ishani for a great class! \"\n",
      "[1] \"Thank you Kelly for a great class! \"\n",
      "[1] \"OK, bye now!\"\n"
     ]
    }
   ],
   "source": [
    "for (i in names) {\n",
    "    message <- paste0(\"Thank you \", i,\n",
    "                      \" for a great class! \")\n",
    "    print(message)\n",
    "}\n",
    "\n",
    "print(\"OK, bye now!\")"
   ]
  },
  {
   "cell_type": "markdown",
   "id": "045e374d",
   "metadata": {},
   "source": [
    "A few things to note about this:\n",
    "\n",
    "- When developing the code to go into our loop, we started by assigning one of our names to `i`. In the real loop, we don't do that because it's done automatically at the top of the loop. \n",
    "- Remember how `print()` always seemed pointless, since you could always just type the name of a variable to see its value? Well that trick doesn't work in loops, which is why we need a tool like `print()`. \n",
    "- I also added a print statement at the end of my code -- as you can see, when the loop has iterated over all the values in `names`, R just moves on and runs the next command it sees. "
   ]
  },
  {
   "cell_type": "markdown",
   "id": "0f63e267",
   "metadata": {},
   "source": [
    "OK, let's take a moment to diagram what's happening here just to make sure everything is clear. For length, though, we'll shorten our name vector to just have Yi and Zoe. \n",
    "\n",
    "![loop1](images/loop1.png)\n",
    "\n",
    "![loop2](images/loop2.png)\n",
    "\n",
    "![loop3](images/loop3.png)\n",
    "\n",
    "![loop4](images/loop4.png)\n",
    "\n",
    "![loop5](images/loop5.png)\n",
    "\n",
    "![loop6](images/loop6.png)\n",
    "\n",
    "![loop7](images/loop7.png)"
   ]
  },
  {
   "cell_type": "markdown",
   "id": "6525acd3",
   "metadata": {
    "lines_to_next_cell": 0
   },
   "source": [
    "## An appliction\n",
    "\n",
    "For loops can be used to carry out Monte Carlo simulations. In the\n",
    "example below, we'll draw repeated samples from a population,\n",
    "calculate the mean for each sample, and test whether we on average do\n",
    "a good job of estimating the population mean. \n",
    "\n",
    "Say the population consists of 10 individuals with the following heights: "
   ]
  },
  {
   "cell_type": "markdown",
   "id": "8446d735",
   "metadata": {},
   "source": [
    "## Don't Loop Over Big Vectors / Data "
   ]
  },
  {
   "cell_type": "markdown",
   "id": "8d35eba4",
   "metadata": {},
   "source": [
    "\n",
    "**CAUTION:** Do not loop over your dataset rows\n",
    "\n",
    "Loops are powerful, but one thing you almost never want to do is loop over the rows of your dataset. The reason is that looping is **much** slower than doing an operation using vector math (a practice called \"vectorization\"). "
   ]
  },
  {
   "cell_type": "markdown",
   "id": "f0f93e4f",
   "metadata": {},
   "source": [
    "To illustrate, suppose I want to add up two vectors, each with 1,000,000 entries:"
   ]
  },
  {
   "cell_type": "code",
   "execution_count": 4,
   "id": "d8f1042d",
   "metadata": {},
   "outputs": [
    {
     "data": {
      "text/plain": [
       "   user  system elapsed \n",
       "  0.002   0.000   0.001 "
      ]
     },
     "metadata": {},
     "output_type": "display_data"
    }
   ],
   "source": [
    "v1 <- rnorm(1000000)\n",
    "v2 <- rnorm(1000000)\n",
    "\n",
    "# add up with vector math:\n",
    "\n",
    "vector_time <- system.time(v1 + v2)\n",
    "vector_time"
   ]
  },
  {
   "cell_type": "markdown",
   "id": "23b4b3ef",
   "metadata": {},
   "source": [
    "Note I have to put them in a function to do it because of how "
   ]
  },
  {
   "cell_type": "code",
   "execution_count": 5,
   "id": "0777269a",
   "metadata": {},
   "outputs": [
    {
     "data": {
      "text/plain": [
       "   user  system elapsed \n",
       "  0.070   0.003   0.073 "
      ]
     },
     "metadata": {},
     "output_type": "display_data"
    }
   ],
   "source": [
    "# Now add them up in a loop.\n",
    "\n",
    "looped <- function(v1, v2) {\n",
    "    # Add up in a loop\n",
    "    for (i in 1:1000000) {\n",
    "        v1[i] <- v1[i] + v2[i]\n",
    "    }\n",
    "    return(v1)\n",
    "}\n",
    "\n",
    "looped_time <- system.time(looped(v1, v2))\n",
    "looped_time"
   ]
  },
  {
   "cell_type": "code",
   "execution_count": 7,
   "id": "aabe96d7",
   "metadata": {},
   "outputs": [
    {
     "data": {
      "text/html": [
       "73"
      ],
      "text/latex": [
       "73"
      ],
      "text/markdown": [
       "73"
      ],
      "text/plain": [
       "[1] 73"
      ]
     },
     "metadata": {},
     "output_type": "display_data"
    }
   ],
   "source": [
    "# Looped took about this many time longer:\n",
    "\n",
    "round(looped_time[[\"elapsed\"]] / vector_time[[\"elapsed\"]])\n"
   ]
  },
  {
   "cell_type": "markdown",
   "id": "4c915f8a",
   "metadata": {},
   "source": [
    "So... yeah. 73x slower. Don't do it. \n",
    "\n",
    "(If you want to know why, I have an explanation for the [same phenomenon in Python here](https://www.practicaldatascience.org/html/performance_understanding.html). The examples have Python code, but the principles are the same). \n",
    "\n",
    "Also, if that code looks weird, it's because the result of `system.time` is being stored in a `list`, which is an interesting data structure we sadly don't have time to cover, but which you can read about [here](lists.ipynb))"
   ]
  },
  {
   "cell_type": "markdown",
   "id": "27cc0342",
   "metadata": {
    "lines_to_next_cell": 0
   },
   "source": [
    "## Exercises\n",
    "\n",
    "\n",
    "1. Use a for loop to take the square root of each value in the following \n",
    "vector: `vec1 <- c(4, 9, 81, 100, 1000, 10^6)`. Save the results to a new \n",
    "vector called `vec2`. \n",
    "\n",
    "2. Monte Carlo Simulation: Imagine that the values in the vector `pop`\n",
    "below represent vote shares for a presidential candidate across the\n",
    "3,144 counties in the United States. If we were to take a sample of 50\n",
    "counties and estimate mean support for the presidential candidate,\n",
    "would we, on average, estimate the vote share across all counties\n",
    "accurately? (Don't worry about the fact that we really should be\n",
    "weighing counties by their population size to estimate overall\n",
    "support.) Draw 10,000 samples of 50 counties from `pop` and estimate\n",
    "mean support for each sample, saving each mean estimate into a vector\n",
    "called `smpl_means`. How does the mean of the sample means compare to \n",
    "the population mean? Do we, on average, do a good job of estimating the \n",
    "population mean? \n",
    "\n",
    "<div class=\"indent\">"
   ]
  }
 ],
 "metadata": {
  "jupytext": {
   "cell_metadata_filter": "echo,-all",
   "main_language": "R",
   "notebook_metadata_filter": "-all"
  },
  "kernelspec": {
   "display_name": "R",
   "language": "R",
   "name": "ir"
  },
  "language_info": {
   "codemirror_mode": "r",
   "file_extension": ".r",
   "mimetype": "text/x-r-source",
   "name": "R",
   "pygments_lexer": "r",
   "version": "4.1.0"
  }
 },
 "nbformat": 4,
 "nbformat_minor": 5
}
