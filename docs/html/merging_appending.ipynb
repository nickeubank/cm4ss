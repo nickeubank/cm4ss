{
 "cells": [
  {
   "cell_type": "markdown",
   "id": "80898aa3",
   "metadata": {},
   "source": [
    "# Merging & Appending\n",
    "\n",
    "This tutorial explains how to combine datasets by merging or appending them. Merging means transferring *columns* from one dataset to another, while appending means transferring *rows* from one dataset to another. These are two important tasks since datasets only very rarely come with all the information we need. \n"
   ]
  },
  {
   "cell_type": "markdown",
   "id": "6caabb05",
   "metadata": {},
   "source": [
    "## Merging\n",
    "\n",
    "\n",
    "Say you're interested in how economic development affects democracy\n",
    "across countries, but all you have are two separate datasets on these\n",
    "two factors. What you need to do is to combine the two.  When you're\n",
    "done with this, you also need information on what world region each\n",
    "country is located in. These tasks can be accomplished with one-to-one\n",
    "merging and one-to-many merging."
   ]
  },
  {
   "cell_type": "markdown",
   "id": "1387c180",
   "metadata": {},
   "source": [
    "One-to-one merging\n",
    "--------------------\n",
    "\n",
    "To illustrate, say you had two datasets that look like this: "
   ]
  },
  {
   "cell_type": "code",
   "execution_count": 3,
   "id": "e8b9df9f",
   "metadata": {},
   "outputs": [
    {
     "data": {
      "text/html": [
       "<table class=\"dataframe\">\n",
       "<caption>A data.frame: 5 × 2</caption>\n",
       "<thead>\n",
       "\t<tr><th scope=col>country</th><th scope=col>democracy_score</th></tr>\n",
       "\t<tr><th scope=col>&lt;chr&gt;</th><th scope=col>&lt;dbl&gt;</th></tr>\n",
       "</thead>\n",
       "<tbody>\n",
       "\t<tr><td>USA    </td><td>19</td></tr>\n",
       "\t<tr><td>Albania</td><td>16</td></tr>\n",
       "\t<tr><td>Turkey </td><td>16</td></tr>\n",
       "\t<tr><td>China  </td><td> 5</td></tr>\n",
       "\t<tr><td>Sudan  </td><td>10</td></tr>\n",
       "</tbody>\n",
       "</table>\n"
      ],
      "text/latex": [
       "A data.frame: 5 × 2\n",
       "\\begin{tabular}{ll}\n",
       " country & democracy\\_score\\\\\n",
       " <chr> & <dbl>\\\\\n",
       "\\hline\n",
       "\t USA     & 19\\\\\n",
       "\t Albania & 16\\\\\n",
       "\t Turkey  & 16\\\\\n",
       "\t China   &  5\\\\\n",
       "\t Sudan   & 10\\\\\n",
       "\\end{tabular}\n"
      ],
      "text/markdown": [
       "\n",
       "A data.frame: 5 × 2\n",
       "\n",
       "| country &lt;chr&gt; | democracy_score &lt;dbl&gt; |\n",
       "|---|---|\n",
       "| USA     | 19 |\n",
       "| Albania | 16 |\n",
       "| Turkey  | 16 |\n",
       "| China   |  5 |\n",
       "| Sudan   | 10 |\n",
       "\n"
      ],
      "text/plain": [
       "  country democracy_score\n",
       "1 USA     19             \n",
       "2 Albania 16             \n",
       "3 Turkey  16             \n",
       "4 China    5             \n",
       "5 Sudan   10             "
      ]
     },
     "metadata": {},
     "output_type": "display_data"
    },
    {
     "data": {
      "text/html": [
       "<table class=\"dataframe\">\n",
       "<caption>A data.frame: 5 × 2</caption>\n",
       "<thead>\n",
       "\t<tr><th scope=col>country</th><th scope=col>gdp_pc</th></tr>\n",
       "\t<tr><th scope=col>&lt;chr&gt;</th><th scope=col>&lt;dbl&gt;</th></tr>\n",
       "</thead>\n",
       "<tbody>\n",
       "\t<tr><td>China  </td><td>12000</td></tr>\n",
       "\t<tr><td>Albania</td><td>10000</td></tr>\n",
       "\t<tr><td>Turkey </td><td> 9000</td></tr>\n",
       "\t<tr><td>USA    </td><td>20000</td></tr>\n",
       "\t<tr><td>Sudan  </td><td>  500</td></tr>\n",
       "</tbody>\n",
       "</table>\n"
      ],
      "text/latex": [
       "A data.frame: 5 × 2\n",
       "\\begin{tabular}{ll}\n",
       " country & gdp\\_pc\\\\\n",
       " <chr> & <dbl>\\\\\n",
       "\\hline\n",
       "\t China   & 12000\\\\\n",
       "\t Albania & 10000\\\\\n",
       "\t Turkey  &  9000\\\\\n",
       "\t USA     & 20000\\\\\n",
       "\t Sudan   &   500\\\\\n",
       "\\end{tabular}\n"
      ],
      "text/markdown": [
       "\n",
       "A data.frame: 5 × 2\n",
       "\n",
       "| country &lt;chr&gt; | gdp_pc &lt;dbl&gt; |\n",
       "|---|---|\n",
       "| China   | 12000 |\n",
       "| Albania | 10000 |\n",
       "| Turkey  |  9000 |\n",
       "| USA     | 20000 |\n",
       "| Sudan   |   500 |\n",
       "\n"
      ],
      "text/plain": [
       "  country gdp_pc\n",
       "1 China   12000 \n",
       "2 Albania 10000 \n",
       "3 Turkey   9000 \n",
       "4 USA     20000 \n",
       "5 Sudan     500 "
      ]
     },
     "metadata": {},
     "output_type": "display_data"
    }
   ],
   "source": [
    "# Generate toy dataset 1: \n",
    "demo <- data.frame(\n",
    "    country = c(\"USA\", \"Albania\", \"Turkey\", \"China\", \"Sudan\"),\n",
    "    democracy_score = c(19, 16, 16, 5, 10)\n",
    "    )\n",
    "demo\n",
    "\n",
    "# Generate toy dataset 2: \n",
    "econ <- data.frame(\n",
    "    country = c(\"China\", \"Albania\", \"Turkey\", \"USA\", \"Sudan\"),\n",
    "    gdp_pc = c(12000, 10000, 9000, 20000, 500)\n",
    "    )\n",
    "econ"
   ]
  },
  {
   "cell_type": "markdown",
   "id": "432e07ba",
   "metadata": {
    "lines_to_next_cell": 0
   },
   "source": [
    "We can merge these datasets using R's `merge()` command, where `by` specifies\n",
    "the variable the two datasets has in common (usually called an \"ID\" variable):"
   ]
  },
  {
   "cell_type": "code",
   "execution_count": 4,
   "id": "fc75f7d9",
   "metadata": {},
   "outputs": [
    {
     "data": {
      "text/html": [
       "<table class=\"dataframe\">\n",
       "<caption>A data.frame: 5 × 3</caption>\n",
       "<thead>\n",
       "\t<tr><th scope=col>country</th><th scope=col>democracy_score</th><th scope=col>gdp_pc</th></tr>\n",
       "\t<tr><th scope=col>&lt;chr&gt;</th><th scope=col>&lt;dbl&gt;</th><th scope=col>&lt;dbl&gt;</th></tr>\n",
       "</thead>\n",
       "<tbody>\n",
       "\t<tr><td>Albania</td><td>16</td><td>10000</td></tr>\n",
       "\t<tr><td>China  </td><td> 5</td><td>12000</td></tr>\n",
       "\t<tr><td>Sudan  </td><td>10</td><td>  500</td></tr>\n",
       "\t<tr><td>Turkey </td><td>16</td><td> 9000</td></tr>\n",
       "\t<tr><td>USA    </td><td>19</td><td>20000</td></tr>\n",
       "</tbody>\n",
       "</table>\n"
      ],
      "text/latex": [
       "A data.frame: 5 × 3\n",
       "\\begin{tabular}{lll}\n",
       " country & democracy\\_score & gdp\\_pc\\\\\n",
       " <chr> & <dbl> & <dbl>\\\\\n",
       "\\hline\n",
       "\t Albania & 16 & 10000\\\\\n",
       "\t China   &  5 & 12000\\\\\n",
       "\t Sudan   & 10 &   500\\\\\n",
       "\t Turkey  & 16 &  9000\\\\\n",
       "\t USA     & 19 & 20000\\\\\n",
       "\\end{tabular}\n"
      ],
      "text/markdown": [
       "\n",
       "A data.frame: 5 × 3\n",
       "\n",
       "| country &lt;chr&gt; | democracy_score &lt;dbl&gt; | gdp_pc &lt;dbl&gt; |\n",
       "|---|---|---|\n",
       "| Albania | 16 | 10000 |\n",
       "| China   |  5 | 12000 |\n",
       "| Sudan   | 10 |   500 |\n",
       "| Turkey  | 16 |  9000 |\n",
       "| USA     | 19 | 20000 |\n",
       "\n"
      ],
      "text/plain": [
       "  country democracy_score gdp_pc\n",
       "1 Albania 16              10000 \n",
       "2 China    5              12000 \n",
       "3 Sudan   10                500 \n",
       "4 Turkey  16               9000 \n",
       "5 USA     19              20000 "
      ]
     },
     "metadata": {},
     "output_type": "display_data"
    }
   ],
   "source": [
    "df <- merge(demo, econ, by = \"country\")\n",
    "df"
   ]
  },
  {
   "cell_type": "markdown",
   "id": "9bf2aed3",
   "metadata": {},
   "source": [
    "You can merge on more than one variable. Say you had two datasets that look \n",
    "like this:"
   ]
  },
  {
   "cell_type": "code",
   "execution_count": 5,
   "id": "03585afa",
   "metadata": {},
   "outputs": [
    {
     "data": {
      "text/html": [
       "<table class=\"dataframe\">\n",
       "<caption>A data.frame: 9 × 3</caption>\n",
       "<thead>\n",
       "\t<tr><th scope=col>country</th><th scope=col>year</th><th scope=col>democracy_score</th></tr>\n",
       "\t<tr><th scope=col>&lt;fct&gt;</th><th scope=col>&lt;int&gt;</th><th scope=col>&lt;dbl&gt;</th></tr>\n",
       "</thead>\n",
       "<tbody>\n",
       "\t<tr><td>USA  </td><td>1994</td><td>12</td></tr>\n",
       "\t<tr><td>China</td><td>1994</td><td>18</td></tr>\n",
       "\t<tr><td>Sudan</td><td>1994</td><td> 0</td></tr>\n",
       "\t<tr><td>USA  </td><td>1995</td><td> 4</td></tr>\n",
       "\t<tr><td>China</td><td>1995</td><td>12</td></tr>\n",
       "\t<tr><td>Sudan</td><td>1995</td><td> 4</td></tr>\n",
       "\t<tr><td>USA  </td><td>1996</td><td> 6</td></tr>\n",
       "\t<tr><td>China</td><td>1996</td><td> 9</td></tr>\n",
       "\t<tr><td>Sudan</td><td>1996</td><td>15</td></tr>\n",
       "</tbody>\n",
       "</table>\n"
      ],
      "text/latex": [
       "A data.frame: 9 × 3\n",
       "\\begin{tabular}{lll}\n",
       " country & year & democracy\\_score\\\\\n",
       " <fct> & <int> & <dbl>\\\\\n",
       "\\hline\n",
       "\t USA   & 1994 & 12\\\\\n",
       "\t China & 1994 & 18\\\\\n",
       "\t Sudan & 1994 &  0\\\\\n",
       "\t USA   & 1995 &  4\\\\\n",
       "\t China & 1995 & 12\\\\\n",
       "\t Sudan & 1995 &  4\\\\\n",
       "\t USA   & 1996 &  6\\\\\n",
       "\t China & 1996 &  9\\\\\n",
       "\t Sudan & 1996 & 15\\\\\n",
       "\\end{tabular}\n"
      ],
      "text/markdown": [
       "\n",
       "A data.frame: 9 × 3\n",
       "\n",
       "| country &lt;fct&gt; | year &lt;int&gt; | democracy_score &lt;dbl&gt; |\n",
       "|---|---|---|\n",
       "| USA   | 1994 | 12 |\n",
       "| China | 1994 | 18 |\n",
       "| Sudan | 1994 |  0 |\n",
       "| USA   | 1995 |  4 |\n",
       "| China | 1995 | 12 |\n",
       "| Sudan | 1995 |  4 |\n",
       "| USA   | 1996 |  6 |\n",
       "| China | 1996 |  9 |\n",
       "| Sudan | 1996 | 15 |\n",
       "\n"
      ],
      "text/plain": [
       "  country year democracy_score\n",
       "1 USA     1994 12             \n",
       "2 China   1994 18             \n",
       "3 Sudan   1994  0             \n",
       "4 USA     1995  4             \n",
       "5 China   1995 12             \n",
       "6 Sudan   1995  4             \n",
       "7 USA     1996  6             \n",
       "8 China   1996  9             \n",
       "9 Sudan   1996 15             "
      ]
     },
     "metadata": {},
     "output_type": "display_data"
    },
    {
     "data": {
      "text/html": [
       "<table class=\"dataframe\">\n",
       "<caption>A data.frame: 9 × 3</caption>\n",
       "<thead>\n",
       "\t<tr><th scope=col>year</th><th scope=col>country</th><th scope=col>gdp_pc</th></tr>\n",
       "\t<tr><th scope=col>&lt;int&gt;</th><th scope=col>&lt;fct&gt;</th><th scope=col>&lt;dbl&gt;</th></tr>\n",
       "</thead>\n",
       "<tbody>\n",
       "\t<tr><td>1994</td><td>USA  </td><td>14059</td></tr>\n",
       "\t<tr><td>1995</td><td>USA  </td><td>19280</td></tr>\n",
       "\t<tr><td>1996</td><td>USA  </td><td> 9361</td></tr>\n",
       "\t<tr><td>1994</td><td>China</td><td> 7861</td></tr>\n",
       "\t<tr><td>1995</td><td>China</td><td> 9918</td></tr>\n",
       "\t<tr><td>1996</td><td>China</td><td>18450</td></tr>\n",
       "\t<tr><td>1994</td><td>Sudan</td><td> 9304</td></tr>\n",
       "\t<tr><td>1995</td><td>Sudan</td><td> 2441</td></tr>\n",
       "\t<tr><td>1996</td><td>Sudan</td><td>15416</td></tr>\n",
       "</tbody>\n",
       "</table>\n"
      ],
      "text/latex": [
       "A data.frame: 9 × 3\n",
       "\\begin{tabular}{lll}\n",
       " year & country & gdp\\_pc\\\\\n",
       " <int> & <fct> & <dbl>\\\\\n",
       "\\hline\n",
       "\t 1994 & USA   & 14059\\\\\n",
       "\t 1995 & USA   & 19280\\\\\n",
       "\t 1996 & USA   &  9361\\\\\n",
       "\t 1994 & China &  7861\\\\\n",
       "\t 1995 & China &  9918\\\\\n",
       "\t 1996 & China & 18450\\\\\n",
       "\t 1994 & Sudan &  9304\\\\\n",
       "\t 1995 & Sudan &  2441\\\\\n",
       "\t 1996 & Sudan & 15416\\\\\n",
       "\\end{tabular}\n"
      ],
      "text/markdown": [
       "\n",
       "A data.frame: 9 × 3\n",
       "\n",
       "| year &lt;int&gt; | country &lt;fct&gt; | gdp_pc &lt;dbl&gt; |\n",
       "|---|---|---|\n",
       "| 1994 | USA   | 14059 |\n",
       "| 1995 | USA   | 19280 |\n",
       "| 1996 | USA   |  9361 |\n",
       "| 1994 | China |  7861 |\n",
       "| 1995 | China |  9918 |\n",
       "| 1996 | China | 18450 |\n",
       "| 1994 | Sudan |  9304 |\n",
       "| 1995 | Sudan |  2441 |\n",
       "| 1996 | Sudan | 15416 |\n",
       "\n"
      ],
      "text/plain": [
       "  year country gdp_pc\n",
       "1 1994 USA     14059 \n",
       "2 1995 USA     19280 \n",
       "3 1996 USA      9361 \n",
       "4 1994 China    7861 \n",
       "5 1995 China    9918 \n",
       "6 1996 China   18450 \n",
       "7 1994 Sudan    9304 \n",
       "8 1995 Sudan    2441 \n",
       "9 1996 Sudan   15416 "
      ]
     },
     "metadata": {},
     "output_type": "display_data"
    },
    {
     "data": {
      "text/html": [
       "<table class=\"dataframe\">\n",
       "<caption>A data.frame: 9 × 4</caption>\n",
       "<thead>\n",
       "\t<tr><th scope=col>country</th><th scope=col>year</th><th scope=col>democracy_score</th><th scope=col>gdp_pc</th></tr>\n",
       "\t<tr><th scope=col>&lt;fct&gt;</th><th scope=col>&lt;int&gt;</th><th scope=col>&lt;dbl&gt;</th><th scope=col>&lt;dbl&gt;</th></tr>\n",
       "</thead>\n",
       "<tbody>\n",
       "\t<tr><td>China</td><td>1994</td><td>18</td><td> 7861</td></tr>\n",
       "\t<tr><td>China</td><td>1995</td><td>12</td><td> 9918</td></tr>\n",
       "\t<tr><td>China</td><td>1996</td><td> 9</td><td>18450</td></tr>\n",
       "\t<tr><td>Sudan</td><td>1994</td><td> 0</td><td> 9304</td></tr>\n",
       "\t<tr><td>Sudan</td><td>1995</td><td> 4</td><td> 2441</td></tr>\n",
       "\t<tr><td>Sudan</td><td>1996</td><td>15</td><td>15416</td></tr>\n",
       "\t<tr><td>USA  </td><td>1994</td><td>12</td><td>14059</td></tr>\n",
       "\t<tr><td>USA  </td><td>1995</td><td> 4</td><td>19280</td></tr>\n",
       "\t<tr><td>USA  </td><td>1996</td><td> 6</td><td> 9361</td></tr>\n",
       "</tbody>\n",
       "</table>\n"
      ],
      "text/latex": [
       "A data.frame: 9 × 4\n",
       "\\begin{tabular}{llll}\n",
       " country & year & democracy\\_score & gdp\\_pc\\\\\n",
       " <fct> & <int> & <dbl> & <dbl>\\\\\n",
       "\\hline\n",
       "\t China & 1994 & 18 &  7861\\\\\n",
       "\t China & 1995 & 12 &  9918\\\\\n",
       "\t China & 1996 &  9 & 18450\\\\\n",
       "\t Sudan & 1994 &  0 &  9304\\\\\n",
       "\t Sudan & 1995 &  4 &  2441\\\\\n",
       "\t Sudan & 1996 & 15 & 15416\\\\\n",
       "\t USA   & 1994 & 12 & 14059\\\\\n",
       "\t USA   & 1995 &  4 & 19280\\\\\n",
       "\t USA   & 1996 &  6 &  9361\\\\\n",
       "\\end{tabular}\n"
      ],
      "text/markdown": [
       "\n",
       "A data.frame: 9 × 4\n",
       "\n",
       "| country &lt;fct&gt; | year &lt;int&gt; | democracy_score &lt;dbl&gt; | gdp_pc &lt;dbl&gt; |\n",
       "|---|---|---|---|\n",
       "| China | 1994 | 18 |  7861 |\n",
       "| China | 1995 | 12 |  9918 |\n",
       "| China | 1996 |  9 | 18450 |\n",
       "| Sudan | 1994 |  0 |  9304 |\n",
       "| Sudan | 1995 |  4 |  2441 |\n",
       "| Sudan | 1996 | 15 | 15416 |\n",
       "| USA   | 1994 | 12 | 14059 |\n",
       "| USA   | 1995 |  4 | 19280 |\n",
       "| USA   | 1996 |  6 |  9361 |\n",
       "\n"
      ],
      "text/plain": [
       "  country year democracy_score gdp_pc\n",
       "1 China   1994 18               7861 \n",
       "2 China   1995 12               9918 \n",
       "3 China   1996  9              18450 \n",
       "4 Sudan   1994  0               9304 \n",
       "5 Sudan   1995  4               2441 \n",
       "6 Sudan   1996 15              15416 \n",
       "7 USA     1994 12              14059 \n",
       "8 USA     1995  4              19280 \n",
       "9 USA     1996  6               9361 "
      ]
     },
     "metadata": {},
     "output_type": "display_data"
    }
   ],
   "source": [
    "# Generate toy dataset 1: \n",
    "demo <- data.frame(\n",
    "    expand.grid(country = c(\"USA\", \"China\", \"Sudan\"), year = 1994:1996),\n",
    "    democracy_score = round(runif(9, 0, 20), 0)\n",
    "    )\n",
    "demo\n",
    "\n",
    "# Generate toy dataset 2: \n",
    "econ <- data.frame(\n",
    "    expand.grid(year = 1994:1996, country = c(\"USA\", \"China\", \"Sudan\")),\n",
    "    gdp_pc = round(runif(9, 1000, 20000), 0)\n",
    "    )\n",
    "econ\n",
    "\n",
    "merge(demo, econ, by = c(\"country\", \"year\"))"
   ]
  },
  {
   "cell_type": "markdown",
   "id": "01f39875",
   "metadata": {},
   "source": [
    "Here, we're merging on both country and year. \n",
    "\n",
    "If one of the data frames has missing observations, only observations \n",
    "the two data frames have in common will be kept when merging, unless\n",
    "you specify `all.x`, `all.y`, or `all`: "
   ]
  },
  {
   "cell_type": "code",
   "execution_count": 6,
   "id": "58a15a9d",
   "metadata": {
    "lines_to_next_cell": 2
   },
   "outputs": [
    {
     "data": {
      "text/html": [
       "<table class=\"dataframe\">\n",
       "<caption>A data.frame: 7 × 3</caption>\n",
       "<thead>\n",
       "\t<tr><th></th><th scope=col>year</th><th scope=col>country</th><th scope=col>gdp_pc</th></tr>\n",
       "\t<tr><th></th><th scope=col>&lt;int&gt;</th><th scope=col>&lt;fct&gt;</th><th scope=col>&lt;dbl&gt;</th></tr>\n",
       "</thead>\n",
       "<tbody>\n",
       "\t<tr><th scope=row>1</th><td>1994</td><td>USA  </td><td>14059</td></tr>\n",
       "\t<tr><th scope=row>2</th><td>1995</td><td>USA  </td><td>19280</td></tr>\n",
       "\t<tr><th scope=row>3</th><td>1996</td><td>USA  </td><td> 9361</td></tr>\n",
       "\t<tr><th scope=row>4</th><td>1994</td><td>China</td><td> 7861</td></tr>\n",
       "\t<tr><th scope=row>6</th><td>1996</td><td>China</td><td>18450</td></tr>\n",
       "\t<tr><th scope=row>7</th><td>1994</td><td>Sudan</td><td> 9304</td></tr>\n",
       "\t<tr><th scope=row>8</th><td>1995</td><td>Sudan</td><td> 2441</td></tr>\n",
       "</tbody>\n",
       "</table>\n"
      ],
      "text/latex": [
       "A data.frame: 7 × 3\n",
       "\\begin{tabular}{r|lll}\n",
       "  & year & country & gdp\\_pc\\\\\n",
       "  & <int> & <fct> & <dbl>\\\\\n",
       "\\hline\n",
       "\t1 & 1994 & USA   & 14059\\\\\n",
       "\t2 & 1995 & USA   & 19280\\\\\n",
       "\t3 & 1996 & USA   &  9361\\\\\n",
       "\t4 & 1994 & China &  7861\\\\\n",
       "\t6 & 1996 & China & 18450\\\\\n",
       "\t7 & 1994 & Sudan &  9304\\\\\n",
       "\t8 & 1995 & Sudan &  2441\\\\\n",
       "\\end{tabular}\n"
      ],
      "text/markdown": [
       "\n",
       "A data.frame: 7 × 3\n",
       "\n",
       "| <!--/--> | year &lt;int&gt; | country &lt;fct&gt; | gdp_pc &lt;dbl&gt; |\n",
       "|---|---|---|---|\n",
       "| 1 | 1994 | USA   | 14059 |\n",
       "| 2 | 1995 | USA   | 19280 |\n",
       "| 3 | 1996 | USA   |  9361 |\n",
       "| 4 | 1994 | China |  7861 |\n",
       "| 6 | 1996 | China | 18450 |\n",
       "| 7 | 1994 | Sudan |  9304 |\n",
       "| 8 | 1995 | Sudan |  2441 |\n",
       "\n"
      ],
      "text/plain": [
       "  year country gdp_pc\n",
       "1 1994 USA     14059 \n",
       "2 1995 USA     19280 \n",
       "3 1996 USA      9361 \n",
       "4 1994 China    7861 \n",
       "6 1996 China   18450 \n",
       "7 1994 Sudan    9304 \n",
       "8 1995 Sudan    2441 "
      ]
     },
     "metadata": {},
     "output_type": "display_data"
    }
   ],
   "source": [
    "econ <- econ[-c(5, 9), ] #delete obs. 5 & 9 for illustrative purposes\n",
    "econ"
   ]
  },
  {
   "cell_type": "code",
   "execution_count": 7,
   "id": "ee23a9e9",
   "metadata": {},
   "outputs": [
    {
     "data": {
      "text/html": [
       "<style>\n",
       ".list-inline {list-style: none; margin:0; padding: 0}\n",
       ".list-inline>li {display: inline-block}\n",
       ".list-inline>li:not(:last-child)::after {content: \"\\00b7\"; padding: 0 .5ex}\n",
       "</style>\n",
       "<ol class=list-inline><li>9</li><li>3</li></ol>\n"
      ],
      "text/latex": [
       "\\begin{enumerate*}\n",
       "\\item 9\n",
       "\\item 3\n",
       "\\end{enumerate*}\n"
      ],
      "text/markdown": [
       "1. 9\n",
       "2. 3\n",
       "\n",
       "\n"
      ],
      "text/plain": [
       "[1] 9 3"
      ]
     },
     "metadata": {},
     "output_type": "display_data"
    },
    {
     "data": {
      "text/html": [
       "<style>\n",
       ".list-inline {list-style: none; margin:0; padding: 0}\n",
       ".list-inline>li {display: inline-block}\n",
       ".list-inline>li:not(:last-child)::after {content: \"\\00b7\"; padding: 0 .5ex}\n",
       "</style>\n",
       "<ol class=list-inline><li>7</li><li>3</li></ol>\n"
      ],
      "text/latex": [
       "\\begin{enumerate*}\n",
       "\\item 7\n",
       "\\item 3\n",
       "\\end{enumerate*}\n"
      ],
      "text/markdown": [
       "1. 7\n",
       "2. 3\n",
       "\n",
       "\n"
      ],
      "text/plain": [
       "[1] 7 3"
      ]
     },
     "metadata": {},
     "output_type": "display_data"
    }
   ],
   "source": [
    "#different number of observations (rows) than 'econ'\n",
    "dim(demo)\n",
    "\n",
    "# different number of observations (rows) than 'demo'\n",
    "dim(econ)"
   ]
  },
  {
   "cell_type": "code",
   "execution_count": 8,
   "id": "bfdb2cb0",
   "metadata": {},
   "outputs": [
    {
     "data": {
      "text/html": [
       "<table class=\"dataframe\">\n",
       "<caption>A data.frame: 7 × 4</caption>\n",
       "<thead>\n",
       "\t<tr><th scope=col>country</th><th scope=col>year</th><th scope=col>democracy_score</th><th scope=col>gdp_pc</th></tr>\n",
       "\t<tr><th scope=col>&lt;fct&gt;</th><th scope=col>&lt;int&gt;</th><th scope=col>&lt;dbl&gt;</th><th scope=col>&lt;dbl&gt;</th></tr>\n",
       "</thead>\n",
       "<tbody>\n",
       "\t<tr><td>China</td><td>1994</td><td>18</td><td> 7861</td></tr>\n",
       "\t<tr><td>China</td><td>1996</td><td> 9</td><td>18450</td></tr>\n",
       "\t<tr><td>Sudan</td><td>1994</td><td> 0</td><td> 9304</td></tr>\n",
       "\t<tr><td>Sudan</td><td>1995</td><td> 4</td><td> 2441</td></tr>\n",
       "\t<tr><td>USA  </td><td>1994</td><td>12</td><td>14059</td></tr>\n",
       "\t<tr><td>USA  </td><td>1995</td><td> 4</td><td>19280</td></tr>\n",
       "\t<tr><td>USA  </td><td>1996</td><td> 6</td><td> 9361</td></tr>\n",
       "</tbody>\n",
       "</table>\n"
      ],
      "text/latex": [
       "A data.frame: 7 × 4\n",
       "\\begin{tabular}{llll}\n",
       " country & year & democracy\\_score & gdp\\_pc\\\\\n",
       " <fct> & <int> & <dbl> & <dbl>\\\\\n",
       "\\hline\n",
       "\t China & 1994 & 18 &  7861\\\\\n",
       "\t China & 1996 &  9 & 18450\\\\\n",
       "\t Sudan & 1994 &  0 &  9304\\\\\n",
       "\t Sudan & 1995 &  4 &  2441\\\\\n",
       "\t USA   & 1994 & 12 & 14059\\\\\n",
       "\t USA   & 1995 &  4 & 19280\\\\\n",
       "\t USA   & 1996 &  6 &  9361\\\\\n",
       "\\end{tabular}\n"
      ],
      "text/markdown": [
       "\n",
       "A data.frame: 7 × 4\n",
       "\n",
       "| country &lt;fct&gt; | year &lt;int&gt; | democracy_score &lt;dbl&gt; | gdp_pc &lt;dbl&gt; |\n",
       "|---|---|---|---|\n",
       "| China | 1994 | 18 |  7861 |\n",
       "| China | 1996 |  9 | 18450 |\n",
       "| Sudan | 1994 |  0 |  9304 |\n",
       "| Sudan | 1995 |  4 |  2441 |\n",
       "| USA   | 1994 | 12 | 14059 |\n",
       "| USA   | 1995 |  4 | 19280 |\n",
       "| USA   | 1996 |  6 |  9361 |\n",
       "\n"
      ],
      "text/plain": [
       "  country year democracy_score gdp_pc\n",
       "1 China   1994 18               7861 \n",
       "2 China   1996  9              18450 \n",
       "3 Sudan   1994  0               9304 \n",
       "4 Sudan   1995  4               2441 \n",
       "5 USA     1994 12              14059 \n",
       "6 USA     1995  4              19280 \n",
       "7 USA     1996  6               9361 "
      ]
     },
     "metadata": {},
     "output_type": "display_data"
    },
    {
     "data": {
      "text/html": [
       "<table class=\"dataframe\">\n",
       "<caption>A data.frame: 9 × 4</caption>\n",
       "<thead>\n",
       "\t<tr><th scope=col>country</th><th scope=col>year</th><th scope=col>democracy_score</th><th scope=col>gdp_pc</th></tr>\n",
       "\t<tr><th scope=col>&lt;fct&gt;</th><th scope=col>&lt;int&gt;</th><th scope=col>&lt;dbl&gt;</th><th scope=col>&lt;dbl&gt;</th></tr>\n",
       "</thead>\n",
       "<tbody>\n",
       "\t<tr><td>USA  </td><td>1994</td><td>12</td><td>14059</td></tr>\n",
       "\t<tr><td>USA  </td><td>1995</td><td> 4</td><td>19280</td></tr>\n",
       "\t<tr><td>USA  </td><td>1996</td><td> 6</td><td> 9361</td></tr>\n",
       "\t<tr><td>China</td><td>1994</td><td>18</td><td> 7861</td></tr>\n",
       "\t<tr><td>China</td><td>1995</td><td>12</td><td>   NA</td></tr>\n",
       "\t<tr><td>China</td><td>1996</td><td> 9</td><td>18450</td></tr>\n",
       "\t<tr><td>Sudan</td><td>1994</td><td> 0</td><td> 9304</td></tr>\n",
       "\t<tr><td>Sudan</td><td>1995</td><td> 4</td><td> 2441</td></tr>\n",
       "\t<tr><td>Sudan</td><td>1996</td><td>15</td><td>   NA</td></tr>\n",
       "</tbody>\n",
       "</table>\n"
      ],
      "text/latex": [
       "A data.frame: 9 × 4\n",
       "\\begin{tabular}{llll}\n",
       " country & year & democracy\\_score & gdp\\_pc\\\\\n",
       " <fct> & <int> & <dbl> & <dbl>\\\\\n",
       "\\hline\n",
       "\t USA   & 1994 & 12 & 14059\\\\\n",
       "\t USA   & 1995 &  4 & 19280\\\\\n",
       "\t USA   & 1996 &  6 &  9361\\\\\n",
       "\t China & 1994 & 18 &  7861\\\\\n",
       "\t China & 1995 & 12 &    NA\\\\\n",
       "\t China & 1996 &  9 & 18450\\\\\n",
       "\t Sudan & 1994 &  0 &  9304\\\\\n",
       "\t Sudan & 1995 &  4 &  2441\\\\\n",
       "\t Sudan & 1996 & 15 &    NA\\\\\n",
       "\\end{tabular}\n"
      ],
      "text/markdown": [
       "\n",
       "A data.frame: 9 × 4\n",
       "\n",
       "| country &lt;fct&gt; | year &lt;int&gt; | democracy_score &lt;dbl&gt; | gdp_pc &lt;dbl&gt; |\n",
       "|---|---|---|---|\n",
       "| USA   | 1994 | 12 | 14059 |\n",
       "| USA   | 1995 |  4 | 19280 |\n",
       "| USA   | 1996 |  6 |  9361 |\n",
       "| China | 1994 | 18 |  7861 |\n",
       "| China | 1995 | 12 |    NA |\n",
       "| China | 1996 |  9 | 18450 |\n",
       "| Sudan | 1994 |  0 |  9304 |\n",
       "| Sudan | 1995 |  4 |  2441 |\n",
       "| Sudan | 1996 | 15 |    NA |\n",
       "\n"
      ],
      "text/plain": [
       "  country year democracy_score gdp_pc\n",
       "1 USA     1994 12              14059 \n",
       "2 USA     1995  4              19280 \n",
       "3 USA     1996  6               9361 \n",
       "4 China   1994 18               7861 \n",
       "5 China   1995 12                 NA \n",
       "6 China   1996  9              18450 \n",
       "7 Sudan   1994  0               9304 \n",
       "8 Sudan   1995  4               2441 \n",
       "9 Sudan   1996 15                 NA "
      ]
     },
     "metadata": {},
     "output_type": "display_data"
    }
   ],
   "source": [
    "\n",
    "#keep only matching observations\n",
    "merge(demo, econ, by = c(\"country\", \"year\"))\n",
    "\n",
    "#keep all observations in 'demo'\n",
    "merge(demo, econ, by = c(\"country\", \"year\"), all.x = TRUE)"
   ]
  },
  {
   "cell_type": "markdown",
   "id": "1c2c3c3f",
   "metadata": {},
   "source": [
    "One-to-many merging\n",
    "------------------------\n",
    "\n",
    "In the previous examples the ID variables we used for merging uniquely \n",
    "identified observations in each data frame. This is called one-to-one\n",
    "merging. \n",
    "\n",
    "Sometimes we need to do things slightly differently, using one-to-many merging. \n",
    "Say, for example, we have the following two data frames: "
   ]
  },
  {
   "cell_type": "code",
   "execution_count": 9,
   "id": "a9f1bc4a",
   "metadata": {},
   "outputs": [
    {
     "data": {
      "text/html": [
       "<table class=\"dataframe\">\n",
       "<caption>A data.frame: 9 × 3</caption>\n",
       "<thead>\n",
       "\t<tr><th scope=col>country</th><th scope=col>year</th><th scope=col>democracy_score</th></tr>\n",
       "\t<tr><th scope=col>&lt;fct&gt;</th><th scope=col>&lt;int&gt;</th><th scope=col>&lt;dbl&gt;</th></tr>\n",
       "</thead>\n",
       "<tbody>\n",
       "\t<tr><td>USA  </td><td>1994</td><td>17</td></tr>\n",
       "\t<tr><td>China</td><td>1994</td><td>16</td></tr>\n",
       "\t<tr><td>Sudan</td><td>1994</td><td>20</td></tr>\n",
       "\t<tr><td>USA  </td><td>1995</td><td>13</td></tr>\n",
       "\t<tr><td>China</td><td>1995</td><td> 7</td></tr>\n",
       "\t<tr><td>Sudan</td><td>1995</td><td>20</td></tr>\n",
       "\t<tr><td>USA  </td><td>1996</td><td>11</td></tr>\n",
       "\t<tr><td>China</td><td>1996</td><td> 4</td></tr>\n",
       "\t<tr><td>Sudan</td><td>1996</td><td> 1</td></tr>\n",
       "</tbody>\n",
       "</table>\n"
      ],
      "text/latex": [
       "A data.frame: 9 × 3\n",
       "\\begin{tabular}{lll}\n",
       " country & year & democracy\\_score\\\\\n",
       " <fct> & <int> & <dbl>\\\\\n",
       "\\hline\n",
       "\t USA   & 1994 & 17\\\\\n",
       "\t China & 1994 & 16\\\\\n",
       "\t Sudan & 1994 & 20\\\\\n",
       "\t USA   & 1995 & 13\\\\\n",
       "\t China & 1995 &  7\\\\\n",
       "\t Sudan & 1995 & 20\\\\\n",
       "\t USA   & 1996 & 11\\\\\n",
       "\t China & 1996 &  4\\\\\n",
       "\t Sudan & 1996 &  1\\\\\n",
       "\\end{tabular}\n"
      ],
      "text/markdown": [
       "\n",
       "A data.frame: 9 × 3\n",
       "\n",
       "| country &lt;fct&gt; | year &lt;int&gt; | democracy_score &lt;dbl&gt; |\n",
       "|---|---|---|\n",
       "| USA   | 1994 | 17 |\n",
       "| China | 1994 | 16 |\n",
       "| Sudan | 1994 | 20 |\n",
       "| USA   | 1995 | 13 |\n",
       "| China | 1995 |  7 |\n",
       "| Sudan | 1995 | 20 |\n",
       "| USA   | 1996 | 11 |\n",
       "| China | 1996 |  4 |\n",
       "| Sudan | 1996 |  1 |\n",
       "\n"
      ],
      "text/plain": [
       "  country year democracy_score\n",
       "1 USA     1994 17             \n",
       "2 China   1994 16             \n",
       "3 Sudan   1994 20             \n",
       "4 USA     1995 13             \n",
       "5 China   1995  7             \n",
       "6 Sudan   1995 20             \n",
       "7 USA     1996 11             \n",
       "8 China   1996  4             \n",
       "9 Sudan   1996  1             "
      ]
     },
     "metadata": {},
     "output_type": "display_data"
    },
    {
     "data": {
      "text/html": [
       "<table class=\"dataframe\">\n",
       "<caption>A data.frame: 3 × 2</caption>\n",
       "<thead>\n",
       "\t<tr><th scope=col>country</th><th scope=col>region</th></tr>\n",
       "\t<tr><th scope=col>&lt;chr&gt;</th><th scope=col>&lt;chr&gt;</th></tr>\n",
       "</thead>\n",
       "<tbody>\n",
       "\t<tr><td>USA  </td><td>America</td></tr>\n",
       "\t<tr><td>China</td><td>Asia   </td></tr>\n",
       "\t<tr><td>Sudan</td><td>Africa </td></tr>\n",
       "</tbody>\n",
       "</table>\n"
      ],
      "text/latex": [
       "A data.frame: 3 × 2\n",
       "\\begin{tabular}{ll}\n",
       " country & region\\\\\n",
       " <chr> & <chr>\\\\\n",
       "\\hline\n",
       "\t USA   & America\\\\\n",
       "\t China & Asia   \\\\\n",
       "\t Sudan & Africa \\\\\n",
       "\\end{tabular}\n"
      ],
      "text/markdown": [
       "\n",
       "A data.frame: 3 × 2\n",
       "\n",
       "| country &lt;chr&gt; | region &lt;chr&gt; |\n",
       "|---|---|\n",
       "| USA   | America |\n",
       "| China | Asia    |\n",
       "| Sudan | Africa  |\n",
       "\n"
      ],
      "text/plain": [
       "  country region \n",
       "1 USA     America\n",
       "2 China   Asia   \n",
       "3 Sudan   Africa "
      ]
     },
     "metadata": {},
     "output_type": "display_data"
    }
   ],
   "source": [
    "demo <- data.frame(\n",
    "    expand.grid(country = c(\"USA\", \"China\", \"Sudan\"), year = 1994:1996),\n",
    "    democracy_score = round(runif(9, 0, 20), 0)\n",
    "    )\n",
    "demo\n",
    "\n",
    "region <- data.frame(\n",
    "    country = c(\"USA\", \"China\", \"Sudan\"), \n",
    "    region = c(\"America\", \"Asia\", \"Africa\")\n",
    "    )\n",
    "region"
   ]
  },
  {
   "cell_type": "markdown",
   "id": "de90c85d",
   "metadata": {},
   "source": [
    "A one-to-many merge of these data frames would look like this: "
   ]
  },
  {
   "cell_type": "code",
   "execution_count": 10,
   "id": "51b0b2c2",
   "metadata": {
    "lines_to_next_cell": 2
   },
   "outputs": [
    {
     "data": {
      "text/html": [
       "<table class=\"dataframe\">\n",
       "<caption>A data.frame: 9 × 4</caption>\n",
       "<thead>\n",
       "\t<tr><th scope=col>country</th><th scope=col>year</th><th scope=col>democracy_score</th><th scope=col>region</th></tr>\n",
       "\t<tr><th scope=col>&lt;fct&gt;</th><th scope=col>&lt;int&gt;</th><th scope=col>&lt;dbl&gt;</th><th scope=col>&lt;chr&gt;</th></tr>\n",
       "</thead>\n",
       "<tbody>\n",
       "\t<tr><td>China</td><td>1994</td><td>16</td><td>Asia   </td></tr>\n",
       "\t<tr><td>China</td><td>1995</td><td> 7</td><td>Asia   </td></tr>\n",
       "\t<tr><td>China</td><td>1996</td><td> 4</td><td>Asia   </td></tr>\n",
       "\t<tr><td>Sudan</td><td>1995</td><td>20</td><td>Africa </td></tr>\n",
       "\t<tr><td>Sudan</td><td>1994</td><td>20</td><td>Africa </td></tr>\n",
       "\t<tr><td>Sudan</td><td>1996</td><td> 1</td><td>Africa </td></tr>\n",
       "\t<tr><td>USA  </td><td>1994</td><td>17</td><td>America</td></tr>\n",
       "\t<tr><td>USA  </td><td>1996</td><td>11</td><td>America</td></tr>\n",
       "\t<tr><td>USA  </td><td>1995</td><td>13</td><td>America</td></tr>\n",
       "</tbody>\n",
       "</table>\n"
      ],
      "text/latex": [
       "A data.frame: 9 × 4\n",
       "\\begin{tabular}{llll}\n",
       " country & year & democracy\\_score & region\\\\\n",
       " <fct> & <int> & <dbl> & <chr>\\\\\n",
       "\\hline\n",
       "\t China & 1994 & 16 & Asia   \\\\\n",
       "\t China & 1995 &  7 & Asia   \\\\\n",
       "\t China & 1996 &  4 & Asia   \\\\\n",
       "\t Sudan & 1995 & 20 & Africa \\\\\n",
       "\t Sudan & 1994 & 20 & Africa \\\\\n",
       "\t Sudan & 1996 &  1 & Africa \\\\\n",
       "\t USA   & 1994 & 17 & America\\\\\n",
       "\t USA   & 1996 & 11 & America\\\\\n",
       "\t USA   & 1995 & 13 & America\\\\\n",
       "\\end{tabular}\n"
      ],
      "text/markdown": [
       "\n",
       "A data.frame: 9 × 4\n",
       "\n",
       "| country &lt;fct&gt; | year &lt;int&gt; | democracy_score &lt;dbl&gt; | region &lt;chr&gt; |\n",
       "|---|---|---|---|\n",
       "| China | 1994 | 16 | Asia    |\n",
       "| China | 1995 |  7 | Asia    |\n",
       "| China | 1996 |  4 | Asia    |\n",
       "| Sudan | 1995 | 20 | Africa  |\n",
       "| Sudan | 1994 | 20 | Africa  |\n",
       "| Sudan | 1996 |  1 | Africa  |\n",
       "| USA   | 1994 | 17 | America |\n",
       "| USA   | 1996 | 11 | America |\n",
       "| USA   | 1995 | 13 | America |\n",
       "\n"
      ],
      "text/plain": [
       "  country year democracy_score region \n",
       "1 China   1994 16              Asia   \n",
       "2 China   1995  7              Asia   \n",
       "3 China   1996  4              Asia   \n",
       "4 Sudan   1995 20              Africa \n",
       "5 Sudan   1994 20              Africa \n",
       "6 Sudan   1996  1              Africa \n",
       "7 USA     1994 17              America\n",
       "8 USA     1996 11              America\n",
       "9 USA     1995 13              America"
      ]
     },
     "metadata": {},
     "output_type": "display_data"
    }
   ],
   "source": [
    "merge(demo, region, by = \"country\")"
   ]
  },
  {
   "cell_type": "markdown",
   "id": "10d1bba6",
   "metadata": {},
   "source": [
    "## Merging with Checks\n",
    "\n",
    "[statar](https://github.com/matthieugomez/statar#join--merge)"
   ]
  },
  {
   "cell_type": "code",
   "execution_count": 21,
   "id": "f1e43b43",
   "metadata": {},
   "outputs": [
    {
     "name": "stdout",
     "output_type": "stream",
     "text": [
      "\n",
      "The downloaded binary packages are in\n",
      "\t/var/folders/tj/s8f2_ks15h315z5thvtnhz8r0000gp/T//Rtmp7iYw1f/downloaded_packages\n"
     ]
    },
    {
     "name": "stderr",
     "output_type": "stream",
     "text": [
      "Joining, by = \"country\"\n",
      "\n"
     ]
    },
    {
     "data": {
      "text/html": [
       "<table class=\"dataframe\">\n",
       "<caption>A data.frame: 9 × 5</caption>\n",
       "<thead>\n",
       "\t<tr><th scope=col>country</th><th scope=col>year</th><th scope=col>democracy_score</th><th scope=col>region</th><th scope=col>_merge</th></tr>\n",
       "\t<tr><th scope=col>&lt;chr&gt;</th><th scope=col>&lt;int&gt;</th><th scope=col>&lt;dbl&gt;</th><th scope=col>&lt;chr&gt;</th><th scope=col>&lt;int&gt;</th></tr>\n",
       "</thead>\n",
       "<tbody>\n",
       "\t<tr><td>USA  </td><td>1994</td><td>17</td><td>America</td><td>3</td></tr>\n",
       "\t<tr><td>China</td><td>1994</td><td>16</td><td>Asia   </td><td>3</td></tr>\n",
       "\t<tr><td>Sudan</td><td>1994</td><td>20</td><td>Africa </td><td>3</td></tr>\n",
       "\t<tr><td>USA  </td><td>1995</td><td>13</td><td>America</td><td>3</td></tr>\n",
       "\t<tr><td>China</td><td>1995</td><td> 7</td><td>Asia   </td><td>3</td></tr>\n",
       "\t<tr><td>Sudan</td><td>1995</td><td>20</td><td>Africa </td><td>3</td></tr>\n",
       "\t<tr><td>USA  </td><td>1996</td><td>11</td><td>America</td><td>3</td></tr>\n",
       "\t<tr><td>China</td><td>1996</td><td> 4</td><td>Asia   </td><td>3</td></tr>\n",
       "\t<tr><td>Sudan</td><td>1996</td><td> 1</td><td>Africa </td><td>3</td></tr>\n",
       "</tbody>\n",
       "</table>\n"
      ],
      "text/latex": [
       "A data.frame: 9 × 5\n",
       "\\begin{tabular}{lllll}\n",
       " country & year & democracy\\_score & region & \\_merge\\\\\n",
       " <chr> & <int> & <dbl> & <chr> & <int>\\\\\n",
       "\\hline\n",
       "\t USA   & 1994 & 17 & America & 3\\\\\n",
       "\t China & 1994 & 16 & Asia    & 3\\\\\n",
       "\t Sudan & 1994 & 20 & Africa  & 3\\\\\n",
       "\t USA   & 1995 & 13 & America & 3\\\\\n",
       "\t China & 1995 &  7 & Asia    & 3\\\\\n",
       "\t Sudan & 1995 & 20 & Africa  & 3\\\\\n",
       "\t USA   & 1996 & 11 & America & 3\\\\\n",
       "\t China & 1996 &  4 & Asia    & 3\\\\\n",
       "\t Sudan & 1996 &  1 & Africa  & 3\\\\\n",
       "\\end{tabular}\n"
      ],
      "text/markdown": [
       "\n",
       "A data.frame: 9 × 5\n",
       "\n",
       "| country &lt;chr&gt; | year &lt;int&gt; | democracy_score &lt;dbl&gt; | region &lt;chr&gt; | _merge &lt;int&gt; |\n",
       "|---|---|---|---|---|\n",
       "| USA   | 1994 | 17 | America | 3 |\n",
       "| China | 1994 | 16 | Asia    | 3 |\n",
       "| Sudan | 1994 | 20 | Africa  | 3 |\n",
       "| USA   | 1995 | 13 | America | 3 |\n",
       "| China | 1995 |  7 | Asia    | 3 |\n",
       "| Sudan | 1995 | 20 | Africa  | 3 |\n",
       "| USA   | 1996 | 11 | America | 3 |\n",
       "| China | 1996 |  4 | Asia    | 3 |\n",
       "| Sudan | 1996 |  1 | Africa  | 3 |\n",
       "\n"
      ],
      "text/plain": [
       "  country year democracy_score region  _merge\n",
       "1 USA     1994 17              America 3     \n",
       "2 China   1994 16              Asia    3     \n",
       "3 Sudan   1994 20              Africa  3     \n",
       "4 USA     1995 13              America 3     \n",
       "5 China   1995  7              Asia    3     \n",
       "6 Sudan   1995 20              Africa  3     \n",
       "7 USA     1996 11              America 3     \n",
       "8 China   1996  4              Asia    3     \n",
       "9 Sudan   1996  1              Africa  3     "
      ]
     },
     "metadata": {},
     "output_type": "display_data"
    }
   ],
   "source": [
    "install.packages(\"statar\")\n",
    "library(statar)\n",
    "\n",
    "join(demo, region, on = \"country\", kind = \"full\", check = m~1, gen = \"_merge\")"
   ]
  },
  {
   "cell_type": "markdown",
   "id": "81f68e2e",
   "metadata": {},
   "source": [
    "## Appending\n",
    "\n",
    "\n",
    "Appending means matching datasets vertically. We can do this in R using \n",
    "`rbind()`. The two dataframes you're appending must have identical \n",
    "variable names. Here's an example: "
   ]
  },
  {
   "cell_type": "code",
   "execution_count": 11,
   "id": "c5e943a7",
   "metadata": {
    "lines_to_next_cell": 0
   },
   "outputs": [
    {
     "data": {
      "text/html": [
       "<table class=\"dataframe\">\n",
       "<caption>A data.frame: 12 × 2</caption>\n",
       "<thead>\n",
       "\t<tr><th scope=col>year</th><th scope=col>country</th></tr>\n",
       "\t<tr><th scope=col>&lt;int&gt;</th><th scope=col>&lt;chr&gt;</th></tr>\n",
       "</thead>\n",
       "<tbody>\n",
       "\t<tr><td>1990</td><td>country1</td></tr>\n",
       "\t<tr><td>1991</td><td>country1</td></tr>\n",
       "\t<tr><td>1992</td><td>country1</td></tr>\n",
       "\t<tr><td>1993</td><td>country1</td></tr>\n",
       "\t<tr><td>1994</td><td>country1</td></tr>\n",
       "\t<tr><td>1995</td><td>country1</td></tr>\n",
       "\t<tr><td>1990</td><td>country2</td></tr>\n",
       "\t<tr><td>1991</td><td>country2</td></tr>\n",
       "\t<tr><td>1992</td><td>country2</td></tr>\n",
       "\t<tr><td>1993</td><td>country2</td></tr>\n",
       "\t<tr><td>1994</td><td>country2</td></tr>\n",
       "\t<tr><td>1995</td><td>country2</td></tr>\n",
       "</tbody>\n",
       "</table>\n"
      ],
      "text/latex": [
       "A data.frame: 12 × 2\n",
       "\\begin{tabular}{ll}\n",
       " year & country\\\\\n",
       " <int> & <chr>\\\\\n",
       "\\hline\n",
       "\t 1990 & country1\\\\\n",
       "\t 1991 & country1\\\\\n",
       "\t 1992 & country1\\\\\n",
       "\t 1993 & country1\\\\\n",
       "\t 1994 & country1\\\\\n",
       "\t 1995 & country1\\\\\n",
       "\t 1990 & country2\\\\\n",
       "\t 1991 & country2\\\\\n",
       "\t 1992 & country2\\\\\n",
       "\t 1993 & country2\\\\\n",
       "\t 1994 & country2\\\\\n",
       "\t 1995 & country2\\\\\n",
       "\\end{tabular}\n"
      ],
      "text/markdown": [
       "\n",
       "A data.frame: 12 × 2\n",
       "\n",
       "| year &lt;int&gt; | country &lt;chr&gt; |\n",
       "|---|---|\n",
       "| 1990 | country1 |\n",
       "| 1991 | country1 |\n",
       "| 1992 | country1 |\n",
       "| 1993 | country1 |\n",
       "| 1994 | country1 |\n",
       "| 1995 | country1 |\n",
       "| 1990 | country2 |\n",
       "| 1991 | country2 |\n",
       "| 1992 | country2 |\n",
       "| 1993 | country2 |\n",
       "| 1994 | country2 |\n",
       "| 1995 | country2 |\n",
       "\n"
      ],
      "text/plain": [
       "   year country \n",
       "1  1990 country1\n",
       "2  1991 country1\n",
       "3  1992 country1\n",
       "4  1993 country1\n",
       "5  1994 country1\n",
       "6  1995 country1\n",
       "7  1990 country2\n",
       "8  1991 country2\n",
       "9  1992 country2\n",
       "10 1993 country2\n",
       "11 1994 country2\n",
       "12 1995 country2"
      ]
     },
     "metadata": {},
     "output_type": "display_data"
    }
   ],
   "source": [
    "df1 <- data.frame(\n",
    "    year = rep(1990:1995, 2),\n",
    "    country = c(rep(\"country1\", 6), rep(\"country2\", 6))\n",
    "    )\n",
    "df2 <- data.frame(\n",
    "    year = rep(1996:2000, 2),\n",
    "    country = c(rep(\"country1\", 5), rep(\"country2\", 5))\n",
    "    )\n",
    "df1"
   ]
  },
  {
   "cell_type": "code",
   "execution_count": 12,
   "id": "3e14837b",
   "metadata": {},
   "outputs": [
    {
     "data": {
      "text/html": [
       "<table class=\"dataframe\">\n",
       "<caption>A data.frame: 10 × 2</caption>\n",
       "<thead>\n",
       "\t<tr><th scope=col>year</th><th scope=col>country</th></tr>\n",
       "\t<tr><th scope=col>&lt;int&gt;</th><th scope=col>&lt;chr&gt;</th></tr>\n",
       "</thead>\n",
       "<tbody>\n",
       "\t<tr><td>1996</td><td>country1</td></tr>\n",
       "\t<tr><td>1997</td><td>country1</td></tr>\n",
       "\t<tr><td>1998</td><td>country1</td></tr>\n",
       "\t<tr><td>1999</td><td>country1</td></tr>\n",
       "\t<tr><td>2000</td><td>country1</td></tr>\n",
       "\t<tr><td>1996</td><td>country2</td></tr>\n",
       "\t<tr><td>1997</td><td>country2</td></tr>\n",
       "\t<tr><td>1998</td><td>country2</td></tr>\n",
       "\t<tr><td>1999</td><td>country2</td></tr>\n",
       "\t<tr><td>2000</td><td>country2</td></tr>\n",
       "</tbody>\n",
       "</table>\n"
      ],
      "text/latex": [
       "A data.frame: 10 × 2\n",
       "\\begin{tabular}{ll}\n",
       " year & country\\\\\n",
       " <int> & <chr>\\\\\n",
       "\\hline\n",
       "\t 1996 & country1\\\\\n",
       "\t 1997 & country1\\\\\n",
       "\t 1998 & country1\\\\\n",
       "\t 1999 & country1\\\\\n",
       "\t 2000 & country1\\\\\n",
       "\t 1996 & country2\\\\\n",
       "\t 1997 & country2\\\\\n",
       "\t 1998 & country2\\\\\n",
       "\t 1999 & country2\\\\\n",
       "\t 2000 & country2\\\\\n",
       "\\end{tabular}\n"
      ],
      "text/markdown": [
       "\n",
       "A data.frame: 10 × 2\n",
       "\n",
       "| year &lt;int&gt; | country &lt;chr&gt; |\n",
       "|---|---|\n",
       "| 1996 | country1 |\n",
       "| 1997 | country1 |\n",
       "| 1998 | country1 |\n",
       "| 1999 | country1 |\n",
       "| 2000 | country1 |\n",
       "| 1996 | country2 |\n",
       "| 1997 | country2 |\n",
       "| 1998 | country2 |\n",
       "| 1999 | country2 |\n",
       "| 2000 | country2 |\n",
       "\n"
      ],
      "text/plain": [
       "   year country \n",
       "1  1996 country1\n",
       "2  1997 country1\n",
       "3  1998 country1\n",
       "4  1999 country1\n",
       "5  2000 country1\n",
       "6  1996 country2\n",
       "7  1997 country2\n",
       "8  1998 country2\n",
       "9  1999 country2\n",
       "10 2000 country2"
      ]
     },
     "metadata": {},
     "output_type": "display_data"
    }
   ],
   "source": [
    "df2"
   ]
  },
  {
   "cell_type": "code",
   "execution_count": 13,
   "id": "2207a633",
   "metadata": {},
   "outputs": [
    {
     "data": {
      "text/html": [
       "<table class=\"dataframe\">\n",
       "<caption>A data.frame: 22 × 2</caption>\n",
       "<thead>\n",
       "\t<tr><th></th><th scope=col>year</th><th scope=col>country</th></tr>\n",
       "\t<tr><th></th><th scope=col>&lt;int&gt;</th><th scope=col>&lt;chr&gt;</th></tr>\n",
       "</thead>\n",
       "<tbody>\n",
       "\t<tr><th scope=row>1</th><td>1990</td><td>country1</td></tr>\n",
       "\t<tr><th scope=row>2</th><td>1991</td><td>country1</td></tr>\n",
       "\t<tr><th scope=row>3</th><td>1992</td><td>country1</td></tr>\n",
       "\t<tr><th scope=row>4</th><td>1993</td><td>country1</td></tr>\n",
       "\t<tr><th scope=row>5</th><td>1994</td><td>country1</td></tr>\n",
       "\t<tr><th scope=row>6</th><td>1995</td><td>country1</td></tr>\n",
       "\t<tr><th scope=row>13</th><td>1996</td><td>country1</td></tr>\n",
       "\t<tr><th scope=row>14</th><td>1997</td><td>country1</td></tr>\n",
       "\t<tr><th scope=row>15</th><td>1998</td><td>country1</td></tr>\n",
       "\t<tr><th scope=row>16</th><td>1999</td><td>country1</td></tr>\n",
       "\t<tr><th scope=row>17</th><td>2000</td><td>country1</td></tr>\n",
       "\t<tr><th scope=row>7</th><td>1990</td><td>country2</td></tr>\n",
       "\t<tr><th scope=row>8</th><td>1991</td><td>country2</td></tr>\n",
       "\t<tr><th scope=row>9</th><td>1992</td><td>country2</td></tr>\n",
       "\t<tr><th scope=row>10</th><td>1993</td><td>country2</td></tr>\n",
       "\t<tr><th scope=row>11</th><td>1994</td><td>country2</td></tr>\n",
       "\t<tr><th scope=row>12</th><td>1995</td><td>country2</td></tr>\n",
       "\t<tr><th scope=row>18</th><td>1996</td><td>country2</td></tr>\n",
       "\t<tr><th scope=row>19</th><td>1997</td><td>country2</td></tr>\n",
       "\t<tr><th scope=row>20</th><td>1998</td><td>country2</td></tr>\n",
       "\t<tr><th scope=row>21</th><td>1999</td><td>country2</td></tr>\n",
       "\t<tr><th scope=row>22</th><td>2000</td><td>country2</td></tr>\n",
       "</tbody>\n",
       "</table>\n"
      ],
      "text/latex": [
       "A data.frame: 22 × 2\n",
       "\\begin{tabular}{r|ll}\n",
       "  & year & country\\\\\n",
       "  & <int> & <chr>\\\\\n",
       "\\hline\n",
       "\t1 & 1990 & country1\\\\\n",
       "\t2 & 1991 & country1\\\\\n",
       "\t3 & 1992 & country1\\\\\n",
       "\t4 & 1993 & country1\\\\\n",
       "\t5 & 1994 & country1\\\\\n",
       "\t6 & 1995 & country1\\\\\n",
       "\t13 & 1996 & country1\\\\\n",
       "\t14 & 1997 & country1\\\\\n",
       "\t15 & 1998 & country1\\\\\n",
       "\t16 & 1999 & country1\\\\\n",
       "\t17 & 2000 & country1\\\\\n",
       "\t7 & 1990 & country2\\\\\n",
       "\t8 & 1991 & country2\\\\\n",
       "\t9 & 1992 & country2\\\\\n",
       "\t10 & 1993 & country2\\\\\n",
       "\t11 & 1994 & country2\\\\\n",
       "\t12 & 1995 & country2\\\\\n",
       "\t18 & 1996 & country2\\\\\n",
       "\t19 & 1997 & country2\\\\\n",
       "\t20 & 1998 & country2\\\\\n",
       "\t21 & 1999 & country2\\\\\n",
       "\t22 & 2000 & country2\\\\\n",
       "\\end{tabular}\n"
      ],
      "text/markdown": [
       "\n",
       "A data.frame: 22 × 2\n",
       "\n",
       "| <!--/--> | year &lt;int&gt; | country &lt;chr&gt; |\n",
       "|---|---|---|\n",
       "| 1 | 1990 | country1 |\n",
       "| 2 | 1991 | country1 |\n",
       "| 3 | 1992 | country1 |\n",
       "| 4 | 1993 | country1 |\n",
       "| 5 | 1994 | country1 |\n",
       "| 6 | 1995 | country1 |\n",
       "| 13 | 1996 | country1 |\n",
       "| 14 | 1997 | country1 |\n",
       "| 15 | 1998 | country1 |\n",
       "| 16 | 1999 | country1 |\n",
       "| 17 | 2000 | country1 |\n",
       "| 7 | 1990 | country2 |\n",
       "| 8 | 1991 | country2 |\n",
       "| 9 | 1992 | country2 |\n",
       "| 10 | 1993 | country2 |\n",
       "| 11 | 1994 | country2 |\n",
       "| 12 | 1995 | country2 |\n",
       "| 18 | 1996 | country2 |\n",
       "| 19 | 1997 | country2 |\n",
       "| 20 | 1998 | country2 |\n",
       "| 21 | 1999 | country2 |\n",
       "| 22 | 2000 | country2 |\n",
       "\n"
      ],
      "text/plain": [
       "   year country \n",
       "1  1990 country1\n",
       "2  1991 country1\n",
       "3  1992 country1\n",
       "4  1993 country1\n",
       "5  1994 country1\n",
       "6  1995 country1\n",
       "13 1996 country1\n",
       "14 1997 country1\n",
       "15 1998 country1\n",
       "16 1999 country1\n",
       "17 2000 country1\n",
       "7  1990 country2\n",
       "8  1991 country2\n",
       "9  1992 country2\n",
       "10 1993 country2\n",
       "11 1994 country2\n",
       "12 1995 country2\n",
       "18 1996 country2\n",
       "19 1997 country2\n",
       "20 1998 country2\n",
       "21 1999 country2\n",
       "22 2000 country2"
      ]
     },
     "metadata": {},
     "output_type": "display_data"
    }
   ],
   "source": [
    "df <- rbind(df1, df2) #append\n",
    "\n",
    "# Sort\n",
    "df[order(df$country, df$year), ]"
   ]
  },
  {
   "cell_type": "markdown",
   "id": "9913fcb3",
   "metadata": {},
   "source": [
    "## Exercises \n",
    "\n",
    "\n",
    "**Warm-up:** Merge the three data frames defined below. Your final data\n",
    "frame should have 9 rows and 5 columns. Hint: merge only two data\n",
    "frames at a time."
   ]
  },
  {
   "cell_type": "code",
   "execution_count": 14,
   "id": "03281546",
   "metadata": {
    "lines_to_next_cell": 2
   },
   "outputs": [],
   "source": [
    "df1 <- data.frame(\n",
    "    name = c(\"Mary\", \"Thor\", \"Sven\", \"Jane\", \"Ake\", \"Stephan\",\n",
    "             \"Bjorn\", \"Oden\", \"Dennis\"),\n",
    "    treatment_gr = c(rep(c(1, 2, 3), each = 3)),\n",
    "    weight_p1 = round(runif(9, 100, 200), 0)\n",
    "    )\n",
    "df2 <- data.frame(\n",
    "    name = c(\"Sven\", \"Jane\", \"Ake\", \"Mary\", \"Thor\", \"Stephan\", \n",
    "             \"Oden\", \"Bjorn\"),\n",
    "    weight_p2 = round(runif(8, 100, 200), 0)\n",
    "    )                           \n",
    "df3 <- data.frame(\n",
    "    treatment_gr = c(1, 2, 3),\n",
    "    type = c(\"dog-lovers\", \"cat-lovers\", \"all-lovers\")\n",
    "    )\n"
   ]
  },
  {
   "cell_type": "markdown",
   "id": "e63d9dee",
   "metadata": {},
   "source": [
    "**More extensive:** A prominent economic theory predicts that higher\n",
    "income inequality should be associated with more redistribution from\n",
    "the rich to the poor (Meltzer and Richard 1981). Let's create a\n",
    "dataset that will allow us to test this prediction using\n",
    "U.S. state-level data.\n",
    "\n",
    "1. Download data on inequality and tax collection (links below). Take\n",
    "a moment to familiarize yourself with the codebooks. Then read each\n",
    "dataset into R.\n",
    "* [Dataset](../data/Frank_All_v97.csv) with six measures of inequality\n",
    "(originally from [Mark W. Frank](http://www.shsu.edu/eco_mwf/inequality.html)). \n",
    "* [Tax data](http://www.census.gov/govs/statetax/historical_data.html) that\n",
    "can be used to measure fiscal capacity/redistribution. Use \n",
    "the \"State Government Tax Collections\" link. \n"
   ]
  },
  {
   "cell_type": "markdown",
   "id": "fdeaabe2",
   "metadata": {},
   "source": [
    "2. Keep only the Year, State, Name, Total Taxes, and Total Income\n",
    "Taxes variables in the tax dataset, and rename these if\n",
    "necessary. Keep all the variables in the inequality dataset. Subset\n",
    "both datasets to be in the year range 1960-2012. \n",
    "\n",
    "3. Merge the two datasets. Take a moment to think about how to do\n",
    "this. Your final dataset should have 2650 rows and 12 variables. (Keep\n",
    "only data on the 50 states; 50 states x 53 years = 2650 observations.)\n",
    "Hint: You may find [this dataset with state identifiers](../data/State_FIPS.csv) \n",
    "helpful. \n",
    "\n",
    "4. The Total Tax and Total Income Tax variables from the tax dataset have\n",
    "commas in them, and are therefore not numeric. Remove the commas and \n",
    "convert the variables to numeric. Hint: `gsub()`. \n",
    "\n",
    "\n",
    "\n",
    "\n",
    "\n"
   ]
  }
 ],
 "metadata": {
  "jupytext": {
   "cell_metadata_filter": "-all",
   "main_language": "R",
   "notebook_metadata_filter": "-all"
  },
  "kernelspec": {
   "display_name": "R",
   "language": "R",
   "name": "ir"
  },
  "language_info": {
   "codemirror_mode": "r",
   "file_extension": ".r",
   "mimetype": "text/x-r-source",
   "name": "R",
   "pygments_lexer": "r",
   "version": "4.1.0"
  }
 },
 "nbformat": 4,
 "nbformat_minor": 5
}
