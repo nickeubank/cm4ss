{
 "cells": [
  {
   "cell_type": "markdown",
   "id": "b6f8f051",
   "metadata": {},
   "source": [
    "# Merging Data\n",
    "\n",
    "This tutorial explains how to combine different datasets through merging. Merging is basically a way of combining the *columns* from one dataset with those of another. \n",
    "\n",
    "To illustrate the kind of situation where you may end up wanting to merge data, suppose that you are interested in how economic development affects democracy across countries, but all you have are two separate datasets, each with data on one of these two outcomes -- say, economic data from the World Bank and political data from the Polity Project. In order to study how these things relate to one another, we need to combine these two data sets.\n",
    "\n",
    "(If you don't care about democracy, just imagine we're talking about something you care about, like urban pollution levels instead of democracy scores! The logic is the same.)\n",
    "\n",
    "In a previous reading, I argued that subsiding data is probably the most important skill you will learn as a data scientist. Being able to subset data carefully makes it possible to study how all sorts of outcomes vary across different groups.\n",
    "\n",
    "Merging, I would argue, is the second most important skill for generating insights in data science. It is hard to overstate the value that comes from bringing together two disparate sources of information and studying how they relate to one another. This may surprise you coming from someone who teaches data science -- most people would assume a data scientist believes value comes from fancy models -- but in my experience, most insights come from documenting simple empirical regularities about the world that nobody has noticed before. We often use more sophisticated statistical modeling in order to evaluate the strength of relationships, and to help us understand what is driving those empirical regularities, but all of that work is secondary to just being able to measure basic features of the world. And merging is key to that process."
   ]
  },
  {
   "cell_type": "markdown",
   "id": "ecfb80db",
   "metadata": {},
   "source": [
    "## A Merging Example\n",
    "\n",
    "\n",
    "To illustrate merging, let's suppose that we want to do the analysis of the relationship between political outcomes and economic development we described above. Below we create to toy data sets, one with democracy scores (analogous to those you might get from a group like the [Polity Project](http://www.systemicpeace.org/polityproject.html)), and one with economic information (like the type of information you might get from the [World Developing Indicators](https://datatopics.worldbank.org/world-development-indicators/)):"
   ]
  },
  {
   "cell_type": "code",
   "execution_count": 12,
   "id": "117f684a",
   "metadata": {},
   "outputs": [
    {
     "data": {
      "text/html": [
       "<table class=\"dataframe\">\n",
       "<caption>A data.frame: 5 × 2</caption>\n",
       "<thead>\n",
       "\t<tr><th scope=col>country</th><th scope=col>democracy_score</th></tr>\n",
       "\t<tr><th scope=col>&lt;chr&gt;</th><th scope=col>&lt;dbl&gt;</th></tr>\n",
       "</thead>\n",
       "<tbody>\n",
       "\t<tr><td>USA    </td><td>19</td></tr>\n",
       "\t<tr><td>Albania</td><td>16</td></tr>\n",
       "\t<tr><td>Turkey </td><td>16</td></tr>\n",
       "\t<tr><td>China  </td><td> 5</td></tr>\n",
       "\t<tr><td>Sudan  </td><td>10</td></tr>\n",
       "</tbody>\n",
       "</table>\n"
      ],
      "text/latex": [
       "A data.frame: 5 × 2\n",
       "\\begin{tabular}{ll}\n",
       " country & democracy\\_score\\\\\n",
       " <chr> & <dbl>\\\\\n",
       "\\hline\n",
       "\t USA     & 19\\\\\n",
       "\t Albania & 16\\\\\n",
       "\t Turkey  & 16\\\\\n",
       "\t China   &  5\\\\\n",
       "\t Sudan   & 10\\\\\n",
       "\\end{tabular}\n"
      ],
      "text/markdown": [
       "\n",
       "A data.frame: 5 × 2\n",
       "\n",
       "| country &lt;chr&gt; | democracy_score &lt;dbl&gt; |\n",
       "|---|---|\n",
       "| USA     | 19 |\n",
       "| Albania | 16 |\n",
       "| Turkey  | 16 |\n",
       "| China   |  5 |\n",
       "| Sudan   | 10 |\n",
       "\n"
      ],
      "text/plain": [
       "  country democracy_score\n",
       "1 USA     19             \n",
       "2 Albania 16             \n",
       "3 Turkey  16             \n",
       "4 China    5             \n",
       "5 Sudan   10             "
      ]
     },
     "metadata": {},
     "output_type": "display_data"
    }
   ],
   "source": [
    "# Generate toy dataset 1:\n",
    "demo <- data.frame(\n",
    "    country = c(\"USA\", \"Albania\", \"Turkey\", \"China\", \"Sudan\"),\n",
    "    democracy_score = c(19, 16, 16, 5, 10)\n",
    "    )\n",
    "demo"
   ]
  },
  {
   "cell_type": "code",
   "execution_count": 13,
   "id": "e77f2cbf",
   "metadata": {},
   "outputs": [
    {
     "data": {
      "text/html": [
       "<table class=\"dataframe\">\n",
       "<caption>A data.frame: 5 × 2</caption>\n",
       "<thead>\n",
       "\t<tr><th scope=col>country</th><th scope=col>gdp_pc</th></tr>\n",
       "\t<tr><th scope=col>&lt;chr&gt;</th><th scope=col>&lt;dbl&gt;</th></tr>\n",
       "</thead>\n",
       "<tbody>\n",
       "\t<tr><td>China  </td><td>12000</td></tr>\n",
       "\t<tr><td>Albania</td><td>10000</td></tr>\n",
       "\t<tr><td>Turkey </td><td> 9000</td></tr>\n",
       "\t<tr><td>USA    </td><td>20000</td></tr>\n",
       "\t<tr><td>Sudan  </td><td>  500</td></tr>\n",
       "</tbody>\n",
       "</table>\n"
      ],
      "text/latex": [
       "A data.frame: 5 × 2\n",
       "\\begin{tabular}{ll}\n",
       " country & gdp\\_pc\\\\\n",
       " <chr> & <dbl>\\\\\n",
       "\\hline\n",
       "\t China   & 12000\\\\\n",
       "\t Albania & 10000\\\\\n",
       "\t Turkey  &  9000\\\\\n",
       "\t USA     & 20000\\\\\n",
       "\t Sudan   &   500\\\\\n",
       "\\end{tabular}\n"
      ],
      "text/markdown": [
       "\n",
       "A data.frame: 5 × 2\n",
       "\n",
       "| country &lt;chr&gt; | gdp_pc &lt;dbl&gt; |\n",
       "|---|---|\n",
       "| China   | 12000 |\n",
       "| Albania | 10000 |\n",
       "| Turkey  |  9000 |\n",
       "| USA     | 20000 |\n",
       "| Sudan   |   500 |\n",
       "\n"
      ],
      "text/plain": [
       "  country gdp_pc\n",
       "1 China   12000 \n",
       "2 Albania 10000 \n",
       "3 Turkey   9000 \n",
       "4 USA     20000 \n",
       "5 Sudan     500 "
      ]
     },
     "metadata": {},
     "output_type": "display_data"
    }
   ],
   "source": [
    "# Generate toy dataset 2:\n",
    "econ <- data.frame(\n",
    "    country = c(\"China\", \"Albania\", \"Turkey\", \"USA\", \"Sudan\"),\n",
    "    gdp_pc = c(12000, 10000, 9000, 20000, 500)\n",
    "    )\n",
    "econ"
   ]
  },
  {
   "cell_type": "markdown",
   "id": "826a65f5",
   "metadata": {},
   "source": [
    "To merge two data sets, they must have an identifier in common -- one or more columns whose values allow us to understand which rows are identifying the same entities in the two datasets. In the case of these two datasets, the common identifier is country name, stored in the column `\"country\"` in both datasets. "
   ]
  },
  {
   "cell_type": "markdown",
   "id": "103dd883",
   "metadata": {
    "lines_to_next_cell": 0
   },
   "source": [
    "To do the actual merge, we will use R's `merge()` command. `merge()` requires at least three arguments: the two datasets you want to merge, and the name of the column(s) containing the common identifier. In this case, our call to `merge` would look like this:"
   ]
  },
  {
   "cell_type": "code",
   "execution_count": 4,
   "id": "717175e0",
   "metadata": {},
   "outputs": [
    {
     "data": {
      "text/html": [
       "<table class=\"dataframe\">\n",
       "<caption>A data.frame: 5 × 3</caption>\n",
       "<thead>\n",
       "\t<tr><th scope=col>country</th><th scope=col>democracy_score</th><th scope=col>gdp_pc</th></tr>\n",
       "\t<tr><th scope=col>&lt;chr&gt;</th><th scope=col>&lt;dbl&gt;</th><th scope=col>&lt;dbl&gt;</th></tr>\n",
       "</thead>\n",
       "<tbody>\n",
       "\t<tr><td>Albania</td><td>16</td><td>10000</td></tr>\n",
       "\t<tr><td>China  </td><td> 5</td><td>12000</td></tr>\n",
       "\t<tr><td>Sudan  </td><td>10</td><td>  500</td></tr>\n",
       "\t<tr><td>Turkey </td><td>16</td><td> 9000</td></tr>\n",
       "\t<tr><td>USA    </td><td>19</td><td>20000</td></tr>\n",
       "</tbody>\n",
       "</table>\n"
      ],
      "text/latex": [
       "A data.frame: 5 × 3\n",
       "\\begin{tabular}{lll}\n",
       " country & democracy\\_score & gdp\\_pc\\\\\n",
       " <chr> & <dbl> & <dbl>\\\\\n",
       "\\hline\n",
       "\t Albania & 16 & 10000\\\\\n",
       "\t China   &  5 & 12000\\\\\n",
       "\t Sudan   & 10 &   500\\\\\n",
       "\t Turkey  & 16 &  9000\\\\\n",
       "\t USA     & 19 & 20000\\\\\n",
       "\\end{tabular}\n"
      ],
      "text/markdown": [
       "\n",
       "A data.frame: 5 × 3\n",
       "\n",
       "| country &lt;chr&gt; | democracy_score &lt;dbl&gt; | gdp_pc &lt;dbl&gt; |\n",
       "|---|---|---|\n",
       "| Albania | 16 | 10000 |\n",
       "| China   |  5 | 12000 |\n",
       "| Sudan   | 10 |   500 |\n",
       "| Turkey  | 16 |  9000 |\n",
       "| USA     | 19 | 20000 |\n",
       "\n"
      ],
      "text/plain": [
       "  country democracy_score gdp_pc\n",
       "1 Albania 16              10000 \n",
       "2 China    5              12000 \n",
       "3 Sudan   10                500 \n",
       "4 Turkey  16               9000 \n",
       "5 USA     19              20000 "
      ]
     },
     "metadata": {},
     "output_type": "display_data"
    }
   ],
   "source": [
    "df <- merge(demo, econ, by = \"country\")\n",
    "df"
   ]
  },
  {
   "cell_type": "markdown",
   "id": "795ac928",
   "metadata": {},
   "source": [
    "This is called a 1-to-1 merge because each row in the first dataset matches up to exactly one row in the second dataset -- i.e. each country appears only once in the first dataset, and matches up to a single row in the second dataset (the row with the same country identifier). "
   ]
  },
  {
   "cell_type": "markdown",
   "id": "759a0d42",
   "metadata": {},
   "source": [
    "Your common identifier may be spread across multiple columns. Consider the following example:"
   ]
  },
  {
   "cell_type": "code",
   "execution_count": 22,
   "id": "b9cd20ec",
   "metadata": {},
   "outputs": [
    {
     "data": {
      "text/html": [
       "<table class=\"dataframe\">\n",
       "<caption>A data.frame: 8 × 3</caption>\n",
       "<thead>\n",
       "\t<tr><th scope=col>country</th><th scope=col>year</th><th scope=col>democracy</th></tr>\n",
       "\t<tr><th scope=col>&lt;chr&gt;</th><th scope=col>&lt;dbl&gt;</th><th scope=col>&lt;dbl&gt;</th></tr>\n",
       "</thead>\n",
       "<tbody>\n",
       "\t<tr><td>USA  </td><td>1994</td><td> 9</td></tr>\n",
       "\t<tr><td>China</td><td>1994</td><td>14</td></tr>\n",
       "\t<tr><td>Sudan</td><td>1994</td><td> 7</td></tr>\n",
       "\t<tr><td>India</td><td>1994</td><td> 8</td></tr>\n",
       "\t<tr><td>USA  </td><td>1995</td><td> 4</td></tr>\n",
       "\t<tr><td>China</td><td>1995</td><td> 5</td></tr>\n",
       "\t<tr><td>Sudan</td><td>1995</td><td> 7</td></tr>\n",
       "\t<tr><td>India</td><td>1995</td><td> 0</td></tr>\n",
       "</tbody>\n",
       "</table>\n"
      ],
      "text/latex": [
       "A data.frame: 8 × 3\n",
       "\\begin{tabular}{lll}\n",
       " country & year & democracy\\\\\n",
       " <chr> & <dbl> & <dbl>\\\\\n",
       "\\hline\n",
       "\t USA   & 1994 &  9\\\\\n",
       "\t China & 1994 & 14\\\\\n",
       "\t Sudan & 1994 &  7\\\\\n",
       "\t India & 1994 &  8\\\\\n",
       "\t USA   & 1995 &  4\\\\\n",
       "\t China & 1995 &  5\\\\\n",
       "\t Sudan & 1995 &  7\\\\\n",
       "\t India & 1995 &  0\\\\\n",
       "\\end{tabular}\n"
      ],
      "text/markdown": [
       "\n",
       "A data.frame: 8 × 3\n",
       "\n",
       "| country &lt;chr&gt; | year &lt;dbl&gt; | democracy &lt;dbl&gt; |\n",
       "|---|---|---|\n",
       "| USA   | 1994 |  9 |\n",
       "| China | 1994 | 14 |\n",
       "| Sudan | 1994 |  7 |\n",
       "| India | 1994 |  8 |\n",
       "| USA   | 1995 |  4 |\n",
       "| China | 1995 |  5 |\n",
       "| Sudan | 1995 |  7 |\n",
       "| India | 1995 |  0 |\n",
       "\n"
      ],
      "text/plain": [
       "  country year democracy\n",
       "1 USA     1994  9       \n",
       "2 China   1994 14       \n",
       "3 Sudan   1994  7       \n",
       "4 India   1994  8       \n",
       "5 USA     1995  4       \n",
       "6 China   1995  5       \n",
       "7 Sudan   1995  7       \n",
       "8 India   1995  0       "
      ]
     },
     "metadata": {},
     "output_type": "display_data"
    }
   ],
   "source": [
    "# Generate toy dataset 1:\n",
    "country <- rep(c(\"USA\", \"China\", \"Sudan\", \"India\"), 2)\n",
    "year <- c(1994, 1994, 1994, 1994, 1995, 1995, 1995, 1995)\n",
    "democracy <- round(runif(8, 0, 20), 0)\n",
    "\n",
    "demo <- data.frame(country, year, democracy)\n",
    "demo"
   ]
  },
  {
   "cell_type": "code",
   "execution_count": 23,
   "id": "b52d9742",
   "metadata": {},
   "outputs": [
    {
     "data": {
      "text/html": [
       "<table class=\"dataframe\">\n",
       "<caption>A data.frame: 9 × 3</caption>\n",
       "<thead>\n",
       "\t<tr><th scope=col>year</th><th scope=col>country</th><th scope=col>gdp_pc</th></tr>\n",
       "\t<tr><th scope=col>&lt;int&gt;</th><th scope=col>&lt;fct&gt;</th><th scope=col>&lt;dbl&gt;</th></tr>\n",
       "</thead>\n",
       "<tbody>\n",
       "\t<tr><td>1994</td><td>USA  </td><td>10164</td></tr>\n",
       "\t<tr><td>1995</td><td>USA  </td><td>16980</td></tr>\n",
       "\t<tr><td>1996</td><td>USA  </td><td>19816</td></tr>\n",
       "\t<tr><td>1994</td><td>China</td><td> 4735</td></tr>\n",
       "\t<tr><td>1995</td><td>China</td><td>13556</td></tr>\n",
       "\t<tr><td>1996</td><td>China</td><td>18126</td></tr>\n",
       "\t<tr><td>1994</td><td>Sudan</td><td>11141</td></tr>\n",
       "\t<tr><td>1995</td><td>Sudan</td><td>18365</td></tr>\n",
       "\t<tr><td>1996</td><td>Sudan</td><td>15422</td></tr>\n",
       "</tbody>\n",
       "</table>\n"
      ],
      "text/latex": [
       "A data.frame: 9 × 3\n",
       "\\begin{tabular}{lll}\n",
       " year & country & gdp\\_pc\\\\\n",
       " <int> & <fct> & <dbl>\\\\\n",
       "\\hline\n",
       "\t 1994 & USA   & 10164\\\\\n",
       "\t 1995 & USA   & 16980\\\\\n",
       "\t 1996 & USA   & 19816\\\\\n",
       "\t 1994 & China &  4735\\\\\n",
       "\t 1995 & China & 13556\\\\\n",
       "\t 1996 & China & 18126\\\\\n",
       "\t 1994 & Sudan & 11141\\\\\n",
       "\t 1995 & Sudan & 18365\\\\\n",
       "\t 1996 & Sudan & 15422\\\\\n",
       "\\end{tabular}\n"
      ],
      "text/markdown": [
       "\n",
       "A data.frame: 9 × 3\n",
       "\n",
       "| year &lt;int&gt; | country &lt;fct&gt; | gdp_pc &lt;dbl&gt; |\n",
       "|---|---|---|\n",
       "| 1994 | USA   | 10164 |\n",
       "| 1995 | USA   | 16980 |\n",
       "| 1996 | USA   | 19816 |\n",
       "| 1994 | China |  4735 |\n",
       "| 1995 | China | 13556 |\n",
       "| 1996 | China | 18126 |\n",
       "| 1994 | Sudan | 11141 |\n",
       "| 1995 | Sudan | 18365 |\n",
       "| 1996 | Sudan | 15422 |\n",
       "\n"
      ],
      "text/plain": [
       "  year country gdp_pc\n",
       "1 1994 USA     10164 \n",
       "2 1995 USA     16980 \n",
       "3 1996 USA     19816 \n",
       "4 1994 China    4735 \n",
       "5 1995 China   13556 \n",
       "6 1996 China   18126 \n",
       "7 1994 Sudan   11141 \n",
       "8 1995 Sudan   18365 \n",
       "9 1996 Sudan   15422 "
      ]
     },
     "metadata": {},
     "output_type": "display_data"
    }
   ],
   "source": [
    "# Generate toy dataset 2:\n",
    "econ <- data.frame(\n",
    "    expand.grid(year = 1994:1996, country = c(\"USA\", \"China\", \"Sudan\")),\n",
    "    gdp_pc = round(runif(9, 1000, 20000), 0)\n",
    "    )\n",
    "econ"
   ]
  },
  {
   "cell_type": "markdown",
   "id": "7d81358d",
   "metadata": {},
   "source": [
    "In this situation, `\"country\"` does not fully identify which row is supposed to match up with which row across the two datasets, since we clearly want to match up the row for `USA` in `1994` in `demo` with the same row in `econ`. \n",
    "\n",
    "To accommodate that, you can pass multiple columns to `merge`'s `by` argument. e.g.:"
   ]
  },
  {
   "cell_type": "code",
   "execution_count": 24,
   "id": "3974dd91",
   "metadata": {},
   "outputs": [
    {
     "data": {
      "text/html": [
       "<table class=\"dataframe\">\n",
       "<caption>A data.frame: 6 × 4</caption>\n",
       "<thead>\n",
       "\t<tr><th scope=col>country</th><th scope=col>year</th><th scope=col>democracy</th><th scope=col>gdp_pc</th></tr>\n",
       "\t<tr><th scope=col>&lt;chr&gt;</th><th scope=col>&lt;dbl&gt;</th><th scope=col>&lt;dbl&gt;</th><th scope=col>&lt;dbl&gt;</th></tr>\n",
       "</thead>\n",
       "<tbody>\n",
       "\t<tr><td>China</td><td>1994</td><td>14</td><td> 4735</td></tr>\n",
       "\t<tr><td>China</td><td>1995</td><td> 5</td><td>13556</td></tr>\n",
       "\t<tr><td>Sudan</td><td>1994</td><td> 7</td><td>11141</td></tr>\n",
       "\t<tr><td>Sudan</td><td>1995</td><td> 7</td><td>18365</td></tr>\n",
       "\t<tr><td>USA  </td><td>1994</td><td> 9</td><td>10164</td></tr>\n",
       "\t<tr><td>USA  </td><td>1995</td><td> 4</td><td>16980</td></tr>\n",
       "</tbody>\n",
       "</table>\n"
      ],
      "text/latex": [
       "A data.frame: 6 × 4\n",
       "\\begin{tabular}{llll}\n",
       " country & year & democracy & gdp\\_pc\\\\\n",
       " <chr> & <dbl> & <dbl> & <dbl>\\\\\n",
       "\\hline\n",
       "\t China & 1994 & 14 &  4735\\\\\n",
       "\t China & 1995 &  5 & 13556\\\\\n",
       "\t Sudan & 1994 &  7 & 11141\\\\\n",
       "\t Sudan & 1995 &  7 & 18365\\\\\n",
       "\t USA   & 1994 &  9 & 10164\\\\\n",
       "\t USA   & 1995 &  4 & 16980\\\\\n",
       "\\end{tabular}\n"
      ],
      "text/markdown": [
       "\n",
       "A data.frame: 6 × 4\n",
       "\n",
       "| country &lt;chr&gt; | year &lt;dbl&gt; | democracy &lt;dbl&gt; | gdp_pc &lt;dbl&gt; |\n",
       "|---|---|---|---|\n",
       "| China | 1994 | 14 |  4735 |\n",
       "| China | 1995 |  5 | 13556 |\n",
       "| Sudan | 1994 |  7 | 11141 |\n",
       "| Sudan | 1995 |  7 | 18365 |\n",
       "| USA   | 1994 |  9 | 10164 |\n",
       "| USA   | 1995 |  4 | 16980 |\n",
       "\n"
      ],
      "text/plain": [
       "  country year democracy gdp_pc\n",
       "1 China   1994 14         4735 \n",
       "2 China   1995  5        13556 \n",
       "3 Sudan   1994  7        11141 \n",
       "4 Sudan   1995  7        18365 \n",
       "5 USA     1994  9        10164 \n",
       "6 USA     1995  4        16980 "
      ]
     },
     "metadata": {},
     "output_type": "display_data"
    }
   ],
   "source": [
    "merge(demo, econ, by = c(\"country\", \"year\"))"
   ]
  },
  {
   "cell_type": "markdown",
   "id": "874c4923",
   "metadata": {},
   "source": [
    "### What Rows Do You Keep?"
   ]
  },
  {
   "cell_type": "markdown",
   "id": "c555f900",
   "metadata": {},
   "source": [
    "As you may have noticed in the example above, our `demo` dataset had more years of data than our `econ` dataset (it included data from 1996, while `econ` did not), and `econ` included more countries than `demo` (namely: India). And when we merged the two datasets, only the country-year pairs that were common to both data sets were kept.\n",
    "\n",
    "This is what's referred to is an *inner join*, or *inner merge* (join and merge are different terms for the same thing). In an inner join, only rows whose identifiers are present in both datasets are kept in the final dataset. But one can also:\n",
    "\n",
    "- keep all rows (whether the match or not) with an *outer join*, or \n",
    "- keep matching rows + unmatched rows from your \"left\" dataset (the first dataframe you pass to `merge`) with a *left join*, or \n",
    "- keep matching rows + unmatched rows from your \"right\" dataset (the second dataframe you pass to `merge`) with a *right join*. \n",
    "\n",
    "These four types of merges are nicely illustrated in this figure from [datacomy:](https://datacomy.com/data_analysis/pandas/merge/)\n",
    "\n",
    "![types-of-joins](images/types-of-joins.png)\n"
   ]
  },
  {
   "cell_type": "markdown",
   "id": "c350ca33",
   "metadata": {},
   "source": [
    "By default, R doesn't use the terms inner, outer, left, and right, but rather lets you specify what rows to keep with the arguments: `all.x`, `all.y`, or `all`. With none of those specified (as above), you get an inner join, but you can use these arguments to:"
   ]
  },
  {
   "cell_type": "code",
   "execution_count": 27,
   "id": "aeb05d56",
   "metadata": {},
   "outputs": [
    {
     "data": {
      "text/html": [
       "<table class=\"dataframe\">\n",
       "<caption>A data.frame: 11 × 4</caption>\n",
       "<thead>\n",
       "\t<tr><th scope=col>country</th><th scope=col>year</th><th scope=col>democracy</th><th scope=col>gdp_pc</th></tr>\n",
       "\t<tr><th scope=col>&lt;chr&gt;</th><th scope=col>&lt;dbl&gt;</th><th scope=col>&lt;dbl&gt;</th><th scope=col>&lt;dbl&gt;</th></tr>\n",
       "</thead>\n",
       "<tbody>\n",
       "\t<tr><td>China</td><td>1994</td><td>14</td><td> 4735</td></tr>\n",
       "\t<tr><td>China</td><td>1995</td><td> 5</td><td>13556</td></tr>\n",
       "\t<tr><td>China</td><td>1996</td><td>NA</td><td>18126</td></tr>\n",
       "\t<tr><td>India</td><td>1994</td><td> 8</td><td>   NA</td></tr>\n",
       "\t<tr><td>India</td><td>1995</td><td> 0</td><td>   NA</td></tr>\n",
       "\t<tr><td>Sudan</td><td>1994</td><td> 7</td><td>11141</td></tr>\n",
       "\t<tr><td>Sudan</td><td>1995</td><td> 7</td><td>18365</td></tr>\n",
       "\t<tr><td>Sudan</td><td>1996</td><td>NA</td><td>15422</td></tr>\n",
       "\t<tr><td>USA  </td><td>1994</td><td> 9</td><td>10164</td></tr>\n",
       "\t<tr><td>USA  </td><td>1995</td><td> 4</td><td>16980</td></tr>\n",
       "\t<tr><td>USA  </td><td>1996</td><td>NA</td><td>19816</td></tr>\n",
       "</tbody>\n",
       "</table>\n"
      ],
      "text/latex": [
       "A data.frame: 11 × 4\n",
       "\\begin{tabular}{llll}\n",
       " country & year & democracy & gdp\\_pc\\\\\n",
       " <chr> & <dbl> & <dbl> & <dbl>\\\\\n",
       "\\hline\n",
       "\t China & 1994 & 14 &  4735\\\\\n",
       "\t China & 1995 &  5 & 13556\\\\\n",
       "\t China & 1996 & NA & 18126\\\\\n",
       "\t India & 1994 &  8 &    NA\\\\\n",
       "\t India & 1995 &  0 &    NA\\\\\n",
       "\t Sudan & 1994 &  7 & 11141\\\\\n",
       "\t Sudan & 1995 &  7 & 18365\\\\\n",
       "\t Sudan & 1996 & NA & 15422\\\\\n",
       "\t USA   & 1994 &  9 & 10164\\\\\n",
       "\t USA   & 1995 &  4 & 16980\\\\\n",
       "\t USA   & 1996 & NA & 19816\\\\\n",
       "\\end{tabular}\n"
      ],
      "text/markdown": [
       "\n",
       "A data.frame: 11 × 4\n",
       "\n",
       "| country &lt;chr&gt; | year &lt;dbl&gt; | democracy &lt;dbl&gt; | gdp_pc &lt;dbl&gt; |\n",
       "|---|---|---|---|\n",
       "| China | 1994 | 14 |  4735 |\n",
       "| China | 1995 |  5 | 13556 |\n",
       "| China | 1996 | NA | 18126 |\n",
       "| India | 1994 |  8 |    NA |\n",
       "| India | 1995 |  0 |    NA |\n",
       "| Sudan | 1994 |  7 | 11141 |\n",
       "| Sudan | 1995 |  7 | 18365 |\n",
       "| Sudan | 1996 | NA | 15422 |\n",
       "| USA   | 1994 |  9 | 10164 |\n",
       "| USA   | 1995 |  4 | 16980 |\n",
       "| USA   | 1996 | NA | 19816 |\n",
       "\n"
      ],
      "text/plain": [
       "   country year democracy gdp_pc\n",
       "1  China   1994 14         4735 \n",
       "2  China   1995  5        13556 \n",
       "3  China   1996 NA        18126 \n",
       "4  India   1994  8           NA \n",
       "5  India   1995  0           NA \n",
       "6  Sudan   1994  7        11141 \n",
       "7  Sudan   1995  7        18365 \n",
       "8  Sudan   1996 NA        15422 \n",
       "9  USA     1994  9        10164 \n",
       "10 USA     1995  4        16980 \n",
       "11 USA     1996 NA        19816 "
      ]
     },
     "metadata": {},
     "output_type": "display_data"
    }
   ],
   "source": [
    "# keep all rows, matching or not\n",
    "# (outer join)\n",
    "merge(demo, econ, by = c(\"country\", \"year\"), all = TRUE)"
   ]
  },
  {
   "cell_type": "code",
   "execution_count": 28,
   "id": "df8a57f1",
   "metadata": {},
   "outputs": [
    {
     "data": {
      "text/html": [
       "<table class=\"dataframe\">\n",
       "<caption>A data.frame: 8 × 4</caption>\n",
       "<thead>\n",
       "\t<tr><th scope=col>country</th><th scope=col>year</th><th scope=col>democracy</th><th scope=col>gdp_pc</th></tr>\n",
       "\t<tr><th scope=col>&lt;chr&gt;</th><th scope=col>&lt;dbl&gt;</th><th scope=col>&lt;dbl&gt;</th><th scope=col>&lt;dbl&gt;</th></tr>\n",
       "</thead>\n",
       "<tbody>\n",
       "\t<tr><td>China</td><td>1994</td><td>14</td><td> 4735</td></tr>\n",
       "\t<tr><td>China</td><td>1995</td><td> 5</td><td>13556</td></tr>\n",
       "\t<tr><td>India</td><td>1994</td><td> 8</td><td>   NA</td></tr>\n",
       "\t<tr><td>India</td><td>1995</td><td> 0</td><td>   NA</td></tr>\n",
       "\t<tr><td>Sudan</td><td>1994</td><td> 7</td><td>11141</td></tr>\n",
       "\t<tr><td>Sudan</td><td>1995</td><td> 7</td><td>18365</td></tr>\n",
       "\t<tr><td>USA  </td><td>1994</td><td> 9</td><td>10164</td></tr>\n",
       "\t<tr><td>USA  </td><td>1995</td><td> 4</td><td>16980</td></tr>\n",
       "</tbody>\n",
       "</table>\n"
      ],
      "text/latex": [
       "A data.frame: 8 × 4\n",
       "\\begin{tabular}{llll}\n",
       " country & year & democracy & gdp\\_pc\\\\\n",
       " <chr> & <dbl> & <dbl> & <dbl>\\\\\n",
       "\\hline\n",
       "\t China & 1994 & 14 &  4735\\\\\n",
       "\t China & 1995 &  5 & 13556\\\\\n",
       "\t India & 1994 &  8 &    NA\\\\\n",
       "\t India & 1995 &  0 &    NA\\\\\n",
       "\t Sudan & 1994 &  7 & 11141\\\\\n",
       "\t Sudan & 1995 &  7 & 18365\\\\\n",
       "\t USA   & 1994 &  9 & 10164\\\\\n",
       "\t USA   & 1995 &  4 & 16980\\\\\n",
       "\\end{tabular}\n"
      ],
      "text/markdown": [
       "\n",
       "A data.frame: 8 × 4\n",
       "\n",
       "| country &lt;chr&gt; | year &lt;dbl&gt; | democracy &lt;dbl&gt; | gdp_pc &lt;dbl&gt; |\n",
       "|---|---|---|---|\n",
       "| China | 1994 | 14 |  4735 |\n",
       "| China | 1995 |  5 | 13556 |\n",
       "| India | 1994 |  8 |    NA |\n",
       "| India | 1995 |  0 |    NA |\n",
       "| Sudan | 1994 |  7 | 11141 |\n",
       "| Sudan | 1995 |  7 | 18365 |\n",
       "| USA   | 1994 |  9 | 10164 |\n",
       "| USA   | 1995 |  4 | 16980 |\n",
       "\n"
      ],
      "text/plain": [
       "  country year democracy gdp_pc\n",
       "1 China   1994 14         4735 \n",
       "2 China   1995  5        13556 \n",
       "3 India   1994  8           NA \n",
       "4 India   1995  0           NA \n",
       "5 Sudan   1994  7        11141 \n",
       "6 Sudan   1995  7        18365 \n",
       "7 USA     1994  9        10164 \n",
       "8 USA     1995  4        16980 "
      ]
     },
     "metadata": {},
     "output_type": "display_data"
    }
   ],
   "source": [
    "# keep matching + unmatched in demo observations\n",
    "# (Left join)\n",
    "merge(demo, econ, by = c(\"country\", \"year\"), all.x = TRUE)\n"
   ]
  },
  {
   "cell_type": "markdown",
   "id": "9a251cf4",
   "metadata": {},
   "source": [
    "As you can see, when you keep unmatched rows, R places `NA` values in entries that didn't match, and so don't have data for certain columns. We'll talk about `NA`s in our [missing data](missing_data.ipynb) reading."
   ]
  },
  {
   "cell_type": "markdown",
   "id": "66aca2c0",
   "metadata": {},
   "source": [
    "1-to-many merging\n",
    "------------------------\n",
    "\n",
    "In our previous examples, the identifier we used clearly told R how to match each row of one dataset to exactly one row of the other dataset. We call this a 1-to-1 merge. \n",
    "\n",
    "Sometimes, though, each row from one dataset may match up to *multiple* rows of the other. In these situations, we do a 1-to-many merge. Say, for example, we have the following two data frames:"
   ]
  },
  {
   "cell_type": "code",
   "execution_count": 32,
   "id": "623c033b",
   "metadata": {},
   "outputs": [
    {
     "data": {
      "text/html": [
       "<table class=\"dataframe\">\n",
       "<caption>A data.frame: 9 × 3</caption>\n",
       "<thead>\n",
       "\t<tr><th scope=col>country</th><th scope=col>year</th><th scope=col>democracy_score</th></tr>\n",
       "\t<tr><th scope=col>&lt;fct&gt;</th><th scope=col>&lt;int&gt;</th><th scope=col>&lt;dbl&gt;</th></tr>\n",
       "</thead>\n",
       "<tbody>\n",
       "\t<tr><td>USA  </td><td>1994</td><td> 8</td></tr>\n",
       "\t<tr><td>China</td><td>1994</td><td>16</td></tr>\n",
       "\t<tr><td>Sudan</td><td>1994</td><td> 5</td></tr>\n",
       "\t<tr><td>USA  </td><td>1995</td><td> 2</td></tr>\n",
       "\t<tr><td>China</td><td>1995</td><td>10</td></tr>\n",
       "\t<tr><td>Sudan</td><td>1995</td><td>12</td></tr>\n",
       "\t<tr><td>USA  </td><td>1996</td><td> 8</td></tr>\n",
       "\t<tr><td>China</td><td>1996</td><td> 3</td></tr>\n",
       "\t<tr><td>Sudan</td><td>1996</td><td> 2</td></tr>\n",
       "</tbody>\n",
       "</table>\n"
      ],
      "text/latex": [
       "A data.frame: 9 × 3\n",
       "\\begin{tabular}{lll}\n",
       " country & year & democracy\\_score\\\\\n",
       " <fct> & <int> & <dbl>\\\\\n",
       "\\hline\n",
       "\t USA   & 1994 &  8\\\\\n",
       "\t China & 1994 & 16\\\\\n",
       "\t Sudan & 1994 &  5\\\\\n",
       "\t USA   & 1995 &  2\\\\\n",
       "\t China & 1995 & 10\\\\\n",
       "\t Sudan & 1995 & 12\\\\\n",
       "\t USA   & 1996 &  8\\\\\n",
       "\t China & 1996 &  3\\\\\n",
       "\t Sudan & 1996 &  2\\\\\n",
       "\\end{tabular}\n"
      ],
      "text/markdown": [
       "\n",
       "A data.frame: 9 × 3\n",
       "\n",
       "| country &lt;fct&gt; | year &lt;int&gt; | democracy_score &lt;dbl&gt; |\n",
       "|---|---|---|\n",
       "| USA   | 1994 |  8 |\n",
       "| China | 1994 | 16 |\n",
       "| Sudan | 1994 |  5 |\n",
       "| USA   | 1995 |  2 |\n",
       "| China | 1995 | 10 |\n",
       "| Sudan | 1995 | 12 |\n",
       "| USA   | 1996 |  8 |\n",
       "| China | 1996 |  3 |\n",
       "| Sudan | 1996 |  2 |\n",
       "\n"
      ],
      "text/plain": [
       "  country year democracy_score\n",
       "1 USA     1994  8             \n",
       "2 China   1994 16             \n",
       "3 Sudan   1994  5             \n",
       "4 USA     1995  2             \n",
       "5 China   1995 10             \n",
       "6 Sudan   1995 12             \n",
       "7 USA     1996  8             \n",
       "8 China   1996  3             \n",
       "9 Sudan   1996  2             "
      ]
     },
     "metadata": {},
     "output_type": "display_data"
    }
   ],
   "source": [
    "demo <- data.frame(\n",
    "    expand.grid(country = c(\"USA\", \"China\", \"Sudan\"), year = 1994:1996),\n",
    "    democracy_score = round(runif(9, 0, 20), 0)\n",
    "    )\n",
    "demo"
   ]
  },
  {
   "cell_type": "code",
   "execution_count": 37,
   "id": "32e497ba",
   "metadata": {},
   "outputs": [
    {
     "data": {
      "text/html": [
       "<table class=\"dataframe\">\n",
       "<caption>A data.frame: 3 × 2</caption>\n",
       "<thead>\n",
       "\t<tr><th scope=col>country</th><th scope=col>region</th></tr>\n",
       "\t<tr><th scope=col>&lt;chr&gt;</th><th scope=col>&lt;chr&gt;</th></tr>\n",
       "</thead>\n",
       "<tbody>\n",
       "\t<tr><td>USA  </td><td>America</td></tr>\n",
       "\t<tr><td>China</td><td>Asia   </td></tr>\n",
       "\t<tr><td>Sudan</td><td>Africa </td></tr>\n",
       "</tbody>\n",
       "</table>\n"
      ],
      "text/latex": [
       "A data.frame: 3 × 2\n",
       "\\begin{tabular}{ll}\n",
       " country & region\\\\\n",
       " <chr> & <chr>\\\\\n",
       "\\hline\n",
       "\t USA   & America\\\\\n",
       "\t China & Asia   \\\\\n",
       "\t Sudan & Africa \\\\\n",
       "\\end{tabular}\n"
      ],
      "text/markdown": [
       "\n",
       "A data.frame: 3 × 2\n",
       "\n",
       "| country &lt;chr&gt; | region &lt;chr&gt; |\n",
       "|---|---|\n",
       "| USA   | America |\n",
       "| China | Asia    |\n",
       "| Sudan | Africa  |\n",
       "\n"
      ],
      "text/plain": [
       "  country region \n",
       "1 USA     America\n",
       "2 China   Asia   \n",
       "3 Sudan   Africa "
      ]
     },
     "metadata": {},
     "output_type": "display_data"
    }
   ],
   "source": [
    "region <- data.frame(\n",
    "    country = c(\"USA\", \"China\", \"Sudan\"),\n",
    "    region = c(\"America\", \"Asia\", \"Africa\")\n",
    "    )\n",
    "region"
   ]
  },
  {
   "cell_type": "markdown",
   "id": "185d8c6a",
   "metadata": {},
   "source": [
    "Because region doesn't vary over time, we have only 1 entry per country in the `region` dataset, while we have many entries for each county in `demo` (one per country-year pair). And when we merge the datasets, we want *all* the rows in `demo` to get copies of the matching row in `region`. \n",
    "\n",
    "This can be done with `merge` with no actual modifications to our code:"
   ]
  },
  {
   "cell_type": "code",
   "execution_count": 38,
   "id": "ee75c5f4",
   "metadata": {
    "lines_to_next_cell": 2
   },
   "outputs": [
    {
     "data": {
      "text/html": [
       "<table class=\"dataframe\">\n",
       "<caption>A data.frame: 9 × 4</caption>\n",
       "<thead>\n",
       "\t<tr><th scope=col>country</th><th scope=col>year</th><th scope=col>democracy_score</th><th scope=col>region</th></tr>\n",
       "\t<tr><th scope=col>&lt;fct&gt;</th><th scope=col>&lt;int&gt;</th><th scope=col>&lt;dbl&gt;</th><th scope=col>&lt;chr&gt;</th></tr>\n",
       "</thead>\n",
       "<tbody>\n",
       "\t<tr><td>China</td><td>1994</td><td>16</td><td>Asia   </td></tr>\n",
       "\t<tr><td>China</td><td>1995</td><td>10</td><td>Asia   </td></tr>\n",
       "\t<tr><td>China</td><td>1996</td><td> 3</td><td>Asia   </td></tr>\n",
       "\t<tr><td>Sudan</td><td>1995</td><td>12</td><td>Africa </td></tr>\n",
       "\t<tr><td>Sudan</td><td>1994</td><td> 5</td><td>Africa </td></tr>\n",
       "\t<tr><td>Sudan</td><td>1996</td><td> 2</td><td>Africa </td></tr>\n",
       "\t<tr><td>USA  </td><td>1994</td><td> 8</td><td>America</td></tr>\n",
       "\t<tr><td>USA  </td><td>1996</td><td> 8</td><td>America</td></tr>\n",
       "\t<tr><td>USA  </td><td>1995</td><td> 2</td><td>America</td></tr>\n",
       "</tbody>\n",
       "</table>\n"
      ],
      "text/latex": [
       "A data.frame: 9 × 4\n",
       "\\begin{tabular}{llll}\n",
       " country & year & democracy\\_score & region\\\\\n",
       " <fct> & <int> & <dbl> & <chr>\\\\\n",
       "\\hline\n",
       "\t China & 1994 & 16 & Asia   \\\\\n",
       "\t China & 1995 & 10 & Asia   \\\\\n",
       "\t China & 1996 &  3 & Asia   \\\\\n",
       "\t Sudan & 1995 & 12 & Africa \\\\\n",
       "\t Sudan & 1994 &  5 & Africa \\\\\n",
       "\t Sudan & 1996 &  2 & Africa \\\\\n",
       "\t USA   & 1994 &  8 & America\\\\\n",
       "\t USA   & 1996 &  8 & America\\\\\n",
       "\t USA   & 1995 &  2 & America\\\\\n",
       "\\end{tabular}\n"
      ],
      "text/markdown": [
       "\n",
       "A data.frame: 9 × 4\n",
       "\n",
       "| country &lt;fct&gt; | year &lt;int&gt; | democracy_score &lt;dbl&gt; | region &lt;chr&gt; |\n",
       "|---|---|---|---|\n",
       "| China | 1994 | 16 | Asia    |\n",
       "| China | 1995 | 10 | Asia    |\n",
       "| China | 1996 |  3 | Asia    |\n",
       "| Sudan | 1995 | 12 | Africa  |\n",
       "| Sudan | 1994 |  5 | Africa  |\n",
       "| Sudan | 1996 |  2 | Africa  |\n",
       "| USA   | 1994 |  8 | America |\n",
       "| USA   | 1996 |  8 | America |\n",
       "| USA   | 1995 |  2 | America |\n",
       "\n"
      ],
      "text/plain": [
       "  country year democracy_score region \n",
       "1 China   1994 16              Asia   \n",
       "2 China   1995 10              Asia   \n",
       "3 China   1996  3              Asia   \n",
       "4 Sudan   1995 12              Africa \n",
       "5 Sudan   1994  5              Africa \n",
       "6 Sudan   1996  2              Africa \n",
       "7 USA     1994  8              America\n",
       "8 USA     1996  8              America\n",
       "9 USA     1995  2              America"
      ]
     },
     "metadata": {},
     "output_type": "display_data"
    }
   ],
   "source": [
    "merge(demo, region, by = \"country\")"
   ]
  },
  {
   "cell_type": "markdown",
   "id": "c1e250fb",
   "metadata": {},
   "source": [
    "## The Dangerous Ease of Merging\n",
    "\n",
    "OK, at this point you've seen how to merge data using R's `merge` function, and seen how easy it is to do. But, in my view, the fact that merging data is so easy is actually horrifyingly dangerous. \n",
    "\n",
    "As discussed in our [defensive programming](defensive_programming.ipynb) reading, when working with real datasets we always have a model in our head about how our data is structured. \n",
    "\n",
    "(Remember that in these exercises we play with little toy datasets that you can print out in their entirety to make it easy to understand what's going on, but you can never actually look at all of your data we are working with thousands or hundreds of thousands of observations and tens or hundreds of variables.)\n",
    "\n",
    "But it's important always bear in mind that what we have in our heads is just that: *a model*, which may or may not be accurate. \n",
    "\n",
    "I bring this up because merging is a great opportunity to test your model, and also a place where, if your model is wrong, you can get into a lot of trouble. \n",
    "\n",
    "Suppose, for example, that we're working with `econ` and `demo` and want to merge on country, and we're *assuming* that `country` is a common identifier. But what we don't notice is that the way the United States is represented in the two datasets is different:\n"
   ]
  },
  {
   "cell_type": "code",
   "execution_count": 39,
   "id": "a8dfec2c",
   "metadata": {},
   "outputs": [
    {
     "data": {
      "text/html": [
       "<table class=\"dataframe\">\n",
       "<caption>A data.frame: 9 × 3</caption>\n",
       "<thead>\n",
       "\t<tr><th scope=col>country</th><th scope=col>year</th><th scope=col>democracy_score</th></tr>\n",
       "\t<tr><th scope=col>&lt;fct&gt;</th><th scope=col>&lt;int&gt;</th><th scope=col>&lt;dbl&gt;</th></tr>\n",
       "</thead>\n",
       "<tbody>\n",
       "\t<tr><td>USA  </td><td>1994</td><td> 8</td></tr>\n",
       "\t<tr><td>China</td><td>1994</td><td>16</td></tr>\n",
       "\t<tr><td>Sudan</td><td>1994</td><td> 5</td></tr>\n",
       "\t<tr><td>USA  </td><td>1995</td><td> 2</td></tr>\n",
       "\t<tr><td>China</td><td>1995</td><td>10</td></tr>\n",
       "\t<tr><td>Sudan</td><td>1995</td><td>12</td></tr>\n",
       "\t<tr><td>USA  </td><td>1996</td><td> 8</td></tr>\n",
       "\t<tr><td>China</td><td>1996</td><td> 3</td></tr>\n",
       "\t<tr><td>Sudan</td><td>1996</td><td> 2</td></tr>\n",
       "</tbody>\n",
       "</table>\n"
      ],
      "text/latex": [
       "A data.frame: 9 × 3\n",
       "\\begin{tabular}{lll}\n",
       " country & year & democracy\\_score\\\\\n",
       " <fct> & <int> & <dbl>\\\\\n",
       "\\hline\n",
       "\t USA   & 1994 &  8\\\\\n",
       "\t China & 1994 & 16\\\\\n",
       "\t Sudan & 1994 &  5\\\\\n",
       "\t USA   & 1995 &  2\\\\\n",
       "\t China & 1995 & 10\\\\\n",
       "\t Sudan & 1995 & 12\\\\\n",
       "\t USA   & 1996 &  8\\\\\n",
       "\t China & 1996 &  3\\\\\n",
       "\t Sudan & 1996 &  2\\\\\n",
       "\\end{tabular}\n"
      ],
      "text/markdown": [
       "\n",
       "A data.frame: 9 × 3\n",
       "\n",
       "| country &lt;fct&gt; | year &lt;int&gt; | democracy_score &lt;dbl&gt; |\n",
       "|---|---|---|\n",
       "| USA   | 1994 |  8 |\n",
       "| China | 1994 | 16 |\n",
       "| Sudan | 1994 |  5 |\n",
       "| USA   | 1995 |  2 |\n",
       "| China | 1995 | 10 |\n",
       "| Sudan | 1995 | 12 |\n",
       "| USA   | 1996 |  8 |\n",
       "| China | 1996 |  3 |\n",
       "| Sudan | 1996 |  2 |\n",
       "\n"
      ],
      "text/plain": [
       "  country year democracy_score\n",
       "1 USA     1994  8             \n",
       "2 China   1994 16             \n",
       "3 Sudan   1994  5             \n",
       "4 USA     1995  2             \n",
       "5 China   1995 10             \n",
       "6 Sudan   1995 12             \n",
       "7 USA     1996  8             \n",
       "8 China   1996  3             \n",
       "9 Sudan   1996  2             "
      ]
     },
     "metadata": {},
     "output_type": "display_data"
    }
   ],
   "source": [
    "demo"
   ]
  },
  {
   "cell_type": "code",
   "execution_count": 40,
   "id": "7ccc129c",
   "metadata": {},
   "outputs": [
    {
     "data": {
      "text/html": [
       "<table class=\"dataframe\">\n",
       "<caption>A data.frame: 9 × 3</caption>\n",
       "<thead>\n",
       "\t<tr><th scope=col>year</th><th scope=col>country</th><th scope=col>gdp_pc</th></tr>\n",
       "\t<tr><th scope=col>&lt;int&gt;</th><th scope=col>&lt;fct&gt;</th><th scope=col>&lt;dbl&gt;</th></tr>\n",
       "</thead>\n",
       "<tbody>\n",
       "\t<tr><td>1994</td><td>United States</td><td> 7833</td></tr>\n",
       "\t<tr><td>1995</td><td>United States</td><td> 8159</td></tr>\n",
       "\t<tr><td>1996</td><td>United States</td><td>18529</td></tr>\n",
       "\t<tr><td>1994</td><td>China        </td><td>12370</td></tr>\n",
       "\t<tr><td>1995</td><td>China        </td><td> 7783</td></tr>\n",
       "\t<tr><td>1996</td><td>China        </td><td> 3246</td></tr>\n",
       "\t<tr><td>1994</td><td>Sudan        </td><td>11507</td></tr>\n",
       "\t<tr><td>1995</td><td>Sudan        </td><td>10859</td></tr>\n",
       "\t<tr><td>1996</td><td>Sudan        </td><td>15209</td></tr>\n",
       "</tbody>\n",
       "</table>\n"
      ],
      "text/latex": [
       "A data.frame: 9 × 3\n",
       "\\begin{tabular}{lll}\n",
       " year & country & gdp\\_pc\\\\\n",
       " <int> & <fct> & <dbl>\\\\\n",
       "\\hline\n",
       "\t 1994 & United States &  7833\\\\\n",
       "\t 1995 & United States &  8159\\\\\n",
       "\t 1996 & United States & 18529\\\\\n",
       "\t 1994 & China         & 12370\\\\\n",
       "\t 1995 & China         &  7783\\\\\n",
       "\t 1996 & China         &  3246\\\\\n",
       "\t 1994 & Sudan         & 11507\\\\\n",
       "\t 1995 & Sudan         & 10859\\\\\n",
       "\t 1996 & Sudan         & 15209\\\\\n",
       "\\end{tabular}\n"
      ],
      "text/markdown": [
       "\n",
       "A data.frame: 9 × 3\n",
       "\n",
       "| year &lt;int&gt; | country &lt;fct&gt; | gdp_pc &lt;dbl&gt; |\n",
       "|---|---|---|\n",
       "| 1994 | United States |  7833 |\n",
       "| 1995 | United States |  8159 |\n",
       "| 1996 | United States | 18529 |\n",
       "| 1994 | China         | 12370 |\n",
       "| 1995 | China         |  7783 |\n",
       "| 1996 | China         |  3246 |\n",
       "| 1994 | Sudan         | 11507 |\n",
       "| 1995 | Sudan         | 10859 |\n",
       "| 1996 | Sudan         | 15209 |\n",
       "\n"
      ],
      "text/plain": [
       "  year country       gdp_pc\n",
       "1 1994 United States  7833 \n",
       "2 1995 United States  8159 \n",
       "3 1996 United States 18529 \n",
       "4 1994 China         12370 \n",
       "5 1995 China          7783 \n",
       "6 1996 China          3246 \n",
       "7 1994 Sudan         11507 \n",
       "8 1995 Sudan         10859 \n",
       "9 1996 Sudan         15209 "
      ]
     },
     "metadata": {},
     "output_type": "display_data"
    }
   ],
   "source": [
    "# Generate toy dataset 2:\n",
    "econ <- data.frame(\n",
    "    expand.grid(year = 1994:1996, country = c(\"United States\", \"China\", \"Sudan\")),\n",
    "    gdp_pc = round(runif(9, 1000, 20000), 0)\n",
    "    )\n",
    "econ"
   ]
  },
  {
   "cell_type": "markdown",
   "id": "29efd20d",
   "metadata": {},
   "source": [
    "Now if we try and merge these datasets, and we do an inner join:"
   ]
  },
  {
   "cell_type": "code",
   "execution_count": 35,
   "id": "21a61aaa",
   "metadata": {},
   "outputs": [
    {
     "data": {
      "text/html": [
       "<table class=\"dataframe\">\n",
       "<caption>A data.frame: 6 × 4</caption>\n",
       "<thead>\n",
       "\t<tr><th scope=col>country</th><th scope=col>year</th><th scope=col>gdp_pc</th><th scope=col>democracy_score</th></tr>\n",
       "\t<tr><th scope=col>&lt;fct&gt;</th><th scope=col>&lt;int&gt;</th><th scope=col>&lt;dbl&gt;</th><th scope=col>&lt;dbl&gt;</th></tr>\n",
       "</thead>\n",
       "<tbody>\n",
       "\t<tr><td>China</td><td>1994</td><td>13508</td><td>16</td></tr>\n",
       "\t<tr><td>China</td><td>1995</td><td> 7113</td><td>10</td></tr>\n",
       "\t<tr><td>China</td><td>1996</td><td> 2815</td><td> 3</td></tr>\n",
       "\t<tr><td>Sudan</td><td>1994</td><td> 7809</td><td> 5</td></tr>\n",
       "\t<tr><td>Sudan</td><td>1995</td><td> 2433</td><td>12</td></tr>\n",
       "\t<tr><td>Sudan</td><td>1996</td><td>11809</td><td> 2</td></tr>\n",
       "</tbody>\n",
       "</table>\n"
      ],
      "text/latex": [
       "A data.frame: 6 × 4\n",
       "\\begin{tabular}{llll}\n",
       " country & year & gdp\\_pc & democracy\\_score\\\\\n",
       " <fct> & <int> & <dbl> & <dbl>\\\\\n",
       "\\hline\n",
       "\t China & 1994 & 13508 & 16\\\\\n",
       "\t China & 1995 &  7113 & 10\\\\\n",
       "\t China & 1996 &  2815 &  3\\\\\n",
       "\t Sudan & 1994 &  7809 &  5\\\\\n",
       "\t Sudan & 1995 &  2433 & 12\\\\\n",
       "\t Sudan & 1996 & 11809 &  2\\\\\n",
       "\\end{tabular}\n"
      ],
      "text/markdown": [
       "\n",
       "A data.frame: 6 × 4\n",
       "\n",
       "| country &lt;fct&gt; | year &lt;int&gt; | gdp_pc &lt;dbl&gt; | democracy_score &lt;dbl&gt; |\n",
       "|---|---|---|---|\n",
       "| China | 1994 | 13508 | 16 |\n",
       "| China | 1995 |  7113 | 10 |\n",
       "| China | 1996 |  2815 |  3 |\n",
       "| Sudan | 1994 |  7809 |  5 |\n",
       "| Sudan | 1995 |  2433 | 12 |\n",
       "| Sudan | 1996 | 11809 |  2 |\n",
       "\n"
      ],
      "text/plain": [
       "  country year gdp_pc democracy_score\n",
       "1 China   1994 13508  16             \n",
       "2 China   1995  7113  10             \n",
       "3 China   1996  2815   3             \n",
       "4 Sudan   1994  7809   5             \n",
       "5 Sudan   1995  2433  12             \n",
       "6 Sudan   1996 11809   2             "
      ]
     },
     "metadata": {},
     "output_type": "display_data"
    }
   ],
   "source": [
    "merge(econ, demo, by = c(\"country\", \"year\"))"
   ]
  },
  {
   "cell_type": "markdown",
   "id": "205c3465",
   "metadata": {},
   "source": [
    "... oops. We just dropped the US from our analysis. No error messages, no warnings; it's just gone. \n",
    "\n",
    "Again, this is obvious here, but what if you had 180 countries in your data, and 10 years instead of 3 -- that'd be 1,800 observations. You wouldn't just *see* it. "
   ]
  },
  {
   "cell_type": "markdown",
   "id": "a98113b7",
   "metadata": {},
   "source": [
    "Similarly, because it doesn't seem like regions would change over time, you assume that your `region` dataset has one observation per country, but in actuality at some point in the past the United Nations changed region designations, and so the dataset includes one entry per country-year:"
   ]
  },
  {
   "cell_type": "code",
   "execution_count": 41,
   "id": "1729d011",
   "metadata": {},
   "outputs": [
    {
     "data": {
      "text/html": [
       "<table class=\"dataframe\">\n",
       "<caption>A data.frame: 9 × 3</caption>\n",
       "<thead>\n",
       "\t<tr><th scope=col>country</th><th scope=col>region</th><th scope=col>year</th></tr>\n",
       "\t<tr><th scope=col>&lt;chr&gt;</th><th scope=col>&lt;chr&gt;</th><th scope=col>&lt;dbl&gt;</th></tr>\n",
       "</thead>\n",
       "<tbody>\n",
       "\t<tr><td>USA  </td><td>America</td><td>1994</td></tr>\n",
       "\t<tr><td>China</td><td>Asia   </td><td>1994</td></tr>\n",
       "\t<tr><td>Sudan</td><td>Africa </td><td>1994</td></tr>\n",
       "\t<tr><td>USA  </td><td>America</td><td>1995</td></tr>\n",
       "\t<tr><td>China</td><td>Asia   </td><td>1995</td></tr>\n",
       "\t<tr><td>Sudan</td><td>Africa </td><td>1995</td></tr>\n",
       "\t<tr><td>USA  </td><td>America</td><td>1996</td></tr>\n",
       "\t<tr><td>China</td><td>Asia   </td><td>1996</td></tr>\n",
       "\t<tr><td>Sudan</td><td>Africa </td><td>1996</td></tr>\n",
       "</tbody>\n",
       "</table>\n"
      ],
      "text/latex": [
       "A data.frame: 9 × 3\n",
       "\\begin{tabular}{lll}\n",
       " country & region & year\\\\\n",
       " <chr> & <chr> & <dbl>\\\\\n",
       "\\hline\n",
       "\t USA   & America & 1994\\\\\n",
       "\t China & Asia    & 1994\\\\\n",
       "\t Sudan & Africa  & 1994\\\\\n",
       "\t USA   & America & 1995\\\\\n",
       "\t China & Asia    & 1995\\\\\n",
       "\t Sudan & Africa  & 1995\\\\\n",
       "\t USA   & America & 1996\\\\\n",
       "\t China & Asia    & 1996\\\\\n",
       "\t Sudan & Africa  & 1996\\\\\n",
       "\\end{tabular}\n"
      ],
      "text/markdown": [
       "\n",
       "A data.frame: 9 × 3\n",
       "\n",
       "| country &lt;chr&gt; | region &lt;chr&gt; | year &lt;dbl&gt; |\n",
       "|---|---|---|\n",
       "| USA   | America | 1994 |\n",
       "| China | Asia    | 1994 |\n",
       "| Sudan | Africa  | 1994 |\n",
       "| USA   | America | 1995 |\n",
       "| China | Asia    | 1995 |\n",
       "| Sudan | Africa  | 1995 |\n",
       "| USA   | America | 1996 |\n",
       "| China | Asia    | 1996 |\n",
       "| Sudan | Africa  | 1996 |\n",
       "\n"
      ],
      "text/plain": [
       "  country region  year\n",
       "1 USA     America 1994\n",
       "2 China   Asia    1994\n",
       "3 Sudan   Africa  1994\n",
       "4 USA     America 1995\n",
       "5 China   Asia    1995\n",
       "6 Sudan   Africa  1995\n",
       "7 USA     America 1996\n",
       "8 China   Asia    1996\n",
       "9 Sudan   Africa  1996"
      ]
     },
     "metadata": {},
     "output_type": "display_data"
    }
   ],
   "source": [
    "region <- data.frame(\n",
    "    country = c(\"USA\", \"China\", \"Sudan\"),\n",
    "    region = c(\"America\", \"Asia\", \"Africa\"),\n",
    "    year = c(1994, 1994, 1994, 1995, 1995, 1995, 1996, 1996, 1996) \n",
    "    )\n",
    "region"
   ]
  },
  {
   "cell_type": "markdown",
   "id": "af2bfbb9",
   "metadata": {},
   "source": [
    "Now if you merged this dataset with `demo` on `\"country\"` like we did above, this is what would happen:"
   ]
  },
  {
   "cell_type": "code",
   "execution_count": 42,
   "id": "18fac78c",
   "metadata": {},
   "outputs": [
    {
     "data": {
      "text/html": [
       "<table class=\"dataframe\">\n",
       "<caption>A data.frame: 27 × 5</caption>\n",
       "<thead>\n",
       "\t<tr><th scope=col>country</th><th scope=col>year.x</th><th scope=col>democracy_score</th><th scope=col>region</th><th scope=col>year.y</th></tr>\n",
       "\t<tr><th scope=col>&lt;fct&gt;</th><th scope=col>&lt;int&gt;</th><th scope=col>&lt;dbl&gt;</th><th scope=col>&lt;chr&gt;</th><th scope=col>&lt;dbl&gt;</th></tr>\n",
       "</thead>\n",
       "<tbody>\n",
       "\t<tr><td>China</td><td>1994</td><td>16</td><td>Asia   </td><td>1994</td></tr>\n",
       "\t<tr><td>China</td><td>1994</td><td>16</td><td>Asia   </td><td>1995</td></tr>\n",
       "\t<tr><td>China</td><td>1994</td><td>16</td><td>Asia   </td><td>1996</td></tr>\n",
       "\t<tr><td>China</td><td>1995</td><td>10</td><td>Asia   </td><td>1994</td></tr>\n",
       "\t<tr><td>China</td><td>1995</td><td>10</td><td>Asia   </td><td>1995</td></tr>\n",
       "\t<tr><td>China</td><td>1995</td><td>10</td><td>Asia   </td><td>1996</td></tr>\n",
       "\t<tr><td>China</td><td>1996</td><td> 3</td><td>Asia   </td><td>1994</td></tr>\n",
       "\t<tr><td>China</td><td>1996</td><td> 3</td><td>Asia   </td><td>1995</td></tr>\n",
       "\t<tr><td>China</td><td>1996</td><td> 3</td><td>Asia   </td><td>1996</td></tr>\n",
       "\t<tr><td>Sudan</td><td>1995</td><td>12</td><td>Africa </td><td>1995</td></tr>\n",
       "\t<tr><td>Sudan</td><td>1995</td><td>12</td><td>Africa </td><td>1994</td></tr>\n",
       "\t<tr><td>Sudan</td><td>1995</td><td>12</td><td>Africa </td><td>1996</td></tr>\n",
       "\t<tr><td>Sudan</td><td>1994</td><td> 5</td><td>Africa </td><td>1995</td></tr>\n",
       "\t<tr><td>Sudan</td><td>1994</td><td> 5</td><td>Africa </td><td>1994</td></tr>\n",
       "\t<tr><td>Sudan</td><td>1994</td><td> 5</td><td>Africa </td><td>1996</td></tr>\n",
       "\t<tr><td>Sudan</td><td>1996</td><td> 2</td><td>Africa </td><td>1995</td></tr>\n",
       "\t<tr><td>Sudan</td><td>1996</td><td> 2</td><td>Africa </td><td>1994</td></tr>\n",
       "\t<tr><td>Sudan</td><td>1996</td><td> 2</td><td>Africa </td><td>1996</td></tr>\n",
       "\t<tr><td>USA  </td><td>1994</td><td> 8</td><td>America</td><td>1994</td></tr>\n",
       "\t<tr><td>USA  </td><td>1994</td><td> 8</td><td>America</td><td>1996</td></tr>\n",
       "\t<tr><td>USA  </td><td>1994</td><td> 8</td><td>America</td><td>1995</td></tr>\n",
       "\t<tr><td>USA  </td><td>1996</td><td> 8</td><td>America</td><td>1994</td></tr>\n",
       "\t<tr><td>USA  </td><td>1996</td><td> 8</td><td>America</td><td>1996</td></tr>\n",
       "\t<tr><td>USA  </td><td>1996</td><td> 8</td><td>America</td><td>1995</td></tr>\n",
       "\t<tr><td>USA  </td><td>1995</td><td> 2</td><td>America</td><td>1994</td></tr>\n",
       "\t<tr><td>USA  </td><td>1995</td><td> 2</td><td>America</td><td>1996</td></tr>\n",
       "\t<tr><td>USA  </td><td>1995</td><td> 2</td><td>America</td><td>1995</td></tr>\n",
       "</tbody>\n",
       "</table>\n"
      ],
      "text/latex": [
       "A data.frame: 27 × 5\n",
       "\\begin{tabular}{lllll}\n",
       " country & year.x & democracy\\_score & region & year.y\\\\\n",
       " <fct> & <int> & <dbl> & <chr> & <dbl>\\\\\n",
       "\\hline\n",
       "\t China & 1994 & 16 & Asia    & 1994\\\\\n",
       "\t China & 1994 & 16 & Asia    & 1995\\\\\n",
       "\t China & 1994 & 16 & Asia    & 1996\\\\\n",
       "\t China & 1995 & 10 & Asia    & 1994\\\\\n",
       "\t China & 1995 & 10 & Asia    & 1995\\\\\n",
       "\t China & 1995 & 10 & Asia    & 1996\\\\\n",
       "\t China & 1996 &  3 & Asia    & 1994\\\\\n",
       "\t China & 1996 &  3 & Asia    & 1995\\\\\n",
       "\t China & 1996 &  3 & Asia    & 1996\\\\\n",
       "\t Sudan & 1995 & 12 & Africa  & 1995\\\\\n",
       "\t Sudan & 1995 & 12 & Africa  & 1994\\\\\n",
       "\t Sudan & 1995 & 12 & Africa  & 1996\\\\\n",
       "\t Sudan & 1994 &  5 & Africa  & 1995\\\\\n",
       "\t Sudan & 1994 &  5 & Africa  & 1994\\\\\n",
       "\t Sudan & 1994 &  5 & Africa  & 1996\\\\\n",
       "\t Sudan & 1996 &  2 & Africa  & 1995\\\\\n",
       "\t Sudan & 1996 &  2 & Africa  & 1994\\\\\n",
       "\t Sudan & 1996 &  2 & Africa  & 1996\\\\\n",
       "\t USA   & 1994 &  8 & America & 1994\\\\\n",
       "\t USA   & 1994 &  8 & America & 1996\\\\\n",
       "\t USA   & 1994 &  8 & America & 1995\\\\\n",
       "\t USA   & 1996 &  8 & America & 1994\\\\\n",
       "\t USA   & 1996 &  8 & America & 1996\\\\\n",
       "\t USA   & 1996 &  8 & America & 1995\\\\\n",
       "\t USA   & 1995 &  2 & America & 1994\\\\\n",
       "\t USA   & 1995 &  2 & America & 1996\\\\\n",
       "\t USA   & 1995 &  2 & America & 1995\\\\\n",
       "\\end{tabular}\n"
      ],
      "text/markdown": [
       "\n",
       "A data.frame: 27 × 5\n",
       "\n",
       "| country &lt;fct&gt; | year.x &lt;int&gt; | democracy_score &lt;dbl&gt; | region &lt;chr&gt; | year.y &lt;dbl&gt; |\n",
       "|---|---|---|---|---|\n",
       "| China | 1994 | 16 | Asia    | 1994 |\n",
       "| China | 1994 | 16 | Asia    | 1995 |\n",
       "| China | 1994 | 16 | Asia    | 1996 |\n",
       "| China | 1995 | 10 | Asia    | 1994 |\n",
       "| China | 1995 | 10 | Asia    | 1995 |\n",
       "| China | 1995 | 10 | Asia    | 1996 |\n",
       "| China | 1996 |  3 | Asia    | 1994 |\n",
       "| China | 1996 |  3 | Asia    | 1995 |\n",
       "| China | 1996 |  3 | Asia    | 1996 |\n",
       "| Sudan | 1995 | 12 | Africa  | 1995 |\n",
       "| Sudan | 1995 | 12 | Africa  | 1994 |\n",
       "| Sudan | 1995 | 12 | Africa  | 1996 |\n",
       "| Sudan | 1994 |  5 | Africa  | 1995 |\n",
       "| Sudan | 1994 |  5 | Africa  | 1994 |\n",
       "| Sudan | 1994 |  5 | Africa  | 1996 |\n",
       "| Sudan | 1996 |  2 | Africa  | 1995 |\n",
       "| Sudan | 1996 |  2 | Africa  | 1994 |\n",
       "| Sudan | 1996 |  2 | Africa  | 1996 |\n",
       "| USA   | 1994 |  8 | America | 1994 |\n",
       "| USA   | 1994 |  8 | America | 1996 |\n",
       "| USA   | 1994 |  8 | America | 1995 |\n",
       "| USA   | 1996 |  8 | America | 1994 |\n",
       "| USA   | 1996 |  8 | America | 1996 |\n",
       "| USA   | 1996 |  8 | America | 1995 |\n",
       "| USA   | 1995 |  2 | America | 1994 |\n",
       "| USA   | 1995 |  2 | America | 1996 |\n",
       "| USA   | 1995 |  2 | America | 1995 |\n",
       "\n"
      ],
      "text/plain": [
       "   country year.x democracy_score region  year.y\n",
       "1  China   1994   16              Asia    1994  \n",
       "2  China   1994   16              Asia    1995  \n",
       "3  China   1994   16              Asia    1996  \n",
       "4  China   1995   10              Asia    1994  \n",
       "5  China   1995   10              Asia    1995  \n",
       "6  China   1995   10              Asia    1996  \n",
       "7  China   1996    3              Asia    1994  \n",
       "8  China   1996    3              Asia    1995  \n",
       "9  China   1996    3              Asia    1996  \n",
       "10 Sudan   1995   12              Africa  1995  \n",
       "11 Sudan   1995   12              Africa  1994  \n",
       "12 Sudan   1995   12              Africa  1996  \n",
       "13 Sudan   1994    5              Africa  1995  \n",
       "14 Sudan   1994    5              Africa  1994  \n",
       "15 Sudan   1994    5              Africa  1996  \n",
       "16 Sudan   1996    2              Africa  1995  \n",
       "17 Sudan   1996    2              Africa  1994  \n",
       "18 Sudan   1996    2              Africa  1996  \n",
       "19 USA     1994    8              America 1994  \n",
       "20 USA     1994    8              America 1996  \n",
       "21 USA     1994    8              America 1995  \n",
       "22 USA     1996    8              America 1994  \n",
       "23 USA     1996    8              America 1996  \n",
       "24 USA     1996    8              America 1995  \n",
       "25 USA     1995    2              America 1994  \n",
       "26 USA     1995    2              America 1996  \n",
       "27 USA     1995    2              America 1995  "
      ]
     },
     "metadata": {},
     "output_type": "display_data"
    }
   ],
   "source": [
    "merge(demo, region, by = \"country\")"
   ]
  },
  {
   "cell_type": "markdown",
   "id": "ef79cf1e",
   "metadata": {},
   "source": [
    "...oops.  Now each country-year appears three times in our data! If we try to analyze this statistically, these repeat observations would make our results meaningless.\n",
    "\n",
    "And again, no warnings, no error messages."
   ]
  },
  {
   "cell_type": "markdown",
   "id": "ce24ef93",
   "metadata": {},
   "source": [
    "## Merging with Checks\n",
    "\n",
    "To solve this problem, I am going to advocate that instead of you using the default `merge()` function for merging in R, you use the `join()` function provided by the [statar](https://github.com/matthieugomez/statar) package. \n",
    "\n",
    "statar implements a number of safety features that are default in most other languages (in this case, the author is inspired by Stata, thus the name):\n",
    "\n",
    "- You can tell it whether you think you're doing a 1-to-1, many-to-1, 1-to-many, or many-to-many merge, and it will check the data to see if you are correct and raise a warning if not.\n",
    "- It provides a diagnostic tool for evaluating whether your merges were successful or not to catch situations like the `USA` / `United States` situation described above.\n",
    "- Requires you explicitly state the kind of merge (specified with the `kind` argument) you want to do so you don't mindlessly do an inner join when you shouldn't. \n",
    "\n",
    "To begin, let's try our region merge again with statar. We *think* we're doing a many-to-1 merge (we expect several country-year pairs in `demo` to each match to one row in `region`), so we use `check = m~1`:"
   ]
  },
  {
   "cell_type": "code",
   "execution_count": 50,
   "id": "226ce9a7",
   "metadata": {},
   "outputs": [],
   "source": [
    "# Load statar.\n",
    "# You'll have to install first.\n",
    "\n",
    "library(statar)"
   ]
  },
  {
   "cell_type": "code",
   "execution_count": 51,
   "id": "3965a018",
   "metadata": {},
   "outputs": [
    {
     "ename": "ERROR",
     "evalue": "Error: Variable(s) country don't uniquely identify observations in y\n",
     "output_type": "error",
     "traceback": [
      "Error: Variable(s) country don't uniquely identify observations in y\nTraceback:\n",
      "1. join(demo, region, kind = \"inner\", on = \"country\", check = m ~ \n .     1)",
      "2. stop(paste0(\"Variable(s) \", paste(vars, collapse = \" \"), \" don't uniquely identify observations in y\"), \n .     call. = FALSE)"
     ]
    }
   ],
   "source": [
    "join(demo, region, kind = \"inner\", on = \"country\", check = m~1)"
   ]
  },
  {
   "cell_type": "markdown",
   "id": "0a7dcec8",
   "metadata": {},
   "source": [
    "```R\n",
    "join(demo, region, kind = \"inner\", on = \"country\", check = 1~1)\n",
    "\n",
    "> ERROR: Error: Variable(s) country don't uniquely identify observations in y\n",
    "> Error: Variable(s) country don't uniquely identify observations in y\n",
    "> Traceback:\n",
    "> \n",
    "> 1. join(demo, region, kind = \"inner\", on = \"country\", check = m ~ \n",
    ">  .     1)\n",
    "> 2. stop(paste0(\"Variable(s) \", paste(vars, collapse = \" \"), \" don't uniquely identify observations in y\"), \n",
    ">  .     call. = FALSE)\n",
    "```"
   ]
  },
  {
   "cell_type": "markdown",
   "id": "4f64cf79",
   "metadata": {},
   "source": [
    "Ta-da! It points out that `country` doesn't uniquely identify rows in our `region` dataset! Now we know we have a problem, and we won't make a dataset full of duplicate entries. "
   ]
  },
  {
   "cell_type": "markdown",
   "id": "69e83120",
   "metadata": {},
   "source": [
    "Now we can make use of the other tool in statar. As a rule, I basically *never* do inner joins, because with an inner join any problems with the merge -- e.g. rows you expected to merge that didn't -- get dropped, masking any problems. \n",
    "\n",
    "Instead, I strongly recommend always doing an *outer join* (`kind = \"full\"` in statar -- I know, why can't everyone use the same terminology?!), and then checking the diagnostic information provided by `join`:"
   ]
  },
  {
   "cell_type": "code",
   "execution_count": 56,
   "id": "4518275e",
   "metadata": {},
   "outputs": [
    {
     "name": "stderr",
     "output_type": "stream",
     "text": [
      "Joining, by = c(\"year\", \"country\")\n",
      "\n"
     ]
    },
    {
     "data": {
      "text/html": [
       "<table class=\"dataframe\">\n",
       "<caption>A data.frame: 12 × 5</caption>\n",
       "<thead>\n",
       "\t<tr><th scope=col>year</th><th scope=col>country</th><th scope=col>gdp_pc</th><th scope=col>democracy_score</th><th scope=col>merge_check</th></tr>\n",
       "\t<tr><th scope=col>&lt;int&gt;</th><th scope=col>&lt;fct&gt;</th><th scope=col>&lt;dbl&gt;</th><th scope=col>&lt;dbl&gt;</th><th scope=col>&lt;int&gt;</th></tr>\n",
       "</thead>\n",
       "<tbody>\n",
       "\t<tr><td>1994</td><td>United States</td><td> 7833</td><td>NA</td><td>1</td></tr>\n",
       "\t<tr><td>1995</td><td>United States</td><td> 8159</td><td>NA</td><td>1</td></tr>\n",
       "\t<tr><td>1996</td><td>United States</td><td>18529</td><td>NA</td><td>1</td></tr>\n",
       "\t<tr><td>1994</td><td>China        </td><td>12370</td><td>16</td><td>3</td></tr>\n",
       "\t<tr><td>1995</td><td>China        </td><td> 7783</td><td>10</td><td>3</td></tr>\n",
       "\t<tr><td>1996</td><td>China        </td><td> 3246</td><td> 3</td><td>3</td></tr>\n",
       "\t<tr><td>1994</td><td>Sudan        </td><td>11507</td><td> 5</td><td>3</td></tr>\n",
       "\t<tr><td>1995</td><td>Sudan        </td><td>10859</td><td>12</td><td>3</td></tr>\n",
       "\t<tr><td>1996</td><td>Sudan        </td><td>15209</td><td> 2</td><td>3</td></tr>\n",
       "\t<tr><td>1994</td><td>USA          </td><td>   NA</td><td> 8</td><td>2</td></tr>\n",
       "\t<tr><td>1995</td><td>USA          </td><td>   NA</td><td> 2</td><td>2</td></tr>\n",
       "\t<tr><td>1996</td><td>USA          </td><td>   NA</td><td> 8</td><td>2</td></tr>\n",
       "</tbody>\n",
       "</table>\n"
      ],
      "text/latex": [
       "A data.frame: 12 × 5\n",
       "\\begin{tabular}{lllll}\n",
       " year & country & gdp\\_pc & democracy\\_score & merge\\_check\\\\\n",
       " <int> & <fct> & <dbl> & <dbl> & <int>\\\\\n",
       "\\hline\n",
       "\t 1994 & United States &  7833 & NA & 1\\\\\n",
       "\t 1995 & United States &  8159 & NA & 1\\\\\n",
       "\t 1996 & United States & 18529 & NA & 1\\\\\n",
       "\t 1994 & China         & 12370 & 16 & 3\\\\\n",
       "\t 1995 & China         &  7783 & 10 & 3\\\\\n",
       "\t 1996 & China         &  3246 &  3 & 3\\\\\n",
       "\t 1994 & Sudan         & 11507 &  5 & 3\\\\\n",
       "\t 1995 & Sudan         & 10859 & 12 & 3\\\\\n",
       "\t 1996 & Sudan         & 15209 &  2 & 3\\\\\n",
       "\t 1994 & USA           &    NA &  8 & 2\\\\\n",
       "\t 1995 & USA           &    NA &  2 & 2\\\\\n",
       "\t 1996 & USA           &    NA &  8 & 2\\\\\n",
       "\\end{tabular}\n"
      ],
      "text/markdown": [
       "\n",
       "A data.frame: 12 × 5\n",
       "\n",
       "| year &lt;int&gt; | country &lt;fct&gt; | gdp_pc &lt;dbl&gt; | democracy_score &lt;dbl&gt; | merge_check &lt;int&gt; |\n",
       "|---|---|---|---|---|\n",
       "| 1994 | United States |  7833 | NA | 1 |\n",
       "| 1995 | United States |  8159 | NA | 1 |\n",
       "| 1996 | United States | 18529 | NA | 1 |\n",
       "| 1994 | China         | 12370 | 16 | 3 |\n",
       "| 1995 | China         |  7783 | 10 | 3 |\n",
       "| 1996 | China         |  3246 |  3 | 3 |\n",
       "| 1994 | Sudan         | 11507 |  5 | 3 |\n",
       "| 1995 | Sudan         | 10859 | 12 | 3 |\n",
       "| 1996 | Sudan         | 15209 |  2 | 3 |\n",
       "| 1994 | USA           |    NA |  8 | 2 |\n",
       "| 1995 | USA           |    NA |  2 | 2 |\n",
       "| 1996 | USA           |    NA |  8 | 2 |\n",
       "\n"
      ],
      "text/plain": [
       "   year country       gdp_pc democracy_score merge_check\n",
       "1  1994 United States  7833  NA              1          \n",
       "2  1995 United States  8159  NA              1          \n",
       "3  1996 United States 18529  NA              1          \n",
       "4  1994 China         12370  16              3          \n",
       "5  1995 China          7783  10              3          \n",
       "6  1996 China          3246   3              3          \n",
       "7  1994 Sudan         11507   5              3          \n",
       "8  1995 Sudan         10859  12              3          \n",
       "9  1996 Sudan         15209   2              3          \n",
       "10 1994 USA              NA   8              2          \n",
       "11 1995 USA              NA   2              2          \n",
       "12 1996 USA              NA   8              2          "
      ]
     },
     "metadata": {},
     "output_type": "display_data"
    }
   ],
   "source": [
    "# Do our merge with US problem\n",
    "# as an outer (\"full\") merge. \n",
    "# `gen=\"_merge\"` will now add a column\n",
    "# to our data with diagnostic info. \n",
    "merged_data <- join(econ, demo, on = c(\"country\", \"year\"),\n",
    "                    kind = \"full\", gen = \"merge_check\")\n",
    "merged_data"
   ]
  },
  {
   "cell_type": "markdown",
   "id": "54fd65c3",
   "metadata": {},
   "source": [
    "As you can see, `join` has added a column called `_merge` with values of 1, 2, and 3. The meaning of these is:\n",
    "\n",
    "- `1`: Row in left dataset, no match in right dataset. \n",
    "- `2`: Row in right dataset, no match in left dataset. \n",
    "- `3`: Row merged successfully. \n",
    "\n",
    "We can now check these values with `table()`:"
   ]
  },
  {
   "cell_type": "code",
   "execution_count": 57,
   "id": "e07aface",
   "metadata": {},
   "outputs": [
    {
     "data": {
      "text/plain": [
       "\n",
       "1 2 3 \n",
       "3 3 6 "
      ]
     },
     "metadata": {},
     "output_type": "display_data"
    }
   ],
   "source": [
    "table(merged_data$merge_check)"
   ]
  },
  {
   "cell_type": "markdown",
   "id": "4242a5f1",
   "metadata": {},
   "source": [
    "And we can add tests here too! For example, if we expected everything to merge correctly, we can add the following test (again, see [defensive programming reading](defensive_programming.ipynb) for discussion of tests):"
   ]
  },
  {
   "cell_type": "code",
   "execution_count": 58,
   "id": "fcb06d0c",
   "metadata": {},
   "outputs": [],
   "source": [
    "library(assertthat)"
   ]
  },
  {
   "cell_type": "markdown",
   "id": "d31000e3",
   "metadata": {},
   "source": [
    "```R\n",
    "assert_that(all(merged_data$merge_check == 3))\n",
    "\n",
    "> ERROR: Error: Elements 1, 2, 3, 10, 11, 12 of merged_data$merge_check == 3 are not true\n",
    "> Error: Elements 1, 2, 3, 10, 11, 12 of merged_data$merge_check == 3 are not true\n",
    "> Traceback:\n",
    "> \n",
    "> 1. assert_that(all(merged_data$merge_check == 3))\n",
    "```"
   ]
  },
  {
   "cell_type": "markdown",
   "id": "5d7a326b",
   "metadata": {},
   "source": [
    "And now we know something went wrong. What went wrong? Let's look at the rows that didn't merge!"
   ]
  },
  {
   "cell_type": "code",
   "execution_count": 60,
   "id": "b8880f18",
   "metadata": {},
   "outputs": [
    {
     "data": {
      "text/html": [
       "<table class=\"dataframe\">\n",
       "<caption>A data.frame: 6 × 5</caption>\n",
       "<thead>\n",
       "\t<tr><th></th><th scope=col>year</th><th scope=col>country</th><th scope=col>gdp_pc</th><th scope=col>democracy_score</th><th scope=col>merge_check</th></tr>\n",
       "\t<tr><th></th><th scope=col>&lt;int&gt;</th><th scope=col>&lt;fct&gt;</th><th scope=col>&lt;dbl&gt;</th><th scope=col>&lt;dbl&gt;</th><th scope=col>&lt;int&gt;</th></tr>\n",
       "</thead>\n",
       "<tbody>\n",
       "\t<tr><th scope=row>1</th><td>1994</td><td>United States</td><td> 7833</td><td>NA</td><td>1</td></tr>\n",
       "\t<tr><th scope=row>2</th><td>1995</td><td>United States</td><td> 8159</td><td>NA</td><td>1</td></tr>\n",
       "\t<tr><th scope=row>3</th><td>1996</td><td>United States</td><td>18529</td><td>NA</td><td>1</td></tr>\n",
       "\t<tr><th scope=row>10</th><td>1994</td><td>USA          </td><td>   NA</td><td> 8</td><td>2</td></tr>\n",
       "\t<tr><th scope=row>11</th><td>1995</td><td>USA          </td><td>   NA</td><td> 2</td><td>2</td></tr>\n",
       "\t<tr><th scope=row>12</th><td>1996</td><td>USA          </td><td>   NA</td><td> 8</td><td>2</td></tr>\n",
       "</tbody>\n",
       "</table>\n"
      ],
      "text/latex": [
       "A data.frame: 6 × 5\n",
       "\\begin{tabular}{r|lllll}\n",
       "  & year & country & gdp\\_pc & democracy\\_score & merge\\_check\\\\\n",
       "  & <int> & <fct> & <dbl> & <dbl> & <int>\\\\\n",
       "\\hline\n",
       "\t1 & 1994 & United States &  7833 & NA & 1\\\\\n",
       "\t2 & 1995 & United States &  8159 & NA & 1\\\\\n",
       "\t3 & 1996 & United States & 18529 & NA & 1\\\\\n",
       "\t10 & 1994 & USA           &    NA &  8 & 2\\\\\n",
       "\t11 & 1995 & USA           &    NA &  2 & 2\\\\\n",
       "\t12 & 1996 & USA           &    NA &  8 & 2\\\\\n",
       "\\end{tabular}\n"
      ],
      "text/markdown": [
       "\n",
       "A data.frame: 6 × 5\n",
       "\n",
       "| <!--/--> | year &lt;int&gt; | country &lt;fct&gt; | gdp_pc &lt;dbl&gt; | democracy_score &lt;dbl&gt; | merge_check &lt;int&gt; |\n",
       "|---|---|---|---|---|---|\n",
       "| 1 | 1994 | United States |  7833 | NA | 1 |\n",
       "| 2 | 1995 | United States |  8159 | NA | 1 |\n",
       "| 3 | 1996 | United States | 18529 | NA | 1 |\n",
       "| 10 | 1994 | USA           |    NA |  8 | 2 |\n",
       "| 11 | 1995 | USA           |    NA |  2 | 2 |\n",
       "| 12 | 1996 | USA           |    NA |  8 | 2 |\n",
       "\n"
      ],
      "text/plain": [
       "   year country       gdp_pc democracy_score merge_check\n",
       "1  1994 United States  7833  NA              1          \n",
       "2  1995 United States  8159  NA              1          \n",
       "3  1996 United States 18529  NA              1          \n",
       "10 1994 USA              NA   8              2          \n",
       "11 1995 USA              NA   2              2          \n",
       "12 1996 USA              NA   8              2          "
      ]
     },
     "metadata": {},
     "output_type": "display_data"
    }
   ],
   "source": [
    "merged_data[merged_data$merge_check != 3,]"
   ]
  },
  {
   "cell_type": "markdown",
   "id": "bb2a9d69",
   "metadata": {},
   "source": [
    "Well there you go then! We can immediately see the problem. "
   ]
  },
  {
   "cell_type": "markdown",
   "id": "ecf1adaf",
   "metadata": {},
   "source": [
    "**But what if I *want* to do an inner, left, or right join?** \n",
    "\n",
    "Simple! Do the outer join, then drop the rows you don't want using your `merge_check` variable. e.g. for an inner join, you can do `merged_data = merged_data[merged_data$merge_check == 3,]`, for a left join you can do `merged_data = merged_data[merged_data$merge_check != 2,]`, etc. But crucially, you can now do these *after* you've made sure nothing crazy happened in your merge by looking at the `merge_check` values. "
   ]
  },
  {
   "cell_type": "markdown",
   "id": "2400a6b0",
   "metadata": {},
   "source": [
    "## Exercises \n",
    "\n",
    "\n",
    "**Warm-up:** Merge the three data frames defined below. Your final data\n",
    "frame should have 9 rows and 5 columns. Hint: merge only two data\n",
    "frames at a time."
   ]
  },
  {
   "cell_type": "code",
   "execution_count": 14,
   "id": "2b272142",
   "metadata": {
    "lines_to_next_cell": 2
   },
   "outputs": [],
   "source": [
    "df1 <- data.frame(\n",
    "    name = c(\"Mary\", \"Thor\", \"Sven\", \"Jane\", \"Ake\", \"Stephan\",\n",
    "             \"Bjorn\", \"Oden\", \"Dennis\"),\n",
    "    treatment_gr = c(rep(c(1, 2, 3), each = 3)),\n",
    "    weight_p1 = round(runif(9, 100, 200), 0)\n",
    "    )\n",
    "df2 <- data.frame(\n",
    "    name = c(\"Sven\", \"Jane\", \"Ake\", \"Mary\", \"Thor\", \"Stephan\", \n",
    "             \"Oden\", \"Bjorn\"),\n",
    "    weight_p2 = round(runif(8, 100, 200), 0)\n",
    "    )                           \n",
    "df3 <- data.frame(\n",
    "    treatment_gr = c(1, 2, 3),\n",
    "    type = c(\"dog-lovers\", \"cat-lovers\", \"all-lovers\")\n",
    "    )\n"
   ]
  },
  {
   "cell_type": "markdown",
   "id": "39d2c45c",
   "metadata": {},
   "source": [
    "**More extensive:** A prominent economic theory predicts that higher\n",
    "income inequality should be associated with more redistribution from\n",
    "the rich to the poor (Meltzer and Richard 1981). Let's create a\n",
    "dataset that will allow us to test this prediction using\n",
    "U.S. state-level data.\n",
    "\n",
    "1. Download data on inequality and tax collection (links below). Take\n",
    "a moment to familiarize yourself with the codebooks. Then read each\n",
    "dataset into R.\n",
    "* [Dataset](../data/Frank_All_v97.csv) with six measures of inequality\n",
    "(originally from [Mark W. Frank](http://www.shsu.edu/eco_mwf/inequality.html)). \n",
    "* [Tax data](http://www.census.gov/govs/statetax/historical_data.html) that\n",
    "can be used to measure fiscal capacity/redistribution. Use \n",
    "the \"State Government Tax Collections\" link. \n"
   ]
  },
  {
   "cell_type": "markdown",
   "id": "7cd840f0",
   "metadata": {},
   "source": [
    "2. Keep only the Year, State, Name, Total Taxes, and Total Income\n",
    "Taxes variables in the tax dataset, and rename these if\n",
    "necessary. Keep all the variables in the inequality dataset. Subset\n",
    "both datasets to be in the year range 1960-2012. \n",
    "\n",
    "3. Merge the two datasets. Take a moment to think about how to do\n",
    "this. Your final dataset should have 2650 rows and 12 variables. (Keep\n",
    "only data on the 50 states; 50 states x 53 years = 2650 observations.)\n",
    "Hint: You may find [this dataset with state identifiers](../data/State_FIPS.csv) \n",
    "helpful. \n",
    "\n",
    "4. The Total Tax and Total Income Tax variables from the tax dataset have\n",
    "commas in them, and are therefore not numeric. Remove the commas and \n",
    "convert the variables to numeric. Hint: `gsub()`. \n",
    "\n",
    "\n",
    "\n",
    "\n",
    "\n"
   ]
  }
 ],
 "metadata": {
  "jupytext": {
   "cell_metadata_filter": "-all",
   "main_language": "R",
   "notebook_metadata_filter": "-all"
  },
  "kernelspec": {
   "display_name": "R",
   "language": "R",
   "name": "ir"
  },
  "language_info": {
   "codemirror_mode": "r",
   "file_extension": ".r",
   "mimetype": "text/x-r-source",
   "name": "R",
   "pygments_lexer": "r",
   "version": "4.1.0"
  }
 },
 "nbformat": 4,
 "nbformat_minor": 5
}
