{
 "cells": [
  {
   "cell_type": "markdown",
   "metadata": {},
   "source": [
    "# Loop Exercises"
   ]
  },
  {
   "cell_type": "markdown",
   "metadata": {},
   "source": [
    "```\n",
    "\n",
    "# Exercise 1:\n",
    "   # read in \"datasaurus.tsv\" from the data folder (it's a tab-separated\n",
    "   # text file).\n",
    "\n",
    "data = read.csv(\"/users/nick/dropbox/joint_projects/poli_sci_boot_camp/Computational_methods/exercises/data/datasaurus.tsv\",\n",
    "sep=\"\\t\")\n",
    "head(df)\n",
    "\n",
    "library(ggplot2)\n",
    "\n",
    "   # This data consists of a set of example datasets, each\n",
    "   # with two variables (example[number]_x and example[number]_y)\n",
    "\n",
    "   # First, write code to get:\n",
    "   #   - the mean of example1_x,\n",
    "   #   - the mean of example1_y,\n",
    "   #   - the standard deviation of example1_x, and\n",
    "   #   - the stadard deviation of example1_y.\n",
    "\n",
    "\n",
    "\n",
    "# Exercise 2\n",
    "   # write a LOOP to do this same operation for each of the examples.\n",
    "   # Note that looping over column names can be a little tricky.\n",
    "   # You definitely need to use square bracket notation.\n",
    "   #\n",
    "   # I recommend something like:\n",
    "   #     first_col = paste0(\"example\", i, \"_x\")\n",
    "   #     data[first_col]\n",
    "\n",
    "\n",
    "# Exercise 3\n",
    "   # Now plot example1_x and example1_y\n",
    "\n",
    "\n",
    "   # Save the resulting file as ...\n",
    "\n",
    "\n",
    "# Exercise 4\n",
    "   # Write a loop to plot all of the example datasets and save them.\n",
    "   # Hint: To loop over column names with ggplot, you have to do\n",
    "   # specify column names as strings and use `aes_string` instead of `aes`.\n",
    "   #\n",
    "   # first_col = paste0(\"example\", i, \"_x\")\n",
    "   # ggplot(data, aes_string(first_col, second_col)) + geom_point()\n",
    "   #\n",
    "   # also, set the aspect ratio to 1 using ` + coord_fixed(1)``\n",
    "```"
   ]
  },
  {
   "cell_type": "markdown",
   "metadata": {},
   "source": []
  }
 ],
 "metadata": {
  "language_info": {
   "name": "r"
  }
 },
 "nbformat": 4,
 "nbformat_minor": 2
}
