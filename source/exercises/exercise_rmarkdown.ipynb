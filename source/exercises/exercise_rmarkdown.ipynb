{
 "cells": [
  {
   "cell_type": "markdown",
   "metadata": {},
   "source": [
    "# R Markdown Exercises\n",
    "\n",
    "R Markdown is a tool you will use extensively this semester, and it seems to inevitably be source of difficulty and frustration for students. So let's practice all the key skills you'll need now!"
   ]
  },
  {
   "cell_type": "markdown",
   "metadata": {},
   "source": [
    "### Exercise 1\n",
    "\n",
    "Create a new R Markdown file in RStudio. Use HTML as the default output format, title it \"Story of My Life,\" and choose \"use current date at render\", and set yourself as the author.\n",
    "\n",
    "Delete everything except the metadata at the top of the file."
   ]
  },
  {
   "cell_type": "markdown",
   "metadata": {},
   "source": [
    "### Exercise 2\n",
    "\n",
    "Save and name your notebook, then write in a brief introduction to yourself. Make sure to include both something in bold and something in italics. I went with:\n",
    "\n",
    "> It all began on a cold, dry Wednesday in the **great** Denver, Colorado oh *so many* years ago. \n"
   ]
  },
  {
   "cell_type": "markdown",
   "metadata": {},
   "source": [
    "\n",
    "### Exercise 3\n",
    "\n",
    "Then `knit` your R Markdown file to HTML.\n",
    "\n",
    "### Exercise 4\n",
    "\n",
    "Open your knit markdown file in your browser and [Print to PDF.](https://cm4ss.com/html/intro_to_rmarkdown.html#Print-to-PDF) Did it work? \n",
    "\n",
    "Congratulations, you're already *way* ahead of your classmates from last year."
   ]
  },
  {
   "cell_type": "markdown",
   "metadata": {},
   "source": [
    "### Exercise 5\n",
    "\n",
    "How did I know the weather on the day I was born? Great question! [I got it here!](https://www.ncdc.noaa.gov/cdo-web/search)\n",
    "\n",
    "Come to think of it, why don't you go do the same. Select \"Daily Summary\" observations, use the week of your birth as the date range, and use a relatively broad \"Search For\" option (I used \"City,\" but I was born in a major city with an international airport — if you can't find a match when you first search just broaden the search to find the closest data). \n",
    "\n",
    "Choose `Custom GHCN-Daily CSV` as download format, and on the next page Select All in the Select Data Types for Custom Output."
   ]
  },
  {
   "cell_type": "markdown",
   "metadata": {},
   "source": [
    "### Exercise 6\n",
    "\n",
    "In your R Markdown file, add a header (with two `#` signs) called \"Finding My Birthday Weather.\" \n",
    "\n",
    "Below that, create an R cell (using a keyboard shortcut — don't do it manually! You can hover your mouse over the new cell button if you forget the keyboard shortcut) and load the weather data in that cell.\n",
    "\n",
    "At the top of your first code cell, make sure to add `rm(list=ls())`."
   ]
  },
  {
   "cell_type": "markdown",
   "metadata": {},
   "source": [
    "### Exercise 7\n",
    "\n",
    "Subset for the actual day of your birth (yes, you could have done that when downloading the data, but I wanted you to get more practice! :))"
   ]
  },
  {
   "cell_type": "markdown",
   "metadata": {},
   "source": [
    "### Exercise 8\n",
    "\n",
    "You probably got more than one weather station in your download. Pick one (presumably the one closest to where you were born and/or the one with the most data — different weather stations collected different data).\n",
    "\n",
    "Make sure to leave comments in your R code explaining your choices."
   ]
  },
  {
   "cell_type": "markdown",
   "metadata": {},
   "source": [
    "### Exercise 9\n",
    "\n",
    "[Documentation for this data can be found here (Page 5).](http://www.ncei.noaa.gov/pub/data/cdo/documentation/GHCND_documentation.pdf)\n",
    "\n",
    "In a new R code cell, write a print statement that summarizes the high and low temperatures on the day you were born. It should look something like:\n",
    "\n",
    "```r\n",
    "print(paste(\"On the day I was born, the high temperature was\", weather$HIGHTEMP))\n",
    "```\n"
   ]
  },
  {
   "cell_type": "markdown",
   "metadata": {},
   "source": [
    "### Exercise 10 \n",
    "\n",
    "knit your notebook again. Congratulations! You've now created a document in which, given any changes to the input data, the results of your code will now auto-update."
   ]
  },
  {
   "cell_type": "markdown",
   "metadata": {},
   "source": [
    "### Exercise 11\n",
    "\n",
    "Now create a new heading below that code called \"How many days have I been alive?\". Create a subsection under that (how do you make it a *sub*section?) called \"The Formula\".\n",
    "\n",
    "### Exercise 12\n",
    "\n",
    "Let's write out some math. Start with two dollar signs, an `x`, and two dollar signs (put this in a regular text part of the document, not in a code block!). \n",
    "\n",
    "When you wrap text in *two* dollar signs, R Markdown will render the result on its own line (one dollar sign on each side will render in line).\n",
    "\n",
    "You should get a little popup that looks like this:"
   ]
  },
  {
   "cell_type": "markdown",
   "metadata": {},
   "source": [
    "$$x$$"
   ]
  },
  {
   "cell_type": "markdown",
   "metadata": {},
   "source": [
    "### Exercise 13\n",
    "\n",
    "Let's add an `i` subscript. Add an underscore then an `i`. $x_i$."
   ]
  },
  {
   "cell_type": "markdown",
   "metadata": {},
   "source": [
    "### Exercise 14\n",
    "\n",
    "Now add `,t` to the subscript (we're trying to set to $x_{i,t}$). Does the result look how you expect?"
   ]
  },
  {
   "cell_type": "markdown",
   "metadata": {},
   "source": [
    "### Exercise 15\n",
    "\n",
    "So if you use an underscore, R Markdown will *only* treat the first character that follows as the subscript. If you want more than one character to be included in the subscript, you have to wrap the characters in `{}`: `x_{i,t}`. Do that. "
   ]
  },
  {
   "cell_type": "markdown",
   "metadata": {},
   "source": [
    "### Exercise 16\n",
    "\n",
    "Now square your result. Use `^` to add a superscript. The same rules apply about what is included as applied to subscripts. The result should look like this: $x_{i,t}^2$. "
   ]
  },
  {
   "cell_type": "markdown",
   "metadata": {},
   "source": [
    "### Exercise 17\n",
    "\n",
    "But what if you want to use underscores (e.g., for a variable name)? Simple — put a backslash before the underscore. For example, to render $my\\_age$ in a formula I would type `my\\_age`."
   ]
  },
  {
   "cell_type": "markdown",
   "metadata": {},
   "source": [
    "### Exercise 18\n",
    "\n",
    "Last trick. `x` is boring. Let's use $\\beta$. How? `\\beta`! \n",
    "\n",
    "Want other symbols? [Head over to detexify](https://detexify.kirelabs.org/classify.html) and draw the symbol you want or click symbols and search by name to get the code for putting in different characters! What R Markdown is doing is rendering anything listed on this page as `mathmode` that is **not** preceded by a `\\usepackage{}` statement. \n"
   ]
  },
  {
   "cell_type": "markdown",
   "metadata": {},
   "source": [
    "### Exercise 19\n",
    "\n",
    "Write a fun/crazy formula that gives your age of the form $my\\_age = ...$. \n",
    "\n",
    "If you introduced variables, define then below the formula you wrote using single `$` to get the results inline. e.g.,:\n",
    "\n",
    "$$my\\_age = (\\sum_{i=0}^8 i) + z $$\n",
    "\n",
    "Where $z$ is the number of other people living in my house."
   ]
  },
  {
   "cell_type": "markdown",
   "metadata": {},
   "source": [
    "### Exercise 20\n",
    "\n",
    "Optional, but fun: try exporting to directly to PDF! Note this requires you to have installed LaTeX before."
   ]
  }
 ],
 "metadata": {
  "language_info": {
   "name": "python"
  }
 },
 "nbformat": 4,
 "nbformat_minor": 2
}
