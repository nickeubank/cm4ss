{
 "cells": [
  {
   "cell_type": "markdown",
   "id": "801feb54",
   "metadata": {},
   "source": [
    "# Manipulating Vectors"
   ]
  },
  {
   "cell_type": "markdown",
   "id": "4f0963bb",
   "metadata": {},
   "source": [
    "Now we come to one of the most important manipulations you'll need to know how to do with vectors: subsetting! \n",
    "\n",
    "Extracting a subset of elements from a vector is an extremely important task, not least because it generalizes nicely to datasets (which are at the heart of data science). This process --- whether applied to a vector or a dataset --- is often referred to as \"taking a subset\", \"subsetting\", or \"filtering\". If there is one skill you need to master as quickly as possible, it's this.\n",
    "\n",
    "Subsetting can be accomplished in several ways, but we'll focus on the two most powerful: \n",
    "\n",
    "- By index\n",
    "- With logical vectors (remember I said logicals would be important? :))\n",
    "- Subsetting by name\n"
   ]
  },
  {
   "cell_type": "markdown",
   "id": "cec0f702",
   "metadata": {},
   "source": [
    "## Subsetting By Index\n",
    "\n",
    "As you've probably already realized, vectors don't just contain a jumble of data -- they also have a concept of \"order\". When I create a vector with `c(42, 47, -1)`, I have in mind that 42 is the first entry, 47 is the second, and -1 is the third. And we can use that concept of order to subset vectors by passing the index (order number) of an entry we want to our vector in square brackets:"
   ]
  },
  {
   "cell_type": "code",
   "execution_count": 1,
   "id": "03270043",
   "metadata": {},
   "outputs": [
    {
     "data": {
      "text/html": [
       "47"
      ],
      "text/latex": [
       "47"
      ],
      "text/markdown": [
       "47"
      ],
      "text/plain": [
       "[1] 47"
      ]
     },
     "metadata": {},
     "output_type": "display_data"
    }
   ],
   "source": [
    "a <- c(42, 47, -1)\n",
    "a[2]"
   ]
  },
  {
   "cell_type": "markdown",
   "id": "81b2df40",
   "metadata": {},
   "source": [
    "Note the use of brackets, `[]` --- this is common when filtering, and we'll use it a lot!\n",
    "\n",
    "But of course, because everything in R is a vector, if I can pass a single index, then I can pass any other numeric vector of indices, either directly:"
   ]
  },
  {
   "cell_type": "code",
   "execution_count": 2,
   "id": "0612d1c7",
   "metadata": {},
   "outputs": [
    {
     "data": {
      "text/html": [
       "<style>\n",
       ".list-inline {list-style: none; margin:0; padding: 0}\n",
       ".list-inline>li {display: inline-block}\n",
       ".list-inline>li:not(:last-child)::after {content: \"\\00b7\"; padding: 0 .5ex}\n",
       "</style>\n",
       "<ol class=list-inline><li>42</li><li>-1</li></ol>\n"
      ],
      "text/latex": [
       "\\begin{enumerate*}\n",
       "\\item 42\n",
       "\\item -1\n",
       "\\end{enumerate*}\n"
      ],
      "text/markdown": [
       "1. 42\n",
       "2. -1\n",
       "\n",
       "\n"
      ],
      "text/plain": [
       "[1] 42 -1"
      ]
     },
     "metadata": {},
     "output_type": "display_data"
    }
   ],
   "source": [
    "a[c(1, 3)]"
   ]
  },
  {
   "cell_type": "markdown",
   "id": "095e8546",
   "metadata": {},
   "source": [
    "Or as a variable:"
   ]
  },
  {
   "cell_type": "code",
   "execution_count": 3,
   "id": "b6f61646",
   "metadata": {},
   "outputs": [
    {
     "data": {
      "text/html": [
       "<style>\n",
       ".list-inline {list-style: none; margin:0; padding: 0}\n",
       ".list-inline>li {display: inline-block}\n",
       ".list-inline>li:not(:last-child)::after {content: \"\\00b7\"; padding: 0 .5ex}\n",
       "</style>\n",
       "<ol class=list-inline><li>42</li><li>-1</li></ol>\n"
      ],
      "text/latex": [
       "\\begin{enumerate*}\n",
       "\\item 42\n",
       "\\item -1\n",
       "\\end{enumerate*}\n"
      ],
      "text/markdown": [
       "1. 42\n",
       "2. -1\n",
       "\n",
       "\n"
      ],
      "text/plain": [
       "[1] 42 -1"
      ]
     },
     "metadata": {},
     "output_type": "display_data"
    }
   ],
   "source": [
    "subset = c(1, 3)\n",
    "a[subset]"
   ]
  },
  {
   "cell_type": "markdown",
   "id": "cb699b89",
   "metadata": {},
   "source": [
    "Also, you don't have to subset entries in order! If you pass indices out of order, you'll get a vector with a new order!"
   ]
  },
  {
   "cell_type": "code",
   "execution_count": 4,
   "id": "8433aff6",
   "metadata": {},
   "outputs": [
    {
     "data": {
      "text/html": [
       "<style>\n",
       ".list-inline {list-style: none; margin:0; padding: 0}\n",
       ".list-inline>li {display: inline-block}\n",
       ".list-inline>li:not(:last-child)::after {content: \"\\00b7\"; padding: 0 .5ex}\n",
       "</style>\n",
       "<ol class=list-inline><li>-1</li><li>42</li><li>47</li></ol>\n"
      ],
      "text/latex": [
       "\\begin{enumerate*}\n",
       "\\item -1\n",
       "\\item 42\n",
       "\\item 47\n",
       "\\end{enumerate*}\n"
      ],
      "text/markdown": [
       "1. -1\n",
       "2. 42\n",
       "3. 47\n",
       "\n",
       "\n"
      ],
      "text/plain": [
       "[1] -1 42 47"
      ]
     },
     "metadata": {},
     "output_type": "display_data"
    }
   ],
   "source": [
    "a[c(3, 1, 2)]"
   ]
  },
  {
   "cell_type": "markdown",
   "id": "168e5ad3",
   "metadata": {},
   "source": [
    "## Subsetting with Logicals"
   ]
  },
  {
   "cell_type": "markdown",
   "id": "b17d36a5",
   "metadata": {},
   "source": [
    "Subsetting with logicals is a little hard to explain, so instead let's jump right into an example. \n",
    "\n",
    "Suppose we have a character vector with only two elements (\"apple\" and \"banana\"). Subsetting it to \"apple\" could be done by passing a logical vector as follows:"
   ]
  },
  {
   "cell_type": "code",
   "execution_count": 5,
   "id": "6b410c60",
   "metadata": {},
   "outputs": [
    {
     "data": {
      "text/html": [
       "'apple'"
      ],
      "text/latex": [
       "'apple'"
      ],
      "text/markdown": [
       "'apple'"
      ],
      "text/plain": [
       "[1] \"apple\""
      ]
     },
     "metadata": {},
     "output_type": "display_data"
    }
   ],
   "source": [
    "fruits <- c(\"apple\", \"banana\")\n",
    "fruits[c(TRUE, FALSE)]"
   ]
  },
  {
   "cell_type": "markdown",
   "id": "3737d2c3",
   "metadata": {},
   "source": [
    "Within these brackets is a vector with the same number of logical elements as there are elements in the vector you want to subset. Elements across the two vectors are matched by order: elements that match with `TRUE` are kept while elements that match with `FALSE` are dropped.\n",
    "\n",
    "This process is extremely useful when combined with a *logical operation* to combine multiple conditions. For example, you can use:\n",
    "\n",
    "- the logical \"and\" (written `&` in R) to say \"only be true if both conditions are true\", \n",
    "- the logical \"or\" (written `|`) to say \"be true if at least one of these conditions is true\", or\n",
    "\n",
    "For example, using a logical operation we can filter a large vector of oranges, apples and bananas:"
   ]
  },
  {
   "cell_type": "code",
   "execution_count": 6,
   "id": "f66df397",
   "metadata": {},
   "outputs": [
    {
     "data": {
      "text/html": [
       "<style>\n",
       ".list-inline {list-style: none; margin:0; padding: 0}\n",
       ".list-inline>li {display: inline-block}\n",
       ".list-inline>li:not(:last-child)::after {content: \"\\00b7\"; padding: 0 .5ex}\n",
       "</style>\n",
       "<ol class=list-inline><li>'orange'</li><li>'apple'</li><li>'banana'</li><li>'orange'</li><li>'apple'</li><li>'banana'</li><li>'orange'</li><li>'apple'</li><li>'banana'</li><li>'orange'</li><li>'apple'</li><li>'banana'</li><li>'orange'</li><li>'apple'</li><li>'banana'</li><li>'orange'</li><li>'apple'</li><li>'banana'</li><li>'orange'</li><li>'apple'</li><li>'banana'</li><li>'orange'</li><li>'apple'</li><li>'banana'</li><li>'orange'</li><li>'apple'</li><li>'banana'</li><li>'orange'</li><li>'apple'</li><li>'banana'</li></ol>\n"
      ],
      "text/latex": [
       "\\begin{enumerate*}\n",
       "\\item 'orange'\n",
       "\\item 'apple'\n",
       "\\item 'banana'\n",
       "\\item 'orange'\n",
       "\\item 'apple'\n",
       "\\item 'banana'\n",
       "\\item 'orange'\n",
       "\\item 'apple'\n",
       "\\item 'banana'\n",
       "\\item 'orange'\n",
       "\\item 'apple'\n",
       "\\item 'banana'\n",
       "\\item 'orange'\n",
       "\\item 'apple'\n",
       "\\item 'banana'\n",
       "\\item 'orange'\n",
       "\\item 'apple'\n",
       "\\item 'banana'\n",
       "\\item 'orange'\n",
       "\\item 'apple'\n",
       "\\item 'banana'\n",
       "\\item 'orange'\n",
       "\\item 'apple'\n",
       "\\item 'banana'\n",
       "\\item 'orange'\n",
       "\\item 'apple'\n",
       "\\item 'banana'\n",
       "\\item 'orange'\n",
       "\\item 'apple'\n",
       "\\item 'banana'\n",
       "\\end{enumerate*}\n"
      ],
      "text/markdown": [
       "1. 'orange'\n",
       "2. 'apple'\n",
       "3. 'banana'\n",
       "4. 'orange'\n",
       "5. 'apple'\n",
       "6. 'banana'\n",
       "7. 'orange'\n",
       "8. 'apple'\n",
       "9. 'banana'\n",
       "10. 'orange'\n",
       "11. 'apple'\n",
       "12. 'banana'\n",
       "13. 'orange'\n",
       "14. 'apple'\n",
       "15. 'banana'\n",
       "16. 'orange'\n",
       "17. 'apple'\n",
       "18. 'banana'\n",
       "19. 'orange'\n",
       "20. 'apple'\n",
       "21. 'banana'\n",
       "22. 'orange'\n",
       "23. 'apple'\n",
       "24. 'banana'\n",
       "25. 'orange'\n",
       "26. 'apple'\n",
       "27. 'banana'\n",
       "28. 'orange'\n",
       "29. 'apple'\n",
       "30. 'banana'\n",
       "\n",
       "\n"
      ],
      "text/plain": [
       " [1] \"orange\" \"apple\"  \"banana\" \"orange\" \"apple\"  \"banana\" \"orange\" \"apple\" \n",
       " [9] \"banana\" \"orange\" \"apple\"  \"banana\" \"orange\" \"apple\"  \"banana\" \"orange\"\n",
       "[17] \"apple\"  \"banana\" \"orange\" \"apple\"  \"banana\" \"orange\" \"apple\"  \"banana\"\n",
       "[25] \"orange\" \"apple\"  \"banana\" \"orange\" \"apple\"  \"banana\""
      ]
     },
     "metadata": {},
     "output_type": "display_data"
    }
   ],
   "source": [
    "# Create a vector with 30 fruits \n",
    "fruits <- rep(c(\"orange\", \"apple\", \"banana\"), 10)\n",
    "fruits \n"
   ]
  },
  {
   "cell_type": "code",
   "execution_count": 7,
   "id": "44fa0304",
   "metadata": {},
   "outputs": [
    {
     "data": {
      "text/html": [
       "<style>\n",
       ".list-inline {list-style: none; margin:0; padding: 0}\n",
       ".list-inline>li {display: inline-block}\n",
       ".list-inline>li:not(:last-child)::after {content: \"\\00b7\"; padding: 0 .5ex}\n",
       "</style>\n",
       "<ol class=list-inline><li>'orange'</li><li>'apple'</li><li>'orange'</li><li>'apple'</li><li>'orange'</li><li>'apple'</li><li>'orange'</li><li>'apple'</li><li>'orange'</li><li>'apple'</li><li>'orange'</li><li>'apple'</li><li>'orange'</li><li>'apple'</li><li>'orange'</li><li>'apple'</li><li>'orange'</li><li>'apple'</li><li>'orange'</li><li>'apple'</li></ol>\n"
      ],
      "text/latex": [
       "\\begin{enumerate*}\n",
       "\\item 'orange'\n",
       "\\item 'apple'\n",
       "\\item 'orange'\n",
       "\\item 'apple'\n",
       "\\item 'orange'\n",
       "\\item 'apple'\n",
       "\\item 'orange'\n",
       "\\item 'apple'\n",
       "\\item 'orange'\n",
       "\\item 'apple'\n",
       "\\item 'orange'\n",
       "\\item 'apple'\n",
       "\\item 'orange'\n",
       "\\item 'apple'\n",
       "\\item 'orange'\n",
       "\\item 'apple'\n",
       "\\item 'orange'\n",
       "\\item 'apple'\n",
       "\\item 'orange'\n",
       "\\item 'apple'\n",
       "\\end{enumerate*}\n"
      ],
      "text/markdown": [
       "1. 'orange'\n",
       "2. 'apple'\n",
       "3. 'orange'\n",
       "4. 'apple'\n",
       "5. 'orange'\n",
       "6. 'apple'\n",
       "7. 'orange'\n",
       "8. 'apple'\n",
       "9. 'orange'\n",
       "10. 'apple'\n",
       "11. 'orange'\n",
       "12. 'apple'\n",
       "13. 'orange'\n",
       "14. 'apple'\n",
       "15. 'orange'\n",
       "16. 'apple'\n",
       "17. 'orange'\n",
       "18. 'apple'\n",
       "19. 'orange'\n",
       "20. 'apple'\n",
       "\n",
       "\n"
      ],
      "text/plain": [
       " [1] \"orange\" \"apple\"  \"orange\" \"apple\"  \"orange\" \"apple\"  \"orange\" \"apple\" \n",
       " [9] \"orange\" \"apple\"  \"orange\" \"apple\"  \"orange\" \"apple\"  \"orange\" \"apple\" \n",
       "[17] \"orange\" \"apple\"  \"orange\" \"apple\" "
      ]
     },
     "metadata": {},
     "output_type": "display_data"
    }
   ],
   "source": [
    "# Create a logical vector for dropping bananas\n",
    "\n",
    "orange_or_apple <- fruits == \"orange\" | fruits == \"apple\" # True if orange or apple\n",
    "not_banana <- fruits != \"banana\"                            # != means true if not equal\n",
    "orange_or_apple2 <- fruits %in% c(\"orange\", \"apple\")\n",
    "\n",
    "# Carry out the subset\n",
    "fruits[orange_or_apple]"
   ]
  },
  {
   "cell_type": "code",
   "execution_count": 8,
   "id": "100462e8",
   "metadata": {},
   "outputs": [
    {
     "data": {
      "text/html": [
       "<style>\n",
       ".list-inline {list-style: none; margin:0; padding: 0}\n",
       ".list-inline>li {display: inline-block}\n",
       ".list-inline>li:not(:last-child)::after {content: \"\\00b7\"; padding: 0 .5ex}\n",
       "</style>\n",
       "<ol class=list-inline><li>'orange'</li><li>'apple'</li><li>'orange'</li><li>'apple'</li><li>'orange'</li><li>'apple'</li><li>'orange'</li><li>'apple'</li><li>'orange'</li><li>'apple'</li><li>'orange'</li><li>'apple'</li><li>'orange'</li><li>'apple'</li><li>'orange'</li><li>'apple'</li><li>'orange'</li><li>'apple'</li><li>'orange'</li><li>'apple'</li></ol>\n"
      ],
      "text/latex": [
       "\\begin{enumerate*}\n",
       "\\item 'orange'\n",
       "\\item 'apple'\n",
       "\\item 'orange'\n",
       "\\item 'apple'\n",
       "\\item 'orange'\n",
       "\\item 'apple'\n",
       "\\item 'orange'\n",
       "\\item 'apple'\n",
       "\\item 'orange'\n",
       "\\item 'apple'\n",
       "\\item 'orange'\n",
       "\\item 'apple'\n",
       "\\item 'orange'\n",
       "\\item 'apple'\n",
       "\\item 'orange'\n",
       "\\item 'apple'\n",
       "\\item 'orange'\n",
       "\\item 'apple'\n",
       "\\item 'orange'\n",
       "\\item 'apple'\n",
       "\\end{enumerate*}\n"
      ],
      "text/markdown": [
       "1. 'orange'\n",
       "2. 'apple'\n",
       "3. 'orange'\n",
       "4. 'apple'\n",
       "5. 'orange'\n",
       "6. 'apple'\n",
       "7. 'orange'\n",
       "8. 'apple'\n",
       "9. 'orange'\n",
       "10. 'apple'\n",
       "11. 'orange'\n",
       "12. 'apple'\n",
       "13. 'orange'\n",
       "14. 'apple'\n",
       "15. 'orange'\n",
       "16. 'apple'\n",
       "17. 'orange'\n",
       "18. 'apple'\n",
       "19. 'orange'\n",
       "20. 'apple'\n",
       "\n",
       "\n"
      ],
      "text/plain": [
       " [1] \"orange\" \"apple\"  \"orange\" \"apple\"  \"orange\" \"apple\"  \"orange\" \"apple\" \n",
       " [9] \"orange\" \"apple\"  \"orange\" \"apple\"  \"orange\" \"apple\"  \"orange\" \"apple\" \n",
       "[17] \"orange\" \"apple\"  \"orange\" \"apple\" "
      ]
     },
     "metadata": {},
     "output_type": "display_data"
    }
   ],
   "source": [
    "fruits[not_banana]"
   ]
  },
  {
   "cell_type": "code",
   "execution_count": 9,
   "id": "a90934b7",
   "metadata": {},
   "outputs": [
    {
     "data": {
      "text/html": [
       "<style>\n",
       ".list-inline {list-style: none; margin:0; padding: 0}\n",
       ".list-inline>li {display: inline-block}\n",
       ".list-inline>li:not(:last-child)::after {content: \"\\00b7\"; padding: 0 .5ex}\n",
       "</style>\n",
       "<ol class=list-inline><li>'orange'</li><li>'apple'</li><li>'orange'</li><li>'apple'</li><li>'orange'</li><li>'apple'</li><li>'orange'</li><li>'apple'</li><li>'orange'</li><li>'apple'</li><li>'orange'</li><li>'apple'</li><li>'orange'</li><li>'apple'</li><li>'orange'</li><li>'apple'</li><li>'orange'</li><li>'apple'</li><li>'orange'</li><li>'apple'</li></ol>\n"
      ],
      "text/latex": [
       "\\begin{enumerate*}\n",
       "\\item 'orange'\n",
       "\\item 'apple'\n",
       "\\item 'orange'\n",
       "\\item 'apple'\n",
       "\\item 'orange'\n",
       "\\item 'apple'\n",
       "\\item 'orange'\n",
       "\\item 'apple'\n",
       "\\item 'orange'\n",
       "\\item 'apple'\n",
       "\\item 'orange'\n",
       "\\item 'apple'\n",
       "\\item 'orange'\n",
       "\\item 'apple'\n",
       "\\item 'orange'\n",
       "\\item 'apple'\n",
       "\\item 'orange'\n",
       "\\item 'apple'\n",
       "\\item 'orange'\n",
       "\\item 'apple'\n",
       "\\end{enumerate*}\n"
      ],
      "text/markdown": [
       "1. 'orange'\n",
       "2. 'apple'\n",
       "3. 'orange'\n",
       "4. 'apple'\n",
       "5. 'orange'\n",
       "6. 'apple'\n",
       "7. 'orange'\n",
       "8. 'apple'\n",
       "9. 'orange'\n",
       "10. 'apple'\n",
       "11. 'orange'\n",
       "12. 'apple'\n",
       "13. 'orange'\n",
       "14. 'apple'\n",
       "15. 'orange'\n",
       "16. 'apple'\n",
       "17. 'orange'\n",
       "18. 'apple'\n",
       "19. 'orange'\n",
       "20. 'apple'\n",
       "\n",
       "\n"
      ],
      "text/plain": [
       " [1] \"orange\" \"apple\"  \"orange\" \"apple\"  \"orange\" \"apple\"  \"orange\" \"apple\" \n",
       " [9] \"orange\" \"apple\"  \"orange\" \"apple\"  \"orange\" \"apple\"  \"orange\" \"apple\" \n",
       "[17] \"orange\" \"apple\"  \"orange\" \"apple\" "
      ]
     },
     "metadata": {},
     "output_type": "display_data"
    }
   ],
   "source": [
    "fruits[orange_or_apple2]"
   ]
  },
  {
   "cell_type": "markdown",
   "id": "363ee99a",
   "metadata": {},
   "source": [
    "We applied the same logic as above: We have a vector (`fruits`) that\n",
    "we want to subset. We do so using a logical vector (`orange_or_apple`, `not_banana`, and `orange_or_apple2`), where elements that match with `TRUE` are kept. The only difference here is that we create the logical vector with a logical operation. The logical operators (e.g., `!=`, `|`) used here are discussed in the link above, with the exception of `%in%`. \n",
    "\n",
    "<div class=\"general-note\">\n",
    "\n",
    "<strong> General note about `%in%`: </strong> This operator is\n",
    "extremely useful as an alternative for repeated \"or\" (`|`) statements. For example, say you have a vector with 10 types of fruits and you want to keep elements that are equal to \"orange\", \"apple\", \"mango\",\n",
    "\"mandarin\", or \"kiwi\". You could accomplish this by creating a logical vector like so: `lv <- fruits == \"orange\" | fruits == \"apple\" | fruits == \"mango\" | fruits == \"mandarin\" | fruits == \"kiwi\"`.  \n",
    "\n",
    "<br> What a nighmarishly long statement compared to the `%in%` option that accomplishes the exact same thing: `lv <- fruits %in% c(\"orange\", \"apple\", \"mango\", \"mandarin\", \"kiwi\")`.\n",
    "\n",
    "</div>\n",
    "\n",
    "Of course, subsetting using logicals can also be done on numeric vectors.\n",
    "\n",
    "Here are a few examples:"
   ]
  },
  {
   "cell_type": "code",
   "execution_count": 10,
   "id": "0d431e50",
   "metadata": {},
   "outputs": [
    {
     "data": {
      "text/html": [
       "<style>\n",
       ".list-inline {list-style: none; margin:0; padding: 0}\n",
       ".list-inline>li {display: inline-block}\n",
       ".list-inline>li:not(:last-child)::after {content: \"\\00b7\"; padding: 0 .5ex}\n",
       "</style>\n",
       "<ol class=list-inline><li>0</li><li>10</li><li>20</li><li>30</li><li>40</li><li>50</li><li>60</li><li>70</li><li>80</li><li>90</li><li>100</li></ol>\n"
      ],
      "text/latex": [
       "\\begin{enumerate*}\n",
       "\\item 0\n",
       "\\item 10\n",
       "\\item 20\n",
       "\\item 30\n",
       "\\item 40\n",
       "\\item 50\n",
       "\\item 60\n",
       "\\item 70\n",
       "\\item 80\n",
       "\\item 90\n",
       "\\item 100\n",
       "\\end{enumerate*}\n"
      ],
      "text/markdown": [
       "1. 0\n",
       "2. 10\n",
       "3. 20\n",
       "4. 30\n",
       "5. 40\n",
       "6. 50\n",
       "7. 60\n",
       "8. 70\n",
       "9. 80\n",
       "10. 90\n",
       "11. 100\n",
       "\n",
       "\n"
      ],
      "text/plain": [
       " [1]   0  10  20  30  40  50  60  70  80  90 100"
      ]
     },
     "metadata": {},
     "output_type": "display_data"
    }
   ],
   "source": [
    "# Create a numeric vector\n",
    "numbers <- seq(0, 100, by = 10)\n",
    "numbers\n"
   ]
  },
  {
   "cell_type": "code",
   "execution_count": 11,
   "id": "a047819f",
   "metadata": {},
   "outputs": [
    {
     "data": {
      "text/html": [
       "<style>\n",
       ".list-inline {list-style: none; margin:0; padding: 0}\n",
       ".list-inline>li {display: inline-block}\n",
       ".list-inline>li:not(:last-child)::after {content: \"\\00b7\"; padding: 0 .5ex}\n",
       "</style>\n",
       "<ol class=list-inline><li>0</li><li>10</li><li>20</li><li>40</li><li>50</li></ol>\n"
      ],
      "text/latex": [
       "\\begin{enumerate*}\n",
       "\\item 0\n",
       "\\item 10\n",
       "\\item 20\n",
       "\\item 40\n",
       "\\item 50\n",
       "\\end{enumerate*}\n"
      ],
      "text/markdown": [
       "1. 0\n",
       "2. 10\n",
       "3. 20\n",
       "4. 40\n",
       "5. 50\n",
       "\n",
       "\n"
      ],
      "text/plain": [
       "[1]  0 10 20 40 50"
      ]
     },
     "metadata": {},
     "output_type": "display_data"
    }
   ],
   "source": [
    "# Illustrate three different filters\n",
    "numbers[numbers <= 50 & numbers != 30]"
   ]
  },
  {
   "cell_type": "code",
   "execution_count": 12,
   "id": "82b667ad",
   "metadata": {},
   "outputs": [
    {
     "data": {
      "text/html": [
       "<style>\n",
       ".list-inline {list-style: none; margin:0; padding: 0}\n",
       ".list-inline>li {display: inline-block}\n",
       ".list-inline>li:not(:last-child)::after {content: \"\\00b7\"; padding: 0 .5ex}\n",
       "</style>\n",
       "<ol class=list-inline><li>0</li><li>100</li></ol>\n"
      ],
      "text/latex": [
       "\\begin{enumerate*}\n",
       "\\item 0\n",
       "\\item 100\n",
       "\\end{enumerate*}\n"
      ],
      "text/markdown": [
       "1. 0\n",
       "2. 100\n",
       "\n",
       "\n"
      ],
      "text/plain": [
       "[1]   0 100"
      ]
     },
     "metadata": {},
     "output_type": "display_data"
    }
   ],
   "source": [
    "numbers[numbers == 0 | numbers == 100]"
   ]
  },
  {
   "cell_type": "code",
   "execution_count": 13,
   "id": "4a717b98",
   "metadata": {},
   "outputs": [
    {
     "data": {
      "text/html": [],
      "text/latex": [],
      "text/markdown": [],
      "text/plain": [
       "numeric(0)"
      ]
     },
     "metadata": {},
     "output_type": "display_data"
    }
   ],
   "source": [
    "numbers[numbers > 100] #returns an empty vector"
   ]
  },
  {
   "cell_type": "markdown",
   "id": "ddebc182",
   "metadata": {},
   "source": [
    "## Subsetting by Name\n",
    "\n",
    "In R, it's possible to assign names to a vector, then use those names to subset entries. To illustrate, let me tell you about the zoo I wished I owned. It's a small zoo, but a happy one, and here was our imagined attendance last week:\n",
    "\n",
    "| Day of Week | Attendees  |\n",
    "|-------------|------------|\n",
    "| Monday      | 132 people |\n",
    "| Tuesday     | 94 people  |\n",
    "| Wednesday   | 112 people |\n",
    "| Thursday    | 84 people  |\n",
    "| Friday      | 254 people |\n",
    "| Saturday    | 322 people |\n",
    "| Sunday      | 472 people |\n",
    "\n",
    "I can now represent this as a vector by putting attendance in the vector, and then labeling entries by the day of the week:"
   ]
  },
  {
   "cell_type": "code",
   "execution_count": 14,
   "id": "e5f0eb74",
   "metadata": {},
   "outputs": [
    {
     "data": {
      "text/html": [
       "<style>\n",
       ".list-inline {list-style: none; margin:0; padding: 0}\n",
       ".list-inline>li {display: inline-block}\n",
       ".list-inline>li:not(:last-child)::after {content: \"\\00b7\"; padding: 0 .5ex}\n",
       "</style>\n",
       "<ol class=list-inline><li>132</li><li>94</li><li>112</li><li>84</li><li>254</li><li>322</li><li>472</li></ol>\n"
      ],
      "text/latex": [
       "\\begin{enumerate*}\n",
       "\\item 132\n",
       "\\item 94\n",
       "\\item 112\n",
       "\\item 84\n",
       "\\item 254\n",
       "\\item 322\n",
       "\\item 472\n",
       "\\end{enumerate*}\n"
      ],
      "text/markdown": [
       "1. 132\n",
       "2. 94\n",
       "3. 112\n",
       "4. 84\n",
       "5. 254\n",
       "6. 322\n",
       "7. 472\n",
       "\n",
       "\n"
      ],
      "text/plain": [
       "[1] 132  94 112  84 254 322 472"
      ]
     },
     "metadata": {},
     "output_type": "display_data"
    }
   ],
   "source": [
    "attendance = c(132, 94, 112, 84, 254, 322, 472)\n",
    "attendance"
   ]
  },
  {
   "cell_type": "code",
   "execution_count": 15,
   "id": "24994647",
   "metadata": {},
   "outputs": [
    {
     "data": {
      "text/html": [
       "<style>\n",
       ".dl-inline {width: auto; margin:0; padding: 0}\n",
       ".dl-inline>dt, .dl-inline>dd {float: none; width: auto; display: inline-block}\n",
       ".dl-inline>dt::after {content: \":\\0020\"; padding-right: .5ex}\n",
       ".dl-inline>dt:not(:first-of-type) {padding-left: .5ex}\n",
       "</style><dl class=dl-inline><dt>Monday</dt><dd>132</dd><dt>Tuesday</dt><dd>94</dd><dt>Wednesday</dt><dd>112</dd><dt>Thursday</dt><dd>84</dd><dt>Friday</dt><dd>254</dd><dt>Saturday</dt><dd>322</dd><dt>Sunday</dt><dd>472</dd></dl>\n"
      ],
      "text/latex": [
       "\\begin{description*}\n",
       "\\item[Monday] 132\n",
       "\\item[Tuesday] 94\n",
       "\\item[Wednesday] 112\n",
       "\\item[Thursday] 84\n",
       "\\item[Friday] 254\n",
       "\\item[Saturday] 322\n",
       "\\item[Sunday] 472\n",
       "\\end{description*}\n"
      ],
      "text/markdown": [
       "Monday\n",
       ":   132Tuesday\n",
       ":   94Wednesday\n",
       ":   112Thursday\n",
       ":   84Friday\n",
       ":   254Saturday\n",
       ":   322Sunday\n",
       ":   472\n",
       "\n"
      ],
      "text/plain": [
       "   Monday   Tuesday Wednesday  Thursday    Friday  Saturday    Sunday \n",
       "      132        94       112        84       254       322       472 "
      ]
     },
     "metadata": {},
     "output_type": "display_data"
    }
   ],
   "source": [
    "names(attendance) <- c(\"Monday\", \"Tuesday\", \"Wednesday\", \"Thursday\", \"Friday\", \"Saturday\", \"Sunday\")\n",
    "attendance"
   ]
  },
  {
   "cell_type": "markdown",
   "id": "c0dbff2d",
   "metadata": {},
   "source": [
    "Now if I wanted to just get attendance from the weekend I could subset with a vector of names:"
   ]
  },
  {
   "cell_type": "code",
   "execution_count": 16,
   "id": "7f2af195",
   "metadata": {},
   "outputs": [
    {
     "data": {
      "text/html": [
       "<style>\n",
       ".dl-inline {width: auto; margin:0; padding: 0}\n",
       ".dl-inline>dt, .dl-inline>dd {float: none; width: auto; display: inline-block}\n",
       ".dl-inline>dt::after {content: \":\\0020\"; padding-right: .5ex}\n",
       ".dl-inline>dt:not(:first-of-type) {padding-left: .5ex}\n",
       "</style><dl class=dl-inline><dt>Saturday</dt><dd>322</dd><dt>Sunday</dt><dd>472</dd></dl>\n"
      ],
      "text/latex": [
       "\\begin{description*}\n",
       "\\item[Saturday] 322\n",
       "\\item[Sunday] 472\n",
       "\\end{description*}\n"
      ],
      "text/markdown": [
       "Saturday\n",
       ":   322Sunday\n",
       ":   472\n",
       "\n"
      ],
      "text/plain": [
       "Saturday   Sunday \n",
       "     322      472 "
      ]
     },
     "metadata": {},
     "output_type": "display_data"
    }
   ],
   "source": [
    "attendance[c(\"Saturday\", \"Sunday\")]"
   ]
  },
  {
   "cell_type": "markdown",
   "id": "75e99477",
   "metadata": {},
   "source": [
    "## Using Subsetting to Modifying Vectors\n",
    "\n",
    "The subsetting logic from above can be used to modify vectors. The\n",
    "idea here is that instead of keeping elements that meet a logical\n",
    "condition or occur at a specific index, we can change them. For example,\n",
    "what if we had mis-entered grandpa's age above? We can fix it using indexing,\n",
    "a logical statement, or naming. "
   ]
  },
  {
   "cell_type": "code",
   "execution_count": 17,
   "id": "7795aea9",
   "metadata": {},
   "outputs": [
    {
     "data": {
      "text/html": [
       "<style>\n",
       ".list-inline {list-style: none; margin:0; padding: 0}\n",
       ".list-inline>li {display: inline-block}\n",
       ".list-inline>li:not(:last-child)::after {content: \"\\00b7\"; padding: 0 .5ex}\n",
       "</style>\n",
       "<ol class=list-inline><li>50</li><li>45</li><li>82</li></ol>\n"
      ],
      "text/latex": [
       "\\begin{enumerate*}\n",
       "\\item 50\n",
       "\\item 45\n",
       "\\item 82\n",
       "\\end{enumerate*}\n"
      ],
      "text/markdown": [
       "1. 50\n",
       "2. 45\n",
       "3. 82\n",
       "\n",
       "\n"
      ],
      "text/plain": [
       "[1] 50 45 82"
      ]
     },
     "metadata": {},
     "output_type": "display_data"
    }
   ],
   "source": [
    "# Recreate vector with age values\n",
    "age <- c(50, 55, 80)\n",
    "\n",
    "# Three ways of changing grandpa's age\n",
    "# Note: you'd only need to use one of these\n",
    "age[age == 80] <- 82 # using a logical statement\n",
    "age[2] <- 45         # using indexing\n",
    "age"
   ]
  },
  {
   "cell_type": "markdown",
   "id": "db695d97",
   "metadata": {},
   "source": [
    "A logical statement is most efficient when we need to change a lot\n",
    "of elements."
   ]
  },
  {
   "cell_type": "code",
   "execution_count": 18,
   "id": "822f72d7",
   "metadata": {},
   "outputs": [
    {
     "data": {
      "text/html": [
       "<style>\n",
       ".list-inline {list-style: none; margin:0; padding: 0}\n",
       ".list-inline>li {display: inline-block}\n",
       ".list-inline>li:not(:last-child)::after {content: \"\\00b7\"; padding: 0 .5ex}\n",
       "</style>\n",
       "<ol class=list-inline><li>'orange'</li><li>'apple'</li><li>'bamama'</li><li>'orange'</li><li>'apple'</li><li>'bamama'</li><li>'orange'</li><li>'apple'</li><li>'bamama'</li><li>'orange'</li><li>'apple'</li><li>'bamama'</li><li>'orange'</li><li>'apple'</li><li>'bamama'</li></ol>\n"
      ],
      "text/latex": [
       "\\begin{enumerate*}\n",
       "\\item 'orange'\n",
       "\\item 'apple'\n",
       "\\item 'bamama'\n",
       "\\item 'orange'\n",
       "\\item 'apple'\n",
       "\\item 'bamama'\n",
       "\\item 'orange'\n",
       "\\item 'apple'\n",
       "\\item 'bamama'\n",
       "\\item 'orange'\n",
       "\\item 'apple'\n",
       "\\item 'bamama'\n",
       "\\item 'orange'\n",
       "\\item 'apple'\n",
       "\\item 'bamama'\n",
       "\\end{enumerate*}\n"
      ],
      "text/markdown": [
       "1. 'orange'\n",
       "2. 'apple'\n",
       "3. 'bamama'\n",
       "4. 'orange'\n",
       "5. 'apple'\n",
       "6. 'bamama'\n",
       "7. 'orange'\n",
       "8. 'apple'\n",
       "9. 'bamama'\n",
       "10. 'orange'\n",
       "11. 'apple'\n",
       "12. 'bamama'\n",
       "13. 'orange'\n",
       "14. 'apple'\n",
       "15. 'bamama'\n",
       "\n",
       "\n"
      ],
      "text/plain": [
       " [1] \"orange\" \"apple\"  \"bamama\" \"orange\" \"apple\"  \"bamama\" \"orange\" \"apple\" \n",
       " [9] \"bamama\" \"orange\" \"apple\"  \"bamama\" \"orange\" \"apple\"  \"bamama\""
      ]
     },
     "metadata": {},
     "output_type": "display_data"
    }
   ],
   "source": [
    "fruits <- rep(c(\"orange\", \"apple\", \"bamama\"), 5) \n",
    "fruits #bamamas anyone? "
   ]
  },
  {
   "cell_type": "code",
   "execution_count": 19,
   "id": "0e2c9b4d",
   "metadata": {},
   "outputs": [
    {
     "data": {
      "text/html": [
       "<style>\n",
       ".list-inline {list-style: none; margin:0; padding: 0}\n",
       ".list-inline>li {display: inline-block}\n",
       ".list-inline>li:not(:last-child)::after {content: \"\\00b7\"; padding: 0 .5ex}\n",
       "</style>\n",
       "<ol class=list-inline><li>'orange'</li><li>'apple'</li><li>'banana'</li><li>'orange'</li><li>'apple'</li><li>'banana'</li><li>'orange'</li><li>'apple'</li><li>'banana'</li><li>'orange'</li><li>'apple'</li><li>'banana'</li><li>'orange'</li><li>'apple'</li><li>'banana'</li></ol>\n"
      ],
      "text/latex": [
       "\\begin{enumerate*}\n",
       "\\item 'orange'\n",
       "\\item 'apple'\n",
       "\\item 'banana'\n",
       "\\item 'orange'\n",
       "\\item 'apple'\n",
       "\\item 'banana'\n",
       "\\item 'orange'\n",
       "\\item 'apple'\n",
       "\\item 'banana'\n",
       "\\item 'orange'\n",
       "\\item 'apple'\n",
       "\\item 'banana'\n",
       "\\item 'orange'\n",
       "\\item 'apple'\n",
       "\\item 'banana'\n",
       "\\end{enumerate*}\n"
      ],
      "text/markdown": [
       "1. 'orange'\n",
       "2. 'apple'\n",
       "3. 'banana'\n",
       "4. 'orange'\n",
       "5. 'apple'\n",
       "6. 'banana'\n",
       "7. 'orange'\n",
       "8. 'apple'\n",
       "9. 'banana'\n",
       "10. 'orange'\n",
       "11. 'apple'\n",
       "12. 'banana'\n",
       "13. 'orange'\n",
       "14. 'apple'\n",
       "15. 'banana'\n",
       "\n",
       "\n"
      ],
      "text/plain": [
       " [1] \"orange\" \"apple\"  \"banana\" \"orange\" \"apple\"  \"banana\" \"orange\" \"apple\" \n",
       " [9] \"banana\" \"orange\" \"apple\"  \"banana\" \"orange\" \"apple\"  \"banana\""
      ]
     },
     "metadata": {},
     "output_type": "display_data"
    }
   ],
   "source": [
    "# Let's fix the misspelled element\n",
    "fruits[fruits == \"bamama\"] <- \"banana\"\n",
    "fruits"
   ]
  },
  {
   "cell_type": "markdown",
   "id": "02f4abca",
   "metadata": {},
   "source": [
    "<div style=\"margin-top: 15px\"> </div>\n",
    "\n",
    "## Exercises\n",
    "\n",
    "Create a vector that represents the age of at least four different family\n",
    "members or friends. You can name it whatever you want.\n",
    "\n",
    "1. What is the mean age of the people in your vector? Find out in two ways,\n",
    "with and without using the `mean()` command.\n",
    "\n",
    "2. How old is the youngest person in your vector? (Use an R command to find out.)\n",
    "\n",
    "3. What is the age gap between the youngest person and the oldest person in your vector?\n",
    "(Again use R to find out, and try to be as general as possible in the sense that\n",
    "your code should work even if the elements in your vector, or their order, change.)\n",
    "\n",
    "4. How many people in your vector are above age 25? (Again, try to make your code\n",
    "work even in the case that your vector changes.)\n",
    "\n",
    "5. Replace the age of the oldest person in your vector with the age of someone\n",
    "else you know.\n",
    "\n",
    "6. Create a new vector that indicates how old each person in your vector\n",
    "will be in 10 years.\n",
    "\n",
    "7. Create a new vector that indicates what year each person in your vector\n",
    "will turn 100 years old.\n",
    "\n",
    "8. Create a new vector with a random sample of 3 individuals from your\n",
    "original vector. What is the mean age of the people in this new\n",
    "vector?\n"
   ]
  },
  {
   "cell_type": "markdown",
   "id": "01fe29bb",
   "metadata": {},
   "source": []
  }
 ],
 "metadata": {
  "jupytext": {
   "cell_metadata_filter": "-all",
   "main_language": "R",
   "notebook_metadata_filter": "-all"
  },
  "kernelspec": {
   "display_name": "R",
   "language": "R",
   "name": "ir"
  },
  "language_info": {
   "codemirror_mode": "r",
   "file_extension": ".r",
   "mimetype": "text/x-r-source",
   "name": "R",
   "pygments_lexer": "r",
   "version": "4.1.0"
  }
 },
 "nbformat": 4,
 "nbformat_minor": 5
}
