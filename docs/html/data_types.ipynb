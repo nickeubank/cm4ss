{
 "cells": [
  {
   "cell_type": "markdown",
   "metadata": {},
   "source": [
    "# Data Types"
   ]
  },
  {
   "cell_type": "markdown",
   "metadata": {},
   "source": [
    "## Types of Data\n",
    "\n",
    "Up till now, we've only been working with numbers, but R is actually equiped to work with a number of different *kinds* of data. In the course of this tutorial we'll introduce all of them, but there are really three main ones to be aware of:\n",
    "\n",
    "- `numeric` and `integer`: The main data types for numbers. These two types are *slightly* different (integers is restricted to, we, integers; numeric can be an integer or a number with decimals), but you can think of them as interchangable for now.\n",
    "- `character`: Text data, like a person's name, or a quote from a book. Written with `\"` before and after (or single quotes (`'`) before and after if you'd prefer.\n",
    "- `logical`: Data that only takes on the values of true and false. Written `TRUE` and `FALSE`\n",
    "\n",
    "If you're ever unsure of the type of a variable (or more precisely, of the type of the value associated with a variable), you can ask R with the `class()` function:\n"
   ]
  },
  {
   "cell_type": "markdown",
   "metadata": {},
   "source": []
  },
  {
   "cell_type": "code",
   "execution_count": 15,
   "metadata": {},
   "outputs": [
    {
     "data": {
      "text/html": [
       "'numeric'"
      ],
      "text/latex": [
       "'numeric'"
      ],
      "text/markdown": [
       "'numeric'"
      ],
      "text/plain": [
       "[1] \"numeric\""
      ]
     },
     "metadata": {},
     "output_type": "display_data"
    }
   ],
   "source": [
    "pi = 3.1416\n",
    "class(pi)"
   ]
  },
  {
   "cell_type": "code",
   "execution_count": 16,
   "metadata": {},
   "outputs": [
    {
     "data": {
      "text/html": [
       "'character'"
      ],
      "text/latex": [
       "'character'"
      ],
      "text/markdown": [
       "'character'"
      ],
      "text/plain": [
       "[1] \"character\""
      ]
     },
     "metadata": {},
     "output_type": "display_data"
    }
   ],
   "source": [
    "mystery_novel = \"T'was a dark and story night\"\n",
    "class(mystery_novel)"
   ]
  },
  {
   "cell_type": "code",
   "execution_count": 17,
   "metadata": {},
   "outputs": [
    {
     "data": {
      "text/html": [
       "'logical'"
      ],
      "text/latex": [
       "'logical'"
      ],
      "text/markdown": [
       "'logical'"
      ],
      "text/plain": [
       "[1] \"logical\""
      ]
     },
     "metadata": {},
     "output_type": "display_data"
    }
   ],
   "source": [
    "my_logical = TRUE\n",
    "class(my_logical)"
   ]
  },
  {
   "cell_type": "markdown",
   "metadata": {},
   "source": [
    "### Characters\n",
    "\n",
    "The value of characters will be evident when we start working with real data, when our datasets will include things like country names, or capitals, or open-ended survey responses. In all these situations, we will use the `character` type to store text. \n",
    "\n",
    "Note that if a variable is a character, even if it looks like a number, R will treat it like text and you won't be able to do things like add or multiple it. For example:"
   ]
  },
  {
   "cell_type": "markdown",
   "metadata": {},
   "source": [
    "```R\n",
    "a = 5\n",
    "b = \"7\"\n",
    "a + b \n",
    "```\n",
    "\n",
    "Will generate an error:\n",
    "\n",
    "```R\n",
    "Error in a + b: non-numeric argument to binary operator\n",
    "```\n",
    "\n",
    "Because plus is only defined for numbers, and R sees `\"7\"` as text. I'll show you how to deal with this silly situation below. "
   ]
  },
  {
   "cell_type": "markdown",
   "metadata": {},
   "source": [
    "### Logicals\n",
    "\n",
    "The use of logicals is less obvious at the moment, but they will eventually prove very important. For now, it's enough to know they exist, and that the place you are most likely to encounter them is when you write tests. For example:"
   ]
  },
  {
   "cell_type": "code",
   "execution_count": 18,
   "metadata": {},
   "outputs": [
    {
     "data": {
      "text/html": [
       "TRUE"
      ],
      "text/latex": [
       "TRUE"
      ],
      "text/markdown": [
       "TRUE"
      ],
      "text/plain": [
       "[1] TRUE"
      ]
     },
     "metadata": {},
     "output_type": "display_data"
    }
   ],
   "source": [
    "7 > 5"
   ]
  },
  {
   "cell_type": "code",
   "execution_count": 19,
   "metadata": {},
   "outputs": [
    {
     "data": {
      "text/html": [
       "FALSE"
      ],
      "text/latex": [
       "FALSE"
      ],
      "text/markdown": [
       "FALSE"
      ],
      "text/plain": [
       "[1] FALSE"
      ]
     },
     "metadata": {},
     "output_type": "display_data"
    }
   ],
   "source": [
    "4 < 3"
   ]
  },
  {
   "cell_type": "markdown",
   "metadata": {},
   "source": [
    "This is also a good time to introduce the double-equal sign. Because we use `=` to assign values to variables, we can't use it to test if two things are equal. To ask R to evaluate whether two things are equal, therefore, we use a double-equal sign (`==`). For example:"
   ]
  },
  {
   "cell_type": "code",
   "execution_count": 20,
   "metadata": {},
   "outputs": [
    {
     "data": {
      "text/html": [
       "TRUE"
      ],
      "text/latex": [
       "TRUE"
      ],
      "text/markdown": [
       "TRUE"
      ],
      "text/plain": [
       "[1] TRUE"
      ]
     },
     "metadata": {},
     "output_type": "display_data"
    }
   ],
   "source": [
    "a = 5\n",
    "b = 5\n",
    "a == b"
   ]
  },
  {
   "cell_type": "code",
   "execution_count": 21,
   "metadata": {},
   "outputs": [
    {
     "data": {
      "text/html": [
       "FALSE"
      ],
      "text/latex": [
       "FALSE"
      ],
      "text/markdown": [
       "FALSE"
      ],
      "text/plain": [
       "[1] FALSE"
      ]
     },
     "metadata": {},
     "output_type": "display_data"
    }
   ],
   "source": [
    "c = 7\n",
    "a == c"
   ]
  },
  {
   "cell_type": "markdown",
   "metadata": {},
   "source": [
    "## A Brief Introduction to Functions\n",
    "\n",
    "One last note before we finish off this section: one of the most powerful thing about a language like R is that it's full of pre-made tools called *functions*. A function is basically a little program inside R. They can do everything from simple operations (like adding up numbers) to extremely complicated operations (fit a machine learning model). \n",
    "\n",
    "The idea of a function is that takes in a set of *arguments* as an input, and then it *returns* a result. To use a function, you type out the function name, then place the arguments you want to pass to the function inside parentheses. For example, there's a function called `as.numeric()` that's designed to convert a variable that is a character (like `\"7\"`) to a numeric value (`7`) so we can do arithmatic with that value. \n",
    "\n",
    "So to use it, we pass the function `as.numeric` the variable (`b`). The function will then take the value associated with `b` (`\"7\"`), convert it to a numeric value, then return the converted value. For example:"
   ]
  },
  {
   "cell_type": "code",
   "execution_count": 22,
   "metadata": {},
   "outputs": [
    {
     "data": {
      "text/html": [
       "12"
      ],
      "text/latex": [
       "12"
      ],
      "text/markdown": [
       "12"
      ],
      "text/plain": [
       "[1] 12"
      ]
     },
     "metadata": {},
     "output_type": "display_data"
    }
   ],
   "source": [
    "a = 5\n",
    "b = \"7\"\n",
    "b_as_a_numeric = as.numeric(b)\n",
    "a + b_as_a_numeric"
   ]
  },
  {
   "cell_type": "markdown",
   "metadata": {},
   "source": [
    "Note that `as.numeric` didn't actually change the value of the variable `b` -- instead, it returned the converted value, and we assigned it to the variable `b_as_a_numeric`. If we look at `b`, we will see it is still `\"7\"`"
   ]
  },
  {
   "cell_type": "code",
   "execution_count": 23,
   "metadata": {},
   "outputs": [
    {
     "data": {
      "text/html": [
       "'7'"
      ],
      "text/latex": [
       "'7'"
      ],
      "text/markdown": [
       "'7'"
      ],
      "text/plain": [
       "[1] \"7\""
      ]
     },
     "metadata": {},
     "output_type": "display_data"
    }
   ],
   "source": [
    "b"
   ]
  },
  {
   "cell_type": "markdown",
   "metadata": {},
   "source": [
    "But `as.numeric` won't work on everything. If you pass `as.numeric` a character that doesn't look like a number, it's smart enough to know that there's no way to convert it, so instead of a number, it returns `NA`, which is what R uses when it has no idea what to do. For example:"
   ]
  },
  {
   "cell_type": "markdown",
   "metadata": {},
   "source": [
    "```R\n",
    "silly_example = \"This doesn't look like a number at all!\"\n",
    "as.numeric(silly_example)\n",
    "\n",
    "Warning message in eval(expr, envir, enclos):\n",
    "“NAs introduced by coercion”\n",
    "<NA>\n",
    "```"
   ]
  },
  {
   "cell_type": "markdown",
   "metadata": {},
   "source": [
    "We'll talk much more about functions in the future, but for now it's enough to recognize that they are little programs, and that they operate by accepting inputs (the things placed inside the parenthesis that follow the function name) and return a result to you which you can look at or assign to a variable for later use."
   ]
  }
 ],
 "metadata": {
  "language_info": {
   "name": "r"
  }
 },
 "nbformat": 4,
 "nbformat_minor": 2
}
