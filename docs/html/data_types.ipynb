{
 "cells": [
  {
   "cell_type": "markdown",
   "metadata": {},
   "source": [
    "# Data Types\n",
    "\n",
    "One of the features of computers than can be frustrating to new programmers is their inflexibility, and one place this inflexibility is most evident is in the fact that programs like R store data in discrete *types*. In this section, we'll go over the three data types you'll encounter most -- `numeric`, `character`, and `logical` types -- as well as what it means for R to have these discrete data types. \n",
    "\n",
    "## Types and Their Uses\n",
    "\n",
    "The three types of data you'll work with most in R are `numeric`, `character`, and `logical`, and each has an important role to play in for the social science researcher. \n",
    "\n",
    "`numeric` data, as the name implies, is data that stores numbers. This may be people's ages or incomes, countries' GDPs and infant mortality rates, global temperatures, or survey responses on a scale from 1 to 7. `numeric` data is the only data type we'll talk about here that supports mathematical operations, like multiplying, dividing, adding and subtracting, etc. \n",
    "\n",
    "`character` data is text data. It could be something short, like a survey respondent's name, or something longer, like the content of a tweet or a politician's speech.  \n",
    "\n",
    "Finally, `logical` data takes on only two values: `TRUE` and `FALSE` (note those values have to be written in all capitals to be recognized by R!). `logical` data can store information about the world (you could have a variable called `female` that only has values of `TRUE` and `FALSE`), but more often we use it for testing. For example, suppose we wanted to test whether a survey respondent's age is over 18 to evaluate whether they are eligible to vote. We'd probably do something like ask whether `age >= 18`, which would evaluate to `TRUE` or `FALSE`. "
   ]
  },
  {
   "cell_type": "markdown",
   "metadata": {},
   "source": [
    "## Working with Data Types\n",
    "\n",
    "Unlike some programming languages, when you assign values to a variable, you don't have to tell R the type of data you're assigning in advance (this is definitely not true for all languages, and something that makes R much easier to use than many other languages!). Instead, R will make inferences based on what you've passed. Namely: \n",
    "\n",
    "- If you type out a number, R will assume it's `numeric`. \n",
    "  - (If you've worked in other programming languages, you've probably heard these referred to as `floats`.)\n",
    "- If you type out something and put it in double-quotation marks (`\"like this\"`), R will treat it as a `character`.\n",
    "  - (If you've worked in other programming languages, you've probably heard these referred to as `strings`.)\n",
    "- If R sees `TRUE` or `FALSE`, or an expression that is evaluated to `TRUE` or `FALSE` (like `7 > 3`, which is obvously `TRUE`) it will treat it as logical. \n",
    "  - (If you've worked in other programming languages, you've probably heard these referred to as `bools` or `booleans`.)\n",
    "\n",
    "To illustrate, let's play around a little. Note that we can always check the type of data by passing our data, or the variable to which the data has been assigned, to the `class()` function, which then returns the type of the input. For example:"
   ]
  },
  {
   "cell_type": "code",
   "execution_count": 22,
   "metadata": {},
   "outputs": [
    {
     "data": {
      "text/html": [
       "'numeric'"
      ],
      "text/latex": [
       "'numeric'"
      ],
      "text/markdown": [
       "'numeric'"
      ],
      "text/plain": [
       "[1] \"numeric\""
      ]
     },
     "metadata": {},
     "output_type": "display_data"
    }
   ],
   "source": [
    "pi <- 3.1416\n",
    "class(pi)"
   ]
  },
  {
   "cell_type": "code",
   "execution_count": 23,
   "metadata": {},
   "outputs": [
    {
     "data": {
      "text/html": [
       "'character'"
      ],
      "text/latex": [
       "'character'"
      ],
      "text/markdown": [
       "'character'"
      ],
      "text/plain": [
       "[1] \"character\""
      ]
     },
     "metadata": {},
     "output_type": "display_data"
    }
   ],
   "source": [
    "mystery_novel <- \"T'was a dark and story night\"\n",
    "class(mystery_novel)"
   ]
  },
  {
   "cell_type": "code",
   "execution_count": 24,
   "metadata": {},
   "outputs": [
    {
     "data": {
      "text/html": [
       "'logical'"
      ],
      "text/latex": [
       "'logical'"
      ],
      "text/markdown": [
       "'logical'"
      ],
      "text/plain": [
       "[1] \"logical\""
      ]
     },
     "metadata": {},
     "output_type": "display_data"
    }
   ],
   "source": [
    "my_logical <- 7 < 3\n",
    "class(my_logical)"
   ]
  },
  {
   "cell_type": "markdown",
   "metadata": {},
   "source": [
    "It's worth emphasizing here that putting a variable into a function is exactly the same as putting the value assigned to that variable into the function. This is, indeed, one of those core ideas about how most programming languages work: a variable is just a stand-in for the value that has been assigned for it, and R will treat them interchangably. e.g.:"
   ]
  },
  {
   "cell_type": "code",
   "execution_count": 27,
   "metadata": {},
   "outputs": [
    {
     "data": {
      "text/html": [
       "'numeric'"
      ],
      "text/latex": [
       "'numeric'"
      ],
      "text/markdown": [
       "'numeric'"
      ],
      "text/plain": [
       "[1] \"numeric\""
      ]
     },
     "metadata": {},
     "output_type": "display_data"
    }
   ],
   "source": [
    "# Evaluating the variable pi\n",
    "pi <- 3.1416\n",
    "class(pi)\n"
   ]
  },
  {
   "cell_type": "code",
   "execution_count": 26,
   "metadata": {},
   "outputs": [
    {
     "data": {
      "text/html": [
       "'numeric'"
      ],
      "text/latex": [
       "'numeric'"
      ],
      "text/markdown": [
       "'numeric'"
      ],
      "text/plain": [
       "[1] \"numeric\""
      ]
     },
     "metadata": {},
     "output_type": "display_data"
    }
   ],
   "source": [
    "# Has the same effect as just putting \n",
    "# in the value directly!\n",
    "class(3.1416)"
   ]
  },
  {
   "cell_type": "markdown",
   "metadata": {},
   "source": [
    "## Operations and Data Types\n",
    "\n",
    "Data types aren't just about helping R remember what kind of data has been assigned to a variable -- it also affects how some operators (like `+`) are interpreted. \n",
    "\n",
    "For example, if I put `+` between two numeric variables, R will do the obvious thing and add them up:"
   ]
  },
  {
   "cell_type": "code",
   "execution_count": 3,
   "metadata": {},
   "outputs": [
    {
     "data": {
      "text/html": [
       "12"
      ],
      "text/latex": [
       "12"
      ],
      "text/markdown": [
       "12"
      ],
      "text/plain": [
       "[1] 12"
      ]
     },
     "metadata": {},
     "output_type": "display_data"
    }
   ],
   "source": [
    "a <- 10\n",
    "b <- 2\n",
    "a + b"
   ]
  },
  {
   "cell_type": "markdown",
   "metadata": {},
   "source": [
    "But if I try and put a `+` between two character variables, R will stop and say \"WAIT A MINUTE! I don't know how to add two characters!\" \n",
    "\n",
    "```r \n",
    "a <- \"Lyra\"\n",
    "b <- \"Belacqua\"\n",
    "a + b \n",
    "\n",
    "> Error in a + b : non-numeric argument to binary operator\n",
    "```"
   ]
  },
  {
   "cell_type": "markdown",
   "metadata": {},
   "source": [
    "Note that one place that this behavior can be confusing is when R has stored numbers as characters -- something that happens a lot when you are importing a file. That's because, as I said before, computers are *really* inflexible. For example, suppose you had the following code:\n",
    "\n",
    "```r\n",
    "a <- \"5\"\n",
    "b <- \"4\"\n",
    "a + b\n",
    "```\n",
    "\n",
    "Now, if I asked you what that should print out, I'm sure you'd say \"9\", because you're smart and can recognize what I *want*. But R can't do that -- it sees you trying to add two character variables and says \"nope, sorry! Can't do that.\"\n",
    "\n",
    "```r\n",
    "a <- \"5\"\n",
    "b <- \"4\"\n",
    "a + b\n",
    "\n",
    "> Error in a + b : non-numeric argument to binary operator\n",
    "```\n"
   ]
  },
  {
   "cell_type": "markdown",
   "metadata": {},
   "source": [
    "\n",
    "\n",
    "Which brings us to..."
   ]
  },
  {
   "cell_type": "markdown",
   "metadata": {},
   "source": [
    "## Converting Data Types\n",
    "\n",
    "From time to time, you'll want to move between data types, and for that we have a couple special functions, all with the same naming structure: `as.numeric()`, `as.character()`, and `as.logical()`. Each of these will take a variable and *try* to convert it to the type named, and it if can't throw up an error. \n",
    "\n",
    "So let's do our example above again using `as.numeric()`:\n"
   ]
  },
  {
   "cell_type": "code",
   "execution_count": 6,
   "metadata": {},
   "outputs": [
    {
     "data": {
      "text/html": [
       "9"
      ],
      "text/latex": [
       "9"
      ],
      "text/markdown": [
       "9"
      ],
      "text/plain": [
       "[1] 9"
      ]
     },
     "metadata": {},
     "output_type": "display_data"
    }
   ],
   "source": [
    "a <- \"5\"\n",
    "b <- \"4\"\n",
    "a <- as.numeric(a)\n",
    "b <- as.numeric(b)\n",
    "a + b"
   ]
  },
  {
   "cell_type": "markdown",
   "metadata": {},
   "source": [
    "Ta-da! "
   ]
  },
  {
   "cell_type": "markdown",
   "metadata": {},
   "source": [
    "(See how I assigned the return value of `as.numeric(a)` to the variable `a`, overwriting the old value? Remember you have to assign those return values if you want them remembered!)"
   ]
  },
  {
   "cell_type": "markdown",
   "metadata": {},
   "source": [
    "## More on Logical\n",
    "\n",
    "OK, before we move on, let's talk a little more about logical data, as its usefulness is perhaps the least evident at the moment. But they're important because of how often in data analysis or data wrangling we want to evaluate logical statements, and the results of those need to take the form of `TRUE` and `FALSE`. \n",
    "\n",
    "To illustrate here are a number of examples where logicals come into play:"
   ]
  },
  {
   "cell_type": "code",
   "execution_count": 18,
   "metadata": {},
   "outputs": [
    {
     "data": {
      "text/html": [
       "TRUE"
      ],
      "text/latex": [
       "TRUE"
      ],
      "text/markdown": [
       "TRUE"
      ],
      "text/plain": [
       "[1] TRUE"
      ]
     },
     "metadata": {},
     "output_type": "display_data"
    }
   ],
   "source": [
    "# Simple math tests, like inequalities\n",
    "7 > 5"
   ]
  },
  {
   "cell_type": "code",
   "execution_count": 19,
   "metadata": {},
   "outputs": [
    {
     "data": {
      "text/html": [
       "FALSE"
      ],
      "text/latex": [
       "FALSE"
      ],
      "text/markdown": [
       "FALSE"
      ],
      "text/plain": [
       "[1] FALSE"
      ]
     },
     "metadata": {},
     "output_type": "display_data"
    }
   ],
   "source": [
    "-1 >= 10"
   ]
  },
  {
   "cell_type": "markdown",
   "metadata": {},
   "source": [
    "The other place logical data types come up a lot are when we want to test whether two things are the same (equal). Because we can use `=` to assign values to variables (see note on assignment operators [here](introduction.ipynb)), we can't test whether two things are equal by typing something like `a = 5` -- because R wouldn't know if you're assigning 5 to `a`, or asking whether the value already assigned to `a` is equal to 5.\n",
    "\n",
    "So to evaluate whether two things are equal, we use a double-equal sign (`==`). For example:"
   ]
  },
  {
   "cell_type": "code",
   "execution_count": 20,
   "metadata": {},
   "outputs": [
    {
     "data": {
      "text/html": [
       "TRUE"
      ],
      "text/latex": [
       "TRUE"
      ],
      "text/markdown": [
       "TRUE"
      ],
      "text/plain": [
       "[1] TRUE"
      ]
     },
     "metadata": {},
     "output_type": "display_data"
    }
   ],
   "source": [
    "a <- 5\n",
    "b <- 5\n",
    "a == b"
   ]
  },
  {
   "cell_type": "code",
   "execution_count": 21,
   "metadata": {},
   "outputs": [
    {
     "data": {
      "text/html": [
       "FALSE"
      ],
      "text/latex": [
       "FALSE"
      ],
      "text/markdown": [
       "FALSE"
      ],
      "text/plain": [
       "[1] FALSE"
      ]
     },
     "metadata": {},
     "output_type": "display_data"
    }
   ],
   "source": [
    "c <- 7\n",
    "a == c"
   ]
  },
  {
   "cell_type": "markdown",
   "metadata": {},
   "source": [
    "## Exercises\n",
    "\n",
    "stuff here."
   ]
  }
 ],
 "metadata": {
  "kernelspec": {
   "display_name": "R",
   "language": "R",
   "name": "ir"
  },
  "language_info": {
   "codemirror_mode": "r",
   "file_extension": ".r",
   "mimetype": "text/x-r-source",
   "name": "R",
   "pygments_lexer": "r",
   "version": "4.1.0"
  }
 },
 "nbformat": 4,
 "nbformat_minor": 2
}
