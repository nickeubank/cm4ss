{
 "cells": [
  {
   "cell_type": "markdown",
   "metadata": {},
   "source": [
    "# Matrix Exercises\n",
    "\n",
    "For the following matrix manipulation exercises, begin by building the following matrix (you'll probably want to just copy-paste this code), which we can imagine is a survey of age, education and income:"
   ]
  },
  {
   "cell_type": "code",
   "execution_count": 1,
   "metadata": {
    "vscode": {
     "languageId": "r"
    }
   },
   "outputs": [
    {
     "data": {
      "text/html": [
       "<table class=\"dataframe\">\n",
       "<caption>A matrix: 7 × 3 of type dbl</caption>\n",
       "<thead>\n",
       "\t<tr><th scope=col>income</th><th scope=col>age</th><th scope=col>education</th></tr>\n",
       "</thead>\n",
       "<tbody>\n",
       "\t<tr><td> 22000</td><td>20</td><td>12</td></tr>\n",
       "\t<tr><td> 65000</td><td>35</td><td>16</td></tr>\n",
       "\t<tr><td> 19000</td><td>55</td><td>11</td></tr>\n",
       "\t<tr><td>110000</td><td>35</td><td>22</td></tr>\n",
       "\t<tr><td> 14000</td><td>21</td><td>12</td></tr>\n",
       "\t<tr><td>     0</td><td>56</td><td> 8</td></tr>\n",
       "\t<tr><td> 35000</td><td>42</td><td>12</td></tr>\n",
       "</tbody>\n",
       "</table>\n"
      ],
      "text/latex": [
       "A matrix: 7 × 3 of type dbl\n",
       "\\begin{tabular}{lll}\n",
       " income & age & education\\\\\n",
       "\\hline\n",
       "\t  22000 & 20 & 12\\\\\n",
       "\t  65000 & 35 & 16\\\\\n",
       "\t  19000 & 55 & 11\\\\\n",
       "\t 110000 & 35 & 22\\\\\n",
       "\t  14000 & 21 & 12\\\\\n",
       "\t      0 & 56 &  8\\\\\n",
       "\t  35000 & 42 & 12\\\\\n",
       "\\end{tabular}\n"
      ],
      "text/markdown": [
       "\n",
       "A matrix: 7 × 3 of type dbl\n",
       "\n",
       "| income | age | education |\n",
       "|---|---|---|\n",
       "|  22000 | 20 | 12 |\n",
       "|  65000 | 35 | 16 |\n",
       "|  19000 | 55 | 11 |\n",
       "| 110000 | 35 | 22 |\n",
       "|  14000 | 21 | 12 |\n",
       "|      0 | 56 |  8 |\n",
       "|  35000 | 42 | 12 |\n",
       "\n"
      ],
      "text/plain": [
       "     income age education\n",
       "[1,]  22000 20  12       \n",
       "[2,]  65000 35  16       \n",
       "[3,]  19000 55  11       \n",
       "[4,] 110000 35  22       \n",
       "[5,]  14000 21  12       \n",
       "[6,]      0 56   8       \n",
       "[7,]  35000 42  12       "
      ]
     },
     "metadata": {},
     "output_type": "display_data"
    }
   ],
   "source": [
    "income <- c(22000, 65000, 19000, 110000, 14000, 0, 35000)\n",
    "age <- c(20, 35, 55, 35, 21, 56, 42)\n",
    "education <- c(12, 16, 11, 22, 12, 8, 12)\n",
    "\n",
    "svy <- cbind(income, age, education)\n",
    "svy\n"
   ]
  },
  {
   "cell_type": "markdown",
   "metadata": {},
   "source": [
    "## Exercise 1: Summarizing Data\n",
    "\n",
    "1. What is the average age of all respondents?\n",
    "2. What is the average income of respondents over 30?\n",
    "3. What is the average education of respondents with incomes above the average income for all respondents?\n",
    "\n",
    "## Exercise 2: Editing Data\n",
    "\n",
    "The US government is thinking about offering a 1,500 tax credit to anyone making less than 20,000 a year. \n",
    "\n",
    "1. Using the data from `svy`, create a new vector by subsetting and editing the original income column with the incomes respondents will receive after this tax credit.\n",
    "    - Do so by subsetting and editing values programmatically, *not* just typing values by hand. (Yes, writing out a new vector by hand is easy to do in this example, but you couldn't do it with a large, real dataset!)\n",
    "    - Do **not** change the original income column in the process of creating this vector.\n",
    "\n",
    "2. What will the average after-tax income be for all respondents?\n",
    "\n",
    "3. Add your new column with updated, post-refund incomes as a fourth column in your matrix.\n",
    "\n",
    "To solve this problem, you'll want to use the `cbind` function, short for \"column bind.\" As detailed in the [R documentation](https://www.rdocumentation.org/packages/base/versions/3.6.2/topics/cbind) (seriously, go take a R documentation is really good and helpful!), `cbind` concatenates (glues together) matrices horizontally to make new matrices.\n"
   ]
  },
  {
   "cell_type": "markdown",
   "metadata": {},
   "source": [
    "## Exercise 3: Income Inequality (with Real Data!)\n",
    "\n",
    "In this exercise, we'll be working with data from the [US Current Population Survey, provided by the National Bureau of Economic Research (NBER)](https://www.nber.org/research/data/current-population-survey-cps-merged-outgoing-rotation-group-earnings-data). This is a regular survey conducted by the US Bureau of Labor to calculate the US employment rate.\n",
    "\n",
    "In this exercise, we'll use this data to study gender and racial wage inequality in the US.\n",
    "\n",
    "1. Load data from the 2018 CPS survey with the following command:\n",
    "\n",
    "```R\n",
    "cps <- as.matrix(read.table(paste0(\"https://raw.githubusercontent.com/nickeubank/\",\n",
    "                                   \"computational_methods_boot_camp/main/source/\",\n",
    "                                   \"data/cps.txt\")\n",
    "                            )\n",
    "                )\n",
    "```\n",
    "\n",
    "(Users with more R experience may find it odd we're doing what we're doing with the `as.matrix` command here, but please just go with it! We're practicing matrix manipulations here. We'll get to other data structures soon.)\n",
    "\n",
    "This data is a *subset* of the full CPS survey, and contains only data on **employed respondents working at least 35 hours a week (e.g., full-time)).**\n"
   ]
  },
  {
   "cell_type": "markdown",
   "metadata": {},
   "source": [
    "2. Using `dim`, evaluate the size of this matrix. How many rows and how many columns does this matrix have?\n",
    "\n",
    "3. The five columns (yes, I know I'm giving away the answer to the question above) of this matrix correspond to:\n",
    "    - Column 1: Weekly income in dollars.\n",
    "    - Column 2: Usual hours respondent works per week.\n",
    "    - Column 3: Gender. 2 is \"Female\", 1 is \"Male\"\n",
    "    - Column 4: Race. This can take on a lot of values for those who identify as mixed race, but for simplicity in this exercise we'll just focus on a couple values. For those interested, the full set of codes can be found on page 19 of the [CPS codebook](https://data.nber.org/morg/docs/cpsx.pdf).\n",
    "        - 1: White\n",
    "        - 2: Black\n",
    "        - 3: American Indian\n",
    "        - 4: Asian only\n",
    "        - 5: Hawaiian/Pacific Islander only\n",
    "    - Column 5: Survey weights.\n",
    "\n",
    "Note that race does not break out Hispanic / non-Hispanic identities. In US government surveys, Hispanic / non-Hispanic is usually recorded in a separate `ethnicity` variable, so many people who identify as Hispanic are identified as White or Black in the `race` variable.\n",
    "\n",
    "For the moment, let's ignore survey weights—they don't impact results here significantly. \n",
    "\n",
    "Calculate the *average hourly wage* for workers. Note this will require more than just using `mean` on a single column!\n",
    "\n",
    "**Hint:** If you create a new column in the process of answering this question, you might want to just add it to your matrix with `cbind`... odds are you'll use it again. :)\n",
    "\n"
   ]
  },
  {
   "cell_type": "markdown",
   "metadata": {},
   "source": [
    "4. Now calculate the average hourly wage of working men and the average hourly wage of working women. \n",
    "\n",
    "5. Calculate the wage gap as: (men's avg hourly wage minus women's hourly wage) / (men's average hourly wage)."
   ]
  },
  {
   "cell_type": "markdown",
   "metadata": {},
   "source": [
    "6. Now calculate the average hourly wage for White respondents and Black respondents. \n",
    "\n",
    "This will only be an approximation—one would normally also include all respondents of mixed-race into non-mutually exclusive categories like \"Any Part Black\" or \"Any Part White\", and we would also break out Hispanic and non-Hispanic respondents. But as most respondents only pick on racial category, this will still give us a reasonable approximation. "
   ]
  },
  {
   "cell_type": "markdown",
   "metadata": {},
   "source": [
    "## Bonus Exercises!\n",
    "\n",
    "7. Now let's take our sample weights seriously! Calculate the average hourly wage in the US *taking into account weights*. How?\n",
    "\n",
    "Well, a normal average is calculated by taking each value, multiplying it by $1/N$ where $N$ is the number of observations, and then adding up all the results. \n",
    "\n",
    "For a *weighted* average, we take the value for each observation $i$ and multiply it by \n",
    "\n",
    "$$weight_i / \\sum_1^N weights_j$$\n",
    "\n",
    "where $weight_i$ is the observation's weight, and $\\sum_1^N weights_j$ is the total of all the weights in the population being averaged. \n",
    "\n",
    "Then we just add those up!"
   ]
  }
 ],
 "metadata": {
  "kernelspec": {
   "display_name": "R",
   "language": "R",
   "name": "ir"
  },
  "language_info": {
   "codemirror_mode": "r",
   "file_extension": ".r",
   "mimetype": "text/x-r-source",
   "name": "R",
   "pygments_lexer": "r",
   "version": "4.1.0"
  }
 },
 "nbformat": 4,
 "nbformat_minor": 2
}
