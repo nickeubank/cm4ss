{
 "cells": [
  {
   "cell_type": "markdown",
   "id": "563e5351",
   "metadata": {},
   "source": [
    "# Dataset Basics\n",
    "\n",
    "In our previous lessons, we've talked about how vectors are often used to store lots of different observations of a given measurement (e.g. the answers of different survey respondents to a given question), and how matrices can be used to collect lots of different measurements in columns (e.g. each column can be answers to different questions). \n",
    "\n",
    "But matrices have one major limitation when it comes to social science workflows, which is that all the entries in a matrix have to be of the same type. In reality, however, we often have datasets with lots of *different* data types. For example, we might have numeric data on age and income, but character data for people's names, preferred political candidate, etc. Or we might have data on power plants across the US that includes numeric data on capacity, age, and pollution alongside character data on the power plant's fuel and the company that owns the plant. \n",
    "\n",
    "To deal with this kind of *heterogeneous tabular data*, we turn to the `data.frame`. \n",
    "\n",
    "Dataframes are basically just a collection of vectors, where each vector corresponds to a different column, and each column has a single type. Since they're two-dimensional data structures like matrices, we can actually subset them in the same way as matrices, but they are more flexible in terms of the types of data they can store. "
   ]
  },
  {
   "cell_type": "markdown",
   "id": "4d8639d8",
   "metadata": {},
   "source": [
    "## Creating Dataframes\n",
    "\n",
    "Let's start by learning how to create a dataset in R. This turns\n",
    "out to be very simple --- just combine vectors using the `data.frame()`\n",
    "command. \n"
   ]
  },
  {
   "cell_type": "code",
   "execution_count": 2,
   "id": "b788922a",
   "metadata": {},
   "outputs": [
    {
     "data": {
      "text/html": [
       "<table class=\"dataframe\">\n",
       "<caption>A data.frame: 3 × 3</caption>\n",
       "<thead>\n",
       "\t<tr><th scope=col>name</th><th scope=col>age</th><th scope=col>hair</th></tr>\n",
       "\t<tr><th scope=col>&lt;chr&gt;</th><th scope=col>&lt;dbl&gt;</th><th scope=col>&lt;chr&gt;</th></tr>\n",
       "</thead>\n",
       "<tbody>\n",
       "\t<tr><td>al   </td><td>6</td><td>brown</td></tr>\n",
       "\t<tr><td>bea  </td><td>7</td><td>green</td></tr>\n",
       "\t<tr><td>carol</td><td>4</td><td>blond</td></tr>\n",
       "</tbody>\n",
       "</table>\n"
      ],
      "text/latex": [
       "A data.frame: 3 × 3\n",
       "\\begin{tabular}{lll}\n",
       " name & age & hair\\\\\n",
       " <chr> & <dbl> & <chr>\\\\\n",
       "\\hline\n",
       "\t al    & 6 & brown\\\\\n",
       "\t bea   & 7 & green\\\\\n",
       "\t carol & 4 & blond\\\\\n",
       "\\end{tabular}\n"
      ],
      "text/markdown": [
       "\n",
       "A data.frame: 3 × 3\n",
       "\n",
       "| name &lt;chr&gt; | age &lt;dbl&gt; | hair &lt;chr&gt; |\n",
       "|---|---|---|\n",
       "| al    | 6 | brown |\n",
       "| bea   | 7 | green |\n",
       "| carol | 4 | blond |\n",
       "\n"
      ],
      "text/plain": [
       "  name  age hair \n",
       "1 al    6   brown\n",
       "2 bea   7   green\n",
       "3 carol 4   blond"
      ]
     },
     "metadata": {},
     "output_type": "display_data"
    }
   ],
   "source": [
    "# Create three vectors \n",
    "name <- c(\"al\", \"bea\", \"carol\")\n",
    "age <- c(6, 7, 4)\n",
    "hair <- c(\"brown\", \"green\", \"blond\")\n",
    "\n",
    "# Create data frame \n",
    "children <- data.frame(name, age, hair)\n",
    "children\n"
   ]
  },
  {
   "cell_type": "markdown",
   "id": "f73fcada",
   "metadata": {},
   "source": [
    "Note that unlike matrices and vectors -- which *can* have names -- dataframe columns **always** have names, and you'll usually see them accessed by name:"
   ]
  },
  {
   "cell_type": "code",
   "execution_count": 5,
   "id": "660b6154",
   "metadata": {},
   "outputs": [
    {
     "data": {
      "text/html": [
       "'character'"
      ],
      "text/latex": [
       "'character'"
      ],
      "text/markdown": [
       "'character'"
      ],
      "text/plain": [
       "[1] \"character\""
      ]
     },
     "metadata": {},
     "output_type": "display_data"
    }
   ],
   "source": [
    "class(children[, \"hair\"])"
   ]
  },
  {
   "cell_type": "markdown",
   "id": "31fb9a13",
   "metadata": {},
   "source": [
    "## Accessing Columns\n",
    "\n",
    "While you can access the features of a dataframe using the exact same syntax as you would with matrices, dataframes also allow you to access a single column using `[name of dataframe]$[name of column]`. For example:"
   ]
  },
  {
   "cell_type": "code",
   "execution_count": 6,
   "id": "85f72f82",
   "metadata": {},
   "outputs": [
    {
     "data": {
      "text/html": [
       "<style>\n",
       ".list-inline {list-style: none; margin:0; padding: 0}\n",
       ".list-inline>li {display: inline-block}\n",
       ".list-inline>li:not(:last-child)::after {content: \"\\00b7\"; padding: 0 .5ex}\n",
       "</style>\n",
       "<ol class=list-inline><li>'brown'</li><li>'green'</li><li>'blond'</li></ol>\n"
      ],
      "text/latex": [
       "\\begin{enumerate*}\n",
       "\\item 'brown'\n",
       "\\item 'green'\n",
       "\\item 'blond'\n",
       "\\end{enumerate*}\n"
      ],
      "text/markdown": [
       "1. 'brown'\n",
       "2. 'green'\n",
       "3. 'blond'\n",
       "\n",
       "\n"
      ],
      "text/plain": [
       "[1] \"brown\" \"green\" \"blond\""
      ]
     },
     "metadata": {},
     "output_type": "display_data"
    }
   ],
   "source": [
    "children$hair"
   ]
  },
  {
   "cell_type": "markdown",
   "id": "650ec8aa",
   "metadata": {},
   "source": [
    "## Basic Dataset Commands\n",
    "\n",
    "To better understand the proper structure of datasets, let's create a second data frame that has a more realistic data structure:"
   ]
  },
  {
   "cell_type": "code",
   "execution_count": 8,
   "id": "80fd75e2",
   "metadata": {},
   "outputs": [
    {
     "data": {
      "text/html": [
       "<table class=\"dataframe\">\n",
       "<caption>A data.frame: 9 × 3</caption>\n",
       "<thead>\n",
       "\t<tr><th scope=col>country</th><th scope=col>year</th><th scope=col>gdp_pc</th></tr>\n",
       "\t<tr><th scope=col>&lt;chr&gt;</th><th scope=col>&lt;dbl&gt;</th><th scope=col>&lt;dbl&gt;</th></tr>\n",
       "</thead>\n",
       "<tbody>\n",
       "\t<tr><td>USA  </td><td>1994</td><td>15297</td></tr>\n",
       "\t<tr><td>China</td><td>1994</td><td>10213</td></tr>\n",
       "\t<tr><td>Sudan</td><td>1994</td><td> 5411</td></tr>\n",
       "\t<tr><td>USA  </td><td>1995</td><td> 7282</td></tr>\n",
       "\t<tr><td>China</td><td>1995</td><td> 8996</td></tr>\n",
       "\t<tr><td>Sudan</td><td>1995</td><td> 6622</td></tr>\n",
       "\t<tr><td>USA  </td><td>1996</td><td>16665</td></tr>\n",
       "\t<tr><td>China</td><td>1996</td><td> 7851</td></tr>\n",
       "\t<tr><td>Sudan</td><td>1996</td><td> 3802</td></tr>\n",
       "</tbody>\n",
       "</table>\n"
      ],
      "text/latex": [
       "A data.frame: 9 × 3\n",
       "\\begin{tabular}{lll}\n",
       " country & year & gdp\\_pc\\\\\n",
       " <chr> & <dbl> & <dbl>\\\\\n",
       "\\hline\n",
       "\t USA   & 1994 & 15297\\\\\n",
       "\t China & 1994 & 10213\\\\\n",
       "\t Sudan & 1994 &  5411\\\\\n",
       "\t USA   & 1995 &  7282\\\\\n",
       "\t China & 1995 &  8996\\\\\n",
       "\t Sudan & 1995 &  6622\\\\\n",
       "\t USA   & 1996 & 16665\\\\\n",
       "\t China & 1996 &  7851\\\\\n",
       "\t Sudan & 1996 &  3802\\\\\n",
       "\\end{tabular}\n"
      ],
      "text/markdown": [
       "\n",
       "A data.frame: 9 × 3\n",
       "\n",
       "| country &lt;chr&gt; | year &lt;dbl&gt; | gdp_pc &lt;dbl&gt; |\n",
       "|---|---|---|\n",
       "| USA   | 1994 | 15297 |\n",
       "| China | 1994 | 10213 |\n",
       "| Sudan | 1994 |  5411 |\n",
       "| USA   | 1995 |  7282 |\n",
       "| China | 1995 |  8996 |\n",
       "| Sudan | 1995 |  6622 |\n",
       "| USA   | 1996 | 16665 |\n",
       "| China | 1996 |  7851 |\n",
       "| Sudan | 1996 |  3802 |\n",
       "\n"
      ],
      "text/plain": [
       "  country year gdp_pc\n",
       "1 USA     1994 15297 \n",
       "2 China   1994 10213 \n",
       "3 Sudan   1994  5411 \n",
       "4 USA     1995  7282 \n",
       "5 China   1995  8996 \n",
       "6 Sudan   1995  6622 \n",
       "7 USA     1996 16665 \n",
       "8 China   1996  7851 \n",
       "9 Sudan   1996  3802 "
      ]
     },
     "metadata": {},
     "output_type": "display_data"
    }
   ],
   "source": [
    "country <- rep(c(\"USA\", \"China\", \"Sudan\"), 3)\n",
    "year <- c(1994, 1994, 1994, 1995, 1995, 1995, 1996, 1996, 1996)\n",
    "gdp_pc <- round(runif(9, 1000, 20000), 0)\n",
    "\n",
    "countries <- data.frame(country, year, gdp_pc)\n",
    "countries"
   ]
  },
  {
   "cell_type": "markdown",
   "id": "8a89b65e",
   "metadata": {},
   "source": [
    "Where we can pretend that `gdp_pc` is a measure of a country's GDP per capita in a given year. \n",
    " \n",
    "(A quick aside: `rep()`, as you may recall, creates a vector that repeats the first input the number of times specified by the second input. `runif()` creates, in this case, 9 random values uniformly distributed between 1000 and 20000.)\n"
   ]
  },
  {
   "cell_type": "markdown",
   "id": "c7b46936",
   "metadata": {},
   "source": [
    "Now let's explore some common functions for getting to know your dataframe!\n",
    "\n",
    "The first is `dim()`, which gives the dimensions of a data frame. The number of rows are listed first, columns second."
   ]
  },
  {
   "cell_type": "code",
   "execution_count": 10,
   "id": "a8c91cb3",
   "metadata": {},
   "outputs": [
    {
     "data": {
      "text/html": [
       "<style>\n",
       ".list-inline {list-style: none; margin:0; padding: 0}\n",
       ".list-inline>li {display: inline-block}\n",
       ".list-inline>li:not(:last-child)::after {content: \"\\00b7\"; padding: 0 .5ex}\n",
       "</style>\n",
       "<ol class=list-inline><li>9</li><li>3</li></ol>\n"
      ],
      "text/latex": [
       "\\begin{enumerate*}\n",
       "\\item 9\n",
       "\\item 3\n",
       "\\end{enumerate*}\n"
      ],
      "text/markdown": [
       "1. 9\n",
       "2. 3\n",
       "\n",
       "\n"
      ],
      "text/plain": [
       "[1] 9 3"
      ]
     },
     "metadata": {},
     "output_type": "display_data"
    }
   ],
   "source": [
    "dim(countries)"
   ]
  },
  {
   "cell_type": "markdown",
   "id": "3f7c8977",
   "metadata": {},
   "source": [
    "Use `nrow()` and `ncol()` to to get the number of rows or columns separately."
   ]
  },
  {
   "cell_type": "code",
   "execution_count": 4,
   "id": "4b55d997",
   "metadata": {},
   "outputs": [
    {
     "data": {
      "text/html": [
       "9"
      ],
      "text/latex": [
       "9"
      ],
      "text/markdown": [
       "9"
      ],
      "text/plain": [
       "[1] 9"
      ]
     },
     "metadata": {},
     "output_type": "display_data"
    },
    {
     "data": {
      "text/html": [
       "3"
      ],
      "text/latex": [
       "3"
      ],
      "text/markdown": [
       "3"
      ],
      "text/plain": [
       "[1] 3"
      ]
     },
     "metadata": {},
     "output_type": "display_data"
    }
   ],
   "source": [
    "nrow(countries)\n",
    "ncol(countries)"
   ]
  },
  {
   "cell_type": "markdown",
   "id": "953d6f96",
   "metadata": {},
   "source": [
    "Snapshots\n",
    "-------------\n",
    "\n",
    "Use `head()` and `tail()` to look at the first and last few rows of a dataset, respectively. Obviously this is more useful when we have datasets with hundreds or thousands of observations you can't just look at. :) "
   ]
  },
  {
   "cell_type": "code",
   "execution_count": 32,
   "id": "04cbf344",
   "metadata": {},
   "outputs": [
    {
     "data": {
      "text/html": [
       "<table class=\"dataframe\">\n",
       "<caption>A data.frame: 6 × 3</caption>\n",
       "<thead>\n",
       "\t<tr><th></th><th scope=col>country</th><th scope=col>year</th><th scope=col>gdp_pc</th></tr>\n",
       "\t<tr><th></th><th scope=col>&lt;chr&gt;</th><th scope=col>&lt;dbl&gt;</th><th scope=col>&lt;dbl&gt;</th></tr>\n",
       "</thead>\n",
       "<tbody>\n",
       "\t<tr><th scope=row>1</th><td>USA  </td><td>1994</td><td>15297</td></tr>\n",
       "\t<tr><th scope=row>2</th><td>China</td><td>1994</td><td>10213</td></tr>\n",
       "\t<tr><th scope=row>3</th><td>Sudan</td><td>1994</td><td> 5411</td></tr>\n",
       "\t<tr><th scope=row>4</th><td>USA  </td><td>1995</td><td> 7282</td></tr>\n",
       "\t<tr><th scope=row>5</th><td>China</td><td>1995</td><td> 8996</td></tr>\n",
       "\t<tr><th scope=row>6</th><td>Sudan</td><td>1995</td><td> 6622</td></tr>\n",
       "</tbody>\n",
       "</table>\n"
      ],
      "text/latex": [
       "A data.frame: 6 × 3\n",
       "\\begin{tabular}{r|lll}\n",
       "  & country & year & gdp\\_pc\\\\\n",
       "  & <chr> & <dbl> & <dbl>\\\\\n",
       "\\hline\n",
       "\t1 & USA   & 1994 & 15297\\\\\n",
       "\t2 & China & 1994 & 10213\\\\\n",
       "\t3 & Sudan & 1994 &  5411\\\\\n",
       "\t4 & USA   & 1995 &  7282\\\\\n",
       "\t5 & China & 1995 &  8996\\\\\n",
       "\t6 & Sudan & 1995 &  6622\\\\\n",
       "\\end{tabular}\n"
      ],
      "text/markdown": [
       "\n",
       "A data.frame: 6 × 3\n",
       "\n",
       "| <!--/--> | country &lt;chr&gt; | year &lt;dbl&gt; | gdp_pc &lt;dbl&gt; |\n",
       "|---|---|---|---|\n",
       "| 1 | USA   | 1994 | 15297 |\n",
       "| 2 | China | 1994 | 10213 |\n",
       "| 3 | Sudan | 1994 |  5411 |\n",
       "| 4 | USA   | 1995 |  7282 |\n",
       "| 5 | China | 1995 |  8996 |\n",
       "| 6 | Sudan | 1995 |  6622 |\n",
       "\n"
      ],
      "text/plain": [
       "  country year gdp_pc\n",
       "1 USA     1994 15297 \n",
       "2 China   1994 10213 \n",
       "3 Sudan   1994  5411 \n",
       "4 USA     1995  7282 \n",
       "5 China   1995  8996 \n",
       "6 Sudan   1995  6622 "
      ]
     },
     "metadata": {},
     "output_type": "display_data"
    }
   ],
   "source": [
    "head(countries)"
   ]
  },
  {
   "cell_type": "code",
   "execution_count": 33,
   "id": "98962875",
   "metadata": {},
   "outputs": [
    {
     "data": {
      "text/html": [
       "<table class=\"dataframe\">\n",
       "<caption>A data.frame: 6 × 3</caption>\n",
       "<thead>\n",
       "\t<tr><th></th><th scope=col>country</th><th scope=col>year</th><th scope=col>gdp_pc</th></tr>\n",
       "\t<tr><th></th><th scope=col>&lt;chr&gt;</th><th scope=col>&lt;dbl&gt;</th><th scope=col>&lt;dbl&gt;</th></tr>\n",
       "</thead>\n",
       "<tbody>\n",
       "\t<tr><th scope=row>4</th><td>USA  </td><td>1995</td><td> 7282</td></tr>\n",
       "\t<tr><th scope=row>5</th><td>China</td><td>1995</td><td> 8996</td></tr>\n",
       "\t<tr><th scope=row>6</th><td>Sudan</td><td>1995</td><td> 6622</td></tr>\n",
       "\t<tr><th scope=row>7</th><td>USA  </td><td>1996</td><td>16665</td></tr>\n",
       "\t<tr><th scope=row>8</th><td>China</td><td>1996</td><td> 7851</td></tr>\n",
       "\t<tr><th scope=row>9</th><td>Sudan</td><td>1996</td><td> 3802</td></tr>\n",
       "</tbody>\n",
       "</table>\n"
      ],
      "text/latex": [
       "A data.frame: 6 × 3\n",
       "\\begin{tabular}{r|lll}\n",
       "  & country & year & gdp\\_pc\\\\\n",
       "  & <chr> & <dbl> & <dbl>\\\\\n",
       "\\hline\n",
       "\t4 & USA   & 1995 &  7282\\\\\n",
       "\t5 & China & 1995 &  8996\\\\\n",
       "\t6 & Sudan & 1995 &  6622\\\\\n",
       "\t7 & USA   & 1996 & 16665\\\\\n",
       "\t8 & China & 1996 &  7851\\\\\n",
       "\t9 & Sudan & 1996 &  3802\\\\\n",
       "\\end{tabular}\n"
      ],
      "text/markdown": [
       "\n",
       "A data.frame: 6 × 3\n",
       "\n",
       "| <!--/--> | country &lt;chr&gt; | year &lt;dbl&gt; | gdp_pc &lt;dbl&gt; |\n",
       "|---|---|---|---|\n",
       "| 4 | USA   | 1995 |  7282 |\n",
       "| 5 | China | 1995 |  8996 |\n",
       "| 6 | Sudan | 1995 |  6622 |\n",
       "| 7 | USA   | 1996 | 16665 |\n",
       "| 8 | China | 1996 |  7851 |\n",
       "| 9 | Sudan | 1996 |  3802 |\n",
       "\n"
      ],
      "text/plain": [
       "  country year gdp_pc\n",
       "4 USA     1995  7282 \n",
       "5 China   1995  8996 \n",
       "6 Sudan   1995  6622 \n",
       "7 USA     1996 16665 \n",
       "8 China   1996  7851 \n",
       "9 Sudan   1996  3802 "
      ]
     },
     "metadata": {},
     "output_type": "display_data"
    }
   ],
   "source": [
    "tail(countries)"
   ]
  },
  {
   "cell_type": "markdown",
   "id": "56acd90c",
   "metadata": {},
   "source": [
    "Other useful commands to get to know variables better include `summary()`,\n",
    "`table()`, and `prop.table()`. "
   ]
  },
  {
   "cell_type": "code",
   "execution_count": 11,
   "id": "7b8ccc4e",
   "metadata": {},
   "outputs": [
    {
     "data": {
      "text/plain": [
       "   country               year          gdp_pc     \n",
       " Length:9           Min.   :1994   Min.   : 3802  \n",
       " Class :character   1st Qu.:1994   1st Qu.: 6622  \n",
       " Mode  :character   Median :1995   Median : 7851  \n",
       "                    Mean   :1995   Mean   : 9127  \n",
       "                    3rd Qu.:1996   3rd Qu.:10213  \n",
       "                    Max.   :1996   Max.   :16665  "
      ]
     },
     "metadata": {},
     "output_type": "display_data"
    }
   ],
   "source": [
    "# Get some summary information about each variable\n",
    "summary(countries)"
   ]
  },
  {
   "cell_type": "code",
   "execution_count": 12,
   "id": "3e183969",
   "metadata": {},
   "outputs": [
    {
     "data": {
      "text/plain": [
       "\n",
       "China Sudan   USA \n",
       "    3     3     3 "
      ]
     },
     "metadata": {},
     "output_type": "display_data"
    }
   ],
   "source": [
    "# Number of observations by country \n",
    "table(countries$country)"
   ]
  },
  {
   "cell_type": "code",
   "execution_count": 13,
   "id": "d30b5fca",
   "metadata": {},
   "outputs": [
    {
     "data": {
      "text/plain": [
       "\n",
       "    China     Sudan       USA \n",
       "0.3333333 0.3333333 0.3333333 "
      ]
     },
     "metadata": {},
     "output_type": "display_data"
    }
   ],
   "source": [
    "# Proportion of observations by country \n",
    "prop.table(table(countries$country))"
   ]
  },
  {
   "cell_type": "markdown",
   "id": "8c089948",
   "metadata": {},
   "source": [
    "## Subsetting\n",
    "\n",
    "Subsetting dataframes works almost exactly like subsetting matrices:"
   ]
  },
  {
   "cell_type": "code",
   "execution_count": 15,
   "id": "7adeef16",
   "metadata": {},
   "outputs": [
    {
     "data": {
      "text/html": [
       "<table class=\"dataframe\">\n",
       "<caption>A data.frame: 1 × 2</caption>\n",
       "<thead>\n",
       "\t<tr><th></th><th scope=col>year</th><th scope=col>gdp_pc</th></tr>\n",
       "\t<tr><th></th><th scope=col>&lt;dbl&gt;</th><th scope=col>&lt;dbl&gt;</th></tr>\n",
       "</thead>\n",
       "<tbody>\n",
       "\t<tr><th scope=row>2</th><td>1994</td><td>10213</td></tr>\n",
       "</tbody>\n",
       "</table>\n"
      ],
      "text/latex": [
       "A data.frame: 1 × 2\n",
       "\\begin{tabular}{r|ll}\n",
       "  & year & gdp\\_pc\\\\\n",
       "  & <dbl> & <dbl>\\\\\n",
       "\\hline\n",
       "\t2 & 1994 & 10213\\\\\n",
       "\\end{tabular}\n"
      ],
      "text/markdown": [
       "\n",
       "A data.frame: 1 × 2\n",
       "\n",
       "| <!--/--> | year &lt;dbl&gt; | gdp_pc &lt;dbl&gt; |\n",
       "|---|---|---|\n",
       "| 2 | 1994 | 10213 |\n",
       "\n"
      ],
      "text/plain": [
       "  year gdp_pc\n",
       "2 1994 10213 "
      ]
     },
     "metadata": {},
     "output_type": "display_data"
    }
   ],
   "source": [
    "# Subset by index\n",
    "countries[2, c(2, 3)]"
   ]
  },
  {
   "cell_type": "code",
   "execution_count": 16,
   "id": "7e2667d0",
   "metadata": {},
   "outputs": [
    {
     "data": {
      "text/html": [
       "<table class=\"dataframe\">\n",
       "<caption>A data.frame: 1 × 3</caption>\n",
       "<thead>\n",
       "\t<tr><th></th><th scope=col>country</th><th scope=col>year</th><th scope=col>gdp_pc</th></tr>\n",
       "\t<tr><th></th><th scope=col>&lt;chr&gt;</th><th scope=col>&lt;dbl&gt;</th><th scope=col>&lt;dbl&gt;</th></tr>\n",
       "</thead>\n",
       "<tbody>\n",
       "\t<tr><th scope=row>5</th><td>China</td><td>1995</td><td>8996</td></tr>\n",
       "</tbody>\n",
       "</table>\n"
      ],
      "text/latex": [
       "A data.frame: 1 × 3\n",
       "\\begin{tabular}{r|lll}\n",
       "  & country & year & gdp\\_pc\\\\\n",
       "  & <chr> & <dbl> & <dbl>\\\\\n",
       "\\hline\n",
       "\t5 & China & 1995 & 8996\\\\\n",
       "\\end{tabular}\n"
      ],
      "text/markdown": [
       "\n",
       "A data.frame: 1 × 3\n",
       "\n",
       "| <!--/--> | country &lt;chr&gt; | year &lt;dbl&gt; | gdp_pc &lt;dbl&gt; |\n",
       "|---|---|---|---|\n",
       "| 5 | China | 1995 | 8996 |\n",
       "\n"
      ],
      "text/plain": [
       "  country year gdp_pc\n",
       "5 China   1995 8996  "
      ]
     },
     "metadata": {},
     "output_type": "display_data"
    }
   ],
   "source": [
    "# Access entire row 5\n",
    "countries[5, ]\n"
   ]
  },
  {
   "cell_type": "markdown",
   "id": "2a30b37a",
   "metadata": {},
   "source": [
    "In general, though, accessing columns by index tends to be dangerous. That's because if you ever modify the data you're working with in the code above where you use an index, it might cause a column to move into a different position. \n",
    "\n",
    "For this reason, it's usually better to access columns using column names. "
   ]
  },
  {
   "cell_type": "code",
   "execution_count": 17,
   "id": "46fc2bc3",
   "metadata": {
    "lines_to_next_cell": 0
   },
   "outputs": [
    {
     "data": {
      "text/html": [
       "<style>\n",
       ".list-inline {list-style: none; margin:0; padding: 0}\n",
       ".list-inline>li {display: inline-block}\n",
       ".list-inline>li:not(:last-child)::after {content: \"\\00b7\"; padding: 0 .5ex}\n",
       "</style>\n",
       "<ol class=list-inline><li>1994</li><li>1994</li><li>1994</li><li>1995</li><li>1995</li><li>1995</li><li>1996</li><li>1996</li><li>1996</li></ol>\n"
      ],
      "text/latex": [
       "\\begin{enumerate*}\n",
       "\\item 1994\n",
       "\\item 1994\n",
       "\\item 1994\n",
       "\\item 1995\n",
       "\\item 1995\n",
       "\\item 1995\n",
       "\\item 1996\n",
       "\\item 1996\n",
       "\\item 1996\n",
       "\\end{enumerate*}\n"
      ],
      "text/markdown": [
       "1. 1994\n",
       "2. 1994\n",
       "3. 1994\n",
       "4. 1995\n",
       "5. 1995\n",
       "6. 1995\n",
       "7. 1996\n",
       "8. 1996\n",
       "9. 1996\n",
       "\n",
       "\n"
      ],
      "text/plain": [
       "[1] 1994 1994 1994 1995 1995 1995 1996 1996 1996"
      ]
     },
     "metadata": {},
     "output_type": "display_data"
    },
    {
     "data": {
      "text/html": [
       "<style>\n",
       ".list-inline {list-style: none; margin:0; padding: 0}\n",
       ".list-inline>li {display: inline-block}\n",
       ".list-inline>li:not(:last-child)::after {content: \"\\00b7\"; padding: 0 .5ex}\n",
       "</style>\n",
       "<ol class=list-inline><li>1994</li><li>1994</li><li>1994</li><li>1995</li><li>1995</li><li>1995</li><li>1996</li><li>1996</li><li>1996</li></ol>\n"
      ],
      "text/latex": [
       "\\begin{enumerate*}\n",
       "\\item 1994\n",
       "\\item 1994\n",
       "\\item 1994\n",
       "\\item 1995\n",
       "\\item 1995\n",
       "\\item 1995\n",
       "\\item 1996\n",
       "\\item 1996\n",
       "\\item 1996\n",
       "\\end{enumerate*}\n"
      ],
      "text/markdown": [
       "1. 1994\n",
       "2. 1994\n",
       "3. 1994\n",
       "4. 1995\n",
       "5. 1995\n",
       "6. 1995\n",
       "7. 1996\n",
       "8. 1996\n",
       "9. 1996\n",
       "\n",
       "\n"
      ],
      "text/plain": [
       "[1] 1994 1994 1994 1995 1995 1995 1996 1996 1996"
      ]
     },
     "metadata": {},
     "output_type": "display_data"
    }
   ],
   "source": [
    "# Access a column using column/variable name (two equivalent approaches)\n",
    "countries$year\n",
    "countries[, \"year\"]"
   ]
  },
  {
   "cell_type": "markdown",
   "id": "cb860f46",
   "metadata": {},
   "source": [
    "Note that when we're accessing a column this way, it's just a vector\n",
    "and all the things we've learned about [vectors](../vectors) apply.\n",
    "For example:"
   ]
  },
  {
   "cell_type": "code",
   "execution_count": 18,
   "id": "7abc6db4",
   "metadata": {},
   "outputs": [
    {
     "data": {
      "text/html": [
       "9126.55555555555"
      ],
      "text/latex": [
       "9126.55555555555"
      ],
      "text/markdown": [
       "9126.55555555555"
      ],
      "text/plain": [
       "[1] 9126.556"
      ]
     },
     "metadata": {},
     "output_type": "display_data"
    }
   ],
   "source": [
    "# Get mean gdp per cap\n",
    "mean(countries$gdp_pc)"
   ]
  },
  {
   "cell_type": "markdown",
   "id": "2441c2d5",
   "metadata": {},
   "source": [
    "Similarly, to access rows, it's best to use a logical statement:"
   ]
  },
  {
   "cell_type": "code",
   "execution_count": 19,
   "id": "1cb879f1",
   "metadata": {
    "lines_to_next_cell": 0
   },
   "outputs": [
    {
     "data": {
      "text/html": [
       "<table class=\"dataframe\">\n",
       "<caption>A data.frame: 1 × 3</caption>\n",
       "<thead>\n",
       "\t<tr><th></th><th scope=col>country</th><th scope=col>year</th><th scope=col>gdp_pc</th></tr>\n",
       "\t<tr><th></th><th scope=col>&lt;chr&gt;</th><th scope=col>&lt;dbl&gt;</th><th scope=col>&lt;dbl&gt;</th></tr>\n",
       "</thead>\n",
       "<tbody>\n",
       "\t<tr><th scope=row>4</th><td>USA</td><td>1995</td><td>7282</td></tr>\n",
       "</tbody>\n",
       "</table>\n"
      ],
      "text/latex": [
       "A data.frame: 1 × 3\n",
       "\\begin{tabular}{r|lll}\n",
       "  & country & year & gdp\\_pc\\\\\n",
       "  & <chr> & <dbl> & <dbl>\\\\\n",
       "\\hline\n",
       "\t4 & USA & 1995 & 7282\\\\\n",
       "\\end{tabular}\n"
      ],
      "text/markdown": [
       "\n",
       "A data.frame: 1 × 3\n",
       "\n",
       "| <!--/--> | country &lt;chr&gt; | year &lt;dbl&gt; | gdp_pc &lt;dbl&gt; |\n",
       "|---|---|---|---|\n",
       "| 4 | USA | 1995 | 7282 |\n",
       "\n"
      ],
      "text/plain": [
       "  country year gdp_pc\n",
       "4 USA     1995 7282  "
      ]
     },
     "metadata": {},
     "output_type": "display_data"
    }
   ],
   "source": [
    "countries[countries$year == 1995 & countries$country == \"USA\", ]"
   ]
  },
  {
   "cell_type": "markdown",
   "id": "71b0b2e7",
   "metadata": {},
   "source": [
    "## Reading data \n"
   ]
  },
  {
   "cell_type": "markdown",
   "id": "329dba0a",
   "metadata": {},
   "source": [
    "Note: In this section we'll move from toy datasets to REAL DATA!\n",
    "\n",
    "In particular, we'll be working with `world-small.csv`, which you can download [here](data/world-small.csv).\n",
    "\n",
    "So far we've created datasets ourselves. Oftentimes, however, we'll want to read a dataset into R from file. Datasets come in many formats --- e.g., .csv, .txt, .dta, and .RData. R can read most data formats as is, either directly or using a library like `foreign`. For now, we'll assume that the file is in a readable format.\n",
    "\n",
    "To read a file you need to:\n",
    "\n",
    "1. Specify where the file is located on your computer. This is referred to as setting your working directory. \n",
    "2. Execute a command that will read the file from your working directory. "
   ]
  },
  {
   "cell_type": "markdown",
   "id": "90ce990f",
   "metadata": {},
   "source": [
    "### File Paths and Working Directories\n",
    "\n",
    "A key concept in R is the idea of a \"working directory\". The working directory is the location in your file system that R thinks of as being \"open\". That means that if you save a file with `write.csv(\"my_data.csv\")`, the file `my_data.csv` will be saved to your working directory. Similarly, if you open a file with `read.csv(\"world-small.csv\")`, R will look in your working directory to try to find a file called \"world-small.csv\" to try to load.\n",
    "\n",
    "To see the current working directory of your R session, run `getwd()`. On my system (a mac), this looks like:"
   ]
  },
  {
   "cell_type": "code",
   "execution_count": 20,
   "id": "c9efca0d",
   "metadata": {},
   "outputs": [
    {
     "data": {
      "text/html": [
       "'/Users/Nick/github/computational_methods_boot_camp/source'"
      ],
      "text/latex": [
       "'/Users/Nick/github/computational\\_methods\\_boot\\_camp/source'"
      ],
      "text/markdown": [
       "'/Users/Nick/github/computational_methods_boot_camp/source'"
      ],
      "text/plain": [
       "[1] \"/Users/Nick/github/computational_methods_boot_camp/source\""
      ]
     },
     "metadata": {},
     "output_type": "display_data"
    }
   ],
   "source": [
    "getwd()"
   ]
  },
  {
   "cell_type": "markdown",
   "id": "674abba6",
   "metadata": {},
   "source": [
    "To change your working directory, you can use the command `setwd(\"[new working directory]\")`. For example, if I wanted to move my working directory to my desktop, I'd type:"
   ]
  },
  {
   "cell_type": "code",
   "execution_count": 21,
   "id": "07cb3aad",
   "metadata": {},
   "outputs": [],
   "source": [
    "setwd(\"/users/nick/downloads\")"
   ]
  },
  {
   "cell_type": "markdown",
   "id": "bf9fa058",
   "metadata": {},
   "source": [
    "And if you want to see what's in your working directory (as a sanity check to ensure you're in the right place), run `dir()`:"
   ]
  },
  {
   "cell_type": "code",
   "execution_count": 26,
   "id": "a771dd74",
   "metadata": {},
   "outputs": [
    {
     "data": {
      "text/html": [
       "<style>\n",
       ".list-inline {list-style: none; margin:0; padding: 0}\n",
       ".list-inline>li {display: inline-block}\n",
       ".list-inline>li:not(:last-child)::after {content: \"\\00b7\"; padding: 0 .5ex}\n",
       "</style>\n",
       "<ol class=list-inline><li>'Frank_All_v97.csv'</li><li>'RatesDeaths_AllIndicators.xlsx'</li><li>'State_FIPS.csv'</li><li>'anes-1948-2012.zip'</li><li>'democracy.csv'</li><li>'gdp.csv'</li><li>'nyc-311-sample'</li><li>'nyc-311-sample.zip'</li><li>'region.csv'</li><li>'states.csv'</li><li>'states_codebook.csv'</li><li>'unicef-all.csv'</li><li>'unicef-u5mr.csv'</li><li>'world-small.csv'</li></ol>\n"
      ],
      "text/latex": [
       "\\begin{enumerate*}\n",
       "\\item 'Frank\\_All\\_v97.csv'\n",
       "\\item 'RatesDeaths\\_AllIndicators.xlsx'\n",
       "\\item 'State\\_FIPS.csv'\n",
       "\\item 'anes-1948-2012.zip'\n",
       "\\item 'democracy.csv'\n",
       "\\item 'gdp.csv'\n",
       "\\item 'nyc-311-sample'\n",
       "\\item 'nyc-311-sample.zip'\n",
       "\\item 'region.csv'\n",
       "\\item 'states.csv'\n",
       "\\item 'states\\_codebook.csv'\n",
       "\\item 'unicef-all.csv'\n",
       "\\item 'unicef-u5mr.csv'\n",
       "\\item 'world-small.csv'\n",
       "\\end{enumerate*}\n"
      ],
      "text/markdown": [
       "1. 'Frank_All_v97.csv'\n",
       "2. 'RatesDeaths_AllIndicators.xlsx'\n",
       "3. 'State_FIPS.csv'\n",
       "4. 'anes-1948-2012.zip'\n",
       "5. 'democracy.csv'\n",
       "6. 'gdp.csv'\n",
       "7. 'nyc-311-sample'\n",
       "8. 'nyc-311-sample.zip'\n",
       "9. 'region.csv'\n",
       "10. 'states.csv'\n",
       "11. 'states_codebook.csv'\n",
       "12. 'unicef-all.csv'\n",
       "13. 'unicef-u5mr.csv'\n",
       "14. 'world-small.csv'\n",
       "\n",
       "\n"
      ],
      "text/plain": [
       " [1] \"Frank_All_v97.csv\"              \"RatesDeaths_AllIndicators.xlsx\"\n",
       " [3] \"State_FIPS.csv\"                 \"anes-1948-2012.zip\"            \n",
       " [5] \"democracy.csv\"                  \"gdp.csv\"                       \n",
       " [7] \"nyc-311-sample\"                 \"nyc-311-sample.zip\"            \n",
       " [9] \"region.csv\"                     \"states.csv\"                    \n",
       "[11] \"states_codebook.csv\"            \"unicef-all.csv\"                \n",
       "[13] \"unicef-u5mr.csv\"                \"world-small.csv\"               "
      ]
     },
     "metadata": {},
     "output_type": "display_data"
    }
   ],
   "source": [
    "setwd(\"/Users/Nick/github/computational_methods_boot_camp/source/data\")\n",
    "dir()"
   ]
  },
  {
   "cell_type": "markdown",
   "id": "f1e654ed",
   "metadata": {},
   "source": [
    "Note that file paths (the way we specify a working directory) will look very different on Windows! On a mac, this kind of path always starts with a `/`. On Windows, it will start with something like `C:/` (e.g. my downloads folder is at `\"C:/Users/Nick/Downloads\"`).\n",
    "\n",
    "If you can't figure out the path to a file to the folder you need to access, however, in RStudio you can also set the working directory by going to the `Session` menu, going to `Set Working Directory`, and `Choose Directory...`. That will insert the correct path into the `setwd()` function in your console. \n",
    "\n",
    "(On Macs, that path will often start with `~/`, which is a shorthand on Macs for your user directory, and is the same as `/users/[your user name]/`)."
   ]
  },
  {
   "cell_type": "markdown",
   "id": "0cf3a867",
   "metadata": {},
   "source": [
    "Reading the file \n",
    "----------------------\n",
    "\n",
    "Now that we've told R where to look for our file, it's time to read\n",
    "it. Different commands are used to read different types of files. This\n",
    "is the syntax used for reading a .csv file:"
   ]
  },
  {
   "cell_type": "code",
   "execution_count": 27,
   "id": "e90b0125",
   "metadata": {
    "tags": [
     "remove_input"
    ]
   },
   "outputs": [],
   "source": [
    "world <- read.csv(\"world-small.csv\")"
   ]
  },
  {
   "cell_type": "markdown",
   "id": "f778c0b7",
   "metadata": {},
   "source": [
    "I'm reading the file from the working directory and assigning it\n",
    "to the object `world`, which becomes of class `data.frame`. "
   ]
  },
  {
   "cell_type": "code",
   "execution_count": 28,
   "id": "b20dba07",
   "metadata": {},
   "outputs": [
    {
     "data": {
      "text/html": [
       "'data.frame'"
      ],
      "text/latex": [
       "'data.frame'"
      ],
      "text/markdown": [
       "'data.frame'"
      ],
      "text/plain": [
       "[1] \"data.frame\""
      ]
     },
     "metadata": {},
     "output_type": "display_data"
    }
   ],
   "source": [
    "class(world)"
   ]
  },
  {
   "cell_type": "markdown",
   "id": "8d032208",
   "metadata": {},
   "source": [
    "Let's check if the file was read correctly, using `dim()`\n",
    "(returns the dimensions), `head()` (returns the top six rows),\n",
    "and `summary()` (returns summary information about each variable):"
   ]
  },
  {
   "cell_type": "code",
   "execution_count": 29,
   "id": "4dd1459d",
   "metadata": {},
   "outputs": [
    {
     "data": {
      "text/html": [
       "<style>\n",
       ".list-inline {list-style: none; margin:0; padding: 0}\n",
       ".list-inline>li {display: inline-block}\n",
       ".list-inline>li:not(:last-child)::after {content: \"\\00b7\"; padding: 0 .5ex}\n",
       "</style>\n",
       "<ol class=list-inline><li>145</li><li>4</li></ol>\n"
      ],
      "text/latex": [
       "\\begin{enumerate*}\n",
       "\\item 145\n",
       "\\item 4\n",
       "\\end{enumerate*}\n"
      ],
      "text/markdown": [
       "1. 145\n",
       "2. 4\n",
       "\n",
       "\n"
      ],
      "text/plain": [
       "[1] 145   4"
      ]
     },
     "metadata": {},
     "output_type": "display_data"
    }
   ],
   "source": [
    "dim(world) #the number of rows and columns "
   ]
  },
  {
   "cell_type": "code",
   "execution_count": 30,
   "id": "f42f68fc",
   "metadata": {},
   "outputs": [
    {
     "data": {
      "text/html": [
       "<table class=\"dataframe\">\n",
       "<caption>A data.frame: 6 × 4</caption>\n",
       "<thead>\n",
       "\t<tr><th></th><th scope=col>country</th><th scope=col>region</th><th scope=col>gdppcap08</th><th scope=col>polityIV</th></tr>\n",
       "\t<tr><th></th><th scope=col>&lt;chr&gt;</th><th scope=col>&lt;chr&gt;</th><th scope=col>&lt;int&gt;</th><th scope=col>&lt;dbl&gt;</th></tr>\n",
       "</thead>\n",
       "<tbody>\n",
       "\t<tr><th scope=row>1</th><td><span style=white-space:pre-wrap>Albania  </span></td><td><span style=white-space:pre-wrap>C&amp;E Europe  </span></td><td> 7715</td><td>17.8</td></tr>\n",
       "\t<tr><th scope=row>2</th><td>Algeria  </td><td>Africa      </td><td> 8033</td><td>10.0</td></tr>\n",
       "\t<tr><th scope=row>3</th><td>Angola   </td><td>Africa      </td><td> 5899</td><td> 8.0</td></tr>\n",
       "\t<tr><th scope=row>4</th><td>Argentina</td><td>S. America  </td><td>14333</td><td>18.0</td></tr>\n",
       "\t<tr><th scope=row>5</th><td><span style=white-space:pre-wrap>Armenia  </span></td><td><span style=white-space:pre-wrap>C&amp;E Europe  </span></td><td> 6070</td><td>15.0</td></tr>\n",
       "\t<tr><th scope=row>6</th><td>Australia</td><td>Asia-Pacific</td><td>35677</td><td>20.0</td></tr>\n",
       "</tbody>\n",
       "</table>\n"
      ],
      "text/latex": [
       "A data.frame: 6 × 4\n",
       "\\begin{tabular}{r|llll}\n",
       "  & country & region & gdppcap08 & polityIV\\\\\n",
       "  & <chr> & <chr> & <int> & <dbl>\\\\\n",
       "\\hline\n",
       "\t1 & Albania   & C\\&E Europe   &  7715 & 17.8\\\\\n",
       "\t2 & Algeria   & Africa       &  8033 & 10.0\\\\\n",
       "\t3 & Angola    & Africa       &  5899 &  8.0\\\\\n",
       "\t4 & Argentina & S. America   & 14333 & 18.0\\\\\n",
       "\t5 & Armenia   & C\\&E Europe   &  6070 & 15.0\\\\\n",
       "\t6 & Australia & Asia-Pacific & 35677 & 20.0\\\\\n",
       "\\end{tabular}\n"
      ],
      "text/markdown": [
       "\n",
       "A data.frame: 6 × 4\n",
       "\n",
       "| <!--/--> | country &lt;chr&gt; | region &lt;chr&gt; | gdppcap08 &lt;int&gt; | polityIV &lt;dbl&gt; |\n",
       "|---|---|---|---|---|\n",
       "| 1 | Albania   | C&amp;E Europe   |  7715 | 17.8 |\n",
       "| 2 | Algeria   | Africa       |  8033 | 10.0 |\n",
       "| 3 | Angola    | Africa       |  5899 |  8.0 |\n",
       "| 4 | Argentina | S. America   | 14333 | 18.0 |\n",
       "| 5 | Armenia   | C&amp;E Europe   |  6070 | 15.0 |\n",
       "| 6 | Australia | Asia-Pacific | 35677 | 20.0 |\n",
       "\n"
      ],
      "text/plain": [
       "  country   region       gdppcap08 polityIV\n",
       "1 Albania   C&E Europe    7715     17.8    \n",
       "2 Algeria   Africa        8033     10.0    \n",
       "3 Angola    Africa        5899      8.0    \n",
       "4 Argentina S. America   14333     18.0    \n",
       "5 Armenia   C&E Europe    6070     15.0    \n",
       "6 Australia Asia-Pacific 35677     20.0    "
      ]
     },
     "metadata": {},
     "output_type": "display_data"
    }
   ],
   "source": [
    "head(world) #the first few rows of the dataset"
   ]
  },
  {
   "cell_type": "code",
   "execution_count": 31,
   "id": "1c852ee7",
   "metadata": {},
   "outputs": [
    {
     "data": {
      "text/plain": [
       "   country             region            gdppcap08        polityIV     \n",
       " Length:145         Length:145         Min.   :  188   Min.   : 0.000  \n",
       " Class :character   Class :character   1st Qu.: 2153   1st Qu.: 7.667  \n",
       " Mode  :character   Mode  :character   Median : 7271   Median :16.000  \n",
       "                                       Mean   :13252   Mean   :13.408  \n",
       "                                       3rd Qu.:19330   3rd Qu.:19.000  \n",
       "                                       Max.   :85868   Max.   :20.000  "
      ]
     },
     "metadata": {},
     "output_type": "display_data"
    }
   ],
   "source": [
    "summary(world) #a summary of the variables in the dataset"
   ]
  },
  {
   "cell_type": "markdown",
   "id": "4194bb3c",
   "metadata": {},
   "source": [
    "Everything looks as we would have hoped."
   ]
  },
  {
   "cell_type": "markdown",
   "id": "69068a22",
   "metadata": {},
   "source": [
    "## Exercises\n",
    "\n",
    "\n",
    "1. Read the `world-small.csv` data into R and store it in an object\n",
    "called `world`. (Set your working directory using code first.) \n",
    "\n",
    "2. (Conceptual) What is the unit of analysis in the dataset? What's the name\n",
    "of the dataset's id variable?\n",
    "\n",
    "3. How many observations does `world` have? How many variables? Use an R\n",
    "command to find out.\n",
    "\n",
    "4. Use brackets and a logical statement to inspect all the values for\n",
    "   Nigeria and United States. That is, your code should return two\n",
    "   entire rows of the dataset. \n",
    "\n",
    "5. Use R to return China's Polity IV score. As in question 4, use a logical\n",
    "statement and brackets, but don't return the entire row. Rather, return a single\n",
    "value with the Polity IV score.\n",
    "\n",
    "6. What is the lowest GDP per capita in the dataset? (Use R to return only the value.)\n",
    "\n",
    "7. What country has the lowest GDP per capita? (Your code should\n",
    "return the country name and be general enough so that if the observations\n",
    "in the dataset --- or their order --- change, your code should still return the\n",
    "country with the lowest GDP per capita.)\n",
    "\n",
    "\n",
    "\n",
    "\n",
    "\n"
   ]
  },
  {
   "cell_type": "markdown",
   "id": "7109998e",
   "metadata": {},
   "source": []
  }
 ],
 "metadata": {
  "jupytext": {
   "cell_metadata_filter": "tags,eval,-all",
   "main_language": "R",
   "notebook_metadata_filter": "-all"
  },
  "kernelspec": {
   "display_name": "R",
   "language": "R",
   "name": "ir"
  },
  "language_info": {
   "codemirror_mode": "r",
   "file_extension": ".r",
   "mimetype": "text/x-r-source",
   "name": "R",
   "pygments_lexer": "r",
   "version": "4.1.0"
  }
 },
 "nbformat": 4,
 "nbformat_minor": 5
}
