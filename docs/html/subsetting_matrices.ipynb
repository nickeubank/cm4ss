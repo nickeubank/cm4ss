{
 "cells": [
  {
   "cell_type": "markdown",
   "metadata": {},
   "source": [
    "# Subsetting Matrices, Arrays\n",
    "\n"
   ]
  },
  {
   "cell_type": "markdown",
   "metadata": {},
   "source": [
    "The great thing about matrices is that since they are just generalizations of vectors from one dimension to two, subsetting matrices works *almost* the same way it works with vectors. Basically, instead of subsetting by passing an index or a logical array into a set of square brackets (e.g. `[1]`), we just put a comma in those square brackets and specify a location with *two* indices / logical arrays (e.g. `[1,1]`)."
   ]
  },
  {
   "cell_type": "markdown",
   "metadata": {},
   "source": [
    "## Subsetting by Index\n",
    "\n",
    "Suppose we have the following matrix:"
   ]
  },
  {
   "cell_type": "code",
   "execution_count": 2,
   "metadata": {},
   "outputs": [
    {
     "data": {
      "text/html": [
       "<table class=\"dataframe\">\n",
       "<caption>A matrix: 3 × 4 of type int</caption>\n",
       "<tbody>\n",
       "\t<tr><td>1</td><td>4</td><td>7</td><td>10</td></tr>\n",
       "\t<tr><td>2</td><td>5</td><td>8</td><td>11</td></tr>\n",
       "\t<tr><td>3</td><td>6</td><td>9</td><td>12</td></tr>\n",
       "</tbody>\n",
       "</table>\n"
      ],
      "text/latex": [
       "A matrix: 3 × 4 of type int\n",
       "\\begin{tabular}{llll}\n",
       "\t 1 & 4 & 7 & 10\\\\\n",
       "\t 2 & 5 & 8 & 11\\\\\n",
       "\t 3 & 6 & 9 & 12\\\\\n",
       "\\end{tabular}\n"
      ],
      "text/markdown": [
       "\n",
       "A matrix: 3 × 4 of type int\n",
       "\n",
       "| 1 | 4 | 7 | 10 |\n",
       "| 2 | 5 | 8 | 11 |\n",
       "| 3 | 6 | 9 | 12 |\n",
       "\n"
      ],
      "text/plain": [
       "     [,1] [,2] [,3] [,4]\n",
       "[1,] 1    4    7    10  \n",
       "[2,] 2    5    8    11  \n",
       "[3,] 3    6    9    12  "
      ]
     },
     "metadata": {},
     "output_type": "display_data"
    }
   ],
   "source": [
    "our_matrix = matrix(1:12, nrow=3, ncol=4)\n",
    "our_matrix"
   ]
  },
  {
   "cell_type": "markdown",
   "metadata": {},
   "source": [
    "To subset, we just pass a location along the x-axis (rows) and a location along the y-axis (columns). For example, if we wanted the entry from the second row and third column, we'd type:"
   ]
  },
  {
   "cell_type": "code",
   "execution_count": 3,
   "metadata": {},
   "outputs": [
    {
     "data": {
      "text/html": [
       "8"
      ],
      "text/latex": [
       "8"
      ],
      "text/markdown": [
       "8"
      ],
      "text/plain": [
       "[1] 8"
      ]
     },
     "metadata": {},
     "output_type": "display_data"
    }
   ],
   "source": [
    "our_matrix[2, 3]"
   ]
  },
  {
   "cell_type": "markdown",
   "metadata": {},
   "source": [
    "The one new thing is that if you want ALL entries along a specific dimension, you still put in a comma, but you leave the entry blank for the dimension on which you want all observations. So if I wanted to second row, I'd just type:"
   ]
  },
  {
   "cell_type": "code",
   "execution_count": 4,
   "metadata": {},
   "outputs": [
    {
     "data": {
      "text/html": [
       "<style>\n",
       ".list-inline {list-style: none; margin:0; padding: 0}\n",
       ".list-inline>li {display: inline-block}\n",
       ".list-inline>li:not(:last-child)::after {content: \"\\00b7\"; padding: 0 .5ex}\n",
       "</style>\n",
       "<ol class=list-inline><li>2</li><li>5</li><li>8</li><li>11</li></ol>\n"
      ],
      "text/latex": [
       "\\begin{enumerate*}\n",
       "\\item 2\n",
       "\\item 5\n",
       "\\item 8\n",
       "\\item 11\n",
       "\\end{enumerate*}\n"
      ],
      "text/markdown": [
       "1. 2\n",
       "2. 5\n",
       "3. 8\n",
       "4. 11\n",
       "\n",
       "\n"
      ],
      "text/plain": [
       "[1]  2  5  8 11"
      ]
     },
     "metadata": {},
     "output_type": "display_data"
    }
   ],
   "source": [
    "our_matrix[2,]"
   ]
  },
  {
   "cell_type": "markdown",
   "metadata": {},
   "source": [
    "Or if I wanted the third column, I'd type:"
   ]
  },
  {
   "cell_type": "code",
   "execution_count": 5,
   "metadata": {},
   "outputs": [
    {
     "data": {
      "text/html": [
       "<style>\n",
       ".list-inline {list-style: none; margin:0; padding: 0}\n",
       ".list-inline>li {display: inline-block}\n",
       ".list-inline>li:not(:last-child)::after {content: \"\\00b7\"; padding: 0 .5ex}\n",
       "</style>\n",
       "<ol class=list-inline><li>7</li><li>8</li><li>9</li></ol>\n"
      ],
      "text/latex": [
       "\\begin{enumerate*}\n",
       "\\item 7\n",
       "\\item 8\n",
       "\\item 9\n",
       "\\end{enumerate*}\n"
      ],
      "text/markdown": [
       "1. 7\n",
       "2. 8\n",
       "3. 9\n",
       "\n",
       "\n"
      ],
      "text/plain": [
       "[1] 7 8 9"
      ]
     },
     "metadata": {},
     "output_type": "display_data"
    }
   ],
   "source": [
    "our_matrix[,3]"
   ]
  },
  {
   "cell_type": "markdown",
   "metadata": {},
   "source": [
    "Note that if you pull out a subset of your matrix that is one dimensional, it just becomes a vector!"
   ]
  },
  {
   "cell_type": "code",
   "execution_count": 6,
   "metadata": {},
   "outputs": [
    {
     "data": {
      "text/html": [
       "<style>\n",
       ".list-inline {list-style: none; margin:0; padding: 0}\n",
       ".list-inline>li {display: inline-block}\n",
       ".list-inline>li:not(:last-child)::after {content: \"\\00b7\"; padding: 0 .5ex}\n",
       "</style>\n",
       "<ol class=list-inline><li>'matrix'</li><li>'array'</li></ol>\n"
      ],
      "text/latex": [
       "\\begin{enumerate*}\n",
       "\\item 'matrix'\n",
       "\\item 'array'\n",
       "\\end{enumerate*}\n"
      ],
      "text/markdown": [
       "1. 'matrix'\n",
       "2. 'array'\n",
       "\n",
       "\n"
      ],
      "text/plain": [
       "[1] \"matrix\" \"array\" "
      ]
     },
     "metadata": {},
     "output_type": "display_data"
    }
   ],
   "source": [
    "class(our_matrix)"
   ]
  },
  {
   "cell_type": "code",
   "execution_count": 7,
   "metadata": {},
   "outputs": [
    {
     "data": {
      "text/html": [
       "'integer'"
      ],
      "text/latex": [
       "'integer'"
      ],
      "text/markdown": [
       "'integer'"
      ],
      "text/plain": [
       "[1] \"integer\""
      ]
     },
     "metadata": {},
     "output_type": "display_data"
    }
   ],
   "source": [
    "class(our_matrix[1,])"
   ]
  },
  {
   "cell_type": "markdown",
   "metadata": {},
   "source": [
    "Finally, just like with vectors, we can subset with vectors if we want:"
   ]
  },
  {
   "cell_type": "code",
   "execution_count": 8,
   "metadata": {},
   "outputs": [
    {
     "data": {
      "text/html": [
       "<table class=\"dataframe\">\n",
       "<caption>A matrix: 2 × 2 of type int</caption>\n",
       "<tbody>\n",
       "\t<tr><td>7</td><td>10</td></tr>\n",
       "\t<tr><td>8</td><td>11</td></tr>\n",
       "</tbody>\n",
       "</table>\n"
      ],
      "text/latex": [
       "A matrix: 2 × 2 of type int\n",
       "\\begin{tabular}{ll}\n",
       "\t 7 & 10\\\\\n",
       "\t 8 & 11\\\\\n",
       "\\end{tabular}\n"
      ],
      "text/markdown": [
       "\n",
       "A matrix: 2 × 2 of type int\n",
       "\n",
       "| 7 | 10 |\n",
       "| 8 | 11 |\n",
       "\n"
      ],
      "text/plain": [
       "     [,1] [,2]\n",
       "[1,] 7    10  \n",
       "[2,] 8    11  "
      ]
     },
     "metadata": {},
     "output_type": "display_data"
    }
   ],
   "source": [
    "our_matrix[1:2, 3:4]"
   ]
  },
  {
   "cell_type": "markdown",
   "metadata": {},
   "source": [
    "## Subsetting with Logicals\n",
    "\n",
    "Subsetting with logical vectors also generalizes from vectors to matrices in the same way. To illustrate, let's go back to our toy matrix of survey respondenses:"
   ]
  },
  {
   "cell_type": "code",
   "execution_count": 9,
   "metadata": {},
   "outputs": [
    {
     "data": {
      "text/html": [
       "<table class=\"dataframe\">\n",
       "<caption>A matrix: 3 × 3 of type dbl</caption>\n",
       "<thead>\n",
       "\t<tr><th scope=col>income</th><th scope=col>age</th><th scope=col>education</th></tr>\n",
       "</thead>\n",
       "<tbody>\n",
       "\t<tr><td>22000</td><td>20</td><td>12</td></tr>\n",
       "\t<tr><td>75000</td><td>35</td><td>16</td></tr>\n",
       "\t<tr><td>19000</td><td>55</td><td>11</td></tr>\n",
       "</tbody>\n",
       "</table>\n"
      ],
      "text/latex": [
       "A matrix: 3 × 3 of type dbl\n",
       "\\begin{tabular}{lll}\n",
       " income & age & education\\\\\n",
       "\\hline\n",
       "\t 22000 & 20 & 12\\\\\n",
       "\t 75000 & 35 & 16\\\\\n",
       "\t 19000 & 55 & 11\\\\\n",
       "\\end{tabular}\n"
      ],
      "text/markdown": [
       "\n",
       "A matrix: 3 × 3 of type dbl\n",
       "\n",
       "| income | age | education |\n",
       "|---|---|---|\n",
       "| 22000 | 20 | 12 |\n",
       "| 75000 | 35 | 16 |\n",
       "| 19000 | 55 | 11 |\n",
       "\n"
      ],
      "text/plain": [
       "     income age education\n",
       "[1,] 22000  20  12       \n",
       "[2,] 75000  35  16       \n",
       "[3,] 19000  55  11       "
      ]
     },
     "metadata": {},
     "output_type": "display_data"
    }
   ],
   "source": [
    "income <- c(22000, 75000, 19000)\n",
    "age <- c(20, 35, 55)\n",
    "education <- c(12, 16, 11)\n",
    "\n",
    "survey <- cbind(income, age, education)\n",
    "survey"
   ]
  },
  {
   "cell_type": "markdown",
   "metadata": {},
   "source": [
    "If we wanted to select all the rows where income was less than the US median income (about 65,000), we would first extract the income column, then create a logical column that's `TRUE` if income is below 65,000, then put that in the first position of our square brackets:"
   ]
  },
  {
   "cell_type": "code",
   "execution_count": 10,
   "metadata": {},
   "outputs": [
    {
     "data": {
      "text/html": [
       "<style>\n",
       ".list-inline {list-style: none; margin:0; padding: 0}\n",
       ".list-inline>li {display: inline-block}\n",
       ".list-inline>li:not(:last-child)::after {content: \"\\00b7\"; padding: 0 .5ex}\n",
       "</style>\n",
       "<ol class=list-inline><li>22000</li><li>75000</li><li>19000</li></ol>\n"
      ],
      "text/latex": [
       "\\begin{enumerate*}\n",
       "\\item 22000\n",
       "\\item 75000\n",
       "\\item 19000\n",
       "\\end{enumerate*}\n"
      ],
      "text/markdown": [
       "1. 22000\n",
       "2. 75000\n",
       "3. 19000\n",
       "\n",
       "\n"
      ],
      "text/plain": [
       "[1] 22000 75000 19000"
      ]
     },
     "metadata": {},
     "output_type": "display_data"
    }
   ],
   "source": [
    "income = survey[,1]\n",
    "income"
   ]
  },
  {
   "cell_type": "code",
   "execution_count": 11,
   "metadata": {},
   "outputs": [
    {
     "data": {
      "text/html": [
       "<style>\n",
       ".list-inline {list-style: none; margin:0; padding: 0}\n",
       ".list-inline>li {display: inline-block}\n",
       ".list-inline>li:not(:last-child)::after {content: \"\\00b7\"; padding: 0 .5ex}\n",
       "</style>\n",
       "<ol class=list-inline><li>TRUE</li><li>FALSE</li><li>TRUE</li></ol>\n"
      ],
      "text/latex": [
       "\\begin{enumerate*}\n",
       "\\item TRUE\n",
       "\\item FALSE\n",
       "\\item TRUE\n",
       "\\end{enumerate*}\n"
      ],
      "text/markdown": [
       "1. TRUE\n",
       "2. FALSE\n",
       "3. TRUE\n",
       "\n",
       "\n"
      ],
      "text/plain": [
       "[1]  TRUE FALSE  TRUE"
      ]
     },
     "metadata": {},
     "output_type": "display_data"
    }
   ],
   "source": [
    "below_median = income < 65000\n",
    "below_median"
   ]
  },
  {
   "cell_type": "code",
   "execution_count": 12,
   "metadata": {},
   "outputs": [
    {
     "data": {
      "text/html": [
       "<table class=\"dataframe\">\n",
       "<caption>A matrix: 2 × 3 of type dbl</caption>\n",
       "<thead>\n",
       "\t<tr><th scope=col>income</th><th scope=col>age</th><th scope=col>education</th></tr>\n",
       "</thead>\n",
       "<tbody>\n",
       "\t<tr><td>22000</td><td>20</td><td>12</td></tr>\n",
       "\t<tr><td>19000</td><td>55</td><td>11</td></tr>\n",
       "</tbody>\n",
       "</table>\n"
      ],
      "text/latex": [
       "A matrix: 2 × 3 of type dbl\n",
       "\\begin{tabular}{lll}\n",
       " income & age & education\\\\\n",
       "\\hline\n",
       "\t 22000 & 20 & 12\\\\\n",
       "\t 19000 & 55 & 11\\\\\n",
       "\\end{tabular}\n"
      ],
      "text/markdown": [
       "\n",
       "A matrix: 2 × 3 of type dbl\n",
       "\n",
       "| income | age | education |\n",
       "|---|---|---|\n",
       "| 22000 | 20 | 12 |\n",
       "| 19000 | 55 | 11 |\n",
       "\n"
      ],
      "text/plain": [
       "     income age education\n",
       "[1,] 22000  20  12       \n",
       "[2,] 19000  55  11       "
      ]
     },
     "metadata": {},
     "output_type": "display_data"
    }
   ],
   "source": [
    "survey[below_median,]"
   ]
  },
  {
   "cell_type": "markdown",
   "metadata": {},
   "source": [
    "Or, of course, we could do that all in one line instead of breaking out the steps:"
   ]
  },
  {
   "cell_type": "code",
   "execution_count": 13,
   "metadata": {},
   "outputs": [
    {
     "data": {
      "text/html": [
       "<table class=\"dataframe\">\n",
       "<caption>A matrix: 2 × 3 of type dbl</caption>\n",
       "<thead>\n",
       "\t<tr><th scope=col>income</th><th scope=col>age</th><th scope=col>education</th></tr>\n",
       "</thead>\n",
       "<tbody>\n",
       "\t<tr><td>22000</td><td>20</td><td>12</td></tr>\n",
       "\t<tr><td>19000</td><td>55</td><td>11</td></tr>\n",
       "</tbody>\n",
       "</table>\n"
      ],
      "text/latex": [
       "A matrix: 2 × 3 of type dbl\n",
       "\\begin{tabular}{lll}\n",
       " income & age & education\\\\\n",
       "\\hline\n",
       "\t 22000 & 20 & 12\\\\\n",
       "\t 19000 & 55 & 11\\\\\n",
       "\\end{tabular}\n"
      ],
      "text/markdown": [
       "\n",
       "A matrix: 2 × 3 of type dbl\n",
       "\n",
       "| income | age | education |\n",
       "|---|---|---|\n",
       "| 22000 | 20 | 12 |\n",
       "| 19000 | 55 | 11 |\n",
       "\n"
      ],
      "text/plain": [
       "     income age education\n",
       "[1,] 22000  20  12       \n",
       "[2,] 19000  55  11       "
      ]
     },
     "metadata": {},
     "output_type": "display_data"
    }
   ],
   "source": [
    "survey[survey[, 1] < 65000, ]"
   ]
  },
  {
   "cell_type": "markdown",
   "metadata": {},
   "source": [
    "Or, since R used the names of vectors we passed to `cbind()` as column names, we could also subset our columns by name, which makes our code a lot easier to understand:"
   ]
  },
  {
   "cell_type": "code",
   "execution_count": 14,
   "metadata": {},
   "outputs": [
    {
     "data": {
      "text/html": [
       "<table class=\"dataframe\">\n",
       "<caption>A matrix: 2 × 3 of type dbl</caption>\n",
       "<thead>\n",
       "\t<tr><th scope=col>income</th><th scope=col>age</th><th scope=col>education</th></tr>\n",
       "</thead>\n",
       "<tbody>\n",
       "\t<tr><td>22000</td><td>20</td><td>12</td></tr>\n",
       "\t<tr><td>19000</td><td>55</td><td>11</td></tr>\n",
       "</tbody>\n",
       "</table>\n"
      ],
      "text/latex": [
       "A matrix: 2 × 3 of type dbl\n",
       "\\begin{tabular}{lll}\n",
       " income & age & education\\\\\n",
       "\\hline\n",
       "\t 22000 & 20 & 12\\\\\n",
       "\t 19000 & 55 & 11\\\\\n",
       "\\end{tabular}\n"
      ],
      "text/markdown": [
       "\n",
       "A matrix: 2 × 3 of type dbl\n",
       "\n",
       "| income | age | education |\n",
       "|---|---|---|\n",
       "| 22000 | 20 | 12 |\n",
       "| 19000 | 55 | 11 |\n",
       "\n"
      ],
      "text/plain": [
       "     income age education\n",
       "[1,] 22000  20  12       \n",
       "[2,] 19000  55  11       "
      ]
     },
     "metadata": {},
     "output_type": "display_data"
    }
   ],
   "source": [
    "survey[survey[, \"income\"] < 65000, ]"
   ]
  },
  {
   "cell_type": "markdown",
   "metadata": {},
   "source": [
    "Now suppose I also wanted to subset the columns I get back at the same time. For example, suppose I wanted the education levels of everyone with incomes below the US median. I could do this in two steps by subsetting rows and then subsetting columns:"
   ]
  },
  {
   "cell_type": "code",
   "execution_count": 15,
   "metadata": {},
   "outputs": [
    {
     "data": {
      "text/html": [
       "<style>\n",
       ".list-inline {list-style: none; margin:0; padding: 0}\n",
       ".list-inline>li {display: inline-block}\n",
       ".list-inline>li:not(:last-child)::after {content: \"\\00b7\"; padding: 0 .5ex}\n",
       "</style>\n",
       "<ol class=list-inline><li>12</li><li>11</li></ol>\n"
      ],
      "text/latex": [
       "\\begin{enumerate*}\n",
       "\\item 12\n",
       "\\item 11\n",
       "\\end{enumerate*}\n"
      ],
      "text/markdown": [
       "1. 12\n",
       "2. 11\n",
       "\n",
       "\n"
      ],
      "text/plain": [
       "[1] 12 11"
      ]
     },
     "metadata": {},
     "output_type": "display_data"
    }
   ],
   "source": [
    "below_median <- survey[survey[, \"income\"] < 65000, ]\n",
    "below_median[, \"education\"]"
   ]
  },
  {
   "cell_type": "markdown",
   "metadata": {},
   "source": [
    "Or I can do it all in one command!"
   ]
  },
  {
   "cell_type": "code",
   "execution_count": 16,
   "metadata": {},
   "outputs": [
    {
     "data": {
      "text/html": [
       "<style>\n",
       ".list-inline {list-style: none; margin:0; padding: 0}\n",
       ".list-inline>li {display: inline-block}\n",
       ".list-inline>li:not(:last-child)::after {content: \"\\00b7\"; padding: 0 .5ex}\n",
       "</style>\n",
       "<ol class=list-inline><li>12</li><li>11</li></ol>\n"
      ],
      "text/latex": [
       "\\begin{enumerate*}\n",
       "\\item 12\n",
       "\\item 11\n",
       "\\end{enumerate*}\n"
      ],
      "text/markdown": [
       "1. 12\n",
       "2. 11\n",
       "\n",
       "\n"
      ],
      "text/plain": [
       "[1] 12 11"
      ]
     },
     "metadata": {},
     "output_type": "display_data"
    }
   ],
   "source": [
    "survey[survey[,\"income\"] < 65000, \"education\"]"
   ]
  },
  {
   "cell_type": "markdown",
   "metadata": {},
   "source": [
    "So what is the average education of people earning less than the median income in the US in our toy data?"
   ]
  },
  {
   "cell_type": "code",
   "execution_count": 17,
   "metadata": {},
   "outputs": [
    {
     "data": {
      "text/html": [
       "11.5"
      ],
      "text/latex": [
       "11.5"
      ],
      "text/markdown": [
       "11.5"
      ],
      "text/plain": [
       "[1] 11.5"
      ]
     },
     "metadata": {},
     "output_type": "display_data"
    }
   ],
   "source": [
    "mean(survey[survey[,\"income\"] < 65000, \"education\"])"
   ]
  },
  {
   "cell_type": "markdown",
   "metadata": {},
   "source": [
    "OK -- I know we've just covered a lot, but hopefully that example makes clear how quickly we can start doing really, really powerful analyses and answering \n",
    "substantive questions *just by subsetting our data carefully.*"
   ]
  },
  {
   "cell_type": "markdown",
   "metadata": {},
   "source": [
    "## Using Subsets to Modify Data\n",
    "\n",
    "Sometimes we want to modify a *part* of a matrix. For example, suppose we were working with our survey data, and we want to multiple all the income values by `1.02` to adjust for inflation that has occurred since the survey. Obviously, if we just multiplied the matrix by `1.02`, we'd also modify things like education and age:"
   ]
  },
  {
   "cell_type": "code",
   "execution_count": 18,
   "metadata": {},
   "outputs": [
    {
     "data": {
      "text/html": [
       "<table class=\"dataframe\">\n",
       "<caption>A matrix: 3 × 3 of type dbl</caption>\n",
       "<thead>\n",
       "\t<tr><th scope=col>income</th><th scope=col>age</th><th scope=col>education</th></tr>\n",
       "</thead>\n",
       "<tbody>\n",
       "\t<tr><td>22440</td><td>20.4</td><td>12.24</td></tr>\n",
       "\t<tr><td>76500</td><td>35.7</td><td>16.32</td></tr>\n",
       "\t<tr><td>19380</td><td>56.1</td><td>11.22</td></tr>\n",
       "</tbody>\n",
       "</table>\n"
      ],
      "text/latex": [
       "A matrix: 3 × 3 of type dbl\n",
       "\\begin{tabular}{lll}\n",
       " income & age & education\\\\\n",
       "\\hline\n",
       "\t 22440 & 20.4 & 12.24\\\\\n",
       "\t 76500 & 35.7 & 16.32\\\\\n",
       "\t 19380 & 56.1 & 11.22\\\\\n",
       "\\end{tabular}\n"
      ],
      "text/markdown": [
       "\n",
       "A matrix: 3 × 3 of type dbl\n",
       "\n",
       "| income | age | education |\n",
       "|---|---|---|\n",
       "| 22440 | 20.4 | 12.24 |\n",
       "| 76500 | 35.7 | 16.32 |\n",
       "| 19380 | 56.1 | 11.22 |\n",
       "\n"
      ],
      "text/plain": [
       "     income age  education\n",
       "[1,] 22440  20.4 12.24    \n",
       "[2,] 76500  35.7 16.32    \n",
       "[3,] 19380  56.1 11.22    "
      ]
     },
     "metadata": {},
     "output_type": "display_data"
    }
   ],
   "source": [
    "survey * 1.02"
   ]
  },
  {
   "cell_type": "markdown",
   "metadata": {},
   "source": [
    "What we can do instead is extract the column with income, modify it, then replace the old income column with our updated column:"
   ]
  },
  {
   "cell_type": "code",
   "execution_count": 26,
   "metadata": {},
   "outputs": [
    {
     "data": {
      "text/html": [
       "<table class=\"dataframe\">\n",
       "<caption>A matrix: 3 × 3 of type dbl</caption>\n",
       "<thead>\n",
       "\t<tr><th scope=col>income</th><th scope=col>age</th><th scope=col>education</th></tr>\n",
       "</thead>\n",
       "<tbody>\n",
       "\t<tr><td>22888.8</td><td>20</td><td>12</td></tr>\n",
       "\t<tr><td>78030.0</td><td>35</td><td>16</td></tr>\n",
       "\t<tr><td>19767.6</td><td>55</td><td>11</td></tr>\n",
       "</tbody>\n",
       "</table>\n"
      ],
      "text/latex": [
       "A matrix: 3 × 3 of type dbl\n",
       "\\begin{tabular}{lll}\n",
       " income & age & education\\\\\n",
       "\\hline\n",
       "\t 22888.8 & 20 & 12\\\\\n",
       "\t 78030.0 & 35 & 16\\\\\n",
       "\t 19767.6 & 55 & 11\\\\\n",
       "\\end{tabular}\n"
      ],
      "text/markdown": [
       "\n",
       "A matrix: 3 × 3 of type dbl\n",
       "\n",
       "| income | age | education |\n",
       "|---|---|---|\n",
       "| 22888.8 | 20 | 12 |\n",
       "| 78030.0 | 35 | 16 |\n",
       "| 19767.6 | 55 | 11 |\n",
       "\n"
      ],
      "text/plain": [
       "     income  age education\n",
       "[1,] 22888.8 20  12       \n",
       "[2,] 78030.0 35  16       \n",
       "[3,] 19767.6 55  11       "
      ]
     },
     "metadata": {},
     "output_type": "display_data"
    }
   ],
   "source": [
    "income_column <- survey[, \"income\"] # Extract income\n",
    "adjusted_income <- income_column * 1.02 # Adjust income\n",
    "survey[, \"income\"] <- adjusted_income # Replace income with new values!\n",
    "survey"
   ]
  },
  {
   "cell_type": "markdown",
   "metadata": {},
   "source": [
    "Or, if we wanted, we could actually do all this in one step:"
   ]
  },
  {
   "cell_type": "code",
   "execution_count": 27,
   "metadata": {},
   "outputs": [
    {
     "data": {
      "text/html": [
       "<table class=\"dataframe\">\n",
       "<caption>A matrix: 3 × 3 of type dbl</caption>\n",
       "<thead>\n",
       "\t<tr><th scope=col>income</th><th scope=col>age</th><th scope=col>education</th></tr>\n",
       "</thead>\n",
       "<tbody>\n",
       "\t<tr><td>22000</td><td>20</td><td>12</td></tr>\n",
       "\t<tr><td>75000</td><td>35</td><td>16</td></tr>\n",
       "\t<tr><td>19000</td><td>55</td><td>11</td></tr>\n",
       "</tbody>\n",
       "</table>\n"
      ],
      "text/latex": [
       "A matrix: 3 × 3 of type dbl\n",
       "\\begin{tabular}{lll}\n",
       " income & age & education\\\\\n",
       "\\hline\n",
       "\t 22000 & 20 & 12\\\\\n",
       "\t 75000 & 35 & 16\\\\\n",
       "\t 19000 & 55 & 11\\\\\n",
       "\\end{tabular}\n"
      ],
      "text/markdown": [
       "\n",
       "A matrix: 3 × 3 of type dbl\n",
       "\n",
       "| income | age | education |\n",
       "|---|---|---|\n",
       "| 22000 | 20 | 12 |\n",
       "| 75000 | 35 | 16 |\n",
       "| 19000 | 55 | 11 |\n",
       "\n"
      ],
      "text/plain": [
       "     income age education\n",
       "[1,] 22000  20  12       \n",
       "[2,] 75000  35  16       \n",
       "[3,] 19000  55  11       "
      ]
     },
     "metadata": {},
     "output_type": "display_data"
    }
   ],
   "source": [
    "# Re-make survey so it hasn't been adjusted for inflation\n",
    "income <- c(22000, 75000, 19000)\n",
    "age <- c(20, 35, 55)\n",
    "education <- c(12, 16, 11)\n",
    "survey <- cbind(income, age, education)\n",
    "survey"
   ]
  },
  {
   "cell_type": "code",
   "execution_count": 30,
   "metadata": {},
   "outputs": [
    {
     "data": {
      "text/html": [
       "<table class=\"dataframe\">\n",
       "<caption>A matrix: 3 × 3 of type dbl</caption>\n",
       "<thead>\n",
       "\t<tr><th scope=col>income</th><th scope=col>age</th><th scope=col>education</th></tr>\n",
       "</thead>\n",
       "<tbody>\n",
       "\t<tr><td>23346.58</td><td>20</td><td>12</td></tr>\n",
       "\t<tr><td>79590.60</td><td>35</td><td>16</td></tr>\n",
       "\t<tr><td>20162.95</td><td>55</td><td>11</td></tr>\n",
       "</tbody>\n",
       "</table>\n"
      ],
      "text/latex": [
       "A matrix: 3 × 3 of type dbl\n",
       "\\begin{tabular}{lll}\n",
       " income & age & education\\\\\n",
       "\\hline\n",
       "\t 23346.58 & 20 & 12\\\\\n",
       "\t 79590.60 & 35 & 16\\\\\n",
       "\t 20162.95 & 55 & 11\\\\\n",
       "\\end{tabular}\n"
      ],
      "text/markdown": [
       "\n",
       "A matrix: 3 × 3 of type dbl\n",
       "\n",
       "| income | age | education |\n",
       "|---|---|---|\n",
       "| 23346.58 | 20 | 12 |\n",
       "| 79590.60 | 35 | 16 |\n",
       "| 20162.95 | 55 | 11 |\n",
       "\n"
      ],
      "text/plain": [
       "     income   age education\n",
       "[1,] 23346.58 20  12       \n",
       "[2,] 79590.60 35  16       \n",
       "[3,] 20162.95 55  11       "
      ]
     },
     "metadata": {},
     "output_type": "display_data"
    }
   ],
   "source": [
    "# Now adjust income in one step!\n",
    "survey[, \"income\"] <- survey[, \"income\"] * 1.02\n",
    "survey"
   ]
  },
  {
   "cell_type": "markdown",
   "metadata": {},
   "source": [
    "And that's it! Now you're a matrix pro. "
   ]
  },
  {
   "cell_type": "markdown",
   "metadata": {},
   "source": [
    "## Arrays\n",
    "\n",
    "As we saw above, generalizing the way we subset vectors to subsetting matrices was quite easy -- we just subset our matrices by doing what we did with vectors, but with two terms in in our square brackets separated by a comma (e.g. `[1, 1]` instead of just `[1]`). \n",
    "\n",
    "But guess what? Just as it was easy to generalize from one dimension to two, it turns out that we can also generalize from two dimensions to N dimensions the same way! In fact, rather than thinking of vectors and matrices as to different thing, we can think of them as special cases (the case of N=1 and N=2) of a more general data structure: **Arrays**. \n",
    "\n",
    "Arrays are collections of data of the same type with a regular structure organized into N dimensions. When N=1, an array is the equivalent of a vector:"
   ]
  },
  {
   "cell_type": "code",
   "execution_count": 19,
   "metadata": {},
   "outputs": [
    {
     "data": {
      "text/html": [
       "<style>\n",
       ".list-inline {list-style: none; margin:0; padding: 0}\n",
       ".list-inline>li {display: inline-block}\n",
       ".list-inline>li:not(:last-child)::after {content: \"\\00b7\"; padding: 0 .5ex}\n",
       "</style>\n",
       "<ol class=list-inline><li>1</li><li>2</li><li>3</li><li>4</li><li>5</li><li>6</li><li>7</li><li>8</li><li>9</li></ol>\n"
      ],
      "text/latex": [
       "\\begin{enumerate*}\n",
       "\\item 1\n",
       "\\item 2\n",
       "\\item 3\n",
       "\\item 4\n",
       "\\item 5\n",
       "\\item 6\n",
       "\\item 7\n",
       "\\item 8\n",
       "\\item 9\n",
       "\\end{enumerate*}\n"
      ],
      "text/markdown": [
       "1. 1\n",
       "2. 2\n",
       "3. 3\n",
       "4. 4\n",
       "5. 5\n",
       "6. 6\n",
       "7. 7\n",
       "8. 8\n",
       "9. 9\n",
       "\n",
       "\n"
      ],
      "text/plain": [
       "[1] 1 2 3 4 5 6 7 8 9"
      ]
     },
     "metadata": {},
     "output_type": "display_data"
    }
   ],
   "source": [
    "array(1:9)"
   ]
  },
  {
   "cell_type": "markdown",
   "metadata": {},
   "source": [
    "And when N=2, an array is just a matrix:"
   ]
  },
  {
   "cell_type": "code",
   "execution_count": 20,
   "metadata": {},
   "outputs": [
    {
     "data": {
      "text/html": [
       "<table class=\"dataframe\">\n",
       "<caption>A matrix: 2 × 3 of type int</caption>\n",
       "<tbody>\n",
       "\t<tr><td>1</td><td>3</td><td>5</td></tr>\n",
       "\t<tr><td>2</td><td>4</td><td>6</td></tr>\n",
       "</tbody>\n",
       "</table>\n"
      ],
      "text/latex": [
       "A matrix: 2 × 3 of type int\n",
       "\\begin{tabular}{lll}\n",
       "\t 1 & 3 & 5\\\\\n",
       "\t 2 & 4 & 6\\\\\n",
       "\\end{tabular}\n"
      ],
      "text/markdown": [
       "\n",
       "A matrix: 2 × 3 of type int\n",
       "\n",
       "| 1 | 3 | 5 |\n",
       "| 2 | 4 | 6 |\n",
       "\n"
      ],
      "text/plain": [
       "     [,1] [,2] [,3]\n",
       "[1,] 1    3    5   \n",
       "[2,] 2    4    6   "
      ]
     },
     "metadata": {},
     "output_type": "display_data"
    }
   ],
   "source": [
    "array(1:6, dim=c(2,3))"
   ]
  },
  {
   "cell_type": "markdown",
   "metadata": {},
   "source": [
    "But when N > 2, things start to get a little harder to visualize, but also a lot more powerful. \n",
    "\n",
    "*But WHY*, I hear you asking, *would I ever want more than two dimensions?!* \n",
    "\n",
    "Well, let's start with use-cases for N=3. Suppose that you wanted to build a climate model. One thing that you would have to do is come up with a way to store the temperature at different points within a 3D space! And you could do that with a three-dimensional array where the first two dimensions are used to store the x and y coordinates of a point on the ground, the third could represent an elevation above that point, and the value in that entry would be the temperature. \n",
    "\n",
    "For example, let's create a 3 x 3 x 10 array filled with random temperatures generated with `rnorm()`, where we're imagining the first dimension to be, say, number of kilometers North of a reference point (say, the center of Duke's campus), the second dimension is the number of kilometers East of the center of Duke's campus, and the third dimension is kilometers elevation:"
   ]
  },
  {
   "cell_type": "code",
   "execution_count": 21,
   "metadata": {},
   "outputs": [],
   "source": [
    "# Make random temperatures.\n",
    "# In a real world application \n",
    "# you'd have measured these or \n",
    "# started with seed values based on \n",
    "# measured values. \n",
    "\n",
    " # using a reasonable farenheit mean and sd\n",
    "rand_temps = rnorm(3*3*10, mean=70, sd=10)\n",
    "temperatures = array(rand_temps, dim=c(3,3,10))"
   ]
  },
  {
   "cell_type": "markdown",
   "metadata": {},
   "source": [
    "Now because `temperatures` has three dimensions, it's hard to print out, but it's easy to extract values. Suppose wanted to know the temperature 1 km North of Duke, 2km East, and at an elevation of 10km:"
   ]
  },
  {
   "cell_type": "code",
   "execution_count": 22,
   "metadata": {},
   "outputs": [
    {
     "data": {
      "text/html": [
       "68.4952178443814"
      ],
      "text/latex": [
       "68.4952178443814"
      ],
      "text/markdown": [
       "68.4952178443814"
      ],
      "text/plain": [
       "[1] 68.49522"
      ]
     },
     "metadata": {},
     "output_type": "display_data"
    }
   ],
   "source": [
    "temperatures[1, 2, 10]"
   ]
  },
  {
   "cell_type": "markdown",
   "metadata": {},
   "source": [
    "Ta-Da! I could also get the temperature at all elevations at the point 1km North and 2km East:"
   ]
  },
  {
   "cell_type": "code",
   "execution_count": 23,
   "metadata": {},
   "outputs": [
    {
     "data": {
      "text/html": [
       "<style>\n",
       ".list-inline {list-style: none; margin:0; padding: 0}\n",
       ".list-inline>li {display: inline-block}\n",
       ".list-inline>li:not(:last-child)::after {content: \"\\00b7\"; padding: 0 .5ex}\n",
       "</style>\n",
       "<ol class=list-inline><li>73.7899813852514</li><li>67.7343631034099</li><li>67.6967305952826</li><li>65.1899228577393</li><li>67.1337109290799</li><li>70.6145368860635</li><li>81.2428943879753</li><li>78.7499808991115</li><li>70.3487479702954</li><li>68.4952178443814</li></ol>\n"
      ],
      "text/latex": [
       "\\begin{enumerate*}\n",
       "\\item 73.7899813852514\n",
       "\\item 67.7343631034099\n",
       "\\item 67.6967305952826\n",
       "\\item 65.1899228577393\n",
       "\\item 67.1337109290799\n",
       "\\item 70.6145368860635\n",
       "\\item 81.2428943879753\n",
       "\\item 78.7499808991115\n",
       "\\item 70.3487479702954\n",
       "\\item 68.4952178443814\n",
       "\\end{enumerate*}\n"
      ],
      "text/markdown": [
       "1. 73.7899813852514\n",
       "2. 67.7343631034099\n",
       "3. 67.6967305952826\n",
       "4. 65.1899228577393\n",
       "5. 67.1337109290799\n",
       "6. 70.6145368860635\n",
       "7. 81.2428943879753\n",
       "8. 78.7499808991115\n",
       "9. 70.3487479702954\n",
       "10. 68.4952178443814\n",
       "\n",
       "\n"
      ],
      "text/plain": [
       " [1] 73.78998 67.73436 67.69673 65.18992 67.13371 70.61454 81.24289 78.74998\n",
       " [9] 70.34875 68.49522"
      ]
     },
     "metadata": {},
     "output_type": "display_data"
    }
   ],
   "source": [
    "temperatures[1, 2, ]"
   ]
  },
  {
   "cell_type": "markdown",
   "metadata": {},
   "source": [
    "Or the temperature at 5km elevation across all ground locations: "
   ]
  },
  {
   "cell_type": "code",
   "execution_count": 24,
   "metadata": {},
   "outputs": [
    {
     "data": {
      "text/html": [
       "<table class=\"dataframe\">\n",
       "<caption>A matrix: 3 × 3 of type dbl</caption>\n",
       "<tbody>\n",
       "\t<tr><td>65.21989</td><td>67.13371</td><td>60.52980</td></tr>\n",
       "\t<tr><td>61.22540</td><td>66.04728</td><td>68.20656</td></tr>\n",
       "\t<tr><td>59.64088</td><td>77.04495</td><td>68.66526</td></tr>\n",
       "</tbody>\n",
       "</table>\n"
      ],
      "text/latex": [
       "A matrix: 3 × 3 of type dbl\n",
       "\\begin{tabular}{lll}\n",
       "\t 65.21989 & 67.13371 & 60.52980\\\\\n",
       "\t 61.22540 & 66.04728 & 68.20656\\\\\n",
       "\t 59.64088 & 77.04495 & 68.66526\\\\\n",
       "\\end{tabular}\n"
      ],
      "text/markdown": [
       "\n",
       "A matrix: 3 × 3 of type dbl\n",
       "\n",
       "| 65.21989 | 67.13371 | 60.52980 |\n",
       "| 61.22540 | 66.04728 | 68.20656 |\n",
       "| 59.64088 | 77.04495 | 68.66526 |\n",
       "\n"
      ],
      "text/plain": [
       "     [,1]     [,2]     [,3]    \n",
       "[1,] 65.21989 67.13371 60.52980\n",
       "[2,] 61.22540 66.04728 68.20656\n",
       "[3,] 59.64088 77.04495 68.66526"
      ]
     },
     "metadata": {},
     "output_type": "display_data"
    }
   ],
   "source": [
    "temperatures[,,5]"
   ]
  },
  {
   "cell_type": "markdown",
   "metadata": {},
   "source": [
    "As you can see, this is a *really* powerful idea, and honestly arrays are probably the most fundamental data structure in data science. \n",
    "\n",
    "### Other Uses for Arrays\n",
    "\n",
    "Not into climate modeling? OK, here are some other uses of arrays with more than 2 dimensions:\n",
    "\n",
    "- **Repeated measurements over time:** Just as a single survey is easily represented as a matrix, so too can repeated surveys be easily represented by making time a third dimension. This makes it easy to pull out a single wave of the survey, or to pick out all the responses for a given person over time. \n",
    "- **Brain Scans:** fMRI scan the entire volume of the brain, and that volumetric data is most naturally stored in the three-dimensional array, just like the temperature data above. Obviously not all social scientists will end up working with brain scans, but there's certainly a lot of cutting-edge work in this area!\n",
    "- **3D measurements that evolve over time:** just as we can model survey data that evolves over time in three dimensions, we can also model three-dimensional volumetric data that evolves over time (e.g. not just a slice of a climate model, but its evoluation) in a four-dimensional array!\n",
    "- **Satellite Data:** Satellite image data usually comes in the form of sets of 2-dimensional images, where each image includes information about light intensity at a given wavelength. When these images are stacked to, say, generate a color image, or identify wavelength combinations common to certain types of pollution, flood waters, or specific crops, you get a three-dimensional array.\n",
    "\n",
    "So yeah, high dimensional arrays are a SUPER powerful data structure, and one you shouldn't shy away."
   ]
  }
 ],
 "metadata": {
  "kernelspec": {
   "display_name": "R",
   "language": "R",
   "name": "ir"
  },
  "language_info": {
   "codemirror_mode": "r",
   "file_extension": ".r",
   "mimetype": "text/x-r-source",
   "name": "R",
   "pygments_lexer": "r",
   "version": "4.1.0"
  }
 },
 "nbformat": 4,
 "nbformat_minor": 2
}
