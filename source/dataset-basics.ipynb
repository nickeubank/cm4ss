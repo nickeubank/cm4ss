{
 "cells": [
  {
   "cell_type": "markdown",
   "source": [
    "# Dataset Basics\n",
    "\n",
    "This tutorial introduces datasets --- \"data frames\" in R. If you've completed the [tutorial on vectors](vectors.ipynb), you'll soon see that datasets can be thought of as a collection of vectors stored as columns in a dataset. We'll talk about how to create datasets and how to read them from file. We'll also talk more conceptually about how datasets should be structured.\n"
   ],
   "metadata": {}
  },
  {
   "cell_type": "markdown",
   "source": [],
   "metadata": {}
  },
  {
   "cell_type": "markdown",
   "source": [
    "Creating datasets\n",
    "==================\n",
    "\n",
    "Let's start by learning how to create a dataset in R. This turns\n",
    "out to be very simple --- just combine vectors using the `data.frame()`\n",
    "command. \n"
   ],
   "metadata": {}
  },
  {
   "cell_type": "code",
   "execution_count": null,
   "source": [
    "# Create three vectors \n",
    "name <- c(\"al\", \"bea\", \"carol\")\n",
    "age <- c(6, 7, 4)\n",
    "hair <- c(\"brown\", \"green\", \"blond\")\n",
    "\n",
    "# Create data frame \n",
    "children <- data.frame(name, age, hair)\n",
    "children\n",
    "\n",
    "# Creating a data frame can also be done without first saving vectors \n",
    "children <- data.frame(\n",
    "    name = c(\"al\", \"bea\", \"carol\"),\n",
    "    age = c(6, 7, 4),\n",
    "    hair = c(\"brown\", \"green\", \"blond\")\n",
    "    )\n",
    "children"
   ],
   "outputs": [],
   "metadata": {}
  },
  {
   "cell_type": "markdown",
   "source": [
    "We created a dataset called `children`, which has 3 rows and 3\n",
    "columns. We used two approaches that differ in whether they first save\n",
    "vectors to R's memory. "
   ],
   "metadata": {}
  },
  {
   "cell_type": "markdown",
   "source": [
    "Dataset structure\n",
    "====================\n",
    "\n",
    "More important than learning the mechanics of creating a dataset in\n",
    "R is to understand their general structure: \n",
    "\n",
    "1. Each column should consist of a vector that gives some fact about\n",
    "the world (e.g., age in years). We usually refer to these columns\n",
    "as *variables*. \n",
    "2. At least one column should identify who or what the information in\n",
    "the data is about.  Such a variable is called an \"id\" variable or\n",
    "\"key\". In the `children` dataset above this variable is `name`. The\n",
    "remaining variables have the facts or measurements that we care\n",
    "about. For example, we gather from the dataset that Al is 6 years old\n",
    "(one fact) and that Al has brown hair (a second fact).\n",
    "\n",
    "To better understand the proper structure of datasets, let's create a\n",
    "second data frame. Suppose here that `gdp_pc` is a measure of a\n",
    "country's GDP per capita in a given year. (Use `?expand.grid` and\n",
    "`?runif` to learn more about these functions, though that is not a\n",
    "priority right now.)"
   ],
   "metadata": {}
  },
  {
   "cell_type": "code",
   "execution_count": null,
   "source": [
    "countries <- data.frame(\n",
    "    expand.grid(country = c(\"USA\", \"China\", \"Sudan\"), year = 1994:1996),\n",
    "    gdp_pc = round(runif(9, 1000, 20000), 0)\n",
    "    )\n",
    "countries"
   ],
   "outputs": [],
   "metadata": {}
  },
  {
   "cell_type": "markdown",
   "source": [
    "This time around our dataset has two id variables: `country` and\n",
    "`year`. Why two and not one? One way to think about it is that\n",
    "`country` by itself wouldn't be sufficient to uniquely identify a row,\n",
    "because there are three rows for each country (and likewise with\n",
    "`year`). Combined, however, `country` and `year` uniquely identify\n",
    "each row. In other words, GDP per capita (the only fact or measurement\n",
    "in this dataset) describes a given country in a given year.\n",
    "\n",
    "We can say that the **unit of analysis** in the dataset `countries` is\n",
    "country-year. This means that two id variables (country and\n",
    "year) are required to uniquely identify each row. In the `children`\n",
    "dataset above the unit of analysis is \"child\" or \"person\"."
   ],
   "metadata": {}
  },
  {
   "cell_type": "markdown",
   "source": [
    "Basic commands\n",
    "=================\n",
    "\n",
    "Here are some commands that are useful for getting to know your data\n",
    "and for understanding dataset structures in general.\n",
    "\n",
    "Dimensions\n",
    "---------------------\n",
    "\n",
    "The first is `dim()`, which gives the dimensions of a data frame. The\n",
    "number of rows are listed first, columns second."
   ],
   "metadata": {}
  },
  {
   "cell_type": "code",
   "execution_count": null,
   "source": [
    "dim(countries)"
   ],
   "outputs": [],
   "metadata": {}
  },
  {
   "cell_type": "markdown",
   "source": [
    "Use `nrow()` and `ncol()` to to get the number of rows or columns\n",
    "separately.  These commands are useful for\n",
    "[code generalization](../vectors/#code-generalization)."
   ],
   "metadata": {}
  },
  {
   "cell_type": "code",
   "execution_count": null,
   "source": [
    "nrow(countries)\n",
    "ncol(countries)"
   ],
   "outputs": [],
   "metadata": {}
  },
  {
   "cell_type": "markdown",
   "source": [
    "Snapshots\n",
    "-------------\n",
    "\n",
    "Use `head()` and `tail()` to look at the first and last few rows of\n",
    "a dataset, respectively. This is more useful when we have datasets\n",
    "with many observations. "
   ],
   "metadata": {}
  },
  {
   "cell_type": "code",
   "execution_count": null,
   "source": [
    "head(countries)\n",
    "tail(countries)"
   ],
   "outputs": [],
   "metadata": {}
  },
  {
   "cell_type": "markdown",
   "source": [
    "Other useful commands to get to know variables better include `summary()`,\n",
    "`table()`, and `prop.table()`. "
   ],
   "metadata": {}
  },
  {
   "cell_type": "code",
   "execution_count": null,
   "source": [
    "# Get some summary information about each variable\n",
    "summary(countries)\n",
    "\n",
    "# Number of observations by country \n",
    "table(countries$country)\n",
    "\n",
    "# Proportion of observations by country \n",
    "prop.table(table(countries$country))"
   ],
   "outputs": [],
   "metadata": {}
  },
  {
   "cell_type": "markdown",
   "source": [
    "Accessing specific rows and columns\n",
    "-------------------\n",
    "\n",
    "Like with vectors, brackets (`[]`) can be used to access data in\n",
    "datasets. But unlike with vectors, we need to input *two* arguments\n",
    "--- separated by a comma --- into the brackets. The first argument\n",
    "always applies to rows while the second applies to columns. "
   ],
   "metadata": {}
  },
  {
   "cell_type": "code",
   "execution_count": null,
   "source": [
    "countries <- data.frame(\n",
    "    expand.grid(country = c(\"USA\", \"China\", \"Sudan\"), year = 1994:1996),\n",
    "    gdp_pc = round(runif(9, 1000, 20000), 0)\n",
    "    )\n",
    "countries\n",
    "\n",
    "# Access row 2, col 3\n",
    "countries[2, 3]\n",
    "\n",
    "# Access entire row 5\n",
    "countries[5, ] #note: leaving second argument blank\n",
    "\n",
    "# Access entire column 3\n",
    "countries[, 3] #note: leaving first argument blank"
   ],
   "outputs": [],
   "metadata": {}
  },
  {
   "cell_type": "markdown",
   "source": [
    "In general, though, accessing rows and columns by index is bad for\n",
    "[code generalization](../vectors/#code-generalization).  It\n",
    "particularly causes problems when you add or delete rows/columns,\n",
    "because then the indexing will change (e.g., column 3 representing GDP\n",
    "per capita may now be in column 4).\n",
    "\n",
    "For this reason, it's better to access columns using column\n",
    "names. "
   ],
   "metadata": {}
  },
  {
   "cell_type": "code",
   "execution_count": null,
   "source": [
    "# Access a column using column/variable name (two equivalent approaches)\n",
    "countries$year\n",
    "countries[, \"year\"]"
   ],
   "outputs": [],
   "metadata": {
    "lines_to_next_cell": 0
   }
  },
  {
   "cell_type": "markdown",
   "source": [
    "Note that when we're accessing a column this way, it's just a vector\n",
    "and all the things we've learned about [vectors](../vectors) apply.\n",
    "For example:"
   ],
   "metadata": {}
  },
  {
   "cell_type": "code",
   "execution_count": null,
   "source": [
    "# Get mean gdp per cap\n",
    "mean(countries$gdp_pc)"
   ],
   "outputs": [],
   "metadata": {}
  },
  {
   "cell_type": "markdown",
   "source": [
    "To access rows, it's best to use a logical statement, which is covered\n",
    "in more detail in a separate tutorial on\n",
    "[modifying data](../modifying-data).  But just to\n",
    "give an example, here's how we can access a row using bracket notation\n",
    "and a logical statement:"
   ],
   "metadata": {}
  },
  {
   "cell_type": "code",
   "execution_count": null,
   "source": [
    "countries[countries$year == 1995 & countries$country == \"USA\", ]"
   ],
   "outputs": [],
   "metadata": {
    "lines_to_next_cell": 0
   }
  },
  {
   "cell_type": "markdown",
   "source": [],
   "metadata": {}
  },
  {
   "cell_type": "markdown",
   "source": [
    "Reading data \n",
    "========================="
   ],
   "metadata": {}
  },
  {
   "cell_type": "markdown",
   "source": [
    "Note: In this section we'll be working with a dataset called\n",
    "`world-small.csv`, which you can download [here](data/world-small.csv).\n",
    "\n",
    "So far we've created datasets ourselves. Oftentimes, however, we'll\n",
    "want to read a dataset into R from file. Datasets come in many formats\n",
    "--- e.g., .csv, .txt, .dta, and .RData. R can read most data formats\n",
    "as is, but sometimes it may be necessary to manually reformat some\n",
    "elements in the file or even to reconvert the whole file to a\n",
    "different format (e.g., using Stat/Transfer). For now, we'll assume\n",
    "that the file is in a readable format.\n",
    "\n",
    "To read a file you need to \n",
    "\n",
    "1. Specify where the file is located on your computer. This is referred to \n",
    "as setting your working directory. \n",
    "2. Execute a command that will read the file from your working directory. "
   ],
   "metadata": {}
  },
  {
   "cell_type": "markdown",
   "source": [
    "Setting the working directory \n",
    "----------------------\n",
    "\n",
    "You can set your working directory manually. In RStudio, go to\n",
    "Session --> Set Working Directory --> Choose Directory...\n",
    "and find the folder in which your file is located.\n",
    "\n",
    "While this works, you should also set the working directory using\n",
    "code. Use `setwd(path-to-dir)` where `path-to-dir` is the the path to\n",
    "the folder in which the file is located. How can you find this path?\n",
    "Here are instructions for\n",
    "[Windows](https://technet.microsoft.com/en-us/magazine/ff678296.aspx)\n",
    "and [mac](http://josharcher.uk/code/find-path-to-folder-on-mac/).\n",
    "If you're still not sure how to do this, take a look at\n",
    "[this tutorial](https://sites.google.com/site/manabusakamoto/home/r-tutorials/r-tutorial-4).\n",
    "\n",
    "To check that your working directory includes the file you want\n",
    "to read, use `dir()` without anything in the parentheses. This function\n",
    "outputs all the files in your working directory into the R console.\n",
    "So, if you want to read the `world-small.csv` file that you downloaded above,\n",
    "you should see this file listed when you execute `dir()`. "
   ],
   "metadata": {}
  },
  {
   "cell_type": "markdown",
   "source": [
    "Reading the file \n",
    "----------------------\n",
    "\n",
    "Now that we've told R where to look for our file, it's time to read\n",
    "it. Different commands are used to read different types of files. This\n",
    "is the syntax used for reading a .csv file:"
   ],
   "metadata": {}
  },
  {
   "cell_type": "code",
   "execution_count": null,
   "source": [
    "world <- read.csv(\"data/world-small.csv\")"
   ],
   "outputs": [],
   "metadata": {
    "tags": [
     "remove_input"
    ]
   }
  },
  {
   "cell_type": "code",
   "execution_count": null,
   "source": [
    "world <- read.csv(\"world-small.csv\") "
   ],
   "outputs": [],
   "metadata": {
    "eval": false
   }
  },
  {
   "cell_type": "markdown",
   "source": [
    "I'm reading the file from the working directory and assigning it\n",
    "to the object `world`, which becomes of class `data.frame`. "
   ],
   "metadata": {}
  },
  {
   "cell_type": "code",
   "execution_count": null,
   "source": [
    "class(world)"
   ],
   "outputs": [],
   "metadata": {}
  },
  {
   "cell_type": "markdown",
   "source": [
    "Let's check if the file was read correctly, using `dim()`\n",
    "(returns the dimensions), `head()` (returns the top six rows),\n",
    "and `summary()` (returns summary information about each variable):"
   ],
   "metadata": {}
  },
  {
   "cell_type": "code",
   "execution_count": null,
   "source": [
    "dim(world) #the number of rows and columns \n",
    "head(world) #the first few rows of the dataset\n",
    "summary(world) #a summary of the variables in the dataset"
   ],
   "outputs": [],
   "metadata": {}
  },
  {
   "cell_type": "markdown",
   "source": [
    "Everything looks as we would have hoped."
   ],
   "metadata": {}
  },
  {
   "cell_type": "markdown",
   "source": [
    "Exercises\n",
    "============\n",
    "\n",
    "1. Read the `world-small.csv` data into R and store it in an object\n",
    "called `world`. (Set your working directory using code first.) \n",
    "\n",
    "2. (Conceptual) What is the unit of analysis in the dataset? What's the name\n",
    "of the dataset's id variable?\n",
    "\n",
    "3. How many observations does `world` have? How many variables? Use an R\n",
    "command to find out.\n",
    "\n",
    "4. Use brackets and a logical statement to inspect all the values for\n",
    "   Nigeria and United States. That is, your code should return two\n",
    "   entire rows of the dataset. \n",
    "\n",
    "5. Use R to return China's Polity IV score. As in question 4, use a logical\n",
    "statement and brackets, but don't return the entire row. Rather, return a single\n",
    "value with the Polity IV score.\n",
    "\n",
    "6. What is the lowest GDP per capita in the dataset? (Use R to return only the value.)\n",
    "\n",
    "7. What country has the lowest GDP per capita? (Your code should\n",
    "return the country name and be general enough so that if the observations\n",
    "in the dataset --- or their order --- change, your code should still return the\n",
    "country with the lowest GDP per capita.)\n",
    "\n",
    "\n",
    "\n",
    "\n",
    "\n"
   ],
   "metadata": {}
  }
 ],
 "metadata": {
  "jupytext": {
   "cell_metadata_filter": "tags,eval,-all",
   "main_language": "R",
   "notebook_metadata_filter": "-all"
  },
  "language_info": {
   "name": "R"
  },
  "kernelspec": {
   "name": "ir",
   "display_name": "R",
   "language": "R"
  }
 },
 "nbformat": 4,
 "nbformat_minor": 5
}