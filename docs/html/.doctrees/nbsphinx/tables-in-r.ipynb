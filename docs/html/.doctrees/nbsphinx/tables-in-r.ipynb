{
 "cells": [
  {
   "cell_type": "markdown",
   "id": "e818016f",
   "metadata": {},
   "source": [
    "# Tables in R (And How to Export Them to Word)\n",
    "\n",
    "This tutorial explains how to create and export different types of tables in R. It was originally designed for undergraduate students at Stanford who tend to use Word rather than LaTeX.\n"
   ]
  },
  {
   "cell_type": "markdown",
   "id": "432843bc",
   "metadata": {},
   "source": [
    "\n",
    "Overview\n",
    "==========================\n",
    "\n",
    "How to export tables from R depends on what word processor you\n",
    "use. This tutorial focuses on Word. If you use LaTeX, there are many\n",
    "existing R packages and tutorials that will get you started, including\n",
    "[xtable](https://cran.r-project.org/web/packages/xtable/xtable.pdf)\n",
    "and\n",
    "[stargazer](https://cran.r-project.org/web/packages/stargazer/stargazer.pdf)."
   ]
  },
  {
   "cell_type": "markdown",
   "id": "16723174",
   "metadata": {},
   "source": [
    "To export tables to Word, follow these general steps: \n",
    "   \n",
    "<div style=\"margin-left: 20px\">    \n",
    "   1. Create a table or data.frame in R. \n",
    "   2. Write this table to a comma-separated .txt file using `write.table()`. \n",
    "   3. Copy and paste the content of the .txt file into Word. \n",
    "   4. In Word, \n",
    "     a. select the text you just pasted from the .txt file\n",
    "     b. go to Table $\\rightarrow$ Convert $\\rightarrow$ Convert Text to Table...\n",
    "     c. make sure \"Commas\" is selected under \"Separate text at\", click OK \n",
    "</div>\n",
    "\n",
    "You'll now have a basic table that you can format in Word. Below are\n",
    "three examples of how to use this process to create crosstabs, tables\n",
    "for summary statistics, and regression tables.\n",
    "\n",
    "Data and Packages\n",
    "--------------------\n",
    "Before we get started, read in a \n",
    "[dataset on U.S. states](../data/states.csv) (codebook\n",
    "[here](../data/states_codebook.csv)) into R: "
   ]
  },
  {
   "cell_type": "code",
   "execution_count": 8,
   "id": "16bff25b",
   "metadata": {
    "tags": [
     "remove_input"
    ]
   },
   "outputs": [],
   "source": [
    "states <- read.csv(\"data/states.csv\")"
   ]
  },
  {
   "cell_type": "markdown",
   "id": "990cda0a",
   "metadata": {},
   "source": [
    "Also install and load packages `dplyr`, `tidyr`, and `broom`: "
   ]
  },
  {
   "cell_type": "code",
   "execution_count": 9,
   "id": "98aa4546",
   "metadata": {
    "eval": false
   },
   "outputs": [
    {
     "name": "stdout",
     "output_type": "stream",
     "text": [
      "\n",
      "The downloaded binary packages are in\n",
      "\t/var/folders/tj/s8f2_ks15h315z5thvtnhz8r0000gp/T//RtmpwJTvRJ/downloaded_packages\n"
     ]
    },
    {
     "data": {
      "text/html": [
       "<style>\n",
       ".dl-inline {width: auto; margin:0; padding: 0}\n",
       ".dl-inline>dt, .dl-inline>dd {float: none; width: auto; display: inline-block}\n",
       ".dl-inline>dt::after {content: \":\\0020\"; padding-right: .5ex}\n",
       ".dl-inline>dt:not(:first-of-type) {padding-left: .5ex}\n",
       "</style><dl class=dl-inline><dt>dplyr</dt><dd>TRUE</dd><dt>tidyr</dt><dd>TRUE</dd><dt>broom</dt><dd>TRUE</dd></dl>\n"
      ],
      "text/latex": [
       "\\begin{description*}\n",
       "\\item[dplyr] TRUE\n",
       "\\item[tidyr] TRUE\n",
       "\\item[broom] TRUE\n",
       "\\end{description*}\n"
      ],
      "text/markdown": [
       "dplyr\n",
       ":   TRUEtidyr\n",
       ":   TRUEbroom\n",
       ":   TRUE\n",
       "\n"
      ],
      "text/plain": [
       "dplyr tidyr broom \n",
       " TRUE  TRUE  TRUE "
      ]
     },
     "metadata": {},
     "output_type": "display_data"
    }
   ],
   "source": [
    "pkgs <- c(\"dplyr\", \"tidyr\", \"broom\")\n",
    "install.packages(pkgs) #install \n",
    "sapply(pkgs, require, character.only = T) #load "
   ]
  },
  {
   "cell_type": "code",
   "execution_count": 10,
   "id": "8d6eabed",
   "metadata": {
    "lines_to_next_cell": 2,
    "tags": [
     "remove_input"
    ]
   },
   "outputs": [
    {
     "data": {
      "text/html": [
       "<style>\n",
       ".dl-inline {width: auto; margin:0; padding: 0}\n",
       ".dl-inline>dt, .dl-inline>dd {float: none; width: auto; display: inline-block}\n",
       ".dl-inline>dt::after {content: \":\\0020\"; padding-right: .5ex}\n",
       ".dl-inline>dt:not(:first-of-type) {padding-left: .5ex}\n",
       "</style><dl class=dl-inline><dt>dplyr</dt><dd>TRUE</dd><dt>tidyr</dt><dd>TRUE</dd><dt>broom</dt><dd>TRUE</dd></dl>\n"
      ],
      "text/latex": [
       "\\begin{description*}\n",
       "\\item[dplyr] TRUE\n",
       "\\item[tidyr] TRUE\n",
       "\\item[broom] TRUE\n",
       "\\end{description*}\n"
      ],
      "text/markdown": [
       "dplyr\n",
       ":   TRUEtidyr\n",
       ":   TRUEbroom\n",
       ":   TRUE\n",
       "\n"
      ],
      "text/plain": [
       "dplyr tidyr broom \n",
       " TRUE  TRUE  TRUE "
      ]
     },
     "metadata": {},
     "output_type": "display_data"
    }
   ],
   "source": [
    "pkgs <- c(\"dplyr\", \"tidyr\", \"broom\")\n",
    "sapply(pkgs, require, character.only = T) #load "
   ]
  },
  {
   "cell_type": "markdown",
   "id": "f39cbb3e",
   "metadata": {},
   "source": [
    "Crosstabs\n",
    "====================\n",
    "\n",
    "Create a table showing the proportion of states that supported Bush in\n",
    "2000, by region (South versus Non-South):"
   ]
  },
  {
   "cell_type": "code",
   "execution_count": 11,
   "id": "76b31ce0",
   "metadata": {
    "lines_to_next_cell": 0
   },
   "outputs": [
    {
     "data": {
      "text/plain": [
       "          gb_win00\n",
       "south       Bush win  Gore win\n",
       "  Nonsouth 0.4705882 0.5294118\n",
       "  South    0.8750000 0.1250000"
      ]
     },
     "metadata": {},
     "output_type": "display_data"
    }
   ],
   "source": [
    "# Create table\n",
    "t <- with(states, table(south, gb_win00))\n",
    "t <- prop.table(t, margin = 1)\n",
    "\n",
    "t #large majority of southern states supported Bush in 2000:   \n",
    "\n",
    "# Write this table to a comma separated .txt file:    \n",
    "write.table(t, file = \"bush_south.txt\", sep = \",\", quote = FALSE, row.names = F)"
   ]
  },
  {
   "cell_type": "markdown",
   "id": "979443c0",
   "metadata": {},
   "source": [
    "The .txt file will end up in your working directory. Now follow steps 3 and 4\n",
    "in the Overview section above to create the crosstab in Word. \n",
    "\n",
    "Summary statistics \n",
    "=======================\n",
    "\n",
    "Here's another example that again uses the [states.csv](states.csv) dataset. Say we \n",
    "wanted to create a table with summary statistics for five of the variables\n",
    "in this dataset: "
   ]
  },
  {
   "cell_type": "markdown",
   "id": "82289702",
   "metadata": {},
   "source": [
    "sumstat <- states %>%\n",
    "\n",
    "    # Select and rename five variables \n",
    "    select(\n",
    "        `Black (%)` = blkpct,\n",
    "        `Attend church (%)` = attend_pct,\n",
    "        `Supported Bush in 2000 (%)` = bush00,\n",
    "        `Supported Obama in 2008 (%)` = obama08,\n",
    "        `Women in State Legislature (%)` = womleg\n",
    "        ) %>%\n",
    "\n",
    "    # Find the mean, st. dev., min, and max for each variable \n",
    "    summarise_each(funs(mean, sd, min, max)) %>%\n",
    "\n",
    "    # Move summary stats to columns\n",
    "    gather(key, value, everything()) %>% \n",
    "    separate(key, into = c(\"variable\", \"stat\"), sep = \"_\") %>%\n",
    "    spread(stat, value) %>%\n",
    "\n",
    "    # Set order of summary statistics \n",
    "    select(variable, mean, sd, min, max) %>%\n",
    "\n",
    "    # Round all numeric variables to one decimal point\n",
    "    mutate_each(funs(round(., 1)), -variable)\n",
    "\n",
    "sumstat\n",
    "\n",
    "# Write to .txt\n",
    "write.table(sumstat, file = \"sumstats.txt\", sep = \",\", quote = FALSE, row.names = F)\n"
   ]
  },
  {
   "cell_type": "markdown",
   "id": "2329a346",
   "metadata": {},
   "source": [
    "Again, the `sumstats.txt` file will end up in your working directory,\n",
    "and you can use steps 3 and 4 from the Overview section above to\n",
    "import this file into Word."
   ]
  },
  {
   "cell_type": "markdown",
   "id": "d4217959",
   "metadata": {},
   "source": [
    "Exercise \n",
    "-------------\n",
    "\n",
    "Create a table of summary statistics in Word for `vep04_turnout`,\n",
    "`vep08_turnout`, `unemploy`, `urban`, and `hispanic`. The table should\n",
    "include the number of observations (*n*), mean, median, 10th\n",
    "percentile, and 90th percentile of each of the variables. Put the\n",
    "variables in the rows of the table and the summary statistics in the\n",
    "columns, like we did in the example above. Format your table in Word\n",
    "to make it look similar to [this table](summary_stats_example.tif). "
   ]
  },
  {
   "cell_type": "markdown",
   "id": "79f706e3",
   "metadata": {},
   "source": [
    "Regression tables\n",
    "=======================\n",
    "\n",
    "Say we wanted to run three OLS models to predict state-level support\n",
    "for Bush in 2000, where each model adds a predictor to the preceding\n",
    "model. We can create a regression table with all three models like so: "
   ]
  },
  {
   "cell_type": "markdown",
   "id": "bf06eb46",
   "metadata": {},
   "source": [
    "m1 <- tidy(lm(bush00 ~ blkpct, states)) \n",
    "m2 <- tidy(lm(bush00 ~ blkpct + south, data = states))\n",
    "m3 <- tidy(lm(bush00 ~ blkpct + south + womleg, data = states))\n",
    "# Note that tidy() from the broom package is used to convert each model to a data frame\n",
    "\n",
    "all_models <- rbind_list(\n",
    "    m1 %>% mutate(model = 1),\n",
    "    m2 %>% mutate(model = 2),\n",
    "    m3 %>% mutate(model = 3))\n",
    "\n",
    "all_models\n",
    "\n",
    "\n",
    "# Now make this data frame look more like a regression table \n",
    "ols_table <- all_models %>%\n",
    "    select(-statistic, -p.value) %>%\n",
    "    mutate_each(funs(round(., 2)), -term) %>% \n",
    "    gather(key, value, estimate:std.error) %>%\n",
    "    spread(model, value) \n",
    "\n",
    "ols_table\n",
    "\n",
    "# Export\n",
    "write.table(ols_table, file = \"olstab.txt\", sep = \",\", quote = FALSE, row.names = F)\n"
   ]
  },
  {
   "cell_type": "markdown",
   "id": "8e041d26",
   "metadata": {},
   "source": [
    "Again, follow steps 3 and 4 from the Overview section above to import\n",
    "the content of the .txt file into Word. \n",
    "\n",
    "\n",
    "\n",
    "\n"
   ]
  }
 ],
 "metadata": {
  "jupytext": {
   "cell_metadata_filter": "tags,eval,-all",
   "main_language": "R",
   "notebook_metadata_filter": "-all"
  },
  "kernelspec": {
   "display_name": "R",
   "language": "R",
   "name": "ir"
  },
  "language_info": {
   "codemirror_mode": "r",
   "file_extension": ".r",
   "mimetype": "text/x-r-source",
   "name": "R",
   "pygments_lexer": "r",
   "version": "4.1.0"
  }
 },
 "nbformat": 4,
 "nbformat_minor": 5
}
