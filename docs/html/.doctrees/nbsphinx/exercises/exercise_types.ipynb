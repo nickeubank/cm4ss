{
 "cells": [
  {
   "cell_type": "markdown",
   "metadata": {},
   "source": [
    "# Practicing Assignment and Data Types"
   ]
  },
  {
   "cell_type": "markdown",
   "metadata": {},
   "source": [
    "```\n",
    "###########\n",
    "# Hello and welcome to your first R exercises!\n",
    "#\n",
    "# Below you will find a number of prompts.\n",
    "# After each prompt, please add code\n",
    "# that does what the prompt asks.\n",
    "###########\n",
    "\n",
    "\n",
    "# Exercise 1: Assigning values\n",
    "  # Assign the numeric value 42 to a variable called `the_answer`\n",
    "  # (don't type out the ticks around the_answer -- those are just a way of indicating I'm typing\n",
    "  # out the name of a variable or function)\n",
    "\n",
    "  # Now create a new variable (you can call it whatever you want) that is equal to\n",
    "  # double `the_answer`.\n",
    "\n",
    "\n",
    "# Exercise 3: different types\n",
    "  # create a variable called `my_age` and set it equal to your age\n",
    "\n",
    "  # Check the class of `my_age` using the `class()` function.\n",
    "\n",
    "  # Create a variable called `my_dog` and set it equal to the name of your dog.\n",
    "  # If you do not have a dog, pretend you do. What's your pretend dog's name?\n",
    "\n",
    "  # What's the class of `my_dog`?\n",
    "\n",
    "  # Now the weird one. Create a variable called `ten` and assign in the value \"10\"\n",
    "  # in quotes. What's the class of `ten`? Why is it not numeric?\n",
    "\n",
    "  # What happens if you add `my_age` and `ten`?\n",
    "\n",
    "  # To convert `ten` to a numeric type, type `ten = as.numeric(ten)`. Now check\n",
    "  # it's class again.\n",
    "```"
   ]
  }
 ],
 "metadata": {
  "language_info": {
   "name": "r"
  }
 },
 "nbformat": 4,
 "nbformat_minor": 2
}
