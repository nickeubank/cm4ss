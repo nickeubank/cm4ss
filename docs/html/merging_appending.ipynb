{
 "cells": [
  {
   "cell_type": "markdown",
   "id": "18565331",
   "metadata": {},
   "source": [
    "# Merging & Appending\n",
    "\n",
    "This tutorial explains how to combine datasets by merging or appending them. Merging means transferring *columns* from one dataset to another, while appending means transferring *rows* from one dataset to another. These are two important tasks since datasets only very rarely come with all the information we need. \n"
   ]
  },
  {
   "cell_type": "markdown",
   "id": "db60dd82",
   "metadata": {},
   "source": [
    "## Merging\n",
    "\n",
    "\n",
    "Say you're interested in how economic development affects democracy\n",
    "across countries, but all you have are two separate datasets on these\n",
    "two factors. What you need to do is to combine the two.  When you're\n",
    "done with this, you also need information on what world region each\n",
    "country is located in. These tasks can be accomplished with one-to-one\n",
    "merging and one-to-many merging."
   ]
  },
  {
   "cell_type": "markdown",
   "id": "1b8bf9f6",
   "metadata": {},
   "source": [
    "One-to-one merging\n",
    "--------------------\n",
    "\n",
    "To illustrate, say you had two datasets that look like this: "
   ]
  },
  {
   "cell_type": "code",
   "execution_count": 1,
   "id": "72d368da",
   "metadata": {
    "execution": {
     "iopub.execute_input": "2021-07-28T18:51:02.194548Z",
     "iopub.status.busy": "2021-07-28T18:51:02.192335Z",
     "iopub.status.idle": "2021-07-28T18:51:02.273678Z",
     "shell.execute_reply": "2021-07-28T18:51:02.272383Z"
    }
   },
   "outputs": [
    {
     "data": {
      "text/html": [
       "<table class=\"dataframe\">\n",
       "<caption>A data.frame: 5 × 2</caption>\n",
       "<thead>\n",
       "\t<tr><th scope=col>country</th><th scope=col>democracy_score</th></tr>\n",
       "\t<tr><th scope=col>&lt;chr&gt;</th><th scope=col>&lt;dbl&gt;</th></tr>\n",
       "</thead>\n",
       "<tbody>\n",
       "\t<tr><td>USA    </td><td>19</td></tr>\n",
       "\t<tr><td>Albania</td><td>16</td></tr>\n",
       "\t<tr><td>Turkey </td><td>16</td></tr>\n",
       "\t<tr><td>China  </td><td> 5</td></tr>\n",
       "\t<tr><td>Sudan  </td><td>10</td></tr>\n",
       "</tbody>\n",
       "</table>\n"
      ],
      "text/latex": [
       "A data.frame: 5 × 2\n",
       "\\begin{tabular}{ll}\n",
       " country & democracy\\_score\\\\\n",
       " <chr> & <dbl>\\\\\n",
       "\\hline\n",
       "\t USA     & 19\\\\\n",
       "\t Albania & 16\\\\\n",
       "\t Turkey  & 16\\\\\n",
       "\t China   &  5\\\\\n",
       "\t Sudan   & 10\\\\\n",
       "\\end{tabular}\n"
      ],
      "text/markdown": [
       "\n",
       "A data.frame: 5 × 2\n",
       "\n",
       "| country &lt;chr&gt; | democracy_score &lt;dbl&gt; |\n",
       "|---|---|\n",
       "| USA     | 19 |\n",
       "| Albania | 16 |\n",
       "| Turkey  | 16 |\n",
       "| China   |  5 |\n",
       "| Sudan   | 10 |\n",
       "\n"
      ],
      "text/plain": [
       "  country democracy_score\n",
       "1 USA     19             \n",
       "2 Albania 16             \n",
       "3 Turkey  16             \n",
       "4 China    5             \n",
       "5 Sudan   10             "
      ]
     },
     "metadata": {},
     "output_type": "display_data"
    },
    {
     "data": {
      "text/html": [
       "<table class=\"dataframe\">\n",
       "<caption>A data.frame: 5 × 2</caption>\n",
       "<thead>\n",
       "\t<tr><th scope=col>country</th><th scope=col>gdp_pc</th></tr>\n",
       "\t<tr><th scope=col>&lt;chr&gt;</th><th scope=col>&lt;dbl&gt;</th></tr>\n",
       "</thead>\n",
       "<tbody>\n",
       "\t<tr><td>China  </td><td>12000</td></tr>\n",
       "\t<tr><td>Albania</td><td>10000</td></tr>\n",
       "\t<tr><td>Turkey </td><td> 9000</td></tr>\n",
       "\t<tr><td>USA    </td><td>20000</td></tr>\n",
       "\t<tr><td>Sudan  </td><td>  500</td></tr>\n",
       "</tbody>\n",
       "</table>\n"
      ],
      "text/latex": [
       "A data.frame: 5 × 2\n",
       "\\begin{tabular}{ll}\n",
       " country & gdp\\_pc\\\\\n",
       " <chr> & <dbl>\\\\\n",
       "\\hline\n",
       "\t China   & 12000\\\\\n",
       "\t Albania & 10000\\\\\n",
       "\t Turkey  &  9000\\\\\n",
       "\t USA     & 20000\\\\\n",
       "\t Sudan   &   500\\\\\n",
       "\\end{tabular}\n"
      ],
      "text/markdown": [
       "\n",
       "A data.frame: 5 × 2\n",
       "\n",
       "| country &lt;chr&gt; | gdp_pc &lt;dbl&gt; |\n",
       "|---|---|\n",
       "| China   | 12000 |\n",
       "| Albania | 10000 |\n",
       "| Turkey  |  9000 |\n",
       "| USA     | 20000 |\n",
       "| Sudan   |   500 |\n",
       "\n"
      ],
      "text/plain": [
       "  country gdp_pc\n",
       "1 China   12000 \n",
       "2 Albania 10000 \n",
       "3 Turkey   9000 \n",
       "4 USA     20000 \n",
       "5 Sudan     500 "
      ]
     },
     "metadata": {},
     "output_type": "display_data"
    }
   ],
   "source": [
    "# Generate toy dataset 1: \n",
    "demo <- data.frame(\n",
    "    country = c(\"USA\", \"Albania\", \"Turkey\", \"China\", \"Sudan\"),\n",
    "    democracy_score = c(19, 16, 16, 5, 10)\n",
    "    )\n",
    "demo\n",
    "\n",
    "# Generate toy dataset 2: \n",
    "econ <- data.frame(\n",
    "    country = c(\"China\", \"Albania\", \"Turkey\", \"USA\", \"Sudan\"),\n",
    "    gdp_pc = c(12000, 10000, 9000, 20000, 500)\n",
    "    )\n",
    "econ"
   ]
  },
  {
   "cell_type": "markdown",
   "id": "5c0ca54f",
   "metadata": {
    "lines_to_next_cell": 0
   },
   "source": [
    "We can merge these datasets using R's `merge()` command, where `by` specifies\n",
    "the variable the two datasets has in common (usually called an \"ID\" variable):"
   ]
  },
  {
   "cell_type": "code",
   "execution_count": 2,
   "id": "e6910cc6",
   "metadata": {
    "execution": {
     "iopub.execute_input": "2021-07-28T18:51:02.303363Z",
     "iopub.status.busy": "2021-07-28T18:51:02.276897Z",
     "iopub.status.idle": "2021-07-28T18:51:02.322354Z",
     "shell.execute_reply": "2021-07-28T18:51:02.321403Z"
    }
   },
   "outputs": [
    {
     "data": {
      "text/html": [
       "<table class=\"dataframe\">\n",
       "<caption>A data.frame: 5 × 3</caption>\n",
       "<thead>\n",
       "\t<tr><th scope=col>country</th><th scope=col>democracy_score</th><th scope=col>gdp_pc</th></tr>\n",
       "\t<tr><th scope=col>&lt;chr&gt;</th><th scope=col>&lt;dbl&gt;</th><th scope=col>&lt;dbl&gt;</th></tr>\n",
       "</thead>\n",
       "<tbody>\n",
       "\t<tr><td>Albania</td><td>16</td><td>10000</td></tr>\n",
       "\t<tr><td>China  </td><td> 5</td><td>12000</td></tr>\n",
       "\t<tr><td>Sudan  </td><td>10</td><td>  500</td></tr>\n",
       "\t<tr><td>Turkey </td><td>16</td><td> 9000</td></tr>\n",
       "\t<tr><td>USA    </td><td>19</td><td>20000</td></tr>\n",
       "</tbody>\n",
       "</table>\n"
      ],
      "text/latex": [
       "A data.frame: 5 × 3\n",
       "\\begin{tabular}{lll}\n",
       " country & democracy\\_score & gdp\\_pc\\\\\n",
       " <chr> & <dbl> & <dbl>\\\\\n",
       "\\hline\n",
       "\t Albania & 16 & 10000\\\\\n",
       "\t China   &  5 & 12000\\\\\n",
       "\t Sudan   & 10 &   500\\\\\n",
       "\t Turkey  & 16 &  9000\\\\\n",
       "\t USA     & 19 & 20000\\\\\n",
       "\\end{tabular}\n"
      ],
      "text/markdown": [
       "\n",
       "A data.frame: 5 × 3\n",
       "\n",
       "| country &lt;chr&gt; | democracy_score &lt;dbl&gt; | gdp_pc &lt;dbl&gt; |\n",
       "|---|---|---|\n",
       "| Albania | 16 | 10000 |\n",
       "| China   |  5 | 12000 |\n",
       "| Sudan   | 10 |   500 |\n",
       "| Turkey  | 16 |  9000 |\n",
       "| USA     | 19 | 20000 |\n",
       "\n"
      ],
      "text/plain": [
       "  country democracy_score gdp_pc\n",
       "1 Albania 16              10000 \n",
       "2 China    5              12000 \n",
       "3 Sudan   10                500 \n",
       "4 Turkey  16               9000 \n",
       "5 USA     19              20000 "
      ]
     },
     "metadata": {},
     "output_type": "display_data"
    }
   ],
   "source": [
    "df <- merge(demo, econ, by = \"country\")\n",
    "df"
   ]
  },
  {
   "cell_type": "markdown",
   "id": "6599fce6",
   "metadata": {},
   "source": [
    "You can merge on more than one variable. Say you had two datasets that look \n",
    "like this:"
   ]
  },
  {
   "cell_type": "code",
   "execution_count": 3,
   "id": "d0ec5197",
   "metadata": {
    "execution": {
     "iopub.execute_input": "2021-07-28T18:51:02.326776Z",
     "iopub.status.busy": "2021-07-28T18:51:02.325783Z",
     "iopub.status.idle": "2021-07-28T18:51:02.360120Z",
     "shell.execute_reply": "2021-07-28T18:51:02.359047Z"
    }
   },
   "outputs": [
    {
     "data": {
      "text/html": [
       "<table class=\"dataframe\">\n",
       "<caption>A data.frame: 9 × 3</caption>\n",
       "<thead>\n",
       "\t<tr><th scope=col>country</th><th scope=col>year</th><th scope=col>democracy_score</th></tr>\n",
       "\t<tr><th scope=col>&lt;fct&gt;</th><th scope=col>&lt;int&gt;</th><th scope=col>&lt;dbl&gt;</th></tr>\n",
       "</thead>\n",
       "<tbody>\n",
       "\t<tr><td>USA  </td><td>1994</td><td>15</td></tr>\n",
       "\t<tr><td>China</td><td>1994</td><td>16</td></tr>\n",
       "\t<tr><td>Sudan</td><td>1994</td><td>18</td></tr>\n",
       "\t<tr><td>USA  </td><td>1995</td><td>15</td></tr>\n",
       "\t<tr><td>China</td><td>1995</td><td>18</td></tr>\n",
       "\t<tr><td>Sudan</td><td>1995</td><td>11</td></tr>\n",
       "\t<tr><td>USA  </td><td>1996</td><td>19</td></tr>\n",
       "\t<tr><td>China</td><td>1996</td><td> 5</td></tr>\n",
       "\t<tr><td>Sudan</td><td>1996</td><td>16</td></tr>\n",
       "</tbody>\n",
       "</table>\n"
      ],
      "text/latex": [
       "A data.frame: 9 × 3\n",
       "\\begin{tabular}{lll}\n",
       " country & year & democracy\\_score\\\\\n",
       " <fct> & <int> & <dbl>\\\\\n",
       "\\hline\n",
       "\t USA   & 1994 & 15\\\\\n",
       "\t China & 1994 & 16\\\\\n",
       "\t Sudan & 1994 & 18\\\\\n",
       "\t USA   & 1995 & 15\\\\\n",
       "\t China & 1995 & 18\\\\\n",
       "\t Sudan & 1995 & 11\\\\\n",
       "\t USA   & 1996 & 19\\\\\n",
       "\t China & 1996 &  5\\\\\n",
       "\t Sudan & 1996 & 16\\\\\n",
       "\\end{tabular}\n"
      ],
      "text/markdown": [
       "\n",
       "A data.frame: 9 × 3\n",
       "\n",
       "| country &lt;fct&gt; | year &lt;int&gt; | democracy_score &lt;dbl&gt; |\n",
       "|---|---|---|\n",
       "| USA   | 1994 | 15 |\n",
       "| China | 1994 | 16 |\n",
       "| Sudan | 1994 | 18 |\n",
       "| USA   | 1995 | 15 |\n",
       "| China | 1995 | 18 |\n",
       "| Sudan | 1995 | 11 |\n",
       "| USA   | 1996 | 19 |\n",
       "| China | 1996 |  5 |\n",
       "| Sudan | 1996 | 16 |\n",
       "\n"
      ],
      "text/plain": [
       "  country year democracy_score\n",
       "1 USA     1994 15             \n",
       "2 China   1994 16             \n",
       "3 Sudan   1994 18             \n",
       "4 USA     1995 15             \n",
       "5 China   1995 18             \n",
       "6 Sudan   1995 11             \n",
       "7 USA     1996 19             \n",
       "8 China   1996  5             \n",
       "9 Sudan   1996 16             "
      ]
     },
     "metadata": {},
     "output_type": "display_data"
    },
    {
     "data": {
      "text/html": [
       "<table class=\"dataframe\">\n",
       "<caption>A data.frame: 9 × 3</caption>\n",
       "<thead>\n",
       "\t<tr><th scope=col>year</th><th scope=col>country</th><th scope=col>gdp_pc</th></tr>\n",
       "\t<tr><th scope=col>&lt;int&gt;</th><th scope=col>&lt;fct&gt;</th><th scope=col>&lt;dbl&gt;</th></tr>\n",
       "</thead>\n",
       "<tbody>\n",
       "\t<tr><td>1994</td><td>USA  </td><td> 3730</td></tr>\n",
       "\t<tr><td>1995</td><td>USA  </td><td> 4849</td></tr>\n",
       "\t<tr><td>1996</td><td>USA  </td><td>10752</td></tr>\n",
       "\t<tr><td>1994</td><td>China</td><td>10831</td></tr>\n",
       "\t<tr><td>1995</td><td>China</td><td>10156</td></tr>\n",
       "\t<tr><td>1996</td><td>China</td><td>11637</td></tr>\n",
       "\t<tr><td>1994</td><td>Sudan</td><td> 1469</td></tr>\n",
       "\t<tr><td>1995</td><td>Sudan</td><td> 9193</td></tr>\n",
       "\t<tr><td>1996</td><td>Sudan</td><td>19368</td></tr>\n",
       "</tbody>\n",
       "</table>\n"
      ],
      "text/latex": [
       "A data.frame: 9 × 3\n",
       "\\begin{tabular}{lll}\n",
       " year & country & gdp\\_pc\\\\\n",
       " <int> & <fct> & <dbl>\\\\\n",
       "\\hline\n",
       "\t 1994 & USA   &  3730\\\\\n",
       "\t 1995 & USA   &  4849\\\\\n",
       "\t 1996 & USA   & 10752\\\\\n",
       "\t 1994 & China & 10831\\\\\n",
       "\t 1995 & China & 10156\\\\\n",
       "\t 1996 & China & 11637\\\\\n",
       "\t 1994 & Sudan &  1469\\\\\n",
       "\t 1995 & Sudan &  9193\\\\\n",
       "\t 1996 & Sudan & 19368\\\\\n",
       "\\end{tabular}\n"
      ],
      "text/markdown": [
       "\n",
       "A data.frame: 9 × 3\n",
       "\n",
       "| year &lt;int&gt; | country &lt;fct&gt; | gdp_pc &lt;dbl&gt; |\n",
       "|---|---|---|\n",
       "| 1994 | USA   |  3730 |\n",
       "| 1995 | USA   |  4849 |\n",
       "| 1996 | USA   | 10752 |\n",
       "| 1994 | China | 10831 |\n",
       "| 1995 | China | 10156 |\n",
       "| 1996 | China | 11637 |\n",
       "| 1994 | Sudan |  1469 |\n",
       "| 1995 | Sudan |  9193 |\n",
       "| 1996 | Sudan | 19368 |\n",
       "\n"
      ],
      "text/plain": [
       "  year country gdp_pc\n",
       "1 1994 USA      3730 \n",
       "2 1995 USA      4849 \n",
       "3 1996 USA     10752 \n",
       "4 1994 China   10831 \n",
       "5 1995 China   10156 \n",
       "6 1996 China   11637 \n",
       "7 1994 Sudan    1469 \n",
       "8 1995 Sudan    9193 \n",
       "9 1996 Sudan   19368 "
      ]
     },
     "metadata": {},
     "output_type": "display_data"
    },
    {
     "data": {
      "text/html": [
       "<table class=\"dataframe\">\n",
       "<caption>A data.frame: 9 × 4</caption>\n",
       "<thead>\n",
       "\t<tr><th scope=col>country</th><th scope=col>year</th><th scope=col>democracy_score</th><th scope=col>gdp_pc</th></tr>\n",
       "\t<tr><th scope=col>&lt;fct&gt;</th><th scope=col>&lt;int&gt;</th><th scope=col>&lt;dbl&gt;</th><th scope=col>&lt;dbl&gt;</th></tr>\n",
       "</thead>\n",
       "<tbody>\n",
       "\t<tr><td>China</td><td>1994</td><td>16</td><td>10831</td></tr>\n",
       "\t<tr><td>China</td><td>1995</td><td>18</td><td>10156</td></tr>\n",
       "\t<tr><td>China</td><td>1996</td><td> 5</td><td>11637</td></tr>\n",
       "\t<tr><td>Sudan</td><td>1994</td><td>18</td><td> 1469</td></tr>\n",
       "\t<tr><td>Sudan</td><td>1995</td><td>11</td><td> 9193</td></tr>\n",
       "\t<tr><td>Sudan</td><td>1996</td><td>16</td><td>19368</td></tr>\n",
       "\t<tr><td>USA  </td><td>1994</td><td>15</td><td> 3730</td></tr>\n",
       "\t<tr><td>USA  </td><td>1995</td><td>15</td><td> 4849</td></tr>\n",
       "\t<tr><td>USA  </td><td>1996</td><td>19</td><td>10752</td></tr>\n",
       "</tbody>\n",
       "</table>\n"
      ],
      "text/latex": [
       "A data.frame: 9 × 4\n",
       "\\begin{tabular}{llll}\n",
       " country & year & democracy\\_score & gdp\\_pc\\\\\n",
       " <fct> & <int> & <dbl> & <dbl>\\\\\n",
       "\\hline\n",
       "\t China & 1994 & 16 & 10831\\\\\n",
       "\t China & 1995 & 18 & 10156\\\\\n",
       "\t China & 1996 &  5 & 11637\\\\\n",
       "\t Sudan & 1994 & 18 &  1469\\\\\n",
       "\t Sudan & 1995 & 11 &  9193\\\\\n",
       "\t Sudan & 1996 & 16 & 19368\\\\\n",
       "\t USA   & 1994 & 15 &  3730\\\\\n",
       "\t USA   & 1995 & 15 &  4849\\\\\n",
       "\t USA   & 1996 & 19 & 10752\\\\\n",
       "\\end{tabular}\n"
      ],
      "text/markdown": [
       "\n",
       "A data.frame: 9 × 4\n",
       "\n",
       "| country &lt;fct&gt; | year &lt;int&gt; | democracy_score &lt;dbl&gt; | gdp_pc &lt;dbl&gt; |\n",
       "|---|---|---|---|\n",
       "| China | 1994 | 16 | 10831 |\n",
       "| China | 1995 | 18 | 10156 |\n",
       "| China | 1996 |  5 | 11637 |\n",
       "| Sudan | 1994 | 18 |  1469 |\n",
       "| Sudan | 1995 | 11 |  9193 |\n",
       "| Sudan | 1996 | 16 | 19368 |\n",
       "| USA   | 1994 | 15 |  3730 |\n",
       "| USA   | 1995 | 15 |  4849 |\n",
       "| USA   | 1996 | 19 | 10752 |\n",
       "\n"
      ],
      "text/plain": [
       "  country year democracy_score gdp_pc\n",
       "1 China   1994 16              10831 \n",
       "2 China   1995 18              10156 \n",
       "3 China   1996  5              11637 \n",
       "4 Sudan   1994 18               1469 \n",
       "5 Sudan   1995 11               9193 \n",
       "6 Sudan   1996 16              19368 \n",
       "7 USA     1994 15               3730 \n",
       "8 USA     1995 15               4849 \n",
       "9 USA     1996 19              10752 "
      ]
     },
     "metadata": {},
     "output_type": "display_data"
    }
   ],
   "source": [
    "# Generate toy dataset 1: \n",
    "demo <- data.frame(\n",
    "    expand.grid(country = c(\"USA\", \"China\", \"Sudan\"), year = 1994:1996),\n",
    "    democracy_score = round(runif(9, 0, 20), 0)\n",
    "    )\n",
    "demo\n",
    "\n",
    "# Generate toy dataset 2: \n",
    "econ <- data.frame(\n",
    "    expand.grid(year = 1994:1996, country = c(\"USA\", \"China\", \"Sudan\")),\n",
    "    gdp_pc = round(runif(9, 1000, 20000), 0)\n",
    "    )\n",
    "econ\n",
    "\n",
    "merge(demo, econ, by = c(\"country\", \"year\"))"
   ]
  },
  {
   "cell_type": "markdown",
   "id": "12f852b5",
   "metadata": {},
   "source": [
    "Here, we're merging on both country and year. \n",
    "\n",
    "If one of the data frames has missing observations, only observations \n",
    "the two data frames have in common will be kept when merging, unless\n",
    "you specify `all.x`, `all.y`, or `all`: "
   ]
  },
  {
   "cell_type": "code",
   "execution_count": 4,
   "id": "4d2af98b",
   "metadata": {
    "execution": {
     "iopub.execute_input": "2021-07-28T18:51:02.363854Z",
     "iopub.status.busy": "2021-07-28T18:51:02.362878Z",
     "iopub.status.idle": "2021-07-28T18:51:02.405132Z",
     "shell.execute_reply": "2021-07-28T18:51:02.404255Z"
    },
    "lines_to_next_cell": 2
   },
   "outputs": [
    {
     "data": {
      "text/html": [
       "<table class=\"dataframe\">\n",
       "<caption>A data.frame: 7 × 3</caption>\n",
       "<thead>\n",
       "\t<tr><th></th><th scope=col>year</th><th scope=col>country</th><th scope=col>gdp_pc</th></tr>\n",
       "\t<tr><th></th><th scope=col>&lt;int&gt;</th><th scope=col>&lt;fct&gt;</th><th scope=col>&lt;dbl&gt;</th></tr>\n",
       "</thead>\n",
       "<tbody>\n",
       "\t<tr><th scope=row>1</th><td>1994</td><td>USA  </td><td> 3730</td></tr>\n",
       "\t<tr><th scope=row>2</th><td>1995</td><td>USA  </td><td> 4849</td></tr>\n",
       "\t<tr><th scope=row>3</th><td>1996</td><td>USA  </td><td>10752</td></tr>\n",
       "\t<tr><th scope=row>4</th><td>1994</td><td>China</td><td>10831</td></tr>\n",
       "\t<tr><th scope=row>6</th><td>1996</td><td>China</td><td>11637</td></tr>\n",
       "\t<tr><th scope=row>7</th><td>1994</td><td>Sudan</td><td> 1469</td></tr>\n",
       "\t<tr><th scope=row>8</th><td>1995</td><td>Sudan</td><td> 9193</td></tr>\n",
       "</tbody>\n",
       "</table>\n"
      ],
      "text/latex": [
       "A data.frame: 7 × 3\n",
       "\\begin{tabular}{r|lll}\n",
       "  & year & country & gdp\\_pc\\\\\n",
       "  & <int> & <fct> & <dbl>\\\\\n",
       "\\hline\n",
       "\t1 & 1994 & USA   &  3730\\\\\n",
       "\t2 & 1995 & USA   &  4849\\\\\n",
       "\t3 & 1996 & USA   & 10752\\\\\n",
       "\t4 & 1994 & China & 10831\\\\\n",
       "\t6 & 1996 & China & 11637\\\\\n",
       "\t7 & 1994 & Sudan &  1469\\\\\n",
       "\t8 & 1995 & Sudan &  9193\\\\\n",
       "\\end{tabular}\n"
      ],
      "text/markdown": [
       "\n",
       "A data.frame: 7 × 3\n",
       "\n",
       "| <!--/--> | year &lt;int&gt; | country &lt;fct&gt; | gdp_pc &lt;dbl&gt; |\n",
       "|---|---|---|---|\n",
       "| 1 | 1994 | USA   |  3730 |\n",
       "| 2 | 1995 | USA   |  4849 |\n",
       "| 3 | 1996 | USA   | 10752 |\n",
       "| 4 | 1994 | China | 10831 |\n",
       "| 6 | 1996 | China | 11637 |\n",
       "| 7 | 1994 | Sudan |  1469 |\n",
       "| 8 | 1995 | Sudan |  9193 |\n",
       "\n"
      ],
      "text/plain": [
       "  year country gdp_pc\n",
       "1 1994 USA      3730 \n",
       "2 1995 USA      4849 \n",
       "3 1996 USA     10752 \n",
       "4 1994 China   10831 \n",
       "6 1996 China   11637 \n",
       "7 1994 Sudan    1469 \n",
       "8 1995 Sudan    9193 "
      ]
     },
     "metadata": {},
     "output_type": "display_data"
    },
    {
     "data": {
      "text/html": [
       "<style>\n",
       ".list-inline {list-style: none; margin:0; padding: 0}\n",
       ".list-inline>li {display: inline-block}\n",
       ".list-inline>li:not(:last-child)::after {content: \"\\00b7\"; padding: 0 .5ex}\n",
       "</style>\n",
       "<ol class=list-inline><li>9</li><li>3</li></ol>\n"
      ],
      "text/latex": [
       "\\begin{enumerate*}\n",
       "\\item 9\n",
       "\\item 3\n",
       "\\end{enumerate*}\n"
      ],
      "text/markdown": [
       "1. 9\n",
       "2. 3\n",
       "\n",
       "\n"
      ],
      "text/plain": [
       "[1] 9 3"
      ]
     },
     "metadata": {},
     "output_type": "display_data"
    },
    {
     "data": {
      "text/html": [
       "<style>\n",
       ".list-inline {list-style: none; margin:0; padding: 0}\n",
       ".list-inline>li {display: inline-block}\n",
       ".list-inline>li:not(:last-child)::after {content: \"\\00b7\"; padding: 0 .5ex}\n",
       "</style>\n",
       "<ol class=list-inline><li>7</li><li>3</li></ol>\n"
      ],
      "text/latex": [
       "\\begin{enumerate*}\n",
       "\\item 7\n",
       "\\item 3\n",
       "\\end{enumerate*}\n"
      ],
      "text/markdown": [
       "1. 7\n",
       "2. 3\n",
       "\n",
       "\n"
      ],
      "text/plain": [
       "[1] 7 3"
      ]
     },
     "metadata": {},
     "output_type": "display_data"
    },
    {
     "data": {
      "text/html": [
       "<table class=\"dataframe\">\n",
       "<caption>A data.frame: 7 × 4</caption>\n",
       "<thead>\n",
       "\t<tr><th scope=col>country</th><th scope=col>year</th><th scope=col>democracy_score</th><th scope=col>gdp_pc</th></tr>\n",
       "\t<tr><th scope=col>&lt;fct&gt;</th><th scope=col>&lt;int&gt;</th><th scope=col>&lt;dbl&gt;</th><th scope=col>&lt;dbl&gt;</th></tr>\n",
       "</thead>\n",
       "<tbody>\n",
       "\t<tr><td>China</td><td>1994</td><td>16</td><td>10831</td></tr>\n",
       "\t<tr><td>China</td><td>1996</td><td> 5</td><td>11637</td></tr>\n",
       "\t<tr><td>Sudan</td><td>1994</td><td>18</td><td> 1469</td></tr>\n",
       "\t<tr><td>Sudan</td><td>1995</td><td>11</td><td> 9193</td></tr>\n",
       "\t<tr><td>USA  </td><td>1994</td><td>15</td><td> 3730</td></tr>\n",
       "\t<tr><td>USA  </td><td>1995</td><td>15</td><td> 4849</td></tr>\n",
       "\t<tr><td>USA  </td><td>1996</td><td>19</td><td>10752</td></tr>\n",
       "</tbody>\n",
       "</table>\n"
      ],
      "text/latex": [
       "A data.frame: 7 × 4\n",
       "\\begin{tabular}{llll}\n",
       " country & year & democracy\\_score & gdp\\_pc\\\\\n",
       " <fct> & <int> & <dbl> & <dbl>\\\\\n",
       "\\hline\n",
       "\t China & 1994 & 16 & 10831\\\\\n",
       "\t China & 1996 &  5 & 11637\\\\\n",
       "\t Sudan & 1994 & 18 &  1469\\\\\n",
       "\t Sudan & 1995 & 11 &  9193\\\\\n",
       "\t USA   & 1994 & 15 &  3730\\\\\n",
       "\t USA   & 1995 & 15 &  4849\\\\\n",
       "\t USA   & 1996 & 19 & 10752\\\\\n",
       "\\end{tabular}\n"
      ],
      "text/markdown": [
       "\n",
       "A data.frame: 7 × 4\n",
       "\n",
       "| country &lt;fct&gt; | year &lt;int&gt; | democracy_score &lt;dbl&gt; | gdp_pc &lt;dbl&gt; |\n",
       "|---|---|---|---|\n",
       "| China | 1994 | 16 | 10831 |\n",
       "| China | 1996 |  5 | 11637 |\n",
       "| Sudan | 1994 | 18 |  1469 |\n",
       "| Sudan | 1995 | 11 |  9193 |\n",
       "| USA   | 1994 | 15 |  3730 |\n",
       "| USA   | 1995 | 15 |  4849 |\n",
       "| USA   | 1996 | 19 | 10752 |\n",
       "\n"
      ],
      "text/plain": [
       "  country year democracy_score gdp_pc\n",
       "1 China   1994 16              10831 \n",
       "2 China   1996  5              11637 \n",
       "3 Sudan   1994 18               1469 \n",
       "4 Sudan   1995 11               9193 \n",
       "5 USA     1994 15               3730 \n",
       "6 USA     1995 15               4849 \n",
       "7 USA     1996 19              10752 "
      ]
     },
     "metadata": {},
     "output_type": "display_data"
    },
    {
     "data": {
      "text/html": [
       "<table class=\"dataframe\">\n",
       "<caption>A data.frame: 9 × 4</caption>\n",
       "<thead>\n",
       "\t<tr><th scope=col>country</th><th scope=col>year</th><th scope=col>democracy_score</th><th scope=col>gdp_pc</th></tr>\n",
       "\t<tr><th scope=col>&lt;fct&gt;</th><th scope=col>&lt;int&gt;</th><th scope=col>&lt;dbl&gt;</th><th scope=col>&lt;dbl&gt;</th></tr>\n",
       "</thead>\n",
       "<tbody>\n",
       "\t<tr><td>USA  </td><td>1994</td><td>15</td><td> 3730</td></tr>\n",
       "\t<tr><td>USA  </td><td>1995</td><td>15</td><td> 4849</td></tr>\n",
       "\t<tr><td>USA  </td><td>1996</td><td>19</td><td>10752</td></tr>\n",
       "\t<tr><td>China</td><td>1994</td><td>16</td><td>10831</td></tr>\n",
       "\t<tr><td>China</td><td>1995</td><td>18</td><td>   NA</td></tr>\n",
       "\t<tr><td>China</td><td>1996</td><td> 5</td><td>11637</td></tr>\n",
       "\t<tr><td>Sudan</td><td>1994</td><td>18</td><td> 1469</td></tr>\n",
       "\t<tr><td>Sudan</td><td>1995</td><td>11</td><td> 9193</td></tr>\n",
       "\t<tr><td>Sudan</td><td>1996</td><td>16</td><td>   NA</td></tr>\n",
       "</tbody>\n",
       "</table>\n"
      ],
      "text/latex": [
       "A data.frame: 9 × 4\n",
       "\\begin{tabular}{llll}\n",
       " country & year & democracy\\_score & gdp\\_pc\\\\\n",
       " <fct> & <int> & <dbl> & <dbl>\\\\\n",
       "\\hline\n",
       "\t USA   & 1994 & 15 &  3730\\\\\n",
       "\t USA   & 1995 & 15 &  4849\\\\\n",
       "\t USA   & 1996 & 19 & 10752\\\\\n",
       "\t China & 1994 & 16 & 10831\\\\\n",
       "\t China & 1995 & 18 &    NA\\\\\n",
       "\t China & 1996 &  5 & 11637\\\\\n",
       "\t Sudan & 1994 & 18 &  1469\\\\\n",
       "\t Sudan & 1995 & 11 &  9193\\\\\n",
       "\t Sudan & 1996 & 16 &    NA\\\\\n",
       "\\end{tabular}\n"
      ],
      "text/markdown": [
       "\n",
       "A data.frame: 9 × 4\n",
       "\n",
       "| country &lt;fct&gt; | year &lt;int&gt; | democracy_score &lt;dbl&gt; | gdp_pc &lt;dbl&gt; |\n",
       "|---|---|---|---|\n",
       "| USA   | 1994 | 15 |  3730 |\n",
       "| USA   | 1995 | 15 |  4849 |\n",
       "| USA   | 1996 | 19 | 10752 |\n",
       "| China | 1994 | 16 | 10831 |\n",
       "| China | 1995 | 18 |    NA |\n",
       "| China | 1996 |  5 | 11637 |\n",
       "| Sudan | 1994 | 18 |  1469 |\n",
       "| Sudan | 1995 | 11 |  9193 |\n",
       "| Sudan | 1996 | 16 |    NA |\n",
       "\n"
      ],
      "text/plain": [
       "  country year democracy_score gdp_pc\n",
       "1 USA     1994 15               3730 \n",
       "2 USA     1995 15               4849 \n",
       "3 USA     1996 19              10752 \n",
       "4 China   1994 16              10831 \n",
       "5 China   1995 18                 NA \n",
       "6 China   1996  5              11637 \n",
       "7 Sudan   1994 18               1469 \n",
       "8 Sudan   1995 11               9193 \n",
       "9 Sudan   1996 16                 NA "
      ]
     },
     "metadata": {},
     "output_type": "display_data"
    }
   ],
   "source": [
    "econ <- econ[-c(5, 9), ] #delete obs. 5 & 9 for illustrative purposes\n",
    "econ\n",
    "dim(demo) #different number of observations (rows) than 'econ'\n",
    "dim(econ) #different number of observations (rows) than 'demo'          \n",
    "\n",
    "merge(demo, econ, by = c(\"country\", \"year\")) #keep only matching observations \n",
    "merge(demo, econ, by = c(\"country\", \"year\"), all.x = TRUE) #keep all observations in 'demo'"
   ]
  },
  {
   "cell_type": "markdown",
   "id": "7c882fb0",
   "metadata": {},
   "source": [
    "One-to-many merging\n",
    "------------------------\n",
    "\n",
    "In the previous examples the ID variables we used for merging uniquely \n",
    "identified observations in each data frame. This is called one-to-one\n",
    "merging. \n",
    "\n",
    "Sometimes we need to do things slightly differently, using one-to-many merging. \n",
    "Say, for example, we have the following two data frames: "
   ]
  },
  {
   "cell_type": "code",
   "execution_count": 5,
   "id": "ae34616d",
   "metadata": {
    "execution": {
     "iopub.execute_input": "2021-07-28T18:51:02.409168Z",
     "iopub.status.busy": "2021-07-28T18:51:02.408123Z",
     "iopub.status.idle": "2021-07-28T18:51:02.431290Z",
     "shell.execute_reply": "2021-07-28T18:51:02.430418Z"
    }
   },
   "outputs": [
    {
     "data": {
      "text/html": [
       "<table class=\"dataframe\">\n",
       "<caption>A data.frame: 9 × 3</caption>\n",
       "<thead>\n",
       "\t<tr><th scope=col>country</th><th scope=col>year</th><th scope=col>democracy_score</th></tr>\n",
       "\t<tr><th scope=col>&lt;fct&gt;</th><th scope=col>&lt;int&gt;</th><th scope=col>&lt;dbl&gt;</th></tr>\n",
       "</thead>\n",
       "<tbody>\n",
       "\t<tr><td>USA  </td><td>1994</td><td>11</td></tr>\n",
       "\t<tr><td>China</td><td>1994</td><td>12</td></tr>\n",
       "\t<tr><td>Sudan</td><td>1994</td><td> 8</td></tr>\n",
       "\t<tr><td>USA  </td><td>1995</td><td> 7</td></tr>\n",
       "\t<tr><td>China</td><td>1995</td><td>20</td></tr>\n",
       "\t<tr><td>Sudan</td><td>1995</td><td> 8</td></tr>\n",
       "\t<tr><td>USA  </td><td>1996</td><td>11</td></tr>\n",
       "\t<tr><td>China</td><td>1996</td><td>15</td></tr>\n",
       "\t<tr><td>Sudan</td><td>1996</td><td>16</td></tr>\n",
       "</tbody>\n",
       "</table>\n"
      ],
      "text/latex": [
       "A data.frame: 9 × 3\n",
       "\\begin{tabular}{lll}\n",
       " country & year & democracy\\_score\\\\\n",
       " <fct> & <int> & <dbl>\\\\\n",
       "\\hline\n",
       "\t USA   & 1994 & 11\\\\\n",
       "\t China & 1994 & 12\\\\\n",
       "\t Sudan & 1994 &  8\\\\\n",
       "\t USA   & 1995 &  7\\\\\n",
       "\t China & 1995 & 20\\\\\n",
       "\t Sudan & 1995 &  8\\\\\n",
       "\t USA   & 1996 & 11\\\\\n",
       "\t China & 1996 & 15\\\\\n",
       "\t Sudan & 1996 & 16\\\\\n",
       "\\end{tabular}\n"
      ],
      "text/markdown": [
       "\n",
       "A data.frame: 9 × 3\n",
       "\n",
       "| country &lt;fct&gt; | year &lt;int&gt; | democracy_score &lt;dbl&gt; |\n",
       "|---|---|---|\n",
       "| USA   | 1994 | 11 |\n",
       "| China | 1994 | 12 |\n",
       "| Sudan | 1994 |  8 |\n",
       "| USA   | 1995 |  7 |\n",
       "| China | 1995 | 20 |\n",
       "| Sudan | 1995 |  8 |\n",
       "| USA   | 1996 | 11 |\n",
       "| China | 1996 | 15 |\n",
       "| Sudan | 1996 | 16 |\n",
       "\n"
      ],
      "text/plain": [
       "  country year democracy_score\n",
       "1 USA     1994 11             \n",
       "2 China   1994 12             \n",
       "3 Sudan   1994  8             \n",
       "4 USA     1995  7             \n",
       "5 China   1995 20             \n",
       "6 Sudan   1995  8             \n",
       "7 USA     1996 11             \n",
       "8 China   1996 15             \n",
       "9 Sudan   1996 16             "
      ]
     },
     "metadata": {},
     "output_type": "display_data"
    },
    {
     "data": {
      "text/html": [
       "<table class=\"dataframe\">\n",
       "<caption>A data.frame: 3 × 2</caption>\n",
       "<thead>\n",
       "\t<tr><th scope=col>country</th><th scope=col>region</th></tr>\n",
       "\t<tr><th scope=col>&lt;chr&gt;</th><th scope=col>&lt;chr&gt;</th></tr>\n",
       "</thead>\n",
       "<tbody>\n",
       "\t<tr><td>USA  </td><td>America</td></tr>\n",
       "\t<tr><td>China</td><td>Asia   </td></tr>\n",
       "\t<tr><td>Sudan</td><td>Africa </td></tr>\n",
       "</tbody>\n",
       "</table>\n"
      ],
      "text/latex": [
       "A data.frame: 3 × 2\n",
       "\\begin{tabular}{ll}\n",
       " country & region\\\\\n",
       " <chr> & <chr>\\\\\n",
       "\\hline\n",
       "\t USA   & America\\\\\n",
       "\t China & Asia   \\\\\n",
       "\t Sudan & Africa \\\\\n",
       "\\end{tabular}\n"
      ],
      "text/markdown": [
       "\n",
       "A data.frame: 3 × 2\n",
       "\n",
       "| country &lt;chr&gt; | region &lt;chr&gt; |\n",
       "|---|---|\n",
       "| USA   | America |\n",
       "| China | Asia    |\n",
       "| Sudan | Africa  |\n",
       "\n"
      ],
      "text/plain": [
       "  country region \n",
       "1 USA     America\n",
       "2 China   Asia   \n",
       "3 Sudan   Africa "
      ]
     },
     "metadata": {},
     "output_type": "display_data"
    }
   ],
   "source": [
    "demo <- data.frame(\n",
    "    expand.grid(country = c(\"USA\", \"China\", \"Sudan\"), year = 1994:1996),\n",
    "    democracy_score = round(runif(9, 0, 20), 0)\n",
    "    )\n",
    "demo\n",
    "\n",
    "region <- data.frame(\n",
    "    country = c(\"USA\", \"China\", \"Sudan\"), \n",
    "    region = c(\"America\", \"Asia\", \"Africa\")\n",
    "    )\n",
    "region"
   ]
  },
  {
   "cell_type": "markdown",
   "id": "91864dd6",
   "metadata": {},
   "source": [
    "A one-to-many merge of these data frames would look like this: "
   ]
  },
  {
   "cell_type": "code",
   "execution_count": 6,
   "id": "661b72df",
   "metadata": {
    "execution": {
     "iopub.execute_input": "2021-07-28T18:51:02.435093Z",
     "iopub.status.busy": "2021-07-28T18:51:02.434062Z",
     "iopub.status.idle": "2021-07-28T18:51:02.448870Z",
     "shell.execute_reply": "2021-07-28T18:51:02.447747Z"
    },
    "lines_to_next_cell": 2
   },
   "outputs": [
    {
     "data": {
      "text/html": [
       "<table class=\"dataframe\">\n",
       "<caption>A data.frame: 9 × 4</caption>\n",
       "<thead>\n",
       "\t<tr><th scope=col>country</th><th scope=col>year</th><th scope=col>democracy_score</th><th scope=col>region</th></tr>\n",
       "\t<tr><th scope=col>&lt;fct&gt;</th><th scope=col>&lt;int&gt;</th><th scope=col>&lt;dbl&gt;</th><th scope=col>&lt;chr&gt;</th></tr>\n",
       "</thead>\n",
       "<tbody>\n",
       "\t<tr><td>China</td><td>1994</td><td>12</td><td>Asia   </td></tr>\n",
       "\t<tr><td>China</td><td>1995</td><td>20</td><td>Asia   </td></tr>\n",
       "\t<tr><td>China</td><td>1996</td><td>15</td><td>Asia   </td></tr>\n",
       "\t<tr><td>Sudan</td><td>1995</td><td> 8</td><td>Africa </td></tr>\n",
       "\t<tr><td>Sudan</td><td>1994</td><td> 8</td><td>Africa </td></tr>\n",
       "\t<tr><td>Sudan</td><td>1996</td><td>16</td><td>Africa </td></tr>\n",
       "\t<tr><td>USA  </td><td>1994</td><td>11</td><td>America</td></tr>\n",
       "\t<tr><td>USA  </td><td>1996</td><td>11</td><td>America</td></tr>\n",
       "\t<tr><td>USA  </td><td>1995</td><td> 7</td><td>America</td></tr>\n",
       "</tbody>\n",
       "</table>\n"
      ],
      "text/latex": [
       "A data.frame: 9 × 4\n",
       "\\begin{tabular}{llll}\n",
       " country & year & democracy\\_score & region\\\\\n",
       " <fct> & <int> & <dbl> & <chr>\\\\\n",
       "\\hline\n",
       "\t China & 1994 & 12 & Asia   \\\\\n",
       "\t China & 1995 & 20 & Asia   \\\\\n",
       "\t China & 1996 & 15 & Asia   \\\\\n",
       "\t Sudan & 1995 &  8 & Africa \\\\\n",
       "\t Sudan & 1994 &  8 & Africa \\\\\n",
       "\t Sudan & 1996 & 16 & Africa \\\\\n",
       "\t USA   & 1994 & 11 & America\\\\\n",
       "\t USA   & 1996 & 11 & America\\\\\n",
       "\t USA   & 1995 &  7 & America\\\\\n",
       "\\end{tabular}\n"
      ],
      "text/markdown": [
       "\n",
       "A data.frame: 9 × 4\n",
       "\n",
       "| country &lt;fct&gt; | year &lt;int&gt; | democracy_score &lt;dbl&gt; | region &lt;chr&gt; |\n",
       "|---|---|---|---|\n",
       "| China | 1994 | 12 | Asia    |\n",
       "| China | 1995 | 20 | Asia    |\n",
       "| China | 1996 | 15 | Asia    |\n",
       "| Sudan | 1995 |  8 | Africa  |\n",
       "| Sudan | 1994 |  8 | Africa  |\n",
       "| Sudan | 1996 | 16 | Africa  |\n",
       "| USA   | 1994 | 11 | America |\n",
       "| USA   | 1996 | 11 | America |\n",
       "| USA   | 1995 |  7 | America |\n",
       "\n"
      ],
      "text/plain": [
       "  country year democracy_score region \n",
       "1 China   1994 12              Asia   \n",
       "2 China   1995 20              Asia   \n",
       "3 China   1996 15              Asia   \n",
       "4 Sudan   1995  8              Africa \n",
       "5 Sudan   1994  8              Africa \n",
       "6 Sudan   1996 16              Africa \n",
       "7 USA     1994 11              America\n",
       "8 USA     1996 11              America\n",
       "9 USA     1995  7              America"
      ]
     },
     "metadata": {},
     "output_type": "display_data"
    }
   ],
   "source": [
    "merge(demo, region, by = \"country\")"
   ]
  },
  {
   "cell_type": "markdown",
   "id": "fc84d3ec",
   "metadata": {},
   "source": [
    "## Appending\n",
    "\n",
    "\n",
    "Appending means matching datasets vertically. We can do this in R using \n",
    "`rbind()`. The two dataframes you're appending must have identical \n",
    "variable names. Here's an example: "
   ]
  },
  {
   "cell_type": "code",
   "execution_count": 7,
   "id": "7720b741",
   "metadata": {
    "execution": {
     "iopub.execute_input": "2021-07-28T18:51:02.452825Z",
     "iopub.status.busy": "2021-07-28T18:51:02.451827Z",
     "iopub.status.idle": "2021-07-28T18:51:02.757047Z",
     "shell.execute_reply": "2021-07-28T18:51:02.756042Z"
    },
    "lines_to_next_cell": 0
   },
   "outputs": [
    {
     "name": "stderr",
     "output_type": "stream",
     "text": [
      "Loading required package: dplyr\n",
      "\n"
     ]
    },
    {
     "name": "stderr",
     "output_type": "stream",
     "text": [
      "\n",
      "Attaching package: ‘dplyr’\n",
      "\n",
      "\n"
     ]
    },
    {
     "name": "stderr",
     "output_type": "stream",
     "text": [
      "The following objects are masked from ‘package:stats’:\n",
      "\n",
      "    filter, lag\n",
      "\n",
      "\n"
     ]
    },
    {
     "name": "stderr",
     "output_type": "stream",
     "text": [
      "The following objects are masked from ‘package:base’:\n",
      "\n",
      "    intersect, setdiff, setequal, union\n",
      "\n",
      "\n"
     ]
    },
    {
     "data": {
      "text/html": [
       "<table class=\"dataframe\">\n",
       "<caption>A data.frame: 22 × 2</caption>\n",
       "<thead>\n",
       "\t<tr><th scope=col>year</th><th scope=col>country</th></tr>\n",
       "\t<tr><th scope=col>&lt;int&gt;</th><th scope=col>&lt;chr&gt;</th></tr>\n",
       "</thead>\n",
       "<tbody>\n",
       "\t<tr><td>1990</td><td>country1</td></tr>\n",
       "\t<tr><td>1991</td><td>country1</td></tr>\n",
       "\t<tr><td>1992</td><td>country1</td></tr>\n",
       "\t<tr><td>1993</td><td>country1</td></tr>\n",
       "\t<tr><td>1994</td><td>country1</td></tr>\n",
       "\t<tr><td>1995</td><td>country1</td></tr>\n",
       "\t<tr><td>1996</td><td>country1</td></tr>\n",
       "\t<tr><td>1997</td><td>country1</td></tr>\n",
       "\t<tr><td>1998</td><td>country1</td></tr>\n",
       "\t<tr><td>1999</td><td>country1</td></tr>\n",
       "\t<tr><td>2000</td><td>country1</td></tr>\n",
       "\t<tr><td>1990</td><td>country2</td></tr>\n",
       "\t<tr><td>1991</td><td>country2</td></tr>\n",
       "\t<tr><td>1992</td><td>country2</td></tr>\n",
       "\t<tr><td>1993</td><td>country2</td></tr>\n",
       "\t<tr><td>1994</td><td>country2</td></tr>\n",
       "\t<tr><td>1995</td><td>country2</td></tr>\n",
       "\t<tr><td>1996</td><td>country2</td></tr>\n",
       "\t<tr><td>1997</td><td>country2</td></tr>\n",
       "\t<tr><td>1998</td><td>country2</td></tr>\n",
       "\t<tr><td>1999</td><td>country2</td></tr>\n",
       "\t<tr><td>2000</td><td>country2</td></tr>\n",
       "</tbody>\n",
       "</table>\n"
      ],
      "text/latex": [
       "A data.frame: 22 × 2\n",
       "\\begin{tabular}{ll}\n",
       " year & country\\\\\n",
       " <int> & <chr>\\\\\n",
       "\\hline\n",
       "\t 1990 & country1\\\\\n",
       "\t 1991 & country1\\\\\n",
       "\t 1992 & country1\\\\\n",
       "\t 1993 & country1\\\\\n",
       "\t 1994 & country1\\\\\n",
       "\t 1995 & country1\\\\\n",
       "\t 1996 & country1\\\\\n",
       "\t 1997 & country1\\\\\n",
       "\t 1998 & country1\\\\\n",
       "\t 1999 & country1\\\\\n",
       "\t 2000 & country1\\\\\n",
       "\t 1990 & country2\\\\\n",
       "\t 1991 & country2\\\\\n",
       "\t 1992 & country2\\\\\n",
       "\t 1993 & country2\\\\\n",
       "\t 1994 & country2\\\\\n",
       "\t 1995 & country2\\\\\n",
       "\t 1996 & country2\\\\\n",
       "\t 1997 & country2\\\\\n",
       "\t 1998 & country2\\\\\n",
       "\t 1999 & country2\\\\\n",
       "\t 2000 & country2\\\\\n",
       "\\end{tabular}\n"
      ],
      "text/markdown": [
       "\n",
       "A data.frame: 22 × 2\n",
       "\n",
       "| year &lt;int&gt; | country &lt;chr&gt; |\n",
       "|---|---|\n",
       "| 1990 | country1 |\n",
       "| 1991 | country1 |\n",
       "| 1992 | country1 |\n",
       "| 1993 | country1 |\n",
       "| 1994 | country1 |\n",
       "| 1995 | country1 |\n",
       "| 1996 | country1 |\n",
       "| 1997 | country1 |\n",
       "| 1998 | country1 |\n",
       "| 1999 | country1 |\n",
       "| 2000 | country1 |\n",
       "| 1990 | country2 |\n",
       "| 1991 | country2 |\n",
       "| 1992 | country2 |\n",
       "| 1993 | country2 |\n",
       "| 1994 | country2 |\n",
       "| 1995 | country2 |\n",
       "| 1996 | country2 |\n",
       "| 1997 | country2 |\n",
       "| 1998 | country2 |\n",
       "| 1999 | country2 |\n",
       "| 2000 | country2 |\n",
       "\n"
      ],
      "text/plain": [
       "   year country \n",
       "1  1990 country1\n",
       "2  1991 country1\n",
       "3  1992 country1\n",
       "4  1993 country1\n",
       "5  1994 country1\n",
       "6  1995 country1\n",
       "7  1996 country1\n",
       "8  1997 country1\n",
       "9  1998 country1\n",
       "10 1999 country1\n",
       "11 2000 country1\n",
       "12 1990 country2\n",
       "13 1991 country2\n",
       "14 1992 country2\n",
       "15 1993 country2\n",
       "16 1994 country2\n",
       "17 1995 country2\n",
       "18 1996 country2\n",
       "19 1997 country2\n",
       "20 1998 country2\n",
       "21 1999 country2\n",
       "22 2000 country2"
      ]
     },
     "metadata": {},
     "output_type": "display_data"
    }
   ],
   "source": [
    "df1 <- data.frame(\n",
    "    year = rep(1990:1995, 2),\n",
    "    country = c(rep(\"country1\", 6), rep(\"country2\", 6))\n",
    "    )\n",
    "df2 <- data.frame(\n",
    "    year = rep(1996:2000, 2),\n",
    "    country = c(rep(\"country1\", 5), rep(\"country2\", 5))\n",
    "    )\n",
    "\n",
    "df <- rbind(df1, df2) #append\n",
    "\n",
    "require(dplyr) #to display output in certain order\n",
    "arrange(df, country, year)"
   ]
  },
  {
   "cell_type": "markdown",
   "id": "74fb01de",
   "metadata": {},
   "source": []
  },
  {
   "cell_type": "markdown",
   "id": "6e220269",
   "metadata": {},
   "source": [
    "## Exercises \n",
    "\n",
    "\n",
    "**Warm-up:** Merge the three data frames defined below. Your final data\n",
    "frame should have 9 rows and 5 columns. Hint: merge only two data\n",
    "frames at a time."
   ]
  },
  {
   "cell_type": "code",
   "execution_count": 8,
   "id": "564f7c49",
   "metadata": {
    "execution": {
     "iopub.execute_input": "2021-07-28T18:51:02.761059Z",
     "iopub.status.busy": "2021-07-28T18:51:02.760156Z",
     "iopub.status.idle": "2021-07-28T18:51:02.770992Z",
     "shell.execute_reply": "2021-07-28T18:51:02.770117Z"
    },
    "lines_to_next_cell": 2
   },
   "outputs": [],
   "source": [
    "df1 <- data.frame(\n",
    "    name = c(\"Mary\", \"Thor\", \"Sven\", \"Jane\", \"Ake\", \"Stephan\",\n",
    "             \"Bjorn\", \"Oden\", \"Dennis\"),\n",
    "    treatment_gr = c(rep(c(1, 2, 3), each = 3)),\n",
    "    weight_p1 = round(runif(9, 100, 200), 0)\n",
    "    )\n",
    "df2 <- data.frame(\n",
    "    name = c(\"Sven\", \"Jane\", \"Ake\", \"Mary\", \"Thor\", \"Stephan\", \n",
    "             \"Oden\", \"Bjorn\"),\n",
    "    weight_p2 = round(runif(8, 100, 200), 0)\n",
    "    )                           \n",
    "df3 <- data.frame(\n",
    "    treatment_gr = c(1, 2, 3),\n",
    "    type = c(\"dog-lovers\", \"cat-lovers\", \"all-lovers\")\n",
    "    )\n"
   ]
  },
  {
   "cell_type": "markdown",
   "id": "55c6f682",
   "metadata": {},
   "source": [
    "**More extensive:** A prominent economic theory predicts that higher\n",
    "income inequality should be associated with more redistribution from\n",
    "the rich to the poor (Meltzer and Richard 1981). Let's create a\n",
    "dataset that will allow us to test this prediction using\n",
    "U.S. state-level data.\n",
    "\n",
    "1. Download data on inequality and tax collection (links below). Take\n",
    "a moment to familiarize yourself with the codebooks. Then read each\n",
    "dataset into R.\n",
    "* [Dataset](../data/Frank_All_v97.csv) with six measures of inequality\n",
    "(originally from [Mark W. Frank](http://www.shsu.edu/eco_mwf/inequality.html)). \n",
    "* [Tax data](http://www.census.gov/govs/statetax/historical_data.html) that\n",
    "can be used to measure fiscal capacity/redistribution. Use \n",
    "the \"State Government Tax Collections\" link. \n"
   ]
  },
  {
   "cell_type": "markdown",
   "id": "95a98e36",
   "metadata": {},
   "source": [
    "2. Keep only the Year, State, Name, Total Taxes, and Total Income\n",
    "Taxes variables in the tax dataset, and rename these if\n",
    "necessary. Keep all the variables in the inequality dataset. Subset\n",
    "both datasets to be in the year range 1960-2012. \n",
    "\n",
    "3. Merge the two datasets. Take a moment to think about how to do\n",
    "this. Your final dataset should have 2650 rows and 12 variables. (Keep\n",
    "only data on the 50 states; 50 states x 53 years = 2650 observations.)\n",
    "Hint: You may find [this dataset with state identifiers](../data/State_FIPS.csv) \n",
    "helpful. \n",
    "\n",
    "4. The Total Tax and Total Income Tax variables from the tax dataset have\n",
    "commas in them, and are therefore not numeric. Remove the commas and \n",
    "convert the variables to numeric. Hint: `gsub()`. \n",
    "\n",
    "\n",
    "\n",
    "\n",
    "\n"
   ]
  }
 ],
 "metadata": {
  "jupytext": {
   "cell_metadata_filter": "-all",
   "main_language": "R",
   "notebook_metadata_filter": "-all"
  },
  "kernelspec": {
   "display_name": "R",
   "language": "R",
   "name": "ir"
  },
  "language_info": {
   "codemirror_mode": "r",
   "file_extension": ".r",
   "mimetype": "text/x-r-source",
   "name": "R",
   "pygments_lexer": "r",
   "version": "4.1.0"
  }
 },
 "nbformat": 4,
 "nbformat_minor": 5
}
