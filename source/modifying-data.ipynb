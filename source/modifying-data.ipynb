{
 "cells": [
  {
   "cell_type": "markdown",
   "source": [
    "# Modifying Data\n",
    "\n",
    "Being able to quickly modify datasets is critical. This involves, among other things --  subsetting, sorting, extracting unique observations, renaming variables, dropping variables, and creating new variables.  To accomplish each of these tasks, we'll use a set of\n",
    " relatively new functions introduced in the **dplyr** package developed\n",
    " by [Hadley Wickham](http://had.co.nz/).  A nice introduction to this\n",
    " package is [here](https://cran.rstudio.com/web/packages/dplyr/vignettes/introduction.html).\n",
    " I'll try to give more of a beginner's introduction below.\n"
   ],
   "metadata": {}
  },
  {
   "cell_type": "markdown",
   "source": [
    "\n",
    "Overview\n",
    "====================\n",
    "\n",
    "The table below gives an overview of very common data management tasks\n",
    "and their corresponding dplyr function. \n",
    "\n",
    "<table class=\"table\" style=\"width: auto !important\">\n",
    "\n",
    "<thead class=\"text-left\">\n",
    "<tr>\n",
    "<th>Task</th>\n",
    "<th>Function</th>\n",
    "</tr>\n",
    "</thead>\n",
    "\n",
    "<tfoot>\n",
    "<tr>\n",
    "<td>\n",
    "<span style=\"font-size: 11px\"> &#42;Covered in a [separate tutorial](../collapsing-data).</span>\n",
    "</td>\n",
    "<td> </td>\n",
    "</tr>\n",
    "</tfoot>"
   ],
   "metadata": {}
  },
  {
   "cell_type": "markdown",
   "source": [
    "<tbody>\n",
    "<tr>\n",
    "<td>Subsetting</td>\n",
    "<td>`filter()`</td>\n",
    "</tr>\n",
    "<tr>\n",
    "<td>Sorting</td>\n",
    "<td>`arrange()`</td>\n",
    "</tr>\n",
    "<tr>\n",
    "<td>Dropping variables</td>\n",
    "<td>`select()`</td>\n",
    "</tr>\n",
    "<tr>\n",
    "<td>Renaming variables</td>\n",
    "<td>`rename()`</td>\n",
    "</tr>\n",
    "<tr>\n",
    "<td>Extracting unique values</td>\n",
    "<td>`distinct()`</td>\n",
    "</tr>\n",
    "<tr>\n",
    "<td>Creating new variables</td>\n",
    "<td>`mutate()`</td>\n",
    "</tr>\n",
    "<tr>\n",
    "<td>Collapsing data&#42;</td>\n",
    "<td>`group_by()` and `summarize()` \n",
    "</tr>\n",
    "</tbody>\n"
   ],
   "metadata": {}
  },
  {
   "cell_type": "markdown",
   "source": [
    "</table>"
   ],
   "metadata": {}
  },
  {
   "cell_type": "markdown",
   "source": [
    "All of these tasks can also be accomplished using R's base\n",
    "functions, but this usually requires more involved code.  An\n",
    "additional advantage of using dplyr functions is that they can be\n",
    "combined in an elegant way using [chaining](#chaining).\n",
    "\n",
    "To demonstrate these functions, we'll rely on a small\n",
    "data frame called `countries` that you can create as follows: "
   ],
   "metadata": {}
  },
  {
   "cell_type": "code",
   "execution_count": null,
   "source": [
    "countries <- data.frame(\n",
    "    expand.grid(country = c(\"USA\", \"China\", \"Sudan\"), year = 1994:1996),\n",
    "    gdp_pc = round(runif(9, 1000, 20000), 0)\n",
    "    )\n",
    "countries$country <- as.character(countries$country) #factor --> character\n",
    "countries"
   ],
   "outputs": [],
   "metadata": {}
  },
  {
   "cell_type": "markdown",
   "source": [
    "We'll also make use of `world-small.csv`, which you can download\n",
    "[here](data/world-small.csv).\n",
    "\n",
    "Before we begin, let's also load two packages we'll need. (Of course,\n",
    "they need to be installed first --- remind yourself\n",
    "[here](../introduction/#packages).)"
   ],
   "metadata": {}
  },
  {
   "cell_type": "code",
   "execution_count": null,
   "source": [
    "require(plyr) \n",
    "require(dplyr) "
   ],
   "outputs": [],
   "metadata": {}
  },
  {
   "cell_type": "markdown",
   "source": [
    "<div style=\"margin-top: 15px\"> </div>\n",
    "\n",
    "Subsetting\n",
    "==============\n",
    "\n",
    "The best way to subset a dataset is by using a logical statement. The\n",
    "idea is that we want to keep only some *rows* in a dataset that meet\n",
    "some logical condition.\n",
    "\n",
    "Say we wanted to subset the `countries` dataset to (1) a certain\n",
    "country, (2) a certain year, (3) a certain country *and* year, or (4)\n",
    "a certain GDP range. Here's how we can do this using `filter()`."
   ],
   "metadata": {}
  },
  {
   "cell_type": "code",
   "execution_count": null,
   "source": [
    "filter(countries, country == \"China\")\n",
    "filter(countries, year == 1996)\n",
    "filter(countries, country == \"USA\" & year == 1995)\n",
    "filter(countries, gdp_pc > 5000 & gdp_pc < 14000)"
   ],
   "outputs": [],
   "metadata": {}
  },
  {
   "cell_type": "markdown",
   "source": [
    "As should be obvious, the first argument in the `filter()` function\n",
    "specifies the dataset on which to carry out the operation. The second\n",
    "argument specifies the logical operation used to filter the data.\n",
    "\n",
    "In fact, **the first argument in all dplyr functions is a dataset**.\n",
    "Using dplyr we can move this first argument outside the function and\n",
    "use the special operator `%>%` to chain statements. The benefits of\n",
    "this will become more obvious in the section on chaining. The code\n",
    "below accomplishes the same thing as that above using `%>%` and moving\n",
    "the data frame outside the `filter()` function."
   ],
   "metadata": {}
  },
  {
   "cell_type": "code",
   "execution_count": null,
   "source": [
    "countries %>% filter(country == \"China\") \n",
    "countries %>% filter(year == 1996)\n",
    "countries %>% filter(country == \"USA\" & year == 1995)\n",
    "countries %>% filter(gdp_pc > 5000 & gdp_pc < 14000)"
   ],
   "outputs": [],
   "metadata": {}
  },
  {
   "cell_type": "markdown",
   "source": [
    "One last note that applies throughout most of this tutorial: I'm not\n",
    "saving the subsets to any object here. You would normally want to do\n",
    "this. (I'm not doing it here so that you can see the output of the\n",
    "function without extra lines of code.) Just to be clear, if you wanted\n",
    "to take a subset and save the result into an object you'd use the\n",
    "assignment operator as usual."
   ],
   "metadata": {}
  },
  {
   "cell_type": "code",
   "execution_count": null,
   "source": [
    "china <- countries %>% filter(country == \"China\")\n",
    "china"
   ],
   "outputs": [],
   "metadata": {
    "lines_to_next_cell": 2
   }
  },
  {
   "cell_type": "markdown",
   "source": [
    "Sorting\n",
    "============\n",
    "\n",
    "Use `arrange()` to sort a dataset. Here are a few examples. (I'll use\n",
    "the chaining operator `%>%` from now on --- if you're confused about\n",
    "this remember that you can just bring the data frame `countries`\n",
    "inside the function.)"
   ],
   "metadata": {}
  },
  {
   "cell_type": "code",
   "execution_count": null,
   "source": [
    "# Sort by country names \n",
    "countries %>% arrange(country) \n",
    "\n",
    "# Sort by GDP (ascending is default) \n",
    "countries %>% arrange(gdp_pc)\n",
    "\n",
    "# Sort by GDP (descending)\n",
    "countries %>% arrange(desc(gdp_pc))\n",
    "\n",
    "# Sort by country name, then GDP\n",
    "countries %>% arrange(country, gdp_pc)"
   ],
   "outputs": [],
   "metadata": {}
  },
  {
   "cell_type": "markdown",
   "source": [
    "Dropping\n",
    "====================\n",
    "\n",
    "To only keep some variables in a data frame use `select()`:"
   ],
   "metadata": {}
  },
  {
   "cell_type": "code",
   "execution_count": null,
   "source": [
    "# Keep country and GDP\n",
    "countries %>% select(country, gdp_pc)\n",
    "\n",
    "# Same thing using '-', implying you want to delete a variable\n",
    "countries %>% select(-year)\n",
    "\n",
    "# Selecting and renaming in one\n",
    "countries %>% select(country_name = country, gdp_pc)"
   ],
   "outputs": [],
   "metadata": {}
  },
  {
   "cell_type": "markdown",
   "source": [
    "Renaming\n",
    "====================\n",
    "\n",
    "As illustrated in the last line of code above you can rename variables\n",
    "using `select()`. But this can also be done using `rename()`:"
   ],
   "metadata": {}
  },
  {
   "cell_type": "code",
   "execution_count": null,
   "source": [
    "# Rename GDP per capita\n",
    "countries %>% rename(GDP.PC = gdp_pc)"
   ],
   "outputs": [],
   "metadata": {}
  },
  {
   "cell_type": "markdown",
   "source": [
    "Unique values\n",
    "=====================\n",
    "\n",
    "Removing duplicate observations can be useful, but be careful: entire\n",
    "rows will be deleted. Use `distinct()`:"
   ],
   "metadata": {}
  },
  {
   "cell_type": "code",
   "execution_count": null,
   "source": [
    "countries %>% distinct(country)"
   ],
   "outputs": [],
   "metadata": {}
  },
  {
   "cell_type": "markdown",
   "source": [
    "Note that the function keeps the first non-duplicate. This is more\n",
    "useful when you suspect that duplicate values of the following kind\n",
    "have slipped into the dataset:"
   ],
   "metadata": {}
  },
  {
   "cell_type": "code",
   "execution_count": null,
   "source": [
    "countries2 <- rbind(\n",
    "    data.frame(country = \"USA\", year = 1994, gdp_pc = 10000),\n",
    "    countries\n",
    "    )\n",
    "countries2 "
   ],
   "outputs": [],
   "metadata": {}
  },
  {
   "cell_type": "markdown",
   "source": [
    "Note that we all of a sudden have two USA 1994 observations. Delete\n",
    "one of them using `distinct()`."
   ],
   "metadata": {}
  },
  {
   "cell_type": "code",
   "execution_count": null,
   "source": [
    "countries2 %>% distinct(country, year)"
   ],
   "outputs": [],
   "metadata": {}
  },
  {
   "cell_type": "markdown",
   "source": [
    "New variables \n",
    "================\n",
    "\n",
    "Use `mutate()` to create new variables or to modify existing\n",
    "variables. Here are a few examples."
   ],
   "metadata": {}
  },
  {
   "cell_type": "code",
   "execution_count": null,
   "source": [
    "# Create a new variable that has GDP per capita in 1000s\n",
    "countries %>% mutate(gdppc_1k = gdp_pc / 1000)\n",
    "\n",
    "# Create a new variable with lower-case country names\n",
    "countries %>% mutate(country_lc = tolower(country))\n",
    "\n",
    "# Both in one statement\n",
    "countries %>% mutate(gdppc_1k = gdp_pc / 1000,\n",
    "                     country_lc = tolower(country))\n",
    "    "
   ],
   "outputs": [],
   "metadata": {}
  },
  {
   "cell_type": "markdown",
   "source": [
    "A lot of times it makes more sense to just overwrite an\n",
    "existing variable rather than adding a variable."
   ],
   "metadata": {}
  },
  {
   "cell_type": "code",
   "execution_count": null,
   "source": [
    "countries %>% mutate(country = tolower(country))"
   ],
   "outputs": [],
   "metadata": {}
  },
  {
   "cell_type": "markdown",
   "source": [
    "`mutate()` can be combined with two other useful functions: `ifelse()`\n",
    "and `revalue()`. "
   ],
   "metadata": {}
  },
  {
   "cell_type": "markdown",
   "source": [
    "<span class=\"fw\"> ifelse() </span>\n",
    "------------------------------\n",
    "\n",
    "`ifelse()` is a logical function that is useful for modifying\n",
    "variables in datasets (or individual vectors). Here's an illustration\n",
    "of how it works:"
   ],
   "metadata": {}
  },
  {
   "cell_type": "code",
   "execution_count": null,
   "source": [
    "numbers <- 1:10\n",
    "ifelse(numbers > 5, numbers * 10, numbers / 10)"
   ],
   "outputs": [],
   "metadata": {}
  },
  {
   "cell_type": "markdown",
   "source": [
    "The function takes three arguments: (1) a logical test, (2) what to do\n",
    "if the test is true, and (3) what to do if the test is false. Thus, in\n",
    "the code above numbers greater than 5 are multiplied by 10 and numbers\n",
    "less than or equal to 5 are divided by 10.\n",
    "\n",
    "We can apply this to variables in data frames. Let's use the `world-small.csv`\n",
    "dataset to illustrate (download [here](data/world-small.csv)). \n"
   ],
   "metadata": {}
  },
  {
   "cell_type": "code",
   "execution_count": null,
   "source": [
    "world <- read.csv(\"data/world-small.csv\")"
   ],
   "outputs": [],
   "metadata": {
    "tags": [
     "remove_input"
    ]
   }
  },
  {
   "cell_type": "code",
   "execution_count": null,
   "source": [
    "# Read world-small dataset \n",
    "world <- read.csv(\"world-small.csv\")"
   ],
   "outputs": [],
   "metadata": {
    "eval": false,
    "lines_to_next_cell": 2
   }
  },
  {
   "cell_type": "code",
   "execution_count": null,
   "source": [
    "head(world)\n",
    "\n",
    "# Create a new variable equal to \"democracy\" if a country has\n",
    "# a polity score >= 15 and \"autocracy\" otherwise \n",
    "world <- world %>% mutate(democracy = ifelse(polityIV >= 15, \"democracy\", \"autocracy\"))\n",
    "head(world)\n",
    "\n",
    "# Or represent this information as a dummy variable instead \n",
    "world <- world %>% mutate(democracy = ifelse(polityIV >= 15, 1, 0))\n",
    "head(world)"
   ],
   "outputs": [],
   "metadata": {}
  },
  {
   "cell_type": "markdown",
   "source": [
    "We first created a new variable called `democracy` equal to\n",
    "\"democracy\" if a country has a Polity IV score of at least 15 and\n",
    "\"autocracy\" otherwise.  We then overwrote this variable with a \"dummy\n",
    "variable\" representing the same information using zeroes and ones. \n",
    "\n",
    "<div class=\"general-note\">\n",
    "\n",
    "<strong> General note about dummy variables: </strong> Dummy variables\n",
    "--- sometimes called \"indicator variables\" or \"binary variables\" ---\n",
    "are extremely useful for representing binary information. Their\n",
    "usefulness in part stems from their applicability in regression models\n",
    "and in part from how they can be used to summarize information. For\n",
    "example, taking the mean of the dummy variable `democracy` above ---\n",
    "that is, `mean(world$democracy)` --- gives us the proportion of\n",
    "countries that we classified as \"democracy\".\n",
    "\n",
    "</div>\n"
   ],
   "metadata": {}
  },
  {
   "cell_type": "markdown",
   "source": [
    "<span class=\"fw\"> revalue() </span>\n",
    "------------------------------\n",
    "\n",
    "We often want to recode the categories of a variable. \n",
    "For example, take a look at the `region` variable in `world`:"
   ],
   "metadata": {}
  },
  {
   "cell_type": "code",
   "execution_count": null,
   "source": [
    "table(world$region)"
   ],
   "outputs": [],
   "metadata": {}
  },
  {
   "cell_type": "markdown",
   "source": [
    "Currently this variable has eight categories. Say we wanted to\n",
    "simplify it a little bit by combining the three regions in Europe. We\n",
    "also want to rename the two regions in America. This can be accomplished\n",
    "with `revalue()` from the **plyr** package. "
   ],
   "metadata": {}
  },
  {
   "cell_type": "code",
   "execution_count": null,
   "source": [
    "world$region <- revalue(world$region, c(\n",
    "    \"C&E Europe\" = \"Europe\",\n",
    "    \"Scandinavia\" = \"Europe\",\n",
    "    \"W. Europe\" = \"Europe\",\n",
    "    \"N. America\" = \"North America\",\n",
    "    \"S. America\" = \"South America\"))\n",
    "table(world$region)"
   ],
   "outputs": [],
   "metadata": {}
  },
  {
   "cell_type": "markdown",
   "source": [
    "This can also be accomplished with `ifelse()`, but we would have to\n",
    "nest several `ifelse()` statements. For this reason I prefer `revalue()`. \n",
    "\n"
   ],
   "metadata": {}
  },
  {
   "cell_type": "markdown",
   "source": [
    "A note on factor variables \n",
    "------------------------------\n",
    "\n",
    "The `read.csv()` function automatically converts variables that\n",
    "contain strings to the class \"factor\". Note, for example, that both\n",
    "the `country` and `region` variables in the `world` dataset are\n",
    "represented as factors. "
   ],
   "metadata": {}
  },
  {
   "cell_type": "code",
   "execution_count": null,
   "source": [
    "class(world$country)\n",
    "class(world$region)"
   ],
   "outputs": [],
   "metadata": {}
  },
  {
   "cell_type": "markdown",
   "source": [
    "These variables are useful in regression models in R. For example,\n",
    "including `region` in an OLS model (using command `lm()`) would\n",
    "automatically represent all regions as dummy variables except one\n",
    "left as the reference category. If that's not making sense to you\n",
    "at this stage, don't worry at all.\n",
    "\n",
    "But factor variables can also cause issues if you're not careful.  In\n",
    "particular, factor variables are sometimes displayed to the user as a\n",
    "certain set of numbers, yet are stored internally as an entirely\n",
    "different set of numbers. For example, say the `gdppcap08` variable in\n",
    "`world` had been read as a factor. (Fortunately, in reality it was\n",
    "read correctly as numeric, but this sometimes isn't the case.) \n"
   ],
   "metadata": {}
  },
  {
   "cell_type": "code",
   "execution_count": null,
   "source": [
    "# Recode gdp per capita to factor\n",
    "# NOTE: Only for illustrative purposes! \n",
    "world <- world %>% mutate(gdppcap08 = as.factor(gdppcap08))\n",
    "head(world)\n",
    "class(world$gdppcap08)"
   ],
   "outputs": [],
   "metadata": {}
  },
  {
   "cell_type": "markdown",
   "source": [
    "Ok, the GDP variable is now a factor variable. Note, though, that it\n",
    "looks just like a numeric variable. You might therefore be tempted to\n",
    "try to do things like `mean(world$gdppcap08)`, yet this would return\n",
    "`NA` instead of an actual value as before. You might also be tempted to\n",
    "recode the GDP variable from factor to numeric using the following code:"
   ],
   "metadata": {}
  },
  {
   "cell_type": "code",
   "execution_count": null,
   "source": [
    "head(world %>% mutate(gdppcap08 = as.numeric(gdppcap08)))"
   ],
   "outputs": [],
   "metadata": {}
  },
  {
   "cell_type": "markdown",
   "source": [
    "Something has gone seriously wrong --- look at the values of\n",
    "`gdppcap08`. **Here's the learning lesson: to convert a factor\n",
    "variable to numeric, you have to recode it to character first.** Use\n",
    "`as.numeric(as.character(variable))`, where `variable` is the factor\n",
    "variable to convert. "
   ],
   "metadata": {}
  },
  {
   "cell_type": "code",
   "execution_count": null,
   "source": [
    "world <- world %>% mutate(gdppcap08 = as.numeric(as.character(gdppcap08)))\n",
    "head(world)\n",
    "class(world$gdppcap08)"
   ],
   "outputs": [],
   "metadata": {
    "lines_to_next_cell": 2
   }
  },
  {
   "cell_type": "markdown",
   "source": [
    "Chaining\n",
    "=============\n",
    "\n",
    "What if you wanted to apply *multiple* functions to one data frame?\n",
    "This is where chaining is elegant and facilitates debugging.\n",
    "\n",
    "More specifically, say we wanted to use `countries` to create a new\n",
    "data frame called `countries_new`, which should have observations from\n",
    "years 1995 and 1996 (dropping 1994), should be sorted by country name\n",
    "(in lower case), and should have a new variable equal to GDP per\n",
    "capita in 1000s.\n",
    "\n",
    "Here's how we could do this *without* chaining: "
   ],
   "metadata": {}
  },
  {
   "cell_type": "code",
   "execution_count": null,
   "source": [
    "countries_new <- filter(countries, year != 1994) #drop year 1994\n",
    "countries_new <- arrange(countries_new, country) #sort by country names\n",
    "countries_new <- mutate(countries_new, country = tolower(country), #convert name to lower-case\n",
    "                                       gdppc_1k = gdp_pc / 1000) #create GDP pc in 1000s\n",
    "countries_new"
   ],
   "outputs": [],
   "metadata": {}
  },
  {
   "cell_type": "markdown",
   "source": [
    "Here's the same thing using chaining: "
   ],
   "metadata": {}
  },
  {
   "cell_type": "code",
   "execution_count": null,
   "source": [
    "countries_new <- countries %>%\n",
    "    filter(year != 1994) %>%\n",
    "    arrange(country) %>%\n",
    "    mutate(country = tolower(country), gdppc_1k = gdp_pc / 1000)\n",
    "countries_new"
   ],
   "outputs": [],
   "metadata": {}
  },
  {
   "cell_type": "markdown",
   "source": [
    "I find code that makes use of chaining more readable. Chaining always\n",
    "begins with specifying the data frame we want to operate on (e.g.,\n",
    "`countries`).  Every subsequent statement will operate on this data\n",
    "frame, starting with the function that comes right after the data\n",
    "frame and working its way down.  In our case, the first thing we'll do\n",
    "to `countries` is to subset it. We'll then sort it by country name. Lastly,\n",
    "we'll overwrite the country name to be lower-case and create a new\n",
    "variable representing GDP per capita in 1000s.\n"
   ],
   "metadata": {}
  },
  {
   "cell_type": "markdown",
   "source": [
    "Exercises \n",
    "==================\n",
    "\n",
    "1. Read the `world-small.csv` dataset into R and store it in an object called `world`.\n",
    "\n",
    "2. Subset `world` to European countries. Save this subset as a new data frame called `europe`.\n",
    "\n",
    "3. Add two variables to `europe`: \n",
    "    a. A variable that recodes `polityIV` from 0-20 to -10-10. \n",
    "    b. A variable that categorizes a country as \"rich\" or \"poor\" based on some \n",
    "cutoff of `gdppcap08` you think is reasonable. \n",
    "\n",
    "4. Drop the `region` variable in `europe` (keep the rest). \n",
    "\n",
    "5. Sort `europe` based on Polity IV. \n",
    "\n",
    "6. Repeat Exercises 2-5 using chaining. \n",
    "\n",
    "7. What was the world's mean GDP per capita in 2008? Polity IV score?\n",
    "\n",
    "8. What was Africa's mean GDP per capita and Polity IV score?\n",
    "\n",
    "9. What was the poorest country in the world in 2008? Richest? \n",
    "\n",
    "10. How many countries in Europe are \"rich\" according to your coding? \n",
    "How many are poor? What percentage have Polity IV scores of at least 18?\n",
    "\n"
   ],
   "metadata": {}
  }
 ],
 "metadata": {
  "jupytext": {
   "cell_metadata_filter": "tags,eval,-all",
   "main_language": "R",
   "notebook_metadata_filter": "-all"
  },
  "language_info": {
   "name": "R"
  },
  "kernelspec": {
   "name": "ir",
   "display_name": "R",
   "language": "R"
  }
 },
 "nbformat": 4,
 "nbformat_minor": 5
}