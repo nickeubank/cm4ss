{
    "cells": [
        {
            "cell_type": "markdown",
            "source": [
                "# Matrix Exercises"
            ],
            "metadata": {}
        },
        {
            "cell_type": "markdown",
            "source": [
                "to do"
            ],
            "metadata": {}
        }
    ],
    "metadata": {
        "orig_nbformat": 4,
        "language_info": {
            "name": "r"
        }
    },
    "nbformat": 4,
    "nbformat_minor": 2
}