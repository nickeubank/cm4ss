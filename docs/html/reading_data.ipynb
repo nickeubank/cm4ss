{
 "cells": [
  {
   "cell_type": "markdown",
   "metadata": {},
   "source": [
    "# Reading Data\n",
    "\n",
    "Yup, it's finally time for REAL DATA! HOORAY!\n",
    "\n",
    "The first step in working with real data (usually) will be to load it from a file. \n",
    "\n",
    "## File Paths in Working Directories\n",
    "\n",
    "To read a file you need to:\n",
    "\n",
    "1. Specify where the file is located on your computer. This is referred to as setting your working directory. \n",
    "2. Execute a command that will read the file from your working directory. "
   ]
  },
  {
   "cell_type": "markdown",
   "metadata": {},
   "source": [
    "The working directory is the location in your file system that R thinks of as being \"open\". That means that if you save a file with `write.csv(\"my_data.csv\")`, the file `my_data.csv` will be saved to your working directory. Similarly, if you open a file with `read.csv(\"world-small.csv\")`, R will look in your working directory to try to find a file called \"world-small.csv\" to try to load.\n",
    "\n",
    "To see the current working directory of your R session, run `getwd()`. On my system (a mac), this looks like:"
   ]
  },
  {
   "cell_type": "code",
   "execution_count": 20,
   "metadata": {},
   "outputs": [
    {
     "data": {
      "text/html": [
       "'/Users/Nick/github/computational_methods_boot_camp/source'"
      ],
      "text/latex": [
       "'/Users/Nick/github/computational\\_methods\\_boot\\_camp/source'"
      ],
      "text/markdown": [
       "'/Users/Nick/github/computational_methods_boot_camp/source'"
      ],
      "text/plain": [
       "[1] \"/Users/Nick/github/computational_methods_boot_camp/source\""
      ]
     },
     "metadata": {},
     "output_type": "display_data"
    }
   ],
   "source": [
    "getwd()"
   ]
  },
  {
   "cell_type": "markdown",
   "metadata": {},
   "source": [
    "To change your working directory, you can use the command `setwd(\"[new working directory]\")`. For example, if I wanted to move my working directory to my desktop, I'd type:"
   ]
  },
  {
   "cell_type": "code",
   "execution_count": 21,
   "metadata": {},
   "outputs": [],
   "source": [
    "setwd(\"/users/nick/downloads\")"
   ]
  },
  {
   "cell_type": "markdown",
   "metadata": {},
   "source": [
    "And if you want to see what's in your working directory (as a sanity check to ensure you're in the right place), run `dir()`:"
   ]
  },
  {
   "cell_type": "code",
   "execution_count": 26,
   "metadata": {},
   "outputs": [
    {
     "data": {
      "text/html": [
       "<style>\n",
       ".list-inline {list-style: none; margin:0; padding: 0}\n",
       ".list-inline>li {display: inline-block}\n",
       ".list-inline>li:not(:last-child)::after {content: \"\\00b7\"; padding: 0 .5ex}\n",
       "</style>\n",
       "<ol class=list-inline><li>'Frank_All_v97.csv'</li><li>'RatesDeaths_AllIndicators.xlsx'</li><li>'State_FIPS.csv'</li><li>'anes-1948-2012.zip'</li><li>'democracy.csv'</li><li>'gdp.csv'</li><li>'nyc-311-sample'</li><li>'nyc-311-sample.zip'</li><li>'region.csv'</li><li>'states.csv'</li><li>'states_codebook.csv'</li><li>'unicef-all.csv'</li><li>'unicef-u5mr.csv'</li><li>'world-small.csv'</li></ol>\n"
      ],
      "text/latex": [
       "\\begin{enumerate*}\n",
       "\\item 'Frank\\_All\\_v97.csv'\n",
       "\\item 'RatesDeaths\\_AllIndicators.xlsx'\n",
       "\\item 'State\\_FIPS.csv'\n",
       "\\item 'anes-1948-2012.zip'\n",
       "\\item 'democracy.csv'\n",
       "\\item 'gdp.csv'\n",
       "\\item 'nyc-311-sample'\n",
       "\\item 'nyc-311-sample.zip'\n",
       "\\item 'region.csv'\n",
       "\\item 'states.csv'\n",
       "\\item 'states\\_codebook.csv'\n",
       "\\item 'unicef-all.csv'\n",
       "\\item 'unicef-u5mr.csv'\n",
       "\\item 'world-small.csv'\n",
       "\\end{enumerate*}\n"
      ],
      "text/markdown": [
       "1. 'Frank_All_v97.csv'\n",
       "2. 'RatesDeaths_AllIndicators.xlsx'\n",
       "3. 'State_FIPS.csv'\n",
       "4. 'anes-1948-2012.zip'\n",
       "5. 'democracy.csv'\n",
       "6. 'gdp.csv'\n",
       "7. 'nyc-311-sample'\n",
       "8. 'nyc-311-sample.zip'\n",
       "9. 'region.csv'\n",
       "10. 'states.csv'\n",
       "11. 'states_codebook.csv'\n",
       "12. 'unicef-all.csv'\n",
       "13. 'unicef-u5mr.csv'\n",
       "14. 'world-small.csv'\n",
       "\n",
       "\n"
      ],
      "text/plain": [
       " [1] \"Frank_All_v97.csv\"              \"RatesDeaths_AllIndicators.xlsx\"\n",
       " [3] \"State_FIPS.csv\"                 \"anes-1948-2012.zip\"            \n",
       " [5] \"democracy.csv\"                  \"gdp.csv\"                       \n",
       " [7] \"nyc-311-sample\"                 \"nyc-311-sample.zip\"            \n",
       " [9] \"region.csv\"                     \"states.csv\"                    \n",
       "[11] \"states_codebook.csv\"            \"unicef-all.csv\"                \n",
       "[13] \"unicef-u5mr.csv\"                \"world-small.csv\"               "
      ]
     },
     "metadata": {},
     "output_type": "display_data"
    }
   ],
   "source": [
    "setwd(\"/Users/Nick/github/computational_methods_boot_camp/source/data\")\n",
    "dir()"
   ]
  },
  {
   "cell_type": "markdown",
   "metadata": {},
   "source": [
    "Note that file paths (the way we specify a working directory) will look very different on Windows! On a Mac, this kind of path always starts with a `/`. On Windows, it will start with something like `C:/` (e.g. my Downloads folder would be at `\"C:/Users/Nick/Downloads\"`).\n",
    "\n",
    "If you can't figure out the path to a file to the folder you need to access, however, in RStudio you can also set the working directory by going to the `Session` menu, going to `Set Working Directory`, and `Choose Directory...`. That will insert the correct path into the `setwd()` function in your console. \n",
    "\n",
    "(On Macs, that path will often start with `~/`, which is a shorthand on Macs for your user directory, and is the same as `/users/[your user name]/`).\n",
    "\n",
    "If you want to learn more about file paths, you can read about them here."
   ]
  },
  {
   "cell_type": "markdown",
   "metadata": {},
   "source": [
    "Reading the file \n",
    "----------------------\n",
    "\n",
    "Now that we've told R where to look for our file, it's time to read it. \n",
    "\n",
    "Datasets come in many formats, usually identified by their file suffix, such as `file.csv` for comma-separated value text files, `file.dta` for Stata datafiles, etc. Thankfully, R can read almost any standard data format you may get. For example, here are a handful of commands for reading different types of files:\n",
    "\n",
    "(don't try to memorize these! You can always google this type of command in the future, I just want to make sure you know that these commands *exist* so it will occur to you to google them in the future):\n",
    "\n",
    "```r\n",
    "# Available by default\n",
    "df <- read.csv(\"file.csv\")           # Comma separated values\n",
    "df <- read.csv(\"file.txt\", sep=\"\\t\") # tab separated values\n",
    "\n",
    "# Using the `foreign` library, which you can install with `install.package(\"foreign\")`\n",
    "library(foreign) #load foreign\n",
    "df <- read.dta(\"file.dta\")   # Stata data\n",
    "df <- read.spss(\"file.spss\") # SPSS data\n",
    "\n",
    "# Using the `readxl` library, which you can install with `install.package(\"readxl\")`\n",
    "library(readxl)\n",
    "df <- read_excel(\"file.xls\")  # Excel xls spreadsheet\n",
    "df <- read_excel(\"file.xlsx\") # Excel xlsx spreadsheet\n",
    "```\n",
    "\n",
    "For the exercises we'll be doing next, we'll work with the `world-small.csv` dataset, which you can download [here](data/world-small.csv).\n",
    "\n",
    "As noted, different commands are used to read different types of files. This is the syntax used for reading a .csv file:"
   ]
  },
  {
   "cell_type": "code",
   "execution_count": 27,
   "metadata": {
    "tags": [
     "remove_input"
    ]
   },
   "outputs": [],
   "source": [
    "world <- read.csv(\"world-small.csv\")"
   ]
  },
  {
   "cell_type": "markdown",
   "metadata": {},
   "source": [
    "I'm reading the file from the working directory and assigning it\n",
    "to the object `world`, which becomes of class `data.frame`. "
   ]
  },
  {
   "cell_type": "code",
   "execution_count": 28,
   "metadata": {},
   "outputs": [
    {
     "data": {
      "text/html": [
       "'data.frame'"
      ],
      "text/latex": [
       "'data.frame'"
      ],
      "text/markdown": [
       "'data.frame'"
      ],
      "text/plain": [
       "[1] \"data.frame\""
      ]
     },
     "metadata": {},
     "output_type": "display_data"
    }
   ],
   "source": [
    "class(world)"
   ]
  },
  {
   "cell_type": "markdown",
   "metadata": {},
   "source": [
    "Let's check if the file was read correctly, using `dim()`\n",
    "(returns the dimensions), `head()` (returns the top six rows),\n",
    "and `summary()` (returns summary information about each variable):"
   ]
  },
  {
   "cell_type": "code",
   "execution_count": 29,
   "metadata": {},
   "outputs": [
    {
     "data": {
      "text/html": [
       "<style>\n",
       ".list-inline {list-style: none; margin:0; padding: 0}\n",
       ".list-inline>li {display: inline-block}\n",
       ".list-inline>li:not(:last-child)::after {content: \"\\00b7\"; padding: 0 .5ex}\n",
       "</style>\n",
       "<ol class=list-inline><li>145</li><li>4</li></ol>\n"
      ],
      "text/latex": [
       "\\begin{enumerate*}\n",
       "\\item 145\n",
       "\\item 4\n",
       "\\end{enumerate*}\n"
      ],
      "text/markdown": [
       "1. 145\n",
       "2. 4\n",
       "\n",
       "\n"
      ],
      "text/plain": [
       "[1] 145   4"
      ]
     },
     "metadata": {},
     "output_type": "display_data"
    }
   ],
   "source": [
    "dim(world) #the number of rows and columns "
   ]
  },
  {
   "cell_type": "code",
   "execution_count": 30,
   "metadata": {},
   "outputs": [
    {
     "data": {
      "text/html": [
       "<table class=\"dataframe\">\n",
       "<caption>A data.frame: 6 × 4</caption>\n",
       "<thead>\n",
       "\t<tr><th></th><th scope=col>country</th><th scope=col>region</th><th scope=col>gdppcap08</th><th scope=col>polityIV</th></tr>\n",
       "\t<tr><th></th><th scope=col>&lt;chr&gt;</th><th scope=col>&lt;chr&gt;</th><th scope=col>&lt;int&gt;</th><th scope=col>&lt;dbl&gt;</th></tr>\n",
       "</thead>\n",
       "<tbody>\n",
       "\t<tr><th scope=row>1</th><td><span style=white-space:pre-wrap>Albania  </span></td><td><span style=white-space:pre-wrap>C&amp;E Europe  </span></td><td> 7715</td><td>17.8</td></tr>\n",
       "\t<tr><th scope=row>2</th><td>Algeria  </td><td>Africa      </td><td> 8033</td><td>10.0</td></tr>\n",
       "\t<tr><th scope=row>3</th><td>Angola   </td><td>Africa      </td><td> 5899</td><td> 8.0</td></tr>\n",
       "\t<tr><th scope=row>4</th><td>Argentina</td><td>S. America  </td><td>14333</td><td>18.0</td></tr>\n",
       "\t<tr><th scope=row>5</th><td><span style=white-space:pre-wrap>Armenia  </span></td><td><span style=white-space:pre-wrap>C&amp;E Europe  </span></td><td> 6070</td><td>15.0</td></tr>\n",
       "\t<tr><th scope=row>6</th><td>Australia</td><td>Asia-Pacific</td><td>35677</td><td>20.0</td></tr>\n",
       "</tbody>\n",
       "</table>\n"
      ],
      "text/latex": [
       "A data.frame: 6 × 4\n",
       "\\begin{tabular}{r|llll}\n",
       "  & country & region & gdppcap08 & polityIV\\\\\n",
       "  & <chr> & <chr> & <int> & <dbl>\\\\\n",
       "\\hline\n",
       "\t1 & Albania   & C\\&E Europe   &  7715 & 17.8\\\\\n",
       "\t2 & Algeria   & Africa       &  8033 & 10.0\\\\\n",
       "\t3 & Angola    & Africa       &  5899 &  8.0\\\\\n",
       "\t4 & Argentina & S. America   & 14333 & 18.0\\\\\n",
       "\t5 & Armenia   & C\\&E Europe   &  6070 & 15.0\\\\\n",
       "\t6 & Australia & Asia-Pacific & 35677 & 20.0\\\\\n",
       "\\end{tabular}\n"
      ],
      "text/markdown": [
       "\n",
       "A data.frame: 6 × 4\n",
       "\n",
       "| <!--/--> | country &lt;chr&gt; | region &lt;chr&gt; | gdppcap08 &lt;int&gt; | polityIV &lt;dbl&gt; |\n",
       "|---|---|---|---|---|\n",
       "| 1 | Albania   | C&amp;E Europe   |  7715 | 17.8 |\n",
       "| 2 | Algeria   | Africa       |  8033 | 10.0 |\n",
       "| 3 | Angola    | Africa       |  5899 |  8.0 |\n",
       "| 4 | Argentina | S. America   | 14333 | 18.0 |\n",
       "| 5 | Armenia   | C&amp;E Europe   |  6070 | 15.0 |\n",
       "| 6 | Australia | Asia-Pacific | 35677 | 20.0 |\n",
       "\n"
      ],
      "text/plain": [
       "  country   region       gdppcap08 polityIV\n",
       "1 Albania   C&E Europe    7715     17.8    \n",
       "2 Algeria   Africa        8033     10.0    \n",
       "3 Angola    Africa        5899      8.0    \n",
       "4 Argentina S. America   14333     18.0    \n",
       "5 Armenia   C&E Europe    6070     15.0    \n",
       "6 Australia Asia-Pacific 35677     20.0    "
      ]
     },
     "metadata": {},
     "output_type": "display_data"
    }
   ],
   "source": [
    "head(world) #the first few rows of the dataset"
   ]
  },
  {
   "cell_type": "code",
   "execution_count": 31,
   "metadata": {},
   "outputs": [
    {
     "data": {
      "text/plain": [
       "   country             region            gdppcap08        polityIV     \n",
       " Length:145         Length:145         Min.   :  188   Min.   : 0.000  \n",
       " Class :character   Class :character   1st Qu.: 2153   1st Qu.: 7.667  \n",
       " Mode  :character   Mode  :character   Median : 7271   Median :16.000  \n",
       "                                       Mean   :13252   Mean   :13.408  \n",
       "                                       3rd Qu.:19330   3rd Qu.:19.000  \n",
       "                                       Max.   :85868   Max.   :20.000  "
      ]
     },
     "metadata": {},
     "output_type": "display_data"
    }
   ],
   "source": [
    "summary(world) #a summary of the variables in the dataset"
   ]
  },
  {
   "cell_type": "markdown",
   "metadata": {},
   "source": [
    "Everything looks as we would have hoped!"
   ]
  },
  {
   "cell_type": "markdown",
   "metadata": {},
   "source": [
    "## Exercises\n",
    "\n",
    "\n",
    "1. Read the `world-small.csv` data into R and store it in an object\n",
    "called `world`. (Set your working directory using code first.) \n",
    "\n",
    "2. (Conceptual) What is the unit of analysis in the dataset? What's the name\n",
    "of the dataset's id variable?\n",
    "\n",
    "3. How many observations does `world` have? How many variables? Use an R\n",
    "command to find out.\n",
    "\n",
    "4. Use brackets and a logical statement to inspect all the values for\n",
    "   Nigeria and United States. That is, your code should return two\n",
    "   entire rows of the dataset. \n",
    "\n",
    "5. Use R to return China's Polity IV score. As in question 4, use a logical\n",
    "statement and brackets, but don't return the entire row. Rather, return a single\n",
    "value with the Polity IV score.\n",
    "\n",
    "6. What is the lowest GDP per capita in the dataset? (Use R to return only the value.)\n",
    "\n",
    "7. What country has the lowest GDP per capita? (Your code should\n",
    "return the country name and be general enough so that if the observations\n",
    "in the dataset --- or their order --- change, your code should still return the\n",
    "country with the lowest GDP per capita.)\n",
    "\n",
    "\n",
    "\n",
    "\n",
    "\n"
   ]
  },
  {
   "cell_type": "markdown",
   "metadata": {},
   "source": [
    "## Exercises \n",
    "\n",
    "\n",
    "1. Read the `world-small.csv` dataset into R and store it in an object called `world`.\n",
    "\n",
    "2. Subset `world` to European countries. Save this subset as a new data frame called `europe`.\n",
    "\n",
    "3. Add two variables to `europe`: \n",
    "    a. A variable that recodes `polityIV` from 0-20 to -10-10. \n",
    "    b. A variable that categorizes a country as \"rich\" or \"poor\" based on some \n",
    "cutoff of `gdppcap08` you think is reasonable. \n",
    "\n",
    "4. Drop the `region` variable in `europe` (keep the rest). \n",
    "\n",
    "5. Sort `europe` based on Polity IV. \n",
    "\n",
    "6. Repeat Exercises 2-5 using chaining. \n",
    "\n",
    "7. What was the world's mean GDP per capita in 2008? Polity IV score?\n",
    "\n",
    "8. What was Africa's mean GDP per capita and Polity IV score?\n",
    "\n",
    "9. What was the poorest country in the world in 2008? Richest? \n",
    "\n",
    "10. How many countries in Europe are \"rich\" according to your coding? \n",
    "How many are poor? What percentage have Polity IV scores of at least 18?\n",
    "\n"
   ]
  }
 ],
 "metadata": {
  "kernelspec": {
   "display_name": "R",
   "language": "R",
   "name": "ir"
  },
  "language_info": {
   "codemirror_mode": "r",
   "file_extension": ".r",
   "mimetype": "text/x-r-source",
   "name": "R",
   "pygments_lexer": "r",
   "version": "4.1.0"
  }
 },
 "nbformat": 4,
 "nbformat_minor": 2
}
