{
 "cells": [
  {
   "cell_type": "markdown",
   "id": "aaad3001",
   "metadata": {},
   "source": [
    "# Loops\n",
    "\n",
    "**PRELIMINARY SITE DRAFT. MUCH WORK TO BE DONE!**\n",
    "\n",
    "\n",
    "For loops can be useful when you want to iterate a process in R --- e.g., run a simulation. This tutorial explains how to write for loops and shows how to use them to run Monte Carlo simulations. For loops are neat, but it's worth emphasizing that you should avoid them and instead use [vectorization](http://www.noamross.net/blog/2014/4/16/vectorization-in-r--why.html) --- which is much faster --- when possible. "
   ]
  },
  {
   "cell_type": "markdown",
   "id": "0ac9e370",
   "metadata": {},
   "source": [
    "## Writing a for loop\n",
    "\n",
    "Let's start with a very simple example. Let's say you \n",
    "have the following vector `v1` with individuals' height in centimeters:"
   ]
  },
  {
   "cell_type": "code",
   "execution_count": null,
   "id": "8f9c0923",
   "metadata": {},
   "outputs": [],
   "source": [
    "v1 <- c(175, 182, 150, 187, 165)"
   ]
  },
  {
   "cell_type": "markdown",
   "id": "a6116cb3",
   "metadata": {},
   "source": [
    "We can convert the values in `v1` from centimeters to meters using a for loop: "
   ]
  },
  {
   "cell_type": "code",
   "execution_count": null,
   "id": "b240a8af",
   "metadata": {},
   "outputs": [],
   "source": [
    "v2 <- rep(NA, 5)               #create vector v2 with NA values \n",
    "for(i in 1:5) {                #loop over elements in v1 and store in v2  \n",
    "    v2[i] <- v1[i] / 100\n",
    "}\n",
    "v2                             #v2 after the for loop"
   ]
  },
  {
   "cell_type": "markdown",
   "id": "993aeff0",
   "metadata": {},
   "source": [
    "Note that we could have done this using\n",
    "[vectorization](http://www.noamross.net/blog/2014/4/16/vectorization-in-r--why.html),\n",
    "which is more compact and faster (when we have a lot of data): "
   ]
  },
  {
   "cell_type": "code",
   "execution_count": null,
   "id": "f2abb508",
   "metadata": {},
   "outputs": [],
   "source": [
    "v2 <- v1 / 100"
   ]
  },
  {
   "cell_type": "markdown",
   "id": "43ea810e",
   "metadata": {
    "lines_to_next_cell": 0
   },
   "source": [
    "However, the example illustrates the following points about writing a\n",
    "for loop:\n",
    "\n",
    "1. Begin by creating an object that can store the results of your for\n",
    "loop.  In the example above, we created `v2` for this purpose. With\n",
    "vectors, we need to specify how many elements we want to eventually\n",
    "store, in this case 5. (This is not true if you wanted to store the\n",
    "results in a list.)  \n",
    "\n",
    "2. The basic structure of the loop usually is: "
   ]
  },
  {
   "cell_type": "code",
   "execution_count": null,
   "id": "adb3a15a",
   "metadata": {
    "echo": "#R_CODE#2:4",
    "lines_to_next_cell": 0
   },
   "outputs": [],
   "source": [
    "n <- 5\n",
    "for(i in 1:n) {\n",
    "    #commands to execute for iteration i\n",
    "}"
   ]
  },
  {
   "cell_type": "markdown",
   "id": "5efba8d1",
   "metadata": {
    "lines_to_next_cell": 0
   },
   "source": [
    "Here `n` represents the number of times you want to iterate the loop. The loop \n",
    "will run from 1 to `n` by an integer count. If you instead wanted the loop to iterate\n",
    "from 1 to `n` but skip every other number you could use `seq(1, n, by = 2)` in place of \n",
    "`1:n`. \n",
    "\n",
    "3\\.&nbsp;Within the for loop we want to save the output of each iteration to an element of \n",
    "the vector (or list) we created initially (in this case `v2`).\n",
    "\\\n",
    "\\\n",
    "\n",
    "Here's a more general approach accomplishing the same thing, but where \n",
    "we keep the number of iterations flexible depending on how many elements \n",
    "`v1` contains: "
   ]
  },
  {
   "cell_type": "code",
   "execution_count": null,
   "id": "4d7ea204",
   "metadata": {},
   "outputs": [],
   "source": [
    "v1 <- c(175, 182, 150, 187, 165)\n",
    "n <- length(v1)\n",
    "v2 <- rep(NA, n)\n",
    "for(i in 1:n) {\n",
    "    v2[i] <- v1[i] / 100\n",
    "}\n",
    "v2"
   ]
  },
  {
   "cell_type": "markdown",
   "id": "4657c1e7",
   "metadata": {
    "lines_to_next_cell": 0
   },
   "source": [
    "Of course, you can store outputs from the for loop in a vector within a data \n",
    "frame. Say we had the following data frame with names and heights: "
   ]
  },
  {
   "cell_type": "code",
   "execution_count": null,
   "id": "66bf1816",
   "metadata": {},
   "outputs": [],
   "source": [
    "ppl <- data.frame(person = letters[1:5], height_cm = v1)\n",
    "ppl"
   ]
  },
  {
   "cell_type": "markdown",
   "id": "e4b04ca7",
   "metadata": {
    "lines_to_next_cell": 0
   },
   "source": [
    "Let's add a variable that expresses height in inches instead:"
   ]
  },
  {
   "cell_type": "code",
   "execution_count": null,
   "id": "fc9c0e72",
   "metadata": {},
   "outputs": [],
   "source": [
    "ppl$height_inch <- NA                                     #add variable of NAs\n",
    "n <- nrow(ppl)                                            #get number of observations to loop over\n",
    "for(i in 1:n){\n",
    "    ppl$height_inch[i] <- ppl$height_cm[i] * 0.393701\n",
    "}\n",
    "ppl"
   ]
  },
  {
   "cell_type": "markdown",
   "id": "19fd9b1d",
   "metadata": {},
   "source": [
    "Note that when adding a constant or `NA` values to a vector within a\n",
    "data frame, `R` (correctly) assumes that you want to add this constant to every \n",
    "element of the variable, so you don't need to specify how many times you want to \n",
    "add `NA` in `ppl$height_inch <- NA`. "
   ]
  },
  {
   "cell_type": "markdown",
   "id": "b0fb366d",
   "metadata": {
    "lines_to_next_cell": 0
   },
   "source": [
    "## An appliction\n",
    "\n",
    "For loops can be used to carry out Monte Carlo simulations. In the\n",
    "example below, we'll draw repeated samples from a population,\n",
    "calculate the mean for each sample, and test whether we on average do\n",
    "a good job of estimating the population mean. \n",
    "\n",
    "Say the population consists of 10 individuals with the following heights: "
   ]
  },
  {
   "cell_type": "code",
   "execution_count": null,
   "id": "5d2783a3",
   "metadata": {},
   "outputs": [],
   "source": [
    "v <- c(175, 182, 150, 187, 165, 177, 200, 198, 157, 165)\n",
    "mean(v)    #population mean"
   ]
  },
  {
   "cell_type": "markdown",
   "id": "e66ac2b4",
   "metadata": {},
   "source": [
    "Unfortunately, for whatever reason, we do not know the heights of all\n",
    "of these individuals. We can only (randomly) sample 5 of them. From\n",
    "this random sample of five individuals we estimate the height of all\n",
    "10 individuals. We can draw a sample of 5 from `v` and take the mean\n",
    "of this sample using the following code:"
   ]
  },
  {
   "cell_type": "code",
   "execution_count": null,
   "id": "eeb8f6d1",
   "metadata": {},
   "outputs": [],
   "source": [
    "v <- c(175, 182, 150, 187, 165, 177, 200, 198, 157, 165)\n",
    "smpl <- sample(v, 5)\n",
    "mean(smpl)"
   ]
  },
  {
   "cell_type": "markdown",
   "id": "e9379cc2",
   "metadata": {},
   "source": [
    "Would we on average expect to estimate the mean of the population\n",
    "accurately?  Let's use a Monte Carlo simulation to find out. We'll\n",
    "draw 10,000 random samples of five from `v` and take the mean of each\n",
    "of these samples. With an unbiased estimator we would, on average,\n",
    "expect the sample estimate to equal the population parameter of\n",
    "interest."
   ]
  },
  {
   "cell_type": "code",
   "execution_count": null,
   "id": "a9fdb5d1",
   "metadata": {},
   "outputs": [],
   "source": [
    "n <- 10000\n",
    "smpl_means <- rep(NA, n)\n",
    "for(i in 1:n){\n",
    "    smpl <- sample(v, 5)\n",
    "    smpl_means[i] <- mean(smpl)\n",
    "}\n",
    "\n",
    "mean(smpl_means)"
   ]
  },
  {
   "cell_type": "markdown",
   "id": "2c997ebd",
   "metadata": {},
   "source": [
    "The mean of the sample means (`r mean(smpl_means)`) is very close to\n",
    "the population mean (`r mean(v)`): on average, we're accurately\n",
    "estimating the population mean with our random sample of five\n",
    "individuals. \n",
    "\n",
    "Note, though, that in some cases our estimate is quite far from the population\n",
    "mean. To illustrate this, we can plot a histogram of the sample means: "
   ]
  },
  {
   "cell_type": "code",
   "execution_count": 4,
   "id": "d6629575",
   "metadata": {},
   "outputs": [
    {
     "name": "stderr",
     "output_type": "stream",
     "text": [
      "Loading required package: ggplot2\n",
      "\n"
     ]
    },
    {
     "ename": "ERROR",
     "evalue": "Error in data.frame(smpl_means): object 'smpl_means' not found\n",
     "output_type": "error",
     "traceback": [
      "Error in data.frame(smpl_means): object 'smpl_means' not found\nTraceback:\n",
      "1. ggplot(data.frame(smpl_means), aes(x = smpl_means))",
      "2. data.frame(smpl_means)"
     ]
    }
   ],
   "source": [
    "require(ggplot2)\n",
    "ggplot(data.frame(smpl_means), aes(x = smpl_means)) +\n",
    "    geom_histogram(binwidth = 2) +\n",
    "    geom_vline(xintercept = mean(v), color = \"red\", linetype = 2) +\n",
    "    xlab(\"Sample mean (n = 5)\") +\n",
    "    ylab(\"Number of samples\") + \n",
    "    theme_bw()"
   ]
  },
  {
   "cell_type": "markdown",
   "id": "dc61643b",
   "metadata": {},
   "source": [
    "The dashed red line indicates the population mean. While our sample\n",
    "estimates are centered around this mean (good news!), the range of the\n",
    "estimates is quite large. In fact, about 10% of the time we'd get an\n",
    "estimate of the mean that is either almost 9 centimeters (3.5 inches)\n",
    "below the actual mean or almost 9 centimeters above the actual mean:"
   ]
  },
  {
   "cell_type": "code",
   "execution_count": null,
   "id": "d3f88e08",
   "metadata": {},
   "outputs": [],
   "source": [
    "quantile(smpl_means, probs = c(0.05, 0.95))"
   ]
  },
  {
   "cell_type": "markdown",
   "id": "44c6121e",
   "metadata": {},
   "source": [
    "## Don't Loop Over Big Vectors / Data "
   ]
  },
  {
   "cell_type": "markdown",
   "id": "f10b928c",
   "metadata": {},
   "source": [
    "\n",
    "**CAUTION:** Do not loop over your dataset rows\n",
    "\n",
    "Loops are powerful, but one thing you almost never want to do is loop over the rows of your dataset. The reason is that looping is **much** slower than doing an operation using vector math (a practice called \"vectorization\"). "
   ]
  },
  {
   "cell_type": "markdown",
   "id": "89291efc",
   "metadata": {},
   "source": [
    "To illustrate, suppose I want to add up two vectors, each with 1,000,000 entries:"
   ]
  },
  {
   "cell_type": "code",
   "execution_count": 4,
   "id": "931299aa",
   "metadata": {},
   "outputs": [
    {
     "data": {
      "text/plain": [
       "   user  system elapsed \n",
       "  0.002   0.000   0.001 "
      ]
     },
     "metadata": {},
     "output_type": "display_data"
    }
   ],
   "source": [
    "v1 <- rnorm(1000000)\n",
    "v2 <- rnorm(1000000)\n",
    "\n",
    "# add up with vector math:\n",
    "\n",
    "vector_time <- system.time(v1 + v2)\n",
    "vector_time"
   ]
  },
  {
   "cell_type": "markdown",
   "id": "73cd0a32",
   "metadata": {},
   "source": [
    "Note I have to put them in a function to do it because of how "
   ]
  },
  {
   "cell_type": "code",
   "execution_count": 5,
   "id": "e877eda4",
   "metadata": {},
   "outputs": [
    {
     "data": {
      "text/plain": [
       "   user  system elapsed \n",
       "  0.070   0.003   0.073 "
      ]
     },
     "metadata": {},
     "output_type": "display_data"
    }
   ],
   "source": [
    "# Now add them up in a loop.\n",
    "\n",
    "looped <- function(v1, v2){\n",
    "    # Add up in a loop\n",
    "    for (i in 1:1000000) {\n",
    "        v1[i] = v1[i] + v2[i]\n",
    "    }\n",
    "    return(v1)\n",
    "}\n",
    "\n",
    "looped_time <- system.time(looped(v1, v2))\n",
    "looped_time"
   ]
  },
  {
   "cell_type": "code",
   "execution_count": 7,
   "id": "35d68dc8",
   "metadata": {},
   "outputs": [
    {
     "data": {
      "text/html": [
       "73"
      ],
      "text/latex": [
       "73"
      ],
      "text/markdown": [
       "73"
      ],
      "text/plain": [
       "[1] 73"
      ]
     },
     "metadata": {},
     "output_type": "display_data"
    }
   ],
   "source": [
    "# Looped took about this many time longer:\n",
    "\n",
    "round(looped_time[[\"elapsed\"]] / vector_time[[\"elapsed\"]])\n"
   ]
  },
  {
   "cell_type": "markdown",
   "id": "bedc3ae6",
   "metadata": {},
   "source": [
    "So... yeah. 73x slower. Don't do it. \n",
    "\n",
    "Also, if that code looks weird, it's because the result of `system.time` is being stored in a list, which is an interesting data structure we sadly don't have time to cover, but which you can read about [here](lists.ipynb))"
   ]
  },
  {
   "cell_type": "markdown",
   "id": "6a12f233",
   "metadata": {
    "lines_to_next_cell": 0
   },
   "source": [
    "## Exercises\n",
    "\n",
    "\n",
    "1. Use a for loop to take the square root of each value in the following \n",
    "vector: `vec1 <- c(4, 9, 81, 100, 1000, 10^6)`. Save the results to a new \n",
    "vector called `vec2`. \n",
    "\n",
    "2. Monte Carlo Simulation: Imagine that the values in the vector `pop`\n",
    "below represent vote shares for a presidential candidate across the\n",
    "3,144 counties in the United States. If we were to take a sample of 50\n",
    "counties and estimate mean support for the presidential candidate,\n",
    "would we, on average, estimate the vote share across all counties\n",
    "accurately? (Don't worry about the fact that we really should be\n",
    "weighing counties by their population size to estimate overall\n",
    "support.) Draw 10,000 samples of 50 counties from `pop` and estimate\n",
    "mean support for each sample, saving each mean estimate into a vector\n",
    "called `smpl_means`. How does the mean of the sample means compare to \n",
    "the population mean? Do we, on average, do a good job of estimating the \n",
    "population mean? \n",
    "\n",
    "<div class=\"indent\">"
   ]
  },
  {
   "cell_type": "code",
   "execution_count": null,
   "id": "6ef3eb41",
   "metadata": {
    "lines_to_next_cell": 0
   },
   "outputs": [],
   "source": [
    "pop <- runif(n = 3144, min = 0, max = 1)"
   ]
  },
  {
   "cell_type": "markdown",
   "id": "898bb8ce",
   "metadata": {},
   "source": [
    "</div>\n",
    "\n",
    "\n",
    "\n",
    "\n",
    "\n",
    "\t"
   ]
  }
 ],
 "metadata": {
  "jupytext": {
   "cell_metadata_filter": "echo,-all",
   "main_language": "R",
   "notebook_metadata_filter": "-all"
  },
  "kernelspec": {
   "display_name": "R",
   "language": "R",
   "name": "ir"
  },
  "language_info": {
   "codemirror_mode": "r",
   "file_extension": ".r",
   "mimetype": "text/x-r-source",
   "name": "R",
   "pygments_lexer": "r",
   "version": "4.1.0"
  }
 },
 "nbformat": 4,
 "nbformat_minor": 5
}
