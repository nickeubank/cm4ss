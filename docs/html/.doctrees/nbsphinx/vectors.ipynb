{
 "cells": [
  {
   "cell_type": "markdown",
   "id": "c42bd1ff",
   "metadata": {},
   "source": [
    "# Vectors\n",
    "\n",
    "Now that we have a solid grasp on how R actually interprets code, how to assign values to variables, and some of the main types of data in R, we can now turn to the fundamental building block of R: vectors. And in this reading, we'll learn about how we can use vectors to manage data on things like age, height, eye color, GDP per capita, and war initiation. By the end of this tutorial, you'll know how to create vectors, how to subset them, how to modify them, and how to summarize them.\n",
    "\n",
    "## Why Do We Need Vectors? \n",
    "\n",
    "It is rarely the case in science that we work with singular values (e.g. the number `7`, or a person's name `\"Jill\"`). Most of the time, we're working with lots of similar observations from different entities, such as the ages of everyone who responded to a survey, or the GDP of all the countries in the world.\n",
    "\n",
    "To accommodate this need, one of the objects you'll use most in R is a vector. A vector is a **collection** of values, all of the same data type (e.g. we might have a `numeric` vector full of the ages of all survey respondents, or a `character` vector full of the names of countries). \n",
    "\n",
    "In fact... OK, it's time to come clean: you've been working with vectors this whole time! Vectors are *so* fundamental to R that **all data in R is stored as vectors.** Even something simple like the number 7, in R, is actually stored as a numeric vector of length 1:"
   ]
  },
  {
   "cell_type": "code",
   "execution_count": 10,
   "id": "254e6830",
   "metadata": {},
   "outputs": [
    {
     "data": {
      "text/html": [
       "1"
      ],
      "text/latex": [
       "1"
      ],
      "text/markdown": [
       "1"
      ],
      "text/plain": [
       "[1] 1"
      ]
     },
     "metadata": {},
     "output_type": "display_data"
    }
   ],
   "source": [
    "a <- 7\n",
    "length(a)"
   ]
  },
  {
   "cell_type": "markdown",
   "id": "37a9df2f",
   "metadata": {},
   "source": [
    "## Creating vectors\n",
    "\n",
    "In our previous exercises, you learned how to create vectors with a single entry using the assignment operator. But often times we want vectors with more than one entry (otherwise, why have vectors?). There are a number of ways to create vectors in R, but the most fundamental is with the `c()` function (\"c\", I think?, is short for concatenate):"
   ]
  },
  {
   "cell_type": "code",
   "execution_count": 2,
   "id": "9a4c7591",
   "metadata": {},
   "outputs": [
    {
     "data": {
      "text/html": [
       "<style>\n",
       ".list-inline {list-style: none; margin:0; padding: 0}\n",
       ".list-inline>li {display: inline-block}\n",
       ".list-inline>li:not(:last-child)::after {content: \"\\00b7\"; padding: 0 .5ex}\n",
       "</style>\n",
       "<ol class=list-inline><li>20</li><li>25</li><li>60</li><li>55</li></ol>\n"
      ],
      "text/latex": [
       "\\begin{enumerate*}\n",
       "\\item 20\n",
       "\\item 25\n",
       "\\item 60\n",
       "\\item 55\n",
       "\\end{enumerate*}\n"
      ],
      "text/markdown": [
       "1. 20\n",
       "2. 25\n",
       "3. 60\n",
       "4. 55\n",
       "\n",
       "\n"
      ],
      "text/plain": [
       "[1] 20 25 60 55"
      ]
     },
     "metadata": {},
     "output_type": "display_data"
    }
   ],
   "source": [
    "# Numeric vectors \n",
    "a_numeric_vector <- c(20, 25, 60, 55)\n",
    "a_numeric_vector\n"
   ]
  },
  {
   "cell_type": "code",
   "execution_count": 3,
   "id": "df4f08a1",
   "metadata": {},
   "outputs": [
    {
     "data": {
      "text/html": [
       "<style>\n",
       ".list-inline {list-style: none; margin:0; padding: 0}\n",
       ".list-inline>li {display: inline-block}\n",
       ".list-inline>li:not(:last-child)::after {content: \"\\00b7\"; padding: 0 .5ex}\n",
       "</style>\n",
       "<ol class=list-inline><li>'Red'</li><li>'Green'</li><li>'Purple'</li></ol>\n"
      ],
      "text/latex": [
       "\\begin{enumerate*}\n",
       "\\item 'Red'\n",
       "\\item 'Green'\n",
       "\\item 'Purple'\n",
       "\\end{enumerate*}\n"
      ],
      "text/markdown": [
       "1. 'Red'\n",
       "2. 'Green'\n",
       "3. 'Purple'\n",
       "\n",
       "\n"
      ],
      "text/plain": [
       "[1] \"Red\"    \"Green\"  \"Purple\""
      ]
     },
     "metadata": {},
     "output_type": "display_data"
    }
   ],
   "source": [
    "# Character vectors\n",
    "a_character_vector <- c(\"Red\", \"Green\", \"Purple\")\n",
    "a_character_vector\n"
   ]
  },
  {
   "cell_type": "code",
   "execution_count": 5,
   "id": "75bc5ad0",
   "metadata": {},
   "outputs": [],
   "source": [
    "# Logical vectors\n",
    "a_logical_vector <- c(TRUE, FALSE, TRUE) "
   ]
  },
  {
   "cell_type": "markdown",
   "id": "016a0b1d",
   "metadata": {},
   "source": [
    "`c()` doesn't just work with values you write by hand, though -- you can also use `c()` with variables to combine longer vectors:"
   ]
  },
  {
   "cell_type": "code",
   "execution_count": 12,
   "id": "77e5f774",
   "metadata": {},
   "outputs": [
    {
     "data": {
      "text/html": [
       "<style>\n",
       ".list-inline {list-style: none; margin:0; padding: 0}\n",
       ".list-inline>li {display: inline-block}\n",
       ".list-inline>li:not(:last-child)::after {content: \"\\00b7\"; padding: 0 .5ex}\n",
       "</style>\n",
       "<ol class=list-inline><li>1</li><li>2</li><li>3</li><li>4</li><li>5</li><li>6</li></ol>\n"
      ],
      "text/latex": [
       "\\begin{enumerate*}\n",
       "\\item 1\n",
       "\\item 2\n",
       "\\item 3\n",
       "\\item 4\n",
       "\\item 5\n",
       "\\item 6\n",
       "\\end{enumerate*}\n"
      ],
      "text/markdown": [
       "1. 1\n",
       "2. 2\n",
       "3. 3\n",
       "4. 4\n",
       "5. 5\n",
       "6. 6\n",
       "\n",
       "\n"
      ],
      "text/plain": [
       "[1] 1 2 3 4 5 6"
      ]
     },
     "metadata": {},
     "output_type": "display_data"
    }
   ],
   "source": [
    "a <- c(1, 2, 3)\n",
    "b <- c(4, 5, 6)\n",
    "c <- c(a, b)\n",
    "c"
   ]
  },
  {
   "cell_type": "markdown",
   "id": "4fc29534",
   "metadata": {},
   "source": [
    "There are also a lot of other convenience functions for creating commonly used vectors. For example, it's very common to want to get a vector of sequential numbers, so if you type `1:20` you get a vector of all of the counting numbers from 1 to 20:"
   ]
  },
  {
   "cell_type": "code",
   "execution_count": 17,
   "id": "1c4cffe6",
   "metadata": {},
   "outputs": [
    {
     "data": {
      "text/html": [
       "<style>\n",
       ".list-inline {list-style: none; margin:0; padding: 0}\n",
       ".list-inline>li {display: inline-block}\n",
       ".list-inline>li:not(:last-child)::after {content: \"\\00b7\"; padding: 0 .5ex}\n",
       "</style>\n",
       "<ol class=list-inline><li>1</li><li>2</li><li>3</li><li>4</li><li>5</li><li>6</li><li>7</li><li>8</li><li>9</li><li>10</li><li>11</li><li>12</li><li>13</li><li>14</li><li>15</li><li>16</li><li>17</li><li>18</li><li>19</li><li>20</li></ol>\n"
      ],
      "text/latex": [
       "\\begin{enumerate*}\n",
       "\\item 1\n",
       "\\item 2\n",
       "\\item 3\n",
       "\\item 4\n",
       "\\item 5\n",
       "\\item 6\n",
       "\\item 7\n",
       "\\item 8\n",
       "\\item 9\n",
       "\\item 10\n",
       "\\item 11\n",
       "\\item 12\n",
       "\\item 13\n",
       "\\item 14\n",
       "\\item 15\n",
       "\\item 16\n",
       "\\item 17\n",
       "\\item 18\n",
       "\\item 19\n",
       "\\item 20\n",
       "\\end{enumerate*}\n"
      ],
      "text/markdown": [
       "1. 1\n",
       "2. 2\n",
       "3. 3\n",
       "4. 4\n",
       "5. 5\n",
       "6. 6\n",
       "7. 7\n",
       "8. 8\n",
       "9. 9\n",
       "10. 10\n",
       "11. 11\n",
       "12. 12\n",
       "13. 13\n",
       "14. 14\n",
       "15. 15\n",
       "16. 16\n",
       "17. 17\n",
       "18. 18\n",
       "19. 19\n",
       "20. 20\n",
       "\n",
       "\n"
      ],
      "text/plain": [
       " [1]  1  2  3  4  5  6  7  8  9 10 11 12 13 14 15 16 17 18 19 20"
      ]
     },
     "metadata": {},
     "output_type": "display_data"
    }
   ],
   "source": [
    "1:20"
   ]
  },
  {
   "cell_type": "markdown",
   "id": "c9aa1a5a",
   "metadata": {},
   "source": [
    "And if you want a more unusual sequence, you can use `seq()`, which takes a starting point, and ending point, and a step size to create any sequence you may want. Here's all the even numbers from 2 to 20:"
   ]
  },
  {
   "cell_type": "code",
   "execution_count": 21,
   "id": "632060d7",
   "metadata": {},
   "outputs": [
    {
     "data": {
      "text/html": [
       "<style>\n",
       ".list-inline {list-style: none; margin:0; padding: 0}\n",
       ".list-inline>li {display: inline-block}\n",
       ".list-inline>li:not(:last-child)::after {content: \"\\00b7\"; padding: 0 .5ex}\n",
       "</style>\n",
       "<ol class=list-inline><li>2</li><li>4</li><li>6</li><li>8</li><li>10</li><li>12</li><li>14</li><li>16</li><li>18</li><li>20</li></ol>\n"
      ],
      "text/latex": [
       "\\begin{enumerate*}\n",
       "\\item 2\n",
       "\\item 4\n",
       "\\item 6\n",
       "\\item 8\n",
       "\\item 10\n",
       "\\item 12\n",
       "\\item 14\n",
       "\\item 16\n",
       "\\item 18\n",
       "\\item 20\n",
       "\\end{enumerate*}\n"
      ],
      "text/markdown": [
       "1. 2\n",
       "2. 4\n",
       "3. 6\n",
       "4. 8\n",
       "5. 10\n",
       "6. 12\n",
       "7. 14\n",
       "8. 16\n",
       "9. 18\n",
       "10. 20\n",
       "\n",
       "\n"
      ],
      "text/plain": [
       " [1]  2  4  6  8 10 12 14 16 18 20"
      ]
     },
     "metadata": {},
     "output_type": "display_data"
    }
   ],
   "source": [
    "seq(2, 20, 2)"
   ]
  },
  {
   "cell_type": "markdown",
   "id": "6279ace2",
   "metadata": {},
   "source": [
    "(This is the first time we've seen a function that takes multiple inputs (called **arguments**). They're just like the functions that only take one argument, just with different arguments separate by commas)."
   ]
  },
  {
   "cell_type": "markdown",
   "id": "3090eab5",
   "metadata": {},
   "source": [
    "And if you want a vector of length `N` with the same value repeated over and over, you can use `rep()`:"
   ]
  },
  {
   "cell_type": "code",
   "execution_count": 22,
   "id": "4411e41e",
   "metadata": {},
   "outputs": [
    {
     "data": {
      "text/html": [
       "<style>\n",
       ".list-inline {list-style: none; margin:0; padding: 0}\n",
       ".list-inline>li {display: inline-block}\n",
       ".list-inline>li:not(:last-child)::after {content: \"\\00b7\"; padding: 0 .5ex}\n",
       "</style>\n",
       "<ol class=list-inline><li>42</li><li>42</li><li>42</li><li>42</li><li>42</li><li>42</li><li>42</li><li>42</li><li>42</li><li>42</li></ol>\n"
      ],
      "text/latex": [
       "\\begin{enumerate*}\n",
       "\\item 42\n",
       "\\item 42\n",
       "\\item 42\n",
       "\\item 42\n",
       "\\item 42\n",
       "\\item 42\n",
       "\\item 42\n",
       "\\item 42\n",
       "\\item 42\n",
       "\\item 42\n",
       "\\end{enumerate*}\n"
      ],
      "text/markdown": [
       "1. 42\n",
       "2. 42\n",
       "3. 42\n",
       "4. 42\n",
       "5. 42\n",
       "6. 42\n",
       "7. 42\n",
       "8. 42\n",
       "9. 42\n",
       "10. 42\n",
       "\n",
       "\n"
      ],
      "text/plain": [
       " [1] 42 42 42 42 42 42 42 42 42 42"
      ]
     },
     "metadata": {},
     "output_type": "display_data"
    }
   ],
   "source": [
    "# Create a vector with the value 42 \n",
    "# repeated 10 times. \n",
    "\n",
    "rep(42, 10)"
   ]
  },
  {
   "cell_type": "markdown",
   "id": "013953b0",
   "metadata": {},
   "source": [
    "Vector Math\n",
    "--------------------\n",
    "\n",
    "One of the great things about vectors is that we can do all sorts of mathematical operations to vectors efficiently.\n",
    "\n",
    "If you do math with two vectors, one of which has length one, you basically just get the operation applied to every entry!\n"
   ]
  },
  {
   "cell_type": "code",
   "execution_count": 30,
   "id": "46dabf1d",
   "metadata": {},
   "outputs": [
    {
     "data": {
      "text/html": [
       "<style>\n",
       ".list-inline {list-style: none; margin:0; padding: 0}\n",
       ".list-inline>li {display: inline-block}\n",
       ".list-inline>li:not(:last-child)::after {content: \"\\00b7\"; padding: 0 .5ex}\n",
       "</style>\n",
       "<ol class=list-inline><li>1</li><li>2</li><li>3</li><li>4</li><li>5</li><li>6</li><li>7</li><li>8</li><li>9</li><li>10</li></ol>\n"
      ],
      "text/latex": [
       "\\begin{enumerate*}\n",
       "\\item 1\n",
       "\\item 2\n",
       "\\item 3\n",
       "\\item 4\n",
       "\\item 5\n",
       "\\item 6\n",
       "\\item 7\n",
       "\\item 8\n",
       "\\item 9\n",
       "\\item 10\n",
       "\\end{enumerate*}\n"
      ],
      "text/markdown": [
       "1. 1\n",
       "2. 2\n",
       "3. 3\n",
       "4. 4\n",
       "5. 5\n",
       "6. 6\n",
       "7. 7\n",
       "8. 8\n",
       "9. 9\n",
       "10. 10\n",
       "\n",
       "\n"
      ],
      "text/plain": [
       " [1]  1  2  3  4  5  6  7  8  9 10"
      ]
     },
     "metadata": {},
     "output_type": "display_data"
    }
   ],
   "source": [
    "# Here's what we'll start with\n",
    "numbers <- 1:10\n",
    "numbers\n"
   ]
  },
  {
   "cell_type": "code",
   "execution_count": 31,
   "id": "cdb60898",
   "metadata": {},
   "outputs": [
    {
     "data": {
      "text/html": [
       "<style>\n",
       ".list-inline {list-style: none; margin:0; padding: 0}\n",
       ".list-inline>li {display: inline-block}\n",
       ".list-inline>li:not(:last-child)::after {content: \"\\00b7\"; padding: 0 .5ex}\n",
       "</style>\n",
       "<ol class=list-inline><li>0.1</li><li>0.2</li><li>0.3</li><li>0.4</li><li>0.5</li><li>0.6</li><li>0.7</li><li>0.8</li><li>0.9</li><li>1</li></ol>\n"
      ],
      "text/latex": [
       "\\begin{enumerate*}\n",
       "\\item 0.1\n",
       "\\item 0.2\n",
       "\\item 0.3\n",
       "\\item 0.4\n",
       "\\item 0.5\n",
       "\\item 0.6\n",
       "\\item 0.7\n",
       "\\item 0.8\n",
       "\\item 0.9\n",
       "\\item 1\n",
       "\\end{enumerate*}\n"
      ],
      "text/markdown": [
       "1. 0.1\n",
       "2. 0.2\n",
       "3. 0.3\n",
       "4. 0.4\n",
       "5. 0.5\n",
       "6. 0.6\n",
       "7. 0.7\n",
       "8. 0.8\n",
       "9. 0.9\n",
       "10. 1\n",
       "\n",
       "\n"
      ],
      "text/plain": [
       " [1] 0.1 0.2 0.3 0.4 0.5 0.6 0.7 0.8 0.9 1.0"
      ]
     },
     "metadata": {},
     "output_type": "display_data"
    }
   ],
   "source": [
    "# You can modify all values in a vector \n",
    "# by doing math with a vector of length 1\n",
    "numbers / 10"
   ]
  },
  {
   "cell_type": "code",
   "execution_count": 29,
   "id": "00df154f",
   "metadata": {},
   "outputs": [
    {
     "data": {
      "text/html": [
       "<style>\n",
       ".list-inline {list-style: none; margin:0; padding: 0}\n",
       ".list-inline>li {display: inline-block}\n",
       ".list-inline>li:not(:last-child)::after {content: \"\\00b7\"; padding: 0 .5ex}\n",
       "</style>\n",
       "<ol class=list-inline><li>11</li><li>12</li><li>13</li><li>14</li><li>15</li><li>16</li><li>17</li><li>18</li><li>19</li><li>20</li></ol>\n"
      ],
      "text/latex": [
       "\\begin{enumerate*}\n",
       "\\item 11\n",
       "\\item 12\n",
       "\\item 13\n",
       "\\item 14\n",
       "\\item 15\n",
       "\\item 16\n",
       "\\item 17\n",
       "\\item 18\n",
       "\\item 19\n",
       "\\item 20\n",
       "\\end{enumerate*}\n"
      ],
      "text/markdown": [
       "1. 11\n",
       "2. 12\n",
       "3. 13\n",
       "4. 14\n",
       "5. 15\n",
       "6. 16\n",
       "7. 17\n",
       "8. 18\n",
       "9. 19\n",
       "10. 20\n",
       "\n",
       "\n"
      ],
      "text/plain": [
       " [1] 11 12 13 14 15 16 17 18 19 20"
      ]
     },
     "metadata": {},
     "output_type": "display_data"
    }
   ],
   "source": [
    "numbers + 10"
   ]
  },
  {
   "cell_type": "markdown",
   "id": "495ace7b",
   "metadata": {},
   "source": [
    "And we can do the same trick with lots of math functions:"
   ]
  },
  {
   "cell_type": "code",
   "execution_count": 34,
   "id": "43cff6e0",
   "metadata": {},
   "outputs": [
    {
     "data": {
      "text/html": [
       "<style>\n",
       ".list-inline {list-style: none; margin:0; padding: 0}\n",
       ".list-inline>li {display: inline-block}\n",
       ".list-inline>li:not(:last-child)::after {content: \"\\00b7\"; padding: 0 .5ex}\n",
       "</style>\n",
       "<ol class=list-inline><li>1</li><li>1.4142135623731</li><li>1.73205080756888</li><li>2</li><li>2.23606797749979</li><li>2.44948974278318</li><li>2.64575131106459</li><li>2.82842712474619</li><li>3</li><li>3.16227766016838</li></ol>\n"
      ],
      "text/latex": [
       "\\begin{enumerate*}\n",
       "\\item 1\n",
       "\\item 1.4142135623731\n",
       "\\item 1.73205080756888\n",
       "\\item 2\n",
       "\\item 2.23606797749979\n",
       "\\item 2.44948974278318\n",
       "\\item 2.64575131106459\n",
       "\\item 2.82842712474619\n",
       "\\item 3\n",
       "\\item 3.16227766016838\n",
       "\\end{enumerate*}\n"
      ],
      "text/markdown": [
       "1. 1\n",
       "2. 1.4142135623731\n",
       "3. 1.73205080756888\n",
       "4. 2\n",
       "5. 2.23606797749979\n",
       "6. 2.44948974278318\n",
       "7. 2.64575131106459\n",
       "8. 2.82842712474619\n",
       "9. 3\n",
       "10. 3.16227766016838\n",
       "\n",
       "\n"
      ],
      "text/plain": [
       " [1] 1.000000 1.414214 1.732051 2.000000 2.236068 2.449490 2.645751 2.828427\n",
       " [9] 3.000000 3.162278"
      ]
     },
     "metadata": {},
     "output_type": "display_data"
    }
   ],
   "source": [
    "# Modify a vector using a function\n",
    "sqrt(numbers) #square root\n"
   ]
  },
  {
   "cell_type": "code",
   "execution_count": 36,
   "id": "4ac66cbf",
   "metadata": {},
   "outputs": [
    {
     "data": {
      "text/html": [
       "<style>\n",
       ".list-inline {list-style: none; margin:0; padding: 0}\n",
       ".list-inline>li {display: inline-block}\n",
       ".list-inline>li:not(:last-child)::after {content: \"\\00b7\"; padding: 0 .5ex}\n",
       "</style>\n",
       "<ol class=list-inline><li>2.71828182845905</li><li>7.38905609893065</li><li>20.0855369231877</li><li>54.5981500331442</li><li>148.413159102577</li><li>403.428793492735</li><li>1096.63315842846</li><li>2980.95798704173</li><li>8103.08392757538</li><li>22026.4657948067</li></ol>\n"
      ],
      "text/latex": [
       "\\begin{enumerate*}\n",
       "\\item 2.71828182845905\n",
       "\\item 7.38905609893065\n",
       "\\item 20.0855369231877\n",
       "\\item 54.5981500331442\n",
       "\\item 148.413159102577\n",
       "\\item 403.428793492735\n",
       "\\item 1096.63315842846\n",
       "\\item 2980.95798704173\n",
       "\\item 8103.08392757538\n",
       "\\item 22026.4657948067\n",
       "\\end{enumerate*}\n"
      ],
      "text/markdown": [
       "1. 2.71828182845905\n",
       "2. 7.38905609893065\n",
       "3. 20.0855369231877\n",
       "4. 54.5981500331442\n",
       "5. 148.413159102577\n",
       "6. 403.428793492735\n",
       "7. 1096.63315842846\n",
       "8. 2980.95798704173\n",
       "9. 8103.08392757538\n",
       "10. 22026.4657948067\n",
       "\n",
       "\n"
      ],
      "text/plain": [
       " [1]     2.718282     7.389056    20.085537    54.598150   148.413159\n",
       " [6]   403.428793  1096.633158  2980.957987  8103.083928 22026.465795"
      ]
     },
     "metadata": {},
     "output_type": "display_data"
    }
   ],
   "source": [
    "exp(numbers) #exponentiate"
   ]
  },
  {
   "cell_type": "markdown",
   "id": "6749ee5c",
   "metadata": {},
   "source": [
    "Or if you have two vectors of the same length, mathematical operations will occur \"element-wise\", meaning the mathematical operation will be applied to the two first entries, then the two second entries, etc. For example, if we were to add our vector of the values 1 through 10 to a vector with five 0s, then five 1s, R would do the following:\n",
    "\n",
    "```\n",
    "1    +     0    =    1  +  0    =    1 \n",
    "2    +     0    =    2  +  0    =    2 \n",
    "3    +     0    =    3  +  0    =    3 \n",
    "4    +     0    =    4  +  0    =    4 \n",
    "5    +     0    =    5  +  0    =    5 \n",
    "6    +     1    =    6  +  1    =    7 \n",
    "7    +     1    =    7  +  1    =    8 \n",
    "8    +     1    =    8  +  1    =    9 \n",
    "9    +     1    =    9  +  1    =    10 \n",
    "10   +     1    =    10 +  1    =    11\n",
    "```"
   ]
  },
  {
   "cell_type": "code",
   "execution_count": 40,
   "id": "182ec8c0",
   "metadata": {},
   "outputs": [
    {
     "data": {
      "text/html": [
       "<style>\n",
       ".list-inline {list-style: none; margin:0; padding: 0}\n",
       ".list-inline>li {display: inline-block}\n",
       ".list-inline>li:not(:last-child)::after {content: \"\\00b7\"; padding: 0 .5ex}\n",
       "</style>\n",
       "<ol class=list-inline><li>1</li><li>2</li><li>3</li><li>4</li><li>5</li><li>7</li><li>8</li><li>9</li><li>10</li><li>11</li></ol>\n"
      ],
      "text/latex": [
       "\\begin{enumerate*}\n",
       "\\item 1\n",
       "\\item 2\n",
       "\\item 3\n",
       "\\item 4\n",
       "\\item 5\n",
       "\\item 7\n",
       "\\item 8\n",
       "\\item 9\n",
       "\\item 10\n",
       "\\item 11\n",
       "\\end{enumerate*}\n"
      ],
      "text/markdown": [
       "1. 1\n",
       "2. 2\n",
       "3. 3\n",
       "4. 4\n",
       "5. 5\n",
       "6. 7\n",
       "7. 8\n",
       "8. 9\n",
       "9. 10\n",
       "10. 11\n",
       "\n",
       "\n"
      ],
      "text/plain": [
       " [1]  1  2  3  4  5  7  8  9 10 11"
      ]
     },
     "metadata": {},
     "output_type": "display_data"
    }
   ],
   "source": [
    "# Two vectors with the same number of elements \n",
    "numbers2 <- c(0, 0, 0, 0, 0, 1, 1, 1, 1, 1)\n",
    "numbers3 <- numbers2 + numbers\n",
    "numbers3\n"
   ]
  },
  {
   "cell_type": "markdown",
   "id": "62880b63",
   "metadata": {},
   "source": [
    "Vector arithmetics can also be carried out in R on two multi-value vectors with different lengths using the [recycling rule](http://www.r-tutor.com/r-introduction/vector/vector-arithmetics), but... that's a thing you probably don't want to do anyway. That's a *weird* behavior! :)"
   ]
  },
  {
   "cell_type": "markdown",
   "id": "f696634a",
   "metadata": {},
   "source": [
    "## Summarizing vectors \n",
    "\n",
    "We often want to get summary statistics from a vector --- that is,\n",
    "learn something general about it by looking beyond its constituent\n",
    "elements. If we have a vector in which each element represents a\n",
    "person's height, for example, we may want to know who the shortest or tallest\n",
    "person is, what the median or mean height is, what the standard deviation is. \n",
    "\n",
    "So for example, we can use `summary(numbers)` to get a lot of summary stats at once:"
   ]
  },
  {
   "cell_type": "code",
   "execution_count": 42,
   "id": "990be02d",
   "metadata": {},
   "outputs": [
    {
     "data": {
      "text/plain": [
       "   Min. 1st Qu.  Median    Mean 3rd Qu.    Max. \n",
       "      1     250     499     499     748     997 "
      ]
     },
     "metadata": {},
     "output_type": "display_data"
    }
   ],
   "source": [
    "summary(numbers)"
   ]
  },
  {
   "cell_type": "markdown",
   "id": "2d9d7499",
   "metadata": {},
   "source": [
    "Or we can use any one of a handful of other helper functions!"
   ]
  },
  {
   "cell_type": "markdown",
   "id": "1bfd574e",
   "metadata": {},
   "source": [
    "```R\n",
    "class(numbers) #check the class\n",
    "length(numbers) #number of elements \n",
    "max(numbers) #maximum value\n",
    "min(numbers) #minimum value\n",
    "sum(numbers) #sum of all values in the vector\n",
    "mean(numbers) #mean\n",
    "median(numbers) #median\n",
    "var(numbers) #variance\n",
    "sd(numbers) #standard deviation\n",
    "quantile(numbers) #percentiles in intervals of .25 \n",
    "quantile(numbers, probs = seq(0, 1, 0.1)) #percentiles in invervals of 0.1\n",
    "```"
   ]
  },
  {
   "cell_type": "markdown",
   "id": "63c07c4b",
   "metadata": {},
   "source": [
    "**Don't** worry about memorizing these or anything -- basically, you just need to have a sense of the kinds of things you can do with functions, and if you ever need one can can't remember the name of the function, you can google it to get the specific function name. "
   ]
  },
  {
   "cell_type": "markdown",
   "id": "81af2d2a",
   "metadata": {},
   "source": [
    "## Subsetting Vectors\n",
    "\n",
    "Now we come to one of the most important manipulations you'll need to know how to do with vectors: subsetting! \n",
    "\n",
    "Extracting a subset of elements from a vector is an extremely important task, not least because it generalizes nicely to datasets (which are at the heart of data science). This process --- whether applied to a vector or a dataset --- is often referred to as \"taking a subset\", \"subsetting\", or \"filtering\". If there is one skill you need to master as quickly as possible, it's this.\n",
    "\n",
    "Subsetting can be accomplished in several ways, but we'll focus on the two most powerful: \n",
    "\n",
    "- By index\n",
    "- With logical vectors (remember I said logicals would be important? :))\n"
   ]
  },
  {
   "cell_type": "markdown",
   "id": "5c4558f4",
   "metadata": {},
   "source": [
    "### Subsetting By Index\n",
    "\n",
    "As you've probably already realized, vectors don't just contain a jumble of data -- they also have a concept of \"order\". When I create a vector with `c(42, 47, -1)`, I have in mind that 42 is the first entry, 47 is the second, and -1 is the third. And we can use that concept of order to subset vectors by passing the index (order number) of an entry we want to our vector in square brackets:"
   ]
  },
  {
   "cell_type": "code",
   "execution_count": 45,
   "id": "2a6b7763",
   "metadata": {},
   "outputs": [
    {
     "data": {
      "text/html": [
       "47"
      ],
      "text/latex": [
       "47"
      ],
      "text/markdown": [
       "47"
      ],
      "text/plain": [
       "[1] 47"
      ]
     },
     "metadata": {},
     "output_type": "display_data"
    }
   ],
   "source": [
    "a <- c(42, 47, -1)\n",
    "a[2]"
   ]
  },
  {
   "cell_type": "markdown",
   "id": "e7c58434",
   "metadata": {},
   "source": [
    "Note the use of brackets, `[]` --- this is common when filtering, and we'll use it a lot!\n",
    "\n",
    "But of course, because everything in R is a vector, if I can pass a single index, then I can pass any other numeric vector of indices, either directly:"
   ]
  },
  {
   "cell_type": "code",
   "execution_count": 46,
   "id": "75f29928",
   "metadata": {},
   "outputs": [
    {
     "data": {
      "text/html": [
       "<style>\n",
       ".list-inline {list-style: none; margin:0; padding: 0}\n",
       ".list-inline>li {display: inline-block}\n",
       ".list-inline>li:not(:last-child)::after {content: \"\\00b7\"; padding: 0 .5ex}\n",
       "</style>\n",
       "<ol class=list-inline><li>42</li><li>-1</li></ol>\n"
      ],
      "text/latex": [
       "\\begin{enumerate*}\n",
       "\\item 42\n",
       "\\item -1\n",
       "\\end{enumerate*}\n"
      ],
      "text/markdown": [
       "1. 42\n",
       "2. -1\n",
       "\n",
       "\n"
      ],
      "text/plain": [
       "[1] 42 -1"
      ]
     },
     "metadata": {},
     "output_type": "display_data"
    }
   ],
   "source": [
    "a[c(1, 3)]"
   ]
  },
  {
   "cell_type": "markdown",
   "id": "5a2c6a59",
   "metadata": {},
   "source": [
    "Or as a variable:"
   ]
  },
  {
   "cell_type": "code",
   "execution_count": 47,
   "id": "6659d18b",
   "metadata": {},
   "outputs": [
    {
     "data": {
      "text/html": [
       "<style>\n",
       ".list-inline {list-style: none; margin:0; padding: 0}\n",
       ".list-inline>li {display: inline-block}\n",
       ".list-inline>li:not(:last-child)::after {content: \"\\00b7\"; padding: 0 .5ex}\n",
       "</style>\n",
       "<ol class=list-inline><li>42</li><li>-1</li></ol>\n"
      ],
      "text/latex": [
       "\\begin{enumerate*}\n",
       "\\item 42\n",
       "\\item -1\n",
       "\\end{enumerate*}\n"
      ],
      "text/markdown": [
       "1. 42\n",
       "2. -1\n",
       "\n",
       "\n"
      ],
      "text/plain": [
       "[1] 42 -1"
      ]
     },
     "metadata": {},
     "output_type": "display_data"
    }
   ],
   "source": [
    "subset = c(1, 3)\n",
    "a[subset]"
   ]
  },
  {
   "cell_type": "markdown",
   "id": "9c16dcde",
   "metadata": {},
   "source": [
    "### Subsetting with Logicals"
   ]
  },
  {
   "cell_type": "markdown",
   "id": "995941e0",
   "metadata": {},
   "source": [
    "Subsetting with logicals is a little hard to explain, so instead let's jump right into an example. \n",
    "\n",
    "Suppose we have a character vector with only two elements (\"apple\" and \"banana\"). Subsetting it to \"apple\" could be done by passing a logical vector as follows:"
   ]
  },
  {
   "cell_type": "code",
   "execution_count": 48,
   "id": "dff507ba",
   "metadata": {},
   "outputs": [
    {
     "data": {
      "text/html": [
       "'apple'"
      ],
      "text/latex": [
       "'apple'"
      ],
      "text/markdown": [
       "'apple'"
      ],
      "text/plain": [
       "[1] \"apple\""
      ]
     },
     "metadata": {},
     "output_type": "display_data"
    }
   ],
   "source": [
    "fruits <- c(\"apple\", \"banana\")\n",
    "fruits[c(TRUE, FALSE)]"
   ]
  },
  {
   "cell_type": "markdown",
   "id": "bea76a5c",
   "metadata": {},
   "source": [
    "Within these brackets is a vector with the same number of logical elements as there are elements in the vector you want to subset. Elements across the two vectors are matched by order: elements that match with `TRUE` are kept while elements that match with `FALSE` are dropped.\n",
    "\n",
    "This process is extremely useful when combined with a *logical operation* to combine multiple conditions. For example, you can use:\n",
    "\n",
    "- the logical \"and\" (written `&` in R) to say \"only be true if both conditions are true\", \n",
    "- the logical \"or\" (written `|`) to say \"be true if at least one of these conditions is true\", or\n",
    "\n",
    "For example, using a logical operation we can filter a large vector of oranges, apples and bananas:"
   ]
  },
  {
   "cell_type": "code",
   "execution_count": 49,
   "id": "ee4a9651",
   "metadata": {},
   "outputs": [
    {
     "data": {
      "text/html": [
       "<style>\n",
       ".list-inline {list-style: none; margin:0; padding: 0}\n",
       ".list-inline>li {display: inline-block}\n",
       ".list-inline>li:not(:last-child)::after {content: \"\\00b7\"; padding: 0 .5ex}\n",
       "</style>\n",
       "<ol class=list-inline><li>'orange'</li><li>'apple'</li><li>'banana'</li><li>'orange'</li><li>'apple'</li><li>'banana'</li><li>'orange'</li><li>'apple'</li><li>'banana'</li><li>'orange'</li><li>'apple'</li><li>'banana'</li><li>'orange'</li><li>'apple'</li><li>'banana'</li><li>'orange'</li><li>'apple'</li><li>'banana'</li><li>'orange'</li><li>'apple'</li><li>'banana'</li><li>'orange'</li><li>'apple'</li><li>'banana'</li><li>'orange'</li><li>'apple'</li><li>'banana'</li><li>'orange'</li><li>'apple'</li><li>'banana'</li></ol>\n"
      ],
      "text/latex": [
       "\\begin{enumerate*}\n",
       "\\item 'orange'\n",
       "\\item 'apple'\n",
       "\\item 'banana'\n",
       "\\item 'orange'\n",
       "\\item 'apple'\n",
       "\\item 'banana'\n",
       "\\item 'orange'\n",
       "\\item 'apple'\n",
       "\\item 'banana'\n",
       "\\item 'orange'\n",
       "\\item 'apple'\n",
       "\\item 'banana'\n",
       "\\item 'orange'\n",
       "\\item 'apple'\n",
       "\\item 'banana'\n",
       "\\item 'orange'\n",
       "\\item 'apple'\n",
       "\\item 'banana'\n",
       "\\item 'orange'\n",
       "\\item 'apple'\n",
       "\\item 'banana'\n",
       "\\item 'orange'\n",
       "\\item 'apple'\n",
       "\\item 'banana'\n",
       "\\item 'orange'\n",
       "\\item 'apple'\n",
       "\\item 'banana'\n",
       "\\item 'orange'\n",
       "\\item 'apple'\n",
       "\\item 'banana'\n",
       "\\end{enumerate*}\n"
      ],
      "text/markdown": [
       "1. 'orange'\n",
       "2. 'apple'\n",
       "3. 'banana'\n",
       "4. 'orange'\n",
       "5. 'apple'\n",
       "6. 'banana'\n",
       "7. 'orange'\n",
       "8. 'apple'\n",
       "9. 'banana'\n",
       "10. 'orange'\n",
       "11. 'apple'\n",
       "12. 'banana'\n",
       "13. 'orange'\n",
       "14. 'apple'\n",
       "15. 'banana'\n",
       "16. 'orange'\n",
       "17. 'apple'\n",
       "18. 'banana'\n",
       "19. 'orange'\n",
       "20. 'apple'\n",
       "21. 'banana'\n",
       "22. 'orange'\n",
       "23. 'apple'\n",
       "24. 'banana'\n",
       "25. 'orange'\n",
       "26. 'apple'\n",
       "27. 'banana'\n",
       "28. 'orange'\n",
       "29. 'apple'\n",
       "30. 'banana'\n",
       "\n",
       "\n"
      ],
      "text/plain": [
       " [1] \"orange\" \"apple\"  \"banana\" \"orange\" \"apple\"  \"banana\" \"orange\" \"apple\" \n",
       " [9] \"banana\" \"orange\" \"apple\"  \"banana\" \"orange\" \"apple\"  \"banana\" \"orange\"\n",
       "[17] \"apple\"  \"banana\" \"orange\" \"apple\"  \"banana\" \"orange\" \"apple\"  \"banana\"\n",
       "[25] \"orange\" \"apple\"  \"banana\" \"orange\" \"apple\"  \"banana\""
      ]
     },
     "metadata": {},
     "output_type": "display_data"
    }
   ],
   "source": [
    "# Create a vector with 30 fruits \n",
    "fruits <- rep(c(\"orange\", \"apple\", \"banana\"), 10)\n",
    "fruits \n"
   ]
  },
  {
   "cell_type": "code",
   "execution_count": 50,
   "id": "4a0b4138",
   "metadata": {},
   "outputs": [
    {
     "data": {
      "text/html": [
       "<style>\n",
       ".list-inline {list-style: none; margin:0; padding: 0}\n",
       ".list-inline>li {display: inline-block}\n",
       ".list-inline>li:not(:last-child)::after {content: \"\\00b7\"; padding: 0 .5ex}\n",
       "</style>\n",
       "<ol class=list-inline><li>'orange'</li><li>'apple'</li><li>'orange'</li><li>'apple'</li><li>'orange'</li><li>'apple'</li><li>'orange'</li><li>'apple'</li><li>'orange'</li><li>'apple'</li><li>'orange'</li><li>'apple'</li><li>'orange'</li><li>'apple'</li><li>'orange'</li><li>'apple'</li><li>'orange'</li><li>'apple'</li><li>'orange'</li><li>'apple'</li></ol>\n"
      ],
      "text/latex": [
       "\\begin{enumerate*}\n",
       "\\item 'orange'\n",
       "\\item 'apple'\n",
       "\\item 'orange'\n",
       "\\item 'apple'\n",
       "\\item 'orange'\n",
       "\\item 'apple'\n",
       "\\item 'orange'\n",
       "\\item 'apple'\n",
       "\\item 'orange'\n",
       "\\item 'apple'\n",
       "\\item 'orange'\n",
       "\\item 'apple'\n",
       "\\item 'orange'\n",
       "\\item 'apple'\n",
       "\\item 'orange'\n",
       "\\item 'apple'\n",
       "\\item 'orange'\n",
       "\\item 'apple'\n",
       "\\item 'orange'\n",
       "\\item 'apple'\n",
       "\\end{enumerate*}\n"
      ],
      "text/markdown": [
       "1. 'orange'\n",
       "2. 'apple'\n",
       "3. 'orange'\n",
       "4. 'apple'\n",
       "5. 'orange'\n",
       "6. 'apple'\n",
       "7. 'orange'\n",
       "8. 'apple'\n",
       "9. 'orange'\n",
       "10. 'apple'\n",
       "11. 'orange'\n",
       "12. 'apple'\n",
       "13. 'orange'\n",
       "14. 'apple'\n",
       "15. 'orange'\n",
       "16. 'apple'\n",
       "17. 'orange'\n",
       "18. 'apple'\n",
       "19. 'orange'\n",
       "20. 'apple'\n",
       "\n",
       "\n"
      ],
      "text/plain": [
       " [1] \"orange\" \"apple\"  \"orange\" \"apple\"  \"orange\" \"apple\"  \"orange\" \"apple\" \n",
       " [9] \"orange\" \"apple\"  \"orange\" \"apple\"  \"orange\" \"apple\"  \"orange\" \"apple\" \n",
       "[17] \"orange\" \"apple\"  \"orange\" \"apple\" "
      ]
     },
     "metadata": {},
     "output_type": "display_data"
    }
   ],
   "source": [
    "# Create a logical vector for dropping bananas\n",
    "\n",
    "orange_or_apple <- fruits == \"orange\" | fruits == \"apple\" # True if orange or apple\n",
    "not_banana <- fruits != \"banana\"                            # != means true if not equal\n",
    "orange_or_apple2 <- fruits %in% c(\"orange\", \"apple\")\n",
    "\n",
    "# Carry out the subset\n",
    "fruits[orange_or_apple]"
   ]
  },
  {
   "cell_type": "code",
   "execution_count": 51,
   "id": "ea6cf507",
   "metadata": {},
   "outputs": [
    {
     "data": {
      "text/html": [
       "<style>\n",
       ".list-inline {list-style: none; margin:0; padding: 0}\n",
       ".list-inline>li {display: inline-block}\n",
       ".list-inline>li:not(:last-child)::after {content: \"\\00b7\"; padding: 0 .5ex}\n",
       "</style>\n",
       "<ol class=list-inline><li>'orange'</li><li>'apple'</li><li>'orange'</li><li>'apple'</li><li>'orange'</li><li>'apple'</li><li>'orange'</li><li>'apple'</li><li>'orange'</li><li>'apple'</li><li>'orange'</li><li>'apple'</li><li>'orange'</li><li>'apple'</li><li>'orange'</li><li>'apple'</li><li>'orange'</li><li>'apple'</li><li>'orange'</li><li>'apple'</li></ol>\n"
      ],
      "text/latex": [
       "\\begin{enumerate*}\n",
       "\\item 'orange'\n",
       "\\item 'apple'\n",
       "\\item 'orange'\n",
       "\\item 'apple'\n",
       "\\item 'orange'\n",
       "\\item 'apple'\n",
       "\\item 'orange'\n",
       "\\item 'apple'\n",
       "\\item 'orange'\n",
       "\\item 'apple'\n",
       "\\item 'orange'\n",
       "\\item 'apple'\n",
       "\\item 'orange'\n",
       "\\item 'apple'\n",
       "\\item 'orange'\n",
       "\\item 'apple'\n",
       "\\item 'orange'\n",
       "\\item 'apple'\n",
       "\\item 'orange'\n",
       "\\item 'apple'\n",
       "\\end{enumerate*}\n"
      ],
      "text/markdown": [
       "1. 'orange'\n",
       "2. 'apple'\n",
       "3. 'orange'\n",
       "4. 'apple'\n",
       "5. 'orange'\n",
       "6. 'apple'\n",
       "7. 'orange'\n",
       "8. 'apple'\n",
       "9. 'orange'\n",
       "10. 'apple'\n",
       "11. 'orange'\n",
       "12. 'apple'\n",
       "13. 'orange'\n",
       "14. 'apple'\n",
       "15. 'orange'\n",
       "16. 'apple'\n",
       "17. 'orange'\n",
       "18. 'apple'\n",
       "19. 'orange'\n",
       "20. 'apple'\n",
       "\n",
       "\n"
      ],
      "text/plain": [
       " [1] \"orange\" \"apple\"  \"orange\" \"apple\"  \"orange\" \"apple\"  \"orange\" \"apple\" \n",
       " [9] \"orange\" \"apple\"  \"orange\" \"apple\"  \"orange\" \"apple\"  \"orange\" \"apple\" \n",
       "[17] \"orange\" \"apple\"  \"orange\" \"apple\" "
      ]
     },
     "metadata": {},
     "output_type": "display_data"
    }
   ],
   "source": [
    "fruits[not_banana]"
   ]
  },
  {
   "cell_type": "code",
   "execution_count": 52,
   "id": "384388bb",
   "metadata": {},
   "outputs": [
    {
     "data": {
      "text/html": [
       "<style>\n",
       ".list-inline {list-style: none; margin:0; padding: 0}\n",
       ".list-inline>li {display: inline-block}\n",
       ".list-inline>li:not(:last-child)::after {content: \"\\00b7\"; padding: 0 .5ex}\n",
       "</style>\n",
       "<ol class=list-inline><li>'orange'</li><li>'apple'</li><li>'orange'</li><li>'apple'</li><li>'orange'</li><li>'apple'</li><li>'orange'</li><li>'apple'</li><li>'orange'</li><li>'apple'</li><li>'orange'</li><li>'apple'</li><li>'orange'</li><li>'apple'</li><li>'orange'</li><li>'apple'</li><li>'orange'</li><li>'apple'</li><li>'orange'</li><li>'apple'</li></ol>\n"
      ],
      "text/latex": [
       "\\begin{enumerate*}\n",
       "\\item 'orange'\n",
       "\\item 'apple'\n",
       "\\item 'orange'\n",
       "\\item 'apple'\n",
       "\\item 'orange'\n",
       "\\item 'apple'\n",
       "\\item 'orange'\n",
       "\\item 'apple'\n",
       "\\item 'orange'\n",
       "\\item 'apple'\n",
       "\\item 'orange'\n",
       "\\item 'apple'\n",
       "\\item 'orange'\n",
       "\\item 'apple'\n",
       "\\item 'orange'\n",
       "\\item 'apple'\n",
       "\\item 'orange'\n",
       "\\item 'apple'\n",
       "\\item 'orange'\n",
       "\\item 'apple'\n",
       "\\end{enumerate*}\n"
      ],
      "text/markdown": [
       "1. 'orange'\n",
       "2. 'apple'\n",
       "3. 'orange'\n",
       "4. 'apple'\n",
       "5. 'orange'\n",
       "6. 'apple'\n",
       "7. 'orange'\n",
       "8. 'apple'\n",
       "9. 'orange'\n",
       "10. 'apple'\n",
       "11. 'orange'\n",
       "12. 'apple'\n",
       "13. 'orange'\n",
       "14. 'apple'\n",
       "15. 'orange'\n",
       "16. 'apple'\n",
       "17. 'orange'\n",
       "18. 'apple'\n",
       "19. 'orange'\n",
       "20. 'apple'\n",
       "\n",
       "\n"
      ],
      "text/plain": [
       " [1] \"orange\" \"apple\"  \"orange\" \"apple\"  \"orange\" \"apple\"  \"orange\" \"apple\" \n",
       " [9] \"orange\" \"apple\"  \"orange\" \"apple\"  \"orange\" \"apple\"  \"orange\" \"apple\" \n",
       "[17] \"orange\" \"apple\"  \"orange\" \"apple\" "
      ]
     },
     "metadata": {},
     "output_type": "display_data"
    }
   ],
   "source": [
    "fruits[orange_or_apple2]"
   ]
  },
  {
   "cell_type": "markdown",
   "id": "152893e1",
   "metadata": {},
   "source": [
    "We applied the same logic as above: We have a vector (`fruits`) that\n",
    "we want to subset. We do so using a logical vector (`orange_or_apple`, `not_banana`, and `orange_or_apple2`), where elements that match with `TRUE` are kept. The only difference here is that we create the logical vector with a logical operation. The logical operators (e.g., `!=`, `|`) used here are discussed in the link above, with the exception of `%in%`. \n",
    "\n",
    "<div class=\"general-note\">\n",
    "\n",
    "<strong> General note about `%in%`: </strong> This operator is\n",
    "extremely useful as an alternative for repeated \"or\" (`|`) statements. For example, say you have a vector with 10 types of fruits and you want to keep elements that are equal to \"orange\", \"apple\", \"mango\",\n",
    "\"mandarin\", or \"kiwi\". You could accomplish this by creating a logical vector like so: `lv <- fruits == \"orange\" | fruits == \"apple\" | fruits == \"mango\" | fruits == \"mandarin\" | fruits == \"kiwi\"`.  \n",
    "\n",
    "<br> What a nighmarishly long statement compared to the `%in%` option that accomplishes the exact same thing: `lv <- fruits %in% c(\"orange\", \"apple\", \"mango\", \"mandarin\", \"kiwi\")`.\n",
    "\n",
    "</div>\n",
    "\n",
    "Of course, subsetting using logicals can also be done on numeric vectors.\n",
    "\n",
    "Here are a few examples:"
   ]
  },
  {
   "cell_type": "code",
   "execution_count": 53,
   "id": "3eb5018f",
   "metadata": {},
   "outputs": [
    {
     "data": {
      "text/html": [
       "<style>\n",
       ".list-inline {list-style: none; margin:0; padding: 0}\n",
       ".list-inline>li {display: inline-block}\n",
       ".list-inline>li:not(:last-child)::after {content: \"\\00b7\"; padding: 0 .5ex}\n",
       "</style>\n",
       "<ol class=list-inline><li>0</li><li>10</li><li>20</li><li>30</li><li>40</li><li>50</li><li>60</li><li>70</li><li>80</li><li>90</li><li>100</li></ol>\n"
      ],
      "text/latex": [
       "\\begin{enumerate*}\n",
       "\\item 0\n",
       "\\item 10\n",
       "\\item 20\n",
       "\\item 30\n",
       "\\item 40\n",
       "\\item 50\n",
       "\\item 60\n",
       "\\item 70\n",
       "\\item 80\n",
       "\\item 90\n",
       "\\item 100\n",
       "\\end{enumerate*}\n"
      ],
      "text/markdown": [
       "1. 0\n",
       "2. 10\n",
       "3. 20\n",
       "4. 30\n",
       "5. 40\n",
       "6. 50\n",
       "7. 60\n",
       "8. 70\n",
       "9. 80\n",
       "10. 90\n",
       "11. 100\n",
       "\n",
       "\n"
      ],
      "text/plain": [
       " [1]   0  10  20  30  40  50  60  70  80  90 100"
      ]
     },
     "metadata": {},
     "output_type": "display_data"
    }
   ],
   "source": [
    "# Create a numeric vector\n",
    "numbers <- seq(0, 100, by = 10)\n",
    "numbers\n"
   ]
  },
  {
   "cell_type": "code",
   "execution_count": 54,
   "id": "1733ca36",
   "metadata": {},
   "outputs": [
    {
     "data": {
      "text/html": [
       "<style>\n",
       ".list-inline {list-style: none; margin:0; padding: 0}\n",
       ".list-inline>li {display: inline-block}\n",
       ".list-inline>li:not(:last-child)::after {content: \"\\00b7\"; padding: 0 .5ex}\n",
       "</style>\n",
       "<ol class=list-inline><li>0</li><li>10</li><li>20</li><li>40</li><li>50</li></ol>\n"
      ],
      "text/latex": [
       "\\begin{enumerate*}\n",
       "\\item 0\n",
       "\\item 10\n",
       "\\item 20\n",
       "\\item 40\n",
       "\\item 50\n",
       "\\end{enumerate*}\n"
      ],
      "text/markdown": [
       "1. 0\n",
       "2. 10\n",
       "3. 20\n",
       "4. 40\n",
       "5. 50\n",
       "\n",
       "\n"
      ],
      "text/plain": [
       "[1]  0 10 20 40 50"
      ]
     },
     "metadata": {},
     "output_type": "display_data"
    }
   ],
   "source": [
    "# Illustrate three different filters\n",
    "numbers[numbers <= 50 & numbers != 30]"
   ]
  },
  {
   "cell_type": "code",
   "execution_count": 55,
   "id": "e3172a5f",
   "metadata": {},
   "outputs": [
    {
     "data": {
      "text/html": [
       "<style>\n",
       ".list-inline {list-style: none; margin:0; padding: 0}\n",
       ".list-inline>li {display: inline-block}\n",
       ".list-inline>li:not(:last-child)::after {content: \"\\00b7\"; padding: 0 .5ex}\n",
       "</style>\n",
       "<ol class=list-inline><li>0</li><li>100</li></ol>\n"
      ],
      "text/latex": [
       "\\begin{enumerate*}\n",
       "\\item 0\n",
       "\\item 100\n",
       "\\end{enumerate*}\n"
      ],
      "text/markdown": [
       "1. 0\n",
       "2. 100\n",
       "\n",
       "\n"
      ],
      "text/plain": [
       "[1]   0 100"
      ]
     },
     "metadata": {},
     "output_type": "display_data"
    }
   ],
   "source": [
    "numbers[numbers == 0 | numbers == 100]"
   ]
  },
  {
   "cell_type": "code",
   "execution_count": 56,
   "id": "dc86e1d2",
   "metadata": {},
   "outputs": [
    {
     "data": {
      "text/html": [],
      "text/latex": [],
      "text/markdown": [],
      "text/plain": [
       "numeric(0)"
      ]
     },
     "metadata": {},
     "output_type": "display_data"
    }
   ],
   "source": [
    "numbers[numbers > 100] #returns an empty vector"
   ]
  },
  {
   "cell_type": "markdown",
   "id": "e65e38fa",
   "metadata": {},
   "source": [
    "## Modifying vectors\n",
    "\n",
    "The subsetting logic from above can be used to modify vectors. The\n",
    "idea here is that instead of keeping elements that meet a logical\n",
    "condition or occur at a specific index, we can change them. For example,\n",
    "what if we had mis-entered grandpa's age above? We can fix it using indexing,\n",
    "a logical statement, or naming. "
   ]
  },
  {
   "cell_type": "code",
   "execution_count": 57,
   "id": "c60e339a",
   "metadata": {},
   "outputs": [
    {
     "data": {
      "text/html": [
       "<style>\n",
       ".list-inline {list-style: none; margin:0; padding: 0}\n",
       ".list-inline>li {display: inline-block}\n",
       ".list-inline>li:not(:last-child)::after {content: \"\\00b7\"; padding: 0 .5ex}\n",
       "</style>\n",
       "<ol class=list-inline><li>50</li><li>45</li><li>82</li></ol>\n"
      ],
      "text/latex": [
       "\\begin{enumerate*}\n",
       "\\item 50\n",
       "\\item 45\n",
       "\\item 82\n",
       "\\end{enumerate*}\n"
      ],
      "text/markdown": [
       "1. 50\n",
       "2. 45\n",
       "3. 82\n",
       "\n",
       "\n"
      ],
      "text/plain": [
       "[1] 50 45 82"
      ]
     },
     "metadata": {},
     "output_type": "display_data"
    }
   ],
   "source": [
    "# Recreate vector with age values\n",
    "age <- c(50, 55, 80)\n",
    "\n",
    "# Three ways of changing grandpa's age\n",
    "# Note: you'd only need to use one of these\n",
    "age[age == 80] <- 82 # using a logical statement\n",
    "age[2] <- 45         # using indexing\n",
    "age"
   ]
  },
  {
   "cell_type": "markdown",
   "id": "10aeb7c0",
   "metadata": {},
   "source": [
    "A logical statement is most efficient when we need to change a lot\n",
    "of elements."
   ]
  },
  {
   "cell_type": "code",
   "execution_count": 59,
   "id": "3f8e55d3",
   "metadata": {},
   "outputs": [
    {
     "data": {
      "text/html": [
       "<style>\n",
       ".list-inline {list-style: none; margin:0; padding: 0}\n",
       ".list-inline>li {display: inline-block}\n",
       ".list-inline>li:not(:last-child)::after {content: \"\\00b7\"; padding: 0 .5ex}\n",
       "</style>\n",
       "<ol class=list-inline><li>'orange'</li><li>'apple'</li><li>'bamama'</li><li>'orange'</li><li>'apple'</li><li>'bamama'</li><li>'orange'</li><li>'apple'</li><li>'bamama'</li><li>'orange'</li><li>'apple'</li><li>'bamama'</li><li>'orange'</li><li>'apple'</li><li>'bamama'</li></ol>\n"
      ],
      "text/latex": [
       "\\begin{enumerate*}\n",
       "\\item 'orange'\n",
       "\\item 'apple'\n",
       "\\item 'bamama'\n",
       "\\item 'orange'\n",
       "\\item 'apple'\n",
       "\\item 'bamama'\n",
       "\\item 'orange'\n",
       "\\item 'apple'\n",
       "\\item 'bamama'\n",
       "\\item 'orange'\n",
       "\\item 'apple'\n",
       "\\item 'bamama'\n",
       "\\item 'orange'\n",
       "\\item 'apple'\n",
       "\\item 'bamama'\n",
       "\\end{enumerate*}\n"
      ],
      "text/markdown": [
       "1. 'orange'\n",
       "2. 'apple'\n",
       "3. 'bamama'\n",
       "4. 'orange'\n",
       "5. 'apple'\n",
       "6. 'bamama'\n",
       "7. 'orange'\n",
       "8. 'apple'\n",
       "9. 'bamama'\n",
       "10. 'orange'\n",
       "11. 'apple'\n",
       "12. 'bamama'\n",
       "13. 'orange'\n",
       "14. 'apple'\n",
       "15. 'bamama'\n",
       "\n",
       "\n"
      ],
      "text/plain": [
       " [1] \"orange\" \"apple\"  \"bamama\" \"orange\" \"apple\"  \"bamama\" \"orange\" \"apple\" \n",
       " [9] \"bamama\" \"orange\" \"apple\"  \"bamama\" \"orange\" \"apple\"  \"bamama\""
      ]
     },
     "metadata": {},
     "output_type": "display_data"
    }
   ],
   "source": [
    "fruits <- rep(c(\"orange\", \"apple\", \"bamama\"), 5) \n",
    "fruits #bamamas anyone? "
   ]
  },
  {
   "cell_type": "code",
   "execution_count": 60,
   "id": "d8ecc862",
   "metadata": {},
   "outputs": [
    {
     "data": {
      "text/html": [
       "<style>\n",
       ".list-inline {list-style: none; margin:0; padding: 0}\n",
       ".list-inline>li {display: inline-block}\n",
       ".list-inline>li:not(:last-child)::after {content: \"\\00b7\"; padding: 0 .5ex}\n",
       "</style>\n",
       "<ol class=list-inline><li>'orange'</li><li>'apple'</li><li>'banana'</li><li>'orange'</li><li>'apple'</li><li>'banana'</li><li>'orange'</li><li>'apple'</li><li>'banana'</li><li>'orange'</li><li>'apple'</li><li>'banana'</li><li>'orange'</li><li>'apple'</li><li>'banana'</li></ol>\n"
      ],
      "text/latex": [
       "\\begin{enumerate*}\n",
       "\\item 'orange'\n",
       "\\item 'apple'\n",
       "\\item 'banana'\n",
       "\\item 'orange'\n",
       "\\item 'apple'\n",
       "\\item 'banana'\n",
       "\\item 'orange'\n",
       "\\item 'apple'\n",
       "\\item 'banana'\n",
       "\\item 'orange'\n",
       "\\item 'apple'\n",
       "\\item 'banana'\n",
       "\\item 'orange'\n",
       "\\item 'apple'\n",
       "\\item 'banana'\n",
       "\\end{enumerate*}\n"
      ],
      "text/markdown": [
       "1. 'orange'\n",
       "2. 'apple'\n",
       "3. 'banana'\n",
       "4. 'orange'\n",
       "5. 'apple'\n",
       "6. 'banana'\n",
       "7. 'orange'\n",
       "8. 'apple'\n",
       "9. 'banana'\n",
       "10. 'orange'\n",
       "11. 'apple'\n",
       "12. 'banana'\n",
       "13. 'orange'\n",
       "14. 'apple'\n",
       "15. 'banana'\n",
       "\n",
       "\n"
      ],
      "text/plain": [
       " [1] \"orange\" \"apple\"  \"banana\" \"orange\" \"apple\"  \"banana\" \"orange\" \"apple\" \n",
       " [9] \"banana\" \"orange\" \"apple\"  \"banana\" \"orange\" \"apple\"  \"banana\""
      ]
     },
     "metadata": {},
     "output_type": "display_data"
    }
   ],
   "source": [
    "# Let's fix the misspelled element\n",
    "fruits[fruits == \"bamama\"] <- \"banana\"\n",
    "fruits"
   ]
  },
  {
   "cell_type": "markdown",
   "id": "6825433b",
   "metadata": {},
   "source": [
    "## Type Promotion"
   ]
  },
  {
   "cell_type": "markdown",
   "id": "db5930c9",
   "metadata": {},
   "source": [
    "OK, there's one last lesson that's worth learning about vectors, because it can get you in trouble. \n",
    "\n",
    "As noted above, vectors can only contain one type of data, but if you try and use `c()` to combine vectors of different types, R will try and be clever and *find* a way to combine that by doing something called \"Type Promotion\", which is a way of converting all the data you give it to the same type. For example, if I tried to create a vector by combining a character vector and a numeric vector, R would convert the numeric vector to a character vector so all the data could fit in a numeric vector:\n"
   ]
  },
  {
   "cell_type": "code",
   "execution_count": 13,
   "id": "e3d36b34",
   "metadata": {},
   "outputs": [
    {
     "data": {
      "text/html": [
       "<style>\n",
       ".list-inline {list-style: none; margin:0; padding: 0}\n",
       ".list-inline>li {display: inline-block}\n",
       ".list-inline>li:not(:last-child)::after {content: \"\\00b7\"; padding: 0 .5ex}\n",
       "</style>\n",
       "<ol class=list-inline><li>'Nick'</li><li>'42'</li></ol>\n"
      ],
      "text/latex": [
       "\\begin{enumerate*}\n",
       "\\item 'Nick'\n",
       "\\item '42'\n",
       "\\end{enumerate*}\n"
      ],
      "text/markdown": [
       "1. 'Nick'\n",
       "2. '42'\n",
       "\n",
       "\n"
      ],
      "text/plain": [
       "[1] \"Nick\" \"42\"  "
      ]
     },
     "metadata": {},
     "output_type": "display_data"
    }
   ],
   "source": [
    "a <- c(\"Nick\", 42)\n",
    "a"
   ]
  },
  {
   "cell_type": "markdown",
   "id": "b15cc45c",
   "metadata": {},
   "source": [
    "Why did R convert `42` to `\"42\"` and not convert `\"Nick\"` to a numeric type? Well because `\"Nick\"` can be represented as a numeric type in any meaningful sense while any number (like `42`) can always be represented as a character in a meaningful way.\n",
    "\n",
    "Indeed, there's a hierarchy of data types, where a type lower on the hierarchy can always be converted into something higher in the order, but not the other way around. That hierarchy is:\n",
    "\n",
    "`logical` --> `numeric` --> `character`\n",
    "\n",
    "When are is asked to combine vectors of different data types, it will try to move things up this hierarchy by the smallest amount possible in order to make everything the same type.\n",
    "\n",
    "For example, if you combine `logical` and `numeric` vectors, R will convert all of the data into `numeric` (remember from our previous lesson that R thanks of `TRUE` as being like `1`, and `FALSE` as being like `0`).\n"
   ]
  },
  {
   "cell_type": "code",
   "execution_count": 14,
   "id": "3fbb6112",
   "metadata": {},
   "outputs": [
    {
     "data": {
      "text/html": [
       "<style>\n",
       ".list-inline {list-style: none; margin:0; padding: 0}\n",
       ".list-inline>li {display: inline-block}\n",
       ".list-inline>li:not(:last-child)::after {content: \"\\00b7\"; padding: 0 .5ex}\n",
       "</style>\n",
       "<ol class=list-inline><li>1</li><li>2</li><li>1</li></ol>\n"
      ],
      "text/latex": [
       "\\begin{enumerate*}\n",
       "\\item 1\n",
       "\\item 2\n",
       "\\item 1\n",
       "\\end{enumerate*}\n"
      ],
      "text/markdown": [
       "1. 1\n",
       "2. 2\n",
       "3. 1\n",
       "\n",
       "\n"
      ],
      "text/plain": [
       "[1] 1 2 1"
      ]
     },
     "metadata": {},
     "output_type": "display_data"
    }
   ],
   "source": [
    "c(1, 2, TRUE)"
   ]
  },
  {
   "cell_type": "markdown",
   "id": "ecedf89d",
   "metadata": {},
   "source": [
    "But it **doesn't** convert that data into a `character` vector (even though it could!) because it's trying to make the smallest movements up that hierarchy that it can. But if we try to combine `logical`, `numeric`, *and* `character` vectors, R would be forced to convert everything into a `character` vector:"
   ]
  },
  {
   "cell_type": "code",
   "execution_count": 16,
   "id": "e2a17ad2",
   "metadata": {},
   "outputs": [
    {
     "data": {
      "text/html": [
       "<style>\n",
       ".list-inline {list-style: none; margin:0; padding: 0}\n",
       ".list-inline>li {display: inline-block}\n",
       ".list-inline>li:not(:last-child)::after {content: \"\\00b7\"; padding: 0 .5ex}\n",
       "</style>\n",
       "<ol class=list-inline><li>'TRUE'</li><li>'42'</li><li>'Julio'</li></ol>\n"
      ],
      "text/latex": [
       "\\begin{enumerate*}\n",
       "\\item 'TRUE'\n",
       "\\item '42'\n",
       "\\item 'Julio'\n",
       "\\end{enumerate*}\n"
      ],
      "text/markdown": [
       "1. 'TRUE'\n",
       "2. '42'\n",
       "3. 'Julio'\n",
       "\n",
       "\n"
      ],
      "text/plain": [
       "[1] \"TRUE\"  \"42\"    \"Julio\""
      ]
     },
     "metadata": {},
     "output_type": "display_data"
    }
   ],
   "source": [
    "c(TRUE, 42, \"Julio\")"
   ]
  },
  {
   "cell_type": "markdown",
   "id": "96a007ae",
   "metadata": {},
   "source": [
    "Note that I didn't create logical objects to carry out the subsets here,\n",
    "as opposed to above where we explicitly defined `lv`. I find it more\n",
    "compact and intuitive to take subsets without first creating a logical\n",
    "vector."
   ]
  },
  {
   "cell_type": "markdown",
   "id": "cdaf6a19",
   "metadata": {},
   "source": [
    "<div style=\"margin-top: 15px\"> </div>\n",
    "\n",
    "## Exercises\n",
    "\n",
    "Create a vector that represents the age of at least four different family\n",
    "members or friends. You can name it whatever you want.\n",
    "\n",
    "1. What is the mean age of the people in your vector? Find out in two ways,\n",
    "with and without using the `mean()` command.\n",
    "\n",
    "2. How old is the youngest person in your vector? (Use an R command to find out.)\n",
    "\n",
    "3. What is the age gap between the youngest person and the oldest person in your vector?\n",
    "(Again use R to find out, and try to be as general as possible in the sense that\n",
    "your code should work even if the elements in your vector, or their order, change.)\n",
    "\n",
    "4. How many people in your vector are above age 25? (Again, try to make your code\n",
    "work even in the case that your vector changes.)\n",
    "\n",
    "5. Replace the age of the oldest person in your vector with the age of someone\n",
    "else you know.\n",
    "\n",
    "6. Create a new vector that indicates how old each person in your vector\n",
    "will be in 10 years.\n",
    "\n",
    "7. Create a new vector that indicates what year each person in your vector\n",
    "will turn 100 years old.\n",
    "\n",
    "8. Create a new vector with a random sample of 3 individuals from your\n",
    "original vector. What is the mean age of the people in this new\n",
    "vector?\n"
   ]
  },
  {
   "cell_type": "markdown",
   "id": "22a0b792",
   "metadata": {},
   "source": []
  }
 ],
 "metadata": {
  "jupytext": {
   "cell_metadata_filter": "-all",
   "main_language": "R",
   "notebook_metadata_filter": "-all"
  },
  "kernelspec": {
   "display_name": "R",
   "language": "R",
   "name": "ir"
  },
  "language_info": {
   "codemirror_mode": "r",
   "file_extension": ".r",
   "mimetype": "text/x-r-source",
   "name": "R",
   "pygments_lexer": "r",
   "version": "4.1.0"
  }
 },
 "nbformat": 4,
 "nbformat_minor": 5
}
