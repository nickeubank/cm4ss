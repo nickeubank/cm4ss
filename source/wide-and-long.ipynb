{
 "cells": [
  {
   "cell_type": "markdown",
   "source": [
    "# Wide & Long Data\n",
    "\n",
    "This tutorial has three purposes&#58; to explain the difference between long and wide form datasets, to show why it's generally preferable to use long form datasets, and to go over how to convert datasets from wide to long form.\n"
   ],
   "metadata": {}
  },
  {
   "cell_type": "markdown",
   "source": [
    "Wide versus long data\n",
    "=====================\n",
    "\n",
    "Illustrating the difference between wide and long datasets is easiest\n",
    "using an example. Here are two datasets with the exact same information\n",
    "represented in wide and long form respectively (imagine that `avgtemp`\n",
    "represents average temperature in Celsius):  \n"
   ],
   "metadata": {}
  },
  {
   "cell_type": "code",
   "execution_count": null,
   "source": [
    "# Create long dataset\n",
    "country_long <- data.frame(\n",
    "    expand.grid(country = c(\"Sweden\", \"Denmark\", \"Norway\"), year = 1994:1996),\n",
    "    avgtemp = round(runif(9, 3, 12), 0)\n",
    "    )\n",
    "country_long\n",
    "\n",
    "# Create wide dataset\n",
    "country_wide <- data.frame(\n",
    "    country = c(\"Sweden\", \"Denmark\", \"Norway\"),\n",
    "    avgtemp.1994 = country_long$avgtemp[1:3],\n",
    "    avgtemp.1995 = country_long$avgtemp[4:6],\n",
    "    avgtemp.1996 = country_long$avgtemp[7:9])\n",
    "country_wide "
   ],
   "outputs": [],
   "metadata": {
    "lines_to_next_cell": 2
   }
  },
  {
   "cell_type": "markdown",
   "source": [
    "As is obvious, the long dataset separates the unit of analysis (country-year)\n",
    "into two separate variables. The wide dataset combines one of the keys (`year`)\n",
    "with the value variable (`avgtemp`)."
   ],
   "metadata": {}
  },
  {
   "cell_type": "markdown",
   "source": [
    "A case for long data\n",
    "=====================\n",
    "\n",
    "There are many reasons to prefer datasets structured in long\n",
    "form. Repeating some of the points made in Hadley Wickham's\n",
    "[excellent paper on the topic](http://vita.had.co.nz/papers/tidy-data.html),\n",
    "here are three reasons why you should attempt to structure your data\n",
    "in long form:\n",
    "\n",
    "1. If you have many value variables, it is difficult to summarize\n",
    "wide-form datasets at a glance (which in turn makes it hard to identify\n",
    "mistakes in the data). For example, imagine we have a dataset with 50 years\n",
    "and 10 value variables of interest --- this would result in 500 columns in wide form.\n",
    "Summarizing each column to look for strange observations, or simply understanding\n",
    "which variables are included in the dataset, becomes difficult in this case.\n",
    "\n",
    "2. Structuring data as key-value pairs --- as is done in long-form\n",
    "datasets --- facilitates conceptual clarity. For example, in\n",
    "`country_long` above, it is clear that the unit of analysis is\n",
    "country-year --- or, put differently, that the variables `country` and\n",
    "`year` jointly constitute the key in the dataset. In wide-form datasets,\n",
    "one of the variables that constitutes the unit of analysis is mixed with\n",
    "a variable that holds values. (Read more about this in Hadley's paper referenced\n",
    "above.)\n",
    "\n",
    "3. Long-form datasets are often required for advanced statistical\n",
    "analysis and graphing. For example, if you wanted to run a regression with\n",
    "year and/or country fixed effects, you would have to structure your data\n",
    "in long form. Furthermore, many graphing packages, including `ggplot`,\n",
    "rely on your data being in long form. \n"
   ],
   "metadata": {}
  },
  {
   "cell_type": "markdown",
   "source": [
    "Wide-to-long conversion\n",
    "========================\n",
    "\n",
    "To illustrate how to convert a dataset from wide to long format, we'll\n",
    "use a UNICEF dataset on under-five child mortality across 196\n",
    "countries. Download the dataset [here](../data/unicef-u5mr.csv); it is\n",
    "based on data that can be found at\n",
    "[www.childmortality.org](http://www.childmortality.org/). The under-five mortality\n",
    "rate is expressed as the number of under-five deaths per 1,000 live births.\n",
    "\n",
    "Set your working directory and read the file: "
   ],
   "metadata": {}
  },
  {
   "cell_type": "code",
   "execution_count": null,
   "source": [
    "u5mr <- read.csv(\"../data/unicef-u5mr.csv\")"
   ],
   "outputs": [],
   "metadata": {
    "tags": [
     "remove_input"
    ]
   }
  },
  {
   "cell_type": "code",
   "execution_count": null,
   "source": [
    "u5mr <- read.csv(\"unicef-u5mr.csv\")"
   ],
   "outputs": [],
   "metadata": {
    "eval": false
   }
  },
  {
   "cell_type": "markdown",
   "source": [
    "This dataset has 196 rows, one for each country, and 67 variables:  "
   ],
   "metadata": {}
  },
  {
   "cell_type": "code",
   "execution_count": null,
   "source": [
    "dim(u5mr) #dimensions of the data frame\n",
    "names(u5mr) #the variable names"
   ],
   "outputs": [],
   "metadata": {}
  },
  {
   "cell_type": "markdown",
   "source": [
    "Let's convert it to long format, where the unit of analysis is\n",
    "country-year. That is, we'll have three variables indicating country,\n",
    "year, and U5MR. This can be done using `gather()` in the `tidyr`\n",
    "package. "
   ],
   "metadata": {}
  },
  {
   "cell_type": "code",
   "execution_count": null,
   "source": [
    "require(tidyr)\n",
    "u5mr_long <- u5mr %>% gather(year, u5mr, U5MR.1950:U5MR.2015)\n",
    "tail(u5mr_long)"
   ],
   "outputs": [],
   "metadata": {}
  },
  {
   "cell_type": "markdown",
   "source": [
    "`gather()` takes three arguments. The first two specify a key-value\n",
    "pair: year is the key and u5mr the value. The third argument specifies\n",
    "which variables in the original data to convert into the key-value\n",
    "combination (in this case, all variables from `U5MR.1950` to\n",
    "`U5MR.2015`).\n",
    "\n",
    "Note that it would be better if `year` indicated years as numeric\n",
    "values. This only requires one more line of code, which uses\n",
    "`mutate()` from the `dplyr` package, `gsub()` to remove instances of\n",
    "\"`U5MR.`\", and `as.numeric()` to convert the variable from character\n",
    "to numeric."
   ],
   "metadata": {}
  },
  {
   "cell_type": "code",
   "execution_count": null,
   "source": [
    "require(dplyr)\n",
    "u5mr_long <- u5mr %>%\n",
    "    gather(year, u5mr, U5MR.1950:U5MR.2015) %>%\n",
    "    mutate(year = as.numeric(gsub(\"U5MR.\", \"\", year)))\n",
    "tail(u5mr_long)"
   ],
   "outputs": [],
   "metadata": {}
  },
  {
   "cell_type": "markdown",
   "source": [
    "Learn more about `gather()` and other excellent `tidyr` functions that\n",
    "facilitate tidy data\n",
    "[here](http://blog.rstudio.org/2014/07/22/introducing-tidyr/) and\n",
    "[here](http://blog.rstudio.org/2015/09/13/tidyr-0-3-0/)."
   ],
   "metadata": {}
  },
  {
   "cell_type": "markdown",
   "source": [
    "Exercises\n",
    "==========\n",
    "\n",
    "Go to [www.childmortality.org](http://www.childmortality.org/) and\n",
    "download the dataset under \"Estimates for under-five, infant and\n",
    "neonatal mortality\".  (You can also download it\n",
    "[here](../data/RatesDeaths_AllIndicators.xlsx).)  The dataset is in\n",
    "wide form and contains six value variables of interest: under-five\n",
    "(0-4 years) mortality, infant (0-1 years) mortality, neonatal (0-1\n",
    "month) mortality, as well as the number of under-five, infant, and\n",
    "neonatal deaths. "
   ],
   "metadata": {}
  },
  {
   "cell_type": "markdown",
   "source": [
    "1. Read the dataset into R. Note that it is in .xlsx format --- there\n",
    "are R packages that will allow you to read such files, or you can\n",
    "convert it to .csv using software such as Excel and then use\n",
    "`read.csv()`. Note that you don't need the first few rows of the\n",
    "dataset.\n",
    "\n",
    "2. Subset the dataset to the median estimate for each country (i.e.,\n",
    "drop rows representing lower and upper uncertainty bounds).\n",
    "\n",
    "3. Convert the dataset to long form. The final dataset should have\n",
    "four variables:\n",
    "* `country` (a character variable with the country name)\n",
    "* `year` (a numeric variable with the year)\n",
    "* `type` (a character or factor variable with six categories: \"U5MR\", \"IMR\", \"NMR\",\n",
    "\"Under five deaths\", \"Infant deaths\", and \"Neonatal deaths\").\n",
    "* `value` (a numeric variable with the value for the given country, year, and type)\n",
    "\n",
    "<div class=\"indent\">\n",
    "\n",
    "For example, here are what 12 observations for Afghanistan (displaying\n",
    "only years 1990-91) should look like:"
   ],
   "metadata": {}
  },
  {
   "cell_type": "code",
   "execution_count": null,
   "source": [
    "\n",
    "read.csv(\"../data/unicef-all.csv\") %>%\n",
    "    filter(CountryName == \"Afghanistan\", Uncertainty.bounds == \"Median\") %>%\n",
    "    select(CountryName, contains(\"1990\"), contains(\"1991\")) %>%\n",
    "    gather(type, value, U5MR.1990:Neonatal.Deaths.1991) %>%\n",
    "    mutate(year = c(rep(1990, 6), rep(1991, 6)),\n",
    "           type = rep(c(\"U5MR\", \"IMR\", \"NMR\",\n",
    "               \"Under five deaths\", \"Infant deaths\", \"Neonatal deaths\"), 2)) %>%\n",
    "    select(country = CountryName, year, type, value)\n"
   ],
   "outputs": [],
   "metadata": {
    "tags": [
     "remove_input"
    ]
   }
  },
  {
   "cell_type": "markdown",
   "source": [
    "</div>\n",
    "\n",
    "4. How many under-five, infant, and neonatal deaths occurred in total in the world\n",
    "in years 1990, 1995, 2000, 2005, and 2015? (Hint: see the tutorial on [collapsing data](../collapsing-data).)\n",
    "\n"
   ],
   "metadata": {}
  }
 ],
 "metadata": {
  "jupytext": {
   "cell_metadata_filter": "tags,eval,-all",
   "main_language": "R",
   "notebook_metadata_filter": "-all"
  },
  "language_info": {
   "name": "R"
  },
  "kernelspec": {
   "name": "ir",
   "display_name": "R",
   "language": "R"
  }
 },
 "nbformat": 4,
 "nbformat_minor": 5
}