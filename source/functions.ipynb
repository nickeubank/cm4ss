{
 "cells": [
  {
   "cell_type": "markdown",
   "source": [
    "# Functions\n",
    "\n",
    "Up to this point in our course, we've mostly *used* functions without really thinking about how they work. And to some degree, that's by design -- as discussed in our earlier reading, you don't actually need to know what's going on inside the function. You only need to know the arguments you need to pass to it to get back the thing that you want. In that sense, function is kind of like a toaster: you put bread in, you get toast back; how the toaster is turning the bread into toast isn't really something you need to worry about.\n",
    "\n",
    "But in your career, you will often find it useful to write your own functions, and to do that we have to understand a little more about how functions work.\n",
    "\n",
    "Why do we care about writing functions? Functions are useful when you want to execute a task over and over again, resulting in less verbose and more easily interpretable code. And as we learned in our [defensive programming reading](defensive_programming.ipynb), that will not only save you time, but it will also make it less likely that you will end up with errors in your code!\n",
    "\n",
    "**But wait... isn't that what you told me loops were for?**\n",
    "\n",
    "Yes! Both loops and functions are, broadly speaking, for the same purpose: helping write more succinct code when you're doing something similar over and over. The big difference is that with a loop you only really get one variable the changes with each pass, whereas with the function, you can generalize behavior a lot more. In addition, as you'll see, functions are a little more flexible and reusable than loops."
   ],
   "metadata": {}
  },
  {
   "cell_type": "markdown",
   "source": [
    "## Defining a Function\n",
    "\n",
    "To illustrate how function works, let's begin with a very simple function that takes a number, adds one to that number, then doubles it. It is admittedly a bit of a contrived example, but it has just enough complexity to be interesting.\n",
    "\n",
    "We would write this function as follows:"
   ],
   "metadata": {}
  },
  {
   "cell_type": "code",
   "execution_count": 6,
   "source": [
    "add_1_and_double <- function(input_number) {\n",
    "    plus_1 <- input_number + 1\n",
    "    doubled <- plus_1 * 2\n",
    "    return(doubled)\n",
    "}"
   ],
   "outputs": [],
   "metadata": {}
  },
  {
   "cell_type": "code",
   "execution_count": 7,
   "source": [
    "x <- 5\n",
    "y <- add_1_and_double(x)\n",
    "y"
   ],
   "outputs": [
    {
     "output_type": "display_data",
     "data": {
      "text/plain": [
       "[1] 17"
      ],
      "text/markdown": [
       "17"
      ],
      "text/latex": [
       "17"
      ],
      "text/html": [
       "17"
      ]
     },
     "metadata": {}
    }
   ],
   "metadata": {}
  },
  {
   "cell_type": "markdown",
   "source": [
    "Let's walk through this line by line to understand what's going on. \n",
    "\n",
    "The first thing we see -- the name to which the function is being assigned -- will become the function name. \n",
    "\n",
    "Text between the parentheses after `function` (here, `input_number`) are the arguments the function will accept. We are writing this function to only accept one argument, so we've only put one thing between the parentheses. This is called the function signature.\n",
    "\n",
    "Then between the curly brackets is the actual function -- the argument passed to the function is referred to by whatever you called the argument in the function signature (here, `input_number`). So here within the function we had one to the input, double that value.\n",
    "\n",
    "Finally, we passed that doubled value to the `return()` function, which means that we want the value assigned to `doubled` to be what the function returns."
   ],
   "metadata": {}
  },
  {
   "cell_type": "markdown",
   "source": [
    "## What Happens When a Function is Called\n",
    "\n",
    "Now that we've seen how to write a function, let's pause for a moment to work through exactly what happens when that function is called. For example, above we ran the code `above_1_and_double(x)` and got back 12. How did that happen? Well...\n",
    "\n",
    "We begin with a simple assignment of `5` to `x`:"
   ],
   "metadata": {}
  },
  {
   "cell_type": "markdown",
   "source": [
    "![function1](images/function1.png)"
   ],
   "metadata": {}
  },
  {
   "cell_type": "markdown",
   "source": [
    "After which, we pass `x` to our function `add_1_and_double()`. When that happens, a new \"stack frame\" is created by R to execute that function, and the value passed to the function -- `5` -- is assigned to a variable with the name it was given in the function signature.\n",
    "\n",
    "![function2](images/function2.png)"
   ],
   "metadata": {}
  },
  {
   "cell_type": "markdown",
   "source": [
    "The function then begins to execute. When `input_number` is added to `1`, a new variable -- `plus_1` -- is created within the function frame. \n",
    "\n",
    "![function3](images/function3.png)\n"
   ],
   "metadata": {}
  },
  {
   "cell_type": "markdown",
   "source": [
    "Then `plus_1` is doubled, and that value is assigned to `doubled`:\n",
    "\n",
    "![function4](images/function4.png)"
   ],
   "metadata": {}
  },
  {
   "cell_type": "markdown",
   "source": [
    "But then things get interesting, as we arrive at the `return` statement: \n",
    "\n",
    "![function5](images/function5.png)\n",
    "\n",
    "The return statement tells R that the function is done. When R encounters a return statement, it does two things: it (a) returns the value given to `return()`, and (b) it ends the function and deletes the function's frame:\n",
    "\n",
    "![function6](images/function6.png)\n",
    "\n",
    "Notice that all the variables that had been defined within the frame `add_1_and_double` (`input_number`, `plus_1`, and `doubled`) are gone -- when a function ends, none of the variables defined within the function live on. All that's left is that the function's memory lives on through its return value, which is now stored in `y`."
   ],
   "metadata": {}
  },
  {
   "cell_type": "markdown",
   "source": [
    "## Function Arguments\n",
    "\n",
    "stuff"
   ],
   "metadata": {}
  },
  {
   "cell_type": "markdown",
   "source": [
    "## A Note About Scope\n",
    "\n",
    "There's a concept in programming called \"scope\", which refers to what variables are visible at a given moment of execution. If you write a function to only need to work with (a) the arguments given to the function, and (b) the variables that you define within the function, you don't need to worry about scope. And indeed, there's a whole philosophy of programming -- called *functional programming* -- that says that's the only way you should write a function. \n",
    "\n",
    "In general, I would recommend sticking to this approach. However, I would not be doing my duty as an instructor if I did not mention that functions can see variables that exist outside of themselves. For example, in our `add_1_and_double()` example above, if we'd added the line `doubled <- doubled + x` right above our return statement, the function would have been able to \"see\" that there was a variable `x` in the world outside the function, and that it had been assigned the value `5` and increment `doubled` by 5. But... That's a very dangerous method of programming, because if you write a function that way, the behavior of the function now depends on the values assigned to variables outside the function. So `add_1_and_double(5)` would return one thing if you had earlier defined `x <- 2` and something different if you defined `x <- 7`. So... don't do it? I just want to warn you that code written like that will run, but it's something you won't want to use unless you really know what you're doing."
   ],
   "metadata": {}
  },
  {
   "cell_type": "markdown",
   "source": [
    "## Applications\n",
    "\n",
    "\n",
    "Functions can be used in a wide variety of scenarios. Here are two applications, \n",
    "which I go over in detail below:\n",
    "\n",
    "1. A function that reads and manipulates a .csv file. Use it with\n",
    "`lapply()` or in a `for` loop to iterate over several files with a\n",
    "similar structure. Then combine the resulting data frames into one\n",
    "data frame.\n",
    "\n",
    "2. A function that carries out a regression or graphing analysis on a\n",
    "select number of variables or on a subset of the data."
   ],
   "metadata": {}
  },
  {
   "cell_type": "markdown",
   "source": [
    "Reading several files\n",
    "---------------------\n",
    "\n",
    "Begin by downloading a [.zip file with service request data from NYC](../data/nyc-311-sample.zip).\n",
    "The zip file contains six files for years 2004-2009, each with 10,000 observations. The data are\n",
    "originally from [NYC's Open Data portal](https://nycopendata.socrata.com/data?cat=social%20services),\n",
    "which hosts datasets with millions of service requests filed by residents through\n",
    "the city's 311 program. For the purpose of this example, I have taken a random sample\n",
    "of 10,000 for each year.\n",
    "\n",
    "Here's what the 2004 file looks like (the other years have the same structure)."
   ],
   "metadata": {}
  },
  {
   "cell_type": "markdown",
   "source": [
    "\n",
    "```r\n",
    "# Read the 311 data for 2004 (after setting the working directory)\n",
    "nyc04 <- read.csv(\"nyc-311-2004-sample.csv\")\n",
    "head(nyc04)\n",
    "````"
   ],
   "metadata": {}
  },
  {
   "cell_type": "code",
   "execution_count": null,
   "source": [
    "nyc04 <- read.csv(\"../data/nyc-311-sample/nyc-311-2004-sample.csv\")\n",
    "head(nyc04)"
   ],
   "outputs": [],
   "metadata": {
    "tags": [
     "remove_input"
    ]
   }
  },
  {
   "cell_type": "markdown",
   "source": [
    "The variables in the data are as follows: \n",
    "\n",
    "* `Unique.Key`: An id number unique to each request.\n",
    "* `Created.Date`: The date the request was filed in the 311 system.\n",
    "* `Closed.Date`: The date the request was resolved by city workers (`NA`\n",
    "implies that it was never resolved).\n",
    "* `Complaint.Type`: The subject of the complaint.\n",
    "* `Location`: Coordinates that give the location of the service issue."
   ],
   "metadata": {}
  },
  {
   "cell_type": "markdown",
   "source": [
    "Our goal with the function is to read the file and clean it. In particular,\n",
    "we want to convert the `Created.Date` and `Closed.Date` variables so that\n",
    "R recognizes them as dates. From these variables, we can then calculate\n",
    "measures of *government responsiveness*: (1) how many days it took city\n",
    "workers to resolve a request, and (2) whether or not a request was resolved\n",
    "within a week. "
   ],
   "metadata": {}
  },
  {
   "cell_type": "code",
   "execution_count": null,
   "source": [
    "# Load required packages\n",
    "require(dplyr) \n",
    "require(lubridate) #to work with dates\n",
    "\n",
    "# Create a function that reads and cleans a service request file.\n",
    "# The input is the name of a service request file and the\n",
    "# output is a data frame with cleaned variables.  \n",
    "clean_dta <- function(file_name) {\n",
    "\n",
    "    # Read the file and save it to an object called 'dta'\n",
    "    dta <- read.csv(file_name)\n",
    "\n",
    "    # Clean the dates in the dta file and generate responsiveness measures\n",
    "    dta <- dta %>%\n",
    "        mutate(opened = mdy(substring(Created.Date, 1, 10)),\n",
    "               closed = mdy(substring(Closed.Date, 1, 10)),\n",
    "               resptime = as.numeric(difftime(closed, opened, units = \"days\")),\n",
    "               resptime = ifelse(resptime >=0, resptime, NA),\n",
    "               solvedin7 = ifelse(resptime <= 7, 1, 0))\n",
    "\n",
    "    # Return the cleaned data \n",
    "    return(dta)\n",
    "}\n"
   ],
   "outputs": [],
   "metadata": {}
  },
  {
   "cell_type": "markdown",
   "source": [
    "Let's test the function on the 2004 data:"
   ],
   "metadata": {}
  },
  {
   "cell_type": "code",
   "execution_count": null,
   "source": [
    "# Execute function on the 2004 data \n",
    "nyc04 <- clean_dta(\"nyc-311-2004-sample.csv\")\n",
    "head(nyc04)"
   ],
   "outputs": [],
   "metadata": {
    "eval": false
   }
  },
  {
   "cell_type": "code",
   "execution_count": null,
   "source": [
    "nyc04 <- clean_dta(\"../data/nyc-311-sample/nyc-311-2004-sample.csv\")\n",
    "head(nyc04)"
   ],
   "outputs": [],
   "metadata": {
    "tags": [
     "remove_input"
    ]
   }
  },
  {
   "cell_type": "markdown",
   "source": [
    "The cleaned dataset has four new variables:\n",
    "\n",
    "* `opened`: The date the request was filed in date format. \n",
    "* `closed`: The date the request was resolved in date format. \n",
    "* `resptime`: The number of days it took to resolve the request (`closed` - `opened`).\n",
    "* `solvedin7`: A dummy variable equal to 1 if the request was solved within a week\n",
    "  and 0 otherwise. \n",
    "\n",
    "We can now use this function on all the six files using \n",
    "`lapply()`, saving each cleaned data frame into a\n",
    "list. (Read more about `lapply()`\n",
    "[here](http://www.r-bloggers.com/using-apply-sapply-lapply-in-r/). Of course,\n",
    "you can also use a [for loop](../for-loops).)\n"
   ],
   "metadata": {}
  },
  {
   "cell_type": "code",
   "execution_count": null,
   "source": [
    "# First create a vector with the names of the files we want to read\n",
    "file_names <- paste0(\"nyc-311-\", 2004:2009, \"-sample.csv\")\n",
    "file_names"
   ],
   "outputs": [],
   "metadata": {}
  },
  {
   "cell_type": "code",
   "execution_count": null,
   "source": [
    "file_names <- paste0(\"../data/nyc-311-sample/nyc-311-\", 2004:2009, \"-sample.csv\")"
   ],
   "outputs": [],
   "metadata": {
    "tags": [
     "remove_input"
    ]
   }
  },
  {
   "cell_type": "code",
   "execution_count": null,
   "source": [
    "# Now use the vector of file names and the 'clean_dta' function in lapply()\n",
    "nyc_all <- lapply(file_names, clean_dta)"
   ],
   "outputs": [],
   "metadata": {}
  },
  {
   "cell_type": "markdown",
   "source": [
    "The list `nyc_all` now has six elements, consisting of cleaned data for each\n",
    "of the years in 2004-2009. For example, here's the first and second elements\n",
    "with the 2004 and 2005 data: "
   ],
   "metadata": {}
  },
  {
   "cell_type": "code",
   "execution_count": null,
   "source": [
    "head(nyc_all[[1]]) #cleaned data for 2004\n",
    "head(nyc_all[[2]]) #cleaned data for 2005 "
   ],
   "outputs": [],
   "metadata": {}
  },
  {
   "cell_type": "markdown",
   "source": [
    "Here's the same task using a `for` loop instead. (In reality, you'd either use\n",
    "`lapply()` or a `for` loop, not both --- this is just for illustrative purposes. As\n",
    "you'll see, `lapply()` is more compact and elegant in this case, but a `for` loop\n",
    "is probably more intuitive.) "
   ],
   "metadata": {}
  },
  {
   "cell_type": "code",
   "execution_count": null,
   "source": [
    "nyc_all <- list()\n",
    "for(i in 1:length(file_names)) {\n",
    "    nyc_all[[i]] <- clean_dta(file_names[i])\n",
    "}\n",
    "head(nyc_all[[1]]) #take a look at the 2004 data"
   ],
   "outputs": [],
   "metadata": {}
  },
  {
   "cell_type": "markdown",
   "source": [
    "Finally, let's [append](../merging-appending) the data frames stored in\n",
    "the `nyc_all` list into one data frame. This is easy using\n",
    "`do.call()` and `rbind()`. "
   ],
   "metadata": {}
  },
  {
   "cell_type": "code",
   "execution_count": null,
   "source": [
    "# List of data frames --> one data frame\n",
    "nyc_all <- do.call(rbind, nyc_all)\n",
    "class(nyc_all) #nyc_all is now a data frame\n",
    "dim(nyc_all) #nyc_all now has 60,000 observations \n",
    "summary(nyc_all$opened) #opened contains all years in 2004-2009"
   ],
   "outputs": [],
   "metadata": {
    "lines_to_next_cell": 2
   }
  },
  {
   "cell_type": "markdown",
   "source": [
    "Complex analyses \n",
    "---------------------\n",
    "\n",
    "Functions can also be used when you have to carry out a bunch of\n",
    "analyses in a flexible way. Let's use the `nyc_all` dataset that we\n",
    "just created above to test the hypothesis that it takes city workers\n",
    "in NYC a longer time to resolve requests that are filed during the winter\n",
    "(December-February), presumably because of tougher weather conditions.\n",
    "\n",
    "First let's add a dummy variable equal to 1 if a request was filed\n",
    "during December-February."
   ],
   "metadata": {}
  },
  {
   "cell_type": "code",
   "execution_count": null,
   "source": [
    "nyc_all <- nyc_all %>% mutate(winter = ifelse(month(opened) %in% c(1, 2, 12), 1, 0))\n",
    "head(select(nyc_all, opened, winter)) #'winter' equals 1 if request opened in Dec-Feb"
   ],
   "outputs": [],
   "metadata": {}
  },
  {
   "cell_type": "markdown",
   "source": [
    "Now let's write a function that allows us to test our hypothesis in a\n",
    "few different ways. The function has four parameters:\n",
    "\n",
    "* `dta`: the data frame to use in the analyses (probably `nyc_all`).\n",
    "* `model`: a regression model, specified in a `formula()` call\n",
    "* `method`: the method by which to carry out the analysis (either \"OLS\" or \"logit\").\n",
    "\n",
    "The output of the will be a regression table (either OLS or logit). \n"
   ],
   "metadata": {}
  },
  {
   "cell_type": "code",
   "execution_count": null,
   "source": [
    "nyc_analysis <- function(dta, model, method) {\n",
    "\n",
    "    if (method == \"OLS\") {\n",
    "        m <- lm(model, data = dta)\n",
    "    } else if (method == \"logit\") {\n",
    "        m <- glm(model, data = dta, family = binomial)\n",
    "    }\n",
    "\n",
    "    return(summary(m))\n",
    "    \n",
    "}\n",
    "\n",
    "# Run OLS and logit models\n",
    "nyc_analysis(nyc_all, formula(resptime ~ winter), \"OLS\")\n",
    "nyc_analysis(nyc_all, formula(solvedin7 ~ winter), \"logit\")"
   ],
   "outputs": [],
   "metadata": {}
  },
  {
   "cell_type": "markdown",
   "source": [
    "It actually appears that, on average, it takes city workers less time\n",
    "--- about 5 days less --- to respond to service requests during the winter\n",
    "(OLS model), which is corroborated by the logit model, which shows a\n",
    "higher likelihood of requests being resolved within a week during the\n",
    "winter.\n",
    "\n",
    "Say we settle for the OLS model and want to graph the OLS coefficient\n",
    "for each year in the data (to look at over-time changes). We can then\n",
    "write a function that gets the OLS coefficient on `winter` for a desired\n",
    "year as well as lower and upper 95% confidence bounds on this\n",
    "estimate. \n"
   ],
   "metadata": {}
  },
  {
   "cell_type": "code",
   "execution_count": null,
   "source": [
    "nyc_ols <- function(dta, model, year) {\n",
    "\n",
    "    # Filter the data to the desired year\n",
    "    sub <- dta %>% filter(year(opened) == year)\n",
    "\n",
    "    # Run OLS model\n",
    "    m <- lm(model, data = sub)\n",
    "\n",
    "    # Get the coefficient estimate, standard error, and confidence bounds\n",
    "    coef <- coef(m)[2]\n",
    "    se <- sqrt(diag(vcov(m)))[2]\n",
    "    lb <- coef - se * 1.96\n",
    "    ub <- coef + se * 1.96\n",
    "    \n",
    "    # Create a data frame with this information (as well as the year)\n",
    "    # The data frame will have only one row\n",
    "    result <- data.frame(year, coef, se, lb, ub, row.names = NULL)\n",
    "\n",
    "    return(result) \n",
    "    \n",
    "}\n",
    "\n",
    "# Test that the function works for 2004\n",
    "nyc_ols(nyc_all, formula(resptime ~ winter), 2004)\n",
    "\n",
    "# Confirm using regular approach\n",
    "# Coefficient and SE should be the same as above\n",
    "summary(lm(resptime ~ winter, data = nyc_all, subset = year(opened) == 2004))"
   ],
   "outputs": [],
   "metadata": {
    "lines_to_next_cell": 2
   }
  },
  {
   "cell_type": "markdown",
   "source": [
    "Now that we can run this model for a given year, we can iterate over\n",
    "all the years in the dataset, again using `lapply()` (which creates a\n",
    "list of data frames). We then create one data frame from this list and\n",
    "graph the results.\n"
   ],
   "metadata": {}
  },
  {
   "cell_type": "code",
   "execution_count": null,
   "source": [
    "f <- formula(resptime ~ winter)\n",
    "nyc_results <- lapply(2004:2009, nyc_ols, dta = nyc_all, model = f)\n",
    "nyc_results <- do.call(rbind, nyc_results) #list --> data.frame\n",
    "nyc_results\n",
    "\n",
    "# Graph the results\n",
    "require(ggplot2)\n",
    "\n",
    "ggplot(nyc_results, aes(x = year, y = coef)) +\n",
    "    geom_point() +\n",
    "    geom_errorbar(aes(ymin = lb, ymax = ub), width = 0) +\n",
    "    geom_hline() +\n",
    "    theme_bw() +\n",
    "    ylab(\"response time during winter compared to summer (days)\") + \n",
    "    ggtitle(\"Response time during winter compared to summer (in days)\")"
   ],
   "outputs": [],
   "metadata": {}
  },
  {
   "cell_type": "markdown",
   "source": [
    "Note that negative values indicate how many fewer days, on average, it\n",
    "takes city workers to resolve requests during the winter as compared\n",
    "to the summer. If this analysis is correct, it seems like it takes the\n",
    "city less time to respond to service requests during the winter as\n",
    "compared to the summer (between 2 and 9 days less) for all years\n",
    "except 2004.\n",
    "\n",
    "We can also run the analyses with controls. Most importantly, maybe a\n",
    "different type of complaint is filed during the winter than during other\n",
    "periods of the year. We can adjust for such potential confounding by\n",
    "introducing complaint type as a covariate in the analysis:\n"
   ],
   "metadata": {}
  },
  {
   "cell_type": "code",
   "execution_count": null,
   "source": [
    "f <- formula(resptime ~ winter + factor(Complaint.Type))\n",
    "nyc_results <- lapply(2004:2009, nyc_ols, dta = nyc_all, model = f)\n",
    "nyc_results <- do.call(rbind, nyc_results) #list --> data.frame\n",
    "nyc_results\n",
    "\n",
    "# Graph the results\n",
    "require(ggplot2)\n",
    "\n",
    "ggplot(nyc_results, aes(x = year, y = coef)) +\n",
    "    geom_point() +\n",
    "    geom_errorbar(aes(ymin = lb, ymax = ub), width = 0) +\n",
    "    geom_hline() +\n",
    "    theme_bw() +\n",
    "    ylab(\"response time during winter compared to summer (days)\") +  \n",
    "    ggtitle(\"Response time, winter v. summer (controlling for complaint type)\")"
   ],
   "outputs": [],
   "metadata": {}
  },
  {
   "cell_type": "markdown",
   "source": [
    "Now it indeed seems like it takes *longer* to resolve service\n",
    "requests during the winter (at least between 2004 and 2006). "
   ],
   "metadata": {}
  },
  {
   "cell_type": "markdown",
   "source": [
    "To summarize, in the applications above, a function was created to\n",
    "allow for easy and flexible completion of a task. Not creating a\n",
    "function for these tasks would work, though it would also result in\n",
    "more verbose code (e.g., copying and pasting, changing only some\n",
    "aspects of the code).  Functions minimize potential mistakes that may\n",
    "result from such manual iteration of code. They are also useful for\n",
    "carrying out a range of analyses and graphing the results, as the last\n",
    "application makes clear. "
   ],
   "metadata": {}
  },
  {
   "cell_type": "markdown",
   "source": [
    "Exercises \n",
    "\n",
    "\n",
    "1. Write a function called `second_largest` that finds the second\n",
    "largest value in a vector of numeric values. That is, the input should\n",
    "be a numeric vector and the output should be the second largest value\n",
    "in the vector. You can assume that the input vector has at least two\n",
    "values. Test your function on the following two vectors: \n",
    "\n",
    "* `v1 <- 1:10`\n",
    "* `v2 <- c(15, 1000, 2, 3, 8)`\n",
    "\n",
    "2. Modify the `second_largest` function so that it accounts for two\n",
    "special cases: (1) when the user inputs a numeric vector with only\n",
    "one value, the function should return the message \"Invalid input: at\n",
    "least two values required\"; (2) when the user inputs a vector that is\n",
    "**not** numeric, the function should return the message \"Invalid input:\n",
    "only numeric vectors accepted\". Test your new function on the following\n",
    "vectors:\n",
    "\n",
    "* `v1 <- 1:10`\n",
    "* `v2 <- 2`\n",
    "* `v3 <- c(\"banana\", \"apple\", \"orange\")`\n",
    "* `v4 <- as.factor(1:10)`\n",
    "\n",
    "3. Using the `nyc_all` data frame created above (it should have 60,000\n",
    "observations and have observations from 2004 to 2009), write a\n",
    "function called `no_obs` that finds the number of observations for a\n",
    "given complaint type in a given year. The function should have three\n",
    "parameters: `dta` (the data frame of interest), `type` (the complaint\n",
    "type category as a string), and `year` (the year the request was\n",
    "opened).  The output of the function should be a data frame with one\n",
    "row with the name of the complaint type, the year, and a value with\n",
    "the number of observations. The function should be indifferent to\n",
    "whether the complaint type is in upper or lower case or capitalized\n",
    "(e.g., \"HEATING\", \"Heating\", and \"heating\" should be counted as one\n",
    "complaint type). You can assume the input data frame (`dta`) always\n",
    "has a variable called `Complaint.Type`. Test your function by ensuring\n",
    "that the results for the complaint types \"Sewer\", \"sewer\", and\n",
    "\"heating\" for various years look as follows: "
   ],
   "metadata": {}
  },
  {
   "cell_type": "code",
   "execution_count": null,
   "source": [
    "no_obs <- function(dta, type, year) {\n",
    "\n",
    "    type <- tolower(type)\n",
    "    dta$Complaint.Type <- tolower(dta$Complaint.Type)\n",
    "\n",
    "    sub <- dta %>% filter(Complaint.Type == type, year(opened) == year)\n",
    "\n",
    "    return(data.frame(complaint.type = type, year, n = nrow(sub)))\n",
    "\n",
    "}"
   ],
   "outputs": [],
   "metadata": {
    "tags": [
     "remove_input"
    ]
   }
  },
  {
   "cell_type": "markdown",
   "source": [
    "<div class=\"indent\">"
   ],
   "metadata": {
    "lines_to_next_cell": 0
   }
  },
  {
   "cell_type": "code",
   "execution_count": null,
   "source": [
    "no_obs(dta = nyc_all, type = \"Sewer\", year = 2004)\n",
    "no_obs(dta = nyc_all, type = \"sewer\", year = 2004)\n",
    "no_obs(dta = nyc_all, type = \"heating\", year = 2004)\n",
    "no_obs(dta = nyc_all, type = \"heating\", year = 2009)"
   ],
   "outputs": [],
   "metadata": {
    "lines_to_next_cell": 0
   }
  },
  {
   "cell_type": "markdown",
   "source": [
    "</div>\n",
    "\n",
    "\n"
   ],
   "metadata": {}
  }
 ],
 "metadata": {
  "jupytext": {
   "cell_metadata_filter": "tags,eval,-all",
   "main_language": "R",
   "notebook_metadata_filter": "-all"
  },
  "language_info": {
   "name": "R",
   "codemirror_mode": "r",
   "pygments_lexer": "r",
   "mimetype": "text/x-r-source",
   "file_extension": ".r",
   "version": "4.1.0"
  },
  "kernelspec": {
   "name": "ir",
   "display_name": "R",
   "language": "R"
  }
 },
 "nbformat": 4,
 "nbformat_minor": 5
}