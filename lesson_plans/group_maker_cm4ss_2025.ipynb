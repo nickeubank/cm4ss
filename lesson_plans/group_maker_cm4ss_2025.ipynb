{
 "cells": [
  {
   "cell_type": "code",
   "execution_count": 14,
   "metadata": {},
   "outputs": [],
   "source": [
    "students_original = [\n",
    "    \"Nathanael Baugus\",\n",
    "    \"Chloe Bosley\",\n",
    "    \"Ring Feng\",\n",
    "    \"Fernanda Gonzalez\",\n",
    "    # \"Connor Johnston\",\n",
    "    \"Kyshan Nichols-Smith\",\n",
    "    \"Sukhayl Niyazov\",\n",
    "    \"Barend Ruesink Bueno\",\n",
    "    \"Lily Sendroff\",\n",
    "    # \"Chenyu Zhang\",\n",
    "    \"Viktoria Zlomanova\",\n",
    "    \"Ava Gural\",\n",
    "    \"Elly Ben Simon\",\n",
    "    \"Qiyu Chen\",\n",
    "    \"Yujia Fu\",\n",
    "    \"Emma Goudy\",\n",
    "    \"Bowen Liu\",\n",
    "    # \"Mike Ortiz\",\n",
    "    \"Shaoxuanzi Sheng\",\n",
    "    \"June Seok Shin\",\n",
    "    \"CJ Walker\",\n",
    "    \"Andy Wang\",\n",
    "    \"Yidan Xia\",\n",
    "]"
   ]
  },
  {
   "cell_type": "code",
   "execution_count": 15,
   "metadata": {},
   "outputs": [
    {
     "data": {
      "text/plain": [
       "20"
      ]
     },
     "execution_count": 15,
     "metadata": {},
     "output_type": "execute_result"
    }
   ],
   "source": [
    "len(students_original)"
   ]
  },
  {
   "cell_type": "markdown",
   "metadata": {},
   "source": [
    "## Main Students"
   ]
  },
  {
   "cell_type": "code",
   "execution_count": 16,
   "metadata": {},
   "outputs": [],
   "source": [
    "import numpy.random as npr\n",
    "\n",
    "npr.seed(20250823)\n",
    "students = students_original.copy()\n",
    "npr.shuffle(students)\n",
    "\n",
    "group_size = 2\n",
    "\n",
    "groups = list()\n",
    "groups_to_make = len(students) // group_size\n",
    "extra_person = (len(students) % group_size) != 0\n",
    "for i in range(groups_to_make):\n",
    "    groups.append([students.pop() for i in range(group_size)])"
   ]
  },
  {
   "cell_type": "code",
   "execution_count": 17,
   "metadata": {},
   "outputs": [],
   "source": [
    "while len(students) > 0:\n",
    "    for g in groups:\n",
    "        g.append(students.pop())"
   ]
  },
  {
   "cell_type": "code",
   "execution_count": 4,
   "metadata": {},
   "outputs": [],
   "source": [
    "all_groups = groups\n",
    "all_groups.sort()"
   ]
  },
  {
   "cell_type": "code",
   "execution_count": 5,
   "metadata": {},
   "outputs": [],
   "source": [
    "animals = [\n",
    "    \"capybara\",\n",
    "    \"chameleon\",\n",
    "    \"dolphin\",\n",
    "    \"flamingo\",\n",
    "    \"fox\",\n",
    "    \"hedgehog\",\n",
    "    \"koala\",\n",
    "    \"lemur\",\n",
    "    \"panda\",\n",
    "    \"pangolin\",\n",
    "    \"peacock\",\n",
    "    \"racoon\",\n",
    "    \"sloth\",\n",
    "    \"tiger\",\n",
    "]\n",
    "animals.sort()"
   ]
  },
  {
   "cell_type": "code",
   "execution_count": 6,
   "metadata": {},
   "outputs": [
    {
     "name": "stdout",
     "output_type": "stream",
     "text": [
      "['Andy Wang']\n",
      "['Ava Gural', 'Shaoxuanzi Sheng']\n",
      "['Chloe Bosley', 'Fernanda Gonzalez']\n",
      "['Elly Ben Simon', 'June Seok Shin']\n",
      "['CJ Walker', 'Emma Goudy']\n",
      "['Kyshan Nichols-Smith', 'Qiyu Chen']\n",
      "['Lily Sendroff', 'Mike Ortiz']\n",
      "['Bowen Liu', 'Nathanael Baugus']\n",
      "['Barend Ruesink Bueno', 'Sukhayl Niyazov']\n",
      "['Viktoria Zlomanova', 'Yidan Xia']\n",
      "['Ring Feng', 'Yujia Fu']\n"
     ]
    }
   ],
   "source": [
    "for idx, d in enumerate(all_groups):\n",
    "    npr.shuffle(d)\n",
    "    print(f\"{sorted(d)}\")\n",
    "\n",
    "    # {animals[idx].upper()}:"
   ]
  },
  {
   "cell_type": "code",
   "execution_count": null,
   "metadata": {},
   "outputs": [],
   "source": []
  }
 ],
 "metadata": {
  "kernelspec": {
   "display_name": "base",
   "language": "python",
   "name": "python3"
  },
  "language_info": {
   "codemirror_mode": {
    "name": "ipython",
    "version": 3
   },
   "file_extension": ".py",
   "mimetype": "text/x-python",
   "name": "python",
   "nbconvert_exporter": "python",
   "pygments_lexer": "ipython3",
   "version": "3.12.8"
  }
 },
 "nbformat": 4,
 "nbformat_minor": 4
}
