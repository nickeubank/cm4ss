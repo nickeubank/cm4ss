{
 "cells": [
  {
   "cell_type": "markdown",
   "metadata": {},
   "source": [
    "# Introduction\n",
    "\n",
    "In this first in a number of tutorials, we'll cover the very basics of R. If you've programmed before you can skip much of this. But regardless of your background, we hope you'll find this and subsequent tutorials useful for learning R's many tools for graphing, statistical analysis, and data collection and management --- or what we collectively might call \"data science.\" \n"
   ]
  },
  {
   "cell_type": "markdown",
   "metadata": {},
   "source": [
    "## Installing R\n",
    "\n",
    "Everything we do in this course will be doing using the *free!* open-source programming language R. \n",
    "\n",
    "But the way we'll mostly *use* R is using a program called [RStudio](https://www.rstudio.com/). RStudio is a \"helper\" program that makes it easier to work with R (it is what is referred to as an \"editor\" or \"integrated development environment\" (IDE)). When you're working in RStudio, all the code you run is being run by R itself, but RStudio provides tools to make it easier to see what R is doing, to organize the code your write to run in R, to look at plots R generates, etc. In other words, you don't need RStudio to use R (some people use other editors, like VS Code), but you definitely need R to run RStudio, any code you write in RStudio will work anywhere R is available. \n",
    "\n",
    "For an installation tutorial and introduction to R functionality, please [go watch this video](https://www.youtube.com/watch?v=ulIv0NiVTs4)."
   ]
  },
  {
   "cell_type": "markdown",
   "metadata": {},
   "source": [
    "## Code Examples On This Site\n",
    "\n",
    "On this website, you'll find that code examples don't look quite like they do when you're typing in R yourself. Instead, you'll see code appear in grey blocks with a number on the left side. Below these blocks, you will see the output R has returned after running that code. For example, here's that same `\"Hello!\"` line in the style used on this site:"
   ]
  },
  {
   "cell_type": "code",
   "execution_count": 1,
   "metadata": {},
   "outputs": [
    {
     "data": {
      "text/html": [
       "'Hello!'"
      ],
      "text/latex": [
       "'Hello!'"
      ],
      "text/markdown": [
       "'Hello!'"
      ],
      "text/plain": [
       "[1] \"Hello!\""
      ]
     },
     "metadata": {},
     "output_type": "display_data"
    }
   ],
   "source": [
    "\"Hello!\""
   ]
  },
  {
   "cell_type": "markdown",
   "metadata": {},
   "source": [
    "In addition, some code will include \"comments\". Comments are notes placed in someone's code to explain what's going on to other programmers. Comments always start with a `#` in R, which tells R that the text that follows is not something it should try and execute. Comments will always appear in italics and in a different color. "
   ]
  },
  {
   "cell_type": "code",
   "execution_count": 2,
   "metadata": {},
   "outputs": [
    {
     "data": {
      "text/html": [
       "5"
      ],
      "text/latex": [
       "5"
      ],
      "text/markdown": [
       "5"
      ],
      "text/plain": [
       "[1] 5"
      ]
     },
     "metadata": {},
     "output_type": "display_data"
    }
   ],
   "source": [
    "# This is a comment. In the next line, I'll add 2 and 3.\n",
    "2 + 3"
   ]
  },
  {
   "cell_type": "markdown",
   "metadata": {},
   "source": [
    "## Basic Math in R\n",
    "\n",
    "Now that we've learned how to pass commands to R, we can start asking R to do things for us. For example, R can do all the normal math operations you are familiar with:"
   ]
  },
  {
   "cell_type": "code",
   "execution_count": 3,
   "metadata": {},
   "outputs": [
    {
     "data": {
      "text/html": [
       "4"
      ],
      "text/latex": [
       "4"
      ],
      "text/markdown": [
       "4"
      ],
      "text/plain": [
       "[1] 4"
      ]
     },
     "metadata": {},
     "output_type": "display_data"
    }
   ],
   "source": [
    "# Addition\n",
    "2 + 2"
   ]
  },
  {
   "cell_type": "code",
   "execution_count": 4,
   "metadata": {},
   "outputs": [
    {
     "data": {
      "text/html": [
       "6"
      ],
      "text/latex": [
       "6"
      ],
      "text/markdown": [
       "6"
      ],
      "text/plain": [
       "[1] 6"
      ]
     },
     "metadata": {},
     "output_type": "display_data"
    }
   ],
   "source": [
    "# Multiplication\n",
    "2 * 3"
   ]
  },
  {
   "cell_type": "code",
   "execution_count": 5,
   "metadata": {},
   "outputs": [
    {
     "data": {
      "text/html": [
       "2"
      ],
      "text/latex": [
       "2"
      ],
      "text/markdown": [
       "2"
      ],
      "text/plain": [
       "[1] 2"
      ]
     },
     "metadata": {},
     "output_type": "display_data"
    }
   ],
   "source": [
    "# Division\n",
    "4 / 2"
   ]
  },
  {
   "cell_type": "code",
   "execution_count": 6,
   "metadata": {},
   "outputs": [
    {
     "data": {
      "text/html": [
       "8"
      ],
      "text/latex": [
       "8"
      ],
      "text/markdown": [
       "8"
      ],
      "text/plain": [
       "[1] 8"
      ]
     },
     "metadata": {},
     "output_type": "display_data"
    }
   ],
   "source": [
    "# And even exponentiation (e.g. 2 raised to the third power)\n",
    "2 ^ 3"
   ]
  },
  {
   "cell_type": "code",
   "execution_count": 7,
   "metadata": {},
   "outputs": [
    {
     "data": {
      "text/html": [
       "TRUE"
      ],
      "text/latex": [
       "TRUE"
      ],
      "text/markdown": [
       "TRUE"
      ],
      "text/plain": [
       "[1] TRUE"
      ]
     },
     "metadata": {},
     "output_type": "display_data"
    }
   ],
   "source": [
    "# R can also do logical comparisons\n",
    "5 < 7"
   ]
  },
  {
   "cell_type": "code",
   "execution_count": 8,
   "metadata": {},
   "outputs": [
    {
     "data": {
      "text/html": [
       "FALSE"
      ],
      "text/latex": [
       "FALSE"
      ],
      "text/markdown": [
       "FALSE"
      ],
      "text/plain": [
       "[1] FALSE"
      ]
     },
     "metadata": {},
     "output_type": "display_data"
    }
   ],
   "source": [
    "3 >= 5"
   ]
  },
  {
   "cell_type": "markdown",
   "metadata": {},
   "source": [
    "## Variables\n",
    "\n",
    "Congratulations! You now know how to do math in R!\n",
    "\n",
    "If we want to do more than use R as a calculator, though, we need to be able to not only do math problems, but also store the results of our calculations so we can reuse them in the future, or combine the results of lots of different calculations. In the examples above, R did the math we asked it to do, and printed out the results, but it didn't keep a copy of those results anywhere.\n",
    "\n",
    "In order to store the *value* of our calculations, we need to *assign them to a variable*. OK, but what does that actually mean?\n",
    "\n",
    "If you’d done any programming before, you probably have an implicit notion of a variable and assignment, but in this course we’d like to provide you with an explicit metaphor we’ll keep coming back to: **a variable is a box that holds a value**. So when we assign the value of 6 to the variable `a`, we’re really saying \"put `6` in the box `a`.\"\n",
    "\n",
    "To illustrate, let's walk through a few lines of code and illustrate what's going in pictures on the right. \n",
    "\n",
    "Here, in the first line, we're assigning the value of `6` to `a`, so as we see R is putting a `6` in the box labelled `a`. \n"
   ]
  },
  {
   "cell_type": "markdown",
   "metadata": {},
   "source": [
    "![reading_assignment_1](images/reading_assignment_1.png)\n",
    "\n",
    "Then R does the same thing with `b`, putting the assigned value of `7` in a box named `b`. \n",
    "\n",
    "![reading_assignment_2](images/reading_assignment_2.png)\n",
    "\n",
    "Now things get a little more interesting. Instead of a single value being assigned to a variable, we now have an expression. The way R handles this is by first evaluating the expression on the right side of the assignment operator (`<-`), *then* assigning it to the variable. \n",
    "\n",
    "Note there's something a little weird about this: even though most of us are used to reading from left-to-right, does the opposite, evaluating the expression on the right *first*, *then* assigning it to the variable on the left. \n",
    "\n",
    "![reading_assignment_3](images/reading_assignment_3.png)\n",
    "\n",
    "Finally, we see an example of re-assignment -- here a new value is assigned to `a` (`2`), and that value *overwrites* the old value that was in the box `a`. The old value (`6`) has been lost by this re-assignment, it's job done. \n",
    "\n",
    "![reading_assignment_4](images/reading_assignment_4.png)"
   ]
  },
  {
   "cell_type": "markdown",
   "metadata": {},
   "source": [
    "And that's how you can read code by thinking of variables as boxes that store data!\n",
    "\n",
    "Now, if you've done any programming before, this idea of variables as boxes may seem obvious or like an unnecessary metaphor for something you always understood implicitly. But as we will see later in this course when we start working with more complicated structures -- like function -- we will see that this metaphor is extremely powerful.\n",
    "\n",
    "Indeed, this idea of variables as boxes is so fundamental to programming that it's even embodied in RStudio. If you look at the top right corner of RStudio, you'll find a tab called \"Environment\". That tab displays all the variables defined in the current session of R. And if you run the code we just worked through, you'll see that it displays the values of `a`, `b`, and `c` basically the same way we wrote them above: as values in boxes with the variable name next to them as a label! (Don't worry if you don't have that `p` variable in your RStudio -- that's just a variable my R session loads automatically on startup.):\n",
    "\n",
    "![rstudio_variables](images/rstudio_variables.png)"
   ]
  },
  {
   "cell_type": "markdown",
   "metadata": {},
   "source": [
    "<div class=\"alert alert-info\">\n",
    "    \n",
    "<b>NOTE:</b> There are actually <b>two</b> ways to assign a value to a variable name in R.\n",
    "\n",
    "\n",
    "The first, which we will use in these tutorials, is to use a less than sign and a dash to create an arrow (`<-`): \n",
    "\n",
    "`x <- 42`\n",
    "\n",
    "and the second is to use a single equal sign (`=`):\n",
    "\n",
    "`x = 42` \n",
    "\n",
    "When R was first created it only supported the `<-` operator, but most other languages use `=` is the assignment operator, so eventually R decided to support both, so you can use them interchangeably. \n",
    "\n",
    "However, be aware that most style guides for R still suggested that the `<-` operator is the preferred choice (though I will admit that I often just use `=` in my own code... ;)).\n",
    "\n",
    "</div>"
   ]
  },
  {
   "cell_type": "markdown",
   "metadata": {},
   "source": [
    "## Checking Variable Values\n",
    "\n",
    "One way to see the value of variables is to just look at \"Environment\" tab in RStudio, as shown above. But while this is a nice feature of RStudio -- and sufficient in many cases -- it's good to know how to get the values of variables directly in the R console. \n",
    "\n",
    "There are two ways to see the value of a variable in R:\n",
    "\n",
    "1. Type in the variable name (or any other expression) without assigning it to a variable. \n",
    "2. Use the `print()` statement. \n",
    "\n",
    "The first is what we were actually doing at the top of this document -- if you run a line of code and don't include an assignment to a variable, then R will evaluate the given expression and print out the value in the console. This is true whether the expression is just the name of a variable (`a`, in which case R just prints the value that's been assigned to `a`), or something more complicated (`(a * 123) / 42`): if you don't assign it, the evaluated expression will just get printed out. e.g.:"
   ]
  },
  {
   "cell_type": "code",
   "execution_count": 9,
   "metadata": {},
   "outputs": [
    {
     "data": {
      "text/html": [
       "42"
      ],
      "text/latex": [
       "42"
      ],
      "text/markdown": [
       "42"
      ],
      "text/plain": [
       "[1] 42"
      ]
     },
     "metadata": {},
     "output_type": "display_data"
    }
   ],
   "source": [
    "z <- 42\n",
    "z"
   ]
  },
  {
   "cell_type": "markdown",
   "metadata": {},
   "source": [
    "The second option is to use the `print()` function in R. Basically, any expression you put between the two parenthesis of the print function will get printed out. For simple scripts like what we're writing now, there's rarely a reason to use `print()` instead of typing out the expression you wanted evaluated and printed, but it'll become really useful later when we write some fancier code!"
   ]
  },
  {
   "cell_type": "code",
   "execution_count": 10,
   "metadata": {},
   "outputs": [
    {
     "name": "stdout",
     "output_type": "stream",
     "text": [
      "[1] 42\n"
     ]
    }
   ],
   "source": [
    "print(z)"
   ]
  },
  {
   "cell_type": "markdown",
   "metadata": {},
   "source": [
    "## Order of Evaluation\n",
    "\n",
    "As noted above, the way that R evaluates a line of code is by (1) evaluating the expression on the right-hand side of the assignment operator, *then* inserting that value into the box associated with the variable on the left-hand side of the assignment operator. \n",
    "\n",
    "Given that, can you predict what the value of `a` will be after the following code is run?\n"
   ]
  },
  {
   "cell_type": "code",
   "execution_count": 11,
   "metadata": {},
   "outputs": [],
   "source": [
    "a <- 4\n",
    "a <- a + 1"
   ]
  },
  {
   "cell_type": "markdown",
   "metadata": {},
   "source": [
    "If you said `5`, you'd be right! \n",
    "\n",
    "When the expression on the right-hand side is more complex, R will evaluate it using the same order of operations you learned in high school math ([PEMDAS](https://www.mathsisfun.com/operation-order-pemdas.html)!). So R will parse the following code: "
   ]
  },
  {
   "cell_type": "code",
   "execution_count": 12,
   "metadata": {},
   "outputs": [],
   "source": [
    "z <- 5 + 2 * (20 - 2)"
   ]
  },
  {
   "cell_type": "markdown",
   "metadata": {},
   "source": [
    "By evaluating things in parentheses, then any multiplication/division operations, and then any addition, subtraction operations:\n",
    "```R\n",
    "  5 + 2 * (20 - 2)\n",
    "= 5 + 2 * 18 # Parenthesis evaluated\n",
    "= 5 + 36     # Multiplication evaluated\n",
    "= 41         # Addition evaluated. \n",
    "```\n",
    "\n",
    "**NOT** left-to-right: \n",
    "\n",
    "```R\n",
    "  5 + 2 * (20 - 2)\n",
    "= 7 * (20 - 2)\n",
    "= 7 * 18\n",
    "= 126\n",
    "```\n"
   ]
  },
  {
   "cell_type": "markdown",
   "metadata": {},
   "source": [
    "And that's it! You now know all the basics of how assignment works in R. Next up, we'll talk about types of data in R.\n",
    "\n",
    "## Not enough social science?\n",
    "\n",
    "**Annoyed that this all feels abstract and completely unrelated to social science?** Don't worry, I promise we'll get to good, applied social science examples very soon! \n",
    "\n",
    "Part of the goal of this course is to ensure that you have a solid foundational understanding of R and programming that will ensure you know the *principles* of R that will generalize even as you move to new tools in the future. No discipline is changing faster than data science and computational social science, but there are certain foundational ideas that have persisted in how tools are organized for decades, and so having a firm foundation in those fundamental concepts will ensure your ability to not just learn new packages that exist today, but also the tools that will appear in the coming years!"
   ]
  },
  {
   "cell_type": "markdown",
   "metadata": {},
   "source": [
    "## Exercises"
   ]
  }
 ],
 "metadata": {
  "kernelspec": {
   "display_name": "R",
   "language": "R",
   "name": "ir"
  },
  "language_info": {
   "codemirror_mode": "r",
   "file_extension": ".r",
   "mimetype": "text/x-r-source",
   "name": "R",
   "pygments_lexer": "r",
   "version": "4.1.0"
  }
 },
 "nbformat": 4,
 "nbformat_minor": 2
}
