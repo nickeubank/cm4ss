{
 "cells": [
  {
   "cell_type": "markdown",
   "metadata": {},
   "source": [
    "## Exercises\n",
    "\n",
    "\n",
    "1. Read the `world-small.csv` data into R and store it in an object\n",
    "called `world`. (Set your working directory using code first.) \n",
    "\n",
    "2. (Conceptual) What is the unit of analysis in the dataset? What's the name\n",
    "of the dataset's id variable?\n",
    "\n",
    "3. How many observations does `world` have? How many variables? Use an R\n",
    "command to find out.\n",
    "\n",
    "4. Use brackets and a logical statement to inspect all the values for\n",
    "   Nigeria and United States. That is, your code should return two\n",
    "   entire rows of the dataset. \n",
    "\n",
    "5. Use R to return China's Polity IV score. As in question 4, use a logical\n",
    "statement and brackets, but don't return the entire row. Rather, return a single\n",
    "value with the Polity IV score.\n",
    "\n",
    "6. What is the lowest GDP per capita in the dataset? (Use R to return only the value.)\n",
    "\n",
    "7. What country has the lowest GDP per capita? (Your code should\n",
    "return the country name and be general enough so that if the observations\n",
    "in the dataset --- or their order --- change, your code should still return the\n",
    "country with the lowest GDP per capita.)\n",
    "\n",
    "\n",
    "\n",
    "\n",
    "\n"
   ]
  },
  {
   "cell_type": "markdown",
   "metadata": {},
   "source": [
    "## Exercises \n",
    "\n",
    "\n",
    "1. Read the `world-small.csv` dataset into R and store it in an object called `world`.\n",
    "\n",
    "2. Subset `world` to European countries. Save this subset as a new data frame called `europe`.\n",
    "\n",
    "3. Add two variables to `europe`: \n",
    "    a. A variable that recodes `polityIV` from 0-20 to -10-10. \n",
    "    b. A variable that categorizes a country as \"rich\" or \"poor\" based on some \n",
    "cutoff of `gdppcap08` you think is reasonable. \n",
    "\n",
    "4. Drop the `region` variable in `europe` (keep the rest). \n",
    "\n",
    "5. Sort `europe` based on Polity IV. \n",
    "\n",
    "6. Repeat Exercises 2-5 using chaining. \n",
    "\n",
    "7. What was the world's mean GDP per capita in 2008? Polity IV score?\n",
    "\n",
    "8. What was Africa's mean GDP per capita and Polity IV score?\n",
    "\n",
    "9. What was the poorest country in the world in 2008? Richest? \n",
    "\n",
    "10. How many countries in Europe are \"rich\" according to your coding? \n",
    "How many are poor? What percentage have Polity IV scores of at least 18?\n",
    "\n"
   ]
  }
 ],
 "metadata": {
  "kernelspec": {
   "display_name": "R",
   "language": "R",
   "name": "ir"
  },
  "language_info": {
   "codemirror_mode": "r",
   "file_extension": ".r",
   "mimetype": "text/x-r-source",
   "name": "R",
   "pygments_lexer": "r",
   "version": "4.1.0"
  }
 },
 "nbformat": 4,
 "nbformat_minor": 2
}
