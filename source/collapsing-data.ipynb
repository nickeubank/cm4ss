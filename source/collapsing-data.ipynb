{
 "cells": [
  {
   "cell_type": "markdown",
   "source": [
    "# Collapsing Data \n",
    "Simon Ejdemyr and Nick Eubank\n",
    "July, 2021\n",
    "\n",
    "This tutorial explains how to collapse data in R. Collapsing means using one or several *grouping variables* to find summary statistics --- mean, median, etc. --- for different categories in your data. For example, if you have yearly income data for the 50 U.S. states over a 10-year period (i.e., you have 500 data points), you may want to know what the mean income was in each state (collapsing the data to 50 data points) or in each year (10 data points). Or you may want to collapse the data by year *and* U.S. region, say, South v. non-South (20 data points). Like the [tutorial on modifying data](modifying-data.ipynb) this tutorial draws on a set of intuitive and elegant functions from the `dplyr` package.\n"
   ],
   "metadata": {}
  },
  {
   "cell_type": "markdown",
   "source": [
    "\n",
    "Before we begin, let's load the `dplyr` package. We'll make particular\n",
    "use of two functions from this package: `group_by` and\n",
    "`summarize`. We'll also make use of chaining, which you can read more\n",
    "about in the tutorial on\n",
    "[modifying data](../modifying-data/#chaining)."
   ],
   "metadata": {}
  },
  {
   "cell_type": "code",
   "execution_count": null,
   "source": [
    "require(dplyr)"
   ],
   "outputs": [],
   "metadata": {}
  },
  {
   "cell_type": "markdown",
   "source": [
    "One grouping variable\n",
    "==============\n",
    "\n",
    "To illustrate how collapsing works, let's create a data frame with\n",
    "three variables: `student` (an id variable that uniquely\n",
    "identifies each row); `school` (a grouping variable indicating the\n",
    "student's school); and `sat_score` (the student's SAT score). "
   ],
   "metadata": {}
  },
  {
   "cell_type": "code",
   "execution_count": null,
   "source": [
    "grades <- data.frame(\n",
    "    student = c(\"al\", \"bo\", \"cindy\", \"dan\", \"ella\", \"frank\", \"gina\", \"henry\"), \n",
    "    school = c(rep(\"stanford\", 4), rep(\"berkley\", 4)),\n",
    "    sat_score = c(750, 730, 690, 800, 780, 720, 730, 700)\n",
    "    )"
   ],
   "outputs": [],
   "metadata": {}
  },
  {
   "cell_type": "markdown",
   "source": [
    "Which school --- Stanford or Berkley --- attracts students with\n",
    "a higher SAT score? Based on my (in reality-not-so-random) random\n",
    "assignment of scores, it appears to be Stanford: "
   ],
   "metadata": {}
  },
  {
   "cell_type": "code",
   "execution_count": null,
   "source": [
    "grades %>%\n",
    "    group_by(school) %>%\n",
    "    summarize(mean(sat_score))"
   ],
   "outputs": [],
   "metadata": {}
  },
  {
   "cell_type": "markdown",
   "source": [
    "In words, the mean SAT score for Berkley students is 732.5, and the mean\n",
    "for Stanford students is 742.5. (`dplyr` also outputs some information about\n",
    "the new data frame for us, such as its dimensions and the class of each\n",
    "of its variables.)\n",
    "\n",
    "To be clear, here's how `group_by()` and `summarize()` work. First,\n",
    "`group_by()` specifies the grouping variable, i.e., the variable that\n",
    "classifies observations into different clusters. In this case, we're\n",
    "classifying students by the school they attend. Second, `summarize()`\n",
    "specifies what to do with the data points within each cluster.  In\n",
    "this case, we're finding the mean SAT score in each cluster.\n",
    "\n",
    "It's often useful to assign a name to the collapsed variable:"
   ],
   "metadata": {}
  },
  {
   "cell_type": "code",
   "execution_count": null,
   "source": [
    "grades %>%\n",
    "    group_by(school) %>%\n",
    "    summarize(mean_sat = mean(sat_score))"
   ],
   "outputs": [],
   "metadata": {}
  },
  {
   "cell_type": "markdown",
   "source": [
    "Also note that you'd often want to save the resulting collapsed\n",
    "data frame to R's memory. Here's how to do this, creating a new\n",
    "object called `grades_clps` with the collapsed data: \n"
   ],
   "metadata": {}
  },
  {
   "cell_type": "code",
   "execution_count": null,
   "source": [
    "grades_clps <- grades %>%\n",
    "    group_by(school) %>%\n",
    "    summarize(mean_sat = mean(sat_score))\n",
    "grades_clps"
   ],
   "outputs": [],
   "metadata": {
    "lines_to_next_cell": 2
   }
  },
  {
   "cell_type": "markdown",
   "source": [
    "Several grouping variables\n",
    "============================\n",
    "\n",
    "In the previous example we collapsed the data using only one grouping\n",
    "variable. Collapsing can also be done using several grouping\n",
    "variables. Let's modify the `grades` data frame to illustrate:"
   ],
   "metadata": {}
  },
  {
   "cell_type": "code",
   "execution_count": null,
   "source": [
    "grades <- data.frame(\n",
    "    student = c(\"al\", \"bo\", \"cindy\", \"dan\", \"ella\", \"frank\", \"gina\", \"henry\"), \n",
    "    school = c(rep(\"stanford\", 4), rep(\"berkley\", 4)),\n",
    "    classof = rep(c(2017, 2017, 2018, 2018), 2), \n",
    "    sat_score = c(750, 730, 690, 800, 780, 720, 730, 700)\n",
    "    )\n",
    "grades"
   ],
   "outputs": [],
   "metadata": {}
  },
  {
   "cell_type": "markdown",
   "source": [
    "We now have two grouping variables: `school` and `classof`. The latter specifies\n",
    "the expected graduation year for each student.\n",
    "\n",
    "Collapsing by these two grouping variables follows the same logic as above. Just\n",
    "specify the variables to collapse by inside `group_by()`. "
   ],
   "metadata": {}
  },
  {
   "cell_type": "code",
   "execution_count": null,
   "source": [
    "grades %>%\n",
    "    group_by(school, classof) %>%\n",
    "    summarize(mean_sat = mean(sat_score))"
   ],
   "outputs": [],
   "metadata": {
    "lines_to_next_cell": 2
   }
  },
  {
   "cell_type": "markdown",
   "source": [
    "Additional manipulation\n",
    "===========================\n",
    "\n",
    "One nice thing about using `dplyr` functions for collapsing data is\n",
    "that you can combine them with other data manipulation functions, many\n",
    "of which are covered in a separate tutorial on\n",
    "[modifying data](../modifying-data). The result is elegant code that\n",
    "is easy to debug and relatively quick to execute. Here's an example in\n",
    "which I'm filtering the `grades` data frame to class of 2017 and then\n",
    "collapsing:"
   ],
   "metadata": {}
  },
  {
   "cell_type": "code",
   "execution_count": null,
   "source": [
    "grades %>%\n",
    "    filter(classof == 2017) %>%\n",
    "    group_by(school) %>%\n",
    "    summarize(mean_sat = mean(sat_score))"
   ],
   "outputs": [],
   "metadata": {}
  },
  {
   "cell_type": "markdown",
   "source": [
    "Here's an example that adds a variable after the collapse (rescaling\n",
    "the mean SAT scores to be between 0 and 100, assuming 800 is the maximum\n",
    "possible score):"
   ],
   "metadata": {}
  },
  {
   "cell_type": "code",
   "execution_count": null,
   "source": [
    "grades %>%\n",
    "    group_by(school) %>%\n",
    "    summarize(mean_sat = mean(sat_score)) %>%\n",
    "    mutate(mean_sat_strd = (mean_sat / 800) * 100)"
   ],
   "outputs": [],
   "metadata": {
    "lines_to_next_cell": 2
   }
  },
  {
   "cell_type": "markdown",
   "source": [
    "Different functions\n",
    "====================\n",
    "\n",
    "In all the examples above I've used `mean()` inside `summarize()`. Of\n",
    "course you're by no means limited to finding the mean. You can use all of\n",
    "R's built-in functions or write your own function. Here are examples that\n",
    "make use of other common functions:"
   ],
   "metadata": {}
  },
  {
   "cell_type": "code",
   "execution_count": null,
   "source": [
    "grades %>%\n",
    "    group_by(school) %>%\n",
    "    summarize(median_sat = median(sat_score),\n",
    "              sd_sat = sd(sat_score), \n",
    "              min_sat = min(sat_score),\n",
    "              max_sat = max(sat_score),\n",
    "              dif_maxmin = max_sat - min_sat)"
   ],
   "outputs": [],
   "metadata": {}
  },
  {
   "cell_type": "markdown",
   "source": [
    "Here's an example of using your own function:"
   ],
   "metadata": {}
  },
  {
   "cell_type": "code",
   "execution_count": null,
   "source": [
    "maxmindif <- function(x) max(x) - min(x)\n",
    "\n",
    "grades %>%\n",
    "    group_by(school) %>%\n",
    "    summarize(dif_maxmin = maxmindif(sat_score))"
   ],
   "outputs": [],
   "metadata": {}
  },
  {
   "cell_type": "markdown",
   "source": [
    "Lastly, `dplyr` provides a few special functions that can be used\n",
    "within `summarize()`. One very useful special function is `n()`, which\n",
    "provides the number of observations in each cluster:"
   ],
   "metadata": {}
  },
  {
   "cell_type": "code",
   "execution_count": null,
   "source": [
    "grades %>%\n",
    "    group_by(school) %>%\n",
    "    summarize(no_obs = n())"
   ],
   "outputs": [],
   "metadata": {
    "lines_to_next_cell": 2
   }
  },
  {
   "cell_type": "markdown",
   "source": [
    "Exercises\n",
    "=============\n",
    "\n",
    "1. Read the `world-small.csv` dataset (available\n",
    "[here](data/world-small.csv)) into R. Get to know the structure of\n",
    "this dataset using functions like `dim()`, `head()`, and `summary()`.\n",
    "\n",
    "2. Find the mean and median GDP per capita and Polity IV score, by\n",
    "region (that is, for each region in the dataset). Also find the number\n",
    "of countries by region.\n",
    "\n",
    "3. Find the mean and median GDP per capita, by region and whether a country\n",
    "is a \"democracy\" or not. For the purpose of this exercise, a country is a\n",
    "\"democracy\" if it has a Polity IV score of 15 or higher.\n",
    "\n",
    "\n",
    "\n",
    "\n",
    "\n",
    "\n",
    "\n",
    "\n",
    "\n",
    "\n",
    "\n",
    "\n",
    "\n",
    "\n"
   ],
   "metadata": {}
  }
 ],
 "metadata": {
  "jupytext": {
   "cell_metadata_filter": "-all",
   "main_language": "R",
   "notebook_metadata_filter": "-all"
  },
  "language_info": {
   "name": "R"
  },
  "kernelspec": {
   "name": "ir",
   "display_name": "R",
   "language": "R"
  }
 },
 "nbformat": 4,
 "nbformat_minor": 5
}