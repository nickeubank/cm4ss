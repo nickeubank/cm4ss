{
 "cells": [
  {
   "cell_type": "markdown",
   "source": [
    "# Introduction\n",
    "\n",
    "In this first in a number of tutorials, we'll cover the very basics of R. If you've programmed before you can skip much of this. But regardless of your background, we hope you'll find this and subsequent tutorials useful for learning R's many tools for graphing, statistical analysis, and data collection and management --- or what we collectively might call \"data science.\" \n"
   ],
   "metadata": {}
  },
  {
   "cell_type": "markdown",
   "source": [
    "## Installing R\n",
    "\n",
    "First, download R *free* [here](https://cloud.r-project.org/)!\n",
    "\n",
    "After you've downloaded R itself, you will probably want to also download a program called [RStudio](https://www.rstudio.com/) (installation instructions [here](https://www.rstudio.com/products/rstudio/download/); note that you need to already have R to use RStudio). RStudio is a little \"helper\" program that makes it a little easier to write code for R (it is what is referred to as an \"integrated development environment\" (IDE)). There are also a lot of other IDEs, but RStudio is the easiest and one of the most popular. \n",
    "\n",
    "For an installation tutorial and introduction to R functionality, please [go watch this video](https://www.youtube.com/watch?v=ulIv0NiVTs4)."
   ],
   "metadata": {}
  },
  {
   "cell_type": "markdown",
   "source": [
    "## Interacting with R\n",
    "\n",
    "R has a text-based interface program, which means you can't ask it to do things by clicking buttons or using drop-down menus. Instead, it has a command prompt where you type messages to R. The place you can type has a little right arrow symbol (`>`). Just type your message after that right arrow and hit return. In screenshot below, for example, I'm about to ask R to print the phrase \"Hello!\" (though I haven't hit return, so it hasn't done anything yet):\n",
    "\n",
    "![R_Prompt](images/R_Prompt.png)\n",
    "\n",
    "After you type a command to R, hit return and R will try and do what you've asked of it. If I hit return after `print(\"Hello!\")`, for example, R will print out the phrase \"Hello!\":\n",
    "\n",
    "![R_Prompt_Executed](images/R_Prompt_executed.png)\n",
    "\n",
    "You will notice that after it printed out \"Hello!\", a new right arrow appeared. That's R's way of saying it's done doing the last thing you asked it to do. "
   ],
   "metadata": {}
  },
  {
   "cell_type": "markdown",
   "source": [
    "### Code Examples On This Site\n",
    "\n",
    "On this website, you'll find that code examples don't look quite like they do when you're typing in R yourself. Instead, you'll see code appear in grey blocks with a number on the left side. Below these blocks, you will see the output R has returned after running that code. For example, here's that same `\"Hello!\"` line in the style used on this site:"
   ],
   "metadata": {}
  },
  {
   "cell_type": "code",
   "execution_count": 1,
   "source": [
    "\"Hello!\""
   ],
   "outputs": [
    {
     "output_type": "display_data",
     "data": {
      "text/plain": [
       "[1] \"Hello!\""
      ],
      "text/markdown": [
       "'Hello!'"
      ],
      "text/latex": [
       "'Hello!'"
      ],
      "text/html": [
       "'Hello!'"
      ]
     },
     "metadata": {}
    }
   ],
   "metadata": {}
  },
  {
   "cell_type": "markdown",
   "source": [
    "In addition, some code will include \"comments\". Comments are notes placed in someone's code to explain what's going on to other programmers. Comments always start with a `#` in R, which tells R that the text that follows is not something it should try and execute. Comments will always appear in italics and in yellow. "
   ],
   "metadata": {}
  },
  {
   "cell_type": "code",
   "execution_count": 2,
   "source": [
    "# This is a comment. In the next line, I'll add 2 and 3.\n",
    "2 + 3"
   ],
   "outputs": [
    {
     "output_type": "display_data",
     "data": {
      "text/plain": [
       "[1] 5"
      ],
      "text/markdown": [
       "5"
      ],
      "text/latex": [
       "5"
      ],
      "text/html": [
       "5"
      ]
     },
     "metadata": {}
    }
   ],
   "metadata": {}
  },
  {
   "cell_type": "markdown",
   "source": [
    "## Basic Math in R\n",
    "\n",
    "Now that we've learned how to pass commands to R, we can start asking R to do things for us. For example, R can do all the normal math operations you are familiar with:"
   ],
   "metadata": {}
  },
  {
   "cell_type": "code",
   "execution_count": 3,
   "source": [
    "# Addition\n",
    "2 + 2"
   ],
   "outputs": [
    {
     "output_type": "display_data",
     "data": {
      "text/plain": [
       "[1] 4"
      ],
      "text/markdown": [
       "4"
      ],
      "text/latex": [
       "4"
      ],
      "text/html": [
       "4"
      ]
     },
     "metadata": {}
    }
   ],
   "metadata": {}
  },
  {
   "cell_type": "code",
   "execution_count": 4,
   "source": [
    "# Multiplication\n",
    "2 * 3"
   ],
   "outputs": [
    {
     "output_type": "display_data",
     "data": {
      "text/plain": [
       "[1] 6"
      ],
      "text/markdown": [
       "6"
      ],
      "text/latex": [
       "6"
      ],
      "text/html": [
       "6"
      ]
     },
     "metadata": {}
    }
   ],
   "metadata": {}
  },
  {
   "cell_type": "code",
   "execution_count": 5,
   "source": [
    "# Division\n",
    "4 / 2"
   ],
   "outputs": [
    {
     "output_type": "display_data",
     "data": {
      "text/plain": [
       "[1] 2"
      ],
      "text/markdown": [
       "2"
      ],
      "text/latex": [
       "2"
      ],
      "text/html": [
       "2"
      ]
     },
     "metadata": {}
    }
   ],
   "metadata": {}
  },
  {
   "cell_type": "code",
   "execution_count": 6,
   "source": [
    "# And even exponentiation (e.g. 2 raised to the third power)\n",
    "2 ^ 3"
   ],
   "outputs": [
    {
     "output_type": "display_data",
     "data": {
      "text/plain": [
       "[1] 8"
      ],
      "text/markdown": [
       "8"
      ],
      "text/latex": [
       "8"
      ],
      "text/html": [
       "8"
      ]
     },
     "metadata": {}
    }
   ],
   "metadata": {}
  },
  {
   "cell_type": "markdown",
   "source": [
    "## Variables\n",
    "\n",
    "Congratulations! You now know how to do math in R!\n",
    "\n",
    "If we want to do more than use R as a calculator, though, we need to be able to not only do math problems, but also store the results of our calculations so we can reuse them in the future, or combine the results of lots of different calculations. In the examples above, R did the math we asked it to do, and printed out the results, but it didn't keep a copy of those results anywhere.\n",
    "\n",
    "In order to store the *value* of our calculations, we need to *assign them to a variable*. OK, but what does that actually mean?\n",
    "\n",
    "If you’d done any programming before, you probably have an implicit notion of a variable and assignment, but in this course we’d like to provide you with an explicit metaphor we’ll keep coming back to: **a variable is a box that holds a value**. So when we assign the value of 5 to the variable `a`, we’re really saying \"put 5 in the box `a`.\"\n",
    "\n",
    "Once we've stored a value by assigning it to a variable, we can then reference that value any time by invoking that variable. For example, let's calculate the weight of a velociraptor in pounds. \n",
    "\n",
    "![velociraptor](images/velociraptor.jpg)\n",
    "\n",
    "First, let's store the weight of a velociraptor in kilograms (estimated to be [113 kg](http://www.dinodatabase.com/dinorcds.asp)) in a variable called `velociraptor_weight_in_kg`:\n"
   ],
   "metadata": {}
  },
  {
   "cell_type": "code",
   "execution_count": 7,
   "source": [
    "velociraptor_weight_in_kg = 113"
   ],
   "outputs": [],
   "metadata": {}
  },
  {
   "cell_type": "markdown",
   "source": [
    "Basically, all I've done is given a name (the variable name) to a value (in this case, 113).\n",
    "\n",
    "Now any time I use that variable name, R knows that that variable name is just a stand-in for 113. For example, if you just type a variable's name into R, it will tell you the value associated with that variable:"
   ],
   "metadata": {}
  },
  {
   "cell_type": "code",
   "execution_count": 25,
   "source": [
    "velociraptor_weight_in_kg"
   ],
   "outputs": [
    {
     "output_type": "display_data",
     "data": {
      "text/plain": [
       "[1] 113"
      ],
      "text/markdown": [
       "113"
      ],
      "text/latex": [
       "113"
      ],
      "text/html": [
       "113"
      ]
     },
     "metadata": {}
    }
   ],
   "metadata": {}
  },
  {
   "cell_type": "markdown",
   "source": [
    "Now we can do calculations with that variable. There are 2.2 pounds in a kilogram, so to get a velociraptor's weight in pounds, we can just multiply our weight in kg variable by the conversion factor:"
   ],
   "metadata": {}
  },
  {
   "cell_type": "code",
   "execution_count": 9,
   "source": [
    "velociraptor_weight_in_kg * 2.2"
   ],
   "outputs": [
    {
     "output_type": "display_data",
     "data": {
      "text/plain": [
       "[1] 248.6"
      ],
      "text/markdown": [
       "248.6"
      ],
      "text/latex": [
       "248.6"
      ],
      "text/html": [
       "248.6"
      ]
     },
     "metadata": {}
    }
   ],
   "metadata": {}
  },
  {
   "cell_type": "markdown",
   "source": [
    "We can also do math with multiple variables, because really anywhere you see a variable, you can just imagine that the value associated with the variable is there instead. \n",
    "\n",
    "For example, suppose I have two pet dinosaurs, and my partner has three dinosaurs. If we got married, how many dinosaurs would we have? Let's do this super-complicated math using variables."
   ],
   "metadata": {}
  },
  {
   "cell_type": "code",
   "execution_count": 10,
   "source": [
    "nick_pet_dinosaurs = 2\n",
    "adriane_pet_dinosaurs = 3\n",
    "\n",
    "nick_pet_dinosaurs + adriane_pet_dinosaurs"
   ],
   "outputs": [
    {
     "output_type": "display_data",
     "data": {
      "text/plain": [
       "[1] 5"
      ],
      "text/markdown": [
       "5"
      ],
      "text/latex": [
       "5"
      ],
      "text/html": [
       "5"
      ]
     },
     "metadata": {}
    }
   ],
   "metadata": {}
  },
  {
   "cell_type": "markdown",
   "source": [
    "And if we wanted to, we could also store that new value in a new variable called `family_pet_dinosaurs`."
   ],
   "metadata": {}
  },
  {
   "cell_type": "code",
   "execution_count": 11,
   "source": [
    "family_pet_dinosaurs = nick_pet_dinosaurs + adriane_pet_dinosaurs\n",
    "family_pet_dinosaurs"
   ],
   "outputs": [
    {
     "output_type": "display_data",
     "data": {
      "text/plain": [
       "[1] 5"
      ],
      "text/markdown": [
       "5"
      ],
      "text/latex": [
       "5"
      ],
      "text/html": [
       "5"
      ]
     },
     "metadata": {}
    }
   ],
   "metadata": {}
  },
  {
   "cell_type": "markdown",
   "source": [
    "One important thing about variables is that you can change the value associated with a variable. Suppose that while walking to work, I stumbled upon a truely adorable Nigersaurus and couldn't resist adopting her. \n",
    "\n",
    "![Nigersaurus](images/Nigersaurus.jpg)\n",
    "\n",
    "(Photo Credit: [Matt Martyniuk (Dinoguy2)](https://commons.wikimedia.org/w/index.php?curid=3909649))\n",
    "\n",
    "If that happened, we'd need to update the number of pet's I have by 1!  "
   ],
   "metadata": {}
  },
  {
   "cell_type": "code",
   "execution_count": 12,
   "source": [
    "nick_pet_dinosaurs = nick_pet_dinosaurs + 1"
   ],
   "outputs": [],
   "metadata": {}
  },
  {
   "cell_type": "markdown",
   "source": [
    "Now if we ask R for the value of `nick_pet_dinosaurs`, we'll see it has increased by 1:"
   ],
   "metadata": {}
  },
  {
   "cell_type": "code",
   "execution_count": 13,
   "source": [
    "nick_pet_dinosaurs"
   ],
   "outputs": [
    {
     "output_type": "display_data",
     "data": {
      "text/plain": [
       "[1] 3"
      ],
      "text/markdown": [
       "3"
      ],
      "text/latex": [
       "3"
      ],
      "text/html": [
       "3"
      ]
     },
     "metadata": {}
    }
   ],
   "metadata": {}
  },
  {
   "cell_type": "markdown",
   "source": [
    "Note there's something a little weird about the order in which things happen here: when we assign something to a variable by writing `variable_name = [some expression]`, **R evaluates the expression on the right first, then assigns the results of that expression to the variable on the left hand side.**\n",
    "    \n",
    "Given how we normally read left-to-right, this can be a little confusing. So what R did here was:\n",
    "\n",
    "- *first* calculate `nick_pet_dinosaurs + 1` (which is the same as `2 + 1`),\n",
    "- *then* assigned the value of that expression (`3`) to the variable `nick_pet_dinsoaurs`, replacing the old value of `2`. "
   ],
   "metadata": {}
  },
  {
   "cell_type": "markdown",
   "source": [
    "### Variable Exercises\n",
    "\n",
    "OK, this is a great time to pause and try a few exercises for yourself. \n",
    "\n",
    "Let's suppose that you have a dinosaur zoo. In your zoo, you have two [T-Rexes](https://upload.wikimedia.org/wikipedia/commons/thumb/6/64/Tyrannosaurus_Rex_Dinosaurierland_Ruegen_2009.jpg/240px-Tyrannosaurus_Rex_Dinosaurierland_Ruegen_2009.jpg), three [Unaysaurus](http://images.dinosaurpictures.org/unaysaurusJB_57a6.jpg), and five [Spinosaurus](https://upload.wikimedia.org/wikipedia/commons/thumb/f/f4/Spinosaurus_-_Museu_Blau_-_2016_-_01.jpg/1024px-Spinosaurus_-_Museu_Blau_-_2016_-_01.jpg)\n",
    "\n",
    "1. Create variables for the number of each dino you have called `my_trexes`, `my_unas`, and `my_spinos`. \n",
    "2. Now use those variables to calculate how many total dinosaurs you have.\n",
    "3. Oh no! One of your t-rexes got out and ate an Unaysaurus. Decrease the value of `my_unas` by one. \n",
    "4. Double oh no! Your T-Rexes were male and female, and they just had a baby! Increase you number T-Rexes by one!\n",
    "5. Sadly, one of your Spinosauruses died of old age. :( Decreases your count of Spinosauruses by one. \n",
    "6. How many dinos do you have now? You've probably lost count of all these changes, but thankfully they're all stored in variables, so you can just add them all up!"
   ],
   "metadata": {}
  },
  {
   "cell_type": "markdown",
   "source": [
    "Answers to exercises can be found [here](answers.ipynb#Answers-for-Variables-Tutorial), but only go to that page if you get REALLY stuck! The best way to learn to program is to try things out and see what works, so don't deny yourself the learning opportunity that process provides but looking at answers too quickly!"
   ],
   "metadata": {}
  },
  {
   "cell_type": "markdown",
   "source": [
    "<div class=\"alert alert-info\">\n",
    "    \n",
    "<b>NOTE:</b> There are actually <b>two</b> ways to assign a value to a variable name in R. They work exactly the same, so you can use whichever you want. The first is with a single equal sign (`=`), and the other is with the two symbols that make an arrow (`<-`). So the following two commands are exactly the same:\n",
    "\n",
    "</div>"
   ],
   "metadata": {}
  },
  {
   "cell_type": "code",
   "execution_count": 14,
   "source": [
    "x = 72\n",
    "x <- 72"
   ],
   "outputs": [],
   "metadata": {}
  },
  {
   "cell_type": "markdown",
   "source": [
    "## Types of Data\n",
    "\n",
    "Up till now, we've only been working with numbers, but R is actually equiped to work with a number of different *kinds* of data. In the course of this tutorial we'll introduce all of them, but there are really three main ones to be aware of:\n",
    "\n",
    "- `numeric` and `integer`: The main data types for numbers. These two types are *slightly* different (integers is restricted to, we, integers; numeric can be an integer or a number with decimals), but you can think of them as interchangable for now.\n",
    "- `character`: Text data, like a person's name, or a quote from a book. Written with `\"` before and after (or single quotes (`'`) before and after if you'd prefer.\n",
    "- `logical`: Data that only takes on the values of true and false. Written `TRUE` and `FALSE`\n",
    "\n",
    "If you're ever unsure of the type of a variable (or more precisely, of the type of the value associated with a variable), you can ask R with the `class()` function:\n"
   ],
   "metadata": {}
  },
  {
   "cell_type": "code",
   "execution_count": 15,
   "source": [
    "pi = 3.1416\n",
    "class(pi)"
   ],
   "outputs": [
    {
     "output_type": "display_data",
     "data": {
      "text/plain": [
       "[1] \"numeric\""
      ],
      "text/markdown": [
       "'numeric'"
      ],
      "text/latex": [
       "'numeric'"
      ],
      "text/html": [
       "'numeric'"
      ]
     },
     "metadata": {}
    }
   ],
   "metadata": {}
  },
  {
   "cell_type": "code",
   "execution_count": 16,
   "source": [
    "mystery_novel = \"T'was a dark and story night\"\n",
    "class(mystery_novel)"
   ],
   "outputs": [
    {
     "output_type": "display_data",
     "data": {
      "text/plain": [
       "[1] \"character\""
      ],
      "text/markdown": [
       "'character'"
      ],
      "text/latex": [
       "'character'"
      ],
      "text/html": [
       "'character'"
      ]
     },
     "metadata": {}
    }
   ],
   "metadata": {}
  },
  {
   "cell_type": "code",
   "execution_count": 17,
   "source": [
    "my_logical = TRUE\n",
    "class(my_logical)"
   ],
   "outputs": [
    {
     "output_type": "display_data",
     "data": {
      "text/plain": [
       "[1] \"logical\""
      ],
      "text/markdown": [
       "'logical'"
      ],
      "text/latex": [
       "'logical'"
      ],
      "text/html": [
       "'logical'"
      ]
     },
     "metadata": {}
    }
   ],
   "metadata": {}
  },
  {
   "cell_type": "markdown",
   "source": [
    "### Characters\n",
    "\n",
    "The value of characters will be evident when we start working with real data, when our datasets will include things like country names, or capitals, or open-ended survey responses. In all these situations, we will use the `character` type to store text. \n",
    "\n",
    "Note that if a variable is a character, even if it looks like a number, R will treat it like text and you won't be able to do things like add or multiple it. For example:"
   ],
   "metadata": {}
  },
  {
   "cell_type": "markdown",
   "source": [
    "```R\n",
    "a = 5\n",
    "b = \"7\"\n",
    "a + b \n",
    "```\n",
    "\n",
    "Will generate an error:\n",
    "\n",
    "```R\n",
    "Error in a + b: non-numeric argument to binary operator\n",
    "```\n",
    "\n",
    "Because plus is only defined for numbers, and R sees `\"7\"` as text. I'll show you how to deal with this silly situation below. "
   ],
   "metadata": {}
  },
  {
   "cell_type": "markdown",
   "source": [
    "### Logicals\n",
    "\n",
    "The use of logicals is less obvious at the moment, but they will eventually prove very important. For now, it's enough to know they exist, and that the place you are most likely to encounter them is when you write tests. For example:"
   ],
   "metadata": {}
  },
  {
   "cell_type": "code",
   "execution_count": 18,
   "source": [
    "7 > 5"
   ],
   "outputs": [
    {
     "output_type": "display_data",
     "data": {
      "text/plain": [
       "[1] TRUE"
      ],
      "text/markdown": [
       "TRUE"
      ],
      "text/latex": [
       "TRUE"
      ],
      "text/html": [
       "TRUE"
      ]
     },
     "metadata": {}
    }
   ],
   "metadata": {}
  },
  {
   "cell_type": "code",
   "execution_count": 19,
   "source": [
    "4 < 3"
   ],
   "outputs": [
    {
     "output_type": "display_data",
     "data": {
      "text/plain": [
       "[1] FALSE"
      ],
      "text/markdown": [
       "FALSE"
      ],
      "text/latex": [
       "FALSE"
      ],
      "text/html": [
       "FALSE"
      ]
     },
     "metadata": {}
    }
   ],
   "metadata": {}
  },
  {
   "cell_type": "markdown",
   "source": [
    "This is also a good time to introduce the double-equal sign. Because we use `=` to assign values to variables, we can't use it to test if two things are equal. To ask R to evaluate whether two things are equal, therefore, we use a double-equal sign (`==`). For example:"
   ],
   "metadata": {}
  },
  {
   "cell_type": "code",
   "execution_count": 20,
   "source": [
    "a = 5\n",
    "b = 5\n",
    "a == b"
   ],
   "outputs": [
    {
     "output_type": "display_data",
     "data": {
      "text/plain": [
       "[1] TRUE"
      ],
      "text/markdown": [
       "TRUE"
      ],
      "text/latex": [
       "TRUE"
      ],
      "text/html": [
       "TRUE"
      ]
     },
     "metadata": {}
    }
   ],
   "metadata": {}
  },
  {
   "cell_type": "code",
   "execution_count": 21,
   "source": [
    "c = 7\n",
    "a == c"
   ],
   "outputs": [
    {
     "output_type": "display_data",
     "data": {
      "text/plain": [
       "[1] FALSE"
      ],
      "text/markdown": [
       "FALSE"
      ],
      "text/latex": [
       "FALSE"
      ],
      "text/html": [
       "FALSE"
      ]
     },
     "metadata": {}
    }
   ],
   "metadata": {}
  },
  {
   "cell_type": "markdown",
   "source": [
    "## A Brief Introduction to Functions\n",
    "\n",
    "One last note before we finish off this section: one of the most powerful thing about a language like R is that it's full of pre-made tools called *functions*. A function is basically a little program inside R. They can do everything from simple operations (like adding up numbers) to extremely complicated operations (fit a machine learning model). \n",
    "\n",
    "The idea of a function is that takes in a set of *arguments* as an input, and then it *returns* a result. To use a function, you type out the function name, then place the arguments you want to pass to the function inside parentheses. For example, there's a function called `as.numeric()` that's designed to convert a variable that is a character (like `\"7\"`) to a numeric value (`7`) so we can do arithmatic with that value. \n",
    "\n",
    "So to use it, we pass the function `as.numeric` the variable (`b`). The function will then take the value associated with `b` (`\"7\"`), convert it to a numeric value, then return the converted value. For example:"
   ],
   "metadata": {}
  },
  {
   "cell_type": "code",
   "execution_count": 22,
   "source": [
    "a = 5\n",
    "b = \"7\"\n",
    "b_as_a_numeric = as.numeric(b)\n",
    "a + b_as_a_numeric"
   ],
   "outputs": [
    {
     "output_type": "display_data",
     "data": {
      "text/plain": [
       "[1] 12"
      ],
      "text/markdown": [
       "12"
      ],
      "text/latex": [
       "12"
      ],
      "text/html": [
       "12"
      ]
     },
     "metadata": {}
    }
   ],
   "metadata": {}
  },
  {
   "cell_type": "markdown",
   "source": [
    "Note that `as.numeric` didn't actually change the value of the variable `b` -- instead, it returned the converted value, and we assigned it to the variable `b_as_a_numeric`. If we look at `b`, we will see it is still `\"7\"`"
   ],
   "metadata": {}
  },
  {
   "cell_type": "code",
   "execution_count": 23,
   "source": [
    "b"
   ],
   "outputs": [
    {
     "output_type": "display_data",
     "data": {
      "text/plain": [
       "[1] \"7\""
      ],
      "text/markdown": [
       "'7'"
      ],
      "text/latex": [
       "'7'"
      ],
      "text/html": [
       "'7'"
      ]
     },
     "metadata": {}
    }
   ],
   "metadata": {}
  },
  {
   "cell_type": "markdown",
   "source": [
    "But `as.numeric` won't work on everything. If you pass `as.numeric` a character that doesn't look like a number, it's smart enough to know that there's no way to convert it, so instead of a number, it returns `NA`, which is what R uses when it has no idea what to do. For example:"
   ],
   "metadata": {}
  },
  {
   "cell_type": "markdown",
   "source": [
    "```R\n",
    "silly_example = \"This doesn't look like a number at all!\"\n",
    "as.numeric(silly_example)\n",
    "\n",
    "Warning message in eval(expr, envir, enclos):\n",
    "“NAs introduced by coercion”\n",
    "<NA>\n",
    "```"
   ],
   "metadata": {}
  },
  {
   "cell_type": "markdown",
   "source": [
    "We'll talk much more about functions in the future, but for now it's enough to recognize that they are little programs, and that they operate by accepting inputs (the things placed inside the parenthesis that follow the function name) and return a result to you which you can look at or assign to a variable for later use."
   ],
   "metadata": {}
  }
 ],
 "metadata": {
  "kernelspec": {
   "display_name": "R",
   "language": "R",
   "name": "ir"
  },
  "language_info": {
   "name": "R",
   "codemirror_mode": "r",
   "pygments_lexer": "r",
   "mimetype": "text/x-r-source",
   "file_extension": ".r",
   "version": "4.1.0"
  }
 },
 "nbformat": 4,
 "nbformat_minor": 2
}