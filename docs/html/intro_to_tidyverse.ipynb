{
 "cells": [
  {
   "cell_type": "markdown",
   "id": "2c23f12c",
   "metadata": {},
   "source": [
    "# Intro to dplyr and the Tidyverse\n",
    "\n",
    "\n",
    "Being able to quickly modify datasets -- often referred to as \"data wrangling\" -- is critical to being a social scientist. Indeed, most social scientists and data scientists spend a huge proportion of their time of their time cleaning and organizing their data. ([about 80 percent in surveys](https://www.forbes.com/sites/gilpress/2016/03/23/data-preparation-most-time-consuming-least-enjoyable-data-science-task-survey-says/?sh=44a70ffb6f63). \n",
    "\n",
    "In our previous readings, we learned how to accomplish tasks like subsetting and modifying variables using what's called \"array indexing\" (using those `[]` square brackets). \n",
    "\n",
    "There is, however, another approach to manipulating dataframes in R that is very popular: a set of packages known collectively as the [tidyverse](https://www.tidyverse.org/) originally developed by [Hadley Wickham](http://had.co.nz/).\n",
    "\n",
    "In this reading, we'll explore a tidyverse library called `dplyr`, which provides a set of simple functions for subsetting, sorting, renaming variables, and extracting unique values. To be clear **it doesn't allow you to do anything you couldn't do with array indexing, it just provides different ways to write your commands** But the way it allows you to write commands is something that many people find quite compelling. \n",
    "\n",
    "Before we get into dplyr, however, a quick note word of caution: there's a reason we learned to manipulate dataframes using array indexing before I introduced dplyr. That's because, despite its popularity, I will confess to having some mis-givings about dplyr.\n",
    "\n",
    "The basic issue with dplyr is that it provides a set of specific commands do to lots of specific dataframe manipulation tasks. And if all you want to do is manipulate dataframes, dplyr is great. *But*...\n",
    "\n",
    "Learning the tidyverse amounts to learning lots of specific functions. There's no concept of *generalized abstractions*, like array indexing. As we've seen in our past readings, in regular R the logic that dictates how vectors work informs how matrices work, which in turn informs how dataframes work. And if you move into three-dimensional arrays at some point, or other domains (like network analysis), what you know about vectors and matrices will still be relevant. \n",
    "\n",
    "Indeed, the concept of an array and the idea of array indexing is such a fundamental abstraction in data science that you'll also find it in languages like Python, Matlab, and Julia you may sometime end up using.\n",
    "\n",
    "As such, I worry that over-reliance on the tidyverse amounts to moving away from learning to *program* in R by composing more sophisticated commands from basic building blocks and towards just learning to chain a series of specific commands together.\n",
    "\n",
    "(If you want to read a more eloquent version of this critique, [you can find one here](https://towardsdatascience.com/a-thousand-gadgets-my-thoughts-on-the-r-tidyverse-2441d8504433).)\n",
    "\n",
    "With all that said, my view on this is definitely a minority view among R users, and so you should definitely get to know what dplyr is about before you decide whether it's for you. So let's dive in, and you can decide for yourself whether dplyr is for you, whether you're rather not using it, or whether you decide some functions are great but others are not! "
   ]
  },
  {
   "cell_type": "markdown",
   "id": "6cd0b37c",
   "metadata": {},
   "source": [
    "## Installing dplyr\n",
    "\n",
    "To use dplyr, you must:\n",
    "\n",
    "- Install dplyr with the command `install.package(\"dplyr\")`. You only have to do this once on a given computer.\n",
    "- Load it into your R session with `library(dplyr)`. This you have to run every time you open R and want to use dplyr. "
   ]
  },
  {
   "cell_type": "code",
   "execution_count": 3,
   "id": "da28e6f1",
   "metadata": {},
   "outputs": [
    {
     "name": "stderr",
     "output_type": "stream",
     "text": [
      "\n",
      "Attaching package: 'dplyr'\n",
      "\n",
      "\n",
      "The following objects are masked from 'package:stats':\n",
      "\n",
      "    filter, lag\n",
      "\n",
      "\n",
      "The following objects are masked from 'package:base':\n",
      "\n",
      "    intersect, setdiff, setequal, union\n",
      "\n",
      "\n"
     ]
    }
   ],
   "source": [
    "library(dplyr)"
   ]
  },
  {
   "cell_type": "markdown",
   "id": "a028a0b6",
   "metadata": {},
   "source": [
    "## Subsetting with filter\n",
    "\n",
    "To demonstrate dplyr, we'll rely on the small data frame we used before you can create as follows:"
   ]
  },
  {
   "cell_type": "code",
   "execution_count": 2,
   "id": "e1c42363",
   "metadata": {},
   "outputs": [
    {
     "data": {
      "text/html": [
       "<table class=\"dataframe\">\n",
       "<caption>A data.frame: 9 × 3</caption>\n",
       "<thead>\n",
       "\t<tr><th scope=col>country</th><th scope=col>year</th><th scope=col>gdp_pc</th></tr>\n",
       "\t<tr><th scope=col>&lt;chr&gt;</th><th scope=col>&lt;dbl&gt;</th><th scope=col>&lt;dbl&gt;</th></tr>\n",
       "</thead>\n",
       "<tbody>\n",
       "\t<tr><td>USA  </td><td>1994</td><td>11197</td></tr>\n",
       "\t<tr><td>China</td><td>1994</td><td>12877</td></tr>\n",
       "\t<tr><td>Sudan</td><td>1994</td><td> 2326</td></tr>\n",
       "\t<tr><td>USA  </td><td>1995</td><td>15058</td></tr>\n",
       "\t<tr><td>China</td><td>1995</td><td> 5549</td></tr>\n",
       "\t<tr><td>Sudan</td><td>1995</td><td> 7658</td></tr>\n",
       "\t<tr><td>USA  </td><td>1996</td><td> 2965</td></tr>\n",
       "\t<tr><td>China</td><td>1996</td><td>19660</td></tr>\n",
       "\t<tr><td>Sudan</td><td>1996</td><td> 5971</td></tr>\n",
       "</tbody>\n",
       "</table>\n"
      ],
      "text/latex": [
       "A data.frame: 9 × 3\n",
       "\\begin{tabular}{lll}\n",
       " country & year & gdp\\_pc\\\\\n",
       " <chr> & <dbl> & <dbl>\\\\\n",
       "\\hline\n",
       "\t USA   & 1994 & 11197\\\\\n",
       "\t China & 1994 & 12877\\\\\n",
       "\t Sudan & 1994 &  2326\\\\\n",
       "\t USA   & 1995 & 15058\\\\\n",
       "\t China & 1995 &  5549\\\\\n",
       "\t Sudan & 1995 &  7658\\\\\n",
       "\t USA   & 1996 &  2965\\\\\n",
       "\t China & 1996 & 19660\\\\\n",
       "\t Sudan & 1996 &  5971\\\\\n",
       "\\end{tabular}\n"
      ],
      "text/markdown": [
       "\n",
       "A data.frame: 9 × 3\n",
       "\n",
       "| country &lt;chr&gt; | year &lt;dbl&gt; | gdp_pc &lt;dbl&gt; |\n",
       "|---|---|---|\n",
       "| USA   | 1994 | 11197 |\n",
       "| China | 1994 | 12877 |\n",
       "| Sudan | 1994 |  2326 |\n",
       "| USA   | 1995 | 15058 |\n",
       "| China | 1995 |  5549 |\n",
       "| Sudan | 1995 |  7658 |\n",
       "| USA   | 1996 |  2965 |\n",
       "| China | 1996 | 19660 |\n",
       "| Sudan | 1996 |  5971 |\n",
       "\n"
      ],
      "text/plain": [
       "  country year gdp_pc\n",
       "1 USA     1994 11197 \n",
       "2 China   1994 12877 \n",
       "3 Sudan   1994  2326 \n",
       "4 USA     1995 15058 \n",
       "5 China   1995  5549 \n",
       "6 Sudan   1995  7658 \n",
       "7 USA     1996  2965 \n",
       "8 China   1996 19660 \n",
       "9 Sudan   1996  5971 "
      ]
     },
     "metadata": {},
     "output_type": "display_data"
    }
   ],
   "source": [
    "country <- rep(c(\"USA\", \"China\", \"Sudan\"), 3)\n",
    "year <- c(1994, 1994, 1994, 1995, 1995, 1995, 1996, 1996, 1996)\n",
    "gdp_pc <- round(runif(9, 1000, 20000))\n",
    "\n",
    "countries <- data.frame(country, year, gdp_pc)\n",
    "countries"
   ]
  },
  {
   "cell_type": "markdown",
   "id": "68ac1a42",
   "metadata": {},
   "source": [
    "Now suppose we want to subset just to observations from China. With array indexing, we'd run:"
   ]
  },
  {
   "cell_type": "code",
   "execution_count": 7,
   "id": "1e55bd99",
   "metadata": {},
   "outputs": [
    {
     "data": {
      "text/html": [
       "<table class=\"dataframe\">\n",
       "<caption>A data.frame: 3 × 3</caption>\n",
       "<thead>\n",
       "\t<tr><th></th><th scope=col>country</th><th scope=col>year</th><th scope=col>gdp_pc</th></tr>\n",
       "\t<tr><th></th><th scope=col>&lt;chr&gt;</th><th scope=col>&lt;dbl&gt;</th><th scope=col>&lt;dbl&gt;</th></tr>\n",
       "</thead>\n",
       "<tbody>\n",
       "\t<tr><th scope=row>2</th><td>China</td><td>1994</td><td>12877</td></tr>\n",
       "\t<tr><th scope=row>5</th><td>China</td><td>1995</td><td> 5549</td></tr>\n",
       "\t<tr><th scope=row>8</th><td>China</td><td>1996</td><td>19660</td></tr>\n",
       "</tbody>\n",
       "</table>\n"
      ],
      "text/latex": [
       "A data.frame: 3 × 3\n",
       "\\begin{tabular}{r|lll}\n",
       "  & country & year & gdp\\_pc\\\\\n",
       "  & <chr> & <dbl> & <dbl>\\\\\n",
       "\\hline\n",
       "\t2 & China & 1994 & 12877\\\\\n",
       "\t5 & China & 1995 &  5549\\\\\n",
       "\t8 & China & 1996 & 19660\\\\\n",
       "\\end{tabular}\n"
      ],
      "text/markdown": [
       "\n",
       "A data.frame: 3 × 3\n",
       "\n",
       "| <!--/--> | country &lt;chr&gt; | year &lt;dbl&gt; | gdp_pc &lt;dbl&gt; |\n",
       "|---|---|---|---|\n",
       "| 2 | China | 1994 | 12877 |\n",
       "| 5 | China | 1995 |  5549 |\n",
       "| 8 | China | 1996 | 19660 |\n",
       "\n"
      ],
      "text/plain": [
       "  country year gdp_pc\n",
       "2 China   1994 12877 \n",
       "5 China   1995  5549 \n",
       "8 China   1996 19660 "
      ]
     },
     "metadata": {},
     "output_type": "display_data"
    }
   ],
   "source": [
    "countries[countries$country == \"China\",]"
   ]
  },
  {
   "cell_type": "markdown",
   "id": "2929ef2b",
   "metadata": {},
   "source": [
    "To subset with dplyr, we use the `filter` command together with a similar logical statement:"
   ]
  },
  {
   "cell_type": "code",
   "execution_count": 8,
   "id": "22d168e7",
   "metadata": {},
   "outputs": [
    {
     "data": {
      "text/html": [
       "<table class=\"dataframe\">\n",
       "<caption>A data.frame: 3 × 3</caption>\n",
       "<thead>\n",
       "\t<tr><th scope=col>country</th><th scope=col>year</th><th scope=col>gdp_pc</th></tr>\n",
       "\t<tr><th scope=col>&lt;chr&gt;</th><th scope=col>&lt;dbl&gt;</th><th scope=col>&lt;dbl&gt;</th></tr>\n",
       "</thead>\n",
       "<tbody>\n",
       "\t<tr><td>China</td><td>1994</td><td>12877</td></tr>\n",
       "\t<tr><td>China</td><td>1995</td><td> 5549</td></tr>\n",
       "\t<tr><td>China</td><td>1996</td><td>19660</td></tr>\n",
       "</tbody>\n",
       "</table>\n"
      ],
      "text/latex": [
       "A data.frame: 3 × 3\n",
       "\\begin{tabular}{lll}\n",
       " country & year & gdp\\_pc\\\\\n",
       " <chr> & <dbl> & <dbl>\\\\\n",
       "\\hline\n",
       "\t China & 1994 & 12877\\\\\n",
       "\t China & 1995 &  5549\\\\\n",
       "\t China & 1996 & 19660\\\\\n",
       "\\end{tabular}\n"
      ],
      "text/markdown": [
       "\n",
       "A data.frame: 3 × 3\n",
       "\n",
       "| country &lt;chr&gt; | year &lt;dbl&gt; | gdp_pc &lt;dbl&gt; |\n",
       "|---|---|---|\n",
       "| China | 1994 | 12877 |\n",
       "| China | 1995 |  5549 |\n",
       "| China | 1996 | 19660 |\n",
       "\n"
      ],
      "text/plain": [
       "  country year gdp_pc\n",
       "1 China   1994 12877 \n",
       "2 China   1995  5549 \n",
       "3 China   1996 19660 "
      ]
     },
     "metadata": {},
     "output_type": "display_data"
    }
   ],
   "source": [
    "filter(countries, country == \"China\")"
   ]
  },
  {
   "cell_type": "markdown",
   "id": "b665edf7",
   "metadata": {},
   "source": [
    "Or to filter to just middle income countries, we could run:"
   ]
  },
  {
   "cell_type": "code",
   "execution_count": 9,
   "id": "444fa31b",
   "metadata": {},
   "outputs": [
    {
     "data": {
      "text/html": [
       "<table class=\"dataframe\">\n",
       "<caption>A data.frame: 5 × 3</caption>\n",
       "<thead>\n",
       "\t<tr><th scope=col>country</th><th scope=col>year</th><th scope=col>gdp_pc</th></tr>\n",
       "\t<tr><th scope=col>&lt;chr&gt;</th><th scope=col>&lt;dbl&gt;</th><th scope=col>&lt;dbl&gt;</th></tr>\n",
       "</thead>\n",
       "<tbody>\n",
       "\t<tr><td>USA  </td><td>1994</td><td>11197</td></tr>\n",
       "\t<tr><td>China</td><td>1994</td><td>12877</td></tr>\n",
       "\t<tr><td>China</td><td>1995</td><td> 5549</td></tr>\n",
       "\t<tr><td>Sudan</td><td>1995</td><td> 7658</td></tr>\n",
       "\t<tr><td>Sudan</td><td>1996</td><td> 5971</td></tr>\n",
       "</tbody>\n",
       "</table>\n"
      ],
      "text/latex": [
       "A data.frame: 5 × 3\n",
       "\\begin{tabular}{lll}\n",
       " country & year & gdp\\_pc\\\\\n",
       " <chr> & <dbl> & <dbl>\\\\\n",
       "\\hline\n",
       "\t USA   & 1994 & 11197\\\\\n",
       "\t China & 1994 & 12877\\\\\n",
       "\t China & 1995 &  5549\\\\\n",
       "\t Sudan & 1995 &  7658\\\\\n",
       "\t Sudan & 1996 &  5971\\\\\n",
       "\\end{tabular}\n"
      ],
      "text/markdown": [
       "\n",
       "A data.frame: 5 × 3\n",
       "\n",
       "| country &lt;chr&gt; | year &lt;dbl&gt; | gdp_pc &lt;dbl&gt; |\n",
       "|---|---|---|\n",
       "| USA   | 1994 | 11197 |\n",
       "| China | 1994 | 12877 |\n",
       "| China | 1995 |  5549 |\n",
       "| Sudan | 1995 |  7658 |\n",
       "| Sudan | 1996 |  5971 |\n",
       "\n"
      ],
      "text/plain": [
       "  country year gdp_pc\n",
       "1 USA     1994 11197 \n",
       "2 China   1994 12877 \n",
       "3 China   1995  5549 \n",
       "4 Sudan   1995  7658 \n",
       "5 Sudan   1996  5971 "
      ]
     },
     "metadata": {},
     "output_type": "display_data"
    }
   ],
   "source": [
    "filter(countries, gdp_pc > 5000 & gdp_pc < 14000)"
   ]
  },
  {
   "cell_type": "markdown",
   "id": "dbcb0e79",
   "metadata": {},
   "source": [
    "As is probably evident, the first argument in the `filter()` function\n",
    "specifies the dataset on which to carry out the operation. The second\n",
    "argument specifies the logical operation used to filter the data."
   ]
  },
  {
   "cell_type": "markdown",
   "id": "5d774e5b",
   "metadata": {},
   "source": [
    "## Sorting\n",
    "\n",
    "\n",
    "Use `arrange()` to sort a dataset. Here are a few examples. (I'll use\n",
    "the chaining operator `%>%` from now on --- if you're confused about\n",
    "this remember that you can just bring the data frame `countries`\n",
    "inside the function.)"
   ]
  },
  {
   "cell_type": "code",
   "execution_count": 10,
   "id": "e81a7e67",
   "metadata": {},
   "outputs": [
    {
     "data": {
      "text/html": [
       "<table class=\"dataframe\">\n",
       "<caption>A data.frame: 9 × 3</caption>\n",
       "<thead>\n",
       "\t<tr><th scope=col>country</th><th scope=col>year</th><th scope=col>gdp_pc</th></tr>\n",
       "\t<tr><th scope=col>&lt;chr&gt;</th><th scope=col>&lt;dbl&gt;</th><th scope=col>&lt;dbl&gt;</th></tr>\n",
       "</thead>\n",
       "<tbody>\n",
       "\t<tr><td>China</td><td>1994</td><td>12877</td></tr>\n",
       "\t<tr><td>China</td><td>1995</td><td> 5549</td></tr>\n",
       "\t<tr><td>China</td><td>1996</td><td>19660</td></tr>\n",
       "\t<tr><td>Sudan</td><td>1994</td><td> 2326</td></tr>\n",
       "\t<tr><td>Sudan</td><td>1995</td><td> 7658</td></tr>\n",
       "\t<tr><td>Sudan</td><td>1996</td><td> 5971</td></tr>\n",
       "\t<tr><td>USA  </td><td>1994</td><td>11197</td></tr>\n",
       "\t<tr><td>USA  </td><td>1995</td><td>15058</td></tr>\n",
       "\t<tr><td>USA  </td><td>1996</td><td> 2965</td></tr>\n",
       "</tbody>\n",
       "</table>\n"
      ],
      "text/latex": [
       "A data.frame: 9 × 3\n",
       "\\begin{tabular}{lll}\n",
       " country & year & gdp\\_pc\\\\\n",
       " <chr> & <dbl> & <dbl>\\\\\n",
       "\\hline\n",
       "\t China & 1994 & 12877\\\\\n",
       "\t China & 1995 &  5549\\\\\n",
       "\t China & 1996 & 19660\\\\\n",
       "\t Sudan & 1994 &  2326\\\\\n",
       "\t Sudan & 1995 &  7658\\\\\n",
       "\t Sudan & 1996 &  5971\\\\\n",
       "\t USA   & 1994 & 11197\\\\\n",
       "\t USA   & 1995 & 15058\\\\\n",
       "\t USA   & 1996 &  2965\\\\\n",
       "\\end{tabular}\n"
      ],
      "text/markdown": [
       "\n",
       "A data.frame: 9 × 3\n",
       "\n",
       "| country &lt;chr&gt; | year &lt;dbl&gt; | gdp_pc &lt;dbl&gt; |\n",
       "|---|---|---|\n",
       "| China | 1994 | 12877 |\n",
       "| China | 1995 |  5549 |\n",
       "| China | 1996 | 19660 |\n",
       "| Sudan | 1994 |  2326 |\n",
       "| Sudan | 1995 |  7658 |\n",
       "| Sudan | 1996 |  5971 |\n",
       "| USA   | 1994 | 11197 |\n",
       "| USA   | 1995 | 15058 |\n",
       "| USA   | 1996 |  2965 |\n",
       "\n"
      ],
      "text/plain": [
       "  country year gdp_pc\n",
       "1 China   1994 12877 \n",
       "2 China   1995  5549 \n",
       "3 China   1996 19660 \n",
       "4 Sudan   1994  2326 \n",
       "5 Sudan   1995  7658 \n",
       "6 Sudan   1996  5971 \n",
       "7 USA     1994 11197 \n",
       "8 USA     1995 15058 \n",
       "9 USA     1996  2965 "
      ]
     },
     "metadata": {},
     "output_type": "display_data"
    }
   ],
   "source": [
    "# Sort by country names \n",
    "arrange(countries, country) "
   ]
  },
  {
   "cell_type": "code",
   "execution_count": 11,
   "id": "d456ee76",
   "metadata": {},
   "outputs": [
    {
     "data": {
      "text/html": [
       "<table class=\"dataframe\">\n",
       "<caption>A data.frame: 9 × 3</caption>\n",
       "<thead>\n",
       "\t<tr><th scope=col>country</th><th scope=col>year</th><th scope=col>gdp_pc</th></tr>\n",
       "\t<tr><th scope=col>&lt;chr&gt;</th><th scope=col>&lt;dbl&gt;</th><th scope=col>&lt;dbl&gt;</th></tr>\n",
       "</thead>\n",
       "<tbody>\n",
       "\t<tr><td>Sudan</td><td>1994</td><td> 2326</td></tr>\n",
       "\t<tr><td>USA  </td><td>1996</td><td> 2965</td></tr>\n",
       "\t<tr><td>China</td><td>1995</td><td> 5549</td></tr>\n",
       "\t<tr><td>Sudan</td><td>1996</td><td> 5971</td></tr>\n",
       "\t<tr><td>Sudan</td><td>1995</td><td> 7658</td></tr>\n",
       "\t<tr><td>USA  </td><td>1994</td><td>11197</td></tr>\n",
       "\t<tr><td>China</td><td>1994</td><td>12877</td></tr>\n",
       "\t<tr><td>USA  </td><td>1995</td><td>15058</td></tr>\n",
       "\t<tr><td>China</td><td>1996</td><td>19660</td></tr>\n",
       "</tbody>\n",
       "</table>\n"
      ],
      "text/latex": [
       "A data.frame: 9 × 3\n",
       "\\begin{tabular}{lll}\n",
       " country & year & gdp\\_pc\\\\\n",
       " <chr> & <dbl> & <dbl>\\\\\n",
       "\\hline\n",
       "\t Sudan & 1994 &  2326\\\\\n",
       "\t USA   & 1996 &  2965\\\\\n",
       "\t China & 1995 &  5549\\\\\n",
       "\t Sudan & 1996 &  5971\\\\\n",
       "\t Sudan & 1995 &  7658\\\\\n",
       "\t USA   & 1994 & 11197\\\\\n",
       "\t China & 1994 & 12877\\\\\n",
       "\t USA   & 1995 & 15058\\\\\n",
       "\t China & 1996 & 19660\\\\\n",
       "\\end{tabular}\n"
      ],
      "text/markdown": [
       "\n",
       "A data.frame: 9 × 3\n",
       "\n",
       "| country &lt;chr&gt; | year &lt;dbl&gt; | gdp_pc &lt;dbl&gt; |\n",
       "|---|---|---|\n",
       "| Sudan | 1994 |  2326 |\n",
       "| USA   | 1996 |  2965 |\n",
       "| China | 1995 |  5549 |\n",
       "| Sudan | 1996 |  5971 |\n",
       "| Sudan | 1995 |  7658 |\n",
       "| USA   | 1994 | 11197 |\n",
       "| China | 1994 | 12877 |\n",
       "| USA   | 1995 | 15058 |\n",
       "| China | 1996 | 19660 |\n",
       "\n"
      ],
      "text/plain": [
       "  country year gdp_pc\n",
       "1 Sudan   1994  2326 \n",
       "2 USA     1996  2965 \n",
       "3 China   1995  5549 \n",
       "4 Sudan   1996  5971 \n",
       "5 Sudan   1995  7658 \n",
       "6 USA     1994 11197 \n",
       "7 China   1994 12877 \n",
       "8 USA     1995 15058 \n",
       "9 China   1996 19660 "
      ]
     },
     "metadata": {},
     "output_type": "display_data"
    }
   ],
   "source": [
    "# Sort by GDP (ascending is default) \n",
    "arrange(countries, gdp_pc)"
   ]
  },
  {
   "cell_type": "code",
   "execution_count": 12,
   "id": "be3bef1f",
   "metadata": {},
   "outputs": [
    {
     "data": {
      "text/html": [
       "<table class=\"dataframe\">\n",
       "<caption>A data.frame: 9 × 3</caption>\n",
       "<thead>\n",
       "\t<tr><th scope=col>country</th><th scope=col>year</th><th scope=col>gdp_pc</th></tr>\n",
       "\t<tr><th scope=col>&lt;chr&gt;</th><th scope=col>&lt;dbl&gt;</th><th scope=col>&lt;dbl&gt;</th></tr>\n",
       "</thead>\n",
       "<tbody>\n",
       "\t<tr><td>China</td><td>1996</td><td>19660</td></tr>\n",
       "\t<tr><td>USA  </td><td>1995</td><td>15058</td></tr>\n",
       "\t<tr><td>China</td><td>1994</td><td>12877</td></tr>\n",
       "\t<tr><td>USA  </td><td>1994</td><td>11197</td></tr>\n",
       "\t<tr><td>Sudan</td><td>1995</td><td> 7658</td></tr>\n",
       "\t<tr><td>Sudan</td><td>1996</td><td> 5971</td></tr>\n",
       "\t<tr><td>China</td><td>1995</td><td> 5549</td></tr>\n",
       "\t<tr><td>USA  </td><td>1996</td><td> 2965</td></tr>\n",
       "\t<tr><td>Sudan</td><td>1994</td><td> 2326</td></tr>\n",
       "</tbody>\n",
       "</table>\n"
      ],
      "text/latex": [
       "A data.frame: 9 × 3\n",
       "\\begin{tabular}{lll}\n",
       " country & year & gdp\\_pc\\\\\n",
       " <chr> & <dbl> & <dbl>\\\\\n",
       "\\hline\n",
       "\t China & 1996 & 19660\\\\\n",
       "\t USA   & 1995 & 15058\\\\\n",
       "\t China & 1994 & 12877\\\\\n",
       "\t USA   & 1994 & 11197\\\\\n",
       "\t Sudan & 1995 &  7658\\\\\n",
       "\t Sudan & 1996 &  5971\\\\\n",
       "\t China & 1995 &  5549\\\\\n",
       "\t USA   & 1996 &  2965\\\\\n",
       "\t Sudan & 1994 &  2326\\\\\n",
       "\\end{tabular}\n"
      ],
      "text/markdown": [
       "\n",
       "A data.frame: 9 × 3\n",
       "\n",
       "| country &lt;chr&gt; | year &lt;dbl&gt; | gdp_pc &lt;dbl&gt; |\n",
       "|---|---|---|\n",
       "| China | 1996 | 19660 |\n",
       "| USA   | 1995 | 15058 |\n",
       "| China | 1994 | 12877 |\n",
       "| USA   | 1994 | 11197 |\n",
       "| Sudan | 1995 |  7658 |\n",
       "| Sudan | 1996 |  5971 |\n",
       "| China | 1995 |  5549 |\n",
       "| USA   | 1996 |  2965 |\n",
       "| Sudan | 1994 |  2326 |\n",
       "\n"
      ],
      "text/plain": [
       "  country year gdp_pc\n",
       "1 China   1996 19660 \n",
       "2 USA     1995 15058 \n",
       "3 China   1994 12877 \n",
       "4 USA     1994 11197 \n",
       "5 Sudan   1995  7658 \n",
       "6 Sudan   1996  5971 \n",
       "7 China   1995  5549 \n",
       "8 USA     1996  2965 \n",
       "9 Sudan   1994  2326 "
      ]
     },
     "metadata": {},
     "output_type": "display_data"
    }
   ],
   "source": [
    "# Sort by GDP (descending)\n",
    "arrange(countries, desc(gdp_pc))"
   ]
  },
  {
   "cell_type": "markdown",
   "id": "f9c6cb91",
   "metadata": {},
   "source": [
    "## Selecting Columns\n",
    "\n",
    "Just as we can select columns by name with array indexing:\n"
   ]
  },
  {
   "cell_type": "code",
   "execution_count": 30,
   "id": "89937ee7",
   "metadata": {},
   "outputs": [
    {
     "data": {
      "text/html": [
       "<table class=\"dataframe\">\n",
       "<caption>A data.frame: 9 × 2</caption>\n",
       "<thead>\n",
       "\t<tr><th scope=col>country</th><th scope=col>gdp_pc</th></tr>\n",
       "\t<tr><th scope=col>&lt;chr&gt;</th><th scope=col>&lt;dbl&gt;</th></tr>\n",
       "</thead>\n",
       "<tbody>\n",
       "\t<tr><td>USA  </td><td>11197</td></tr>\n",
       "\t<tr><td>China</td><td>12877</td></tr>\n",
       "\t<tr><td>Sudan</td><td> 2326</td></tr>\n",
       "\t<tr><td>USA  </td><td>15058</td></tr>\n",
       "\t<tr><td>China</td><td> 5549</td></tr>\n",
       "\t<tr><td>Sudan</td><td> 7658</td></tr>\n",
       "\t<tr><td>USA  </td><td> 2965</td></tr>\n",
       "\t<tr><td>China</td><td>19660</td></tr>\n",
       "\t<tr><td>Sudan</td><td> 5971</td></tr>\n",
       "</tbody>\n",
       "</table>\n"
      ],
      "text/latex": [
       "A data.frame: 9 × 2\n",
       "\\begin{tabular}{ll}\n",
       " country & gdp\\_pc\\\\\n",
       " <chr> & <dbl>\\\\\n",
       "\\hline\n",
       "\t USA   & 11197\\\\\n",
       "\t China & 12877\\\\\n",
       "\t Sudan &  2326\\\\\n",
       "\t USA   & 15058\\\\\n",
       "\t China &  5549\\\\\n",
       "\t Sudan &  7658\\\\\n",
       "\t USA   &  2965\\\\\n",
       "\t China & 19660\\\\\n",
       "\t Sudan &  5971\\\\\n",
       "\\end{tabular}\n"
      ],
      "text/markdown": [
       "\n",
       "A data.frame: 9 × 2\n",
       "\n",
       "| country &lt;chr&gt; | gdp_pc &lt;dbl&gt; |\n",
       "|---|---|\n",
       "| USA   | 11197 |\n",
       "| China | 12877 |\n",
       "| Sudan |  2326 |\n",
       "| USA   | 15058 |\n",
       "| China |  5549 |\n",
       "| Sudan |  7658 |\n",
       "| USA   |  2965 |\n",
       "| China | 19660 |\n",
       "| Sudan |  5971 |\n",
       "\n"
      ],
      "text/plain": [
       "  country gdp_pc\n",
       "1 USA     11197 \n",
       "2 China   12877 \n",
       "3 Sudan    2326 \n",
       "4 USA     15058 \n",
       "5 China    5549 \n",
       "6 Sudan    7658 \n",
       "7 USA      2965 \n",
       "8 China   19660 \n",
       "9 Sudan    5971 "
      ]
     },
     "metadata": {},
     "output_type": "display_data"
    }
   ],
   "source": [
    "countries[, c(\"country\", \"gdp_pc\")]"
   ]
  },
  {
   "cell_type": "markdown",
   "id": "2c2ab9f4",
   "metadata": {},
   "source": [
    "We can also select columns in dplyr `select()`:"
   ]
  },
  {
   "cell_type": "code",
   "execution_count": 14,
   "id": "78acfd80",
   "metadata": {},
   "outputs": [
    {
     "data": {
      "text/html": [
       "<table class=\"dataframe\">\n",
       "<caption>A data.frame: 9 × 2</caption>\n",
       "<thead>\n",
       "\t<tr><th scope=col>country</th><th scope=col>gdp_pc</th></tr>\n",
       "\t<tr><th scope=col>&lt;chr&gt;</th><th scope=col>&lt;dbl&gt;</th></tr>\n",
       "</thead>\n",
       "<tbody>\n",
       "\t<tr><td>USA  </td><td>11197</td></tr>\n",
       "\t<tr><td>China</td><td>12877</td></tr>\n",
       "\t<tr><td>Sudan</td><td> 2326</td></tr>\n",
       "\t<tr><td>USA  </td><td>15058</td></tr>\n",
       "\t<tr><td>China</td><td> 5549</td></tr>\n",
       "\t<tr><td>Sudan</td><td> 7658</td></tr>\n",
       "\t<tr><td>USA  </td><td> 2965</td></tr>\n",
       "\t<tr><td>China</td><td>19660</td></tr>\n",
       "\t<tr><td>Sudan</td><td> 5971</td></tr>\n",
       "</tbody>\n",
       "</table>\n"
      ],
      "text/latex": [
       "A data.frame: 9 × 2\n",
       "\\begin{tabular}{ll}\n",
       " country & gdp\\_pc\\\\\n",
       " <chr> & <dbl>\\\\\n",
       "\\hline\n",
       "\t USA   & 11197\\\\\n",
       "\t China & 12877\\\\\n",
       "\t Sudan &  2326\\\\\n",
       "\t USA   & 15058\\\\\n",
       "\t China &  5549\\\\\n",
       "\t Sudan &  7658\\\\\n",
       "\t USA   &  2965\\\\\n",
       "\t China & 19660\\\\\n",
       "\t Sudan &  5971\\\\\n",
       "\\end{tabular}\n"
      ],
      "text/markdown": [
       "\n",
       "A data.frame: 9 × 2\n",
       "\n",
       "| country &lt;chr&gt; | gdp_pc &lt;dbl&gt; |\n",
       "|---|---|\n",
       "| USA   | 11197 |\n",
       "| China | 12877 |\n",
       "| Sudan |  2326 |\n",
       "| USA   | 15058 |\n",
       "| China |  5549 |\n",
       "| Sudan |  7658 |\n",
       "| USA   |  2965 |\n",
       "| China | 19660 |\n",
       "| Sudan |  5971 |\n",
       "\n"
      ],
      "text/plain": [
       "  country gdp_pc\n",
       "1 USA     11197 \n",
       "2 China   12877 \n",
       "3 Sudan    2326 \n",
       "4 USA     15058 \n",
       "5 China    5549 \n",
       "6 Sudan    7658 \n",
       "7 USA      2965 \n",
       "8 China   19660 \n",
       "9 Sudan    5971 "
      ]
     },
     "metadata": {},
     "output_type": "display_data"
    }
   ],
   "source": [
    "# Keep country and GDP\n",
    "select(countries, country, gdp_pc)"
   ]
  },
  {
   "cell_type": "code",
   "execution_count": 15,
   "id": "f0f3b0ea",
   "metadata": {},
   "outputs": [
    {
     "data": {
      "text/html": [
       "<table class=\"dataframe\">\n",
       "<caption>A data.frame: 9 × 2</caption>\n",
       "<thead>\n",
       "\t<tr><th scope=col>country</th><th scope=col>gdp_pc</th></tr>\n",
       "\t<tr><th scope=col>&lt;chr&gt;</th><th scope=col>&lt;dbl&gt;</th></tr>\n",
       "</thead>\n",
       "<tbody>\n",
       "\t<tr><td>USA  </td><td>11197</td></tr>\n",
       "\t<tr><td>China</td><td>12877</td></tr>\n",
       "\t<tr><td>Sudan</td><td> 2326</td></tr>\n",
       "\t<tr><td>USA  </td><td>15058</td></tr>\n",
       "\t<tr><td>China</td><td> 5549</td></tr>\n",
       "\t<tr><td>Sudan</td><td> 7658</td></tr>\n",
       "\t<tr><td>USA  </td><td> 2965</td></tr>\n",
       "\t<tr><td>China</td><td>19660</td></tr>\n",
       "\t<tr><td>Sudan</td><td> 5971</td></tr>\n",
       "</tbody>\n",
       "</table>\n"
      ],
      "text/latex": [
       "A data.frame: 9 × 2\n",
       "\\begin{tabular}{ll}\n",
       " country & gdp\\_pc\\\\\n",
       " <chr> & <dbl>\\\\\n",
       "\\hline\n",
       "\t USA   & 11197\\\\\n",
       "\t China & 12877\\\\\n",
       "\t Sudan &  2326\\\\\n",
       "\t USA   & 15058\\\\\n",
       "\t China &  5549\\\\\n",
       "\t Sudan &  7658\\\\\n",
       "\t USA   &  2965\\\\\n",
       "\t China & 19660\\\\\n",
       "\t Sudan &  5971\\\\\n",
       "\\end{tabular}\n"
      ],
      "text/markdown": [
       "\n",
       "A data.frame: 9 × 2\n",
       "\n",
       "| country &lt;chr&gt; | gdp_pc &lt;dbl&gt; |\n",
       "|---|---|\n",
       "| USA   | 11197 |\n",
       "| China | 12877 |\n",
       "| Sudan |  2326 |\n",
       "| USA   | 15058 |\n",
       "| China |  5549 |\n",
       "| Sudan |  7658 |\n",
       "| USA   |  2965 |\n",
       "| China | 19660 |\n",
       "| Sudan |  5971 |\n",
       "\n"
      ],
      "text/plain": [
       "  country gdp_pc\n",
       "1 USA     11197 \n",
       "2 China   12877 \n",
       "3 Sudan    2326 \n",
       "4 USA     15058 \n",
       "5 China    5549 \n",
       "6 Sudan    7658 \n",
       "7 USA      2965 \n",
       "8 China   19660 \n",
       "9 Sudan    5971 "
      ]
     },
     "metadata": {},
     "output_type": "display_data"
    }
   ],
   "source": [
    "# Same thing using '-', implying you want to delete a variable\n",
    "select(countries, -year)"
   ]
  },
  {
   "cell_type": "code",
   "execution_count": 16,
   "id": "e77b47d2",
   "metadata": {},
   "outputs": [
    {
     "data": {
      "text/html": [
       "<table class=\"dataframe\">\n",
       "<caption>A data.frame: 9 × 2</caption>\n",
       "<thead>\n",
       "\t<tr><th scope=col>country_name</th><th scope=col>gdp_pc</th></tr>\n",
       "\t<tr><th scope=col>&lt;chr&gt;</th><th scope=col>&lt;dbl&gt;</th></tr>\n",
       "</thead>\n",
       "<tbody>\n",
       "\t<tr><td>USA  </td><td>11197</td></tr>\n",
       "\t<tr><td>China</td><td>12877</td></tr>\n",
       "\t<tr><td>Sudan</td><td> 2326</td></tr>\n",
       "\t<tr><td>USA  </td><td>15058</td></tr>\n",
       "\t<tr><td>China</td><td> 5549</td></tr>\n",
       "\t<tr><td>Sudan</td><td> 7658</td></tr>\n",
       "\t<tr><td>USA  </td><td> 2965</td></tr>\n",
       "\t<tr><td>China</td><td>19660</td></tr>\n",
       "\t<tr><td>Sudan</td><td> 5971</td></tr>\n",
       "</tbody>\n",
       "</table>\n"
      ],
      "text/latex": [
       "A data.frame: 9 × 2\n",
       "\\begin{tabular}{ll}\n",
       " country\\_name & gdp\\_pc\\\\\n",
       " <chr> & <dbl>\\\\\n",
       "\\hline\n",
       "\t USA   & 11197\\\\\n",
       "\t China & 12877\\\\\n",
       "\t Sudan &  2326\\\\\n",
       "\t USA   & 15058\\\\\n",
       "\t China &  5549\\\\\n",
       "\t Sudan &  7658\\\\\n",
       "\t USA   &  2965\\\\\n",
       "\t China & 19660\\\\\n",
       "\t Sudan &  5971\\\\\n",
       "\\end{tabular}\n"
      ],
      "text/markdown": [
       "\n",
       "A data.frame: 9 × 2\n",
       "\n",
       "| country_name &lt;chr&gt; | gdp_pc &lt;dbl&gt; |\n",
       "|---|---|\n",
       "| USA   | 11197 |\n",
       "| China | 12877 |\n",
       "| Sudan |  2326 |\n",
       "| USA   | 15058 |\n",
       "| China |  5549 |\n",
       "| Sudan |  7658 |\n",
       "| USA   |  2965 |\n",
       "| China | 19660 |\n",
       "| Sudan |  5971 |\n",
       "\n"
      ],
      "text/plain": [
       "  country_name gdp_pc\n",
       "1 USA          11197 \n",
       "2 China        12877 \n",
       "3 Sudan         2326 \n",
       "4 USA          15058 \n",
       "5 China         5549 \n",
       "6 Sudan         7658 \n",
       "7 USA           2965 \n",
       "8 China        19660 \n",
       "9 Sudan         5971 "
      ]
     },
     "metadata": {},
     "output_type": "display_data"
    }
   ],
   "source": [
    "# Selecting and renaming in one\n",
    "select(countries, country_name = country, gdp_pc)"
   ]
  },
  {
   "cell_type": "markdown",
   "id": "e68369a6",
   "metadata": {},
   "source": [
    "## Renaming\n",
    "\n",
    "\n",
    "As illustrated in the last line of code above you can rename variables\n",
    "using `select()`. But this can also be done using `rename()`:"
   ]
  },
  {
   "cell_type": "code",
   "execution_count": 17,
   "id": "1a757400",
   "metadata": {},
   "outputs": [
    {
     "data": {
      "text/html": [
       "<table class=\"dataframe\">\n",
       "<caption>A data.frame: 9 × 3</caption>\n",
       "<thead>\n",
       "\t<tr><th scope=col>country</th><th scope=col>year</th><th scope=col>GDP.PC</th></tr>\n",
       "\t<tr><th scope=col>&lt;chr&gt;</th><th scope=col>&lt;dbl&gt;</th><th scope=col>&lt;dbl&gt;</th></tr>\n",
       "</thead>\n",
       "<tbody>\n",
       "\t<tr><td>USA  </td><td>1994</td><td>11197</td></tr>\n",
       "\t<tr><td>China</td><td>1994</td><td>12877</td></tr>\n",
       "\t<tr><td>Sudan</td><td>1994</td><td> 2326</td></tr>\n",
       "\t<tr><td>USA  </td><td>1995</td><td>15058</td></tr>\n",
       "\t<tr><td>China</td><td>1995</td><td> 5549</td></tr>\n",
       "\t<tr><td>Sudan</td><td>1995</td><td> 7658</td></tr>\n",
       "\t<tr><td>USA  </td><td>1996</td><td> 2965</td></tr>\n",
       "\t<tr><td>China</td><td>1996</td><td>19660</td></tr>\n",
       "\t<tr><td>Sudan</td><td>1996</td><td> 5971</td></tr>\n",
       "</tbody>\n",
       "</table>\n"
      ],
      "text/latex": [
       "A data.frame: 9 × 3\n",
       "\\begin{tabular}{lll}\n",
       " country & year & GDP.PC\\\\\n",
       " <chr> & <dbl> & <dbl>\\\\\n",
       "\\hline\n",
       "\t USA   & 1994 & 11197\\\\\n",
       "\t China & 1994 & 12877\\\\\n",
       "\t Sudan & 1994 &  2326\\\\\n",
       "\t USA   & 1995 & 15058\\\\\n",
       "\t China & 1995 &  5549\\\\\n",
       "\t Sudan & 1995 &  7658\\\\\n",
       "\t USA   & 1996 &  2965\\\\\n",
       "\t China & 1996 & 19660\\\\\n",
       "\t Sudan & 1996 &  5971\\\\\n",
       "\\end{tabular}\n"
      ],
      "text/markdown": [
       "\n",
       "A data.frame: 9 × 3\n",
       "\n",
       "| country &lt;chr&gt; | year &lt;dbl&gt; | GDP.PC &lt;dbl&gt; |\n",
       "|---|---|---|\n",
       "| USA   | 1994 | 11197 |\n",
       "| China | 1994 | 12877 |\n",
       "| Sudan | 1994 |  2326 |\n",
       "| USA   | 1995 | 15058 |\n",
       "| China | 1995 |  5549 |\n",
       "| Sudan | 1995 |  7658 |\n",
       "| USA   | 1996 |  2965 |\n",
       "| China | 1996 | 19660 |\n",
       "| Sudan | 1996 |  5971 |\n",
       "\n"
      ],
      "text/plain": [
       "  country year GDP.PC\n",
       "1 USA     1994 11197 \n",
       "2 China   1994 12877 \n",
       "3 Sudan   1994  2326 \n",
       "4 USA     1995 15058 \n",
       "5 China   1995  5549 \n",
       "6 Sudan   1995  7658 \n",
       "7 USA     1996  2965 \n",
       "8 China   1996 19660 \n",
       "9 Sudan   1996  5971 "
      ]
     },
     "metadata": {},
     "output_type": "display_data"
    }
   ],
   "source": [
    "# Rename GDP per capita\n",
    "rename(countries, GDP.PC = gdp_pc)"
   ]
  },
  {
   "cell_type": "markdown",
   "id": "0827c436",
   "metadata": {},
   "source": [
    "## New variables \n",
    "\n",
    "In our last reading, we saw how we could create new variables by pulling out a column, modifying it, and re-inserting it. For example, if we wanted GDP per capita in 1000s instead of in dollars, we could do:"
   ]
  },
  {
   "cell_type": "code",
   "execution_count": 18,
   "id": "0b047ac9",
   "metadata": {},
   "outputs": [
    {
     "data": {
      "text/html": [
       "<table class=\"dataframe\">\n",
       "<caption>A data.frame: 9 × 4</caption>\n",
       "<thead>\n",
       "\t<tr><th scope=col>country</th><th scope=col>year</th><th scope=col>gdp_pc</th><th scope=col>gdp_pc_in_1000s</th></tr>\n",
       "\t<tr><th scope=col>&lt;chr&gt;</th><th scope=col>&lt;dbl&gt;</th><th scope=col>&lt;dbl&gt;</th><th scope=col>&lt;dbl&gt;</th></tr>\n",
       "</thead>\n",
       "<tbody>\n",
       "\t<tr><td>USA  </td><td>1994</td><td>11197</td><td>11.197</td></tr>\n",
       "\t<tr><td>China</td><td>1994</td><td>12877</td><td>12.877</td></tr>\n",
       "\t<tr><td>Sudan</td><td>1994</td><td> 2326</td><td> 2.326</td></tr>\n",
       "\t<tr><td>USA  </td><td>1995</td><td>15058</td><td>15.058</td></tr>\n",
       "\t<tr><td>China</td><td>1995</td><td> 5549</td><td> 5.549</td></tr>\n",
       "\t<tr><td>Sudan</td><td>1995</td><td> 7658</td><td> 7.658</td></tr>\n",
       "\t<tr><td>USA  </td><td>1996</td><td> 2965</td><td> 2.965</td></tr>\n",
       "\t<tr><td>China</td><td>1996</td><td>19660</td><td>19.660</td></tr>\n",
       "\t<tr><td>Sudan</td><td>1996</td><td> 5971</td><td> 5.971</td></tr>\n",
       "</tbody>\n",
       "</table>\n"
      ],
      "text/latex": [
       "A data.frame: 9 × 4\n",
       "\\begin{tabular}{llll}\n",
       " country & year & gdp\\_pc & gdp\\_pc\\_in\\_1000s\\\\\n",
       " <chr> & <dbl> & <dbl> & <dbl>\\\\\n",
       "\\hline\n",
       "\t USA   & 1994 & 11197 & 11.197\\\\\n",
       "\t China & 1994 & 12877 & 12.877\\\\\n",
       "\t Sudan & 1994 &  2326 &  2.326\\\\\n",
       "\t USA   & 1995 & 15058 & 15.058\\\\\n",
       "\t China & 1995 &  5549 &  5.549\\\\\n",
       "\t Sudan & 1995 &  7658 &  7.658\\\\\n",
       "\t USA   & 1996 &  2965 &  2.965\\\\\n",
       "\t China & 1996 & 19660 & 19.660\\\\\n",
       "\t Sudan & 1996 &  5971 &  5.971\\\\\n",
       "\\end{tabular}\n"
      ],
      "text/markdown": [
       "\n",
       "A data.frame: 9 × 4\n",
       "\n",
       "| country &lt;chr&gt; | year &lt;dbl&gt; | gdp_pc &lt;dbl&gt; | gdp_pc_in_1000s &lt;dbl&gt; |\n",
       "|---|---|---|---|\n",
       "| USA   | 1994 | 11197 | 11.197 |\n",
       "| China | 1994 | 12877 | 12.877 |\n",
       "| Sudan | 1994 |  2326 |  2.326 |\n",
       "| USA   | 1995 | 15058 | 15.058 |\n",
       "| China | 1995 |  5549 |  5.549 |\n",
       "| Sudan | 1995 |  7658 |  7.658 |\n",
       "| USA   | 1996 |  2965 |  2.965 |\n",
       "| China | 1996 | 19660 | 19.660 |\n",
       "| Sudan | 1996 |  5971 |  5.971 |\n",
       "\n"
      ],
      "text/plain": [
       "  country year gdp_pc gdp_pc_in_1000s\n",
       "1 USA     1994 11197  11.197         \n",
       "2 China   1994 12877  12.877         \n",
       "3 Sudan   1994  2326   2.326         \n",
       "4 USA     1995 15058  15.058         \n",
       "5 China   1995  5549   5.549         \n",
       "6 Sudan   1995  7658   7.658         \n",
       "7 USA     1996  2965   2.965         \n",
       "8 China   1996 19660  19.660         \n",
       "9 Sudan   1996  5971   5.971         "
      ]
     },
     "metadata": {},
     "output_type": "display_data"
    }
   ],
   "source": [
    "countries$gdp_pc_in_1000s <- countries$gdp_pc / 1000\n",
    "countries"
   ]
  },
  {
   "cell_type": "markdown",
   "id": "978066d8",
   "metadata": {},
   "source": [
    "In `dplyr` one uses `mutate()`:"
   ]
  },
  {
   "cell_type": "code",
   "execution_count": 19,
   "id": "39ef2d26",
   "metadata": {},
   "outputs": [
    {
     "data": {
      "text/html": [
       "<table class=\"dataframe\">\n",
       "<caption>A data.frame: 9 × 5</caption>\n",
       "<thead>\n",
       "\t<tr><th scope=col>country</th><th scope=col>year</th><th scope=col>gdp_pc</th><th scope=col>gdp_pc_in_1000s</th><th scope=col>gdppc_1k</th></tr>\n",
       "\t<tr><th scope=col>&lt;chr&gt;</th><th scope=col>&lt;dbl&gt;</th><th scope=col>&lt;dbl&gt;</th><th scope=col>&lt;dbl&gt;</th><th scope=col>&lt;dbl&gt;</th></tr>\n",
       "</thead>\n",
       "<tbody>\n",
       "\t<tr><td>USA  </td><td>1994</td><td>11197</td><td>11.197</td><td>11.197</td></tr>\n",
       "\t<tr><td>China</td><td>1994</td><td>12877</td><td>12.877</td><td>12.877</td></tr>\n",
       "\t<tr><td>Sudan</td><td>1994</td><td> 2326</td><td> 2.326</td><td> 2.326</td></tr>\n",
       "\t<tr><td>USA  </td><td>1995</td><td>15058</td><td>15.058</td><td>15.058</td></tr>\n",
       "\t<tr><td>China</td><td>1995</td><td> 5549</td><td> 5.549</td><td> 5.549</td></tr>\n",
       "\t<tr><td>Sudan</td><td>1995</td><td> 7658</td><td> 7.658</td><td> 7.658</td></tr>\n",
       "\t<tr><td>USA  </td><td>1996</td><td> 2965</td><td> 2.965</td><td> 2.965</td></tr>\n",
       "\t<tr><td>China</td><td>1996</td><td>19660</td><td>19.660</td><td>19.660</td></tr>\n",
       "\t<tr><td>Sudan</td><td>1996</td><td> 5971</td><td> 5.971</td><td> 5.971</td></tr>\n",
       "</tbody>\n",
       "</table>\n"
      ],
      "text/latex": [
       "A data.frame: 9 × 5\n",
       "\\begin{tabular}{lllll}\n",
       " country & year & gdp\\_pc & gdp\\_pc\\_in\\_1000s & gdppc\\_1k\\\\\n",
       " <chr> & <dbl> & <dbl> & <dbl> & <dbl>\\\\\n",
       "\\hline\n",
       "\t USA   & 1994 & 11197 & 11.197 & 11.197\\\\\n",
       "\t China & 1994 & 12877 & 12.877 & 12.877\\\\\n",
       "\t Sudan & 1994 &  2326 &  2.326 &  2.326\\\\\n",
       "\t USA   & 1995 & 15058 & 15.058 & 15.058\\\\\n",
       "\t China & 1995 &  5549 &  5.549 &  5.549\\\\\n",
       "\t Sudan & 1995 &  7658 &  7.658 &  7.658\\\\\n",
       "\t USA   & 1996 &  2965 &  2.965 &  2.965\\\\\n",
       "\t China & 1996 & 19660 & 19.660 & 19.660\\\\\n",
       "\t Sudan & 1996 &  5971 &  5.971 &  5.971\\\\\n",
       "\\end{tabular}\n"
      ],
      "text/markdown": [
       "\n",
       "A data.frame: 9 × 5\n",
       "\n",
       "| country &lt;chr&gt; | year &lt;dbl&gt; | gdp_pc &lt;dbl&gt; | gdp_pc_in_1000s &lt;dbl&gt; | gdppc_1k &lt;dbl&gt; |\n",
       "|---|---|---|---|---|\n",
       "| USA   | 1994 | 11197 | 11.197 | 11.197 |\n",
       "| China | 1994 | 12877 | 12.877 | 12.877 |\n",
       "| Sudan | 1994 |  2326 |  2.326 |  2.326 |\n",
       "| USA   | 1995 | 15058 | 15.058 | 15.058 |\n",
       "| China | 1995 |  5549 |  5.549 |  5.549 |\n",
       "| Sudan | 1995 |  7658 |  7.658 |  7.658 |\n",
       "| USA   | 1996 |  2965 |  2.965 |  2.965 |\n",
       "| China | 1996 | 19660 | 19.660 | 19.660 |\n",
       "| Sudan | 1996 |  5971 |  5.971 |  5.971 |\n",
       "\n"
      ],
      "text/plain": [
       "  country year gdp_pc gdp_pc_in_1000s gdppc_1k\n",
       "1 USA     1994 11197  11.197          11.197  \n",
       "2 China   1994 12877  12.877          12.877  \n",
       "3 Sudan   1994  2326   2.326           2.326  \n",
       "4 USA     1995 15058  15.058          15.058  \n",
       "5 China   1995  5549   5.549           5.549  \n",
       "6 Sudan   1995  7658   7.658           7.658  \n",
       "7 USA     1996  2965   2.965           2.965  \n",
       "8 China   1996 19660  19.660          19.660  \n",
       "9 Sudan   1996  5971   5.971           5.971  "
      ]
     },
     "metadata": {},
     "output_type": "display_data"
    }
   ],
   "source": [
    "# Create a new variable that has GDP per capita in 1000s\n",
    "mutate(countries, gdppc_1k = gdp_pc / 1000)"
   ]
  },
  {
   "cell_type": "code",
   "execution_count": 25,
   "id": "5a4df7b7",
   "metadata": {},
   "outputs": [
    {
     "data": {
      "text/html": [
       "<table class=\"dataframe\">\n",
       "<caption>A data.frame: 9 × 5</caption>\n",
       "<thead>\n",
       "\t<tr><th scope=col>country</th><th scope=col>year</th><th scope=col>gdp_pc</th><th scope=col>gdp_pc_in_1000s</th><th scope=col>country_lc</th></tr>\n",
       "\t<tr><th scope=col>&lt;chr&gt;</th><th scope=col>&lt;dbl&gt;</th><th scope=col>&lt;dbl&gt;</th><th scope=col>&lt;dbl&gt;</th><th scope=col>&lt;chr&gt;</th></tr>\n",
       "</thead>\n",
       "<tbody>\n",
       "\t<tr><td>USA  </td><td>1994</td><td>11197</td><td>11.197</td><td>usa  </td></tr>\n",
       "\t<tr><td>China</td><td>1994</td><td>12877</td><td>12.877</td><td>china</td></tr>\n",
       "\t<tr><td>Sudan</td><td>1994</td><td> 2326</td><td> 2.326</td><td>sudan</td></tr>\n",
       "\t<tr><td>USA  </td><td>1995</td><td>15058</td><td>15.058</td><td>usa  </td></tr>\n",
       "\t<tr><td>China</td><td>1995</td><td> 5549</td><td> 5.549</td><td>china</td></tr>\n",
       "\t<tr><td>Sudan</td><td>1995</td><td> 7658</td><td> 7.658</td><td>sudan</td></tr>\n",
       "\t<tr><td>USA  </td><td>1996</td><td> 2965</td><td> 2.965</td><td>usa  </td></tr>\n",
       "\t<tr><td>China</td><td>1996</td><td>19660</td><td>19.660</td><td>china</td></tr>\n",
       "\t<tr><td>Sudan</td><td>1996</td><td> 5971</td><td> 5.971</td><td>sudan</td></tr>\n",
       "</tbody>\n",
       "</table>\n"
      ],
      "text/latex": [
       "A data.frame: 9 × 5\n",
       "\\begin{tabular}{lllll}\n",
       " country & year & gdp\\_pc & gdp\\_pc\\_in\\_1000s & country\\_lc\\\\\n",
       " <chr> & <dbl> & <dbl> & <dbl> & <chr>\\\\\n",
       "\\hline\n",
       "\t USA   & 1994 & 11197 & 11.197 & usa  \\\\\n",
       "\t China & 1994 & 12877 & 12.877 & china\\\\\n",
       "\t Sudan & 1994 &  2326 &  2.326 & sudan\\\\\n",
       "\t USA   & 1995 & 15058 & 15.058 & usa  \\\\\n",
       "\t China & 1995 &  5549 &  5.549 & china\\\\\n",
       "\t Sudan & 1995 &  7658 &  7.658 & sudan\\\\\n",
       "\t USA   & 1996 &  2965 &  2.965 & usa  \\\\\n",
       "\t China & 1996 & 19660 & 19.660 & china\\\\\n",
       "\t Sudan & 1996 &  5971 &  5.971 & sudan\\\\\n",
       "\\end{tabular}\n"
      ],
      "text/markdown": [
       "\n",
       "A data.frame: 9 × 5\n",
       "\n",
       "| country &lt;chr&gt; | year &lt;dbl&gt; | gdp_pc &lt;dbl&gt; | gdp_pc_in_1000s &lt;dbl&gt; | country_lc &lt;chr&gt; |\n",
       "|---|---|---|---|---|\n",
       "| USA   | 1994 | 11197 | 11.197 | usa   |\n",
       "| China | 1994 | 12877 | 12.877 | china |\n",
       "| Sudan | 1994 |  2326 |  2.326 | sudan |\n",
       "| USA   | 1995 | 15058 | 15.058 | usa   |\n",
       "| China | 1995 |  5549 |  5.549 | china |\n",
       "| Sudan | 1995 |  7658 |  7.658 | sudan |\n",
       "| USA   | 1996 |  2965 |  2.965 | usa   |\n",
       "| China | 1996 | 19660 | 19.660 | china |\n",
       "| Sudan | 1996 |  5971 |  5.971 | sudan |\n",
       "\n"
      ],
      "text/plain": [
       "  country year gdp_pc gdp_pc_in_1000s country_lc\n",
       "1 USA     1994 11197  11.197          usa       \n",
       "2 China   1994 12877  12.877          china     \n",
       "3 Sudan   1994  2326   2.326          sudan     \n",
       "4 USA     1995 15058  15.058          usa       \n",
       "5 China   1995  5549   5.549          china     \n",
       "6 Sudan   1995  7658   7.658          sudan     \n",
       "7 USA     1996  2965   2.965          usa       \n",
       "8 China   1996 19660  19.660          china     \n",
       "9 Sudan   1996  5971   5.971          sudan     "
      ]
     },
     "metadata": {},
     "output_type": "display_data"
    }
   ],
   "source": [
    "# Create a new variable with lower-case country names\n",
    "mutate(countries, country_lc = tolower(country))"
   ]
  },
  {
   "cell_type": "code",
   "execution_count": 29,
   "id": "d166d596",
   "metadata": {},
   "outputs": [
    {
     "data": {
      "text/html": [
       "<table class=\"dataframe\">\n",
       "<caption>A data.frame: 9 × 6</caption>\n",
       "<thead>\n",
       "\t<tr><th scope=col>country</th><th scope=col>year</th><th scope=col>gdp_pc</th><th scope=col>gdp_pc_in_1000s</th><th scope=col>gdppc_1k</th><th scope=col>country_lc</th></tr>\n",
       "\t<tr><th scope=col>&lt;chr&gt;</th><th scope=col>&lt;dbl&gt;</th><th scope=col>&lt;dbl&gt;</th><th scope=col>&lt;dbl&gt;</th><th scope=col>&lt;dbl&gt;</th><th scope=col>&lt;chr&gt;</th></tr>\n",
       "</thead>\n",
       "<tbody>\n",
       "\t<tr><td>USA  </td><td>1994</td><td>11197</td><td>11.197</td><td>11.197</td><td>usa  </td></tr>\n",
       "\t<tr><td>China</td><td>1994</td><td>12877</td><td>12.877</td><td>12.877</td><td>china</td></tr>\n",
       "\t<tr><td>Sudan</td><td>1994</td><td> 2326</td><td> 2.326</td><td> 2.326</td><td>sudan</td></tr>\n",
       "\t<tr><td>USA  </td><td>1995</td><td>15058</td><td>15.058</td><td>15.058</td><td>usa  </td></tr>\n",
       "\t<tr><td>China</td><td>1995</td><td> 5549</td><td> 5.549</td><td> 5.549</td><td>china</td></tr>\n",
       "\t<tr><td>Sudan</td><td>1995</td><td> 7658</td><td> 7.658</td><td> 7.658</td><td>sudan</td></tr>\n",
       "\t<tr><td>USA  </td><td>1996</td><td> 2965</td><td> 2.965</td><td> 2.965</td><td>usa  </td></tr>\n",
       "\t<tr><td>China</td><td>1996</td><td>19660</td><td>19.660</td><td>19.660</td><td>china</td></tr>\n",
       "\t<tr><td>Sudan</td><td>1996</td><td> 5971</td><td> 5.971</td><td> 5.971</td><td>sudan</td></tr>\n",
       "</tbody>\n",
       "</table>\n"
      ],
      "text/latex": [
       "A data.frame: 9 × 6\n",
       "\\begin{tabular}{llllll}\n",
       " country & year & gdp\\_pc & gdp\\_pc\\_in\\_1000s & gdppc\\_1k & country\\_lc\\\\\n",
       " <chr> & <dbl> & <dbl> & <dbl> & <dbl> & <chr>\\\\\n",
       "\\hline\n",
       "\t USA   & 1994 & 11197 & 11.197 & 11.197 & usa  \\\\\n",
       "\t China & 1994 & 12877 & 12.877 & 12.877 & china\\\\\n",
       "\t Sudan & 1994 &  2326 &  2.326 &  2.326 & sudan\\\\\n",
       "\t USA   & 1995 & 15058 & 15.058 & 15.058 & usa  \\\\\n",
       "\t China & 1995 &  5549 &  5.549 &  5.549 & china\\\\\n",
       "\t Sudan & 1995 &  7658 &  7.658 &  7.658 & sudan\\\\\n",
       "\t USA   & 1996 &  2965 &  2.965 &  2.965 & usa  \\\\\n",
       "\t China & 1996 & 19660 & 19.660 & 19.660 & china\\\\\n",
       "\t Sudan & 1996 &  5971 &  5.971 &  5.971 & sudan\\\\\n",
       "\\end{tabular}\n"
      ],
      "text/markdown": [
       "\n",
       "A data.frame: 9 × 6\n",
       "\n",
       "| country &lt;chr&gt; | year &lt;dbl&gt; | gdp_pc &lt;dbl&gt; | gdp_pc_in_1000s &lt;dbl&gt; | gdppc_1k &lt;dbl&gt; | country_lc &lt;chr&gt; |\n",
       "|---|---|---|---|---|---|\n",
       "| USA   | 1994 | 11197 | 11.197 | 11.197 | usa   |\n",
       "| China | 1994 | 12877 | 12.877 | 12.877 | china |\n",
       "| Sudan | 1994 |  2326 |  2.326 |  2.326 | sudan |\n",
       "| USA   | 1995 | 15058 | 15.058 | 15.058 | usa   |\n",
       "| China | 1995 |  5549 |  5.549 |  5.549 | china |\n",
       "| Sudan | 1995 |  7658 |  7.658 |  7.658 | sudan |\n",
       "| USA   | 1996 |  2965 |  2.965 |  2.965 | usa   |\n",
       "| China | 1996 | 19660 | 19.660 | 19.660 | china |\n",
       "| Sudan | 1996 |  5971 |  5.971 |  5.971 | sudan |\n",
       "\n"
      ],
      "text/plain": [
       "  country year gdp_pc gdp_pc_in_1000s gdppc_1k country_lc\n",
       "1 USA     1994 11197  11.197          11.197   usa       \n",
       "2 China   1994 12877  12.877          12.877   china     \n",
       "3 Sudan   1994  2326   2.326           2.326   sudan     \n",
       "4 USA     1995 15058  15.058          15.058   usa       \n",
       "5 China   1995  5549   5.549           5.549   china     \n",
       "6 Sudan   1995  7658   7.658           7.658   sudan     \n",
       "7 USA     1996  2965   2.965           2.965   usa       \n",
       "8 China   1996 19660  19.660          19.660   china     \n",
       "9 Sudan   1996  5971   5.971           5.971   sudan     "
      ]
     },
     "metadata": {},
     "output_type": "display_data"
    }
   ],
   "source": [
    "# Both in one statement\n",
    "mutate(countries, gdppc_1k = gdp_pc / 1000,\n",
    "                    country_lc = tolower(country))"
   ]
  },
  {
   "cell_type": "markdown",
   "id": "b6fc3428",
   "metadata": {},
   "source": [
    "A lot of times it makes more sense to just overwrite an\n",
    "existing variable rather than adding a variable."
   ]
  },
  {
   "cell_type": "code",
   "execution_count": 22,
   "id": "f5b47fcf",
   "metadata": {},
   "outputs": [
    {
     "data": {
      "text/html": [
       "<table class=\"dataframe\">\n",
       "<caption>A data.frame: 9 × 4</caption>\n",
       "<thead>\n",
       "\t<tr><th scope=col>country</th><th scope=col>year</th><th scope=col>gdp_pc</th><th scope=col>gdp_pc_in_1000s</th></tr>\n",
       "\t<tr><th scope=col>&lt;chr&gt;</th><th scope=col>&lt;dbl&gt;</th><th scope=col>&lt;dbl&gt;</th><th scope=col>&lt;dbl&gt;</th></tr>\n",
       "</thead>\n",
       "<tbody>\n",
       "\t<tr><td>usa  </td><td>1994</td><td>11197</td><td>11.197</td></tr>\n",
       "\t<tr><td>china</td><td>1994</td><td>12877</td><td>12.877</td></tr>\n",
       "\t<tr><td>sudan</td><td>1994</td><td> 2326</td><td> 2.326</td></tr>\n",
       "\t<tr><td>usa  </td><td>1995</td><td>15058</td><td>15.058</td></tr>\n",
       "\t<tr><td>china</td><td>1995</td><td> 5549</td><td> 5.549</td></tr>\n",
       "\t<tr><td>sudan</td><td>1995</td><td> 7658</td><td> 7.658</td></tr>\n",
       "\t<tr><td>usa  </td><td>1996</td><td> 2965</td><td> 2.965</td></tr>\n",
       "\t<tr><td>china</td><td>1996</td><td>19660</td><td>19.660</td></tr>\n",
       "\t<tr><td>sudan</td><td>1996</td><td> 5971</td><td> 5.971</td></tr>\n",
       "</tbody>\n",
       "</table>\n"
      ],
      "text/latex": [
       "A data.frame: 9 × 4\n",
       "\\begin{tabular}{llll}\n",
       " country & year & gdp\\_pc & gdp\\_pc\\_in\\_1000s\\\\\n",
       " <chr> & <dbl> & <dbl> & <dbl>\\\\\n",
       "\\hline\n",
       "\t usa   & 1994 & 11197 & 11.197\\\\\n",
       "\t china & 1994 & 12877 & 12.877\\\\\n",
       "\t sudan & 1994 &  2326 &  2.326\\\\\n",
       "\t usa   & 1995 & 15058 & 15.058\\\\\n",
       "\t china & 1995 &  5549 &  5.549\\\\\n",
       "\t sudan & 1995 &  7658 &  7.658\\\\\n",
       "\t usa   & 1996 &  2965 &  2.965\\\\\n",
       "\t china & 1996 & 19660 & 19.660\\\\\n",
       "\t sudan & 1996 &  5971 &  5.971\\\\\n",
       "\\end{tabular}\n"
      ],
      "text/markdown": [
       "\n",
       "A data.frame: 9 × 4\n",
       "\n",
       "| country &lt;chr&gt; | year &lt;dbl&gt; | gdp_pc &lt;dbl&gt; | gdp_pc_in_1000s &lt;dbl&gt; |\n",
       "|---|---|---|---|\n",
       "| usa   | 1994 | 11197 | 11.197 |\n",
       "| china | 1994 | 12877 | 12.877 |\n",
       "| sudan | 1994 |  2326 |  2.326 |\n",
       "| usa   | 1995 | 15058 | 15.058 |\n",
       "| china | 1995 |  5549 |  5.549 |\n",
       "| sudan | 1995 |  7658 |  7.658 |\n",
       "| usa   | 1996 |  2965 |  2.965 |\n",
       "| china | 1996 | 19660 | 19.660 |\n",
       "| sudan | 1996 |  5971 |  5.971 |\n",
       "\n"
      ],
      "text/plain": [
       "  country year gdp_pc gdp_pc_in_1000s\n",
       "1 usa     1994 11197  11.197         \n",
       "2 china   1994 12877  12.877         \n",
       "3 sudan   1994  2326   2.326         \n",
       "4 usa     1995 15058  15.058         \n",
       "5 china   1995  5549   5.549         \n",
       "6 sudan   1995  7658   7.658         \n",
       "7 usa     1996  2965   2.965         \n",
       "8 china   1996 19660  19.660         \n",
       "9 sudan   1996  5971   5.971         "
      ]
     },
     "metadata": {},
     "output_type": "display_data"
    }
   ],
   "source": [
    "mutate(countries, country = tolower(country))"
   ]
  },
  {
   "cell_type": "markdown",
   "id": "6af09331",
   "metadata": {},
   "source": [
    "## Chaining\n",
    "\n",
    "The last feature of dplyr to be aware of is *chaining*. Chaining is a way of combining commands to make code more concise. Basically, you use the command `%>%` to tell R to take the result of one function and make it the first argument in the next. \n",
    "\n",
    "For example, rather than writing: \n",
    "\n",
    "```r\n",
    "mutate(countries, country = tolower(country))\n",
    "```\n",
    "\n",
    "you can write:\n",
    "\n",
    "```r\n",
    "countries %>% mutate(country = tolower(country))\n",
    "```\n",
    "\n",
    "Where `countries` is understood to be the first argument for `mutate`. \n",
    "\n",
    "Obviously this isn't very efficient with only one command, but it can be used with a long series of commands:"
   ]
  },
  {
   "cell_type": "markdown",
   "id": "5c7b23a5",
   "metadata": {},
   "source": [
    "Suppose we wanted to use `countries` to create a new data frame called `countries_new`, which should have observations from years 1995 and 1996 (dropping 1994), should be sorted by country name (in lower case), and should have a new variable equal to GDP per capita in 1000s.\n",
    "\n",
    "Here's how we could do this *without* chaining: "
   ]
  },
  {
   "cell_type": "code",
   "execution_count": 27,
   "id": "2594773d",
   "metadata": {},
   "outputs": [
    {
     "data": {
      "text/html": [
       "<table class=\"dataframe\">\n",
       "<caption>A data.frame: 6 × 5</caption>\n",
       "<thead>\n",
       "\t<tr><th scope=col>country</th><th scope=col>year</th><th scope=col>gdp_pc</th><th scope=col>gdp_pc_in_1000s</th><th scope=col>gdppc_1k</th></tr>\n",
       "\t<tr><th scope=col>&lt;chr&gt;</th><th scope=col>&lt;dbl&gt;</th><th scope=col>&lt;dbl&gt;</th><th scope=col>&lt;dbl&gt;</th><th scope=col>&lt;dbl&gt;</th></tr>\n",
       "</thead>\n",
       "<tbody>\n",
       "\t<tr><td>china</td><td>1995</td><td> 5549</td><td> 5.549</td><td> 5.549</td></tr>\n",
       "\t<tr><td>china</td><td>1996</td><td>19660</td><td>19.660</td><td>19.660</td></tr>\n",
       "\t<tr><td>sudan</td><td>1995</td><td> 7658</td><td> 7.658</td><td> 7.658</td></tr>\n",
       "\t<tr><td>sudan</td><td>1996</td><td> 5971</td><td> 5.971</td><td> 5.971</td></tr>\n",
       "\t<tr><td>usa  </td><td>1995</td><td>15058</td><td>15.058</td><td>15.058</td></tr>\n",
       "\t<tr><td>usa  </td><td>1996</td><td> 2965</td><td> 2.965</td><td> 2.965</td></tr>\n",
       "</tbody>\n",
       "</table>\n"
      ],
      "text/latex": [
       "A data.frame: 6 × 5\n",
       "\\begin{tabular}{lllll}\n",
       " country & year & gdp\\_pc & gdp\\_pc\\_in\\_1000s & gdppc\\_1k\\\\\n",
       " <chr> & <dbl> & <dbl> & <dbl> & <dbl>\\\\\n",
       "\\hline\n",
       "\t china & 1995 &  5549 &  5.549 &  5.549\\\\\n",
       "\t china & 1996 & 19660 & 19.660 & 19.660\\\\\n",
       "\t sudan & 1995 &  7658 &  7.658 &  7.658\\\\\n",
       "\t sudan & 1996 &  5971 &  5.971 &  5.971\\\\\n",
       "\t usa   & 1995 & 15058 & 15.058 & 15.058\\\\\n",
       "\t usa   & 1996 &  2965 &  2.965 &  2.965\\\\\n",
       "\\end{tabular}\n"
      ],
      "text/markdown": [
       "\n",
       "A data.frame: 6 × 5\n",
       "\n",
       "| country &lt;chr&gt; | year &lt;dbl&gt; | gdp_pc &lt;dbl&gt; | gdp_pc_in_1000s &lt;dbl&gt; | gdppc_1k &lt;dbl&gt; |\n",
       "|---|---|---|---|---|\n",
       "| china | 1995 |  5549 |  5.549 |  5.549 |\n",
       "| china | 1996 | 19660 | 19.660 | 19.660 |\n",
       "| sudan | 1995 |  7658 |  7.658 |  7.658 |\n",
       "| sudan | 1996 |  5971 |  5.971 |  5.971 |\n",
       "| usa   | 1995 | 15058 | 15.058 | 15.058 |\n",
       "| usa   | 1996 |  2965 |  2.965 |  2.965 |\n",
       "\n"
      ],
      "text/plain": [
       "  country year gdp_pc gdp_pc_in_1000s gdppc_1k\n",
       "1 china   1995  5549   5.549           5.549  \n",
       "2 china   1996 19660  19.660          19.660  \n",
       "3 sudan   1995  7658   7.658           7.658  \n",
       "4 sudan   1996  5971   5.971           5.971  \n",
       "5 usa     1995 15058  15.058          15.058  \n",
       "6 usa     1996  2965   2.965           2.965  "
      ]
     },
     "metadata": {},
     "output_type": "display_data"
    }
   ],
   "source": [
    "countries_new <- filter(countries, year != 1994) #drop year 1994\n",
    "countries_new <- arrange(countries_new, country) #sort by country names\n",
    "countries_new <- mutate(countries_new, country = tolower(country), #convert name to lower-case\n",
    "                        gdppc_1k = gdp_pc / 1000) #create GDP pc in 1000s\n",
    "countries_new"
   ]
  },
  {
   "cell_type": "markdown",
   "id": "54b47143",
   "metadata": {},
   "source": [
    "Here's the same thing using chaining: "
   ]
  },
  {
   "cell_type": "code",
   "execution_count": 28,
   "id": "dcbf8b6f",
   "metadata": {},
   "outputs": [
    {
     "data": {
      "text/html": [
       "<table class=\"dataframe\">\n",
       "<caption>A data.frame: 6 × 5</caption>\n",
       "<thead>\n",
       "\t<tr><th scope=col>country</th><th scope=col>year</th><th scope=col>gdp_pc</th><th scope=col>gdp_pc_in_1000s</th><th scope=col>gdppc_1k</th></tr>\n",
       "\t<tr><th scope=col>&lt;chr&gt;</th><th scope=col>&lt;dbl&gt;</th><th scope=col>&lt;dbl&gt;</th><th scope=col>&lt;dbl&gt;</th><th scope=col>&lt;dbl&gt;</th></tr>\n",
       "</thead>\n",
       "<tbody>\n",
       "\t<tr><td>china</td><td>1995</td><td> 5549</td><td> 5.549</td><td> 5.549</td></tr>\n",
       "\t<tr><td>china</td><td>1996</td><td>19660</td><td>19.660</td><td>19.660</td></tr>\n",
       "\t<tr><td>sudan</td><td>1995</td><td> 7658</td><td> 7.658</td><td> 7.658</td></tr>\n",
       "\t<tr><td>sudan</td><td>1996</td><td> 5971</td><td> 5.971</td><td> 5.971</td></tr>\n",
       "\t<tr><td>usa  </td><td>1995</td><td>15058</td><td>15.058</td><td>15.058</td></tr>\n",
       "\t<tr><td>usa  </td><td>1996</td><td> 2965</td><td> 2.965</td><td> 2.965</td></tr>\n",
       "</tbody>\n",
       "</table>\n"
      ],
      "text/latex": [
       "A data.frame: 6 × 5\n",
       "\\begin{tabular}{lllll}\n",
       " country & year & gdp\\_pc & gdp\\_pc\\_in\\_1000s & gdppc\\_1k\\\\\n",
       " <chr> & <dbl> & <dbl> & <dbl> & <dbl>\\\\\n",
       "\\hline\n",
       "\t china & 1995 &  5549 &  5.549 &  5.549\\\\\n",
       "\t china & 1996 & 19660 & 19.660 & 19.660\\\\\n",
       "\t sudan & 1995 &  7658 &  7.658 &  7.658\\\\\n",
       "\t sudan & 1996 &  5971 &  5.971 &  5.971\\\\\n",
       "\t usa   & 1995 & 15058 & 15.058 & 15.058\\\\\n",
       "\t usa   & 1996 &  2965 &  2.965 &  2.965\\\\\n",
       "\\end{tabular}\n"
      ],
      "text/markdown": [
       "\n",
       "A data.frame: 6 × 5\n",
       "\n",
       "| country &lt;chr&gt; | year &lt;dbl&gt; | gdp_pc &lt;dbl&gt; | gdp_pc_in_1000s &lt;dbl&gt; | gdppc_1k &lt;dbl&gt; |\n",
       "|---|---|---|---|---|\n",
       "| china | 1995 |  5549 |  5.549 |  5.549 |\n",
       "| china | 1996 | 19660 | 19.660 | 19.660 |\n",
       "| sudan | 1995 |  7658 |  7.658 |  7.658 |\n",
       "| sudan | 1996 |  5971 |  5.971 |  5.971 |\n",
       "| usa   | 1995 | 15058 | 15.058 | 15.058 |\n",
       "| usa   | 1996 |  2965 |  2.965 |  2.965 |\n",
       "\n"
      ],
      "text/plain": [
       "  country year gdp_pc gdp_pc_in_1000s gdppc_1k\n",
       "1 china   1995  5549   5.549           5.549  \n",
       "2 china   1996 19660  19.660          19.660  \n",
       "3 sudan   1995  7658   7.658           7.658  \n",
       "4 sudan   1996  5971   5.971           5.971  \n",
       "5 usa     1995 15058  15.058          15.058  \n",
       "6 usa     1996  2965   2.965           2.965  "
      ]
     },
     "metadata": {},
     "output_type": "display_data"
    }
   ],
   "source": [
    "countries_new <- countries %>%\n",
    "    filter(year != 1994) %>%\n",
    "    arrange(country) %>%\n",
    "    mutate(country = tolower(country), gdppc_1k = gdp_pc / 1000)\n",
    "countries_new"
   ]
  },
  {
   "cell_type": "markdown",
   "id": "50697777",
   "metadata": {},
   "source": [
    "Chaining always begins with specifying the data frame we want to operate on (e.g.,\n",
    "`countries`).  Every subsequent statement will then operate on this data frame, starting with the function that comes right after the data frame and working its way down.  In our case, the first thing we'll do to `countries` is to subset it. We'll then sort it by country name. Lastly, we'll overwrite the country name to be lower-case and create a new variable representing GDP per capita in 1000s.\n",
    "\n",
    "Is chaining *better*? Some people find chaining makes code more readable. It certainly makes it more concise. \n",
    "\n",
    "Personally, my preference is actually to break down long manipulations like this into a series of distinct commands because it allows me to look at each intermediate step and make sure I didn't mess something up. And as we'll discuss in a later reading, I think you should *always* assume you've messed something up, because humans are bad at programming! But again, chaining is definitely the more popular approach to R these days, so it's important to introduce!"
   ]
  },
  {
   "cell_type": "markdown",
   "id": "3c6d94af",
   "metadata": {},
   "source": [
    "## Summing Up\n",
    "\n",
    "In conclusion, dplyr allows you to write more concise commands with more familiar terminology -- `select` and `rename` rather than array notation. Chaining, similarly, can definitely make code more concise. As a result, many people are drawn to dplyr, and you may be too! And while I do have some mis-givings about it, I can certainly appreciate the draw.\n",
    "\n",
    "So should you use it? That's up to you! At this point, you know enough about the different approaches to dataframe manipulation that you can make your own educated decision, and change that decision in the future if you want. \n",
    "\n",
    "### Want to Learn More?\n",
    "\n",
    "If there's anything the tidyverse is good at, it's documentation! [Here are the docs for dplyr.](https://dplyr.tidyverse.org/)\n",
    "\n"
   ]
  }
 ],
 "metadata": {
  "jupytext": {
   "cell_metadata_filter": "tags,eval,-all",
   "main_language": "R",
   "notebook_metadata_filter": "-all"
  },
  "kernelspec": {
   "display_name": "R",
   "language": "R",
   "name": "ir"
  },
  "language_info": {
   "codemirror_mode": "r",
   "file_extension": ".r",
   "mimetype": "text/x-r-source",
   "name": "R",
   "pygments_lexer": "r",
   "version": "4.1.0"
  }
 },
 "nbformat": 4,
 "nbformat_minor": 5
}
