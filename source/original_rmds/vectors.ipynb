{
 "cells": [
  {
   "cell_type": "raw",
   "id": "c7f2e2a3",
   "metadata": {},
   "source": [
    "---\n",
    "title: Vectors\n",
    "author: <a href=\"http://stanford.edu/~ejdemyr/\"> Simon Ejdemyr </a> \n",
    "date: December, 2015\n",
    "summary: This tutorial introduces a key object in R&#58; vectors. Vectors have one\n",
    " dimension that represents some concept or fact about the\n",
    " world. Examples include age, height, eye color, GDP per capita, and\n",
    " war initiation. The tutorial explains how to create different types of\n",
    " vectors, how to subset them, how to modify them, and how to summarize\n",
    " them.\n",
    "related: <a href=\"../introduction\">Introduction</a>\n",
    "         <a href=\"../dataset-basics\">Dataset basics</a> \n",
    "         <a href=\"../modifying-data\">Modifying data</a>\n",
    "output:\n",
    "  html_document:\n",
    "     template: ../template/r-tutorial-template-v2.html\n",
    "     mathjax: null\n",
    "---"
   ]
  },
  {
   "cell_type": "markdown",
   "id": "fcc54ebf",
   "metadata": {},
   "source": []
  },
  {
   "cell_type": "markdown",
   "id": "ea487346",
   "metadata": {},
   "source": [
    "Creating vectors\n",
    "================\n",
    "\n",
    "We'll create three types of vectors: numeric, character, and logical.\n",
    "Here are examples of each type: "
   ]
  },
  {
   "cell_type": "code",
   "execution_count": null,
   "id": "2ec8aebd",
   "metadata": {},
   "outputs": [],
   "source": [
    "# Numeric vectors \n",
    "n1 <- 20\n",
    "n2 <- c(20, 25, 60, 55)\n",
    "\n",
    "# Character vectors\n",
    "c1 <- \"Blue\"\n",
    "c2 <- c(\"Red\", \"Green\", \"Purple\")\n",
    "\n",
    "# Logical vectors\n",
    "l1 <- TRUE\n",
    "l2 <- c(TRUE, FALSE, TRUE) "
   ]
  },
  {
   "cell_type": "markdown",
   "id": "b138324c",
   "metadata": {},
   "source": [
    "Note that vectors can consist of one or many *elements*. Three\n",
    "common ways to create vectors with more than one element is to use `c()`,\n",
    "`seq()`, or `rep()`.\n",
    "\n",
    "<span class=\"fw\"> c() </span>\n",
    "-------------------------\n",
    "\n",
    "As illustrated above, one very common way to create vectors with more\n",
    "than one element is to use `c()` (\"concatenate\"), which simply combines\n",
    "whatever values you specify in the parentheses.\n",
    "\n",
    "<span class=\"fw\"> seq() </span>\n",
    "-------------------------\n",
    "\n",
    "`seq()` applies to numeric vectors only: "
   ]
  },
  {
   "cell_type": "code",
   "execution_count": null,
   "id": "edf57a5f",
   "metadata": {},
   "outputs": [],
   "source": [
    "n1 <- seq(from = 0, to = 10, by = 2)   #using 'by'\n",
    "n1\n",
    "n2 <- seq(from = 0, to = 10, length.out = 5)   #using 'length.out'\n",
    "n2\n",
    "n3 <- seq(1, 2, 0.1)   #no argument names specified; automatically uses 'from', 'to', 'by'\n",
    "n3\n",
    "n4 <- 1:5    #shortcut for integer sequence; same as 'seq(1, 5, 1)'\n",
    "n4"
   ]
  },
  {
   "cell_type": "markdown",
   "id": "52d782f5",
   "metadata": {},
   "source": [
    "`seq()` by default takes three parameters: starting value, end\n",
    "value, and a value that specifies how elements will be incremented\n",
    "(\"by\"), which can be substituted with \"length.out\". Integer sequences can\n",
    "be created using a colon.\n",
    "\n",
    "<div class=\"general-note\">\n",
    "\n",
    "<strong> General note about argument names: </strong> A function's\n",
    "argument names need not be specified, as illustrated when we created\n",
    "`n3`. If they are not specified, R uses arguments based on a default\n",
    "order. One way to learn about this order is to use `?` (e.g.,\n",
    "`?seq`). If you specify the argument names, the order doesn't matter.\n",
    "Putting all this together, hopefully it's obvious why `seq(by = -1,\n",
    "from = 10, to = 2)` is the same as `seq(10, 2, -1)`.\n",
    "\n",
    "</div>"
   ]
  },
  {
   "cell_type": "markdown",
   "id": "4900626f",
   "metadata": {},
   "source": [
    "<span class=\"fw\"> rep() </span>\n",
    "------------------------------\n",
    "\n",
    "Vectors can also be created using `rep()`. As the name implies, this\n",
    "function is useful if you want to *repeat* an element or elements."
   ]
  },
  {
   "cell_type": "code",
   "execution_count": null,
   "id": "e8dc9998",
   "metadata": {},
   "outputs": [],
   "source": [
    "rep(1, 5)\n",
    "rep(\"blue\", 3)\n",
    "rep(TRUE, 4)"
   ]
  },
  {
   "cell_type": "markdown",
   "id": "47f9936b",
   "metadata": {},
   "source": [
    "As should be obvious, the first parameter in the function specifies\n",
    "the element to repeat, and the second the number of times to repeat it."
   ]
  },
  {
   "cell_type": "markdown",
   "id": "7a0735d1",
   "metadata": {},
   "source": [
    "Using more than one function\n",
    "----------------------------\n",
    "\n",
    "Perhaps the most powerful use of these functions comes from combining them.\n",
    "Here are a two examples:"
   ]
  },
  {
   "cell_type": "code",
   "execution_count": null,
   "id": "ec21e369",
   "metadata": {},
   "outputs": [],
   "source": [
    "rep(c(\"blue\", \"red\"), 3)\n",
    "c(rep(seq(0, 6, 2), 2), 4:1) "
   ]
  },
  {
   "cell_type": "markdown",
   "id": "7699830f",
   "metadata": {},
   "source": [
    "The second example is somewhat hard to follow, and is probably at the\n",
    "limit of complexity in terms of how many functions we want to combine. Separating\n",
    "a task into multiple lines of codes can help. "
   ]
  },
  {
   "cell_type": "code",
   "execution_count": null,
   "id": "61434272",
   "metadata": {
    "lines_to_next_cell": 2
   },
   "outputs": [],
   "source": [
    "s <- rep(seq(0, 6, 2), 2)\n",
    "c(s, 4:1)"
   ]
  },
  {
   "cell_type": "markdown",
   "id": "a66a80ca",
   "metadata": {},
   "source": [
    "Subsetting vectors\n",
    "======================\n",
    "\n",
    "Extracting a subset of elements from a vector is an extremely\n",
    "important task, not least because it generalizes nicely to datasets\n",
    "(which are at the heart of data science). This process --- whether\n",
    "applied to a vector or a dataset --- is often referred to as \"taking a\n",
    "subset\", \"subsetting\", or \"filtering\". If there is one skill you need\n",
    "to master as quickly as possible, it's this.\n",
    "\n",
    "In R, there are three ways to filter a vector: using a separate\n",
    "logical vector, using indexing, and using names. I tend to use the\n",
    "first method most, but all three are useful.\n",
    "\n",
    "Subsetting with logicals \n",
    "---------------------\n",
    "\n",
    "Let's jump right into an example. Say we have a character vector\n",
    "with only two elements (\"apple\" and \"banana\"). Subsetting it to\n",
    "\"apple\" could be done like so: "
   ]
  },
  {
   "cell_type": "code",
   "execution_count": null,
   "id": "52c36771",
   "metadata": {},
   "outputs": [],
   "source": [
    "fruits <- c(\"apple\", \"banana\")\n",
    "fruits[c(TRUE, FALSE)]"
   ]
  },
  {
   "cell_type": "markdown",
   "id": "b6ddc307",
   "metadata": {},
   "source": [
    "Note the use of brackets, `[]` --- this is common when filtering.\n",
    "Within these brackets is a vector with the same number of logical\n",
    "elements as there are elements in the vector you want to\n",
    "subset. Elements across the two vectors are matched by order: elements\n",
    "that match with `TRUE` are kept while elements that match with `FALSE`\n",
    "are dropped.\n",
    "\n",
    "This process is extremely useful when combined with a *logical\n",
    "operation*.  Please familiarize yourself with the logical operations\n",
    "listed [here](http://www.statmethods.net/management/operators.html).\n",
    "For example, using a logical operation we can filter a large vector of\n",
    "oranges, apples and bananas:"
   ]
  },
  {
   "cell_type": "code",
   "execution_count": null,
   "id": "a6386549",
   "metadata": {},
   "outputs": [],
   "source": [
    "# Create a vector with 30 fruits \n",
    "fruits <- rep(c(\"orange\", \"apple\", \"banana\"), 10)\n",
    "fruits \n",
    "\n",
    "# Create a logical vector for dropping bananas\n",
    "# Note: I'm creating the exact same logical vector three times (overriding it each time)\n",
    "# This is for illustrative purposes; using one of these is sufficient\n",
    "lv <- fruits == \"orange\" | fruits == \"apple\" \n",
    "lv <- fruits != \"banana\" \n",
    "lv <- fruits %in% c(\"orange\", \"apple\")\n",
    "lv\n",
    "\n",
    "# Carry out the subset\n",
    "fruits[lv]"
   ]
  },
  {
   "cell_type": "markdown",
   "id": "4162f2ab",
   "metadata": {},
   "source": [
    "We applied the same logic as above: We have a vector (`fruits`) that\n",
    "we want to subset. We do so using a logical vector (`lv`), where\n",
    "elements that match with `TRUE` are kept. The only difference here is\n",
    "that we create the logical vector with a logical operation. The logical\n",
    "operators (e.g., `!=`, `|`) used here are discussed in the link above,\n",
    "with the exception of `%in%`. \n",
    "\n",
    "<div class=\"general-note\">\n",
    "\n",
    "<strong> General note about `%in%`: </strong> This operator is\n",
    "extremely useful as an alternative for repeated \"or\" (`|`) statements.\n",
    "For example, say you have a vector with 10 types of fruits and you\n",
    "want to keep elements that are equal to \"orange\", \"apple\", \"mango\",\n",
    "\"mandarin\", or \"kiwi\". You could accomplish this by creating a logical\n",
    "vector like so: `lv <- fruits == \"orange\" | fruits == \"apple\" | fruits\n",
    "== \"mango\" | fruits == \"mandarin\" | fruits == \"kiwi\"`.  <br> What a\n",
    "nighmarishly long statement compared to the `%in%` option that\n",
    "accomplishes the exact same thing: `lv <- fruits %in% c(\"orange\",\n",
    "\"apple\", \"mango\", \"mandarin\", \"kiwi\")`.\n",
    "\n",
    "</div>\n",
    "\n",
    "Of course, subsetting using logicals can also be done on numeric vectors.\n",
    "Here are a few examples:"
   ]
  },
  {
   "cell_type": "code",
   "execution_count": null,
   "id": "ce8d49cd",
   "metadata": {},
   "outputs": [],
   "source": [
    "# Create a numeric vector\n",
    "numbers <- seq(0, 100, by = 10)\n",
    "numbers\n",
    "\n",
    "# Illustrate three different filters\n",
    "numbers[numbers <= 50 & numbers != 30]\n",
    "numbers[numbers == 0 | numbers == 100]\n",
    "numbers[numbers > 100] #returns an empty vector"
   ]
  },
  {
   "cell_type": "markdown",
   "id": "58848de9",
   "metadata": {},
   "source": [
    "Note that I didn't create logical objects to carry out the subsets here,\n",
    "as opposed to above where we explicitly defined `lv`. I find it more\n",
    "compact and intuitive to take subsets without first creating a logical\n",
    "vector."
   ]
  },
  {
   "cell_type": "markdown",
   "id": "a8118b94",
   "metadata": {},
   "source": [
    "Subsetting using indexing\n",
    "---------------------\n",
    "\n",
    "A different way to subset a vector is to specify the index or indeces\n",
    "you want to keep, again using brackets. Here are a few examples:"
   ]
  },
  {
   "cell_type": "code",
   "execution_count": null,
   "id": "cfd3dfa5",
   "metadata": {},
   "outputs": [],
   "source": [
    "fruits <- c(\"apple\", \"banana\")\n",
    "fruits[1]\n",
    "fruits <- rep(c(\"orange\", \"apple\", \"banana\"), 10)\n",
    "fruits[c(10, 20)]\n",
    "fruits[seq(1, 30, by = 5)]"
   ]
  },
  {
   "cell_type": "markdown",
   "id": "32dedd3c",
   "metadata": {},
   "source": [
    "I sometimes use this when I want to inspect or modify an\n",
    "element that I know occurs at a specific index in the vector, a more\n",
    "manual approach than using logical statements. \n",
    "\n",
    "Subsetting using indexing can also be used in *random sampling*,\n",
    "which has many important applications --- for example, in experiments\n",
    "and when you want to test-run code on a representative subset of your\n",
    "data. So, let's introduce the `sample()` function:"
   ]
  },
  {
   "cell_type": "code",
   "execution_count": null,
   "id": "d229570c",
   "metadata": {},
   "outputs": [],
   "source": [
    "# Draw 10 elements at random from 1 to 100 \n",
    "sample(1:100, size = 10)"
   ]
  },
  {
   "cell_type": "markdown",
   "id": "53a2e951",
   "metadata": {},
   "source": [
    "The function takes a vector of values (often successive integer\n",
    "values) and an argument that specifies how many values to draw at\n",
    "random from this vector.  We can use the resulting values as\n",
    "indeces to subset another vector: "
   ]
  },
  {
   "cell_type": "code",
   "execution_count": null,
   "id": "22ff2f5d",
   "metadata": {},
   "outputs": [],
   "source": [
    "fruits <- rep(c(\"orange\", \"apple\", \"banana\"), 10)\n",
    "fruits[sample(1:30, size = 5)]"
   ]
  },
  {
   "cell_type": "markdown",
   "id": "4a63137c",
   "metadata": {},
   "source": [
    "Here, we're drawing a random sample of five elements from the vector\n",
    "`fruits`.  Why did I specify `1:30`? Well, `fruits` consists of 30\n",
    "elements, so specifying something like `1:100` likely would have\n",
    "resulted in sampled values outside the bounds of the vector (e.g.,\n",
    "`fruits[35]` doesn't exist).  Specifying `1:30` gives every element in\n",
    "`fruits` an equal chance of being included in the sample.\n",
    "\n",
    "Subsetting using names\n",
    "---------------------\n",
    "\n",
    "Lastly, we can assign names to each element in a vector and take a\n",
    "subset based on the names."
   ]
  },
  {
   "cell_type": "code",
   "execution_count": null,
   "id": "cfba20b7",
   "metadata": {},
   "outputs": [],
   "source": [
    "age <- c(50, 55, 80)\n",
    "names(age) <- c(\"mom\", \"dad\", \"grandpa\")\n",
    "age #note that values now have names \n",
    "age[c(\"dad\", \"grandpa\")] #subset"
   ]
  },
  {
   "cell_type": "markdown",
   "id": "0b8320cc",
   "metadata": {},
   "source": [
    "That is, we have a vector representing the age of three family\n",
    "members.  We assign names to each value, and then keep the values\n",
    "associated with two of the family members."
   ]
  },
  {
   "cell_type": "markdown",
   "id": "74f9cebe",
   "metadata": {},
   "source": [
    "Modifying vectors\n",
    "=====================\n",
    "\n",
    "The subsetting logic from above can be used to modify vectors. The\n",
    "idea here is that instead of keeping elements that meet a logical\n",
    "condition or occur at a specific index, we can change them. For example,\n",
    "what if we had mis-entered grandpa's age above? We can fix it using indexing,\n",
    "a logical statement, or naming. "
   ]
  },
  {
   "cell_type": "code",
   "execution_count": null,
   "id": "f28b6537",
   "metadata": {},
   "outputs": [],
   "source": [
    "# Recreate vector with age values from above\n",
    "age <- c(50, 55, 80)\n",
    "names(age) <- c(\"mom\", \"dad\", \"grandpa\")\n",
    "\n",
    "# Three ways of changing grandpa's age\n",
    "# Note: you'd only need to use one of these\n",
    "age[age == 80] <- 82 #using a logical statement\n",
    "age[3] <- 82 #using indexing\n",
    "age[\"grandpa\"] <- 82 #using naming\n",
    "age"
   ]
  },
  {
   "cell_type": "markdown",
   "id": "a678802a",
   "metadata": {},
   "source": [
    "A logical statement is most efficient when we need to change a lot\n",
    "of elements."
   ]
  },
  {
   "cell_type": "code",
   "execution_count": null,
   "id": "cc3e37f0",
   "metadata": {},
   "outputs": [],
   "source": [
    "fruits <- rep(c(\"orange\", \"apple\", \"bamama\"), 5) \n",
    "fruits #bamamas anyone? \n",
    "\n",
    "# Let's fix the misspelled element\n",
    "fruits[fruits == \"bamama\"] <- \"banana\"\n",
    "fruits"
   ]
  },
  {
   "cell_type": "markdown",
   "id": "de947923",
   "metadata": {},
   "source": [
    "Vector arithmetics\n",
    "--------------------\n",
    "\n",
    "We can modify or create new numeric vectors using arithmetic\n",
    "operations. Three common types of operations involve: \n",
    "\n",
    "1. A vector with more than one element and a vector with only one element.\n",
    "2. Two vectors with the same number of elements. Elements are matched\n",
    "based on index.\n",
    "3. A vector modified by a function. \n",
    "\n",
    "In all cases, we can modify all elements of a vector or only a subset\n",
    "of elements using the bracket notation we learned above. \n"
   ]
  },
  {
   "cell_type": "code",
   "execution_count": null,
   "id": "d0df6f7c",
   "metadata": {},
   "outputs": [],
   "source": [
    "numbers <- 1:10\n",
    "numbers\n",
    "\n",
    "# One value modifying all values in a vector \n",
    "numbers <- numbers / 10\n",
    "numbers \n",
    "\n",
    "# One value modifying a subset of a vector \n",
    "numbers[numbers > 0.5] <- numbers[numbers > 0.5] * 100\n",
    "numbers\n",
    "\n",
    "# Two vectors with the same number of elements \n",
    "numbers1 <- 1:10\n",
    "numbers2 <- 10:1\n",
    "numbers3 <- numbers2 - numbers1\n",
    "numbers3\n",
    "\n",
    "# Replacing a subset of a vector using another vector\n",
    "numbers <- 1:10\n",
    "numbers[numbers > 5] <- 5:1\n",
    "numbers\n",
    "\n",
    "# Modify a vector (or a subset of a vector) using a function\n",
    "numbers <- 1:10\n",
    "sqrt(numbers) #square root\n",
    "exp(numbers) #exponentiate\n",
    "log(numbers[c(1, 5, 10)]) #natural log"
   ]
  },
  {
   "cell_type": "markdown",
   "id": "29f08a30",
   "metadata": {},
   "source": [
    "Vector arithmetics can also be carried out in R on two multi-value\n",
    "vectors with different number of elements. Such operations use\n",
    "the [recycling rule](http://www.r-tutor.com/r-introduction/vector/vector-arithmetics).\n"
   ]
  },
  {
   "cell_type": "markdown",
   "id": "be727f5a",
   "metadata": {},
   "source": [
    "Summarizing vectors \n",
    "===========================\n",
    "\n",
    "We often want to get summary statistics from a vector --- that is,\n",
    "learn something general about it by looking beyond its constituent\n",
    "elements. If we have a vector in which each element represents a\n",
    "person's height, we may want to know who the shortest or tallest\n",
    "person is, what the median or mean height is, what the standard\n",
    "deviation is, etc. Here are common summary facts for vectors:"
   ]
  },
  {
   "cell_type": "code",
   "execution_count": null,
   "id": "900d7a42",
   "metadata": {},
   "outputs": [],
   "source": [
    "numbers <- sample(1:1000, 10)\n",
    "numbers\n",
    "\n",
    "class(numbers) #check the class\n",
    "length(numbers) #number of elements \n",
    "max(numbers) #maximum value\n",
    "min(numbers) #minimum value\n",
    "sum(numbers) #sum of all values in the vector\n",
    "mean(numbers) #mean\n",
    "median(numbers) #median\n",
    "var(numbers) #variance\n",
    "sd(numbers) #standard deviation\n",
    "quantile(numbers) #percentiles in intervals of .25 \n",
    "quantile(numbers, probs = seq(0, 1, 0.1)) #percentiles in invervals of 0.1\n",
    "summary(numbers) #function that contains many summary stats from above"
   ]
  },
  {
   "cell_type": "markdown",
   "id": "030ca5d2",
   "metadata": {},
   "source": [
    "If you forget one of these functions or if I haven't included one here\n",
    "that you need, google almost surely has the answer for you. Also note\n",
    "that some of the operations above --- most notably `class()` and\n",
    "`length()` --- apply to non-numeric vectors."
   ]
  },
  {
   "cell_type": "markdown",
   "id": "e038df8c",
   "metadata": {},
   "source": [
    "Code generalization\n",
    "-------------\n",
    "\n",
    "We want our code to be as general as possible so that it can be\n",
    "reapplied to a different coding task or if the data change.\n",
    "Commands that summarize vectors can be useful to accomplish this. \n",
    "\n",
    "Remember above when we found a random sample of `fruits`?  Here is\n",
    "more or less the code we used:"
   ]
  },
  {
   "cell_type": "code",
   "execution_count": null,
   "id": "d00adeff",
   "metadata": {},
   "outputs": [],
   "source": [
    "fruits <- rep(c(\"orange\", \"apple\", \"banana\"), 10)\n",
    "length(fruits) \n",
    "random_sample <- fruits[sample(1:30, size = 5)]\n",
    "random_sample"
   ]
  },
  {
   "cell_type": "markdown",
   "id": "472122b4",
   "metadata": {},
   "source": [
    "The third line, where we create `random_sample`, is not very\n",
    "general. Why? In this case, `fruits` has 30 elements.  What if it\n",
    "instead had 50 elements? *Then the third line would not give us a\n",
    "random sample.* Or more precisely, this line would give us a random\n",
    "sample of the 30 first elements of fruits --- the last 20 elements\n",
    "would not have a chance of being included. We could modify the third\n",
    "line to read `random_sample <- fruits[sample(1:50, size = 5)]`.  But\n",
    "if we then modified `fruits` to have a different number of elements\n",
    "again we'd end up with the same problem.\n",
    "\n",
    "Here's the solution: find the number of elements of fruits using\n",
    "`length()` and then input this as an argument in the `sample()`\n",
    "function."
   ]
  },
  {
   "cell_type": "code",
   "execution_count": null,
   "id": "8af42f6b",
   "metadata": {},
   "outputs": [],
   "source": [
    "fruits <- rep(c(\"orange\", \"apple\", \"banana\"), 100)\n",
    "n <- length(fruits) #store the result of length() in an object \n",
    "n\n",
    "\n",
    "random_sample <- fruits[sample(1:n, size = 5)] #now use 'n' in the sample() function\n",
    "random_sample\n",
    "\n",
    "# Or we could have used length() directly in the sample() function\n",
    "# Note: Accomplishes the same thing as first creating 'n'\n",
    "random_sample <- fruits[sample(1:length(fruits), size = 5)]"
   ]
  },
  {
   "cell_type": "markdown",
   "id": "22217d63",
   "metadata": {},
   "source": [
    "<div style=\"margin-top: 15px\"> </div>\n",
    "\n",
    "Exercises\n",
    "=============================\n",
    "\n",
    "Create a vector that represents the age of at least four different family\n",
    "members or friends. You can name it whatever you want.\n",
    "\n",
    "1. What is the mean age of the people in your vector? Find out in two ways,\n",
    "with and without using the `mean()` command.\n",
    "\n",
    "2. How old is the youngest person in your vector? (Use an R command to find out.)\n",
    "\n",
    "3. What is the age gap between the youngest person and the oldest person in your vector?\n",
    "(Again use R to find out, and try to be as general as possible in the sense that\n",
    "your code should work even if the elements in your vector, or their order, change.)\n",
    "\n",
    "4. How many people in your vector are above age 25? (Again, try to make your code\n",
    "work even in the case that your vector changes.)\n",
    "\n",
    "5. Replace the age of the oldest person in your vector with the age of someone\n",
    "else you know.\n",
    "\n",
    "6. Create a new vector that indicates how old each person in your vector\n",
    "will be in 10 years.\n",
    "\n",
    "7. Create a new vector that indicates what year each person in your vector\n",
    "will turn 100 years old.\n",
    "\n",
    "8. Create a new vector with a random sample of 3 individuals from your\n",
    "original vector. What is the mean age of the people in this new\n",
    "vector?\n"
   ]
  }
 ],
 "metadata": {
  "jupytext": {
   "cell_metadata_filter": "-all",
   "main_language": "R",
   "notebook_metadata_filter": "-all"
  }
 },
 "nbformat": 4,
 "nbformat_minor": 5
}
