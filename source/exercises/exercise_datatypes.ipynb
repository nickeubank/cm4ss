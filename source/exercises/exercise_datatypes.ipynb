{
    "cells": [
        {
            "cell_type": "markdown",
            "source": [
                "# Practicing Assignment and Data Types"
            ],
            "metadata": {}
        },
        {
            "cell_type": "markdown",
            "source": [
                "Hello and welcome to your first R exercises!\n",
                "\n",
                "\n",
                "## Exercise 1: Assigning values\n",
                "\n",
                "\n",
                "Assign the numeric value 42 to a variable called `the_answer`. Now create a new variable (you can call it whatever you want) that is equal to double `the_answer`.\n",
                "\n",
                "## Exercise 2: Different types\n",
                "\n",
                "1. Create a variable called `my_age` and set it equal to your age\n",
                "2. Check the class of `my_age` using the `class()` function.\n",
                "3. Create a variable called `my_dog` and set it equal to the name of your dog. (If you do not have a dog, pretend you do What's your pretend dog's name?)\n",
                "4. What's the class of `my_dog`?\n",
                "5. Now the weird one. Create a variable called `ten` and assign in the value `\"10\"` in quotes. What's the class of `ten`? Why is it not numeric?\n",
                "6. What happens if you add `my_age` and `ten`?\n",
                "7. To convert `ten` to a numeric type, type `ten = as.numeric(ten)`. Now check it's class again.\n",
                "8. Now can you add `my_age` to `ten`?"
            ],
            "metadata": {}
        }
    ],
    "metadata": {
        "orig_nbformat": 4,
        "language_info": {
            "name": "r"
        }
    },
    "nbformat": 4,
    "nbformat_minor": 2
}