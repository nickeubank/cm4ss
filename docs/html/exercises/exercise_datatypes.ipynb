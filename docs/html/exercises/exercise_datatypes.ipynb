{
 "cells": [
  {
   "cell_type": "markdown",
   "metadata": {},
   "source": [
    "# Practicing Assignment and Data Types"
   ]
  },
  {
   "cell_type": "markdown",
   "metadata": {},
   "source": [
    "1. Create a variable called `my_age` and set it equal to your age\n",
    "2. Check the class of `my_age` using the `class()` function.\n",
    "3. Create a variable called `my_dog` and set it equal to the name of your dog. (If you do not have a dog, pretend you do What's your pretend dog's name?)\n",
    "4. What's the class of `my_dog`?\n",
    "5. Now the weird one. Create a variable called `seven` and assign in the value `\"7\"` in quotes. What's the class of `7`? Why is it not numeric?\n",
    "6. What happens if you add `my_age` and `seven`?\n",
    "7. To convert `seven` to a numeric type, type `seven = as.numeric(seven)`. Now check it's class again.\n",
    "8. Now can you add `my_age` to `seven`?"
   ]
  }
 ],
 "metadata": {
  "kernelspec": {
   "display_name": "R",
   "language": "R",
   "name": "ir"
  },
  "language_info": {
   "name": "R"
  }
 },
 "nbformat": 4,
 "nbformat_minor": 2
}
